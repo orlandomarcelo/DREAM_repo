{
 "cells": [
  {
   "cell_type": "code",
   "execution_count": 1,
   "id": "b7718ee5-9d89-4bbb-ae36-d3cf94d9b58e",
   "metadata": {},
   "outputs": [],
   "source": [
    "import numpy as np\n",
    "import pandas as pd\n",
    "#import anndata as ad\n",
    "#import scanpy as sc\n",
    "import matplotlib.pyplot as plt\n",
    "from scipy.sparse import csr_matrix\n",
    "from activation_experiment import activation_experiment\n",
    "import itertools\n",
    "import copy\n",
    "%matplotlib qt"
   ]
  },
  {
   "cell_type": "code",
   "execution_count": 5,
   "id": "6ea13c90-d7ad-44aa-a287-93be85587ef7",
   "metadata": {},
   "outputs": [
    {
     "ename": "NameError",
     "evalue": "name 'sc' is not defined",
     "output_type": "error",
     "traceback": [
      "\u001b[1;31m---------------------------------------------------------------------------\u001b[0m",
      "\u001b[1;31mNameError\u001b[0m                                 Traceback (most recent call last)",
      "Input \u001b[1;32mIn [5]\u001b[0m, in \u001b[0;36m<module>\u001b[1;34m\u001b[0m\n\u001b[1;32m----> 1\u001b[0m \u001b[43msc\u001b[49m\u001b[38;5;241m.\u001b[39msettings\u001b[38;5;241m.\u001b[39mverbosity \u001b[38;5;241m=\u001b[39m \u001b[38;5;241m3\u001b[39m             \u001b[38;5;66;03m# verbosity: errors (0), warnings (1), info (2), hints (3)\u001b[39;00m\n\u001b[0;32m      2\u001b[0m sc\u001b[38;5;241m.\u001b[39mlogging\u001b[38;5;241m.\u001b[39mprint_header()\n\u001b[0;32m      3\u001b[0m sc\u001b[38;5;241m.\u001b[39msettings\u001b[38;5;241m.\u001b[39mset_figure_params(dpi\u001b[38;5;241m=\u001b[39m\u001b[38;5;241m80\u001b[39m, facecolor\u001b[38;5;241m=\u001b[39m\u001b[38;5;124m'\u001b[39m\u001b[38;5;124mwhite\u001b[39m\u001b[38;5;124m'\u001b[39m)\n",
      "\u001b[1;31mNameError\u001b[0m: name 'sc' is not defined"
     ]
    }
   ],
   "source": [
    "sc.settings.verbosity = 3             # verbosity: errors (0), warnings (1), info (2), hints (3)\n",
    "sc.logging.print_header()\n",
    "sc.settings.set_figure_params(dpi=80, facecolor='white')\n",
    "\n"
   ]
  },
  {
   "cell_type": "code",
   "execution_count": 2,
   "id": "81dfc214-c3b9-46b5-bdf9-e20082c54a00",
   "metadata": {},
   "outputs": [
    {
     "data": {
      "text/plain": [
       "'\\n\\nfolder = \"Data_for_scanpy/FOLDER_2022_03_22_CC_124_activated_IBPC_sync\"\\nexp_description.append(\"CC_124 activated IBPC\")\\nexp_set.append(activation_experiment(folder))\\nexp_position.append(1)\\n\\n\\nfolder = \"Data_for_scanpy/FOLDER_2022_03_23_npq4_activated_IBPC_sync\"\\nexp_description.append(\"npq4 IBPC\")\\nexp_set.append(activation_experiment(folder))\\nexp_position.append(1)\\n\\n\\nfolder = \"Data_for_scanpy/FOLDER_2022_03_24_stt71_activated_IBPC_sync\"\\nexp_description.append(\"stt71 IBPC\")\\nexp_set.append(activation_experiment(folder))\\nexp_position.append(1)\\n\\n\\n\\nfolder = \"Data_for_scanpy/FOLDER_2022_03_25_wt4_activated_IBPC_sync\"\\nexp_description.append(\"wt4 IBPC\")\\nexp_set.append(activation_experiment(folder))\\nexp_position.append(1)\\n\\n\\nfolder = \"Data_for_scanpy/FOLDER_2022_03_31_STT71_polyculture_slow_activateion_45min\"\\nexp_description.append(\"stt7-45min ENS\")\\nexp_set.append(activation_experiment(folder))\\nexp_position.append(0)\\n\\n\\nfolder = \"Data_for_scanpy/FOLDER_2022_02_22_HL_chunks_WT4_backup\"\\nexp_description.append(\"wt4-2H ENS not activated\")\\nexp_set.append(activation_experiment(folder))\\nexp_position.append(0)\\n\\n\\nfolder = \"Data_for_scanpy/FOLDER_2022_02_22_HL_chunks_WT4_backup\"\\nexp_description.append(\"wt4-2H ENS activated\")\\nexp_set.append(activation_experiment(folder))\\nexp_position.append(1)\\n\\nfolder = \"Data_for_scanpy/FOLDER_2022_04_05_WT4_monoclonal_synchro_ENS_4H\"\\nexp_description.append(\"wt4-4H-monoclonal_synchro\")\\nexp_set.append(activation_experiment(folder))\\n\\nfolder = \"Data_for_scanpy/FOLDER_2022_04_06_stt71_scl1_monoclonal_synchro_ENS_4H\"\\nexp_description.append(\"stt7-4H-monoclonal_synchro\")\\nexp_set.append(activation_experiment(folder))\\n\\n\\nfolder = \"Data_for_scanpy/FOLDER_2022_04_07_stt71_scl3_monoclonal_synchro_ENS_4H\"\\nexp_description.append(\"stt7-scl3-4H-monoclonal_synchro\")\\nexp_set.append(activation_experiment(folder))\\n\\n\\n\\n\\nfolder = \"Data_for_scanpy/FOLDER_2022_03_29_4H_ENS_CC_124_sync\"\\nexp_description.append(\"CC_124_ENS_test1\")\\nexp_set.append(activation_experiment(folder))\\n\\n\\n\\n\\nfolder = \"Data_for_scanpy/FOLDER_2022_03_30_4H_ENS_CC_124_sync\"\\nexp_description.append(\"CC_124_ENS_test2\")\\nexp_set.append(activation_experiment(folder))\\n\\n'"
      ]
     },
     "execution_count": 2,
     "metadata": {},
     "output_type": "execute_result"
    }
   ],
   "source": [
    "exp_set = []\n",
    "exp_description = []\n",
    "exp_position = []\n",
    "exp_strain = []\n",
    "photoinhibition_status = []\n",
    "qE_status = []\n",
    "qT_status = []\n",
    "\n",
    "#0:stt71\n",
    "#1:wt4\n",
    "#2:npq4\n",
    "#3:cc124\n",
    "#4:WT222\n",
    "\n",
    "if True:\n",
    "\n",
    "    folder = \"Data_for_scanpy/FOLDER_2022_03_10_activation_4H_ENS_stt7\"\n",
    "    exp_description.append(\"stt7\")\n",
    "    exp_set.append(activation_experiment(folder))\n",
    "    exp_position.append(2)\n",
    "    exp_strain.append(0)\n",
    "    photoinhibition_status.append(0)\n",
    "    qE_status.append(0)\n",
    "    qT_status.append(0)\n",
    "\n",
    "if True:\n",
    "\n",
    "    folder = \"Data_for_scanpy/FOLDER_2022_03_10_activation_4H_ENS_stt7\"\n",
    "    exp_description.append(\"stt7 qI\")\n",
    "    exp_set.append(activation_experiment(folder))\n",
    "    exp_position.append(0)\n",
    "    exp_strain.append(0)\n",
    "    photoinhibition_status.append(1)\n",
    "    qE_status.append(0)\n",
    "    qT_status.append(0)\n",
    "    \n",
    "if True:\n",
    "\n",
    "    folder = \"Data_for_scanpy/FOLDER_2022_03_10_activation_4H_ENS_stt7\"\n",
    "    exp_description.append(\"stt7 qI qE\")\n",
    "    exp_set.append(activation_experiment(folder))\n",
    "    exp_position.append(1)\n",
    "    exp_strain.append(0)\n",
    "    photoinhibition_status.append(1)\n",
    "    qE_status.append(1)\n",
    "    qT_status.append(0)\n",
    "\n",
    "#################################    \n",
    "\n",
    "if False:\n",
    "\n",
    "    folder = \"Data_for_scanpy/FOLDER_2022_03_08_activation_4H_ENS_wt4\"\n",
    "    exp_description.append(\"wt4 qT\")\n",
    "    exp_set.append(activation_experiment(folder))\n",
    "    exp_position.append(2)\n",
    "    exp_strain.append(1)\n",
    "    photoinhibition_status.append(0)\n",
    "    qE_status.append(0)\n",
    "    qT_status.append(1)\n",
    "\n",
    "if True: \n",
    "    folder = \"Data_for_scanpy/FOLDER_2022_03_08_activation_4H_ENS_wt4\"\n",
    "    exp_description.append(\"wt4 qI qT\")\n",
    "    exp_set.append(activation_experiment(folder))\n",
    "    exp_position.append(0)\n",
    "    exp_strain.append(1)\n",
    "    photoinhibition_status.append(1)\n",
    "    qE_status.append(0)\n",
    "    qT_status.append(1)\n",
    "\n",
    "if True:\n",
    "    folder = \"Data_for_scanpy/FOLDER_2022_03_08_activation_4H_ENS_wt4\"\n",
    "    exp_description.append(\"wt4 qI qE qT\")\n",
    "    exp_set.append(activation_experiment(folder))\n",
    "    exp_position.append(1)\n",
    "    exp_strain.append(1)\n",
    "    photoinhibition_status.append(1)\n",
    "    qE_status.append(1)\n",
    "    qT_status.append(1)\n",
    "\n",
    "\n",
    "\n",
    "##################################\n",
    "\n",
    "if False:\n",
    "    folder = \"Data_for_scanpy/FOLDER_2022_03_09_activation_4H_ENS_npq4\"\n",
    "    exp_description.append(\"npq4 qT\")\n",
    "    exp_set.append(activation_experiment(folder))\n",
    "    exp_position.append(2)\n",
    "    exp_strain.append(2)\n",
    "    photoinhibition_status.append(0)\n",
    "    qE_status.append(0)\n",
    "    qT_status.append(1)\n",
    "\n",
    "if False:\n",
    "    folder = \"Data_for_scanpy/FOLDER_2022_03_09_activation_4H_ENS_npq4\"\n",
    "    exp_description.append(\"npq4 qI qT\")\n",
    "    exp_set.append(activation_experiment(folder))\n",
    "    exp_position.append(0)\n",
    "    exp_strain.append(2)\n",
    "    photoinhibition_status.append(1)\n",
    "    qE_status.append(0)\n",
    "    qT_status.append(1)\n",
    "\n",
    "if False:\n",
    "    folder = \"Data_for_scanpy/FOLDER_2022_03_09_activation_4H_ENS_npq4\"\n",
    "    exp_description.append(\"npq4 qI qE qT\")\n",
    "    exp_set.append(activation_experiment(folder))\n",
    "    exp_position.append(1)\n",
    "    exp_strain.append(2)\n",
    "    photoinhibition_status.append(1)\n",
    "    qE_status.append(0)\n",
    "    qT_status.append(1)\n",
    "    \n",
    "    \n",
    "#######################\n",
    "if False:\n",
    "    folder = \"Data_for_scanpy/FOLDER_2022_03_16_WT222_SC1\"\n",
    "    exp_description.append(\"wt222 qT\")\n",
    "    exp_set.append(activation_experiment(folder))\n",
    "    exp_position.append(2)\n",
    "    exp_strain.append(1)\n",
    "    photoinhibition_status.append(0)\n",
    "    qE_status.append(0)\n",
    "    qT_status.append(1)\n",
    "\n",
    "if False: \n",
    "    folder = \"Data_for_scanpy/FOLDER_2022_03_16_WT222_SC1\"\n",
    "    exp_description.append(\"wt222 qI qT\")\n",
    "    exp_set.append(activation_experiment(folder))\n",
    "    exp_position.append(0)\n",
    "    exp_strain.append(1)\n",
    "    photoinhibition_status.append(1)\n",
    "    qE_status.append(0)\n",
    "    qT_status.append(1)\n",
    "\n",
    "if False:\n",
    "    folder = \"Data_for_scanpy/FOLDER_2022_03_16_WT222_SC1\"\n",
    "    exp_description.append(\"wt222 qI qE qT\")\n",
    "    exp_set.append(activation_experiment(folder))\n",
    "    exp_position.append(1)\n",
    "    exp_strain.append(1)\n",
    "    photoinhibition_status.append(1)\n",
    "    qE_status.append(1)\n",
    "    qT_status.append(1)\n",
    "\n",
    "\n",
    "\n",
    "\n",
    "#########################\n",
    "\"\"\"\n",
    "\n",
    "folder = \"Data_for_scanpy/FOLDER_2022_03_22_CC_124_activated_IBPC_sync\"\n",
    "exp_description.append(\"CC_124 activated IBPC\")\n",
    "exp_set.append(activation_experiment(folder))\n",
    "exp_position.append(1)\n",
    "\n",
    "\n",
    "folder = \"Data_for_scanpy/FOLDER_2022_03_23_npq4_activated_IBPC_sync\"\n",
    "exp_description.append(\"npq4 IBPC\")\n",
    "exp_set.append(activation_experiment(folder))\n",
    "exp_position.append(1)\n",
    "\n",
    "\n",
    "folder = \"Data_for_scanpy/FOLDER_2022_03_24_stt71_activated_IBPC_sync\"\n",
    "exp_description.append(\"stt71 IBPC\")\n",
    "exp_set.append(activation_experiment(folder))\n",
    "exp_position.append(1)\n",
    "\n",
    "\n",
    "\n",
    "folder = \"Data_for_scanpy/FOLDER_2022_03_25_wt4_activated_IBPC_sync\"\n",
    "exp_description.append(\"wt4 IBPC\")\n",
    "exp_set.append(activation_experiment(folder))\n",
    "exp_position.append(1)\n",
    "\n",
    "\n",
    "folder = \"Data_for_scanpy/FOLDER_2022_03_31_STT71_polyculture_slow_activateion_45min\"\n",
    "exp_description.append(\"stt7-45min ENS\")\n",
    "exp_set.append(activation_experiment(folder))\n",
    "exp_position.append(0)\n",
    "\n",
    "\n",
    "folder = \"Data_for_scanpy/FOLDER_2022_02_22_HL_chunks_WT4_backup\"\n",
    "exp_description.append(\"wt4-2H ENS not activated\")\n",
    "exp_set.append(activation_experiment(folder))\n",
    "exp_position.append(0)\n",
    "\n",
    "\n",
    "folder = \"Data_for_scanpy/FOLDER_2022_02_22_HL_chunks_WT4_backup\"\n",
    "exp_description.append(\"wt4-2H ENS activated\")\n",
    "exp_set.append(activation_experiment(folder))\n",
    "exp_position.append(1)\n",
    "\n",
    "folder = \"Data_for_scanpy/FOLDER_2022_04_05_WT4_monoclonal_synchro_ENS_4H\"\n",
    "exp_description.append(\"wt4-4H-monoclonal_synchro\")\n",
    "exp_set.append(activation_experiment(folder))\n",
    "\n",
    "folder = \"Data_for_scanpy/FOLDER_2022_04_06_stt71_scl1_monoclonal_synchro_ENS_4H\"\n",
    "exp_description.append(\"stt7-4H-monoclonal_synchro\")\n",
    "exp_set.append(activation_experiment(folder))\n",
    "\n",
    "\n",
    "folder = \"Data_for_scanpy/FOLDER_2022_04_07_stt71_scl3_monoclonal_synchro_ENS_4H\"\n",
    "exp_description.append(\"stt7-scl3-4H-monoclonal_synchro\")\n",
    "exp_set.append(activation_experiment(folder))\n",
    "\n",
    "\n",
    "\n",
    "\n",
    "folder = \"Data_for_scanpy/FOLDER_2022_03_29_4H_ENS_CC_124_sync\"\n",
    "exp_description.append(\"CC_124_ENS_test1\")\n",
    "exp_set.append(activation_experiment(folder))\n",
    "\n",
    "\n",
    "\n",
    "\n",
    "folder = \"Data_for_scanpy/FOLDER_2022_03_30_4H_ENS_CC_124_sync\"\n",
    "exp_description.append(\"CC_124_ENS_test2\")\n",
    "exp_set.append(activation_experiment(folder))\n",
    "\n",
    "\"\"\"\n"
   ]
  },
  {
   "cell_type": "markdown",
   "id": "9e774367-784c-41e7-860d-cf7c5da629fd",
   "metadata": {},
   "source": [
    "## WITH 90 POINTS"
   ]
  },
  {
   "cell_type": "code",
   "execution_count": 3,
   "id": "f89c3728-1c28-4510-a4df-e242bbb61e09",
   "metadata": {},
   "outputs": [
    {
     "ename": "IndexError",
     "evalue": "too many indices for array: array is 1-dimensional, but 2 were indexed",
     "output_type": "error",
     "traceback": [
      "\u001b[1;31m---------------------------------------------------------------------------\u001b[0m",
      "\u001b[1;31mIndexError\u001b[0m                                Traceback (most recent call last)",
      "Input \u001b[1;32mIn [3]\u001b[0m, in \u001b[0;36m<module>\u001b[1;34m\u001b[0m\n\u001b[0;32m     16\u001b[0m \u001b[38;5;28;01mif\u001b[39;00m exp_position[j] \u001b[38;5;241m==\u001b[39m \u001b[38;5;241m1\u001b[39m:\n\u001b[0;32m     17\u001b[0m     traces, labels \u001b[38;5;241m=\u001b[39m elem\u001b[38;5;241m.\u001b[39mget_traces(elem\u001b[38;5;241m.\u001b[39mmeasure[\u001b[38;5;241m1\u001b[39m][\u001b[38;5;241m-\u001b[39m\u001b[38;5;241m2\u001b[39m:])\n\u001b[1;32m---> 19\u001b[0m v0 \u001b[38;5;241m=\u001b[39m np\u001b[38;5;241m.\u001b[39mexpand_dims(\u001b[43mtraces\u001b[49m\u001b[43m[\u001b[49m\u001b[43m:\u001b[49m\u001b[43m,\u001b[49m\u001b[38;5;241;43m250\u001b[39;49m\u001b[43m]\u001b[49m, \u001b[38;5;241m1\u001b[39m)\n\u001b[0;32m     20\u001b[0m traces \u001b[38;5;241m=\u001b[39m (v0 \u001b[38;5;241m-\u001b[39m traces[:,list_of_couples])\u001b[38;5;241m/\u001b[39mtraces[:,list_of_couples]\n\u001b[0;32m     21\u001b[0m trace_set\u001b[38;5;241m.\u001b[39mappend(traces \u001b[38;5;241m+\u001b[39m \u001b[38;5;241m1\u001b[39m)\n",
      "\u001b[1;31mIndexError\u001b[0m: too many indices for array: array is 1-dimensional, but 2 were indexed"
     ]
    }
   ],
   "source": [
    "if True:\n",
    "    list_of_couples = np.linspace(250, 2050, 91).astype(int)\n",
    "\n",
    "    trace_set = []\n",
    "    class_set = []\n",
    "    strain_set  = []\n",
    "    description_set = []\n",
    "\n",
    "    for j, elem in enumerate(exp_set):\n",
    "        if exp_position[j] == 0:\n",
    "            traces, labels = elem.get_traces(elem.measure[0][-2:])\n",
    "\n",
    "        if exp_position[j] == 2:\n",
    "            traces, labels = elem.get_traces(elem.measure[0][0:1])\n",
    "\n",
    "        if exp_position[j] == 1:\n",
    "            traces, labels = elem.get_traces(elem.measure[1][-2:])\n",
    "\n",
    "        v0 = np.expand_dims(traces[:,250], 1)\n",
    "        traces = (v0 - traces[:,list_of_couples])/traces[:,list_of_couples]\n",
    "        trace_set.append(traces + 1)\n",
    "        class_set.append([j]*len(labels))\n",
    "        strain_set.append([exp_strain[j]]*len(labels))\n",
    "        description_set.append([exp_description[j]]*len(labels))\n",
    "        couple_set = list_of_couples"
   ]
  },
  {
   "cell_type": "markdown",
   "id": "cc8d7c0d-78c5-4595-b2e5-c86d6e65f9eb",
   "metadata": {},
   "source": [
    "## WITH FUNNY TESTS"
   ]
  },
  {
   "cell_type": "code",
   "execution_count": 18,
   "id": "edf2c54a-fece-4c28-9b7d-24a0215a7485",
   "metadata": {},
   "outputs": [],
   "source": [
    "if True:\n",
    "\n",
    "    list_of_couples = [(1170, 250), (350, 370), #stt7\n",
    "                              (270, 250), (1150, 1190), #stt7 qE qI\n",
    "                              (1190,1170), (1150, 1190)] #wt4 qT qI\n",
    "                              #(1170, 1190), (270, 250), (1190, 250), (1170, 250), #stt7 qI\n",
    "    list_of_couples = list(zip(*list_of_couples))\n",
    "\n",
    "    trace_set = []\n",
    "    class_set = []\n",
    "    strain_set  = []\n",
    "    description_set = []\n",
    "    couple_set = []\n",
    "    \n",
    "\n",
    "    for j, elem in enumerate(exp_set):\n",
    "        if exp_position[j] == 0:\n",
    "            traces, labels = elem.get_traces(elem.measure[0][-2:])\n",
    "\n",
    "        if exp_position[j] == 2:\n",
    "            traces, labels = elem.get_traces(elem.measure[0][0:1])\n",
    "\n",
    "        if exp_position[j] == 1:\n",
    "            traces, labels = elem.get_traces(elem.measure[1][-2:])\n",
    "\n",
    "        v0 = np.expand_dims(traces[:,250], 1)\n",
    "        traces_0 = (v0 - traces[:,list_of_couples[0]])/traces[:,list_of_couples[0]]\n",
    "        traces_1 = (v0 - traces[:,list_of_couples[1]])/traces[:,list_of_couples[1]]\n",
    "        traces = traces_1 - traces_0\n",
    "        trace_set.append(traces)\n",
    "        class_set.append([j]*len(traces))\n",
    "        strain_set.append([exp_strain[j]]*len(traces))\n",
    "        description_set.append([exp_description[j]]*len(traces))\n",
    "        diff  = np.array(len(list_of_couples[0])*[\"-\"])\n",
    "        A = np.array(list_of_couples[1]).astype(str)\n",
    "        B = np.array(list_of_couples[0]).astype(str)   \n",
    "        A = np.char.add(A, diff)\n",
    "        couple_set=np.char.add(A, B)\n",
    "\n",
    "        \n",
    "    all_data = np.concatenate(trace_set, axis = 0).T\n",
    "\n",
    "    all_classes = np.concatenate(class_set)\n",
    "    #all_classes = np.expand_dims(all_classes, 1)\n",
    "\n",
    "    all_strains = np.concatenate(strain_set)\n",
    "    #all_strains = np.expand_dims(all_strains, 1)\n",
    "\n",
    "    all_descriptions = np.concatenate(description_set)\n",
    "    #all_descriptions = np.expand_dims(all_description)\n",
    "    #data = np.concatenate([all_data, all_strains, all_classes], axis = 1)\n",
    "\n",
    "    all_couples = couple_set\n",
    "        \n",
    "    fig = plt.figure()\n",
    "    ax = fig.add_subplot(projection='3d')\n",
    "    for i, classe in enumerate([0, 1, 2, 3, 4]):\n",
    "        u = all_classes==classe\n",
    "        \n",
    "        X = np.sum(all_data[0:2, u], axis = 0)\n",
    "        Y = np.sum(all_data[2:4,  u], axis = 0)\n",
    "        Z = np.sum(all_data[4:,  u], axis = 0)\n",
    "\n",
    "\n",
    "        ax.scatter(X, Y, Z, c= [\"c\", \"r\", \"k\", \"b\",  \"g\"][classe], label = exp_description[classe])\n",
    "    ax.legend()"
   ]
  },
  {
   "cell_type": "code",
   "execution_count": 19,
   "id": "a9043e07-4fbd-4a8d-81b0-fabb2a96933f",
   "metadata": {},
   "outputs": [
    {
     "data": {
      "text/plain": [
       "(822,)"
      ]
     },
     "execution_count": 19,
     "metadata": {},
     "output_type": "execute_result"
    }
   ],
   "source": [
    "u = all_classes==classe\n",
    "u.shape"
   ]
  },
  {
   "cell_type": "markdown",
   "id": "10701043-24e6-4397-8730-ddd63f60fc02",
   "metadata": {},
   "source": [
    "## WITH COMBINATIONS"
   ]
  },
  {
   "cell_type": "code",
   "execution_count": 20,
   "id": "a68d92d2-a4fe-4df5-8ab0-6bcedfbeb338",
   "metadata": {},
   "outputs": [],
   "source": [
    "if True:\n",
    "    liste_pair = list(itertools.combinations(np.linspace(250, 2050, 91).astype(int), 2))\n",
    "    list_of_couples = list(zip(*liste_pair))\n",
    "    \n",
    "    trace_set = []\n",
    "    class_set = []\n",
    "    strain_set  = []\n",
    "    description_set = []\n",
    "    couple_set = []\n",
    "    \n",
    "\n",
    "    for j, elem in enumerate(exp_set):\n",
    "        if exp_position[j] == 0:\n",
    "            traces, labels = elem.get_traces(elem.measure[0][-2:])\n",
    "\n",
    "        if exp_position[j] == 2:\n",
    "            traces, labels = elem.get_traces(elem.measure[0][0:1])\n",
    "\n",
    "        if exp_position[j] == 1:\n",
    "            traces, labels = elem.get_traces(elem.measure[1][-2:])\n",
    "\n",
    "        v0 = np.expand_dims(traces[:,250], 1)\n",
    "        traces_0 = (v0 - traces[:,list_of_couples[0]])/traces[:,list_of_couples[0]]\n",
    "        traces_1 = (v0 - traces[:,list_of_couples[1]])/traces[:,list_of_couples[1]]\n",
    "        traces = traces_1 - traces_0\n",
    "        trace_set.append(traces)\n",
    "        class_set.append([j]*len(traces))\n",
    "        strain_set.append([exp_strain[j]]*len(traces))\n",
    "        description_set.append([exp_description[j]]*len(traces))\n",
    "        diff  = np.array(len(list_of_couples[0])*[\"-\"])\n",
    "        A = np.array(list_of_couples[1]).astype(str)\n",
    "        B = np.array(list_of_couples[0]).astype(str)   \n",
    "        A = np.char.add(A, diff)\n",
    "        couple_set=np.char.add(A, B)"
   ]
  },
  {
   "cell_type": "markdown",
   "id": "f2d46994-51e1-4143-a322-a8561f996ca1",
   "metadata": {},
   "source": [
    "## WITH NON-LINEAR OPERATION"
   ]
  },
  {
   "cell_type": "code",
   "execution_count": 8,
   "id": "ce135bea-db91-4cb8-b5ea-2f3b7cc05aa6",
   "metadata": {},
   "outputs": [],
   "source": [
    "if False:\n",
    "    liste_pair = list(itertools.combinations(np.linspace(250, 2050, 91).astype(int), 2))\n",
    "    list_quad = list(itertools.combinations(liste_pair, 2))\n",
    "\n",
    "    list_of_couples = np.array(list(zip(*list_quad)))\n",
    "    \n",
    "    \n",
    "    trace_set = []\n",
    "    class_set = []\n",
    "    strain_set  = []\n",
    "    description_set = []\n",
    "\n",
    "    for j, elem in enumerate(exp_set):\n",
    "        if exp_position[j] == 0:\n",
    "            traces, labels = elem.get_traces(elem.measure[0][-2:])\n",
    "\n",
    "        if exp_position[j] == 2:\n",
    "            traces, labels = elem.get_traces(elem.measure[0][0:1])\n",
    "\n",
    "        if exp_position[j] == 1:\n",
    "            traces, labels = elem.get_traces(elem.measure[1][-2:])\n",
    "\n",
    "        v0 = np.expand_dims(traces[:,250], 1)\n",
    "        traces_0 = (v0 - traces[:,list_of_couples[0][:,0]])/traces[:,list_of_couples[0][:,0]]\n",
    "        traces_1 = (v0 - traces[:,list_of_couples[0][:,1]])/traces[:,list_of_couples[0][:,1]]\n",
    "        traces_2 = (v0 - traces[:,list_of_couples[1][:,0]])/traces[:,list_of_couples[1][:,0]]\n",
    "        traces_3 = (v0 - traces[:,list_of_couples[1][:,1]])/traces[:,list_of_couples[1][:,1]]\n",
    "        traces = (traces_1 - traces_0)* -(traces_2 - traces_3)\n",
    "        trace_set.append(traces)\n",
    "        class_set.append([j]*len(traces))\n",
    "        strain_set.append([exp_strain[j]]*len(traces))\n",
    "        description_set.append([exp_description[j]]*len(traces))"
   ]
  },
  {
   "cell_type": "markdown",
   "id": "7b0cfa41-e3e0-412e-925b-a9d15378c9f0",
   "metadata": {},
   "source": [
    "### show traces"
   ]
  },
  {
   "cell_type": "code",
   "execution_count": 9,
   "id": "e82556d8-ebe5-41cd-8648-a732594dd492",
   "metadata": {},
   "outputs": [],
   "source": [
    "m = 0\n",
    "\n",
    "for j, traces in enumerate(trace_set):\n",
    "    if exp_position[j]==m:\n",
    "        plt.figure()\n",
    "        plt.plot(np.mean(traces, axis = 0))\n"
   ]
  },
  {
   "cell_type": "markdown",
   "id": "1691eddc-61f1-40d7-9ab1-aac244ccd496",
   "metadata": {},
   "source": [
    "## arrange data"
   ]
  },
  {
   "cell_type": "code",
   "execution_count": 10,
   "id": "41b18dac-a9de-47e2-918a-05c97f495fc0",
   "metadata": {},
   "outputs": [],
   "source": [
    "all_data = np.concatenate(trace_set, axis = 0)\n",
    "\n",
    "all_classes = np.concatenate(class_set)\n",
    "#all_classes = np.expand_dims(all_classes, 1)\n",
    "\n",
    "all_strains = np.concatenate(strain_set)\n",
    "#all_strains = np.expand_dims(all_strains, 1)\n",
    "\n",
    "all_descriptions = np.concatenate(description_set)\n",
    "#all_descriptions = np.expand_dims(all_description)\n",
    "#data = np.concatenate([all_data, all_strains, all_classes], axis = 1)\n",
    "\n",
    "all_couples = couple_set"
   ]
  },
  {
   "cell_type": "markdown",
   "id": "b35fe341-5b53-446c-85fb-9b3ad2cbd1c3",
   "metadata": {},
   "source": [
    "# remove highly correlated features"
   ]
  },
  {
   "cell_type": "code",
   "execution_count": 11,
   "id": "867c09f0-b56e-4f19-8b5b-072e0ca6adf4",
   "metadata": {},
   "outputs": [
    {
     "name": "stdout",
     "output_type": "stream",
     "text": [
      "stt7 3858\n",
      "stt7 qI 3808\n",
      "stt7 qI qE 3905\n",
      "wt4 qI qE qT 3839\n",
      "wt4 qI qT 3613\n",
      "kept couples: 364 , 8.88888888888889 %\n"
     ]
    }
   ],
   "source": [
    "#from https://www.projectpro.io/recipes/drop-out-highly-correlated-features-in-python#mcetoc_1g0c4fnd49\n",
    "\n",
    "drops = []\n",
    "for description in np.unique(all_descriptions):\n",
    "    cor_matrix = np.abs(np.corrcoef(all_data[all_descriptions==description].T))\n",
    "    \n",
    "    #plt.matshow(cor_matrix)\n",
    "    upper_tri = np.triu(np.ones(cor_matrix.shape),k=1).astype(np.float64)\n",
    "\n",
    "    cor_tri = cor_matrix*upper_tri\n",
    "    #plt.matshow(cor_tri)\n",
    "    maxi_col = np.max(cor_tri, axis = 0)\n",
    "    local_drop = maxi_col > 0.800\n",
    "    drops.append(local_drop)\n",
    "    print(description, np.sum(local_drop))\n",
    "\n",
    "drops = np.array(drops)\n",
    "drops.shape\n",
    "positions_to_keep = np.sum(drops, axis = 0)<np.max(all_classes)\n",
    "print(\"kept couples:\", np.sum(positions_to_keep), \",\", np.sum(positions_to_keep)/cor_matrix.shape[0]*100, \"%\")"
   ]
  },
  {
   "cell_type": "code",
   "execution_count": 12,
   "id": "37990b62-98c2-4e0d-a26c-85695c0b6188",
   "metadata": {},
   "outputs": [],
   "source": [
    "data = all_data[:,positions_to_keep]\n",
    "plt.matshow(data.clip(-0.2, 0.2).T)\n",
    "plt.grid(False)"
   ]
  },
  {
   "cell_type": "code",
   "execution_count": 13,
   "id": "91145d96-84c8-4673-9e80-bc22016b0048",
   "metadata": {},
   "outputs": [],
   "source": [
    "adata_abs = ad.AnnData(np.abs(all_data[:,positions_to_keep]*10), var = all_couples[positions_to_keep],  dtype=np.float32)\n",
    "#adata = ad.AnnData(all_data[:,positions_to_keep]*10 - 10*np.min(all_data[:,positions_to_keep]), var = all_couples[positions_to_keep],  dtype=np.float32)\n",
    "adata = ad.AnnData(all_data[:,positions_to_keep]*10, var = all_couples[positions_to_keep],  dtype=np.float32)\n"
   ]
  },
  {
   "cell_type": "code",
   "execution_count": 13,
   "id": "6caf345d-ce12-4175-ae55-bc04b38477f6",
   "metadata": {},
   "outputs": [],
   "source": [
    "adata_abs.var.index = all_couples[positions_to_keep]\n",
    "adata.var.index = all_couples[positions_to_keep]"
   ]
  },
  {
   "cell_type": "code",
   "execution_count": 14,
   "id": "9d5b3f5f-0d5e-4067-ad65-166431abc740",
   "metadata": {},
   "outputs": [],
   "source": [
    "\n",
    "adata_abs.obs[\"strains\"] = all_strains\n",
    "adata_abs.obs[\"classes\"] = all_classes\n",
    "adata_abs.obs[\"description\"] = all_descriptions\n",
    "\n",
    "\n",
    "adata.obs[\"strains\"] = all_strains\n",
    "adata.obs[\"classes\"] = all_classes\n",
    "adata.obs[\"description\"] = all_descriptions\n",
    "\n"
   ]
  },
  {
   "cell_type": "code",
   "execution_count": 15,
   "id": "d9d2a50f-aebf-4409-b73c-167101439668",
   "metadata": {},
   "outputs": [
    {
     "name": "stderr",
     "output_type": "stream",
     "text": [
      "normalizing counts per cell\n",
      "    finished (0:00:00)\n"
     ]
    }
   ],
   "source": [
    "sc.pl.highest_expr_genes(adata_abs, n_top=20, )"
   ]
  },
  {
   "cell_type": "markdown",
   "id": "46f0b8c2-bef2-4bc9-b7f9-674d9aa0c6fe",
   "metadata": {},
   "source": [
    "## Highly variable genes"
   ]
  },
  {
   "cell_type": "code",
   "execution_count": 16,
   "id": "f4af684d-c889-4e0e-87c4-325254d622df",
   "metadata": {},
   "outputs": [
    {
     "name": "stderr",
     "output_type": "stream",
     "text": [
      "extracting highly variable genes\n",
      "    finished (0:00:00)\n",
      "--> added\n",
      "    'highly_variable', boolean vector (adata.var)\n",
      "    'means', float vector (adata.var)\n",
      "    'dispersions', float vector (adata.var)\n",
      "    'dispersions_norm', float vector (adata.var)\n"
     ]
    }
   ],
   "source": [
    "sc.pp.log1p(adata_abs)\n",
    "sc.pp.highly_variable_genes(adata_abs, min_mean=0.0125, max_mean=3, min_disp=0.5)\n",
    "adata = adata[:, adata_abs.var.highly_variable]"
   ]
  },
  {
   "cell_type": "markdown",
   "id": "199f8b7e-a25c-499b-a46e-0efa611df32d",
   "metadata": {},
   "source": [
    "## PCA"
   ]
  },
  {
   "cell_type": "code",
   "execution_count": 17,
   "id": "976dae72-7623-4018-b523-abd322ac7182",
   "metadata": {},
   "outputs": [
    {
     "name": "stderr",
     "output_type": "stream",
     "text": [
      "computing PCA\n",
      "    with n_comps=50\n",
      "    finished (0:00:00)\n"
     ]
    }
   ],
   "source": [
    "sc.tl.pca(adata, svd_solver='arpack')\n",
    "adata = copy.copy(adata)\n",
    "\n",
    "#sc.pp.filter_genes(bdata, min_counts=10)\n",
    "#sc.pp.filter_cells(bdata, min_counts=10)\n",
    "\n",
    "sc.pl.pca(adata, color=['description'], projection=\"3d\")\n",
    "sc.pl.pca_variance_ratio(adata, log=True)"
   ]
  },
  {
   "cell_type": "markdown",
   "id": "6b5957a2-0f93-428a-80d5-885930bbfe49",
   "metadata": {},
   "source": [
    "## t-SNE"
   ]
  },
  {
   "cell_type": "code",
   "execution_count": 18,
   "id": "27adb1e4-63c8-4c53-9761-baea653314dd",
   "metadata": {},
   "outputs": [
    {
     "name": "stderr",
     "output_type": "stream",
     "text": [
      "computing tSNE\n",
      "    using 'X_pca' with n_pcs = 50\n",
      "WARNING: Consider installing the package MulticoreTSNE (https://github.com/DmitryUlyanov/Multicore-TSNE). Even for n_jobs=1 this speeds up the computation considerably and might yield better converged results.\n",
      "    using sklearn.manifold.TSNE with a fix by D. DeTomaso\n",
      "C:\\Users\\alien\\anaconda3\\envs\\scanpy\\lib\\site-packages\\sklearn\\manifold\\_t_sne.py:780: FutureWarning: The default initialization in TSNE will change from 'random' to 'pca' in 1.2.\n",
      "  warnings.warn(\n",
      "    finished: added\n",
      "    'X_tsne', tSNE coordinates (adata.obsm) (0:00:03)\n"
     ]
    }
   ],
   "source": [
    "sc.tl.tsne(adata, n_pcs=50)\n",
    "\n",
    "sc.pl.tsne(adata, color=['description'], projection=\"2d\")"
   ]
  },
  {
   "cell_type": "markdown",
   "id": "389ff57f-a9aa-4b73-9f22-b119278ada5c",
   "metadata": {},
   "source": [
    "## Diffmap"
   ]
  },
  {
   "cell_type": "code",
   "execution_count": 21,
   "id": "6057635c-abca-40a3-8497-6056319f5b4b",
   "metadata": {},
   "outputs": [
    {
     "name": "stderr",
     "output_type": "stream",
     "text": [
      "computing neighbors\n",
      "    using 'X_pca' with n_pcs = 40\n",
      "    finished: added to `.uns['neighbors']`\n",
      "    `.obsp['distances']`, distances for each pair of neighbors\n",
      "    `.obsp['connectivities']`, weighted adjacency matrix (0:00:00)\n",
      "computing Diffusion Maps using n_comps=15(=n_dcs)\n",
      "computing transitions\n",
      "    finished (0:00:00)\n",
      "    eigenvalues of transition matrix\n",
      "    [1.         0.9908905  0.9893412  0.97883683 0.9727029  0.95957357\n",
      "     0.92971426 0.9225042  0.9136578  0.90785235 0.9005036  0.8898924\n",
      "     0.88525134 0.8687534  0.8630799 ]\n",
      "    finished: added\n",
      "    'X_diffmap', diffmap coordinates (adata.obsm)\n",
      "    'diffmap_evals', eigenvalues of transition matrix (adata.uns) (0:00:00)\n"
     ]
    }
   ],
   "source": [
    "sc.pp.neighbors(adata, n_neighbors=10, n_pcs=40)\n",
    "\n",
    "sc.tl.diffmap(adata, n_comps=15, neighbors_key=None, copy=False)\n",
    "sc.pl.diffmap(adata, color=\"description\", edges_width=0.1, edges_color='grey', neighbors_key=None, \n",
    "                  arrows=False, arrows_kwds=None, projection='3d')\n",
    "sc.pl.diffmap(adata, color=\"description\", edges_width=0.1, edges_color='grey', neighbors_key=None, \n",
    "                  arrows=False, arrows_kwds=None, projection='2d')"
   ]
  },
  {
   "cell_type": "markdown",
   "id": "c950efdc-250b-4e7b-a96b-a53350b01fac",
   "metadata": {},
   "source": [
    "## UMAP"
   ]
  },
  {
   "cell_type": "code",
   "execution_count": 20,
   "id": "83da766a-f91e-4dd1-b131-d1ca3f1a5c16",
   "metadata": {},
   "outputs": [
    {
     "name": "stderr",
     "output_type": "stream",
     "text": [
      "computing neighbors\n",
      "    using 'X_pca' with n_pcs = 40\n",
      "    finished: added to `.uns['neighbors']`\n",
      "    `.obsp['distances']`, distances for each pair of neighbors\n",
      "    `.obsp['connectivities']`, weighted adjacency matrix (0:00:00)\n",
      "running Leiden clustering\n",
      "    finished: found 7 clusters and added\n",
      "    'clusters', the cluster labels (adata.obs, categorical) (0:00:00)\n",
      "computing UMAP\n",
      "    finished: added\n",
      "    'X_umap', UMAP coordinates (adata.obsm) (0:00:00)\n"
     ]
    }
   ],
   "source": [
    "sc.pp.neighbors(adata, n_neighbors=10, n_pcs=40)\n",
    "sc.tl.leiden(adata, key_added='clusters', resolution=0.5)\n",
    "sc.tl.umap(adata, n_components=3)\n",
    "sc.pl.umap(adata, color=['description'], projection=\"3d\")\n",
    "#sc.pl.umap(adata, color=['clusters'], projection=\"3d\")"
   ]
  },
  {
   "cell_type": "code",
   "execution_count": null,
   "id": "ff8cb324-0572-4123-9985-bed6e7cf31b7",
   "metadata": {},
   "outputs": [],
   "source": [
    "sc.pl.pca(adata, color=['clusters', \"description\"])"
   ]
  },
  {
   "cell_type": "code",
   "execution_count": 32,
   "id": "adb464d3-f6cf-4934-b116-26c86cc1e1a7",
   "metadata": {},
   "outputs": [
    {
     "name": "stderr",
     "output_type": "stream",
     "text": [
      "ranking genes\n",
      "C:\\Users\\alien\\anaconda3\\envs\\scanpy\\lib\\site-packages\\scanpy\\tools\\_rank_genes_groups.py:419: RuntimeWarning: invalid value encountered in log2\n",
      "  self.stats[group_name, 'logfoldchanges'] = np.log2(\n",
      "C:\\Users\\alien\\anaconda3\\envs\\scanpy\\lib\\site-packages\\scanpy\\tools\\_rank_genes_groups.py:419: RuntimeWarning: invalid value encountered in log2\n",
      "  self.stats[group_name, 'logfoldchanges'] = np.log2(\n",
      "C:\\Users\\alien\\anaconda3\\envs\\scanpy\\lib\\site-packages\\scanpy\\tools\\_rank_genes_groups.py:419: RuntimeWarning: invalid value encountered in log2\n",
      "  self.stats[group_name, 'logfoldchanges'] = np.log2(\n",
      "C:\\Users\\alien\\anaconda3\\envs\\scanpy\\lib\\site-packages\\scanpy\\tools\\_rank_genes_groups.py:419: RuntimeWarning: invalid value encountered in log2\n",
      "  self.stats[group_name, 'logfoldchanges'] = np.log2(\n",
      "C:\\Users\\alien\\anaconda3\\envs\\scanpy\\lib\\site-packages\\scanpy\\tools\\_rank_genes_groups.py:419: RuntimeWarning: invalid value encountered in log2\n",
      "  self.stats[group_name, 'logfoldchanges'] = np.log2(\n",
      "    finished: added to `.uns['rank_genes_groups']`\n",
      "    'names', sorted np.recarray to be indexed by group ids\n",
      "    'scores', sorted np.recarray to be indexed by group ids\n",
      "    'logfoldchanges', sorted np.recarray to be indexed by group ids\n",
      "    'pvals', sorted np.recarray to be indexed by group ids\n",
      "    'pvals_adj', sorted np.recarray to be indexed by group ids (0:00:00)\n"
     ]
    }
   ],
   "source": [
    "sc.tl.rank_genes_groups(adata, 'description', method='t-test')"
   ]
  },
  {
   "cell_type": "code",
   "execution_count": 33,
   "id": "478ed4ba-9d51-4d3f-85ae-b86f3b7a437e",
   "metadata": {},
   "outputs": [],
   "source": [
    "sc.pl.rank_genes_groups(adata, n_genes=25, sharey=False)"
   ]
  },
  {
   "cell_type": "code",
   "execution_count": 25,
   "id": "4d7c93a0-d82c-432d-807e-51884c0b6a6a",
   "metadata": {},
   "outputs": [],
   "source": [
    "#sc.pl.rank_genes_groups_violin(adata, groups='0', n_genes=8)"
   ]
  },
  {
   "cell_type": "code",
   "execution_count": 26,
   "id": "cf930e4a-2581-482d-a5bf-6b97b4f65e0d",
   "metadata": {},
   "outputs": [],
   "source": [
    "sc.pl.violin(adata, ['classes'], groupby='description')"
   ]
  },
  {
   "cell_type": "code",
   "execution_count": 27,
   "id": "69323a98-b6ef-4ea9-a1f4-b5e2f24d56f4",
   "metadata": {},
   "outputs": [
    {
     "name": "stdout",
     "output_type": "stream",
     "text": [
      "       stt7    stt7 qI stt7 qI qE wt4 qI qE qT  wt4 qI qT\n",
      "0  1190-250    330-270    270-250    1450-1370  1190-1170\n",
      "1   370-350    310-270   1170-250    1490-1410    370-350\n",
      "2  1170-250    370-350   1190-250    1470-1390  1870-1710\n",
      "3   390-370    390-370   1150-990    1450-1390  1890-1750\n",
      "4   330-270   1190-250   1050-910    1530-1470  1850-1730\n",
      "5   310-270    290-270   1070-990    1550-1470  1850-1710\n",
      "6   610-570   1170-250  1110-1030    1490-1430  1630-1510\n",
      "7  1150-990  1190-1170  1110-1010    1410-1370  1870-1750\n",
      "8   290-270    690-670    810-770    1430-1390  1830-1710\n",
      "9   850-730    610-570    810-750    1450-1410  1650-1550\n"
     ]
    }
   ],
   "source": [
    "df = pd.DataFrame(adata.uns['rank_genes_groups']['names']).head(10)\n",
    "print(df)"
   ]
  },
  {
   "cell_type": "code",
   "execution_count": 28,
   "id": "65b890aa-8d1f-45e4-9c09-421c7f0608d7",
   "metadata": {},
   "outputs": [
    {
     "name": "stderr",
     "output_type": "stream",
     "text": [
      "WARNING: dendrogram data not found (using key=dendrogram_clusters). Running `sc.tl.dendrogram` with default parameters. For fine tuning it is recommended to run `sc.tl.dendrogram` independently.\n",
      "    using 'X_pca' with n_pcs = 50\n",
      "Storing dendrogram info using `.uns['dendrogram_clusters']`\n",
      "WARNING: Groups are not reordered because the `groupby` categories and the `var_group_labels` are different.\n",
      "categories: 0, 1, 2, etc.\n",
      "var_group_labels: stt7, stt7 qI, stt7 qI qE, etc.\n"
     ]
    }
   ],
   "source": [
    "marker_genes_dict =  {}\n",
    "for key in df.keys():\n",
    "    marker_genes_dict[key] = list(df[key])\n",
    "    \n",
    "sc.pl.dotplot(adata, marker_genes_dict, 'clusters', dendrogram=True)"
   ]
  },
  {
   "cell_type": "code",
   "execution_count": 29,
   "id": "0c50e21f-4f0e-43b7-9211-e690c7a92c31",
   "metadata": {},
   "outputs": [
    {
     "name": "stderr",
     "output_type": "stream",
     "text": [
      "WARNING: dendrogram data not found (using key=dendrogram_description). Running `sc.tl.dendrogram` with default parameters. For fine tuning it is recommended to run `sc.tl.dendrogram` independently.\n",
      "    using 'X_pca' with n_pcs = 50\n",
      "Storing dendrogram info using `.uns['dendrogram_description']`\n"
     ]
    }
   ],
   "source": [
    "marker_genes_dict =  {}\n",
    "for key in df.keys():\n",
    "    marker_genes_dict[key] = [df[key][0] for key in df.keys()]\n",
    "    \n",
    "sc.pl.dotplot(adata, marker_genes_dict, \"description\", dendrogram=True)"
   ]
  },
  {
   "cell_type": "code",
   "execution_count": 30,
   "id": "452e5210-791b-4bd9-9882-b291d02648cf",
   "metadata": {},
   "outputs": [
    {
     "name": "stderr",
     "output_type": "stream",
     "text": [
      "WARNING: Groups are not reordered because the `groupby` categories and the `var_group_labels` are different.\n",
      "categories: stt7, stt7 qI, stt7 qI qE, etc.\n",
      "var_group_labels: stt7\n"
     ]
    }
   ],
   "source": [
    "marker_genes_dict =  {}\n",
    "for key in df.keys()[0:1]:\n",
    "    marker_genes_dict[key] = np.concatenate([df[key][0:10] for key in df.keys()])\n",
    "    \n",
    "sc.pl.dotplot(adata, marker_genes_dict, \"description\", dendrogram=True)\n"
   ]
  },
  {
   "cell_type": "code",
   "execution_count": 31,
   "id": "f04d0b35-5adc-48cd-a86a-2aaad76567bb",
   "metadata": {},
   "outputs": [],
   "source": [
    "ax = sc.pl.heatmap(adata, marker_genes_dict[\"stt7\"], show_gene_labels=True, groupby='description', cmap='viridis', dendrogram=True)"
   ]
  },
  {
   "cell_type": "code",
   "execution_count": 23,
   "id": "f76cd60d-738d-44dc-b2cf-60a4ed38e64e",
   "metadata": {},
   "outputs": [
    {
     "name": "stderr",
     "output_type": "stream",
     "text": [
      "computing neighbors\n",
      "    using 'X_pca' with n_pcs = 40\n",
      "    finished: added to `.uns['neighbors']`\n",
      "    `.obsp['distances']`, distances for each pair of neighbors\n",
      "    `.obsp['connectivities']`, weighted adjacency matrix (0:00:00)\n",
      "computing Diffusion Maps using n_comps=15(=n_dcs)\n",
      "computing transitions\n",
      "    finished (0:00:00)\n",
      "    eigenvalues of transition matrix\n",
      "    [1.         0.9966059  0.99040174 0.97578466 0.94326276 0.9052232\n",
      "     0.8923585  0.88799083 0.8605796  0.8517586  0.8460074  0.81346893\n",
      "     0.7932925  0.7680782  0.75742763]\n",
      "    finished: added\n",
      "    'X_diffmap', diffmap coordinates (adata.obsm)\n",
      "    'diffmap_evals', eigenvalues of transition matrix (adata.uns) (0:00:00)\n"
     ]
    }
   ],
   "source": []
  },
  {
   "cell_type": "code",
   "execution_count": 209,
   "id": "120ef6be-9433-4051-a12d-ee1e3b802583",
   "metadata": {},
   "outputs": [
    {
     "name": "stderr",
     "output_type": "stream",
     "text": [
      "ranking genes\n"
     ]
    },
    {
     "ename": "IndexError",
     "evalue": "index 0 is out of bounds for axis 0 with size 0",
     "output_type": "error",
     "traceback": [
      "\u001b[1;31m---------------------------------------------------------------------------\u001b[0m",
      "\u001b[1;31mIndexError\u001b[0m                                Traceback (most recent call last)",
      "Input \u001b[1;32mIn [209]\u001b[0m, in \u001b[0;36m<cell line: 1>\u001b[1;34m()\u001b[0m\n\u001b[1;32m----> 1\u001b[0m \u001b[43msc\u001b[49m\u001b[38;5;241;43m.\u001b[39;49m\u001b[43mtl\u001b[49m\u001b[38;5;241;43m.\u001b[39;49m\u001b[43mrank_genes_groups\u001b[49m\u001b[43m(\u001b[49m\u001b[43madata\u001b[49m\u001b[43m,\u001b[49m\u001b[43m \u001b[49m\u001b[38;5;124;43m'\u001b[39;49m\u001b[38;5;124;43mdescription\u001b[39;49m\u001b[38;5;124;43m'\u001b[39;49m\u001b[43m,\u001b[49m\u001b[43m \u001b[49m\u001b[43mgroups\u001b[49m\u001b[38;5;241;43m=\u001b[39;49m\u001b[43m[\u001b[49m\u001b[38;5;124;43m'\u001b[39;49m\u001b[38;5;124;43m0\u001b[39;49m\u001b[38;5;124;43m'\u001b[39;49m\u001b[43m]\u001b[49m\u001b[43m,\u001b[49m\u001b[43m \u001b[49m\u001b[43mreference\u001b[49m\u001b[38;5;241;43m=\u001b[39;49m\u001b[38;5;124;43m'\u001b[39;49m\u001b[38;5;124;43mstt7 qI\u001b[39;49m\u001b[38;5;124;43m'\u001b[39;49m\u001b[43m,\u001b[49m\u001b[43m \u001b[49m\u001b[43mmethod\u001b[49m\u001b[38;5;241;43m=\u001b[39;49m\u001b[38;5;124;43m'\u001b[39;49m\u001b[38;5;124;43mwilcoxon\u001b[39;49m\u001b[38;5;124;43m'\u001b[39;49m\u001b[43m)\u001b[49m\n\u001b[0;32m      2\u001b[0m sc\u001b[38;5;241m.\u001b[39mpl\u001b[38;5;241m.\u001b[39mrank_genes_groups(adata, groups\u001b[38;5;241m=\u001b[39m[\u001b[38;5;124m'\u001b[39m\u001b[38;5;124m0\u001b[39m\u001b[38;5;124m'\u001b[39m], n_genes\u001b[38;5;241m=\u001b[39m\u001b[38;5;241m20\u001b[39m)\n",
      "File \u001b[1;32m~\\anaconda3\\envs\\scanpy\\lib\\site-packages\\scanpy\\tools\\_rank_genes_groups.py:584\u001b[0m, in \u001b[0;36mrank_genes_groups\u001b[1;34m(adata, groupby, use_raw, groups, reference, n_genes, rankby_abs, pts, key_added, copy, method, corr_method, tie_correct, layer, **kwds)\u001b[0m\n\u001b[0;32m    574\u001b[0m adata\u001b[38;5;241m.\u001b[39muns[key_added] \u001b[38;5;241m=\u001b[39m {}\n\u001b[0;32m    575\u001b[0m adata\u001b[38;5;241m.\u001b[39muns[key_added][\u001b[38;5;124m'\u001b[39m\u001b[38;5;124mparams\u001b[39m\u001b[38;5;124m'\u001b[39m] \u001b[38;5;241m=\u001b[39m \u001b[38;5;28mdict\u001b[39m(\n\u001b[0;32m    576\u001b[0m     groupby\u001b[38;5;241m=\u001b[39mgroupby,\n\u001b[0;32m    577\u001b[0m     reference\u001b[38;5;241m=\u001b[39mreference,\n\u001b[1;32m   (...)\u001b[0m\n\u001b[0;32m    581\u001b[0m     corr_method\u001b[38;5;241m=\u001b[39mcorr_method,\n\u001b[0;32m    582\u001b[0m )\n\u001b[1;32m--> 584\u001b[0m test_obj \u001b[38;5;241m=\u001b[39m \u001b[43m_RankGenes\u001b[49m\u001b[43m(\u001b[49m\u001b[43madata\u001b[49m\u001b[43m,\u001b[49m\u001b[43m \u001b[49m\u001b[43mgroups_order\u001b[49m\u001b[43m,\u001b[49m\u001b[43m \u001b[49m\u001b[43mgroupby\u001b[49m\u001b[43m,\u001b[49m\u001b[43m \u001b[49m\u001b[43mreference\u001b[49m\u001b[43m,\u001b[49m\u001b[43m \u001b[49m\u001b[43muse_raw\u001b[49m\u001b[43m,\u001b[49m\u001b[43m \u001b[49m\u001b[43mlayer\u001b[49m\u001b[43m,\u001b[49m\u001b[43m \u001b[49m\u001b[43mpts\u001b[49m\u001b[43m)\u001b[49m\n\u001b[0;32m    586\u001b[0m \u001b[38;5;66;03m# for clarity, rename variable\u001b[39;00m\n\u001b[0;32m    587\u001b[0m n_genes_user \u001b[38;5;241m=\u001b[39m n_genes\n",
      "File \u001b[1;32m~\\anaconda3\\envs\\scanpy\\lib\\site-packages\\scanpy\\tools\\_rank_genes_groups.py:97\u001b[0m, in \u001b[0;36m_RankGenes.__init__\u001b[1;34m(self, adata, groups, groupby, reference, use_raw, layer, comp_pts)\u001b[0m\n\u001b[0;32m     94\u001b[0m \u001b[38;5;28;01melse\u001b[39;00m:\n\u001b[0;32m     95\u001b[0m     \u001b[38;5;28mself\u001b[39m\u001b[38;5;241m.\u001b[39mexpm1_func \u001b[38;5;241m=\u001b[39m np\u001b[38;5;241m.\u001b[39mexpm1\n\u001b[1;32m---> 97\u001b[0m \u001b[38;5;28mself\u001b[39m\u001b[38;5;241m.\u001b[39mgroups_order, \u001b[38;5;28mself\u001b[39m\u001b[38;5;241m.\u001b[39mgroups_masks \u001b[38;5;241m=\u001b[39m \u001b[43m_utils\u001b[49m\u001b[38;5;241;43m.\u001b[39;49m\u001b[43mselect_groups\u001b[49m\u001b[43m(\u001b[49m\n\u001b[0;32m     98\u001b[0m \u001b[43m    \u001b[49m\u001b[43madata\u001b[49m\u001b[43m,\u001b[49m\u001b[43m \u001b[49m\u001b[43mgroups\u001b[49m\u001b[43m,\u001b[49m\u001b[43m \u001b[49m\u001b[43mgroupby\u001b[49m\n\u001b[0;32m     99\u001b[0m \u001b[43m\u001b[49m\u001b[43m)\u001b[49m\n\u001b[0;32m    101\u001b[0m \u001b[38;5;66;03m# Singlet groups cause division by zero errors\u001b[39;00m\n\u001b[0;32m    102\u001b[0m invalid_groups_selected \u001b[38;5;241m=\u001b[39m \u001b[38;5;28mset\u001b[39m(\u001b[38;5;28mself\u001b[39m\u001b[38;5;241m.\u001b[39mgroups_order) \u001b[38;5;241m&\u001b[39m \u001b[38;5;28mset\u001b[39m(\n\u001b[0;32m    103\u001b[0m     adata\u001b[38;5;241m.\u001b[39mobs[groupby]\u001b[38;5;241m.\u001b[39mvalue_counts()\u001b[38;5;241m.\u001b[39mloc[\u001b[38;5;28;01mlambda\u001b[39;00m x: x \u001b[38;5;241m<\u001b[39m \u001b[38;5;241m2\u001b[39m]\u001b[38;5;241m.\u001b[39mindex\n\u001b[0;32m    104\u001b[0m )\n",
      "File \u001b[1;32m~\\anaconda3\\envs\\scanpy\\lib\\site-packages\\scanpy\\_utils.py:517\u001b[0m, in \u001b[0;36mselect_groups\u001b[1;34m(adata, groups_order_subset, key)\u001b[0m\n\u001b[0;32m    514\u001b[0m groups_ids \u001b[38;5;241m=\u001b[39m []\n\u001b[0;32m    515\u001b[0m \u001b[38;5;28;01mfor\u001b[39;00m name \u001b[38;5;129;01min\u001b[39;00m groups_order_subset:\n\u001b[0;32m    516\u001b[0m     groups_ids\u001b[38;5;241m.\u001b[39mappend(\n\u001b[1;32m--> 517\u001b[0m         \u001b[43mnp\u001b[49m\u001b[38;5;241;43m.\u001b[39;49m\u001b[43mwhere\u001b[49m\u001b[43m(\u001b[49m\u001b[43madata\u001b[49m\u001b[38;5;241;43m.\u001b[39;49m\u001b[43mobs\u001b[49m\u001b[43m[\u001b[49m\u001b[43mkey\u001b[49m\u001b[43m]\u001b[49m\u001b[38;5;241;43m.\u001b[39;49m\u001b[43mcat\u001b[49m\u001b[38;5;241;43m.\u001b[39;49m\u001b[43mcategories\u001b[49m\u001b[38;5;241;43m.\u001b[39;49m\u001b[43mvalues\u001b[49m\u001b[43m \u001b[49m\u001b[38;5;241;43m==\u001b[39;49m\u001b[43m \u001b[49m\u001b[43mname\u001b[49m\u001b[43m)\u001b[49m\u001b[43m[\u001b[49m\u001b[38;5;241;43m0\u001b[39;49m\u001b[43m]\u001b[49m\u001b[43m[\u001b[49m\u001b[38;5;241;43m0\u001b[39;49m\u001b[43m]\u001b[49m\n\u001b[0;32m    518\u001b[0m     )\n\u001b[0;32m    519\u001b[0m \u001b[38;5;28;01mif\u001b[39;00m \u001b[38;5;28mlen\u001b[39m(groups_ids) \u001b[38;5;241m==\u001b[39m \u001b[38;5;241m0\u001b[39m:\n\u001b[0;32m    520\u001b[0m     \u001b[38;5;66;03m# fallback to index retrieval\u001b[39;00m\n\u001b[0;32m    521\u001b[0m     groups_ids \u001b[38;5;241m=\u001b[39m np\u001b[38;5;241m.\u001b[39mwhere(\n\u001b[0;32m    522\u001b[0m         np\u001b[38;5;241m.\u001b[39min1d(\n\u001b[0;32m    523\u001b[0m             np\u001b[38;5;241m.\u001b[39marange(\u001b[38;5;28mlen\u001b[39m(adata\u001b[38;5;241m.\u001b[39mobs[key]\u001b[38;5;241m.\u001b[39mcat\u001b[38;5;241m.\u001b[39mcategories))\u001b[38;5;241m.\u001b[39mastype(\u001b[38;5;28mstr\u001b[39m),\n\u001b[0;32m    524\u001b[0m             np\u001b[38;5;241m.\u001b[39marray(groups_order_subset),\n\u001b[0;32m    525\u001b[0m         )\n\u001b[0;32m    526\u001b[0m     )[\u001b[38;5;241m0\u001b[39m]\n",
      "\u001b[1;31mIndexError\u001b[0m: index 0 is out of bounds for axis 0 with size 0"
     ]
    }
   ],
   "source": [
    "sc.tl.rank_genes_groups(adata, 'description', groups=['0'], reference='stt7 qI', method='wilcoxon')\n",
    "sc.pl.rank_genes_groups(adata, groups=['0'], n_genes=20)\n",
    "\n"
   ]
  },
  {
   "cell_type": "code",
   "execution_count": null,
   "id": "e7a487f7-6cca-4777-ae1a-3601e26d72a8",
   "metadata": {},
   "outputs": [],
   "source": [
    "\n"
   ]
  },
  {
   "cell_type": "code",
   "execution_count": 34,
   "id": "ddd2a705-b7d7-4137-b8bc-a3f4fbc9f458",
   "metadata": {},
   "outputs": [
    {
     "name": "stderr",
     "output_type": "stream",
     "text": [
      "WARNING: saving figure to file figures\\umap.pdf\n"
     ]
    },
    {
     "data": {
      "image/png": "[encoded data removed]",
      "text/plain": [
       "<Figure size 320x320 with 1 Axes>"
      ]
     },
     "metadata": {},
     "output_type": "display_data"
    }
   ],
   "source": [
    "sc.pl.umap(adata, color='leiden', legend_loc='on data', title='', frameon=False, save='.pdf')"
   ]
  },
  {
   "cell_type": "code",
   "execution_count": 245,
   "id": "03c5328e-f9f2-47da-a7c0-235ae5bc21f7",
   "metadata": {},
   "outputs": [
    {
     "ename": "KeyError",
     "evalue": "\"Could not find keys '['rank_genes_groups']' in columns of `adata.obs` or in adata.var_names.\"",
     "output_type": "error",
     "traceback": [
      "\u001b[1;31m---------------------------------------------------------------------------\u001b[0m",
      "\u001b[1;31mKeyError\u001b[0m                                  Traceback (most recent call last)",
      "Input \u001b[1;32mIn [245]\u001b[0m, in \u001b[0;36m<cell line: 1>\u001b[1;34m()\u001b[0m\n\u001b[1;32m----> 1\u001b[0m \u001b[43msc\u001b[49m\u001b[38;5;241;43m.\u001b[39;49m\u001b[43mpl\u001b[49m\u001b[38;5;241;43m.\u001b[39;49m\u001b[43mdotplot\u001b[49m\u001b[43m(\u001b[49m\u001b[43madata\u001b[49m\u001b[43m,\u001b[49m\u001b[43m \u001b[49m\u001b[38;5;124;43m\"\u001b[39;49m\u001b[38;5;124;43mrank_genes_groups\u001b[39;49m\u001b[38;5;124;43m\"\u001b[39;49m\u001b[43m,\u001b[49m\u001b[43m \u001b[49m\u001b[38;5;124;43m'\u001b[39;49m\u001b[38;5;124;43mdescription\u001b[39;49m\u001b[38;5;124;43m'\u001b[39;49m\u001b[43m,\u001b[49m\u001b[43m \u001b[49m\u001b[43mdendrogram\u001b[49m\u001b[38;5;241;43m=\u001b[39;49m\u001b[38;5;28;43;01mTrue\u001b[39;49;00m\u001b[43m)\u001b[49m\n",
      "File \u001b[1;32m~\\anaconda3\\envs\\scanpy\\lib\\site-packages\\scanpy\\plotting\\_dotplot.py:913\u001b[0m, in \u001b[0;36mdotplot\u001b[1;34m(adata, var_names, groupby, use_raw, log, num_categories, expression_cutoff, mean_only_expressed, cmap, dot_max, dot_min, standard_scale, smallest_dot, title, colorbar_title, size_title, figsize, dendrogram, gene_symbols, var_group_positions, var_group_labels, var_group_rotation, layer, swap_axes, dot_color_df, show, save, ax, return_fig, **kwds)\u001b[0m\n\u001b[0;32m    910\u001b[0m \u001b[38;5;28;01mif\u001b[39;00m \u001b[38;5;124m'\u001b[39m\u001b[38;5;124mcolor_map\u001b[39m\u001b[38;5;124m'\u001b[39m \u001b[38;5;129;01min\u001b[39;00m kwds:\n\u001b[0;32m    911\u001b[0m     \u001b[38;5;28;01mdel\u001b[39;00m kwds[\u001b[38;5;124m'\u001b[39m\u001b[38;5;124mcolor_map\u001b[39m\u001b[38;5;124m'\u001b[39m]\n\u001b[1;32m--> 913\u001b[0m dp \u001b[38;5;241m=\u001b[39m \u001b[43mDotPlot\u001b[49m\u001b[43m(\u001b[49m\n\u001b[0;32m    914\u001b[0m \u001b[43m    \u001b[49m\u001b[43madata\u001b[49m\u001b[43m,\u001b[49m\n\u001b[0;32m    915\u001b[0m \u001b[43m    \u001b[49m\u001b[43mvar_names\u001b[49m\u001b[43m,\u001b[49m\n\u001b[0;32m    916\u001b[0m \u001b[43m    \u001b[49m\u001b[43mgroupby\u001b[49m\u001b[43m,\u001b[49m\n\u001b[0;32m    917\u001b[0m \u001b[43m    \u001b[49m\u001b[43muse_raw\u001b[49m\u001b[38;5;241;43m=\u001b[39;49m\u001b[43muse_raw\u001b[49m\u001b[43m,\u001b[49m\n\u001b[0;32m    918\u001b[0m \u001b[43m    \u001b[49m\u001b[43mlog\u001b[49m\u001b[38;5;241;43m=\u001b[39;49m\u001b[43mlog\u001b[49m\u001b[43m,\u001b[49m\n\u001b[0;32m    919\u001b[0m \u001b[43m    \u001b[49m\u001b[43mnum_categories\u001b[49m\u001b[38;5;241;43m=\u001b[39;49m\u001b[43mnum_categories\u001b[49m\u001b[43m,\u001b[49m\n\u001b[0;32m    920\u001b[0m \u001b[43m    \u001b[49m\u001b[43mexpression_cutoff\u001b[49m\u001b[38;5;241;43m=\u001b[39;49m\u001b[43mexpression_cutoff\u001b[49m\u001b[43m,\u001b[49m\n\u001b[0;32m    921\u001b[0m \u001b[43m    \u001b[49m\u001b[43mmean_only_expressed\u001b[49m\u001b[38;5;241;43m=\u001b[39;49m\u001b[43mmean_only_expressed\u001b[49m\u001b[43m,\u001b[49m\n\u001b[0;32m    922\u001b[0m \u001b[43m    \u001b[49m\u001b[43mstandard_scale\u001b[49m\u001b[38;5;241;43m=\u001b[39;49m\u001b[43mstandard_scale\u001b[49m\u001b[43m,\u001b[49m\n\u001b[0;32m    923\u001b[0m \u001b[43m    \u001b[49m\u001b[43mtitle\u001b[49m\u001b[38;5;241;43m=\u001b[39;49m\u001b[43mtitle\u001b[49m\u001b[43m,\u001b[49m\n\u001b[0;32m    924\u001b[0m \u001b[43m    \u001b[49m\u001b[43mfigsize\u001b[49m\u001b[38;5;241;43m=\u001b[39;49m\u001b[43mfigsize\u001b[49m\u001b[43m,\u001b[49m\n\u001b[0;32m    925\u001b[0m \u001b[43m    \u001b[49m\u001b[43mgene_symbols\u001b[49m\u001b[38;5;241;43m=\u001b[39;49m\u001b[43mgene_symbols\u001b[49m\u001b[43m,\u001b[49m\n\u001b[0;32m    926\u001b[0m \u001b[43m    \u001b[49m\u001b[43mvar_group_positions\u001b[49m\u001b[38;5;241;43m=\u001b[39;49m\u001b[43mvar_group_positions\u001b[49m\u001b[43m,\u001b[49m\n\u001b[0;32m    927\u001b[0m \u001b[43m    \u001b[49m\u001b[43mvar_group_labels\u001b[49m\u001b[38;5;241;43m=\u001b[39;49m\u001b[43mvar_group_labels\u001b[49m\u001b[43m,\u001b[49m\n\u001b[0;32m    928\u001b[0m \u001b[43m    \u001b[49m\u001b[43mvar_group_rotation\u001b[49m\u001b[38;5;241;43m=\u001b[39;49m\u001b[43mvar_group_rotation\u001b[49m\u001b[43m,\u001b[49m\n\u001b[0;32m    929\u001b[0m \u001b[43m    \u001b[49m\u001b[43mlayer\u001b[49m\u001b[38;5;241;43m=\u001b[39;49m\u001b[43mlayer\u001b[49m\u001b[43m,\u001b[49m\n\u001b[0;32m    930\u001b[0m \u001b[43m    \u001b[49m\u001b[43mdot_color_df\u001b[49m\u001b[38;5;241;43m=\u001b[39;49m\u001b[43mdot_color_df\u001b[49m\u001b[43m,\u001b[49m\n\u001b[0;32m    931\u001b[0m \u001b[43m    \u001b[49m\u001b[43max\u001b[49m\u001b[38;5;241;43m=\u001b[39;49m\u001b[43max\u001b[49m\u001b[43m,\u001b[49m\n\u001b[0;32m    932\u001b[0m \u001b[43m    \u001b[49m\u001b[38;5;241;43m*\u001b[39;49m\u001b[38;5;241;43m*\u001b[39;49m\u001b[43mkwds\u001b[49m\u001b[43m,\u001b[49m\n\u001b[0;32m    933\u001b[0m \u001b[43m\u001b[49m\u001b[43m)\u001b[49m\n\u001b[0;32m    935\u001b[0m \u001b[38;5;28;01mif\u001b[39;00m dendrogram:\n\u001b[0;32m    936\u001b[0m     dp\u001b[38;5;241m.\u001b[39madd_dendrogram(dendrogram_key\u001b[38;5;241m=\u001b[39mdendrogram)\n",
      "File \u001b[1;32m~\\anaconda3\\envs\\scanpy\\lib\\site-packages\\scanpy\\plotting\\_dotplot.py:127\u001b[0m, in \u001b[0;36mDotPlot.__init__\u001b[1;34m(self, adata, var_names, groupby, use_raw, log, num_categories, categories_order, title, figsize, gene_symbols, var_group_positions, var_group_labels, var_group_rotation, layer, expression_cutoff, mean_only_expressed, standard_scale, dot_color_df, dot_size_df, ax, **kwds)\u001b[0m\n\u001b[0;32m    103\u001b[0m \u001b[38;5;28;01mdef\u001b[39;00m \u001b[38;5;21m__init__\u001b[39m(\n\u001b[0;32m    104\u001b[0m     \u001b[38;5;28mself\u001b[39m,\n\u001b[0;32m    105\u001b[0m     adata: AnnData,\n\u001b[1;32m   (...)\u001b[0m\n\u001b[0;32m    125\u001b[0m     \u001b[38;5;241m*\u001b[39m\u001b[38;5;241m*\u001b[39mkwds,\n\u001b[0;32m    126\u001b[0m ):\n\u001b[1;32m--> 127\u001b[0m     \u001b[43mBasePlot\u001b[49m\u001b[38;5;241;43m.\u001b[39;49m\u001b[38;5;21;43m__init__\u001b[39;49m\u001b[43m(\u001b[49m\n\u001b[0;32m    128\u001b[0m \u001b[43m        \u001b[49m\u001b[38;5;28;43mself\u001b[39;49m\u001b[43m,\u001b[49m\n\u001b[0;32m    129\u001b[0m \u001b[43m        \u001b[49m\u001b[43madata\u001b[49m\u001b[43m,\u001b[49m\n\u001b[0;32m    130\u001b[0m \u001b[43m        \u001b[49m\u001b[43mvar_names\u001b[49m\u001b[43m,\u001b[49m\n\u001b[0;32m    131\u001b[0m \u001b[43m        \u001b[49m\u001b[43mgroupby\u001b[49m\u001b[43m,\u001b[49m\n\u001b[0;32m    132\u001b[0m \u001b[43m        \u001b[49m\u001b[43muse_raw\u001b[49m\u001b[38;5;241;43m=\u001b[39;49m\u001b[43muse_raw\u001b[49m\u001b[43m,\u001b[49m\n\u001b[0;32m    133\u001b[0m \u001b[43m        \u001b[49m\u001b[43mlog\u001b[49m\u001b[38;5;241;43m=\u001b[39;49m\u001b[43mlog\u001b[49m\u001b[43m,\u001b[49m\n\u001b[0;32m    134\u001b[0m \u001b[43m        \u001b[49m\u001b[43mnum_categories\u001b[49m\u001b[38;5;241;43m=\u001b[39;49m\u001b[43mnum_categories\u001b[49m\u001b[43m,\u001b[49m\n\u001b[0;32m    135\u001b[0m \u001b[43m        \u001b[49m\u001b[43mcategories_order\u001b[49m\u001b[38;5;241;43m=\u001b[39;49m\u001b[43mcategories_order\u001b[49m\u001b[43m,\u001b[49m\n\u001b[0;32m    136\u001b[0m \u001b[43m        \u001b[49m\u001b[43mtitle\u001b[49m\u001b[38;5;241;43m=\u001b[39;49m\u001b[43mtitle\u001b[49m\u001b[43m,\u001b[49m\n\u001b[0;32m    137\u001b[0m \u001b[43m        \u001b[49m\u001b[43mfigsize\u001b[49m\u001b[38;5;241;43m=\u001b[39;49m\u001b[43mfigsize\u001b[49m\u001b[43m,\u001b[49m\n\u001b[0;32m    138\u001b[0m \u001b[43m        \u001b[49m\u001b[43mgene_symbols\u001b[49m\u001b[38;5;241;43m=\u001b[39;49m\u001b[43mgene_symbols\u001b[49m\u001b[43m,\u001b[49m\n\u001b[0;32m    139\u001b[0m \u001b[43m        \u001b[49m\u001b[43mvar_group_positions\u001b[49m\u001b[38;5;241;43m=\u001b[39;49m\u001b[43mvar_group_positions\u001b[49m\u001b[43m,\u001b[49m\n\u001b[0;32m    140\u001b[0m \u001b[43m        \u001b[49m\u001b[43mvar_group_labels\u001b[49m\u001b[38;5;241;43m=\u001b[39;49m\u001b[43mvar_group_labels\u001b[49m\u001b[43m,\u001b[49m\n\u001b[0;32m    141\u001b[0m \u001b[43m        \u001b[49m\u001b[43mvar_group_rotation\u001b[49m\u001b[38;5;241;43m=\u001b[39;49m\u001b[43mvar_group_rotation\u001b[49m\u001b[43m,\u001b[49m\n\u001b[0;32m    142\u001b[0m \u001b[43m        \u001b[49m\u001b[43mlayer\u001b[49m\u001b[38;5;241;43m=\u001b[39;49m\u001b[43mlayer\u001b[49m\u001b[43m,\u001b[49m\n\u001b[0;32m    143\u001b[0m \u001b[43m        \u001b[49m\u001b[43max\u001b[49m\u001b[38;5;241;43m=\u001b[39;49m\u001b[43max\u001b[49m\u001b[43m,\u001b[49m\n\u001b[0;32m    144\u001b[0m \u001b[43m        \u001b[49m\u001b[38;5;241;43m*\u001b[39;49m\u001b[38;5;241;43m*\u001b[39;49m\u001b[43mkwds\u001b[49m\u001b[43m,\u001b[49m\n\u001b[0;32m    145\u001b[0m \u001b[43m    \u001b[49m\u001b[43m)\u001b[49m\n\u001b[0;32m    147\u001b[0m     \u001b[38;5;66;03m# for if category defined by groupby (if any) compute for each var_name\u001b[39;00m\n\u001b[0;32m    148\u001b[0m     \u001b[38;5;66;03m# 1. the fraction of cells in the category having a value >expression_cutoff\u001b[39;00m\n\u001b[0;32m    149\u001b[0m     \u001b[38;5;66;03m# 2. the mean value over the category\u001b[39;00m\n\u001b[0;32m    150\u001b[0m \n\u001b[0;32m    151\u001b[0m     \u001b[38;5;66;03m# 1. compute fraction of cells having value > expression_cutoff\u001b[39;00m\n\u001b[0;32m    152\u001b[0m     \u001b[38;5;66;03m# transform obs_tidy into boolean matrix using the expression_cutoff\u001b[39;00m\n\u001b[0;32m    153\u001b[0m     obs_bool \u001b[38;5;241m=\u001b[39m \u001b[38;5;28mself\u001b[39m\u001b[38;5;241m.\u001b[39mobs_tidy \u001b[38;5;241m>\u001b[39m expression_cutoff\n",
      "File \u001b[1;32m~\\anaconda3\\envs\\scanpy\\lib\\site-packages\\scanpy\\plotting\\_baseplot_class.py:105\u001b[0m, in \u001b[0;36mBasePlot.__init__\u001b[1;34m(self, adata, var_names, groupby, use_raw, log, num_categories, categories_order, title, figsize, gene_symbols, var_group_positions, var_group_labels, var_group_rotation, layer, ax, **kwds)\u001b[0m\n\u001b[0;32m     97\u001b[0m \u001b[38;5;28mself\u001b[39m\u001b[38;5;241m.\u001b[39mhas_var_groups \u001b[38;5;241m=\u001b[39m (\n\u001b[0;32m     98\u001b[0m     \u001b[38;5;28;01mTrue\u001b[39;00m\n\u001b[0;32m     99\u001b[0m     \u001b[38;5;28;01mif\u001b[39;00m var_group_positions \u001b[38;5;129;01mis\u001b[39;00m \u001b[38;5;129;01mnot\u001b[39;00m \u001b[38;5;28;01mNone\u001b[39;00m \u001b[38;5;129;01mand\u001b[39;00m \u001b[38;5;28mlen\u001b[39m(var_group_positions) \u001b[38;5;241m>\u001b[39m \u001b[38;5;241m0\u001b[39m\n\u001b[0;32m    100\u001b[0m     \u001b[38;5;28;01melse\u001b[39;00m \u001b[38;5;28;01mFalse\u001b[39;00m\n\u001b[0;32m    101\u001b[0m )\n\u001b[0;32m    103\u001b[0m \u001b[38;5;28mself\u001b[39m\u001b[38;5;241m.\u001b[39m_update_var_groups()\n\u001b[1;32m--> 105\u001b[0m \u001b[38;5;28mself\u001b[39m\u001b[38;5;241m.\u001b[39mcategories, \u001b[38;5;28mself\u001b[39m\u001b[38;5;241m.\u001b[39mobs_tidy \u001b[38;5;241m=\u001b[39m \u001b[43m_prepare_dataframe\u001b[49m\u001b[43m(\u001b[49m\n\u001b[0;32m    106\u001b[0m \u001b[43m    \u001b[49m\u001b[43madata\u001b[49m\u001b[43m,\u001b[49m\n\u001b[0;32m    107\u001b[0m \u001b[43m    \u001b[49m\u001b[38;5;28;43mself\u001b[39;49m\u001b[38;5;241;43m.\u001b[39;49m\u001b[43mvar_names\u001b[49m\u001b[43m,\u001b[49m\n\u001b[0;32m    108\u001b[0m \u001b[43m    \u001b[49m\u001b[43mgroupby\u001b[49m\u001b[43m,\u001b[49m\n\u001b[0;32m    109\u001b[0m \u001b[43m    \u001b[49m\u001b[43muse_raw\u001b[49m\u001b[43m,\u001b[49m\n\u001b[0;32m    110\u001b[0m \u001b[43m    \u001b[49m\u001b[43mlog\u001b[49m\u001b[43m,\u001b[49m\n\u001b[0;32m    111\u001b[0m \u001b[43m    \u001b[49m\u001b[43mnum_categories\u001b[49m\u001b[43m,\u001b[49m\n\u001b[0;32m    112\u001b[0m \u001b[43m    \u001b[49m\u001b[43mlayer\u001b[49m\u001b[38;5;241;43m=\u001b[39;49m\u001b[43mlayer\u001b[49m\u001b[43m,\u001b[49m\n\u001b[0;32m    113\u001b[0m \u001b[43m    \u001b[49m\u001b[43mgene_symbols\u001b[49m\u001b[38;5;241;43m=\u001b[39;49m\u001b[43mgene_symbols\u001b[49m\u001b[43m,\u001b[49m\n\u001b[0;32m    114\u001b[0m \u001b[43m\u001b[49m\u001b[43m)\u001b[49m\n\u001b[0;32m    115\u001b[0m \u001b[38;5;28;01mif\u001b[39;00m \u001b[38;5;28mlen\u001b[39m(\u001b[38;5;28mself\u001b[39m\u001b[38;5;241m.\u001b[39mcategories) \u001b[38;5;241m>\u001b[39m \u001b[38;5;28mself\u001b[39m\u001b[38;5;241m.\u001b[39mMAX_NUM_CATEGORIES:\n\u001b[0;32m    116\u001b[0m     warn(\n\u001b[0;32m    117\u001b[0m         \u001b[38;5;124mf\u001b[39m\u001b[38;5;124m\"\u001b[39m\u001b[38;5;124mOver \u001b[39m\u001b[38;5;132;01m{\u001b[39;00m\u001b[38;5;28mself\u001b[39m\u001b[38;5;241m.\u001b[39mMAX_NUM_CATEGORIES\u001b[38;5;132;01m}\u001b[39;00m\u001b[38;5;124m categories found. \u001b[39m\u001b[38;5;124m\"\u001b[39m\n\u001b[0;32m    118\u001b[0m         \u001b[38;5;124m\"\u001b[39m\u001b[38;5;124mPlot would be very large.\u001b[39m\u001b[38;5;124m\"\u001b[39m\n\u001b[0;32m    119\u001b[0m     )\n",
      "File \u001b[1;32m~\\anaconda3\\envs\\scanpy\\lib\\site-packages\\scanpy\\plotting\\_anndata.py:1845\u001b[0m, in \u001b[0;36m_prepare_dataframe\u001b[1;34m(adata, var_names, groupby, use_raw, log, num_categories, layer, gene_symbols)\u001b[0m\n\u001b[0;32m   1843\u001b[0m     groupby\u001b[38;5;241m.\u001b[39mremove(groupby_index)\n\u001b[0;32m   1844\u001b[0m keys \u001b[38;5;241m=\u001b[39m \u001b[38;5;28mlist\u001b[39m(groupby) \u001b[38;5;241m+\u001b[39m \u001b[38;5;28mlist\u001b[39m(np\u001b[38;5;241m.\u001b[39munique(var_names))\n\u001b[1;32m-> 1845\u001b[0m obs_tidy \u001b[38;5;241m=\u001b[39m \u001b[43mget\u001b[49m\u001b[38;5;241;43m.\u001b[39;49m\u001b[43mobs_df\u001b[49m\u001b[43m(\u001b[49m\n\u001b[0;32m   1846\u001b[0m \u001b[43m    \u001b[49m\u001b[43madata\u001b[49m\u001b[43m,\u001b[49m\u001b[43m \u001b[49m\u001b[43mkeys\u001b[49m\u001b[38;5;241;43m=\u001b[39;49m\u001b[43mkeys\u001b[49m\u001b[43m,\u001b[49m\u001b[43m \u001b[49m\u001b[43mlayer\u001b[49m\u001b[38;5;241;43m=\u001b[39;49m\u001b[43mlayer\u001b[49m\u001b[43m,\u001b[49m\u001b[43m \u001b[49m\u001b[43muse_raw\u001b[49m\u001b[38;5;241;43m=\u001b[39;49m\u001b[43muse_raw\u001b[49m\u001b[43m,\u001b[49m\u001b[43m \u001b[49m\u001b[43mgene_symbols\u001b[49m\u001b[38;5;241;43m=\u001b[39;49m\u001b[43mgene_symbols\u001b[49m\n\u001b[0;32m   1847\u001b[0m \u001b[43m\u001b[49m\u001b[43m)\u001b[49m\n\u001b[0;32m   1848\u001b[0m \u001b[38;5;28;01massert\u001b[39;00m np\u001b[38;5;241m.\u001b[39mall(np\u001b[38;5;241m.\u001b[39marray(keys) \u001b[38;5;241m==\u001b[39m np\u001b[38;5;241m.\u001b[39marray(obs_tidy\u001b[38;5;241m.\u001b[39mcolumns))\n\u001b[0;32m   1850\u001b[0m \u001b[38;5;28;01mif\u001b[39;00m groupby_index \u001b[38;5;129;01mis\u001b[39;00m \u001b[38;5;129;01mnot\u001b[39;00m \u001b[38;5;28;01mNone\u001b[39;00m:\n\u001b[0;32m   1851\u001b[0m     \u001b[38;5;66;03m# reset index to treat all columns the same way.\u001b[39;00m\n",
      "File \u001b[1;32m~\\anaconda3\\envs\\scanpy\\lib\\site-packages\\scanpy\\get\\get.py:272\u001b[0m, in \u001b[0;36mobs_df\u001b[1;34m(adata, keys, obsm_keys, layer, gene_symbols, use_raw)\u001b[0m\n\u001b[0;32m    269\u001b[0m \u001b[38;5;28;01melse\u001b[39;00m:\n\u001b[0;32m    270\u001b[0m     alias_index \u001b[38;5;241m=\u001b[39m \u001b[38;5;28;01mNone\u001b[39;00m\n\u001b[1;32m--> 272\u001b[0m obs_cols, var_idx_keys, var_symbols \u001b[38;5;241m=\u001b[39m \u001b[43m_check_indices\u001b[49m\u001b[43m(\u001b[49m\n\u001b[0;32m    273\u001b[0m \u001b[43m    \u001b[49m\u001b[43madata\u001b[49m\u001b[38;5;241;43m.\u001b[39;49m\u001b[43mobs\u001b[49m\u001b[43m,\u001b[49m\n\u001b[0;32m    274\u001b[0m \u001b[43m    \u001b[49m\u001b[43mvar\u001b[49m\u001b[38;5;241;43m.\u001b[39;49m\u001b[43mindex\u001b[49m\u001b[43m,\u001b[49m\n\u001b[0;32m    275\u001b[0m \u001b[43m    \u001b[49m\u001b[38;5;124;43m\"\u001b[39;49m\u001b[38;5;124;43mobs\u001b[39;49m\u001b[38;5;124;43m\"\u001b[39;49m\u001b[43m,\u001b[49m\n\u001b[0;32m    276\u001b[0m \u001b[43m    \u001b[49m\u001b[43mkeys\u001b[49m\u001b[43m,\u001b[49m\n\u001b[0;32m    277\u001b[0m \u001b[43m    \u001b[49m\u001b[43malias_index\u001b[49m\u001b[38;5;241;43m=\u001b[39;49m\u001b[43malias_index\u001b[49m\u001b[43m,\u001b[49m\n\u001b[0;32m    278\u001b[0m \u001b[43m    \u001b[49m\u001b[43muse_raw\u001b[49m\u001b[38;5;241;43m=\u001b[39;49m\u001b[43muse_raw\u001b[49m\u001b[43m,\u001b[49m\n\u001b[0;32m    279\u001b[0m \u001b[43m\u001b[49m\u001b[43m)\u001b[49m\n\u001b[0;32m    281\u001b[0m \u001b[38;5;66;03m# Make df\u001b[39;00m\n\u001b[0;32m    282\u001b[0m df \u001b[38;5;241m=\u001b[39m pd\u001b[38;5;241m.\u001b[39mDataFrame(index\u001b[38;5;241m=\u001b[39madata\u001b[38;5;241m.\u001b[39mobs_names)\n",
      "File \u001b[1;32m~\\anaconda3\\envs\\scanpy\\lib\\site-packages\\scanpy\\get\\get.py:167\u001b[0m, in \u001b[0;36m_check_indices\u001b[1;34m(dim_df, alt_index, dim, keys, alias_index, use_raw)\u001b[0m\n\u001b[0;32m    165\u001b[0m         not_found\u001b[38;5;241m.\u001b[39mappend(key)\n\u001b[0;32m    166\u001b[0m \u001b[38;5;28;01mif\u001b[39;00m \u001b[38;5;28mlen\u001b[39m(not_found) \u001b[38;5;241m>\u001b[39m \u001b[38;5;241m0\u001b[39m:\n\u001b[1;32m--> 167\u001b[0m     \u001b[38;5;28;01mraise\u001b[39;00m \u001b[38;5;167;01mKeyError\u001b[39;00m(\n\u001b[0;32m    168\u001b[0m         \u001b[38;5;124mf\u001b[39m\u001b[38;5;124m\"\u001b[39m\u001b[38;5;124mCould not find keys \u001b[39m\u001b[38;5;124m'\u001b[39m\u001b[38;5;132;01m{\u001b[39;00mnot_found\u001b[38;5;132;01m}\u001b[39;00m\u001b[38;5;124m'\u001b[39m\u001b[38;5;124m in columns of `adata.\u001b[39m\u001b[38;5;132;01m{\u001b[39;00mdim\u001b[38;5;132;01m}\u001b[39;00m\u001b[38;5;124m` or in\u001b[39m\u001b[38;5;124m\"\u001b[39m\n\u001b[0;32m    169\u001b[0m         \u001b[38;5;124mf\u001b[39m\u001b[38;5;124m\"\u001b[39m\u001b[38;5;124m \u001b[39m\u001b[38;5;132;01m{\u001b[39;00malt_repr\u001b[38;5;132;01m}\u001b[39;00m\u001b[38;5;124m.\u001b[39m\u001b[38;5;132;01m{\u001b[39;00malt_search_repr\u001b[38;5;132;01m}\u001b[39;00m\u001b[38;5;124m.\u001b[39m\u001b[38;5;124m\"\u001b[39m\n\u001b[0;32m    170\u001b[0m     )\n\u001b[0;32m    172\u001b[0m \u001b[38;5;28;01mreturn\u001b[39;00m col_keys, index_keys, index_aliases\n",
      "\u001b[1;31mKeyError\u001b[0m: \"Could not find keys '['rank_genes_groups']' in columns of `adata.obs` or in adata.var_names.\""
     ]
    }
   ],
   "source": [
    "sc.pl.dotplot(adata, \"rank_genes_groups\", 'description', dendrogram=True)"
   ]
  },
  {
   "cell_type": "code",
   "execution_count": 242,
   "id": "f8eaf6e0-579f-4c94-978e-b4f4006c32f9",
   "metadata": {},
   "outputs": [
    {
     "data": {
      "text/plain": [
       "AnnData object with n_obs × n_vars = 380 × 1001\n",
       "    obs: 'strains', 'classes', 'description', 'clusters'\n",
       "    var: 0, 'n_counts'\n",
       "    uns: 'pca', 'neighbors', 'leiden', 'umap', 'description_colors', 'clusters_colors', 'rank_genes_groups'\n",
       "    obsm: 'X_pca', 'X_umap'\n",
       "    varm: 'PCs'\n",
       "    obsp: 'distances', 'connectivities'"
      ]
     },
     "execution_count": 242,
     "metadata": {},
     "output_type": "execute_result"
    }
   ],
   "source": [
    "adata"
   ]
  },
  {
   "cell_type": "code",
   "execution_count": null,
   "id": "a6eb925b-e8b4-45ea-9815-2aebf75fbcea",
   "metadata": {},
   "outputs": [],
   "source": []
  },
  {
   "cell_type": "code",
   "execution_count": null,
   "id": "2ddd1c86-15ab-478b-bde5-d2722ab485d8",
   "metadata": {},
   "outputs": [],
   "source": []
  }
 ],
 "metadata": {
  "kernelspec": {
   "display_name": "Python 3 (ipykernel)",
   "language": "python",
   "name": "python3"
  },
  "language_info": {
   "codemirror_mode": {
    "name": "ipython",
    "version": 3
   },
   "file_extension": ".py",
   "mimetype": "text/x-python",
   "name": "python",
   "nbconvert_exporter": "python",
   "pygments_lexer": "ipython3",
   "version": "3.9.10"
  }
 },
 "nbformat": 4,
 "nbformat_minor": 5
}
