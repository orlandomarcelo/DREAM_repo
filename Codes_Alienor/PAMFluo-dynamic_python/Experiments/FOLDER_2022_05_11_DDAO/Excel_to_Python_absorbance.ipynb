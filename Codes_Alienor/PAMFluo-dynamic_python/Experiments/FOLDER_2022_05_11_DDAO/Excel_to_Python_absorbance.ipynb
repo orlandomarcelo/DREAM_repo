{
 "cells": [
  {
   "cell_type": "code",
   "execution_count": 180,
   "metadata": {},
   "outputs": [],
   "source": [
    "import numpy as np\n",
    "import matplotlib.pyplot as plt\n",
    "import pandas as pd"
   ]
  },
  {
   "cell_type": "markdown",
   "metadata": {},
   "source": [
    "### write file name"
   ]
  },
  {
   "cell_type": "code",
   "execution_count": 181,
   "metadata": {},
   "outputs": [],
   "source": [
    "file= \"DDAO/abs/DDAO_UV.csv\"\n",
    "file2 = \"DDAO/abs/DDAO_fluo_sample.csv\""
   ]
  },
  {
   "cell_type": "markdown",
   "metadata": {},
   "source": [
    "### catch file"
   ]
  },
  {
   "cell_type": "code",
   "execution_count": 182,
   "metadata": {},
   "outputs": [],
   "source": [
    "#from tkinter.filedialog import askopenfilename\n",
    "\n",
    "#file = askopenfilename()\n"
   ]
  },
  {
   "cell_type": "markdown",
   "metadata": {},
   "source": [
    "### open file"
   ]
  },
  {
   "cell_type": "code",
   "execution_count": 183,
   "metadata": {},
   "outputs": [
    {
     "data": {
      "text/html": [
       "<div>\n",
       "<style scoped>\n",
       "    .dataframe tbody tr th:only-of-type {\n",
       "        vertical-align: middle;\n",
       "    }\n",
       "\n",
       "    .dataframe tbody tr th {\n",
       "        vertical-align: top;\n",
       "    }\n",
       "\n",
       "    .dataframe thead th {\n",
       "        text-align: right;\n",
       "    }\n",
       "</style>\n",
       "<table border=\"1\" class=\"dataframe\">\n",
       "  <thead>\n",
       "    <tr style=\"text-align: right;\">\n",
       "      <th></th>\n",
       "      <th>zero</th>\n",
       "      <th>Unnamed: 1</th>\n",
       "      <th>zero1</th>\n",
       "      <th>Unnamed: 3</th>\n",
       "      <th>DDAO_15uM</th>\n",
       "      <th>Unnamed: 5</th>\n",
       "      <th>DDAO_10uM1</th>\n",
       "      <th>Unnamed: 7</th>\n",
       "      <th>Unnamed: 8</th>\n",
       "    </tr>\n",
       "  </thead>\n",
       "  <tbody>\n",
       "    <tr>\n",
       "      <th>0</th>\n",
       "      <td>Wavelength (nm)</td>\n",
       "      <td>Abs</td>\n",
       "      <td>Wavelength (nm)</td>\n",
       "      <td>Abs</td>\n",
       "      <td>Wavelength (nm)</td>\n",
       "      <td>Abs</td>\n",
       "      <td>Wavelength (nm)</td>\n",
       "      <td>Abs</td>\n",
       "      <td>NaN</td>\n",
       "    </tr>\n",
       "    <tr>\n",
       "      <th>1</th>\n",
       "      <td>800</td>\n",
       "      <td>0.0001505271066</td>\n",
       "      <td>800</td>\n",
       "      <td>-1.931050247E-5</td>\n",
       "      <td>800</td>\n",
       "      <td>0.00565772783</td>\n",
       "      <td>800</td>\n",
       "      <td>0.003279340453</td>\n",
       "      <td>NaN</td>\n",
       "    </tr>\n",
       "    <tr>\n",
       "      <th>2</th>\n",
       "      <td>799</td>\n",
       "      <td>0.0011550911</td>\n",
       "      <td>799</td>\n",
       "      <td>0.0009177983156</td>\n",
       "      <td>799</td>\n",
       "      <td>0.006832087878</td>\n",
       "      <td>799</td>\n",
       "      <td>0.00457021175</td>\n",
       "      <td>NaN</td>\n",
       "    </tr>\n",
       "    <tr>\n",
       "      <th>3</th>\n",
       "      <td>798</td>\n",
       "      <td>0.001457545208</td>\n",
       "      <td>798</td>\n",
       "      <td>0.0007245828747</td>\n",
       "      <td>798</td>\n",
       "      <td>0.006431830581</td>\n",
       "      <td>798</td>\n",
       "      <td>0.00386104919</td>\n",
       "      <td>NaN</td>\n",
       "    </tr>\n",
       "    <tr>\n",
       "      <th>4</th>\n",
       "      <td>797</td>\n",
       "      <td>0.00128472934</td>\n",
       "      <td>797</td>\n",
       "      <td>0.001299606171</td>\n",
       "      <td>797</td>\n",
       "      <td>0.006795379333</td>\n",
       "      <td>797</td>\n",
       "      <td>0.004175090697</td>\n",
       "      <td>NaN</td>\n",
       "    </tr>\n",
       "    <tr>\n",
       "      <th>...</th>\n",
       "      <td>...</td>\n",
       "      <td>...</td>\n",
       "      <td>...</td>\n",
       "      <td>...</td>\n",
       "      <td>...</td>\n",
       "      <td>...</td>\n",
       "      <td>...</td>\n",
       "      <td>...</td>\n",
       "      <td>...</td>\n",
       "    </tr>\n",
       "    <tr>\n",
       "      <th>721</th>\n",
       "      <td>Date/Time stamp: 12/05/2022 09:24:23</td>\n",
       "      <td>NaN</td>\n",
       "      <td>NaN</td>\n",
       "      <td>NaN</td>\n",
       "      <td>NaN</td>\n",
       "      <td>NaN</td>\n",
       "      <td>NaN</td>\n",
       "      <td>NaN</td>\n",
       "      <td>NaN</td>\n",
       "    </tr>\n",
       "    <tr>\n",
       "      <th>722</th>\n",
       "      <td>Method Modifications: None</td>\n",
       "      <td>NaN</td>\n",
       "      <td>NaN</td>\n",
       "      <td>NaN</td>\n",
       "      <td>NaN</td>\n",
       "      <td>NaN</td>\n",
       "      <td>NaN</td>\n",
       "      <td>NaN</td>\n",
       "      <td>NaN</td>\n",
       "    </tr>\n",
       "    <tr>\n",
       "      <th>723</th>\n",
       "      <td>&lt;SBW (nm)&gt;</td>\n",
       "      <td>2.00</td>\n",
       "      <td>NaN</td>\n",
       "      <td>NaN</td>\n",
       "      <td>NaN</td>\n",
       "      <td>NaN</td>\n",
       "      <td>NaN</td>\n",
       "      <td>NaN</td>\n",
       "      <td>NaN</td>\n",
       "    </tr>\n",
       "    <tr>\n",
       "      <th>724</th>\n",
       "      <td>&lt;Energy&gt;</td>\n",
       "      <td>255.00</td>\n",
       "      <td>NaN</td>\n",
       "      <td>NaN</td>\n",
       "      <td>NaN</td>\n",
       "      <td>NaN</td>\n",
       "      <td>NaN</td>\n",
       "      <td>NaN</td>\n",
       "      <td>NaN</td>\n",
       "    </tr>\n",
       "    <tr>\n",
       "      <th>725</th>\n",
       "      <td>&lt;Current Wavelength&gt;</td>\n",
       "      <td>200.00</td>\n",
       "      <td>NaN</td>\n",
       "      <td>NaN</td>\n",
       "      <td>NaN</td>\n",
       "      <td>NaN</td>\n",
       "      <td>NaN</td>\n",
       "      <td>NaN</td>\n",
       "      <td>NaN</td>\n",
       "    </tr>\n",
       "  </tbody>\n",
       "</table>\n",
       "<p>726 rows × 9 columns</p>\n",
       "</div>"
      ],
      "text/plain": [
       "                                     zero       Unnamed: 1            zero1  \\\n",
       "0                         Wavelength (nm)              Abs  Wavelength (nm)   \n",
       "1                                     800  0.0001505271066              800   \n",
       "2                                     799     0.0011550911              799   \n",
       "3                                     798   0.001457545208              798   \n",
       "4                                     797    0.00128472934              797   \n",
       "..                                    ...              ...              ...   \n",
       "721  Date/Time stamp: 12/05/2022 09:24:23              NaN              NaN   \n",
       "722            Method Modifications: None              NaN              NaN   \n",
       "723                           <SBW (nm)>              2.00              NaN   \n",
       "724                             <Energy>            255.00              NaN   \n",
       "725                 <Current Wavelength>            200.00              NaN   \n",
       "\n",
       "          Unnamed: 3        DDAO_15uM      Unnamed: 5       DDAO_10uM1  \\\n",
       "0                Abs  Wavelength (nm)             Abs  Wavelength (nm)   \n",
       "1    -1.931050247E-5              800   0.00565772783              800   \n",
       "2    0.0009177983156              799  0.006832087878              799   \n",
       "3    0.0007245828747              798  0.006431830581              798   \n",
       "4     0.001299606171              797  0.006795379333              797   \n",
       "..               ...              ...             ...              ...   \n",
       "721              NaN              NaN             NaN              NaN   \n",
       "722              NaN              NaN             NaN              NaN   \n",
       "723              NaN              NaN             NaN              NaN   \n",
       "724              NaN              NaN             NaN              NaN   \n",
       "725              NaN              NaN             NaN              NaN   \n",
       "\n",
       "         Unnamed: 7  Unnamed: 8  \n",
       "0               Abs         NaN  \n",
       "1    0.003279340453         NaN  \n",
       "2     0.00457021175         NaN  \n",
       "3     0.00386104919         NaN  \n",
       "4    0.004175090697         NaN  \n",
       "..              ...         ...  \n",
       "721             NaN         NaN  \n",
       "722             NaN         NaN  \n",
       "723             NaN         NaN  \n",
       "724             NaN         NaN  \n",
       "725             NaN         NaN  \n",
       "\n",
       "[726 rows x 9 columns]"
      ]
     },
     "execution_count": 183,
     "metadata": {},
     "output_type": "execute_result"
    }
   ],
   "source": [
    "pd.read_csv(file, sep = ',')"
   ]
  },
  {
   "cell_type": "markdown",
   "metadata": {},
   "source": [
    "### automatically remove the extra-content:"
   ]
  },
  {
   "cell_type": "code",
   "execution_count": 184,
   "metadata": {},
   "outputs": [
    {
     "name": "stderr",
     "output_type": "stream",
     "text": [
      "C:\\Users\\Alienor\\AppData\\Local\\Temp\\ipykernel_16628\\2921944813.py:1: ParserWarning: Falling back to the 'python' engine because the 'c' engine does not support skipfooter; you can avoid this warning by specifying engine='python'.\n",
      "  df = pd.read_csv(file, skiprows = [1], skipfooter = 320, sep = \",\")\n"
     ]
    },
    {
     "data": {
      "text/html": [
       "<div>\n",
       "<style scoped>\n",
       "    .dataframe tbody tr th:only-of-type {\n",
       "        vertical-align: middle;\n",
       "    }\n",
       "\n",
       "    .dataframe tbody tr th {\n",
       "        vertical-align: top;\n",
       "    }\n",
       "\n",
       "    .dataframe thead th {\n",
       "        text-align: right;\n",
       "    }\n",
       "</style>\n",
       "<table border=\"1\" class=\"dataframe\">\n",
       "  <thead>\n",
       "    <tr style=\"text-align: right;\">\n",
       "      <th></th>\n",
       "      <th>zero</th>\n",
       "      <th>Unnamed: 1</th>\n",
       "      <th>zero1</th>\n",
       "      <th>Unnamed: 3</th>\n",
       "      <th>DDAO_15uM</th>\n",
       "      <th>Unnamed: 5</th>\n",
       "      <th>DDAO_10uM1</th>\n",
       "      <th>Unnamed: 7</th>\n",
       "      <th>Unnamed: 8</th>\n",
       "    </tr>\n",
       "  </thead>\n",
       "  <tbody>\n",
       "    <tr>\n",
       "      <th>0</th>\n",
       "      <td>800</td>\n",
       "      <td>0.000151</td>\n",
       "      <td>800</td>\n",
       "      <td>-0.000019</td>\n",
       "      <td>800</td>\n",
       "      <td>0.005658</td>\n",
       "      <td>800</td>\n",
       "      <td>0.003279</td>\n",
       "      <td>NaN</td>\n",
       "    </tr>\n",
       "    <tr>\n",
       "      <th>1</th>\n",
       "      <td>799</td>\n",
       "      <td>0.001155</td>\n",
       "      <td>799</td>\n",
       "      <td>0.000918</td>\n",
       "      <td>799</td>\n",
       "      <td>0.006832</td>\n",
       "      <td>799</td>\n",
       "      <td>0.004570</td>\n",
       "      <td>NaN</td>\n",
       "    </tr>\n",
       "    <tr>\n",
       "      <th>2</th>\n",
       "      <td>798</td>\n",
       "      <td>0.001458</td>\n",
       "      <td>798</td>\n",
       "      <td>0.000725</td>\n",
       "      <td>798</td>\n",
       "      <td>0.006432</td>\n",
       "      <td>798</td>\n",
       "      <td>0.003861</td>\n",
       "      <td>NaN</td>\n",
       "    </tr>\n",
       "    <tr>\n",
       "      <th>3</th>\n",
       "      <td>797</td>\n",
       "      <td>0.001285</td>\n",
       "      <td>797</td>\n",
       "      <td>0.001300</td>\n",
       "      <td>797</td>\n",
       "      <td>0.006795</td>\n",
       "      <td>797</td>\n",
       "      <td>0.004175</td>\n",
       "      <td>NaN</td>\n",
       "    </tr>\n",
       "    <tr>\n",
       "      <th>4</th>\n",
       "      <td>796</td>\n",
       "      <td>0.000865</td>\n",
       "      <td>796</td>\n",
       "      <td>0.001059</td>\n",
       "      <td>796</td>\n",
       "      <td>0.006918</td>\n",
       "      <td>796</td>\n",
       "      <td>0.004019</td>\n",
       "      <td>NaN</td>\n",
       "    </tr>\n",
       "    <tr>\n",
       "      <th>...</th>\n",
       "      <td>...</td>\n",
       "      <td>...</td>\n",
       "      <td>...</td>\n",
       "      <td>...</td>\n",
       "      <td>...</td>\n",
       "      <td>...</td>\n",
       "      <td>...</td>\n",
       "      <td>...</td>\n",
       "      <td>...</td>\n",
       "    </tr>\n",
       "    <tr>\n",
       "      <th>405</th>\n",
       "      <td>395</td>\n",
       "      <td>-0.010410</td>\n",
       "      <td>395</td>\n",
       "      <td>-0.010500</td>\n",
       "      <td>395</td>\n",
       "      <td>0.002573</td>\n",
       "      <td>395</td>\n",
       "      <td>-0.002044</td>\n",
       "      <td>NaN</td>\n",
       "    </tr>\n",
       "    <tr>\n",
       "      <th>406</th>\n",
       "      <td>394</td>\n",
       "      <td>-0.010746</td>\n",
       "      <td>394</td>\n",
       "      <td>-0.010323</td>\n",
       "      <td>394</td>\n",
       "      <td>0.002521</td>\n",
       "      <td>394</td>\n",
       "      <td>-0.001988</td>\n",
       "      <td>NaN</td>\n",
       "    </tr>\n",
       "    <tr>\n",
       "      <th>407</th>\n",
       "      <td>393</td>\n",
       "      <td>-0.010573</td>\n",
       "      <td>393</td>\n",
       "      <td>-0.010616</td>\n",
       "      <td>393</td>\n",
       "      <td>0.002630</td>\n",
       "      <td>393</td>\n",
       "      <td>-0.002199</td>\n",
       "      <td>NaN</td>\n",
       "    </tr>\n",
       "    <tr>\n",
       "      <th>408</th>\n",
       "      <td>392</td>\n",
       "      <td>-0.010680</td>\n",
       "      <td>392</td>\n",
       "      <td>-0.010690</td>\n",
       "      <td>392</td>\n",
       "      <td>0.002415</td>\n",
       "      <td>392</td>\n",
       "      <td>-0.002111</td>\n",
       "      <td>NaN</td>\n",
       "    </tr>\n",
       "    <tr>\n",
       "      <th>409</th>\n",
       "      <td>391</td>\n",
       "      <td>-0.010685</td>\n",
       "      <td>391</td>\n",
       "      <td>-0.010881</td>\n",
       "      <td>391</td>\n",
       "      <td>0.002418</td>\n",
       "      <td>391</td>\n",
       "      <td>-0.001999</td>\n",
       "      <td>NaN</td>\n",
       "    </tr>\n",
       "  </tbody>\n",
       "</table>\n",
       "<p>410 rows × 9 columns</p>\n",
       "</div>"
      ],
      "text/plain": [
       "     zero  Unnamed: 1  zero1  Unnamed: 3  DDAO_15uM  Unnamed: 5  DDAO_10uM1  \\\n",
       "0     800    0.000151    800   -0.000019        800    0.005658         800   \n",
       "1     799    0.001155    799    0.000918        799    0.006832         799   \n",
       "2     798    0.001458    798    0.000725        798    0.006432         798   \n",
       "3     797    0.001285    797    0.001300        797    0.006795         797   \n",
       "4     796    0.000865    796    0.001059        796    0.006918         796   \n",
       "..    ...         ...    ...         ...        ...         ...         ...   \n",
       "405   395   -0.010410    395   -0.010500        395    0.002573         395   \n",
       "406   394   -0.010746    394   -0.010323        394    0.002521         394   \n",
       "407   393   -0.010573    393   -0.010616        393    0.002630         393   \n",
       "408   392   -0.010680    392   -0.010690        392    0.002415         392   \n",
       "409   391   -0.010685    391   -0.010881        391    0.002418         391   \n",
       "\n",
       "     Unnamed: 7  Unnamed: 8  \n",
       "0      0.003279         NaN  \n",
       "1      0.004570         NaN  \n",
       "2      0.003861         NaN  \n",
       "3      0.004175         NaN  \n",
       "4      0.004019         NaN  \n",
       "..          ...         ...  \n",
       "405   -0.002044         NaN  \n",
       "406   -0.001988         NaN  \n",
       "407   -0.002199         NaN  \n",
       "408   -0.002111         NaN  \n",
       "409   -0.001999         NaN  \n",
       "\n",
       "[410 rows x 9 columns]"
      ]
     },
     "execution_count": 184,
     "metadata": {},
     "output_type": "execute_result"
    }
   ],
   "source": [
    "df = pd.read_csv(file, skiprows = [1], skipfooter = 320, sep = \",\")\n",
    "df"
   ]
  },
  {
   "cell_type": "markdown",
   "metadata": {},
   "source": [
    "### rename the unnamed columns\n",
    "with a little trick"
   ]
  },
  {
   "cell_type": "code",
   "execution_count": 185,
   "metadata": {},
   "outputs": [
    {
     "name": "stderr",
     "output_type": "stream",
     "text": [
      "C:\\Users\\Alienor\\AppData\\Local\\Temp\\ipykernel_16628\\3868840309.py:1: FutureWarning: In a future version of pandas all arguments of DataFrame.set_axis except for the argument 'labels' will be keyword-only.\n",
      "  df = df.set_axis(np.roll(df.columns, 1), 1) #displace the column name to the neighbouring colum\n"
     ]
    },
    {
     "data": {
      "text/html": [
       "<div>\n",
       "<style scoped>\n",
       "    .dataframe tbody tr th:only-of-type {\n",
       "        vertical-align: middle;\n",
       "    }\n",
       "\n",
       "    .dataframe tbody tr th {\n",
       "        vertical-align: top;\n",
       "    }\n",
       "\n",
       "    .dataframe thead th {\n",
       "        text-align: right;\n",
       "    }\n",
       "</style>\n",
       "<table border=\"1\" class=\"dataframe\">\n",
       "  <thead>\n",
       "    <tr style=\"text-align: right;\">\n",
       "      <th></th>\n",
       "      <th>Unnamed: 8</th>\n",
       "      <th>zero</th>\n",
       "      <th>Unnamed: 1</th>\n",
       "      <th>zero1</th>\n",
       "      <th>Unnamed: 3</th>\n",
       "      <th>DDAO_15uM</th>\n",
       "      <th>Unnamed: 5</th>\n",
       "      <th>DDAO_10uM1</th>\n",
       "      <th>Unnamed: 7</th>\n",
       "    </tr>\n",
       "  </thead>\n",
       "  <tbody>\n",
       "    <tr>\n",
       "      <th>0</th>\n",
       "      <td>800</td>\n",
       "      <td>0.000151</td>\n",
       "      <td>800</td>\n",
       "      <td>-0.000019</td>\n",
       "      <td>800</td>\n",
       "      <td>0.005658</td>\n",
       "      <td>800</td>\n",
       "      <td>0.003279</td>\n",
       "      <td>NaN</td>\n",
       "    </tr>\n",
       "    <tr>\n",
       "      <th>1</th>\n",
       "      <td>799</td>\n",
       "      <td>0.001155</td>\n",
       "      <td>799</td>\n",
       "      <td>0.000918</td>\n",
       "      <td>799</td>\n",
       "      <td>0.006832</td>\n",
       "      <td>799</td>\n",
       "      <td>0.004570</td>\n",
       "      <td>NaN</td>\n",
       "    </tr>\n",
       "    <tr>\n",
       "      <th>2</th>\n",
       "      <td>798</td>\n",
       "      <td>0.001458</td>\n",
       "      <td>798</td>\n",
       "      <td>0.000725</td>\n",
       "      <td>798</td>\n",
       "      <td>0.006432</td>\n",
       "      <td>798</td>\n",
       "      <td>0.003861</td>\n",
       "      <td>NaN</td>\n",
       "    </tr>\n",
       "    <tr>\n",
       "      <th>3</th>\n",
       "      <td>797</td>\n",
       "      <td>0.001285</td>\n",
       "      <td>797</td>\n",
       "      <td>0.001300</td>\n",
       "      <td>797</td>\n",
       "      <td>0.006795</td>\n",
       "      <td>797</td>\n",
       "      <td>0.004175</td>\n",
       "      <td>NaN</td>\n",
       "    </tr>\n",
       "    <tr>\n",
       "      <th>4</th>\n",
       "      <td>796</td>\n",
       "      <td>0.000865</td>\n",
       "      <td>796</td>\n",
       "      <td>0.001059</td>\n",
       "      <td>796</td>\n",
       "      <td>0.006918</td>\n",
       "      <td>796</td>\n",
       "      <td>0.004019</td>\n",
       "      <td>NaN</td>\n",
       "    </tr>\n",
       "    <tr>\n",
       "      <th>...</th>\n",
       "      <td>...</td>\n",
       "      <td>...</td>\n",
       "      <td>...</td>\n",
       "      <td>...</td>\n",
       "      <td>...</td>\n",
       "      <td>...</td>\n",
       "      <td>...</td>\n",
       "      <td>...</td>\n",
       "      <td>...</td>\n",
       "    </tr>\n",
       "    <tr>\n",
       "      <th>405</th>\n",
       "      <td>395</td>\n",
       "      <td>-0.010410</td>\n",
       "      <td>395</td>\n",
       "      <td>-0.010500</td>\n",
       "      <td>395</td>\n",
       "      <td>0.002573</td>\n",
       "      <td>395</td>\n",
       "      <td>-0.002044</td>\n",
       "      <td>NaN</td>\n",
       "    </tr>\n",
       "    <tr>\n",
       "      <th>406</th>\n",
       "      <td>394</td>\n",
       "      <td>-0.010746</td>\n",
       "      <td>394</td>\n",
       "      <td>-0.010323</td>\n",
       "      <td>394</td>\n",
       "      <td>0.002521</td>\n",
       "      <td>394</td>\n",
       "      <td>-0.001988</td>\n",
       "      <td>NaN</td>\n",
       "    </tr>\n",
       "    <tr>\n",
       "      <th>407</th>\n",
       "      <td>393</td>\n",
       "      <td>-0.010573</td>\n",
       "      <td>393</td>\n",
       "      <td>-0.010616</td>\n",
       "      <td>393</td>\n",
       "      <td>0.002630</td>\n",
       "      <td>393</td>\n",
       "      <td>-0.002199</td>\n",
       "      <td>NaN</td>\n",
       "    </tr>\n",
       "    <tr>\n",
       "      <th>408</th>\n",
       "      <td>392</td>\n",
       "      <td>-0.010680</td>\n",
       "      <td>392</td>\n",
       "      <td>-0.010690</td>\n",
       "      <td>392</td>\n",
       "      <td>0.002415</td>\n",
       "      <td>392</td>\n",
       "      <td>-0.002111</td>\n",
       "      <td>NaN</td>\n",
       "    </tr>\n",
       "    <tr>\n",
       "      <th>409</th>\n",
       "      <td>391</td>\n",
       "      <td>-0.010685</td>\n",
       "      <td>391</td>\n",
       "      <td>-0.010881</td>\n",
       "      <td>391</td>\n",
       "      <td>0.002418</td>\n",
       "      <td>391</td>\n",
       "      <td>-0.001999</td>\n",
       "      <td>NaN</td>\n",
       "    </tr>\n",
       "  </tbody>\n",
       "</table>\n",
       "<p>410 rows × 9 columns</p>\n",
       "</div>"
      ],
      "text/plain": [
       "     Unnamed: 8      zero  Unnamed: 1     zero1  Unnamed: 3  DDAO_15uM  \\\n",
       "0           800  0.000151         800 -0.000019         800   0.005658   \n",
       "1           799  0.001155         799  0.000918         799   0.006832   \n",
       "2           798  0.001458         798  0.000725         798   0.006432   \n",
       "3           797  0.001285         797  0.001300         797   0.006795   \n",
       "4           796  0.000865         796  0.001059         796   0.006918   \n",
       "..          ...       ...         ...       ...         ...        ...   \n",
       "405         395 -0.010410         395 -0.010500         395   0.002573   \n",
       "406         394 -0.010746         394 -0.010323         394   0.002521   \n",
       "407         393 -0.010573         393 -0.010616         393   0.002630   \n",
       "408         392 -0.010680         392 -0.010690         392   0.002415   \n",
       "409         391 -0.010685         391 -0.010881         391   0.002418   \n",
       "\n",
       "     Unnamed: 5  DDAO_10uM1  Unnamed: 7  \n",
       "0           800    0.003279         NaN  \n",
       "1           799    0.004570         NaN  \n",
       "2           798    0.003861         NaN  \n",
       "3           797    0.004175         NaN  \n",
       "4           796    0.004019         NaN  \n",
       "..          ...         ...         ...  \n",
       "405         395   -0.002044         NaN  \n",
       "406         394   -0.001988         NaN  \n",
       "407         393   -0.002199         NaN  \n",
       "408         392   -0.002111         NaN  \n",
       "409         391   -0.001999         NaN  \n",
       "\n",
       "[410 rows x 9 columns]"
      ]
     },
     "execution_count": 185,
     "metadata": {},
     "output_type": "execute_result"
    }
   ],
   "source": [
    "\n",
    "df = df.set_axis(np.roll(df.columns, 1), 1) #displace the column name to the neighbouring colum\n",
    "headers = np.copy(df.columns)\n",
    "\n",
    "df"
   ]
  },
  {
   "cell_type": "code",
   "execution_count": 186,
   "metadata": {},
   "outputs": [
    {
     "name": "stderr",
     "output_type": "stream",
     "text": [
      "C:\\Users\\Alienor\\AppData\\Local\\Temp\\ipykernel_16628\\324599968.py:1: ParserWarning: Falling back to the 'python' engine because the 'c' engine does not support skipfooter; you can avoid this warning by specifying engine='python'.\n",
      "  df2 = pd.read_csv(file2, skiprows = [1], skipfooter = 320, sep = \",\")\n",
      "C:\\Users\\Alienor\\AppData\\Local\\Temp\\ipykernel_16628\\324599968.py:3: FutureWarning: In a future version of pandas all arguments of DataFrame.set_axis except for the argument 'labels' will be keyword-only.\n",
      "  df2 = df2.set_axis(np.roll(df2.columns, 1), 1) #displace the column name to the neighbouring colum\n"
     ]
    }
   ],
   "source": [
    "\n",
    "df2 = pd.read_csv(file2, skiprows = [1], skipfooter = 320, sep = \",\")\n",
    "\n",
    "df2 = df2.set_axis(np.roll(df2.columns, 1), 1) #displace the column name to the neighbouring colum\n",
    "headers2 = np.copy(df2.columns)\n",
    "\n",
    "headers2 =  df2.columns"
   ]
  },
  {
   "cell_type": "markdown",
   "metadata": {},
   "source": [
    "### plot the curves on one graph and remove the blank"
   ]
  },
  {
   "cell_type": "code",
   "execution_count": 187,
   "metadata": {},
   "outputs": [
    {
     "data": {
      "text/plain": [
       "4"
      ]
     },
     "execution_count": 187,
     "metadata": {},
     "output_type": "execute_result"
    }
   ],
   "source": [
    "len(df.columns)//2"
   ]
  },
  {
   "cell_type": "code",
   "execution_count": 188,
   "metadata": {},
   "outputs": [
    {
     "data": {
      "text/plain": [
       "0      0.000070\n",
       "1      0.001122\n",
       "2      0.000798\n",
       "3      0.000888\n",
       "4      0.000727\n",
       "         ...   \n",
       "341    0.003392\n",
       "342    0.003669\n",
       "343    0.003675\n",
       "344    0.003588\n",
       "345    0.003638\n",
       "Name: sample1, Length: 346, dtype: float64"
      ]
     },
     "execution_count": 188,
     "metadata": {},
     "output_type": "execute_result"
    }
   ],
   "source": [
    "df2[\"sample1\"]"
   ]
  },
  {
   "cell_type": "code",
   "execution_count": 189,
   "metadata": {},
   "outputs": [
    {
     "name": "stdout",
     "output_type": "stream",
     "text": [
      "Unnamed: 1 zero1\n",
      "Unnamed: 3 DDAO_15uM\n",
      "Unnamed: 5 DDAO_10uM1\n",
      "Unnamed: 1 DDAO_fluo\n"
     ]
    },
    {
     "data": {
      "image/png": "[encoded data removed]",
      "text/plain": [
       "<Figure size 720x720 with 1 Axes>"
      ]
     },
     "metadata": {
      "needs_background": "light"
     },
     "output_type": "display_data"
    }
   ],
   "source": [
    "headers =  df.columns\n",
    "ax = df.plot(x = headers[0], y = headers[1], figsize = (10, 10))\n",
    "for i in range(1, len(headers)//2):\n",
    "    print(headers[2*i], headers[2*i+1]) \n",
    "    x = headers[2*i]\n",
    "    y = headers[2*i+1]\n",
    "    df[headers[2*i + 1]] -= df[\"zero1\"] #remove the blank\n",
    "    df.plot(x = headers[2*i], y = headers[2*i + 1], ax = ax) #plot\n",
    "\n",
    "\n",
    "for i in range(1, len(headers2)//2):\n",
    "    print(headers2[2*i], headers2[2*i+1]) \n",
    "    x = headers2[2*i]\n",
    "    y = headers2[2*i+1]\n",
    "    df2[headers2[2*i + 1]] -= df2[\"sample1\"] #remove the blank\n",
    "    df2.plot(x = headers2[2*i], y = headers2[2*i + 1], ax = ax) #plot\n",
    "    \n"
   ]
  },
  {
   "cell_type": "markdown",
   "metadata": {},
   "source": [
    "### select the maxima"
   ]
  },
  {
   "cell_type": "code",
   "execution_count": 115,
   "metadata": {},
   "outputs": [
    {
     "data": {
      "text/html": [
       "<div>\n",
       "<style scoped>\n",
       "    .dataframe tbody tr th:only-of-type {\n",
       "        vertical-align: middle;\n",
       "    }\n",
       "\n",
       "    .dataframe tbody tr th {\n",
       "        vertical-align: top;\n",
       "    }\n",
       "\n",
       "    .dataframe thead th {\n",
       "        text-align: right;\n",
       "    }\n",
       "</style>\n",
       "<table border=\"1\" class=\"dataframe\">\n",
       "  <thead>\n",
       "    <tr style=\"text-align: right;\">\n",
       "      <th></th>\n",
       "      <th>Unnamed: 8</th>\n",
       "      <th>zero</th>\n",
       "      <th>Unnamed: 1</th>\n",
       "      <th>zero1</th>\n",
       "      <th>Unnamed: 3</th>\n",
       "      <th>DDAO_15uM</th>\n",
       "      <th>Unnamed: 5</th>\n",
       "      <th>DDAO_10uM1</th>\n",
       "      <th>Unnamed: 7</th>\n",
       "    </tr>\n",
       "  </thead>\n",
       "  <tbody>\n",
       "    <tr>\n",
       "      <th>150</th>\n",
       "      <td>650</td>\n",
       "      <td>-0.001069</td>\n",
       "      <td>650</td>\n",
       "      <td>0.0</td>\n",
       "      <td>650</td>\n",
       "      <td>0.137236</td>\n",
       "      <td>650</td>\n",
       "      <td>0.114838</td>\n",
       "      <td>NaN</td>\n",
       "    </tr>\n",
       "  </tbody>\n",
       "</table>\n",
       "</div>"
      ],
      "text/plain": [
       "     Unnamed: 8      zero  Unnamed: 1  zero1  Unnamed: 3  DDAO_15uM  \\\n",
       "150         650 -0.001069         650    0.0         650   0.137236   \n",
       "\n",
       "     Unnamed: 5  DDAO_10uM1  Unnamed: 7  \n",
       "150         650    0.114838         NaN  "
      ]
     },
     "execution_count": 115,
     "metadata": {},
     "output_type": "execute_result"
    }
   ],
   "source": [
    "maxima = df.loc[df[headers[0]]==650]\n",
    "\n",
    "maxima"
   ]
  },
  {
   "cell_type": "markdown",
   "metadata": {},
   "source": [
    "### plot the decay"
   ]
  },
  {
   "cell_type": "code",
   "execution_count": 124,
   "metadata": {},
   "outputs": [
    {
     "data": {
      "image/png": "[encoded data removed]",
      "text/plain": [
       "<Figure size 432x288 with 1 Axes>"
      ]
     },
     "metadata": {
      "needs_background": "light"
     },
     "output_type": "display_data"
    }
   ],
   "source": [
    "maxima_list = []\n",
    "concentration_list = []\n",
    "for col_name in maxima.columns[2:]:\n",
    "     \n",
    "    if \"DDAO\" in col_name:\n",
    "        maxima_list.append(maxima[col_name].values)\n",
    "        concentration_list.append(float(col_name[-4:-3]))\n",
    "        \n",
    "        \n",
    "plt.scatter(concentration_list, np.log(maxima_list), label = 'raw data')\n",
    "a, b = np.polyfit(concentration_list, np.log(maxima_list), 1)\n",
    "\n",
    "plt.plot(concentration_list, a*concentration_list + b, \"k\", label = 'fit a = %0.2e'%a)\n",
    "plt.xlabel(\"time (s)\")\n",
    "plt.ylabel(\"log(absorbance)\")\n",
    "plt.legend()\n",
    "\n",
    "plt.savefig(\"savit.pdf\")"
   ]
  },
  {
   "cell_type": "code",
   "execution_count": 128,
   "metadata": {},
   "outputs": [
    {
     "data": {
      "text/plain": [
       "[<matplotlib.lines.Line2D at 0x187f05ad190>]"
      ]
     },
     "execution_count": 128,
     "metadata": {},
     "output_type": "execute_result"
    },
    {
     "data": {
      "image/png": "[encoded data removed]",
      "text/plain": [
       "<Figure size 432x288 with 1 Axes>"
      ]
     },
     "metadata": {
      "needs_background": "light"
     },
     "output_type": "display_data"
    }
   ],
   "source": [
    "plt.scatter(concentration_list, maxima_list, label = 'raw data')\n",
    "plt.plot(concentration_list, np.exp(a*concentration_list + b), \"k\", label = 'fit')\n"
   ]
  },
  {
   "cell_type": "code",
   "execution_count": 133,
   "metadata": {},
   "outputs": [
    {
     "name": "stdout",
     "output_type": "stream",
     "text": [
      "Unnamed: 1 DDAO_fluo\n"
     ]
    },
    {
     "name": "stderr",
     "output_type": "stream",
     "text": [
      "C:\\Users\\Alienor\\AppData\\Local\\Temp\\ipykernel_16628\\2065987819.py:1: ParserWarning: Falling back to the 'python' engine because the 'c' engine does not support skipfooter; you can avoid this warning by specifying engine='python'.\n",
      "  df2 = pd.read_csv(file2, skiprows = [1], skipfooter = 320, sep = \",\")\n",
      "C:\\Users\\Alienor\\AppData\\Local\\Temp\\ipykernel_16628\\2065987819.py:3: FutureWarning: In a future version of pandas all arguments of DataFrame.set_axis except for the argument 'labels' will be keyword-only.\n",
      "  df2 = df2.set_axis(np.roll(df2.columns, 1), 1) #displace the column name to the neighbouring colum\n"
     ]
    }
   ],
   "source": []
  },
  {
   "cell_type": "code",
   "execution_count": null,
   "metadata": {},
   "outputs": [],
   "source": []
  }
 ],
 "metadata": {
  "kernelspec": {
   "display_name": "Python 3 (ipykernel)",
   "language": "python",
   "name": "python3"
  },
  "language_info": {
   "codemirror_mode": {
    "name": "ipython",
    "version": 3
   },
   "file_extension": ".py",
   "mimetype": "text/x-python",
   "name": "python",
   "nbconvert_exporter": "python",
   "pygments_lexer": "ipython3",
   "version": "3.9.10"
  }
 },
 "nbformat": 4,
 "nbformat_minor": 4
}
