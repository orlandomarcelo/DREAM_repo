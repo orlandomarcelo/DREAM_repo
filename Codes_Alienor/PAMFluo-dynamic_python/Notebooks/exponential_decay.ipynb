{
 "cells": [
  {
   "cell_type": "code",
   "execution_count": 1,
   "metadata": {},
   "outputs": [],
   "source": [
    "sigma_1 = 194 #m2/mol\n",
    "sigma_2 = 414 #m²/mol\n",
    "k21 = 0.014 #0.014 s-1\n",
    "%matplotlib qt\n",
    "# Objective\n",
    "# Use non-linear curve fitting to estimate the relaxation rate of an exponential\n",
    "# decaying signal.\n",
    "\n",
    "# Steps\n",
    "# 1. Simulate data (instead of collecting data)\n",
    "# 2. Define the objective function for the least squares algorithm\n",
    "# 3. Perform curve fitting\n",
    "# 4. Compare results\n",
    "\n",
    "# modules\n",
    "import pandas as pd\n",
    "import numpy as np\n",
    "import matplotlib.pyplot as plt\n",
    "from   scipy import optimize\n",
    "# 1. Simulate some data\n",
    "# In the real worls we would collect some data, but we can use simulated data\n",
    "# to make sure that our fitting routine works and recovers the parameters used\n",
    "# to simulate the data\n",
    "def exp_decay(parameters,xdata):\n",
    "    '''\n",
    "    Calculate an exponetial decay of the form:\n",
    "    S= a * exp(-xdata/b)\n",
    "    '''\n",
    "    A = parameters[0]\n",
    "    tau = parameters[1]\n",
    "    y0 = parameters[2]\n",
    "    return A * np.exp(-xdata/tau) + y0\n",
    "\n",
    "def residuals(parameters,x_data,y_observed,func):\n",
    "    '''\n",
    "    Compute residuals of y_predicted - y_observed\n",
    "    where:\n",
    "    y_predicted = func(parameters,x_data)\n",
    "    '''\n",
    "    return func(parameters,x_data) - y_observed\n"
   ]
  },
  {
   "cell_type": "code",
   "execution_count": 2,
   "metadata": {},
   "outputs": [
    {
     "ename": "FileNotFoundError",
     "evalue": "[Errno 2] No such file or directory: '../measure_times.csv'",
     "output_type": "error",
     "traceback": [
      "\u001b[1;31m---------------------------------------------------------------------------\u001b[0m",
      "\u001b[1;31mFileNotFoundError\u001b[0m                         Traceback (most recent call last)",
      "\u001b[1;32m<ipython-input-2-7f3e1e7c6b3d>\u001b[0m in \u001b[0;36m<module>\u001b[1;34m\u001b[0m\n\u001b[1;32m----> 1\u001b[1;33m \u001b[0mcurve\u001b[0m \u001b[1;33m=\u001b[0m \u001b[0mpd\u001b[0m\u001b[1;33m.\u001b[0m\u001b[0mread_csv\u001b[0m\u001b[1;33m(\u001b[0m\u001b[1;34m\"../measure_times.csv\"\u001b[0m\u001b[1;33m,\u001b[0m \u001b[0mnames\u001b[0m \u001b[1;33m=\u001b[0m \u001b[1;33m[\u001b[0m\u001b[1;34m'intensity'\u001b[0m\u001b[1;33m,\u001b[0m \u001b[1;34m'photodiode'\u001b[0m\u001b[1;33m,\u001b[0m \u001b[1;34m'fluo'\u001b[0m\u001b[1;33m,\u001b[0m \u001b[1;34m'trigger'\u001b[0m\u001b[1;33m,\u001b[0m \u001b[1;34m'x_time'\u001b[0m\u001b[1;33m]\u001b[0m\u001b[1;33m,\u001b[0m \u001b[0msep\u001b[0m \u001b[1;33m=\u001b[0m \u001b[1;34m','\u001b[0m\u001b[1;33m,\u001b[0m \u001b[0mdecimal\u001b[0m \u001b[1;33m=\u001b[0m \u001b[1;34m'.'\u001b[0m\u001b[1;33m)\u001b[0m\u001b[1;33m\u001b[0m\u001b[1;33m\u001b[0m\u001b[0m\n\u001b[0m\u001b[0;32m      2\u001b[0m \u001b[0mfluo\u001b[0m \u001b[1;33m=\u001b[0m \u001b[0mcurve\u001b[0m\u001b[1;33m.\u001b[0m\u001b[0mfluo\u001b[0m\u001b[1;33m.\u001b[0m\u001b[0mvalues\u001b[0m\u001b[1;33m\u001b[0m\u001b[1;33m\u001b[0m\u001b[0m\n\u001b[0;32m      3\u001b[0m \u001b[0mtime_array\u001b[0m \u001b[1;33m=\u001b[0m \u001b[0mcurve\u001b[0m\u001b[1;33m.\u001b[0m\u001b[0mx_time\u001b[0m\u001b[1;33m.\u001b[0m\u001b[0mvalues\u001b[0m\u001b[1;33m\u001b[0m\u001b[1;33m\u001b[0m\u001b[0m\n\u001b[0;32m      4\u001b[0m \u001b[1;33m\u001b[0m\u001b[0m\n\u001b[0;32m      5\u001b[0m \u001b[1;33m\u001b[0m\u001b[0m\n",
      "\u001b[1;32m~\\anaconda3\\envs\\arduino\\lib\\site-packages\\pandas\\io\\parsers.py\u001b[0m in \u001b[0;36mread_csv\u001b[1;34m(filepath_or_buffer, sep, delimiter, header, names, index_col, usecols, squeeze, prefix, mangle_dupe_cols, dtype, engine, converters, true_values, false_values, skipinitialspace, skiprows, skipfooter, nrows, na_values, keep_default_na, na_filter, verbose, skip_blank_lines, parse_dates, infer_datetime_format, keep_date_col, date_parser, dayfirst, cache_dates, iterator, chunksize, compression, thousands, decimal, lineterminator, quotechar, quoting, doublequote, escapechar, comment, encoding, dialect, error_bad_lines, warn_bad_lines, delim_whitespace, low_memory, memory_map, float_precision, storage_options)\u001b[0m\n\u001b[0;32m    608\u001b[0m     \u001b[0mkwds\u001b[0m\u001b[1;33m.\u001b[0m\u001b[0mupdate\u001b[0m\u001b[1;33m(\u001b[0m\u001b[0mkwds_defaults\u001b[0m\u001b[1;33m)\u001b[0m\u001b[1;33m\u001b[0m\u001b[1;33m\u001b[0m\u001b[0m\n\u001b[0;32m    609\u001b[0m \u001b[1;33m\u001b[0m\u001b[0m\n\u001b[1;32m--> 610\u001b[1;33m     \u001b[1;32mreturn\u001b[0m \u001b[0m_read\u001b[0m\u001b[1;33m(\u001b[0m\u001b[0mfilepath_or_buffer\u001b[0m\u001b[1;33m,\u001b[0m \u001b[0mkwds\u001b[0m\u001b[1;33m)\u001b[0m\u001b[1;33m\u001b[0m\u001b[1;33m\u001b[0m\u001b[0m\n\u001b[0m\u001b[0;32m    611\u001b[0m \u001b[1;33m\u001b[0m\u001b[0m\n\u001b[0;32m    612\u001b[0m \u001b[1;33m\u001b[0m\u001b[0m\n",
      "\u001b[1;32m~\\anaconda3\\envs\\arduino\\lib\\site-packages\\pandas\\io\\parsers.py\u001b[0m in \u001b[0;36m_read\u001b[1;34m(filepath_or_buffer, kwds)\u001b[0m\n\u001b[0;32m    460\u001b[0m \u001b[1;33m\u001b[0m\u001b[0m\n\u001b[0;32m    461\u001b[0m     \u001b[1;31m# Create the parser.\u001b[0m\u001b[1;33m\u001b[0m\u001b[1;33m\u001b[0m\u001b[1;33m\u001b[0m\u001b[0m\n\u001b[1;32m--> 462\u001b[1;33m     \u001b[0mparser\u001b[0m \u001b[1;33m=\u001b[0m \u001b[0mTextFileReader\u001b[0m\u001b[1;33m(\u001b[0m\u001b[0mfilepath_or_buffer\u001b[0m\u001b[1;33m,\u001b[0m \u001b[1;33m**\u001b[0m\u001b[0mkwds\u001b[0m\u001b[1;33m)\u001b[0m\u001b[1;33m\u001b[0m\u001b[1;33m\u001b[0m\u001b[0m\n\u001b[0m\u001b[0;32m    463\u001b[0m \u001b[1;33m\u001b[0m\u001b[0m\n\u001b[0;32m    464\u001b[0m     \u001b[1;32mif\u001b[0m \u001b[0mchunksize\u001b[0m \u001b[1;32mor\u001b[0m \u001b[0miterator\u001b[0m\u001b[1;33m:\u001b[0m\u001b[1;33m\u001b[0m\u001b[1;33m\u001b[0m\u001b[0m\n",
      "\u001b[1;32m~\\anaconda3\\envs\\arduino\\lib\\site-packages\\pandas\\io\\parsers.py\u001b[0m in \u001b[0;36m__init__\u001b[1;34m(self, f, engine, **kwds)\u001b[0m\n\u001b[0;32m    817\u001b[0m             \u001b[0mself\u001b[0m\u001b[1;33m.\u001b[0m\u001b[0moptions\u001b[0m\u001b[1;33m[\u001b[0m\u001b[1;34m\"has_index_names\"\u001b[0m\u001b[1;33m]\u001b[0m \u001b[1;33m=\u001b[0m \u001b[0mkwds\u001b[0m\u001b[1;33m[\u001b[0m\u001b[1;34m\"has_index_names\"\u001b[0m\u001b[1;33m]\u001b[0m\u001b[1;33m\u001b[0m\u001b[1;33m\u001b[0m\u001b[0m\n\u001b[0;32m    818\u001b[0m \u001b[1;33m\u001b[0m\u001b[0m\n\u001b[1;32m--> 819\u001b[1;33m         \u001b[0mself\u001b[0m\u001b[1;33m.\u001b[0m\u001b[0m_engine\u001b[0m \u001b[1;33m=\u001b[0m \u001b[0mself\u001b[0m\u001b[1;33m.\u001b[0m\u001b[0m_make_engine\u001b[0m\u001b[1;33m(\u001b[0m\u001b[0mself\u001b[0m\u001b[1;33m.\u001b[0m\u001b[0mengine\u001b[0m\u001b[1;33m)\u001b[0m\u001b[1;33m\u001b[0m\u001b[1;33m\u001b[0m\u001b[0m\n\u001b[0m\u001b[0;32m    820\u001b[0m \u001b[1;33m\u001b[0m\u001b[0m\n\u001b[0;32m    821\u001b[0m     \u001b[1;32mdef\u001b[0m \u001b[0mclose\u001b[0m\u001b[1;33m(\u001b[0m\u001b[0mself\u001b[0m\u001b[1;33m)\u001b[0m\u001b[1;33m:\u001b[0m\u001b[1;33m\u001b[0m\u001b[1;33m\u001b[0m\u001b[0m\n",
      "\u001b[1;32m~\\anaconda3\\envs\\arduino\\lib\\site-packages\\pandas\\io\\parsers.py\u001b[0m in \u001b[0;36m_make_engine\u001b[1;34m(self, engine)\u001b[0m\n\u001b[0;32m   1048\u001b[0m             )\n\u001b[0;32m   1049\u001b[0m         \u001b[1;31m# error: Too many arguments for \"ParserBase\"\u001b[0m\u001b[1;33m\u001b[0m\u001b[1;33m\u001b[0m\u001b[1;33m\u001b[0m\u001b[0m\n\u001b[1;32m-> 1050\u001b[1;33m         \u001b[1;32mreturn\u001b[0m \u001b[0mmapping\u001b[0m\u001b[1;33m[\u001b[0m\u001b[0mengine\u001b[0m\u001b[1;33m]\u001b[0m\u001b[1;33m(\u001b[0m\u001b[0mself\u001b[0m\u001b[1;33m.\u001b[0m\u001b[0mf\u001b[0m\u001b[1;33m,\u001b[0m \u001b[1;33m**\u001b[0m\u001b[0mself\u001b[0m\u001b[1;33m.\u001b[0m\u001b[0moptions\u001b[0m\u001b[1;33m)\u001b[0m  \u001b[1;31m# type: ignore[call-arg]\u001b[0m\u001b[1;33m\u001b[0m\u001b[1;33m\u001b[0m\u001b[0m\n\u001b[0m\u001b[0;32m   1051\u001b[0m \u001b[1;33m\u001b[0m\u001b[0m\n\u001b[0;32m   1052\u001b[0m     \u001b[1;32mdef\u001b[0m \u001b[0m_failover_to_python\u001b[0m\u001b[1;33m(\u001b[0m\u001b[0mself\u001b[0m\u001b[1;33m)\u001b[0m\u001b[1;33m:\u001b[0m\u001b[1;33m\u001b[0m\u001b[1;33m\u001b[0m\u001b[0m\n",
      "\u001b[1;32m~\\anaconda3\\envs\\arduino\\lib\\site-packages\\pandas\\io\\parsers.py\u001b[0m in \u001b[0;36m__init__\u001b[1;34m(self, src, **kwds)\u001b[0m\n\u001b[0;32m   1865\u001b[0m \u001b[1;33m\u001b[0m\u001b[0m\n\u001b[0;32m   1866\u001b[0m         \u001b[1;31m# open handles\u001b[0m\u001b[1;33m\u001b[0m\u001b[1;33m\u001b[0m\u001b[1;33m\u001b[0m\u001b[0m\n\u001b[1;32m-> 1867\u001b[1;33m         \u001b[0mself\u001b[0m\u001b[1;33m.\u001b[0m\u001b[0m_open_handles\u001b[0m\u001b[1;33m(\u001b[0m\u001b[0msrc\u001b[0m\u001b[1;33m,\u001b[0m \u001b[0mkwds\u001b[0m\u001b[1;33m)\u001b[0m\u001b[1;33m\u001b[0m\u001b[1;33m\u001b[0m\u001b[0m\n\u001b[0m\u001b[0;32m   1868\u001b[0m         \u001b[1;32massert\u001b[0m \u001b[0mself\u001b[0m\u001b[1;33m.\u001b[0m\u001b[0mhandles\u001b[0m \u001b[1;32mis\u001b[0m \u001b[1;32mnot\u001b[0m \u001b[1;32mNone\u001b[0m\u001b[1;33m\u001b[0m\u001b[1;33m\u001b[0m\u001b[0m\n\u001b[0;32m   1869\u001b[0m         \u001b[1;32mfor\u001b[0m \u001b[0mkey\u001b[0m \u001b[1;32min\u001b[0m \u001b[1;33m(\u001b[0m\u001b[1;34m\"storage_options\"\u001b[0m\u001b[1;33m,\u001b[0m \u001b[1;34m\"encoding\"\u001b[0m\u001b[1;33m,\u001b[0m \u001b[1;34m\"memory_map\"\u001b[0m\u001b[1;33m,\u001b[0m \u001b[1;34m\"compression\"\u001b[0m\u001b[1;33m)\u001b[0m\u001b[1;33m:\u001b[0m\u001b[1;33m\u001b[0m\u001b[1;33m\u001b[0m\u001b[0m\n",
      "\u001b[1;32m~\\anaconda3\\envs\\arduino\\lib\\site-packages\\pandas\\io\\parsers.py\u001b[0m in \u001b[0;36m_open_handles\u001b[1;34m(self, src, kwds)\u001b[0m\n\u001b[0;32m   1360\u001b[0m         \u001b[0mLet\u001b[0m \u001b[0mthe\u001b[0m \u001b[0mreaders\u001b[0m \u001b[0mopen\u001b[0m \u001b[0mIOHanldes\u001b[0m \u001b[0mafter\u001b[0m \u001b[0mthey\u001b[0m \u001b[0mare\u001b[0m \u001b[0mdone\u001b[0m \u001b[1;32mwith\u001b[0m \u001b[0mtheir\u001b[0m \u001b[0mpotential\u001b[0m \u001b[0mraises\u001b[0m\u001b[1;33m.\u001b[0m\u001b[1;33m\u001b[0m\u001b[1;33m\u001b[0m\u001b[0m\n\u001b[0;32m   1361\u001b[0m         \"\"\"\n\u001b[1;32m-> 1362\u001b[1;33m         self.handles = get_handle(\n\u001b[0m\u001b[0;32m   1363\u001b[0m             \u001b[0msrc\u001b[0m\u001b[1;33m,\u001b[0m\u001b[1;33m\u001b[0m\u001b[1;33m\u001b[0m\u001b[0m\n\u001b[0;32m   1364\u001b[0m             \u001b[1;34m\"r\"\u001b[0m\u001b[1;33m,\u001b[0m\u001b[1;33m\u001b[0m\u001b[1;33m\u001b[0m\u001b[0m\n",
      "\u001b[1;32m~\\anaconda3\\envs\\arduino\\lib\\site-packages\\pandas\\io\\common.py\u001b[0m in \u001b[0;36mget_handle\u001b[1;34m(path_or_buf, mode, encoding, compression, memory_map, is_text, errors, storage_options)\u001b[0m\n\u001b[0;32m    640\u001b[0m                 \u001b[0merrors\u001b[0m \u001b[1;33m=\u001b[0m \u001b[1;34m\"replace\"\u001b[0m\u001b[1;33m\u001b[0m\u001b[1;33m\u001b[0m\u001b[0m\n\u001b[0;32m    641\u001b[0m             \u001b[1;31m# Encoding\u001b[0m\u001b[1;33m\u001b[0m\u001b[1;33m\u001b[0m\u001b[1;33m\u001b[0m\u001b[0m\n\u001b[1;32m--> 642\u001b[1;33m             handle = open(\n\u001b[0m\u001b[0;32m    643\u001b[0m                 \u001b[0mhandle\u001b[0m\u001b[1;33m,\u001b[0m\u001b[1;33m\u001b[0m\u001b[1;33m\u001b[0m\u001b[0m\n\u001b[0;32m    644\u001b[0m                 \u001b[0mioargs\u001b[0m\u001b[1;33m.\u001b[0m\u001b[0mmode\u001b[0m\u001b[1;33m,\u001b[0m\u001b[1;33m\u001b[0m\u001b[1;33m\u001b[0m\u001b[0m\n",
      "\u001b[1;31mFileNotFoundError\u001b[0m: [Errno 2] No such file or directory: '../measure_times.csv'"
     ]
    }
   ],
   "source": [
    "curve = pd.read_csv(\"../measure_times.csv\", names = ['intensity', 'photodiode', 'fluo', 'trigger', 'x_time'], sep = ',', decimal = '.') \n",
    "fluo = curve.fluo.values\n",
    "time_array = curve.x_time.values\n",
    "        \n",
    "\n",
    "# Plot the simulated data\n",
    "plt.plot(time_array,fluo)\n"
   ]
  },
  {
   "cell_type": "code",
   "execution_count": 14,
   "metadata": {},
   "outputs": [
    {
     "ename": "AttributeError",
     "evalue": "'DataFrame' object has no attribute 'trigger'",
     "output_type": "error",
     "traceback": [
      "\u001b[1;31m---------------------------------------------------------------------------\u001b[0m",
      "\u001b[1;31mAttributeError\u001b[0m                            Traceback (most recent call last)",
      "\u001b[1;32m<ipython-input-14-ce8f6013ccdc>\u001b[0m in \u001b[0;36m<module>\u001b[1;34m\u001b[0m\n\u001b[1;32m----> 1\u001b[1;33m \u001b[0mtrig\u001b[0m \u001b[1;33m=\u001b[0m \u001b[0mcurve\u001b[0m\u001b[1;33m.\u001b[0m\u001b[0mtrigger\u001b[0m\u001b[1;33m.\u001b[0m\u001b[0mvalues\u001b[0m\u001b[1;33m\u001b[0m\u001b[1;33m\u001b[0m\u001b[0m\n\u001b[0m\u001b[0;32m      2\u001b[0m \u001b[0mtrig_2\u001b[0m \u001b[1;33m=\u001b[0m \u001b[0mnp\u001b[0m\u001b[1;33m.\u001b[0m\u001b[0mroll\u001b[0m\u001b[1;33m(\u001b[0m\u001b[0mtrig\u001b[0m\u001b[1;33m,\u001b[0m \u001b[1;36m1\u001b[0m\u001b[1;33m)\u001b[0m\u001b[1;33m\u001b[0m\u001b[1;33m\u001b[0m\u001b[0m\n\u001b[0;32m      3\u001b[0m \u001b[0mdiff\u001b[0m \u001b[1;33m=\u001b[0m \u001b[0mtrig\u001b[0m\u001b[1;33m-\u001b[0m\u001b[0mtrig_2\u001b[0m\u001b[1;33m\u001b[0m\u001b[1;33m\u001b[0m\u001b[0m\n\u001b[0;32m      4\u001b[0m \u001b[1;33m\u001b[0m\u001b[0m\n\u001b[0;32m      5\u001b[0m \u001b[0mtrig_down\u001b[0m \u001b[1;33m=\u001b[0m \u001b[0mnp\u001b[0m\u001b[1;33m.\u001b[0m\u001b[0mabs\u001b[0m\u001b[1;33m(\u001b[0m\u001b[0mdiff\u001b[0m\u001b[1;33m)\u001b[0m \u001b[1;33m>\u001b[0m \u001b[1;36m1e-2\u001b[0m\u001b[1;33m\u001b[0m\u001b[1;33m\u001b[0m\u001b[0m\n",
      "\u001b[1;32m~\\Anaconda3\\envs\\PASTEUR\\lib\\site-packages\\pandas-1.0.3-py3.6-win-amd64.egg\\pandas\\core\\generic.py\u001b[0m in \u001b[0;36m__getattr__\u001b[1;34m(self, name)\u001b[0m\n\u001b[0;32m   5272\u001b[0m             \u001b[1;32mif\u001b[0m \u001b[0mself\u001b[0m\u001b[1;33m.\u001b[0m\u001b[0m_info_axis\u001b[0m\u001b[1;33m.\u001b[0m\u001b[0m_can_hold_identifiers_and_holds_name\u001b[0m\u001b[1;33m(\u001b[0m\u001b[0mname\u001b[0m\u001b[1;33m)\u001b[0m\u001b[1;33m:\u001b[0m\u001b[1;33m\u001b[0m\u001b[1;33m\u001b[0m\u001b[0m\n\u001b[0;32m   5273\u001b[0m                 \u001b[1;32mreturn\u001b[0m \u001b[0mself\u001b[0m\u001b[1;33m[\u001b[0m\u001b[0mname\u001b[0m\u001b[1;33m]\u001b[0m\u001b[1;33m\u001b[0m\u001b[1;33m\u001b[0m\u001b[0m\n\u001b[1;32m-> 5274\u001b[1;33m             \u001b[1;32mreturn\u001b[0m \u001b[0mobject\u001b[0m\u001b[1;33m.\u001b[0m\u001b[0m__getattribute__\u001b[0m\u001b[1;33m(\u001b[0m\u001b[0mself\u001b[0m\u001b[1;33m,\u001b[0m \u001b[0mname\u001b[0m\u001b[1;33m)\u001b[0m\u001b[1;33m\u001b[0m\u001b[1;33m\u001b[0m\u001b[0m\n\u001b[0m\u001b[0;32m   5275\u001b[0m \u001b[1;33m\u001b[0m\u001b[0m\n\u001b[0;32m   5276\u001b[0m     \u001b[1;32mdef\u001b[0m \u001b[0m__setattr__\u001b[0m\u001b[1;33m(\u001b[0m\u001b[0mself\u001b[0m\u001b[1;33m,\u001b[0m \u001b[0mname\u001b[0m\u001b[1;33m:\u001b[0m \u001b[0mstr\u001b[0m\u001b[1;33m,\u001b[0m \u001b[0mvalue\u001b[0m\u001b[1;33m)\u001b[0m \u001b[1;33m->\u001b[0m \u001b[1;32mNone\u001b[0m\u001b[1;33m:\u001b[0m\u001b[1;33m\u001b[0m\u001b[1;33m\u001b[0m\u001b[0m\n",
      "\u001b[1;31mAttributeError\u001b[0m: 'DataFrame' object has no attribute 'trigger'"
     ]
    }
   ],
   "source": [
    "trig = curve.trigger.values\n",
    "trig_2 = np.roll(trig, 1)\n",
    "diff = trig-trig_2\n",
    "\n",
    "trig_down = np.abs(diff) > 1e-2\n",
    "\n",
    "ticks = np.nonzero(trig_down)[0].tolist()\n",
    "first = ticks[0]\n",
    "for second in ticks[1:]:\n",
    "    print(first, second)\n",
    "    if second - first < 10:\n",
    "        ticks.remove(second)\n",
    "    else: \n",
    "        first = second\n",
    "ticks.append(-1)\n",
    "print(ticks)\n",
    "first = ticks[0]\n",
    "for second in ticks[1:]:\n",
    "    fluo_transition = fluo[first:second]\n",
    "    time_transition = time_array[first:second] - time_array[first]\n",
    "    x0 = [0.1, 0.1, 0.1]\n",
    "    OptimizeResult  = optimize.least_squares(residuals,  x0, bounds = (-1e5,1e5),\n",
    "                                          args = (time_transition, fluo_transition, exp_decay))\n",
    "    parameters_estimated = OptimizeResult.x\n",
    "    \n",
    "    # Estimate data based on the solution found\n",
    "    y_data_predicted = exp_decay(parameters_estimated,time_transition)\n",
    "\n",
    "    # Plot all together\n",
    "    plt.figure()\n",
    "    plt.plot(time_transition, fluo_transition,'ob',\n",
    "             time_transition,y_data_predicted ,'xr')\n",
    "    plt.legend(('Real Data','Predicted Data'))\n",
    "\n",
    "    # How good are the parameters I estimated?\n",
    "    print( 'Predicted: A, tau, y0 ' + str( parameters_estimated))\n",
    "    tau = parameters_estimated[1]\n",
    "    I1 = (1/tau - k21)/sigma_1\n",
    "    print(I1) #eins/m²/s-1\n",
    "    first = second"
   ]
  },
  {
   "cell_type": "code",
   "execution_count": 48,
   "metadata": {},
   "outputs": [
    {
     "name": "stdout",
     "output_type": "stream",
     "text": [
      "Predicted: A, tau, y0 [0.44422742 0.24879966 0.02846871]\n",
      "0.0206458667010828\n"
     ]
    }
   ],
   "source": [
    "points_per_period = 1000\n",
    "freq = 2000\n",
    "\n",
    "end = points_per_period\n",
    "fluo = curve.fluo.values[:end]\n",
    "xdata = xdata0[:end]\n",
    "        \n",
    "\n",
    "# Plot the simulated data\n",
    "plt.plot(xdata,fluo)\n",
    "\n",
    "# 2. Define the objective function for the least squares algorithm\n",
    "# The scipy.optimize.least_square requires the following inputs\n",
    "\n",
    "# A) Objective function that computes the residuals of the\n",
    "#     predicted data vs the observed data using the following syntaxis:\n",
    "#     f = fun(parameters, *args, **kwargs),\n",
    "\n",
    "\n",
    "\n",
    "# 3. Perform curve fitting\n",
    "#    Initial guess for the parameters to be estimated\n",
    "#    The parameters follow the same order than exp_decay\n",
    "x0 = [0, 0.1, 0.1]\n",
    "\n",
    "#    Lower and uppers bounds\n",
    "lb = [0,0,0]\n",
    "ub = [10,10,10]\n",
    "\n",
    "# estimate parameters in exp_decay\n",
    "OptimizeResult  = optimize.least_squares(residuals,  x0, bounds = (0,10),\n",
    "                                          args = (xdata, fluo, exp_decay))\n",
    "parameters_estimated = OptimizeResult.x\n",
    "\n",
    "# Estimate data based on the solution found\n",
    "y_data_predicted = exp_decay(parameters_estimated,xdata)\n",
    "\n",
    "# Plot all together\n",
    "plt.figure(2)\n",
    "plt.plot(xdata,fluo,'ob',\n",
    "         xdata,y_data_predicted ,'xr')\n",
    "plt.legend(('Real Data','Predicted Data'))\n",
    "\n",
    "# How good are the parameters I estimated?\n",
    "print( 'Predicted: A, tau, y0 ' + str( parameters_estimated))\n",
    "tau = parameters_estimated[1]\n",
    "I1 = (1/tau - k21)/sigma_1\n",
    "print(I1) #eins/m²/s-1"
   ]
  },
  {
   "cell_type": "code",
   "execution_count": 28,
   "metadata": {},
   "outputs": [
    {
     "name": "stdout",
     "output_type": "stream",
     "text": [
      "Predicted: A, tau, y0 [-1.56554966e+02  8.58179637e-02  5.22974782e-01]\n",
      "0.018437859523734754\n"
     ]
    }
   ],
   "source": [
    "def exp_up(parameters,xdata):\n",
    "    '''\n",
    "    Calculate an exponetial decay of the form:\n",
    "    S= a * exp(-xdata/b)\n",
    "    '''\n",
    "    A = parameters[0]\n",
    "    tau = parameters[1]\n",
    "    y0 = parameters[2]\n",
    "    return -A * np.exp(-xdata/tau) + y0\n",
    "\n",
    "x0 = [-0.52 * 0, 0.11, 0.69]\n",
    "\n",
    "high = points_per_period\n",
    "high_end = 2 * points_per_period\n",
    "fluo = curve.fluo.values[high:high_end]\n",
    "xdata = xdata0[high:high_end] - points_per_period/freq\n",
    "\n",
    "# estimate parameters in exp_decay\n",
    "OptimizeResult  = optimize.least_squares(residuals,  x0, bounds = (-1e6,1e6),\n",
    "                                          args = (xdata, fluo, exp_decay))\n",
    "parameters_estimated = OptimizeResult.x\n",
    "\n",
    "# Estimate data based on the solution found\n",
    "y_data_predicted = exp_decay(parameters_estimated,xdata)\n",
    "\n",
    "# Plot all together\n",
    "plt.figure(2)\n",
    "plt.plot(xdata,fluo,'ob',\n",
    "         xdata,y_data_predicted ,'xr')\n",
    "plt.legend(('Real Data','Predicted Data'))\n",
    "\n",
    "print( 'Predicted: A, tau, y0 ' + str( parameters_estimated))\n",
    "tau2 = parameters_estimated[1]\n",
    "I2 = (1/tau2 - sigma_1*I1 - k21)/sigma_2\n",
    "print(I2) #eins/m²/s-1"
   ]
  },
  {
   "cell_type": "code",
   "execution_count": 5,
   "metadata": {},
   "outputs": [
    {
     "ename": "SyntaxError",
     "evalue": "invalid syntax (<ipython-input-5-f7bef9ad29b7>, line 10)",
     "output_type": "error",
     "traceback": [
      "\u001b[1;36m  File \u001b[1;32m\"<ipython-input-5-f7bef9ad29b7>\"\u001b[1;36m, line \u001b[1;32m10\u001b[0m\n\u001b[1;33m    rising.append(curve.fluo.values[])\u001b[0m\n\u001b[1;37m                                    ^\u001b[0m\n\u001b[1;31mSyntaxError\u001b[0m\u001b[1;31m:\u001b[0m invalid syntax\n"
     ]
    }
   ],
   "source": [
    "points_per_period = 10000\n",
    "freq = 200000\n",
    "num_period = 2\n",
    "acq_time = 4\n",
    "\n",
    "rising = []\n",
    "falling = []\n",
    "xdata = np.linspace(0, acq_time/num_period/2, points_per_period)\n",
    "for k in range(2):\n",
    "    rising.append(curve.fluo.values[])\n"
   ]
  },
  {
   "cell_type": "code",
   "execution_count": 25,
   "metadata": {},
   "outputs": [
    {
     "name": "stdout",
     "output_type": "stream",
     "text": [
      "0 1\n",
      "0 1000\n",
      "1000 1001\n",
      "1000 2000\n",
      "2000 2001\n",
      "2000 3000\n",
      "3000 3001\n",
      "[0, 1000, 2000, 3000]\n"
     ]
    }
   ],
   "source": [
    "ticks = np.nonzero(trig_down)[0].tolist()\n",
    "first = ticks[0]\n",
    "for second in ticks[1:]:\n",
    "    print(first, second)\n",
    "    if second - first < 10:\n",
    "        ticks.remove(second)\n",
    "    else: \n",
    "        first = second\n",
    "        \n",
    "print(ticks)"
   ]
  },
  {
   "cell_type": "code",
   "execution_count": 70,
   "metadata": {},
   "outputs": [],
   "source": []
  },
  {
   "cell_type": "code",
   "execution_count": 82,
   "metadata": {},
   "outputs": [
    {
     "name": "stdout",
     "output_type": "stream",
     "text": [
      "24.095588660829108\n"
     ]
    }
   ],
   "source": [
    "curve = pd.read_csv(\"..\\\\check_bode\\\\2020-06-30_16_30_Bode_Diagram_intensity_large_span\\\\2020-06-30_17_29_exponential_fit_85004.csv\", sep = ',', decimal = '.') \n",
    "K = curve.keys()\n",
    "time_array = curve[K[1]].values\n",
    "fluo = curve[K[2]].values\n",
    "     \n",
    "x0 = [-0.52 * 0, 0.11, 0.69]\n",
    "\n",
    "\n",
    "# estimate parameters in exp_decay\n",
    "OptimizeResult  = optimize.least_squares(residuals,  x0, bounds = (-1e6,1e6),\n",
    "                                          args = (time_array, fluo, exp_decay))\n",
    "parameters_estimated = OptimizeResult.x\n",
    "\n",
    "# Estimate data based on the solution found\n",
    "y_data_predicted = exp_decay(parameters_estimated,time_array)\n",
    "\n",
    "# Plot all together\n",
    "plt.figure(2)\n",
    "plt.plot(time_array,fluo,'ob',\n",
    "         time_array,y_data_predicted ,'xr')\n",
    "plt.legend(('Real Data','Predicted Data'))\n",
    "print(1/parameters_estimated[1])"
   ]
  }
 ],
 "metadata": {
  "kernelspec": {
   "display_name": "Python 3 (ipykernel)",
   "language": "python",
   "name": "python3"
  },
  "language_info": {
   "codemirror_mode": {
    "name": "ipython",
    "version": 3
   },
   "file_extension": ".py",
   "mimetype": "text/x-python",
   "name": "python",
   "nbconvert_exporter": "python",
   "pygments_lexer": "ipython3",
   "version": "3.9.10"
  }
 },
 "nbformat": 4,
 "nbformat_minor": 4
}
