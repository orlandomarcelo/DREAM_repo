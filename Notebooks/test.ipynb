{
 "cells": [
  {
   "cell_type": "code",
   "execution_count": null,
   "metadata": {},
   "outputs": [],
   "source": [
    "line = 1\n",
    "markers = 2\n",
    "\n",
    "fig, ax = plt.subplots(2,3, figsize=(12,7))\n",
    "fig.suptitle(\"Quantum yield of PSII\")\n",
    "for i, record in enumerate(manip.annotations.E):\n",
    "    if manip.annotations.iloc[i].Point == 1:\n",
    "        ax[0,0].plot(time_Fstat_LD[i], NPQ_LD[i], 'o-', markersize=markers, linewidth = line, color = f\"C{i%4}\")\n",
    "    if manip.annotations.iloc[i].Point == 2:\n",
    "        ax[0,1].plot(time_Fstat_LD[i], NPQ_LD[i], 'o-', markersize=markers, linewidth = line, color = f\"C{i%4}\")\n",
    "    if manip.annotations.iloc[i].Point == 3:\n",
    "        ax[0,2].plot(time_Fstat_LD[i], NPQ_LD[i], 'o-', markersize=markers, linewidth = line, color = f\"C{i%4}\")\n",
    "\n",
    "for i, ax_ in enumerate(ax[0,:]):\n",
    "    ax_.set_xlabel(\"Time (min)\")\n",
    "    ax_.set_title(f\"LD, t = {times_LD[i]} h\")\n",
    "    ax_.set_ylim(0,1)\n",
    "    \n",
    "ax[0, 0].set_ylabel(\"Phi PSII (r. u.)\")\n",
    "\n",
    "for i, record in enumerate(manip.annotations.E):\n",
    "    if manip.annotations.iloc[i].Point == 1:\n",
    "        ax[1, 0].plot(time_Fstat_LL[i], NPQ_LL[i], 'o-', markersize=markers, linewidth = line, color = f\"C{i%4}\")\n",
    "    if manip.annotations.iloc[i].Point == 2:\n",
    "        ax[1, 1].plot(time_Fstat_LL[i], NPQ_LL[i], 'o-', markersize=markers, linewidth = line, color = f\"C{i%4}\")\n",
    "    if manip.annotations.iloc[i].Point == 3:\n",
    "        ax[1, 2].plot(time_Fstat_LL[i], NPQ_LL[i], 'o-', markersize=markers, linewidth = line, color = f\"C{i%4}\")\n",
    "\n",
    "for i, ax_ in enumerate(ax[1,:]):\n",
    "    ax_.set_xlabel(\"Time (min)\")\n",
    "    ax_.set_title(f\"LL, t = {times_LL[i]} h\")\n",
    "    ax_.set_ylim(0,1)\n",
    "    \n",
    "ax[1, 0].set_ylabel(\"Phi PSII (r. u.)\")\n",
    "\n",
    "fig.tight_layout()\n"
   ]
  }
 ],
 "metadata": {
  "language_info": {
   "name": "python"
  }
 },
 "nbformat": 4,
 "nbformat_minor": 2
}
