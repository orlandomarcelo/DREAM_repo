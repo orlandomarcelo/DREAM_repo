{
 "cells": [
  {
   "cell_type": "code",
   "execution_count": 53,
   "metadata": {},
   "outputs": [],
   "source": [
    "#image analysis\n",
    "import skimage.io\n",
    "import imageio\n",
    "import alienlab.plot\n",
    "from alienlab.improcessing import normalize, grey_to_rgb, make_binary\n",
    "import alienlab.segment\n",
    "from alienlab.fo import FramesOperator\n",
    "import alienlab.io\n",
    "from scipy import optimize\n",
    "import glob\n",
    "from alienlab.regression_func import *\n",
    "import copy\n",
    "from VoltageIntensityClass import VoltageIntensity\n",
    "from tqdm import tqdm\n",
    "\n",
    "from joblib.externals.loky import set_loky_pickler\n",
    "from joblib import parallel_backend\n",
    "from joblib import Parallel, delayed\n",
    "from joblib import wrap_non_picklable_objects\n",
    "from skimage.transform import resize\n",
    "\n",
    "import mvgavg\n",
    "\n",
    "import scipy\n",
    "\n",
    "import tifffile as tiff\n",
    "\n",
    "#interactive widget packages\n",
    "from ipywidgets import interact, interactive, fixed, interact_manual\n",
    "from tkinter.filedialog import askopenfilename, askdirectory\n",
    "\n",
    "from VoltageIntensityClass import VoltageIntensity\n",
    "\n",
    "\n",
    "import time\n",
    "import os\n",
    "import numpy as np\n",
    "import matplotlib.pyplot as plt\n",
    "import random\n",
    "import pandas as pd\n",
    "\n",
    "%matplotlib ipympl\n",
    "import matplotlib.pyplot as plt\n",
    "import numpy as np\n",
    "import ipywidgets as wdg  # Using the ipython notebook widgets\n",
    "from alienlab.regression_func import platt, residuals\n",
    "from alienlab.utils import clip\n",
    "from alienlab.segment import uniform_mask, label_to_data\n",
    "from alienlab.widget import click_to_graph\n",
    "#%matplotlib inline\n",
    "\n",
    "\n",
    "from mvgavg import mvgavg\n",
    "\n",
    "\n",
    "\n"
   ]
  },
  {
   "cell_type": "code",
   "execution_count": 57,
   "metadata": {},
   "outputs": [
    {
     "data": {
      "text/plain": [
       "'G:/DREAM/from_github/PAMFluo/Experiments/2021-10-29_15_27_qE_calib'"
      ]
     },
     "execution_count": 57,
     "metadata": {},
     "output_type": "execute_result"
    }
   ],
   "source": [
    "#file_path = \"ENTER NAME OF THE FILE YOU DROPPED IN THE FILE SECTION HERE\" \n",
    "file_folder = askdirectory(title = 'Select an experiment folder', initialdir=\"G:/DREAM/from_github/PAMFluo/Experiments\")  # pops up a window to select your file \n",
    "# uncomment this line if you use this jupyter notebook locally\n",
    "#'G:/DREAM/from_github/PAMFluo/Experiments/2021-06-24_12_12_Ek_video'\n",
    "file_folder"
   ]
  },
  {
   "cell_type": "code",
   "execution_count": 58,
   "metadata": {},
   "outputs": [],
   "source": [
    "show = True #option to output intermediary images in the segmentation process\n",
    "\n",
    "# Import video file in HQ and select ROI\n",
    "file_path = file_folder + \"/video.tiff\"\n",
    "direc = os.path.split(file_path)[0]\n",
    "\n",
    "# Initialize plotting tools\n",
    "g = alienlab.plot.ShowFigure()\n",
    "g.figsize = (15,7)\n",
    "g.save_folder = \"images\"\n",
    "g.date = False\n",
    "p = alienlab.plot.PlotFigure()\n",
    "p.figsize = (15,7)\n",
    "p.save_folder = \"images\"\n",
    "p.date = False"
   ]
  },
  {
   "cell_type": "code",
   "execution_count": 59,
   "metadata": {},
   "outputs": [
    {
     "name": "stdout",
     "output_type": "stream",
     "text": [
      "--- Computed frames statistics in 1.490749 seconds ---\n"
     ]
    },
    {
     "data": {
      "application/vnd.jupyter.widget-view+json": {
       "model_id": "96502b0affe741c9a1aaff65bf39f16f",
       "version_major": 2,
       "version_minor": 0
      },
      "text/plain": [
       "Canvas(toolbar=Toolbar(toolitems=[('Home', 'Reset original view', 'home', 'home'), ('Back', 'Back to previous …"
      ]
     },
     "metadata": {},
     "output_type": "display_data"
    },
    {
     "data": {
      "application/vnd.jupyter.widget-view+json": {
       "model_id": "3dac4419dd2640e1a6b838bae0930e79",
       "version_major": 2,
       "version_minor": 0
      },
      "text/plain": [
       "Canvas(toolbar=Toolbar(toolitems=[('Home', 'Reset original view', 'home', 'home'), ('Back', 'Back to previous …"
      ]
     },
     "metadata": {},
     "output_type": "display_data"
    }
   ],
   "source": [
    "# read the stacked frame. dim = NxHxW (N images in the video, Heigt, Width)\n",
    "\n",
    "frames_full = skimage.io.imread(file_path)\n",
    "\n",
    "#frames_full = np.stack([frames_full[:,:,1]]*10, 0) \n",
    "#uncomment this line if you have a single RGB image. The [:,:,1] stands for selection of the green channel\n",
    "\n",
    "FO = FramesOperator(frames_full)\n",
    "im = normalize(FO.frames[0], 0, 1)\n",
    "im = grey_to_rgb(im)*255\n",
    "\n",
    "# CROP\n",
    "#y, x = alienlab.io.select_roi(np.uint8(im)) #select area of interest\n",
    "\n",
    "#FO.x = x\n",
    "#FO.y = y\n",
    "#FO.crop() #crop image\n",
    "\n",
    "start_time = time.time()\n",
    "FO.compute_stats() #compute various statistical values on the frames and the pixels\n",
    "FO.normalize(0, 1)\n",
    "print(\"--- Computed frames statistics in %04f seconds ---\" % (time.time() - start_time))\n",
    "\n",
    "#FO.global_stats: each array has size N, number of frames and represents the stats of each frame\n",
    "#FO.frames_stats: each array has size FO.x, FO.y and is an image representing the N frames stats overlayed\n",
    "\n",
    "if show:\n",
    "    p.title = 'statistics'\n",
    "    p.xlabel = 'frame number'\n",
    "    p.ylabel = 'amplitude'\n",
    "    p.label_list = ['max', 'min', 'mean', 'std']\n",
    "    fig = p.plotting(np.asarray(FO.inds), [FO.global_stats['mean'], \n",
    "                        FO.global_stats['min'], \n",
    "                        FO.global_stats['mean']])\n",
    "    p.save_name = 'frames_stats'\n",
    "    p.saving(fig)\n",
    "\n",
    "''' IMAGE SEGMENTATION '''\n",
    "\n",
    "# selection of the frames with high dynamics that will be used for the image segmentation process.\n",
    "# Let M be the highest value taken by a pixel in all the frames of the video. The frame F is kept for processing only if at\n",
    "# least one pixel in the frame F has a value above 0.8*M. \n",
    "FO.selected_inds = FO.select_frames(FO.global_stats['max'], FO.global_stats['max'].max()*0.8)\n"
   ]
  },
  {
   "cell_type": "code",
   "execution_count": 61,
   "metadata": {},
   "outputs": [
    {
     "data": {
      "application/vnd.jupyter.widget-view+json": {
       "model_id": "e0f851735a87482fa81e396b50f33766",
       "version_major": 2,
       "version_minor": 0
      },
      "text/plain": [
       "Canvas(toolbar=Toolbar(toolitems=[('Home', 'Reset original view', 'home', 'home'), ('Back', 'Back to previous …"
      ]
     },
     "metadata": {},
     "output_type": "display_data"
    },
    {
     "data": {
      "text/plain": [
       "<matplotlib.image.AxesImage at 0x2232886c5e0>"
      ]
     },
     "execution_count": 61,
     "metadata": {},
     "output_type": "execute_result"
    }
   ],
   "source": [
    "\n",
    "plt.figure(figsize = (5, 3))\n",
    "FO.selected_inds = FO.select_frames(FO.global_stats['max'], FO.global_stats['max'].max()*0.8) # Select only images with high intensity to increase contrast and lower computation time\n",
    "imref = FO.frames[FO.selected_inds].sum(axis = 0)\n",
    "plt.imshow(imref)\n"
   ]
  },
  {
   "cell_type": "code",
   "execution_count": 62,
   "metadata": {},
   "outputs": [
    {
     "name": "stdout",
     "output_type": "stream",
     "text": [
      "--- Computed binary mask in 2.555999 seconds ---\n"
     ]
    },
    {
     "data": {
      "application/vnd.jupyter.widget-view+json": {
       "model_id": "7a38b9731cfb4037976cb26d0186f2d0",
       "version_major": 2,
       "version_minor": 0
      },
      "text/plain": [
       "Canvas(toolbar=Toolbar(toolitems=[('Home', 'Reset original view', 'home', 'home'), ('Back', 'Back to previous …"
      ]
     },
     "metadata": {},
     "output_type": "display_data"
    },
    {
     "data": {
      "application/vnd.jupyter.widget-view+json": {
       "model_id": "717a52c470e849b099ef86a12c9c4c8b",
       "version_major": 2,
       "version_minor": 0
      },
      "text/plain": [
       "Canvas(toolbar=Toolbar(toolitems=[('Home', 'Reset original view', 'home', 'home'), ('Back', 'Back to previous …"
      ]
     },
     "metadata": {},
     "output_type": "display_data"
    },
    {
     "name": "stderr",
     "output_type": "stream",
     "text": [
      "g:\\dream\\from_github\\alienlab\\alienlab\\segment.py:38: FutureWarning: indices argument is deprecated and will be removed in version 0.20. To avoid this warning, please do not use the indices argument. Please see peak_local_max documentation for more details.\n",
      "  local_maxi = skimage.feature.peak_local_max(im, indices = False, min_distance=min_distance)\n",
      "g:\\dream\\from_github\\alienlab\\alienlab\\segment.py:41: FutureWarning: indices argument is deprecated and will be removed in version 0.20. To avoid this warning, please do not use the indices argument. Please see peak_local_max documentation for more details.\n",
      "  dist_local_maxi = skimage.feature.peak_local_max(distance, indices = False, min_distance=min_distance)\n"
     ]
    },
    {
     "data": {
      "application/vnd.jupyter.widget-view+json": {
       "model_id": "a7c1ae9f8ccd4f08a2d552514d87287e",
       "version_major": 2,
       "version_minor": 0
      },
      "text/plain": [
       "Canvas(toolbar=Toolbar(toolitems=[('Home', 'Reset original view', 'home', 'home'), ('Back', 'Back to previous …"
      ]
     },
     "metadata": {},
     "output_type": "display_data"
    },
    {
     "data": {
      "application/vnd.jupyter.widget-view+json": {
       "model_id": "2d1da79ae7cd468bb80981f69f68e7aa",
       "version_major": 2,
       "version_minor": 0
      },
      "text/plain": [
       "Canvas(toolbar=Toolbar(toolitems=[('Home', 'Reset original view', 'home', 'home'), ('Back', 'Back to previous …"
      ]
     },
     "metadata": {},
     "output_type": "display_data"
    },
    {
     "name": "stdout",
     "output_type": "stream",
     "text": [
      "--- Computed segmentation in 0.644634 seconds ---\n"
     ]
    },
    {
     "data": {
      "application/vnd.jupyter.widget-view+json": {
       "model_id": "7a1fdb994c5e4318bc0e04ff7130a278",
       "version_major": 2,
       "version_minor": 0
      },
      "text/plain": [
       "Canvas(toolbar=Toolbar(toolitems=[('Home', 'Reset original view', 'home', 'home'), ('Back', 'Back to previous …"
      ]
     },
     "metadata": {},
     "output_type": "display_data"
    },
    {
     "name": "stderr",
     "output_type": "stream",
     "text": [
      "Clipping input data to the valid range for imshow with RGB data ([0..1] for floats or [0..255] for integers).\n"
     ]
    },
    {
     "data": {
      "application/vnd.jupyter.widget-view+json": {
       "model_id": "119f2073e31948d695f0d28af68b8a04",
       "version_major": 2,
       "version_minor": 0
      },
      "text/plain": [
       "Canvas(toolbar=Toolbar(toolitems=[('Home', 'Reset original view', 'home', 'home'), ('Back', 'Back to previous …"
      ]
     },
     "metadata": {},
     "output_type": "display_data"
    },
    {
     "data": {
      "application/vnd.jupyter.widget-view+json": {
       "model_id": "806be92efd6f479d8075c156586fab25",
       "version_major": 2,
       "version_minor": 0
      },
      "text/plain": [
       "Canvas(toolbar=Toolbar(toolitems=[('Home', 'Reset original view', 'home', 'home'), ('Back', 'Back to previous …"
      ]
     },
     "metadata": {},
     "output_type": "display_data"
    },
    {
     "name": "stderr",
     "output_type": "stream",
     "text": [
      "100%|███████████████████████████████████████████████████████████████████████████████| 419/419 [00:01<00:00, 320.80it/s]\n"
     ]
    }
   ],
   "source": [
    "def segment_image(contrast, autolevel, dist_max, dist_seg, disk_size, max_contrast, interact = True, showit = show):\n",
    "    \n",
    "    start_time = time.time()\n",
    "    FO.selected_inds = FO.select_frames(FO.global_stats['max'], FO.global_stats['max'].max()*0.98) # Select only images with high intensity to increase contrast and lower computation time\n",
    "\n",
    "    #apply contrast filter to all frames\n",
    "    frames_contrast = FO.apply(skimage.filters.rank.enhance_contrast,  selem = skimage.morphology.disk(contrast))\n",
    "    #apply autolevel filter to all frames\n",
    "    frames_autolevel = FO.apply(skimage.filters.rank.autolevel, selem = skimage.morphology.disk(autolevel))\n",
    "    #sum the contrast images to get a reference grey-level contrast image\n",
    "    frame_contrast = np.sum(frames_contrast, axis = 0)\n",
    "    #sum the autolevel images to get a reference grey-level autolevel image\n",
    "    frame_autolevel = np.sum(frames_autolevel, axis = 0)\n",
    "    #obtain contrast mask from reference contrast image\n",
    "    mask_contrast = make_binary(frame_contrast, soft_hard = 0.4)\n",
    "    #otbain autolevel mask from reference autolevel image\n",
    "    mask_autolevel =  make_binary(frame_autolevel, soft_hard = 0.8)\n",
    "    #intersection of contrast aud autolevel masks\n",
    "    mask_intersect = mask_contrast * mask_autolevel\n",
    "    #clean the masks with a binary opening\n",
    "    mask_intersect = skimage.morphology.binary_opening(mask_intersect, selem = skimage.morphology.disk(disk_size))\n",
    "    #reference image of altitude for the watershed\n",
    "    auto_contrast = normalize(mask_intersect * frame_autolevel)\n",
    "    print(\"--- Computed binary mask in %04f seconds ---\" % (time.time() - start_time))\n",
    "\n",
    "    g.cmap = \"inferno\"\n",
    "    if showit:\n",
    "        g.figsize = (40,15)\n",
    "        g.title_list =  'contrast', 'contrast threshold', 'mask intersect','autolevel', 'autolevel threshold','segmentation image'\n",
    "        g.col_num = 3\n",
    "        fig = g.multi([frame_contrast, mask_contrast, mask_intersect, \n",
    "                       frame_autolevel, mask_autolevel,  auto_contrast])\n",
    "        g.save_name = 'Segmentation reference'\n",
    "        g.saving(fig)\n",
    "\n",
    "    start_time = time.time()\n",
    "    ref = auto_contrast\n",
    "    mask = mask_intersect\n",
    "    #locate the local maxima\n",
    "    local_maxi = alienlab.segment.local_maxima(auto_contrast, max_contrast, g,\n",
    "                                                     ref_distance = dist_max, mask = mask, show = showit)\n",
    "    #perform watershed segmentation\n",
    "    watershed_im_mask = alienlab.segment.watershed(ref, mask, local_maxi,\n",
    "                                                         g, ref_distance = dist_seg, show = False)\n",
    "    segmented = watershed_im_mask\n",
    "    print(\"--- Computed segmentation in %04f seconds ---\" % (time.time() - start_time))\n",
    "\n",
    "    if showit:\n",
    "        alienlab.segment.show_segmentation(FO, segmented, g)\n",
    "        \n",
    "    if interact == False:\n",
    "        return watershed_im_mask, FO\n",
    "    \n",
    "mask, FO = segment_image(contrast = 2, autolevel = 6, dist_max = True, dist_seg=True, disk_size = 2, max_contrast = 4, interact = False, showit= True)\n",
    "\n",
    "g.cmap = \"tab20\"\n",
    "g.figsize = (10,5)\n",
    "fig = g.multi(mask)\n",
    "\n",
    "L, H  = np.shape(mask)\n",
    "\n",
    "items_dict = label_to_data(mask, FO)"
   ]
  },
  {
   "cell_type": "code",
   "execution_count": 63,
   "metadata": {},
   "outputs": [
    {
     "data": {
      "application/vnd.jupyter.widget-view+json": {
       "model_id": "09a3daab8b094913ac67e914b2c23500",
       "version_major": 2,
       "version_minor": 0
      },
      "text/plain": [
       "Canvas(toolbar=Toolbar(toolitems=[('Home', 'Reset original view', 'home', 'home'), ('Back', 'Back to previous …"
      ]
     },
     "metadata": {},
     "output_type": "display_data"
    },
    {
     "data": {
      "application/vnd.jupyter.widget-view+json": {
       "model_id": "4ce031561f3b4f8887005e3a89488f4e",
       "version_major": 2,
       "version_minor": 0
      },
      "text/plain": [
       "Canvas(toolbar=Toolbar(toolitems=[('Home', 'Reset original view', 'home', 'home'), ('Back', 'Back to previous …"
      ]
     },
     "metadata": {},
     "output_type": "display_data"
    },
    {
     "ename": "IndexError",
     "evalue": "index 122 is out of bounds for axis 0 with size 122",
     "output_type": "error",
     "traceback": [
      "\u001b[1;31m---------------------------------------------------------------------------\u001b[0m",
      "\u001b[1;31mIndexError\u001b[0m                                Traceback (most recent call last)",
      "\u001b[1;32m<ipython-input-63-577ac2646db4>\u001b[0m in \u001b[0;36m<module>\u001b[1;34m\u001b[0m\n\u001b[0;32m     49\u001b[0m \u001b[1;32mfor\u001b[0m \u001b[0mi\u001b[0m \u001b[1;32min\u001b[0m \u001b[0mrange\u001b[0m\u001b[1;33m(\u001b[0m\u001b[0mlen\u001b[0m\u001b[1;33m(\u001b[0m\u001b[0mindices_clean\u001b[0m\u001b[1;33m)\u001b[0m\u001b[1;33m-\u001b[0m\u001b[1;36m1\u001b[0m\u001b[1;33m)\u001b[0m\u001b[1;33m:\u001b[0m\u001b[1;33m\u001b[0m\u001b[1;33m\u001b[0m\u001b[0m\n\u001b[0;32m     50\u001b[0m         \u001b[0mind_range\u001b[0m \u001b[1;33m=\u001b[0m \u001b[0mlist\u001b[0m\u001b[1;33m(\u001b[0m\u001b[0mrange\u001b[0m\u001b[1;33m(\u001b[0m\u001b[0mindices_clean\u001b[0m\u001b[1;33m[\u001b[0m\u001b[0mi\u001b[0m\u001b[1;33m]\u001b[0m\u001b[1;33m,\u001b[0m\u001b[0mindices_clean\u001b[0m\u001b[1;33m[\u001b[0m\u001b[0mi\u001b[0m\u001b[1;33m+\u001b[0m\u001b[1;36m1\u001b[0m\u001b[1;33m]\u001b[0m\u001b[1;33m)\u001b[0m\u001b[1;33m)\u001b[0m\u001b[1;33m\u001b[0m\u001b[1;33m\u001b[0m\u001b[0m\n\u001b[1;32m---> 51\u001b[1;33m         \u001b[0mtrace\u001b[0m \u001b[1;33m=\u001b[0m \u001b[0mv_high\u001b[0m\u001b[1;33m[\u001b[0m\u001b[0mind_range\u001b[0m\u001b[1;33m]\u001b[0m\u001b[1;33m\u001b[0m\u001b[1;33m\u001b[0m\u001b[0m\n\u001b[0m\u001b[0;32m     52\u001b[0m         \u001b[0mind\u001b[0m \u001b[1;33m=\u001b[0m \u001b[0mtrace\u001b[0m \u001b[1;33m>\u001b[0m \u001b[0mTHRESHOLD\u001b[0m\u001b[1;33m\u001b[0m\u001b[1;33m\u001b[0m\u001b[0m\n\u001b[0;32m     53\u001b[0m         \u001b[0mnind\u001b[0m \u001b[1;33m=\u001b[0m \u001b[0mtrace\u001b[0m \u001b[1;33m<=\u001b[0m \u001b[0mTHRESHOLD\u001b[0m\u001b[1;33m\u001b[0m\u001b[1;33m\u001b[0m\u001b[0m\n",
      "\u001b[1;31mIndexError\u001b[0m: index 122 is out of bounds for axis 0 with size 122"
     ]
    }
   ],
   "source": [
    "data_sequence = {}\n",
    "video_sequence = {}\n",
    "fig, axs = plt.subplots(1, 2, figsize=(15, 4))\n",
    "\n",
    "file_path = glob.glob(file_folder + \"/*_output_plot.csv\")[0] # pops up a window to select your file\n",
    "data_sequence = pd.read_csv(file_path)\n",
    "\n",
    "time_array = np.array(data_sequence[\"time (s) intensity\"])\n",
    "fluo  = np.array(data_sequence[\"voltage (V) fluorescence\"])\n",
    "amplitude = np.array(data_sequence[\"voltage (V) intensity\"])\n",
    "\n",
    "axs[0].plot(time_array, fluo)\n",
    "axs[0].set_title(\"MPPC high, voltage\")\n",
    "\n",
    "start = 0\n",
    "axs[1].plot(mvgavg(time_array, 100)[start:], (mvgavg(fluo, 100))[start:])\n",
    "axs[1].set_title(\"MPPC high, voltage\")\n",
    "\n",
    "\n",
    "file_path = file_folder + \"/video.tiff\"\n",
    "video = tiff.imread(file_path)\n",
    "video_sequence[0]=video\n",
    "v_high = np.mean(video, axis = (1,2))\n",
    "file_path = file_folder + \"/video_timing.npy\"\n",
    "v_time_high = np.load(file_path)\n",
    "t0 = v_time_high[0]\n",
    "v_time_high = v_time_high -t0\n",
    "v_time_high = v_time_high%(3600*24)\n",
    "\n",
    "\n",
    "file_path = file_folder + \"/video.tiff\"\n",
    "video_file_high = tiff.imread(file_path)\n",
    "\n",
    "\n",
    "plt.figure()\n",
    "plt.plot(v_high)\n",
    "\n",
    "\n",
    "\n",
    "zone = []\n",
    "time_zone = []\n",
    "video_zone = []\n",
    "\n",
    "indices_clean = 0, 10, 112, 542, len(v_high)        \n",
    "THRESHOLD = 0.6\n",
    "N_mvg = 5\n",
    "\n",
    "\n",
    "for i in range(len(indices_clean)-1):\n",
    "        ind_range = list(range(indices_clean[i],indices_clean[i+1]))\n",
    "        trace = v_high[ind_range]\n",
    "        ind = trace > THRESHOLD\n",
    "        nind = trace <= THRESHOLD\n",
    "        zone.append(trace[ind])\n",
    "        zone.append(mvgavg(trace[nind], N_mvg))\n",
    "        \n",
    "        v_time = v_time_high[ind_range]\n",
    "        time_zone.append(v_time[ind])\n",
    "        time_zone.append(mvgavg(v_time[nind], N_mvg))\n",
    "        \n",
    "        vid = video_file_high[ind_range]\n",
    "        video_zone.append(vid[ind])\n",
    "        video_zone.append(mvgavg(vid[nind], N_mvg))\n",
    "\n",
    "   \n",
    "fig, axs = plt.subplots(1, 2, figsize=(15, 4))\n",
    "\n",
    "time_zone[2] = np.append(time_zone[3][0], time_zone[2])\n",
    "zone[2] = np.append(zone[0][0], zone[2])\n",
    "video_zone[2] = np.concatenate([video_zone[0], video_zone[2]])\n",
    "\n",
    "\n",
    "for k in range(len(zone)):\n",
    "        print(k)\n",
    "        axs[k%2].plot(time_zone[k], zone[k], label = k)\n",
    "        axs[k%2].set_title(\"zone %d\"%k)\n",
    "        axs[k%2].legend()\n"
   ]
  },
  {
   "cell_type": "code",
   "execution_count": null,
   "metadata": {},
   "outputs": [],
   "source": [
    "plt.figure()\n",
    "plt.plot(time_array, amplitude/amplitude.max())\n",
    "plt.plot(v_time_high, v_high/v_high.max())"
   ]
  },
  {
   "cell_type": "code",
   "execution_count": null,
   "metadata": {},
   "outputs": [],
   "source": [
    "p.yval = zone[1::2]\n",
    "p.xval = time_zone[1::2]\n",
    "p.label_list = [\"0\", \"1\", \"2\", \"3\", \"4\"]\n",
    "p.plotting(p.xval, p.yval)\n"
   ]
  },
  {
   "cell_type": "code",
   "execution_count": 273,
   "metadata": {},
   "outputs": [
    {
     "name": "stderr",
     "output_type": "stream",
     "text": [
      "<ipython-input-273-e2c0c8af131a>:1: RuntimeWarning: More than 20 figures have been opened. Figures created through the pyplot interface (`matplotlib.pyplot.figure`) are retained until explicitly closed and may consume too much memory. (To control this warning, see the rcParam `figure.max_open_warning`).\n",
      "  fig, axs = plt.subplots(1, 3, figsize=(12, 4))\n"
     ]
    },
    {
     "data": {
      "application/vnd.jupyter.widget-view+json": {
       "model_id": "0661169c8f4b468391b1978988d6d5e1",
       "version_major": 2,
       "version_minor": 0
      },
      "text/plain": [
       "Canvas(toolbar=Toolbar(toolitems=[('Home', 'Reset original view', 'home', 'home'), ('Back', 'Back to previous …"
      ]
     },
     "metadata": {},
     "output_type": "display_data"
    },
    {
     "data": {
      "application/vnd.jupyter.widget-view+json": {
       "model_id": "a4473e86b13b409f9326e7d2b3a22c35",
       "version_major": 2,
       "version_minor": 0
      },
      "text/plain": [
       "Canvas(toolbar=Toolbar(toolitems=[('Home', 'Reset original view', 'home', 'home'), ('Back', 'Back to previous …"
      ]
     },
     "metadata": {},
     "output_type": "display_data"
    },
    {
     "data": {
      "text/plain": [
       "Text(0, 0.5, 'fluorescence intensity')"
      ]
     },
     "execution_count": 273,
     "metadata": {},
     "output_type": "execute_result"
    }
   ],
   "source": [
    "fig, axs = plt.subplots(1, 3, figsize=(12, 4))\n",
    "#x0, x1, y0, y1 = 100, 500, 300, 700\n",
    "#x0, x1, y0, y1 = 10, 800, 30, 1000\n",
    "axs[0].imshow(np.mean(video_sequence[0], axis = 0), cmap = \"gray\")#[2, x0:x1, y0:y1], vmin = 0, vmax = 30)\n",
    "\n",
    "plt.figure(figsize = (10, 5))\n",
    "plt.plot(v_time_high, np.mean(video_sequence[0][:, 100:500, 300:700], axis = (1,2)))\n",
    "plt.xlabel(\"time (s)\")\n",
    "plt.ylabel(\"fluorescence intensity\")"
   ]
  },
  {
   "cell_type": "code",
   "execution_count": 274,
   "metadata": {},
   "outputs": [
    {
     "name": "stderr",
     "output_type": "stream",
     "text": [
      "100%|███████████████████████████████████████████████████████████████████████████████| 108/108 [00:00<00:00, 144.37it/s]\n"
     ]
    }
   ],
   "source": [
    "\n",
    "video_high = []\n",
    "\n",
    "file_path = file_folder + \"/video.tiff\"\n",
    "video_file_high = tiff.imread(file_path)\n",
    "\n",
    "\n",
    "algae_list = list(items_dict.keys())\n",
    "for P in [5]:#[len(algae_list)]:#[8, 10, 12, 15, 18, 20, 25, 30, 35, 40, 60, 90, 120, 180, 200, 250, 300, 400, 500, 600, 700]:\n",
    "\n",
    "    #for algae in random.sample(algae_list, P):\n",
    "    for algae in tqdm(algae_list):\n",
    "        #if int(algae):# in ['1', '80', '400', '250']:\n",
    "            i = 0\n",
    "\n",
    "\n",
    "            x_coords =  items_dict[algae]['x_coords']\n",
    "            y_coords =  items_dict[algae]['y_coords']\n",
    "            \n",
    "            trace = np.mean(video_file_high[:, x_coords, y_coords], axis = (1))\n",
    "            video_high.append(np.array(trace))\n",
    "\n",
    "video_high = np.array(video_high)\n"
   ]
  },
  {
   "cell_type": "code",
   "execution_count": 275,
   "metadata": {},
   "outputs": [
    {
     "data": {
      "application/vnd.jupyter.widget-view+json": {
       "model_id": "fb13791b298b4f70ac40857aa9edf58d",
       "version_major": 2,
       "version_minor": 0
      },
      "text/plain": [
       "Canvas(toolbar=Toolbar(toolitems=[('Home', 'Reset original view', 'home', 'home'), ('Back', 'Back to previous …"
      ]
     },
     "metadata": {},
     "output_type": "display_data"
    },
    {
     "name": "stderr",
     "output_type": "stream",
     "text": [
      "g:\\dream\\from_github\\alienlab\\alienlab\\regression_func.py:70: RuntimeWarning: overflow encountered in exp\n",
      "  return A * np.exp(-xdata/tau) + y0\n",
      "g:\\dream\\from_github\\alienlab\\alienlab\\regression_func.py:70: RuntimeWarning: overflow encountered in exp\n",
      "  return A * np.exp(-xdata/tau) + y0\n"
     ]
    }
   ],
   "source": [
    "def get_fit(decay, time, give_y = False):    \n",
    "\n",
    "    time_spread = time.max()-time.min()\n",
    "    start = np.mean(decay[0])\n",
    "    stop = np.mean(decay[-10:])\n",
    "    x0 = [start, time_spread, stop]\n",
    "\n",
    "    parameters_estimated = optimize.least_squares(residuals,  x0, bounds = (-1e8,1e8),\n",
    "                                args = (time, decay, exp_decay))\n",
    "    \n",
    "    if give_y:\n",
    "        return np.array(parameters_estimated.x), exp_decay(parameters_estimated.x, time)\n",
    "    else:\n",
    "        return np.array(parameters_estimated.x)\n",
    "\n",
    "def make_fit(decay, time_array):\n",
    "    plt.figure()\n",
    "    params, ypred = get_fit(decay, time_array, give_y = True)\n",
    "    plt.plot(time_array, ypred, label = params[1])\n",
    "    plt.plot(time_array, decay, '.')\n",
    "    plt.xlabel(\"time(s)\")\n",
    "    plt.ylabel(\"fluorescence\")\n",
    "    plt.legend()\n",
    "    \n",
    "\n",
    "flat_mask = mask.flatten()\n",
    "\n",
    "\n",
    "L = len(video_zone) + 1\n",
    "col = 3\n",
    "fig, axs = plt.subplots(col, L//col, figsize=(15,15))\n",
    "\n",
    "video_list_init = video_zone[2:]\n",
    "time_list = time_zone[2:]\n",
    "video_list = []\n",
    "for video in video_list_init:\n",
    "    if video.shape[0]!=0:\n",
    "        video_list.append(video)\n",
    "\n",
    "for i, video in enumerate(video_list): \n",
    "    video_list[i] = video.reshape(video.shape[0], -1)\n",
    "\n",
    "\n",
    "\n",
    "for ind in [3, 9, 12]:\n",
    "    if ind != 0:\n",
    "        pos = flat_mask == ind\n",
    "        for i, video in enumerate(video_list):\n",
    "            y = np.mean(video[:, pos], axis = 1)    \n",
    "            x = time_list[i]\n",
    "            params, ypred = get_fit(y, x, give_y = True)\n",
    "            axs[(i+1)%col][(i+1)//col].plot(x, ypred, label = params[1])\n",
    "            axs[(i+1)%col][(i+1)//col].plot(x, y, '.')\n",
    "            axs[(i+1)%col][(i+1)//col].legend()\n",
    "\n"
   ]
  },
  {
   "attachments": {
    "f884e135-56f7-43ea-b1cd-4e189077e550.png": {
     "image/png": "[encoded data removed]"
    }
   },
   "cell_type": "markdown",
   "metadata": {},
   "source": [
    "![image.png](attachment:f884e135-56f7-43ea-b1cd-4e189077e550.png)"
   ]
  },
  {
   "cell_type": "code",
   "execution_count": 276,
   "metadata": {},
   "outputs": [
    {
     "data": {
      "application/vnd.jupyter.widget-view+json": {
       "model_id": "c637f17eda834c11b20381ac3d0155ca",
       "version_major": 2,
       "version_minor": 0
      },
      "text/plain": [
       "Canvas(toolbar=Toolbar(toolitems=[('Home', 'Reset original view', 'home', 'home'), ('Back', 'Back to previous …"
      ]
     },
     "metadata": {},
     "output_type": "display_data"
    },
    {
     "name": "stderr",
     "output_type": "stream",
     "text": [
      "<ipython-input-276-a3c8ee4797c5>:19: RuntimeWarning: invalid value encountered in log\n",
      "  axs[0].imshow(np.log(im_tau_high))\n"
     ]
    },
    {
     "data": {
      "application/vnd.jupyter.widget-view+json": {
       "model_id": "721b41be15fa4c32aadc043dc51ede43",
       "version_major": 2,
       "version_minor": 0
      },
      "text/plain": [
       "Canvas(toolbar=Toolbar(toolitems=[('Home', 'Reset original view', 'home', 'home'), ('Back', 'Back to previous …"
      ]
     },
     "metadata": {},
     "output_type": "display_data"
    },
    {
     "data": {
      "application/vnd.jupyter.widget-view+json": {
       "model_id": "532ebda29a7e438a97c0c74ff6f3c61d",
       "version_major": 2,
       "version_minor": 0
      },
      "text/plain": [
       "Canvas(toolbar=Toolbar(toolitems=[('Home', 'Reset original view', 'home', 'home'), ('Back', 'Back to previous …"
      ]
     },
     "metadata": {},
     "output_type": "display_data"
    }
   ],
   "source": [
    "params_tot = []\n",
    "im_tau = []\n",
    "for z in range(2,8):\n",
    "    if z%2==0:\n",
    "        fig, axs = plt.subplots(1, 3, figsize = (18, 4))\n",
    "\n",
    "    S = video_zone[z].shape[0]\n",
    "    params_high = Parallel(n_jobs = -1 )(delayed(get_fit)(np.mean(video_zone[z].reshape(S, -1)[:,flat_mask==i], axis = 1), time_zone[z]) for i in range(len(algae_list)))\n",
    "    params_tot.append(np.array(params_high))\n",
    "    im_tau_high = np.zeros(mask.shape)\n",
    "    for i in range(len(params_high)):\n",
    "        im_tau_high[mask==i]=params_high[i][1]\n",
    "\n",
    "    im_tau.append(im_tau_high)\n",
    "\n",
    "    params_high = np.array(params_high)\n",
    "    tau_high = params_high[:,1]\n",
    "    if z not in [7]:\n",
    "        axs[0].imshow(np.log(im_tau_high))\n",
    "        clipped = clip(tau_high, high = 85, low = 2)\n",
    "        if z%2==0:\n",
    "            axs[1].hist(clipped, color = (1,0,0,0.5))\n",
    "        else:\n",
    "            axs[1].hist(clipped, color = (0,0,1,0.5))\n",
    "\n",
    "            axs[2].scatter(params_tot[z-3][:,1], params_tot[z-2][:,1])\n",
    "            axs[2].set_xlabel(\"time(s) pulses\")\n",
    "            axs[2].set_ylabel(\"time(s) FD\")\n",
    "            axs[2].set_xlim(clipped.min(), clipped.max())\n",
    "            axs[2].set_ylim(clipped.min(), clipped.max())\n",
    "            \n",
    "np.save(file_folder + \"/im_ref.npy\", imref)\n",
    "np.save(file_folder + \"/im_tau_high.npy\", im_tau_high)"
   ]
  },
  {
   "cell_type": "code",
   "execution_count": 277,
   "metadata": {},
   "outputs": [
    {
     "data": {
      "application/vnd.jupyter.widget-view+json": {
       "model_id": "aef8086cf9f44d589e9099fc034c30e5",
       "version_major": 2,
       "version_minor": 0
      },
      "text/plain": [
       "Canvas(toolbar=Toolbar(toolitems=[('Home', 'Reset original view', 'home', 'home'), ('Back', 'Back to previous …"
      ]
     },
     "metadata": {},
     "output_type": "display_data"
    },
    {
     "data": {
      "application/vnd.jupyter.widget-view+json": {
       "model_id": "50bd78ddb4a04b588e929bae53f558e1",
       "version_major": 2,
       "version_minor": 0
      },
      "text/plain": [
       "Textarea(value='', description='event:', placeholder='')"
      ]
     },
     "metadata": {},
     "output_type": "display_data"
    }
   ],
   "source": [
    "import importlib\n",
    "\n",
    "importlib.reload(alienlab.widget)\n",
    "from alienlab.widget import click_to_graph\n",
    "\n",
    "file_path = file_folder + \"/video.tiff\"\n",
    "video_file_high = tiff.imread(file_path)\n",
    "\n",
    "video_list =  video_zone[2:]\n",
    "time_list =  time_zone[2:]\n",
    "initial_condition_list = [[],[],[],[],[],[],[],[]]\n",
    "click_to_graph(mask, np.log(im_tau[2]),video_list,time_list, get_fit, clipit=False)"
   ]
  },
  {
   "cell_type": "code",
   "execution_count": null,
   "metadata": {},
   "outputs": [],
   "source": []
  },
  {
   "cell_type": "markdown",
   "metadata": {},
   "source": [
    "# Compare"
   ]
  },
  {
   "cell_type": "code",
   "execution_count": null,
   "metadata": {},
   "outputs": [],
   "source": [
    "mdirectory = askdirectory()\n"
   ]
  },
  {
   "cell_type": "code",
   "execution_count": null,
   "metadata": {},
   "outputs": [],
   "source": [
    "list_directory = glob.glob(mdirectory + \"/*\")\n",
    "plt.figure()\n",
    "list_val =  [10, 30, 50, 100, 150, 200, 250, 300, 350, 400,10, 30, 50, 100, 150, 200, 250, 300, 350, 400, 450]\n",
    "for i in range(len(list_directory)):\n",
    "    file_folder = list_directory[i]\n",
    "    file_path = glob.glob(file_folder + \"/*_qE_decay.csv\")[0] # pops up a window to select your file\n",
    "    data = pd.read_csv(file_path)\n",
    "    time_array = np.array(data[\"time (s) q\"])\n",
    "    time_high = time_array[:-10]\n",
    "    fluo_high  = np.array(data[\"voltage (V) q\"])\n",
    "    fluo_high = fluo_high[:-10]\n",
    "    npq_high =  (fluo_high.max()-fluo_high)/fluo_high\n",
    "    plt.plot(time_high, npq_high, label = list_val[i])\n",
    "    file_path = glob.glob(file_folder + \"/*SP_before_after.csv\")[0] # pops up a window to select your file\n",
    "    data = np.genfromtxt(file_path)\n",
    "    fm = data[0][0]- data[0][1]\n",
    "    fmp = data[1][0]-data[1][1]\n",
    "    #plt.plot(list_val[i], (fm-fmp)/fmp, 'o')\n",
    "plt.legend()\n",
    "plt.show()"
   ]
  },
  {
   "cell_type": "code",
   "execution_count": null,
   "metadata": {},
   "outputs": [],
   "source": [
    "data[0]"
   ]
  },
  {
   "cell_type": "code",
   "execution_count": null,
   "metadata": {},
   "outputs": [],
   "source": [
    "list_directory = glob.glob(mdirectory + \"/*\")\n",
    "\n",
    "fig, axs = plt.subplots(2, 2, figsize=(12, 12))\n",
    "\n",
    "minute = 60\n",
    "lengths_pulse = [300, 150, 50]\n",
    "periods_pulse = [0.1*minute, 0.5*minute, 1*minute]\n",
    "move_plate = True\n",
    "\n",
    "n = 3\n",
    "means  = {}\n",
    "stds = {}\n",
    "means['high'] = np.zeros((n,n))\n",
    "stds['high'] =  np.zeros((n,n))\n",
    "means['pulses'] =  np.zeros((n,n))\n",
    "stds['pulses'] =  np.zeros((n,n))\n",
    "\n",
    "i = 0\n",
    "for k, length in enumerate(lengths_pulse): \n",
    "    for l, period in enumerate(periods_pulse):\n",
    "        file_folder = list_directory[i]\n",
    "        file_path = glob.glob(file_folder + \"/*_ojip_curve.csv\")[0] # pops up a window to select your file\n",
    "        data = pd.read_csv(file_path)\n",
    "        time_array = np.array(data[\"time (s) o\"])\n",
    "        time_high = time_array[:-10]\n",
    "        fluo_high  = np.array(data[\"voltage (V) o\"])\n",
    "        fluo_high = fluo_high[:-10]\n",
    "        npq_high =  (fluo_high.max()-fluo_high)/fluo_high\n",
    "\n",
    "        file_path = glob.glob(file_folder + \"/measure_pulse.csv\")[0] # pops up a window to select your file\n",
    "        data= pd.read_csv(file_path)\n",
    "        fluo_pulses  = np.array(data)\n",
    "        file_path = glob.glob(file_folder + \"/time_pulse.csv\")[0] # pops up a window to select your file\n",
    "        data = pd.read_csv(file_path)\n",
    "        time_pulses  = np.array(data)\n",
    "        npq_pulses = (fluo_pulses.max()-fluo_pulses)/fluo_pulses\n",
    "\n",
    "        axs[0][0].plot(time_high, fluo_high)\n",
    "        axs[0][0].set_title(\"MPPC high, voltage\")\n",
    "\n",
    "        axs[0][1].plot(time_pulses, fluo_pulses, '.')\n",
    "        axs[0][1].set_title(\"MPPC pulses, voltage\")\n",
    "\n",
    "\n",
    "        im_tau_high = np.load(file_folder + \"/im_tau_high.npy\")\n",
    "        im_tau_pulses = np.load(file_folder + \"/im_tau_pulses.npy\")\n",
    "        axs[1][0].hist(clip(im_tau_high.flatten(), high = 99, low = 1), range = (0, 30), bins = 25, label = \"L: %d ms, dt: %d s\"%(length, period))\n",
    "        axs[1][1].hist(clip(im_tau_pulses.flatten(), high = 99, low = 1), range = (0,180), bins = 25, label =  \"L: %d ms, dt: %d s\"%(length, period))\n",
    "        \n",
    "        high = 97\n",
    "        low = 3\n",
    "        means['high'][k][l] = np.mean(clip(im_tau_high, high = high, low = low))\n",
    "        stds['high'][k][l] = np.std(clip(im_tau_high, high = high, low = low))\n",
    "        means['pulses'][k][l] = np.mean(clip(im_tau_pulses, high = high, low = low))\n",
    "        stds['pulses'][k][l] = np.std(clip(im_tau_pulses, high = high, low = low))\n",
    "        \n",
    "        plt.legend()\n",
    "        i += 1"
   ]
  },
  {
   "cell_type": "code",
   "execution_count": null,
   "metadata": {},
   "outputs": [],
   "source": [
    "fig, axs = plt.subplots(2, 2, figsize=(5, 5))\n",
    "\n",
    "axs[0][0].imshow(means[\"pulses\"])\n",
    "axs[0][0].set_title(\"mean pulses\")\n",
    "\n",
    "axs[1][0].imshow(means[\"high\"])\n",
    "axs[1][0].set_title(\"mean high\")\n",
    "\n",
    "axs[0][1].imshow(stds[\"pulses\"])\n",
    "axs[0][1].set_title(\"std pulses\")\n",
    "\n",
    "axs[1][1].imshow(stds[\"high\"])\n",
    "axs[1][1].set_title(\"std high\")"
   ]
  },
  {
   "cell_type": "code",
   "execution_count": null,
   "metadata": {},
   "outputs": [],
   "source": [
    "list_directory = glob.glob(mdirectory + \"/*\")\n",
    "\n",
    "\n",
    "minute = 60\n",
    "lengths_pulse = [300, 150, 50]\n",
    "periods_pulse = [0.1*minute, 0.5*minute, 1*minute]\n",
    "\n",
    "D = len(list_directory)//3\n",
    "\n",
    "fig, axs = plt.subplots(D, 3, figsize=(10, 2*D))\n",
    "\n",
    "i = 0\n",
    "for k, length in enumerate(lengths_pulse): \n",
    "    for l, period in enumerate(periods_pulse):\n",
    "        file_folder = list_directory[i]\n",
    "\n",
    "\n",
    "        im_tau_high = np.load(file_folder + \"/im_tau_high.npy\")\n",
    "        axs[i%D][i//D].imshow(im_tau_high, vmin =0 , vmax = 20)\n",
    "        axs[i%D][i//D].axis(\"off\")\n",
    "        i += 1\n",
    "        \n",
    "    \n",
    "D = len(list_directory)//3\n",
    "\n",
    "fig, axs = plt.subplots(D, 3, figsize=(10, 2*D))\n",
    "\n",
    "i = 0\n",
    "for k, length in enumerate(lengths_pulse): \n",
    "    for l, period in enumerate(periods_pulse):\n",
    "        file_folder = list_directory[i]\n",
    "\n",
    "\n",
    "        im_tau_pulses = np.load(file_folder + \"/im_tau_pulses.npy\")\n",
    "        axs[i%D][i//D].imshow(im_tau_pulses, vmin =0 , vmax = 130)\n",
    "        axs[i%D][i//D].axis(\"off\")\n",
    "        i += 1"
   ]
  },
  {
   "cell_type": "code",
   "execution_count": null,
   "metadata": {},
   "outputs": [],
   "source": [
    "i//2\n",
    "\n"
   ]
  },
  {
   "cell_type": "code",
   "execution_count": null,
   "metadata": {},
   "outputs": [],
   "source": []
  }
 ],
 "metadata": {
  "kernelspec": {
   "display_name": "Python 3 (ipykernel)",
   "language": "python",
   "name": "python3"
  },
  "language_info": {
   "codemirror_mode": {
    "name": "ipython",
    "version": 3
   },
   "file_extension": ".py",
   "mimetype": "text/x-python",
   "name": "python",
   "nbconvert_exporter": "python",
   "pygments_lexer": "ipython3",
   "version": "3.9.10"
  }
 },
 "nbformat": 4,
 "nbformat_minor": 4
}
