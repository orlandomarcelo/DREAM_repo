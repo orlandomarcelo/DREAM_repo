{
 "cells": [
  {
   "cell_type": "code",
   "execution_count": 3,
   "id": "49e7e7b3-17d3-4b8f-8b5f-f4ce194c1735",
   "metadata": {},
   "outputs": [],
   "source": [
    "class Experiment:\n",
    "    def __init__(self, name, equipment):\n",
    "        self.name = name\n",
    "        self.equipment = equipment\n",
    "        \n",
    "    def find_path(self,local ):\n",
    "        if local == \"IBPC\":\n",
    "            path = f\"C:/Users/Orlando/ownCloud - ORLANDO Marcelo@mycore.cnrs.fr/Doutorado/Dados experimentais/{self.equipment}/{self.name}\"\n",
    "        elif local == \"ENS\":\n",
    "            path = f\"C:/Users/Orlando/ownCloud - ORLANDO Marcelo@mycore.cnrs.fr/Doutorado/Dados experimentais/{self.equipment}/{self.name}\"\n",
    "        elif local == \"home\":\n",
    "            path = f\"C:/Users/Orlando/ownCloud - ORLANDO Marcelo@mycore.cnrs.fr/Doutorado/Dados experimentais/{self.equipment}/{self.name}\"\n",
    "        else:\n",
    "            print(\"Dont know the path for this place\")\n",
    "        return path\n",
    "        \n",
    "\n"
   ]
  },
  {
   "cell_type": "code",
   "execution_count": 4,
   "id": "d9330ac9-201e-410f-aa77-80399836cd26",
   "metadata": {},
   "outputs": [],
   "source": [
    "JTS = Experiment(\"20230216_lum_sinus\",\"JTS\")"
   ]
  },
  {
   "cell_type": "code",
   "execution_count": 5,
   "id": "504afad9-c420-4612-97fe-eafaac709f55",
   "metadata": {},
   "outputs": [
    {
     "data": {
      "text/plain": [
       "'C:/Users/Orlando/ownCloud - ORLANDO Marcelo@mycore.cnrs.fr/Doutorado/Dados experimentais/JTS/20230216_lum_sinus'"
      ]
     },
     "execution_count": 5,
     "metadata": {},
     "output_type": "execute_result"
    }
   ],
   "source": [
    "JTS.find_path(\"IBPC\")"
   ]
  },
  {
   "cell_type": "code",
   "execution_count": null,
   "id": "8ad4ad55-8a10-46b9-ac41-031d03dc4c96",
   "metadata": {},
   "outputs": [],
   "source": []
  }
 ],
 "metadata": {
  "kernelspec": {
   "display_name": "Python 3 (ipykernel)",
   "language": "python",
   "name": "python3"
  },
  "language_info": {
   "codemirror_mode": {
    "name": "ipython",
    "version": 3
   },
   "file_extension": ".py",
   "mimetype": "text/x-python",
   "name": "python",
   "nbconvert_exporter": "python",
   "pygments_lexer": "ipython3",
   "version": "3.9.12"
  }
 },
 "nbformat": 4,
 "nbformat_minor": 5
}
