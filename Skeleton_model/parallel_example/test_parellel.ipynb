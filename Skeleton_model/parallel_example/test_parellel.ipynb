{
 "cells": [
  {
   "cell_type": "code",
   "execution_count": 1,
   "metadata": {},
   "outputs": [],
   "source": [
    "from multiprocessing import Pool, cpu_count\n",
    "import time"
   ]
  },
  {
   "cell_type": "code",
   "execution_count": 2,
   "metadata": {},
   "outputs": [
    {
     "data": {
      "text/plain": [
       "12"
      ]
     },
     "execution_count": 2,
     "metadata": {},
     "output_type": "execute_result"
    }
   ],
   "source": [
    "# How many cpus we have in the system?\n",
    "\n",
    "cpu_count()"
   ]
  },
  {
   "cell_type": "markdown",
   "metadata": {},
   "source": [
    "Sequential"
   ]
  },
  {
   "cell_type": "code",
   "execution_count": 6,
   "metadata": {},
   "outputs": [
    {
     "name": "stdout",
     "output_type": "stream",
     "text": [
      "x = 0, time is 1724245004.095863 s\n",
      "x*x = 0\n",
      "x = 1, time is 1724245005.096373 s\n",
      "x*x = 1\n",
      "x = 2, time is 1724245006.0975115 s\n",
      "x*x = 4\n",
      "x = 3, time is 1724245007.0988958 s\n",
      "x*x = 9\n",
      "x = 4, time is 1724245008.1056159 s\n",
      "x*x = 16\n",
      "x = 5, time is 1724245009.1072161 s\n",
      "x*x = 25\n",
      "End of calculation\n",
      "Elapsed time: 6.024041175842285 s\n",
      "First five results: [0, 1, 4, 9, 16, 25]\n"
     ]
    }
   ],
   "source": [
    "from fct import f\n",
    "if __name__ == '__main__':\n",
    "    xs = range(6)\n",
    "    start_time = time.time()\n",
    "    res = []\n",
    "\n",
    "    for x in xs:\n",
    "        r = f(x)\n",
    "        print(f'x*x = {r}')\n",
    "        res.append(r)\n",
    "\n",
    "    print('End of calculation')\n",
    "    elapsed_time = time.time() - start_time\n",
    "    print(f'Elapsed time: {elapsed_time} s\\nFirst five results: {res}')"
   ]
  },
  {
   "cell_type": "markdown",
   "metadata": {},
   "source": [
    "Map (starmap)\n",
    "\n",
    "Multiple tasks at once, transform iterable in list (can be memory intensive), blocks program execution until all tasks are completed. Obs.: We also have the starmap function that works the same as map, but support multiple arguments as a tuple, for example starmap(f,[(1,2), (3,4), (5,6)])"
   ]
  },
  {
   "cell_type": "code",
   "execution_count": 7,
   "metadata": {},
   "outputs": [
    {
     "name": "stdout",
     "output_type": "stream",
     "text": [
      "End of calculation\n",
      "Elapsed time: 2.174060106277466 s\n",
      "First five results: [0, 1, 4, 9, 16, 25]\n"
     ]
    }
   ],
   "source": [
    "import time\n",
    "from multiprocessing import Pool\n",
    "from fct import f\n",
    "\n",
    "if __name__ == '__main__':\n",
    "\n",
    "    xs = range(6)\n",
    "\n",
    "    start_time = time.time()\n",
    "\n",
    "    with Pool(processes=3) as p: # You can create a Pool object with a specified number of worker processes. If you don't specify the number of processes, \n",
    "                                 #the Pool class will use the number of cores in the system.\n",
    "\n",
    "        res = p.map(f, xs) # The map() function applies the function f to each element in the list xs.\n",
    "\n",
    "    print('End of calculation')\n",
    "\n",
    "    elapsed_time = time.time() - start_time\n",
    "\n",
    "    print(f'Elapsed time: {elapsed_time} s\\nFirst five results: {res}')"
   ]
  },
  {
   "cell_type": "code",
   "execution_count": 8,
   "metadata": {},
   "outputs": [
    {
     "name": "stdout",
     "output_type": "stream",
     "text": [
      "The result 0 is ready! We can work with it if we want...\n",
      "The result 1 is ready! We can work with it if we want...\n",
      "The result 4 is ready! We can work with it if we want...\n",
      "The result 9 is ready! We can work with it if we want...\n",
      "The result 16 is ready! We can work with it if we want...\n",
      "The result 25 is ready! We can work with it if we want...\n",
      "End of calculation\n",
      "Elapsed time: 3.168898820877075 s\n",
      "First five results: [0, 1, 4, 9, 16, 25]\n"
     ]
    }
   ],
   "source": [
    "if __name__ == '__main__':\n",
    "\n",
    "    xs = range(6)\n",
    "\n",
    "    start_time = time.time()\n",
    "\n",
    "    res = []\n",
    "\n",
    "    with Pool(processes=2) as p:\n",
    "\n",
    "        for r in p.map(f, xs):\n",
    "\n",
    "            print(f'The result {r} is ready! We can work with it if we want...')\n",
    "\n",
    "            res.append(r)\n",
    "\n",
    "    print('End of calculation')\n",
    "\n",
    "    elapsed_time = time.time() - start_time\n",
    "\n",
    "    print(f'Elapsed time: {elapsed_time} s\\nFirst five results: {res}')"
   ]
  },
  {
   "cell_type": "markdown",
   "metadata": {},
   "source": [
    "Imap\n",
    "\n",
    "Multiple tasks at once, does not transform iterable in list (pass one argument at a time to each process), does not block program execution, but blocks until the task is completed at the order it was issued (see imap_unordered below to understand the difference with imap_unordered)"
   ]
  },
  {
   "cell_type": "code",
   "execution_count": 9,
   "metadata": {},
   "outputs": [
    {
     "name": "stdout",
     "output_type": "stream",
     "text": [
      "The result 0 is ready! We can work with it if we want...\n",
      "The result 1 is ready! We can work with it if we want...\n",
      "The result 4 is ready! We can work with it if we want...\n",
      "The result 9 is ready! We can work with it if we want...\n",
      "The result 16 is ready! We can work with it if we want...\n",
      "The result 25 is ready! We can work with it if we want...\n",
      "End of calculation\n",
      "Elapsed time: 3.1715190410614014 s\n",
      "First five results: [0, 1, 4, 9, 16, 25]\n"
     ]
    }
   ],
   "source": [
    "if __name__ == '__main__':\n",
    "\n",
    "    xs = range(6)\n",
    "\n",
    "    start_time = time.time()\n",
    "\n",
    "    res = []\n",
    "\n",
    "    with Pool(processes=2) as p:\n",
    "\n",
    "        for r in p.imap(f, xs):\n",
    "\n",
    "            print(f'The result {r} is ready! We can work with it if we want...')\n",
    "\n",
    "            res.append(r)\n",
    "\n",
    "    print('End of calculation')\n",
    "\n",
    "    elapsed_time = time.time() - start_time\n",
    "\n",
    "    print(f'Elapsed time: {elapsed_time} s\\nFirst five results: {res}')"
   ]
  },
  {
   "cell_type": "markdown",
   "metadata": {},
   "source": [
    "Map async (starmap_async)\n",
    "\n",
    "Multiple tasks at once, transform iterable in list (can be memory intensive), does not block until all tasks are completed, but can only be accessed once all tasks are completed. Obs.: As starmap, we also have starmap_async"
   ]
  },
  {
   "cell_type": "code",
   "execution_count": 15,
   "metadata": {},
   "outputs": [
    {
     "name": "stdout",
     "output_type": "stream",
     "text": [
      "We can do something while the calculations are being completed...for example....\n",
      "1+1=2\n",
      "We will now access all the results, but only if they are all ready!\n",
      "End of calculation\n",
      "Elapsed time: 1.1892423629760742 s\n",
      "First five results: [0, 1, 4, 9, 16, 25]\n"
     ]
    }
   ],
   "source": [
    "if __name__ == '__main__':\n",
    "\n",
    "    xs = range(6)\n",
    "\n",
    "    start_time = time.time()\n",
    "\n",
    "    with Pool(processes=6) as p:\n",
    "\n",
    "        results = p.map_async(f, xs)\n",
    "\n",
    "        print(f'We can do something while the calculations are being completed...for example....')\n",
    "\n",
    "        print(f'1+1={1+1}')\n",
    "\n",
    "        res = []\n",
    "\n",
    "        print(f'We will now access all the results, but only if they are all ready!')\n",
    "\n",
    "        for r in results.get():\n",
    "\n",
    "            res.append(r)\n",
    "\n",
    "    print('End of calculation')\n",
    "\n",
    "    elapsed_time = time.time() - start_time\n",
    "\n",
    "    print(f'Elapsed time: {elapsed_time} s\\nFirst five results: {res}')"
   ]
  },
  {
   "cell_type": "markdown",
   "metadata": {},
   "source": [
    "Imap unordered\n",
    "\n",
    "Multiple tasks at once, does not transform iterable in list (pass one argument at a time to each process), does not block program execution, yield results as soon as they are ready, which can be out of order!"
   ]
  },
  {
   "cell_type": "code",
   "execution_count": null,
   "metadata": {},
   "outputs": [],
   "source": [
    "\"\"\"\n",
    "def f_2(x):\n",
    "\n",
    "    print(f'x = {x}, time is {time.time()} s')\n",
    "\n",
    "    if x % 2 == 0:\n",
    "\n",
    "        wait = 1\n",
    "\n",
    "    else:\n",
    "\n",
    "        wait = 3\n",
    "\n",
    "    print(f'I am waiting for {wait} s')\n",
    "\n",
    "    time.sleep(wait)\n",
    "\n",
    "    return x*x\n",
    "\"\"\""
   ]
  },
  {
   "cell_type": "markdown",
   "metadata": {},
   "source": [
    "With imap we respect the order..."
   ]
  },
  {
   "cell_type": "code",
   "execution_count": 19,
   "metadata": {},
   "outputs": [
    {
     "name": "stdout",
     "output_type": "stream",
     "text": [
      "The result 0 is ready! We can work with it if we want...\n",
      "The result 1 is ready! We can work with it if we want...\n",
      "The result 4 is ready! We can work with it if we want...\n",
      "The result 9 is ready! We can work with it if we want...\n",
      "The result 16 is ready! We can work with it if we want...\n",
      "The result 25 is ready! We can work with it if we want...\n",
      "End of calculation\n",
      "Elapsed time: 7.173967123031616 s\n",
      "First five results: [0, 1, 4, 9, 16, 25]\n"
     ]
    }
   ],
   "source": [
    "import importlib\n",
    "import fct\n",
    "importlib.reload(fct)\n",
    "from fct import f_2\n",
    "\n",
    "if __name__ == '__main__':\n",
    "\n",
    "    xs = range(6)\n",
    "\n",
    "    start_time = time.time()\n",
    "\n",
    "    res = []\n",
    "\n",
    "    with Pool(processes=2) as p:\n",
    "\n",
    "        for r in p.imap(f_2, xs):\n",
    "\n",
    "            print(f'The result {r} is ready! We can work with it if we want...')\n",
    "\n",
    "            res.append(r)\n",
    "\n",
    "    print('End of calculation')\n",
    "\n",
    "    elapsed_time = time.time() - start_time\n",
    "\n",
    "    print(f'Elapsed time: {elapsed_time} s\\nFirst five results: {res}')"
   ]
  },
  {
   "cell_type": "markdown",
   "metadata": {},
   "source": [
    "With imap_unordered we don't necessarily respect the order..."
   ]
  },
  {
   "cell_type": "code",
   "execution_count": 23,
   "metadata": {},
   "outputs": [
    {
     "name": "stdout",
     "output_type": "stream",
     "text": [
      "The result 0 is ready! We can work with it if we want...\n",
      "The result 4 is ready! We can work with it if we want...\n",
      "The result 1 is ready! We can work with it if we want...\n",
      "The result 16 is ready! We can work with it if we want...\n",
      "The result 9 is ready! We can work with it if we want...\n",
      "The result 25 is ready! We can work with it if we want...\n",
      "End of calculation\n",
      "Elapsed time: 7.167934894561768 s\n",
      "First five results: [0, 4, 1, 16, 9, 25]\n"
     ]
    }
   ],
   "source": [
    "if __name__ == '__main__':\n",
    "\n",
    "    xs = range(6)\n",
    "\n",
    "    start_time = time.time()\n",
    "\n",
    "    res = []\n",
    "\n",
    "    with Pool(processes=2) as p:\n",
    "\n",
    "        for r in p.imap_unordered(f_2, xs):\n",
    "\n",
    "            print(f'The result {r} is ready! We can work with it if we want...')\n",
    "\n",
    "            res.append(r)\n",
    "\n",
    "    print('End of calculation')\n",
    "\n",
    "    elapsed_time = time.time() - start_time\n",
    "\n",
    "    print(f'Elapsed time: {elapsed_time} s\\nFirst five results: {res}')"
   ]
  }
 ],
 "metadata": {
  "language_info": {
   "name": "python"
  }
 },
 "nbformat": 4,
 "nbformat_minor": 2
}
