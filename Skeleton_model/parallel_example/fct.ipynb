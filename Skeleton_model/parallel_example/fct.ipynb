{
 "cells": [
  {
   "cell_type": "code",
   "execution_count": null,
   "metadata": {},
   "outputs": [],
   "source": [
    "import time\n",
    "\n",
    "def f(x):\n",
    "\n",
    "    print(f'x = {x}, time is {time.time()} s')\n",
    "\n",
    "    time.sleep(1)\n",
    "\n",
    "    return x*x"
   ]
  }
 ],
 "metadata": {
  "language_info": {
   "name": "python"
  }
 },
 "nbformat": 4,
 "nbformat_minor": 2
}
