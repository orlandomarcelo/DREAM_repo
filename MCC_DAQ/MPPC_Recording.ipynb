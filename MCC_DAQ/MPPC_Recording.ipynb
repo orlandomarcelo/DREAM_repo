{
 "cells": [
  {
   "cell_type": "code",
   "execution_count": null,
   "id": "7f9daf91",
   "metadata": {},
   "outputs": [],
   "source": [
    "########################################################################\n",
    "#####                   DREAM - MPPC Recording                     #####\n",
    "########################################################################"
   ]
  },
  {
   "cell_type": "code",
   "execution_count": 1,
   "id": "393a94dd",
   "metadata": {},
   "outputs": [],
   "source": [
    "##### Import Libraries\n",
    "import numpy as np\n",
    "import time\n",
    "import os\n",
    "import pickle\n",
    "import matplotlib.pyplot as plt\n",
    "import datetime\n",
    "from mcculw import ul\n",
    "from ctypes import cast, POINTER, c_double, c_ushort, c_ulong \n",
    "from mcculw.enums import (ScanOptions, FunctionType, Status, ChannelType, \n",
    "    DigitalPortType, ULRange, TriggerSource, TriggerSensitivity, TriggerEvent, \n",
    "    DigitalIODirection, TimerIdleState, PulseOutOptions, TrigType)\n",
    "from mcculw.device_info import DaqDeviceInfo\n",
    "\n",
    "try:\n",
    "    from console_examples_util import config_first_detected_device\n",
    "except ImportError:\n",
    "    from console_examples_util import config_first_detected_device"
   ]
  },
  {
   "cell_type": "markdown",
   "id": "1bf6737c",
   "metadata": {},
   "source": [
    "## AQUISITION SETTINGS"
   ]
  },
  {
   "cell_type": "code",
   "execution_count": 2,
   "id": "6f7d9800",
   "metadata": {},
   "outputs": [],
   "source": [
    "DAQ_Rate = 10000 # [Hz]\n",
    "Exp_Duration = 30 #[s]\n",
    "EXPNAME = \"RANDOM_92_2\""
   ]
  },
  {
   "cell_type": "markdown",
   "id": "5a8d755e",
   "metadata": {},
   "source": [
    "## SETUP DAQ"
   ]
  },
  {
   "cell_type": "code",
   "execution_count": 3,
   "id": "587d4d39",
   "metadata": {},
   "outputs": [],
   "source": [
    "########################################################\n",
    "##### SETUP EQUIPMENT\n",
    "\n",
    "##### Connect to the DAQ Card\n",
    "board_num = 0\n",
    "daq_dev_info = DaqDeviceInfo(board_num = 0)\n",
    "\n",
    "##### Setup DAQ for analog input\n",
    "ai_info = daq_dev_info.get_ai_info()\n",
    "ai_range = ai_info.supported_ranges[2]\n",
    "\n",
    "## Set the scan options\n",
    "scan_options_AI = ScanOptions.BACKGROUND\n",
    "\n",
    "## Allocate a buffer for the input\n",
    "memhandle_AI = ul.win_buf_alloc(int (DAQ_Rate*Exp_Duration))\n",
    "if not memhandle_AI:\n",
    "    raise Exception('Error: Failed to allocate memory')\n",
    "\n",
    "## Convert the memhandle to a ctypes array\n",
    "ctypes_array_AI = cast(memhandle_AI, POINTER(c_ushort))"
   ]
  },
  {
   "cell_type": "markdown",
   "id": "80555a8c",
   "metadata": {},
   "source": [
    "## RUN EXPERIMENT"
   ]
  },
  {
   "cell_type": "code",
   "execution_count": 4,
   "id": "9c34725e",
   "metadata": {},
   "outputs": [],
   "source": [
    "## Start the timer, which will start and pace AO and AI\n",
    "ul.a_in_scan(board_num, 0, 0, (int (DAQ_Rate*Exp_Duration)), DAQ_Rate, ai_range, memhandle_AI, scan_options_AI)\n",
    "\n",
    "## Wait until AI Finishes\n",
    "status, curr_count, curr_index = ul.get_status(board_num, FunctionType.AIFUNCTION)\n",
    "while status != Status.IDLE:\n",
    "    time.sleep(0.5)\n",
    "    status, curr_count, curr_index = ul.get_status(\n",
    "            board_num, FunctionType.AIFUNCTION)"
   ]
  },
  {
   "cell_type": "markdown",
   "id": "6f62c93a",
   "metadata": {},
   "source": [
    "## READ AND SAVE ANALOG INPUT"
   ]
  },
  {
   "cell_type": "code",
   "execution_count": 5,
   "id": "02b2f338",
   "metadata": {},
   "outputs": [],
   "source": [
    "points = []\n",
    "for i in range((int (DAQ_Rate*Exp_Duration))):\n",
    "    eng_value = ul.to_eng_units(board_num, ai_range, ctypes_array_AI[i])\n",
    "    points.append(eng_value)\n",
    "DAQ_signal = np.array(points)"
   ]
  },
  {
   "cell_type": "code",
   "execution_count": 6,
   "id": "45574615",
   "metadata": {},
   "outputs": [],
   "source": [
    "DataFolderName = \"C:/Users/Ian Coghill/OneDrive/ENS/Experiments/Harmonics/Data/\" + datetime.datetime.now().strftime('%Y-%m-%d_%H-%M-%S') + \"_\" + str(EXPNAME)\n",
    "os.makedirs(DataFolderName)\n",
    "pickle.dump(DAQ_signal, open(DataFolderName + \"/MPPCSignal.p\", \"wb\" ))"
   ]
  },
  {
   "cell_type": "code",
   "execution_count": null,
   "id": "5e077988",
   "metadata": {},
   "outputs": [],
   "source": []
  },
  {
   "cell_type": "code",
   "execution_count": 7,
   "id": "14c5fa34",
   "metadata": {},
   "outputs": [
    {
     "name": "stdout",
     "output_type": "stream",
     "text": [
      "Using matplotlib backend: <object object at 0x00000210E94A0900>\n"
     ]
    }
   ],
   "source": [
    "## Display the data recorded\n",
    "%matplotlib\n",
    "plt.figure()\n",
    "plt.xlabel('Sample')\n",
    "plt.ylabel('Mean Signal')\n",
    "plt.plot(DAQ_signal, \"ko\", markersize=0.5)\n",
    "plt.show()"
   ]
  },
  {
   "cell_type": "code",
   "execution_count": 8,
   "id": "01c633a7",
   "metadata": {},
   "outputs": [
    {
     "name": "stdout",
     "output_type": "stream",
     "text": [
      "Using matplotlib backend: QtAgg\n"
     ]
    }
   ],
   "source": [
    "## Display the data recorded\n",
    "%matplotlib\n",
    "plt.figure()\n",
    "plt.xlabel('Sample')\n",
    "plt.ylabel('Mean Signal')\n",
    "plt.plot(DAQ_signal, \"ko\", markersize=0.5)\n",
    "plt.show()"
   ]
  },
  {
   "cell_type": "code",
   "execution_count": null,
   "id": "b736ae85",
   "metadata": {},
   "outputs": [],
   "source": []
  },
  {
   "cell_type": "code",
   "execution_count": null,
   "id": "459f22d0",
   "metadata": {},
   "outputs": [],
   "source": []
  }
 ],
 "metadata": {
  "kernelspec": {
   "display_name": "Python 3 (ipykernel)",
   "language": "python",
   "name": "python3"
  },
  "language_info": {
   "codemirror_mode": {
    "name": "ipython",
    "version": 3
   },
   "file_extension": ".py",
   "mimetype": "text/x-python",
   "name": "python",
   "nbconvert_exporter": "python",
   "pygments_lexer": "ipython3",
   "version": "3.9.12"
  }
 },
 "nbformat": 4,
 "nbformat_minor": 5
}
