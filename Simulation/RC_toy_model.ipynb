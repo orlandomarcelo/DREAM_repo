{
 "cells": [
  {
   "cell_type": "code",
   "execution_count": 1,
   "id": "9d870972",
   "metadata": {},
   "outputs": [],
   "source": [
    "import numpy as np\n",
    "import matplotlib.pyplot as plt\n",
    "import ipywidgets\n",
    "from matplotlib import interactive\n",
    "import os\n",
    "import sys\n",
    "\n",
    "module_path = os.path.abspath(os.path.join('..'))\n",
    "if module_path not in sys.path:\n",
    "    sys.path.append(module_path)\n",
    "\n",
    "import tools\n",
    "\n",
    "\n",
    "def RC_response(frequency, R, C, Ik, offset=0, amplitude=1):\n",
    "    # Define the time interval and step size for the simulation\n",
    "    t_start = 0 # Start time in seconds\n",
    "    t_stop = 10*(1/frequency) # Stop time in seconds\n",
    "    dt = (t_stop-t_start)/1000 # Time step size in seconds\n",
    "    t = np.arange(t_start, t_stop, dt)\n",
    "\n",
    "    # Define the initial voltage across the capacitor\n",
    "    v_c0 = 0\n",
    "\n",
    "    # Define the input and output waveforms\n",
    "    v_c = np.zeros_like(t)\n",
    "    v_c[0] = v_c0\n",
    "    w = 2 * np.pi * frequency # Angular frequency in rad/s\n",
    "    light = offset + amplitude*np.cos(w*t)\n",
    "    i_in = 1 * (1 - np.exp(-(light/Ik)))\n",
    "    for i in range(1, len(t)):\n",
    "        v_c[i] = v_c[i-1] + (i_in[i] / C - v_c[i-1] / (R * C)) * dt\n",
    "    \n",
    "    return t, i_in, v_c\n",
    "\n",
    "def plot_RC_response(frequency, R, C, Ik, offset=0, amplitude=1):\n",
    "    t, i_in, v_c = RC_response(frequency, R, C, Ik, offset, amplitude)\n",
    "\n",
    "    fig, (ax1) = plt.subplots()\n",
    "\n",
    "    color = 'tab:red'\n",
    "    ax1.set_xlabel('Time (s)')\n",
    "    ax1.set_ylabel('Current (A)', color=color)\n",
    "    ax1.plot(t, i_in, color=color)\n",
    "    ax1.tick_params(axis='y', labelcolor=color)\n",
    "    #ax1.set_xlim([0,min(max(t),10)])\n",
    "\n",
    "    ax11 = ax1.twinx()  # create a secondary y-axis that shares the same x-axis with ax1\n",
    "\n",
    "    color = 'tab:blue'\n",
    "    ax11.set_ylabel('Voltage (V)', color=color)\n",
    "    ax11.plot(t, v_c, color=color)\n",
    "    ax11.tick_params(axis='y', labelcolor=color)\n",
    "\n",
    "    ax11.text(1, 1.1, f'Cut off freq = {1/(2*np.pi*R*C):.4f} Hz ', ha='right', va='top', transform=ax11.transAxes)"
   ]
  },
  {
   "cell_type": "code",
   "execution_count": 2,
   "id": "10b62d3f",
   "metadata": {},
   "outputs": [
    {
     "data": {
      "application/vnd.jupyter.widget-view+json": {
       "model_id": "1cb840fb59ae43bfad948b0666a932ae",
       "version_major": 2,
       "version_minor": 0
      },
      "text/plain": [
       "interactive(children=(FloatSlider(value=5.0, description='frequency', max=10.0, min=0.01, step=0.01), IntSlide…"
      ]
     },
     "metadata": {},
     "output_type": "display_data"
    },
    {
     "data": {
      "text/plain": [
       "<function __main__.plot_RC_response(frequency, R, C, Ik, offset=0, amplitude=1)>"
      ]
     },
     "execution_count": 2,
     "metadata": {},
     "output_type": "execute_result"
    }
   ],
   "source": [
    "# Define the parameters of the RC circuit\n",
    "R = 10 # Resistance in ohms\n",
    "C = 0.1 # Capacitance in farads\n",
    "\n",
    "ipywidgets.interact(plot_RC_response,frequency = (0.01,10,0.01), R = (1,100,1), C = (0.01,1,0.01),  Ik = (1,100,0.01), offset = (0,200,1), amplitude = (0,100,1))"
   ]
  },
  {
   "cell_type": "code",
   "execution_count": null,
   "id": "b7defbac",
   "metadata": {},
   "outputs": [],
   "source": []
  },
  {
   "cell_type": "code",
   "execution_count": 3,
   "id": "ada21005",
   "metadata": {},
   "outputs": [
    {
     "data": {
      "application/vnd.jupyter.widget-view+json": {
       "model_id": "00777498aa6d4321ae57ccd5ce67524e",
       "version_major": 2,
       "version_minor": 0
      },
      "text/plain": [
       "interactive(children=(IntSlider(value=50, description='R', min=1), FloatSlider(value=0.015, description='C', m…"
      ]
     },
     "metadata": {},
     "output_type": "display_data"
    }
   ],
   "source": [
    "def plot_bode_RC(R,C, Ik, offset, amplitude,sample_freq):\n",
    "\n",
    "    freq_nb = 1000\n",
    "\n",
    "    Cut_off = 1/(2*np.pi*R*C)\n",
    "\n",
    "    Freq_list = np.linspace(Cut_off/10, Cut_off*10, freq_nb)\n",
    "\n",
    "    t_list = []\n",
    "    v_c_list = []\n",
    "\n",
    "    for i in Freq_list:\n",
    "        t, i_in, v_c = RC_response(i, R, C, Ik, offset, amplitude)\n",
    "        t_list.append(t)\n",
    "        v_c_list.append(v_c)\n",
    "\n",
    "\n",
    "    Freq, Amp, Phase = tools.get_bode_diagram(Freq_list, t_list, v_c_list, threshold= 5000)\n",
    "\n",
    "\n",
    "    fig, ax = plt.subplots(1,3, figsize = (15,5))\n",
    "\n",
    "    for i in range(0,3):\n",
    "        try:\n",
    "            ax[0].loglog(Freq_list, [sub_list[i] if sub_list.any() else None for sub_list in Amp], label = f'Harmonic {i+1}')\n",
    "            ax[1].semilogx(Freq_list, [sub_list[i] if sub_list.any() else None for sub_list in Phase], label = f'Harmonic {i+1}')\n",
    "        except:\n",
    "            pass\n",
    "    \n",
    "    sample_t, sample_i_in, sample_v_c = RC_response(sample_freq, R, C, Ik, offset, amplitude)\n",
    "\n",
    "    color = 'tab:red'\n",
    "    ax[2].set_xlabel('Time (s)')\n",
    "    ax[2].set_ylabel('Current (A)', color=color)\n",
    "    ax[2].plot(sample_t, sample_i_in, color=color)\n",
    "    ax[2].tick_params(axis='y', labelcolor=color)\n",
    "    #ax1.set_xlim([0,min(max(t),10)])\n",
    "\n",
    "    #ax[2].set_xlim([0,1/sample_freq*4])\n",
    "\n",
    "    ax11 = ax[2].twinx()  # create a secondary y-axis that shares the same x-axis with ax1\n",
    "\n",
    "    color = 'tab:blue'\n",
    "    ax11.set_ylabel('Voltage (V)', color=color)\n",
    "    ax11.plot(sample_t, sample_v_c, color=color)\n",
    "    ax11.tick_params(axis='y', labelcolor=color)\n",
    "    ax11.set_title(f'Sample frequency = {sample_freq:.2f} Hz')\n",
    "    #ax11.set_ylim([0.4,1])\n",
    "    ax[2].set_ylim([-1,1])\n",
    "\n",
    "    \n",
    "\n",
    "    ax[0].set_xlabel('Frequency (Hz)')\n",
    "    ax[0].set_ylabel('Amplitude (V)')\n",
    "    ax[1].set_xlabel('Frequency (Hz)')\n",
    "    ax[1].set_ylabel('Phase (deg)')\n",
    "    ax[0].set_title('Amplitude')\n",
    "    ax[1].set_title('Phase')\n",
    "\n",
    "    ax[0].grid()\n",
    "    ax[1].grid()\n",
    "\n",
    "    ax[0].legend()\n",
    "    ax[1].legend()\n",
    "\n",
    "    ax[1].text(0.5, 1.15, f'Cut off freq = {Cut_off:.4f} Hz ', ha='right', va='top', transform=ax[1].transAxes)\n",
    "\n",
    "    ax[0].axvline(x=Cut_off, color='k', linestyle='--')\n",
    "    ax[0].axvline(x=sample_freq, color='tab:red', linestyle='--')\n",
    "\n",
    "    #return fig\n",
    "\n",
    "\n",
    "my_simulation = ipywidgets.interact(plot_bode_RC,  R = (1,100,1), C = (0.0003,0.03,0.0003),  Ik = (1,100,0.01), offset = (0,200,1), amplitude = (0,200,1), sample_freq = (0.01,50,0.01))\n"
   ]
  },
  {
   "cell_type": "code",
   "execution_count": 4,
   "id": "8f1dc949",
   "metadata": {},
   "outputs": [],
   "source": [
    "# Pack the inputs into a dictionary\n",
    "inputs = my_simulation.widget.kwargs"
   ]
  },
  {
   "cell_type": "code",
   "execution_count": 5,
   "id": "5a0c46f6",
   "metadata": {
    "scrolled": false
   },
   "outputs": [
    {
     "ename": "NameError",
     "evalue": "name 'nice_curve' is not defined",
     "output_type": "error",
     "traceback": [
      "\u001b[1;31m---------------------------------------------------------------------------\u001b[0m",
      "\u001b[1;31mNameError\u001b[0m                                 Traceback (most recent call last)",
      "Input \u001b[1;32mIn [5]\u001b[0m, in \u001b[0;36m<cell line: 2>\u001b[1;34m()\u001b[0m\n\u001b[0;32m      1\u001b[0m \u001b[38;5;66;03m# Run the simulation with the packed inputs\u001b[39;00m\n\u001b[1;32m----> 2\u001b[0m plot_bode_RC(\u001b[38;5;241m*\u001b[39m\u001b[38;5;241m*\u001b[39m\u001b[43mnice_curve\u001b[49m)\n",
      "\u001b[1;31mNameError\u001b[0m: name 'nice_curve' is not defined"
     ]
    }
   ],
   "source": [
    "# Run the simulation with the packed inputs\n",
    "plot_bode_RC(**nice_curve)"
   ]
  },
  {
   "cell_type": "code",
   "execution_count": 35,
   "id": "993ae6a2",
   "metadata": {},
   "outputs": [
    {
     "data": {
      "text/plain": [
       "{'R': 1,\n",
       " 'C': 0.03,\n",
       " 'Ik': 100.0,\n",
       " 'offset': 119,\n",
       " 'amplitude': 12,\n",
       " 'sample_freq': 4.17}"
      ]
     },
     "execution_count": 35,
     "metadata": {},
     "output_type": "execute_result"
    }
   ],
   "source": [
    "inputs"
   ]
  },
  {
   "cell_type": "code",
   "execution_count": 7,
   "id": "1d064bdf",
   "metadata": {},
   "outputs": [],
   "source": [
    "nice_curve = {'R': 1,\n",
    " 'C': 0.03,\n",
    " 'Ik': 31.16,\n",
    " 'offset': 62,\n",
    " 'amplitude': 60,\n",
    " 'sample_freq': 10.34}"
   ]
  },
  {
   "cell_type": "code",
   "execution_count": 10,
   "id": "60c16b71",
   "metadata": {},
   "outputs": [],
   "source": [
    "def RC_transf(freq, R, C):\n",
    "    s = 2j * np.pi * freq\n",
    "    return np.abs(R/(1 + s*R*C))"
   ]
  },
  {
   "cell_type": "code",
   "execution_count": 30,
   "id": "001bbcdc",
   "metadata": {},
   "outputs": [
    {
     "data": {
      "text/plain": [
       "[<matplotlib.lines.Line2D at 0x1b6b87ae4f0>]"
      ]
     },
     "execution_count": 30,
     "metadata": {},
     "output_type": "execute_result"
    },
    {
     "data": {
      "application/vnd.jupyter.widget-view+json": {
       "model_id": "284c2179299a441ab5c20e9eb4704db5",
       "version_major": 2,
       "version_minor": 0
      },
      "image/png": "[encoded data removed]",
      "text/html": [
       "\n",
       "            <div style=\"display: inline-block;\">\n",
       "                <div class=\"jupyter-widgets widget-label\" style=\"text-align: center;\">\n",
       "                    Figure\n",
       "                </div>\n",
       "                <img src='data:image/png;base64,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' width=640.0/>\n",
       "            </div>\n",
       "        "
      ],
      "text/plain": [
       "Canvas(toolbar=Toolbar(toolitems=[('Home', 'Reset original view', 'home', 'home'), ('Back', 'Back to previous …"
      ]
     },
     "metadata": {},
     "output_type": "display_data"
    }
   ],
   "source": [
    "%matplotlib widget\n",
    "freq = np.logspace(-2, 2, 100)\n",
    "R = 1\n",
    "C = 10\n",
    "fig, ax = plt.subplots(2,1)\n",
    "ax[0].plot(np.log(freq), np.log(RC_transf(freq, R, C)))\n",
    "ax[1].plot(np.log(freq), np.gradient(np.log(RC_transf(freq, R, C))))\n",
    "\n",
    "\n",
    "\n"
   ]
  }
 ],
 "metadata": {
  "kernelspec": {
   "display_name": "Python 3 (ipykernel)",
   "language": "python",
   "name": "python3"
  },
  "language_info": {
   "codemirror_mode": {
    "name": "ipython",
    "version": 3
   },
   "file_extension": ".py",
   "mimetype": "text/x-python",
   "name": "python",
   "nbconvert_exporter": "python",
   "pygments_lexer": "ipython3",
   "version": "3.9.12"
  }
 },
 "nbformat": 4,
 "nbformat_minor": 5
}
