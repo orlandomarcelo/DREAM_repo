{
 "cells": [
  {
   "cell_type": "code",
   "execution_count": 161,
   "metadata": {},
   "outputs": [],
   "source": [
    "#image analysis\n",
    "import skimage.io\n",
    "import imageio\n",
    "import alienlab.plot\n",
    "from alienlab.improcessing import normalize, grey_to_rgb, make_binary\n",
    "import alienlab.segment\n",
    "from alienlab.fo import FramesOperator\n",
    "import alienlab.io\n",
    "from scipy import optimize\n",
    "import glob\n",
    "from alienlab.regression_func import *\n",
    "import copy\n",
    "from VoltageIntensityClass import VoltageIntensity\n",
    "from tqdm import tqdm\n",
    "\n",
    "from joblib.externals.loky import set_loky_pickler\n",
    "from joblib import parallel_backend\n",
    "from joblib import Parallel, delayed\n",
    "from joblib import wrap_non_picklable_objects\n",
    "from skimage.transform import resize\n",
    "\n",
    "import tifffile as tiff\n",
    "\n",
    "#interactive widget packages\n",
    "from ipywidgets import interact, interactive, fixed, interact_manual\n",
    "from tkinter.filedialog import askopenfilename, askdirectory\n",
    "\n",
    "from VoltageIntensityClass import VoltageIntensity\n",
    "\n",
    "import time\n",
    "import os\n",
    "import numpy as np\n",
    "import matplotlib.pyplot as plt\n",
    "import random\n",
    "import pandas as pd\n",
    "\n",
    "%matplotlib ipympl\n",
    "import matplotlib.pyplot as plt\n",
    "import numpy as np\n",
    "import ipywidgets as wdg  # Using the ipython notebook widgets\n",
    "\n",
    "#%matplotlib inline\n",
    "\n",
    "\n",
    "def residuals(parameters,x_data,y_observed,func):\n",
    "    '''\n",
    "    Compute residuals of y_predicted - y_observed\n",
    "    where:\n",
    "    y_predicted = func(parameters,x_data)\n",
    "    '''\n",
    "    return func(parameters,x_data) - y_observed\n",
    "\n",
    "def clip(input_image, high = 95, low = 5):\n",
    "    im = copy.copy(input_image)\n",
    "    m = np.median(im)\n",
    "    im[im<np.percentile(im, low)]=np.percentile(im, low)\n",
    "    im[im>np.percentile(im, high)]=np.percentile(im, high)\n",
    "    return im\n",
    "\n",
    "def platt(parameters, xdata):\n",
    "    M = parameters[0]\n",
    "    alpha = parameters[1]\n",
    "    return M*(1- np.exp(-alpha*xdata/M))\n",
    "\n",
    "def exp_decay(parameters, xdata):\n",
    "    '''\n",
    "    Calculate an exponetial decay of the form:\n",
    "    S= a * exp(-xdata/b)\n",
    "    '''\n",
    "    A = parameters[0]\n",
    "    tau = parameters[1]\n",
    "    y0 = parameters[2]\n",
    "    return A * np.exp(-xdata/tau) + y0\n",
    "\n",
    "def modele_direct(parameters, x_data):\n",
    "    a = parameters[0]\n",
    "    b = parameters[1]\n",
    "    c = parameters[2]\n",
    "    d = parameters[3]\n",
    "    e = parameters[4]\n",
    "    return (a*x_data +b*np.sqrt(c*I**2+d*I+1)+e)/I\n",
    "\n",
    "def modele_inverse(parameters, x_data):\n",
    "    a = parameters[0]\n",
    "    b = parameters[1]\n",
    "    c = parameters[2]\n",
    "    d = parameters[3]\n",
    "    e = parameters[4]\n",
    "    f = parameters[5]\n",
    "    return a*I + b*np.sqrt(c*I**2+d*I+1) + e"
   ]
  },
  {
   "cell_type": "code",
   "execution_count": 162,
   "metadata": {},
   "outputs": [],
   "source": [
    "#file_path = \"ENTER NAME OF THE FILE YOU DROPPED IN THE FILE SECTION HERE\"\n",
    "file_folder = askdirectory(title = 'Select an experiment folder') # pops up a window to select your file\n",
    "# uncomment this line if you use this jupyter notebook locally\n",
    "#'G:/DREAM/from_github/PAMFluo/Experiments/2021-06-24_12_12_Ek_video'\n"
   ]
  },
  {
   "cell_type": "code",
   "execution_count": 163,
   "metadata": {},
   "outputs": [],
   "source": [
    "show = True #option to output intermediary images in the segmentation process\n",
    "\n",
    "# Import video file in HQ and select ROI\n",
    "file_path = file_folder + \"/video_1.tiff\"\n",
    "direc = os.path.split(file_path)[0]\n",
    "\n",
    "# Initialize plotting tools\n",
    "g = alienlab.plot.ShowFigure()\n",
    "g.figsize = (15,7)\n",
    "g.save_folder = \"images\"\n",
    "g.date = False\n",
    "p = alienlab.plot.PlotFigure()\n",
    "p.figsize = (15,7)\n",
    "p.save_folder = \"images\"\n",
    "p.date = False"
   ]
  },
  {
   "cell_type": "code",
   "execution_count": 164,
   "metadata": {},
   "outputs": [
    {
     "name": "stdout",
     "output_type": "stream",
     "text": [
      "--- Computed frames statistics in 0.351281 seconds ---\n"
     ]
    },
    {
     "data": {
      "application/vnd.jupyter.widget-view+json": {
       "model_id": "4e8500c85d9a4a80930fe7cb68378b83",
       "version_major": 2,
       "version_minor": 0
      },
      "text/plain": [
       "Canvas(toolbar=Toolbar(toolitems=[('Home', 'Reset original view', 'home', 'home'), ('Back', 'Back to previous …"
      ]
     },
     "metadata": {},
     "output_type": "display_data"
    }
   ],
   "source": [
    "# read the stacked frame. dim = NxHxW (N images in the video, Heigt, Width)\n",
    "\n",
    "frames_full = skimage.io.imread(file_path)\n",
    "\n",
    "#frames_full = np.stack([frames_full[:,:,1]]*10, 0) \n",
    "#uncomment this line if you have a single RGB image. The [:,:,1] stands for selection of the green channel\n",
    "\n",
    "FO = FramesOperator(frames_full)\n",
    "im = normalize(FO.frames[0], 0, 1)\n",
    "im = grey_to_rgb(im)*255\n",
    "\n",
    "# CROP\n",
    "#y, x = alienlab.io.select_roi(np.uint8(im)) #select area of interest\n",
    "#FO.x = x\n",
    "#FO.y = y\n",
    "#FO.crop() #crop image\n",
    "\n",
    "start_time = time.time()\n",
    "FO.compute_stats() #compute various statistical values on the frames and the pixels\n",
    "FO.normalize(0, 1)\n",
    "print(\"--- Computed frames statistics in %04f seconds ---\" % (time.time() - start_time))\n",
    "\n",
    "#FO.global_stats: each array has size N, number of frames and represents the stats of each frame\n",
    "#FO.frames_stats: each array has size FO.x, FO.y and is an image representing the N frames stats overlayed\n",
    "\n",
    "if show:\n",
    "    p.title = 'statistics'\n",
    "    p.xlabel = 'frame number'\n",
    "    p.ylabel = 'amplitude'\n",
    "    p.label_list = ['max', 'min', 'mean', 'std']\n",
    "    fig = p.plotting(np.asarray(FO.inds), [FO.global_stats['max'], \n",
    "                        FO.global_stats['min'], \n",
    "                        FO.global_stats['mean']])\n",
    "    p.save_name = 'frames_stats'\n",
    "    p.saving(fig)\n",
    "\n",
    "''' IMAGE SEGMENTATION '''\n",
    "\n",
    "# selection of the frames with high dynamics that will be used for the image segmentation process.\n",
    "# Let M be the highest value taken by a pixel in all the frames of the video. The frame F is kept for processing only if at\n",
    "# least one pixel in the frame F has a value above 0.8*M. \n",
    "FO.selected_inds = FO.select_frames(FO.global_stats['max'], FO.global_stats['max'].max()*0.8)\n"
   ]
  },
  {
   "cell_type": "code",
   "execution_count": 165,
   "metadata": {},
   "outputs": [
    {
     "data": {
      "application/vnd.jupyter.widget-view+json": {
       "model_id": "b31c1c43318942409b9501208bbd59e9",
       "version_major": 2,
       "version_minor": 0
      },
      "text/plain": [
       "Canvas(toolbar=Toolbar(toolitems=[('Home', 'Reset original view', 'home', 'home'), ('Back', 'Back to previous …"
      ]
     },
     "metadata": {},
     "output_type": "display_data"
    },
    {
     "data": {
      "text/plain": [
       "<matplotlib.image.AxesImage at 0x1d4ebe80940>"
      ]
     },
     "execution_count": 165,
     "metadata": {},
     "output_type": "execute_result"
    }
   ],
   "source": [
    "\n",
    "plt.figure(figsize = (5, 5))\n",
    "FO.selected_inds = FO.select_frames(FO.global_stats['max'], FO.global_stats['max'].max()*0.98) # Select only images with high intensity to increase contrast and lower computation time\n",
    "\n",
    "plt.imshow(FO.frames[FO.selected_inds].sum(axis = 0), cmap = 'gray')\n"
   ]
  },
  {
   "cell_type": "code",
   "execution_count": 166,
   "metadata": {},
   "outputs": [
    {
     "data": {
      "application/vnd.jupyter.widget-view+json": {
       "model_id": "25c88077ac78419aae5c991932055eb4",
       "version_major": 2,
       "version_minor": 0
      },
      "text/plain": [
       "Canvas(toolbar=Toolbar(toolitems=[('Home', 'Reset original view', 'home', 'home'), ('Back', 'Back to previous …"
      ]
     },
     "metadata": {},
     "output_type": "display_data"
    },
    {
     "data": {
      "text/plain": [
       "<matplotlib.image.AxesImage at 0x1d4ebe8ad90>"
      ]
     },
     "execution_count": 166,
     "metadata": {},
     "output_type": "execute_result"
    }
   ],
   "source": [
    "import copy\n",
    "L,H,_ = im.shape\n",
    "mask = copy.copy(im[:,:,0])*0\n",
    "d = 0\n",
    "N  = 12\n",
    "for i in range(L//N):\n",
    "    for j in range(H//N):\n",
    "        mask[i*N:(i+1)*N,j*N:(j+1)*N] = d\n",
    "        d+=1\n",
    "plt.figure()\n",
    "plt.imshow(mask)"
   ]
  },
  {
   "cell_type": "code",
   "execution_count": 167,
   "metadata": {},
   "outputs": [
    {
     "name": "stderr",
     "output_type": "stream",
     "text": [
      "100%|█████████████████████████████████████████████████████████████████████████████| 4000/4000 [00:05<00:00, 690.72it/s]\n"
     ]
    }
   ],
   "source": [
    "# Collect item labels\n",
    "\n",
    "# Item time trajectories with overlaps\n",
    "# create a dictionnary with one entry for each item:\n",
    "'''\n",
    "{ '1.0': {'x_coords': np array, x coordinates in HQ}\n",
    "            'y_coords': np array,  y coordinates in HQ\n",
    "            'binned_coords': set, couples of (x,y) coordinates in binned video\n",
    "            'surface': number of pixels in the item in HQ\n",
    "            'pixel_values': array, size: (N, s) where N is number of frames and s surface\n",
    "            'mean': array, size N, mean value of the item intensity for each frame\n",
    "            'std':  array, size N, std value of the item intensity for each frame\n",
    "            'remains' : True, the item is present in this segmentation step\n",
    "            }\n",
    "'2.0': {'x_coords'...\n",
    "                }\n",
    "    }\n",
    "'''\n",
    "segmented = mask\n",
    "items = np.unique(segmented) #returns the set of values in items, corresponds to the values of the markers of local_maxima\n",
    "\n",
    "items_dict = {}\n",
    "for k in tqdm(items):\n",
    "    key = str(k)\n",
    "    items_dict[key] = {}\n",
    "    x_coords, y_coords = np.nonzero(segmented == k)\n",
    "    items_dict[key]['x_coords'] = x_coords\n",
    "    items_dict[key]['y_coords'] = y_coords\n",
    "    pixel_values = FO.frames[:,x_coords, y_coords]\n",
    "    items_dict[key]['pixel_values'] = pixel_values\n",
    "    items_dict[key]['surface'] = pixel_values.shape[1]\n",
    "    items_dict[key]['mean'] = np.mean(pixel_values, axis = 1)\n",
    "    items_dict[key]['std'] = np.std(pixel_values, axis = 1)\n",
    "    items_dict[key]['remains'] = True\n",
    "\n",
    "\n"
   ]
  },
  {
   "cell_type": "code",
   "execution_count": 168,
   "metadata": {},
   "outputs": [
    {
     "data": {
      "application/vnd.jupyter.widget-view+json": {
       "model_id": "deb6ec11db6e47ad9f649ef08c616a90",
       "version_major": 2,
       "version_minor": 0
      },
      "text/plain": [
       "Canvas(toolbar=Toolbar(toolitems=[('Home', 'Reset original view', 'home', 'home'), ('Back', 'Back to previous …"
      ]
     },
     "metadata": {},
     "output_type": "display_data"
    },
    {
     "data": {
      "text/plain": [
       "[]"
      ]
     },
     "execution_count": 168,
     "metadata": {},
     "output_type": "execute_result"
    }
   ],
   "source": [
    "data_sequence = {}\n",
    "video_sequence = {}\n",
    "fig, axs = plt.subplots(2, 2, figsize=(10, 8))\n",
    "for i in range(3):\n",
    "\n",
    "    file_path = glob.glob(file_folder + \"/*_ojip_curve_%d.csv\"%i)[0] # pops up a window to select your file\n",
    "    data_sequence[i] = pd.read_csv(file_path)\n",
    "    data_sequence[i].plot( x = \"time (s) o\", y = \"voltage (V) o\", ax= axs[0][i%2])\n",
    "\n",
    "    file_path = file_folder + \"/video_%d.tiff\"%i\n",
    "\n",
    "\n",
    "    video = tiff.imread(file_path)\n",
    "    video_sequence[i]=video\n",
    "    axs[1][i%2].plot(np.mean(video, axis = (1,2)))\n",
    "        \n",
    "plt.plot()"
   ]
  },
  {
   "cell_type": "code",
   "execution_count": 169,
   "metadata": {},
   "outputs": [
    {
     "name": "stderr",
     "output_type": "stream",
     "text": [
      "  0%|                                                                                         | 0/4000 [00:00<?, ?it/s]<ipython-input-169-7a4c2ac8b1f1>:19: RuntimeWarning: overflow encountered in ulong_scalars\n",
      "  npq = (dark-exposed)/dark\n",
      "100%|████████████████████████████████████████████████████████████████████████████| 4000/4000 [00:01<00:00, 3354.40it/s]\n"
     ]
    },
    {
     "data": {
      "application/vnd.jupyter.widget-view+json": {
       "model_id": "116ade933f4e418587548a1b38bbf6cf",
       "version_major": 2,
       "version_minor": 0
      },
      "text/plain": [
       "Canvas(toolbar=Toolbar(toolitems=[('Home', 'Reset original view', 'home', 'home'), ('Back', 'Back to previous …"
      ]
     },
     "metadata": {},
     "output_type": "display_data"
    },
    {
     "data": {
      "application/vnd.jupyter.widget-view+json": {
       "model_id": "24df42f04be1402bbe4b3c4fe5442a7f",
       "version_major": 2,
       "version_minor": 0
      },
      "text/plain": [
       "Canvas(toolbar=Toolbar(toolitems=[('Home', 'Reset original view', 'home', 'home'), ('Back', 'Back to previous …"
      ]
     },
     "metadata": {},
     "output_type": "display_data"
    },
    {
     "data": {
      "text/plain": [
       "<matplotlib.image.AxesImage at 0x1d4c68960d0>"
      ]
     },
     "execution_count": 169,
     "metadata": {},
     "output_type": "execute_result"
    }
   ],
   "source": [
    "\n",
    "NPQ_tot = []\n",
    "video_algae = []\n",
    "algae_list = list(items_dict.keys())\n",
    "result_npq = copy.copy(mask)*0\n",
    "for P in [5]:#[len(algae_list)]:#[8, 10, 12, 15, 18, 20, 25, 30, 35, 40, 60, 90, 120, 180, 200, 250, 300, 400, 500, 600, 700]:\n",
    "\n",
    "    #for algae in random.sample(algae_list, P):\n",
    "    for algae in tqdm(algae_list):\n",
    "        #if int(algae):# in ['1', '80', '400', '250']:\n",
    "            i = 0\n",
    "\n",
    "\n",
    "            x_coords =  items_dict[algae]['x_coords']\n",
    "            y_coords =  items_dict[algae]['y_coords']\n",
    "            \n",
    "            exposed = np.sum(video_sequence[2][0:5, x_coords, y_coords])\n",
    "            dark =  np.sum(video_sequence[0][0:5, x_coords, y_coords])\n",
    "            trace = np.sum(video_sequence[1][:, x_coords, y_coords], axis = (1))\n",
    "            npq = (dark-exposed)/dark\n",
    "            video_algae.append(np.array(trace))\n",
    "            NPQ_tot.append(npq)\n",
    "          \n",
    "            result_npq[mask==int(float(algae))] = npq\n",
    "\n",
    "result_npq[result_npq != result_npq] = 1\n",
    "plt.figure()\n",
    "plt.imshow(clip(result_npq, high = 80, low = 10))\n",
    "plt.figure()\n",
    "plt.imshow(FO.frames[FO.selected_inds].sum(axis = 0), cmap = 'gray')\n"
   ]
  },
  {
   "cell_type": "code",
   "execution_count": 170,
   "metadata": {},
   "outputs": [
    {
     "data": {
      "application/vnd.jupyter.widget-view+json": {
       "model_id": "b705c9792dcb41b48542ed67c9b28bce",
       "version_major": 2,
       "version_minor": 0
      },
      "text/plain": [
       "Canvas(toolbar=Toolbar(toolitems=[('Home', 'Reset original view', 'home', 'home'), ('Back', 'Back to previous …"
      ]
     },
     "metadata": {},
     "output_type": "display_data"
    },
    {
     "data": {
      "text/plain": [
       "(array([70704., 24352., 18000., 23040., 39456., 61920., 83088., 99216.,\n",
       "        68976., 99792.]),\n",
       " array([0.23308271, 0.26325315, 0.29342359, 0.32359403, 0.35376447,\n",
       "        0.38393492, 0.41410536, 0.4442758 , 0.47444624, 0.50461668,\n",
       "        0.53478712]),\n",
       " <BarContainer object of 10 artists>)"
      ]
     },
     "execution_count": 170,
     "metadata": {},
     "output_type": "execute_result"
    }
   ],
   "source": [
    "plt.figure()\n",
    "plt.hist(clip(result_npq,high = 90, low = 10).flatten())"
   ]
  },
  {
   "cell_type": "code",
   "execution_count": 174,
   "metadata": {},
   "outputs": [
    {
     "data": {
      "application/vnd.jupyter.widget-view+json": {
       "model_id": "37c303d8a7ad4d528bd192664899a92f",
       "version_major": 2,
       "version_minor": 0
      },
      "text/plain": [
       "Canvas(toolbar=Toolbar(toolitems=[('Home', 'Reset original view', 'home', 'home'), ('Back', 'Back to previous …"
      ]
     },
     "metadata": {},
     "output_type": "display_data"
    }
   ],
   "source": [
    "x0 = [1.1, 8, 0.1]\n",
    "def get_fit(decay, time):    \n",
    "\n",
    "    parameters_estimated = optimize.least_squares(residuals,  x0, bounds = (0,1e8),\n",
    "                                args = (time, decay, exp_decay))\n",
    "    \n",
    "    \n",
    "    return np.array(parameters_estimated.x)\n",
    "\n",
    "\n",
    "def make_fit(decay, time_array):\n",
    "    plt.figure()\n",
    "    params = get_fit(decay, time_array)\n",
    "    plt.plot(time_array, exp_decay(params, time_array), label = params[1])\n",
    "    plt.plot(time_array, decay, '.')\n",
    "    plt.legend()\n",
    "    \n",
    "start = 5\n",
    "decay = np.mean(video_sequence[1], axis = (1,2))[start:]\n",
    "time_array = np.linspace(0, len(decay), len(decay))\n",
    "\n",
    "\n",
    "#time_array = np.array(data_sequence[1][\"time (s) o\"].values)[30:-10]\n",
    "#decay = np.array(data_sequence[1][\"voltage (V) o\"].values)[30:-10]\n",
    "\n",
    "make_fit(decay, time_array)"
   ]
  },
  {
   "cell_type": "code",
   "execution_count": 176,
   "metadata": {},
   "outputs": [],
   "source": [
    "time_array = np.linspace(0, len(video_algae[i]), len(video_algae[i]))\n",
    "params = Parallel(n_jobs = -1 )(delayed(get_fit)(video_algae[i][start:], time_array[start:]) for i in range(len(video_algae)))\n"
   ]
  },
  {
   "cell_type": "code",
   "execution_count": 177,
   "metadata": {},
   "outputs": [
    {
     "data": {
      "application/vnd.jupyter.widget-view+json": {
       "model_id": "dbcf21362f254fb08f252c67993484a5",
       "version_major": 2,
       "version_minor": 0
      },
      "text/plain": [
       "Canvas(toolbar=Toolbar(toolitems=[('Home', 'Reset original view', 'home', 'home'), ('Back', 'Back to previous …"
      ]
     },
     "metadata": {},
     "output_type": "display_data"
    },
    {
     "data": {
      "text/plain": [
       "<matplotlib.image.AxesImage at 0x1d4dd32de80>"
      ]
     },
     "execution_count": 177,
     "metadata": {},
     "output_type": "execute_result"
    }
   ],
   "source": [
    "params = np.array(params)\n",
    "tau = params[:,1]\n",
    "im_tau = tau.reshape((L//N,H//N))\n",
    "plt.figure()\n",
    "plt.imshow(clip(1/im_tau))"
   ]
  },
  {
   "cell_type": "code",
   "execution_count": 178,
   "metadata": {},
   "outputs": [
    {
     "data": {
      "application/vnd.jupyter.widget-view+json": {
       "model_id": "cc6d6915e7054e209436dd990497846d",
       "version_major": 2,
       "version_minor": 0
      },
      "text/plain": [
       "Canvas(toolbar=Toolbar(toolitems=[('Home', 'Reset original view', 'home', 'home'), ('Back', 'Back to previous …"
      ]
     },
     "metadata": {},
     "output_type": "display_data"
    },
    {
     "data": {
      "text/plain": [
       "(array([458., 484., 625., 626., 571., 412., 309., 162.,  94., 259.]),\n",
       " array([ 7.40189712,  7.67196095,  7.94202477,  8.2120886 ,  8.48215242,\n",
       "         8.75221625,  9.02228007,  9.2923439 ,  9.56240772,  9.83247155,\n",
       "        10.10253537]),\n",
       " <BarContainer object of 10 artists>)"
      ]
     },
     "execution_count": 178,
     "metadata": {},
     "output_type": "execute_result"
    }
   ],
   "source": [
    "plt.figure()\n",
    "plt.hist(clip(tau, high = 95, low = 5))"
   ]
  },
  {
   "cell_type": "code",
   "execution_count": 179,
   "metadata": {},
   "outputs": [
    {
     "data": {
      "application/vnd.jupyter.widget-view+json": {
       "model_id": "acd1358139aa4114ab3a09944ae87657",
       "version_major": 2,
       "version_minor": 0
      },
      "text/plain": [
       "Canvas(toolbar=Toolbar(toolitems=[('Home', 'Reset original view', 'home', 'home'), ('Back', 'Back to previous …"
      ]
     },
     "metadata": {},
     "output_type": "display_data"
    },
    {
     "data": {
      "application/vnd.jupyter.widget-view+json": {
       "model_id": "3c1fda16f82f453a8bd08c22a6775596",
       "version_major": 2,
       "version_minor": 0
      },
      "text/plain": [
       "Textarea(value='', description='event:', placeholder='')"
      ]
     },
     "metadata": {},
     "output_type": "display_data"
    }
   ],
   "source": [
    "\n",
    "# Create a random image\n",
    "fig, axs = plt.subplots(1, 2, figsize=(10, 4))\n",
    "axs[0].imshow(clip(im_tau))\n",
    "axs[0].axis('off')\n",
    "\n",
    "# Create and display textarea widget\n",
    "txt = wdg.Textarea(\n",
    "    value='',\n",
    "    placeholder='',\n",
    "    description='event:',\n",
    "    disabled=False\n",
    ")\n",
    "display(txt)\n",
    "image_algae = np.array(video_algae).reshape((L//N,H//N, len(video_algae[0])))\n",
    "coords = []\n",
    "\n",
    "# Define a callback function that will update the textarea\n",
    "def onclick(event):\n",
    "    global ix, iy\n",
    "    ix, iy = event.xdata, event.ydata\n",
    "    txt.value = str(event)#\"x= %d, y = %d\"%(ix, iy)\n",
    "\n",
    "    global coords\n",
    "    coords.append((ix, iy))\n",
    "\n",
    "    #if len(coords) == 2:\n",
    "    #    fig.canvas.mpl_disconnect(cid)\n",
    "    \"\"\"\n",
    "    #txt.value = str(event.x)  # Dynamically update the text box above\n",
    "    x = np.copy(int(event.x))\n",
    "    y = np.copy(int(event.y))\n",
    "    \"\"\"\n",
    "    decay = image_algae[int(iy), int(ix), 3:]\n",
    "    time_array = np.linspace(0, len(decay), len(decay))\n",
    "\n",
    "    make_fit(decay, time_array)\n",
    "    params = get_fit(decay, time_array)\n",
    "    axs[1].plot(time_array, exp_decay(params, time_array), label = params[1])\n",
    "    axs[1].plot(time_array, decay, '.')\n",
    "    axs[1].legend()\n",
    "    plt.tight_layout()\n",
    "# Create an hard reference to the callback not to be cleared by the garbage collector\n",
    "ka = fig.canvas.mpl_connect('button_press_event', onclick)"
   ]
  },
  {
   "cell_type": "code",
   "execution_count": 112,
   "metadata": {},
   "outputs": [],
   "source": [
    "#WAITTTTTTTTTTTTTTT"
   ]
  },
  {
   "cell_type": "code",
   "execution_count": 180,
   "metadata": {},
   "outputs": [],
   "source": [
    "np.save(\"G:/DREAM/from_github/PAMFluo/Figures/NPQ/imtau_sick_5_09_16.npy\", im_tau)\n",
    "np.save(\"G:/DREAM/from_github/PAMFluo/Figures/NPQ/im_sick_5_09_16.npy\", FO.frames[FO.selected_inds].sum(axis = 0))\n",
    "\n"
   ]
  },
  {
   "cell_type": "markdown",
   "metadata": {},
   "source": [
    "# Compare"
   ]
  },
  {
   "cell_type": "code",
   "execution_count": 181,
   "metadata": {},
   "outputs": [
    {
     "data": {
      "application/vnd.jupyter.widget-view+json": {
       "model_id": "df3435bede4b4092b535bc8952d1bff6",
       "version_major": 2,
       "version_minor": 0
      },
      "text/plain": [
       "Canvas(toolbar=Toolbar(toolitems=[('Home', 'Reset original view', 'home', 'home'), ('Back', 'Back to previous …"
      ]
     },
     "metadata": {},
     "output_type": "display_data"
    },
    {
     "name": "stdout",
     "output_type": "stream",
     "text": [
      "G:/DREAM/from_github/PAMFluo/Experiments\\2021-09-14_17_33_qE_OJIP\n",
      "G:/DREAM/from_github/PAMFluo/Experiments\\2021-09-14_17_39_qE_OJIP\n",
      "G:/DREAM/from_github/PAMFluo/Experiments\\2021-09-15_11_23_qE_OJIP\n",
      "G:/DREAM/from_github/PAMFluo/Experiments\\2021-09-15_14_19_qE_OJIP\n",
      "G:/DREAM/from_github/PAMFluo/Experiments\\2021-09-15_14_24_qE_OJIP\n",
      "G:/DREAM/from_github/PAMFluo/Experiments\\2021-09-15_15_08_qE_OJIP\n",
      "G:/DREAM/from_github/PAMFluo/Experiments\\2021-09-15_16_46_qE_OJIP\n",
      "G:/DREAM/from_github/PAMFluo/Experiments\\2021-09-15_17_13_qE_OJIP\n",
      "G:/DREAM/from_github/PAMFluo/Experiments\\2021-09-15_18_11_qE_OJIP\n",
      "G:/DREAM/from_github/PAMFluo/Experiments\\2021-09-15_18_23_qE_OJIP\n",
      "G:/DREAM/from_github/PAMFluo/Experiments\\2021-09-16_14_16_qE_OJIP\n",
      "G:/DREAM/from_github/PAMFluo/Experiments\\2021-09-16_15_19_qE_OJIP\n",
      "G:/DREAM/from_github/PAMFluo/Experiments\\2021-09-16_15_37_qE_OJIP\n",
      "G:/DREAM/from_github/PAMFluo/Experiments\\2021-09-16_15_52_qE_OJIP\n",
      "G:/DREAM/from_github/PAMFluo/Experiments\\2021-09-16_16_00_qE_OJIP\n",
      "G:/DREAM/from_github/PAMFluo/Experiments\\2021-09-16_16_03_qE_OJIP\n",
      "G:/DREAM/from_github/PAMFluo/Experiments\\2021-09-16_16_23_qE_OJIP\n",
      "G:/DREAM/from_github/PAMFluo/Experiments\\2021-09-16_16_33_qE_OJIP\n",
      "G:/DREAM/from_github/PAMFluo/Experiments\\2021-09-16_16_38_qE_OJIP\n",
      "G:/DREAM/from_github/PAMFluo/Experiments\\2021-09-16_16_54_qE_OJIP\n",
      "G:/DREAM/from_github/PAMFluo/Experiments\\2021-09-16_17_37_qE_OJIP\n"
     ]
    },
    {
     "data": {
      "text/plain": [
       "[]"
      ]
     },
     "execution_count": 181,
     "metadata": {},
     "output_type": "execute_result"
    }
   ],
   "source": [
    "folder_list = glob.glob(\"G:/DREAM/from_github/PAMFluo/Experiments/*qE_OJIP\")\n",
    "\n",
    "data_sequence = {}\n",
    "video_sequence = {}\n",
    "fig, axs = plt.subplots(2, 2, figsize=(10, 8))\n",
    "for file_folder in folder_list[5:]:\n",
    "    print(file_folder)\n",
    "    for i in range(3):\n",
    "        \n",
    "        file_path = glob.glob(file_folder + \"/*_ojip_curve_%d.csv\"%i)[0] # pops up a window to select your file\n",
    "        data_sequence[i] = pd.read_csv(file_path)\n",
    "        data_sequence[i].plot( x = \"time (s) o\", y = \"voltage (V) o\", ax= axs[0][i%2])\n",
    "\n",
    "        file_path = file_folder + \"/video_%d.tiff\"%i\n",
    "\n",
    "\n",
    "        video = tiff.imread(file_path)\n",
    "        video_sequence[i]=video\n",
    "        axs[1][i%2].plot(np.mean(video, axis = (1,2)))\n",
    "        \n",
    "plt.plot()"
   ]
  },
  {
   "cell_type": "code",
   "execution_count": 151,
   "metadata": {},
   "outputs": [
    {
     "data": {
      "application/vnd.jupyter.widget-view+json": {
       "model_id": "bd23c7742f69458dbd04102001616b29",
       "version_major": 2,
       "version_minor": 0
      },
      "text/plain": [
       "Canvas(toolbar=Toolbar(toolitems=[('Home', 'Reset original view', 'home', 'home'), ('Back', 'Back to previous …"
      ]
     },
     "metadata": {},
     "output_type": "display_data"
    },
    {
     "data": {
      "text/plain": [
       "<matplotlib.colorbar.Colorbar at 0x1d4c130cee0>"
      ]
     },
     "execution_count": 151,
     "metadata": {},
     "output_type": "execute_result"
    }
   ],
   "source": [
    "\n",
    "fig, axs = plt.subplots(2, 3, figsize=(14, 7))\n",
    "\n",
    "vmin = 3\n",
    "vmax = 5\n",
    "\n",
    "healthy = np.load(\"G:/DREAM/from_github/PAMFluo/Figures/NPQ/imtau_health_1_09_16.npy\")\n",
    "axs[0][0].imshow(clip(healthy), vmin=vmin, vmax=vmax)\n",
    "healthy_base = np.load(\"G:/DREAM/from_github/PAMFluo/Figures/NPQ/im_health_1_09_15.npy\")\n",
    "axs[1][0].imshow(clip(healthy_base), cmap = \"gray\")\n",
    "\n",
    "\n",
    "healthy = np.load(\"G:/DREAM/from_github/PAMFluo/Figures/NPQ/imtau_health_2_09_16.npy\")\n",
    "axs[0][1].imshow(clip(healthy), vmin=vmin, vmax=vmax)\n",
    "healthy_base = np.load(\"G:/DREAM/from_github/PAMFluo/Figures/NPQ/im_health_2_09_15.npy\")\n",
    "axs[1][1].imshow(clip(healthy_base), cmap = \"gray\")\n",
    "\n",
    "\n",
    "healthy = np.load(\"G:/DREAM/from_github/PAMFluo/Figures/NPQ/imtau_health_3_09_16.npy\")\n",
    "imcb = axs[0][2].imshow(clip(healthy), vmin=vmin, vmax=vmax)\n",
    "healthy_base = np.load(\"G:/DREAM/from_github/PAMFluo/Figures/NPQ/im_health_3_09_15.npy\")\n",
    "axs[1][2].imshow(clip(healthy_base), cmap = \"gray\")\n",
    "\n",
    "fig.subplots_adjust(right=0.8)\n",
    "cbar_ax = fig.add_axes([0.85, 0.15, 0.05, 0.7])\n",
    "fig.colorbar(imcb, cax=cbar_ax)\n"
   ]
  },
  {
   "cell_type": "code",
   "execution_count": 182,
   "metadata": {},
   "outputs": [
    {
     "data": {
      "application/vnd.jupyter.widget-view+json": {
       "model_id": "d0e06ad34af34de59e8a29476ca41d1f",
       "version_major": 2,
       "version_minor": 0
      },
      "text/plain": [
       "Canvas(toolbar=Toolbar(toolitems=[('Home', 'Reset original view', 'home', 'home'), ('Back', 'Back to previous …"
      ]
     },
     "metadata": {},
     "output_type": "display_data"
    },
    {
     "data": {
      "text/plain": [
       "<matplotlib.colorbar.Colorbar at 0x1d4ce267310>"
      ]
     },
     "execution_count": 182,
     "metadata": {},
     "output_type": "execute_result"
    }
   ],
   "source": [
    "\n",
    "fig, axs = plt.subplots(2, 3, figsize=(14, 7))\n",
    "\n",
    "for axi in axs:\n",
    "    for ax in axi:\n",
    "        ax.axis(\"off\")\n",
    "    \n",
    "vmin = 2\n",
    "vmax = 9\n",
    "\n",
    "healthy = np.load(\"G:/DREAM/from_github/PAMFluo/Figures/NPQ/imtau_sick_1_09_16.npy\")\n",
    "axs[0][0].imshow(clip(healthy), vmin=vmin, vmax=vmax)\n",
    "\n",
    "healthy_base = np.load(\"G:/DREAM/from_github/PAMFluo/Figures/NPQ/imtau_health_1_09_16.npy\")\n",
    "axs[1][0].imshow(clip(healthy_base), vmin=vmin, vmax=vmax)\n",
    "\n",
    "\n",
    "healthy = np.load(\"G:/DREAM/from_github/PAMFluo/Figures/NPQ/imtau_sick_2_09_16.npy\")\n",
    "axs[0][1].imshow(clip(healthy), vmin=vmin, vmax=vmax)\n",
    "healthy_base = np.load(\"G:/DREAM/from_github/PAMFluo/Figures/NPQ/imtau_health_2_09_16.npy\")\n",
    "axs[1][1].imshow(clip(healthy_base), vmin=vmin, vmax=vmax)\n",
    "\n",
    "\n",
    "healthy = np.load(\"G:/DREAM/from_github/PAMFluo/Figures/NPQ/imtau_sick_5_09_16.npy\")\n",
    "imcb = axs[0][2].imshow(clip(healthy), vmin=vmin, vmax=vmax)\n",
    "healthy_base = np.load(\"G:/DREAM/from_github/PAMFluo/Figures/NPQ/imtau_health_3_09_16.npy\")\n",
    "axs[1][2].imshow(clip(healthy_base), vmin=vmin, vmax=vmax)\n",
    "\n",
    "fig.subplots_adjust(right=0.8)\n",
    "cbar_ax = fig.add_axes([0.85, 0.15, 0.05, 0.7])\n",
    "fig.colorbar(imcb, cax=cbar_ax)\n"
   ]
  },
  {
   "cell_type": "code",
   "execution_count": 21,
   "metadata": {},
   "outputs": [
    {
     "name": "stderr",
     "output_type": "stream",
     "text": [
      "<ipython-input-21-cf672a71c238>:1: RuntimeWarning: More than 20 figures have been opened. Figures created through the pyplot interface (`matplotlib.pyplot.figure`) are retained until explicitly closed and may consume too much memory. (To control this warning, see the rcParam `figure.max_open_warning`).\n",
      "  fig, axs = plt.subplots(2, 3, figsize=(14, 7))\n"
     ]
    },
    {
     "data": {
      "application/vnd.jupyter.widget-view+json": {
       "model_id": "58d848551bd248b292babaa41df9d7e1",
       "version_major": 2,
       "version_minor": 0
      },
      "text/plain": [
       "Canvas(toolbar=Toolbar(toolitems=[('Home', 'Reset original view', 'home', 'home'), ('Back', 'Back to previous …"
      ]
     },
     "metadata": {},
     "output_type": "display_data"
    },
    {
     "data": {
      "text/plain": [
       "<matplotlib.colorbar.Colorbar at 0x1a5c22e2eb0>"
      ]
     },
     "execution_count": 21,
     "metadata": {},
     "output_type": "execute_result"
    }
   ],
   "source": [
    "\n",
    "fig, axs = plt.subplots(2, 3, figsize=(14, 7))\n",
    "\n",
    "vmin = 1\n",
    "vmax = 20\n",
    "\n",
    "healthy = np.load(\"G:/DREAM/from_github/PAMFluo/Figures/NPQ/imtau_semihealthy_09_15.npy\")\n",
    "axs[0][0].imshow(clip(healthy), vmin=vmin, vmax=vmax)\n",
    "healthy_base = np.load(\"G:/DREAM/from_github/PAMFluo/Figures/NPQ/im_semihealthy_09_15.npy\")\n",
    "axs[1][0].imshow(clip(healthy_base), cmap = \"gray\")\n",
    "\n",
    "sick = np.load(\"G:/DREAM/from_github/PAMFluo/Figures/NPQ/imtau_semihealthy_bis_09_15.npy\")\n",
    "axs[0][1].imshow(clip(sick), vmin=vmin, vmax=vmax)\n",
    "sick_base = np.load(\"G:/DREAM/from_github/PAMFluo/Figures/NPQ/im_semihealthy_bis_09_15.npy\")\n",
    "axs[1][1].imshow(clip(sick_base), cmap =\"gray\")\n",
    "\n",
    "\n",
    "sick = np.load(\"G:/DREAM/from_github/PAMFluo/Figures/NPQ/imtau_semihealthy_ter_09_15.npy\")\n",
    "imcb = axs[0][2].imshow(clip(sick), vmin=vmin, vmax=vmax)\n",
    "sick_base = np.load(\"G:/DREAM/from_github/PAMFluo/Figures/NPQ/im_semihealthy_ter_09_15.npy\")\n",
    "axs[1][2].imshow(clip(sick_base), cmap =\"gray\")\n",
    "\n",
    "fig.subplots_adjust(right=0.8)\n",
    "cbar_ax = fig.add_axes([0.85, 0.15, 0.05, 0.7])\n",
    "fig.colorbar(imcb, cax=cbar_ax)"
   ]
  },
  {
   "cell_type": "code",
   "execution_count": null,
   "metadata": {},
   "outputs": [],
   "source": []
  }
 ],
 "metadata": {
  "kernelspec": {
   "display_name": "Python 3",
   "language": "python",
   "name": "python3"
  },
  "language_info": {
   "codemirror_mode": {
    "name": "ipython",
    "version": 3
   },
   "file_extension": ".py",
   "mimetype": "text/x-python",
   "name": "python",
   "nbconvert_exporter": "python",
   "pygments_lexer": "ipython3",
   "version": "3.8.10"
  }
 },
 "nbformat": 4,
 "nbformat_minor": 4
}
