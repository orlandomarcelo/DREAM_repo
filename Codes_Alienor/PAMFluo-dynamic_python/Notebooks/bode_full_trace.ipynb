{
 "cells": [
  {
   "cell_type": "code",
   "execution_count": 1,
   "metadata": {},
   "outputs": [],
   "source": [
    "import numpy as np\n",
    "import alienlab\n",
    "import pandas as pd\n",
    "import matplotlib.pyplot as plt\n",
    "\n",
    "from mvgavg import mvgavg\n",
    "from tkinter.filedialog import askopenfilename\n",
    "import os\n",
    "\n",
    "from   scipy import optimize\n",
    "\n",
    "%matplotlib ipympl"
   ]
  },
  {
   "cell_type": "markdown",
   "metadata": {},
   "source": [
    "# Bode Diagram"
   ]
  },
  {
   "cell_type": "markdown",
   "metadata": {},
   "source": [
    "**Experiment description:**   \n",
    "No intensity filter on LEDs  \n",
    "Filter x1e-2 on MPPC fluo  \n",
    "\n",
    "480 constant 4V  \n",
    "405 modulated offset 2V, amplitude 2V  \n",
    "\n",
    "frequency range : \n",
    "    N = 30\n",
    "    frequencies = 10**np.linspace(-2, 3, N)"
   ]
  },
  {
   "cell_type": "markdown",
   "metadata": {},
   "source": [
    "### Log"
   ]
  },
  {
   "cell_type": "markdown",
   "metadata": {},
   "source": [
    "see archive file"
   ]
  },
  {
   "cell_type": "code",
   "execution_count": 15,
   "metadata": {},
   "outputs": [],
   "source": [
    "from statsmodels.regression import linear_model\n",
    "from statsmodels.api import add_constant\n",
    "from scipy.interpolate import InterpolatedUnivariateSpline\n",
    "import numpy as np\n",
    "\n",
    "\n",
    "\n",
    "\n",
    "\n",
    "def get_func(X, Y):\n",
    "        Y = np.array([y for x, y in sorted(zip(X, Y))]) #preliminary sorting of the arrays along wavelength \n",
    "                                                            #(in case the graph in not properly ordered)\n",
    "        X = np.sort(X)\n",
    "        func = InterpolatedUnivariateSpline(X, Y) # interpolate given values with step 1 nm\n",
    "        return func\n",
    "\n",
    "def regression_affine(X, Y, details = True):\n",
    "        Xreg = add_constant(X) #Add a constant to fit tan affine model\n",
    "\n",
    "        model = linear_model.OLS(Y, Xreg) #Linear regression\n",
    "        results = model.fit()\n",
    "        [b, a] = results.params #parameters of the affine curve\n",
    "        Yreg = a*X + b #regression curve\n",
    "\n",
    "        return Yreg, a, b, results.summary()\n",
    "\n",
    "def exp_decay(parameters,xdata):\n",
    "    '''\n",
    "    Calculate an exponetial decay of the form:\n",
    "    S= a * exp(-xdata/b)\n",
    "    '''\n",
    "    A = parameters[0]\n",
    "    tau = parameters[1]\n",
    "    y0 = parameters[2]\n",
    "    return A * np.exp(-xdata/tau) + y0\n",
    "\n",
    "def band_pass(parameters, xdata):\n",
    "    \n",
    "    H = parameters[0]\n",
    "    tau = parameters[1]\n",
    "    a0 = parameters[2]\n",
    "    \n",
    "    return H * (xdata * tau) /(1 + (xdata  * tau)**2) + a0\n",
    "\n",
    "def low_pass(parameters, xdata):\n",
    "    \n",
    "    H = parameters[0]\n",
    "    tau = parameters[1]\n",
    "    a0 = parameters[2]\n",
    "    \n",
    "    return H*(xdata * tau)**2 /(1 + (xdata * tau)**2) + a0\n",
    "\n",
    "def high_pass(parameters, xdata):\n",
    "    \n",
    "    H = parameters[0]\n",
    "    tau = parameters[1]\n",
    "    a0 = parameters[2]\n",
    "    \n",
    "    return H /(1 + (xdata * tau)**2) + a0\n",
    "\n",
    "\n",
    "\n",
    "def amplitude(parameters, xdata):\n",
    "    \n",
    "    H = parameters[0]\n",
    "    tau = parameters[1]\n",
    "    a0 = parameters[2]\n",
    "    \n",
    "    return (H /(1 + (xdata * tau)**2))**0.5 + a0\n",
    "\n",
    "def residuals(parameters,x_data,y_observed,func):\n",
    "    '''\n",
    "    Compute residuals of y_predicted - y_observed\n",
    "    where:\n",
    "    y_predicted = func(parameters,x_data)\n",
    "    '''\n",
    "    return func(parameters,x_data) - y_observed\n",
    "\n",
    "\n",
    "def averaging(measured_signal, \n",
    "                time_array, window, \n",
    "                do_binning = True):\n",
    "\n",
    "    average_output = mvgavg(measured_signal, window, axis = 1, binning = do_binning)\n",
    "    downscaled_time = time_array[window//2 :: window] \n",
    "    #todo: if binning == False, time array\n",
    "    return average_output, downscaled_time    \n",
    "\n",
    "def lock_in(self, measured_signal, \n",
    "            time_array, \n",
    "            frequency, phase_shift):\n",
    "    cos_ref = np.cos(2*np.pi * frequency * time_array - phase_shift)\n",
    "    cos_ref = np.stack([cos_ref] * measured_signal.shape[0])\n",
    "    sin_ref = np.sin(2*np.pi * frequency * time_array - phase_shift)\n",
    "    sin_ref = np.stack([sin_ref] * measured_signal.shape[0])\n",
    "    cos_lock = 2 * np.multiply(measured_signal, cos_ref)\n",
    "    sin_lock =  2 * np.multiply(measured_signal, sin_ref)\n",
    "    radius_lock = np.sqrt(sin_lock.mean(axis = 1)**2 + cos_lock.mean(axis = 1)**2)\n",
    "    phase_lock = np.arctan(sin_lock.mean(axis = 1)/cos_lock.mean(axis = 1))\n",
    "    return sin_lock, cos_lock, radius_lock, phase_lock\n",
    "\n",
    "def FFT(t, y):\n",
    "    #source: https://stackoverflow.com/questions/56797881/how-to-properly-scale-frequency-axis-in-fast-fourier-transform\n",
    "    n = len(t)\n",
    "    Δ = (max(t) - min(t)) / (n-1)\n",
    "    k = int(n/2)\n",
    "    f = np.arange(k) / (n*Δ)\n",
    "    Y = np.abs(np.fft.fft(y))[:k]\n",
    "    return (f, Y)\n"
   ]
  },
  {
   "cell_type": "code",
   "execution_count": 3,
   "metadata": {},
   "outputs": [],
   "source": [
    "file = \"bode_full_response.csv\"\n",
    "curve = pd.read_csv(file, names = ['intensity', 'fluo', 'tick', 'trigger', 'd', 'e', 'f'], sep = ',', decimal = '.') \n",
    "\n",
    "intensity = curve.intensity.values\n",
    "fluo = curve.fluo.values\n",
    "tick = curve.tick.values\n"
   ]
  },
  {
   "cell_type": "code",
   "execution_count": 4,
   "metadata": {},
   "outputs": [
    {
     "data": {
      "application/vnd.jupyter.widget-view+json": {
       "model_id": "71edacaa0ef2432da4acf9de712bc9e8",
       "version_major": 2,
       "version_minor": 0
      },
      "text/plain": [
       "Canvas(toolbar=Toolbar(toolitems=[('Home', 'Reset original view', 'home', 'home'), ('Back', 'Back to previous …"
      ]
     },
     "metadata": {},
     "output_type": "display_data"
    }
   ],
   "source": [
    "plt.figure(figsize = (20, 4))\n",
    "plt.plot(fluo)\n",
    "plt.title('Raw fluorescence signal, 10 period per frequency')\n",
    "plt.show()"
   ]
  },
  {
   "cell_type": "code",
   "execution_count": 5,
   "metadata": {},
   "outputs": [],
   "source": [
    "time = np.linspace(0, len(fluo)-1, len(fluo))\n",
    "f = 1 / (10000)\n",
    "sinus = np.sin(time * f*2*np.pi)\n",
    "cosinus = np.cos(time * f * 2 * np.pi)"
   ]
  },
  {
   "cell_type": "code",
   "execution_count": 6,
   "metadata": {},
   "outputs": [],
   "source": [
    "\n",
    "window = 200\n",
    "both = np.stack([fluo, tick], axis = 1)\n",
    "smooth, time_bis = averaging(both.T, time, window)"
   ]
  },
  {
   "cell_type": "code",
   "execution_count": 7,
   "metadata": {},
   "outputs": [
    {
     "data": {
      "application/vnd.jupyter.widget-view+json": {
       "model_id": "d8968691ce41475daba266c95db8f45d",
       "version_major": 2,
       "version_minor": 0
      },
      "text/plain": [
       "Canvas(toolbar=Toolbar(toolitems=[('Home', 'Reset original view', 'home', 'home'), ('Back', 'Back to previous …"
      ]
     },
     "metadata": {},
     "output_type": "display_data"
    },
    {
     "data": {
      "text/plain": [
       "Text(0.5, 1.0, 'smoothed fluorescence signal, 10 period per frequency')"
      ]
     },
     "execution_count": 7,
     "metadata": {},
     "output_type": "execute_result"
    }
   ],
   "source": [
    "plt.figure(figsize = (20, 4))\n",
    "plt.plot(smooth[0])\n",
    "plt.title('smoothed fluorescence signal, 10 period per frequency')\n",
    "#plt.plot(smooth[1])"
   ]
  },
  {
   "cell_type": "code",
   "execution_count": 8,
   "metadata": {
    "tags": []
   },
   "outputs": [
    {
     "data": {
      "application/vnd.jupyter.widget-view+json": {
       "model_id": "3258d221d9ed4b3e8e062ad0e6c9e516",
       "version_major": 2,
       "version_minor": 0
      },
      "text/plain": [
       "Canvas(toolbar=Toolbar(toolitems=[('Home', 'Reset original view', 'home', 'home'), ('Back', 'Back to previous …"
      ]
     },
     "metadata": {},
     "output_type": "display_data"
    },
    {
     "data": {
      "text/plain": [
       "[<matplotlib.lines.Line2D at 0x23000e7d550>]"
      ]
     },
     "execution_count": 8,
     "metadata": {},
     "output_type": "execute_result"
    }
   ],
   "source": [
    "plt.figure(figsize = (20, 4))\n",
    "plt.plot(tick)"
   ]
  },
  {
   "cell_type": "code",
   "execution_count": 45,
   "metadata": {},
   "outputs": [
    {
     "name": "stdout",
     "output_type": "stream",
     "text": [
      "(10, 7, 20000)\n"
     ]
    },
    {
     "data": {
      "application/vnd.jupyter.widget-view+json": {
       "model_id": "8def72edd16c4243a831819410a16b81",
       "version_major": 2,
       "version_minor": 0
      },
      "text/plain": [
       "Canvas(toolbar=Toolbar(toolitems=[('Home', 'Reset original view', 'home', 'home'), ('Back', 'Back to previous …"
      ]
     },
     "metadata": {},
     "output_type": "display_data"
    }
   ],
   "source": [
    "import matplotlib\n",
    "cmap = matplotlib.cm.get_cmap('Spectral')\n",
    "color_list = [cmap(x) for x in np.linspace(0, 10, 10)]\n",
    "rgba = cmap(0.5)\n",
    "all_outputs_3D = np.load(\"bode_3D_output.npy\")\n",
    "all_times = np.load(\"bode_3D_times.npy\")\n",
    "print(all_outputs_3D.shape)\n",
    "fig, axs =  plt.subplots(2, 2, figsize=(15, 6))\n",
    "for i in range(all_outputs_3D.shape[0]):\n",
    "    f, Y = FFT(all_times[0], all_outputs_3D[i][1])\n",
    "    axs[1][0].plot(f[:100], Y[:100])\n",
    "    axs[1][0].set_title(\"Fourier transform fluorescence\")\n",
    "    Y = Y[:100]\n",
    "    axs[1][1].plot(np.linspace(0, len(Y)//10, len(Y)//10), Y[::10]/Y[10], c = color_list[i])\n",
    "    axs[1][1].set_title(\"Harmonics fluorescence\")\n",
    "    \n",
    "    f, Y = FFT(all_times[0], all_outputs_3D[i][0])\n",
    "    axs[0][0].plot(f[:100], Y[:100])\n",
    "    axs[0][0].set_title(\"Fourier transform input\")\n",
    "    Y = Y[:100]\n",
    "    axs[0][1].plot(np.linspace(0, len(Y)//10, len(Y)//10), Y[::10]/Y[10], c = color_list[i])\n",
    "    axs[0][1].set_title(\"Harmonics input\")\n"
   ]
  },
  {
   "cell_type": "code",
   "execution_count": 53,
   "metadata": {},
   "outputs": [
    {
     "data": {
      "application/vnd.jupyter.widget-view+json": {
       "model_id": "4face2e8d5d0434780622c3b8de03419",
       "version_major": 2,
       "version_minor": 0
      },
      "text/plain": [
       "Canvas(toolbar=Toolbar(toolitems=[('Home', 'Reset original view', 'home', 'home'), ('Back', 'Back to previous …"
      ]
     },
     "metadata": {},
     "output_type": "display_data"
    },
    {
     "data": {
      "text/plain": [
       "[<matplotlib.lines.Line2D at 0x2301bfbbb20>]"
      ]
     },
     "execution_count": 53,
     "metadata": {},
     "output_type": "execute_result"
    }
   ],
   "source": [
    "plt.figure()\n",
    "plt.plot(mvgavg(all_outputs_3D[5][2], 100))"
   ]
  },
  {
   "cell_type": "code",
   "execution_count": 9,
   "metadata": {},
   "outputs": [],
   "source": [
    "files = os.listdir()\n",
    "ind = [i for i, elem in enumerate(files) if 'fluo.csv' in elem]\n",
    "path =files[ind[0]]\n"
   ]
  },
  {
   "cell_type": "code",
   "execution_count": 10,
   "metadata": {},
   "outputs": [],
   "source": [
    "curve = pd.read_csv(path, sep = ',', decimal = '.') \n",
    "\n",
    "K = curve.keys()\n",
    "d = 0\n",
    "f = -5\n",
    "frequencies = curve[K[1]].values[d:f]\n",
    "radius = curve[K[2]].values[d:f]\n",
    "sin_lo = curve[K[4]].values[d:f]\n",
    "cos_lo = curve[K[6]].values[d:f]\n",
    "phase = curve[K[8]].values[d:f]\n",
    "\n",
    "l = 3\n",
    "radius[0:l] = radius[l + 1]\n",
    "sin_lo[0:l] = sin_lo[l + 1]\n",
    "cos_lo[0:l] = cos_lo[l + 1]\n"
   ]
  },
  {
   "cell_type": "code",
   "execution_count": 11,
   "metadata": {},
   "outputs": [
    {
     "name": "stdout",
     "output_type": "stream",
     "text": [
      "cut-off cos:  -0.001307419898285019\n"
     ]
    },
    {
     "data": {
      "application/vnd.jupyter.widget-view+json": {
       "model_id": "d3c8a1a2727e47a39f50bb4f4555b65d",
       "version_major": 2,
       "version_minor": 0
      },
      "text/plain": [
       "Canvas(toolbar=Toolbar(toolitems=[('Home', 'Reset original view', 'home', 'home'), ('Back', 'Back to previous …"
      ]
     },
     "metadata": {},
     "output_type": "display_data"
    },
    {
     "data": {
      "application/vnd.jupyter.widget-view+json": {
       "model_id": "7583c44377db43e195b254657da6bf09",
       "version_major": 2,
       "version_minor": 0
      },
      "text/plain": [
       "Canvas(toolbar=Toolbar(toolitems=[('Home', 'Reset original view', 'home', 'home'), ('Back', 'Back to previous …"
      ]
     },
     "metadata": {},
     "output_type": "display_data"
    },
    {
     "name": "stdout",
     "output_type": "stream",
     "text": [
      "cut-off cos:  -0.001307419898285019\n"
     ]
    },
    {
     "data": {
      "application/vnd.jupyter.widget-view+json": {
       "model_id": "55c9874a10564f5c980b61bee1bab225",
       "version_major": 2,
       "version_minor": 0
      },
      "text/plain": [
       "Canvas(toolbar=Toolbar(toolitems=[('Home', 'Reset original view', 'home', 'home'), ('Back', 'Back to previous …"
      ]
     },
     "metadata": {},
     "output_type": "display_data"
    },
    {
     "name": "stdout",
     "output_type": "stream",
     "text": [
      "cut-off radius: 0.1912136784953551\n"
     ]
    },
    {
     "name": "stderr",
     "output_type": "stream",
     "text": [
      "<ipython-input-2-0c9e6ec0f2dc>:69: RuntimeWarning: invalid value encountered in sqrt\n",
      "  return (H /(1 + (xdata * tau)**2))**0.5 + a0\n"
     ]
    }
   ],
   "source": [
    "\n",
    "x0 = [0.1, 0.1, 0]\n",
    "\n",
    "pulse = 2 * np.pi * frequencies\n",
    "parameters_estimated = optimize.least_squares(residuals,  x0, bounds = (-1e5,1e5),\n",
    "                                    args = (pulse, sin_lo, band_pass)).x\n",
    "tau_sin = parameters_estimated[1]\n",
    "print(\"cut-off cos: \", tau_sin)\n",
    "plt.figure()\n",
    "plt.plot(pulse, band_pass(parameters_estimated, pulse))\n",
    "plt.plot(pulse, sin_lo)\n",
    "plt.xscale('log')\n",
    "plt.title('Cos lock-in')\n",
    "plt.figure()\n",
    "parameters_estimated = optimize.least_squares(residuals,  x0, bounds = (-1e5,1e5),\n",
    "                                    args = (pulse, cos_lo, low_pass)).x\n",
    "tau_cos = parameters_estimated[1]\n",
    "print(\"cut-off cos: \", tau_sin)\n",
    "\n",
    "plt.plot(pulse, low_pass(parameters_estimated, pulse))\n",
    "plt.plot(pulse, cos_lo)\n",
    "plt.xscale('log')\n",
    "plt.title('Sin lock-in')\n",
    "\n",
    "plt.figure()\n",
    "parameters_estimated = optimize.least_squares(residuals,  x0, bounds = (-1e5,1e5),\n",
    "                                    args = (pulse, radius, amplitude)).x\n",
    "tau_radius = parameters_estimated[1]\n",
    "print(\"cut-off radius:\", tau_radius)\n",
    "plt.plot(pulse, amplitude(parameters_estimated, pulse))\n",
    "plt.plot(pulse, radius)\n",
    "plt.xscale('log')\n",
    "plt.title('Amplitude lock-in')\n",
    "\n",
    "plt.show()\n"
   ]
  },
  {
   "cell_type": "code",
   "execution_count": null,
   "metadata": {},
   "outputs": [],
   "source": []
  },
  {
   "cell_type": "code",
   "execution_count": null,
   "metadata": {},
   "outputs": [],
   "source": []
  }
 ],
 "metadata": {
  "kernelspec": {
   "display_name": "Python 3 (ipykernel)",
   "language": "python",
   "name": "python3"
  },
  "language_info": {
   "codemirror_mode": {
    "name": "ipython",
    "version": 3
   },
   "file_extension": ".py",
   "mimetype": "text/x-python",
   "name": "python",
   "nbconvert_exporter": "python",
   "pygments_lexer": "ipython3",
   "version": "3.9.10"
  }
 },
 "nbformat": 4,
 "nbformat_minor": 4
}
