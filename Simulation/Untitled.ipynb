{
 "cells": [
  {
   "cell_type": "code",
   "execution_count": 2,
   "id": "5b6ea2dd",
   "metadata": {
    "scrolled": false
   },
   "outputs": [
    {
     "data": {
      "application/vnd.jupyter.widget-view+json": {
       "model_id": "d8bff0080eac4aeebcb757d4ebd6743a",
       "version_major": 2,
       "version_minor": 0
      },
      "text/plain": [
       "interactive(children=(FloatSlider(value=5.05, description='frequency', max=10.0, min=0.1, step=0.05), Checkbox…"
      ]
     },
     "metadata": {},
     "output_type": "display_data"
    },
    {
     "data": {
      "text/plain": [
       "<function __main__.plot_RC_response(frequency, plot=True)>"
      ]
     },
     "execution_count": 2,
     "metadata": {},
     "output_type": "execute_result"
    }
   ],
   "source": [
    "import numpy as np\n",
    "import matplotlib.pyplot as plt\n",
    "import ipywidgets\n",
    "%matplotlib inline\n",
    "\n",
    "# Define the parameters of the RC circuit\n",
    "R = 1000 # Resistance in ohms\n",
    "C = 0.001 # Capacitance in farads\n",
    "\n",
    "# Define the function that simulates the response of the RC circuit\n",
    "def plot_RC_response(frequency, plot = True):\n",
    "    # Define the time interval and step size for the simulation\n",
    "    t_start = 0 # Start time in seconds\n",
    "    t_stop = 10*(1/frequency) # Stop time in seconds\n",
    "    dt = (t_stop-t_start)/1000 # Time step size in seconds\n",
    "    t = np.arange(t_start, t_stop, dt)\n",
    "\n",
    "    # Define the initial voltage across the capacitor\n",
    "    v_c0 = 0\n",
    "\n",
    "    # Define the input and output waveforms\n",
    "    v_c = np.zeros_like(t)\n",
    "    v_c[0] = v_c0\n",
    "    w = 2 * np.pi * frequency # Angular frequency in rad/s\n",
    "    light = 1 + np.sin(w*t)\n",
    "    i_in = 1 * (1 - np.exp(-(light/0.16)))\n",
    "    for i in range(1, len(t)):\n",
    "        v_c[i] = v_c[i-1] + (i_in[i] / C - v_c[i-1] / (R * C)) * dt\n",
    "    \n",
    "    if plot:\n",
    "        fig, ax1 = plt.subplots()\n",
    "\n",
    "        color = 'tab:red'\n",
    "        ax1.set_xlabel('Time (s)')\n",
    "        ax1.set_ylabel('Current (A)', color=color)\n",
    "        ax1.plot(t, i_in, color=color)\n",
    "        ax1.tick_params(axis='y', labelcolor=color)\n",
    "        #ax1.set_xlim([0,min(max(t),10)])\n",
    "\n",
    "        ax2 = ax1.twinx()  # create a secondary y-axis that shares the same x-axis with ax1\n",
    "\n",
    "        color = 'tab:blue'\n",
    "        ax2.set_ylabel('Voltage (V)', color=color)\n",
    "        ax2.plot(t, v_c, color=color)\n",
    "        ax2.tick_params(axis='y', labelcolor=color)\n",
    "    else:\n",
    "        return i_in, v_c\n",
    "\n",
    "ipywidgets.interact(plot_RC_response,frequency = (0.1,10,0.05))\n",
    "        "
   ]
  },
  {
   "cell_type": "code",
   "execution_count": null,
   "id": "a58bae10",
   "metadata": {},
   "outputs": [],
   "source": []
  }
 ],
 "metadata": {
  "kernelspec": {
   "display_name": "Python 3 (ipykernel)",
   "language": "python",
   "name": "python3"
  },
  "language_info": {
   "codemirror_mode": {
    "name": "ipython",
    "version": 3
   },
   "file_extension": ".py",
   "mimetype": "text/x-python",
   "name": "python",
   "nbconvert_exporter": "python",
   "pygments_lexer": "ipython3",
   "version": "3.9.12"
  }
 },
 "nbformat": 4,
 "nbformat_minor": 5
}
