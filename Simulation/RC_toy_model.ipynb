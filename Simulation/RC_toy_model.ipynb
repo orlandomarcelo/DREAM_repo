{
 "cells": [
  {
   "cell_type": "code",
   "execution_count": 1,
   "id": "9d870972",
   "metadata": {},
   "outputs": [],
   "source": [
    "import numpy as np\n",
    "import matplotlib.pyplot as plt\n",
    "import ipywidgets\n",
    "from matplotlib import interactive\n",
    "\n",
    "\n",
    "def RC_response(frequency, R, C, Ik, offset=0, amplitude=1):\n",
    "    # Define the time interval and step size for the simulation\n",
    "    t_start = 0 # Start time in seconds\n",
    "    t_stop = 10*(1/frequency) # Stop time in seconds\n",
    "    dt = (t_stop-t_start)/1000 # Time step size in seconds\n",
    "    t = np.arange(t_start, t_stop, dt)\n",
    "\n",
    "    # Define the initial voltage across the capacitor\n",
    "    v_c0 = 0\n",
    "\n",
    "    # Define the input and output waveforms\n",
    "    v_c = np.zeros_like(t)\n",
    "    v_c[0] = v_c0\n",
    "    w = 2 * np.pi * frequency # Angular frequency in rad/s\n",
    "    light = offset + amplitude*np.sin(w*t)\n",
    "    i_in = 1 * (1 - np.exp(-(light/Ik)))\n",
    "    for i in range(1, len(t)):\n",
    "        v_c[i] = v_c[i-1] + (i_in[i] / C - v_c[i-1] / (R * C)) * dt\n",
    "    \n",
    "    return t, i_in, v_c\n",
    "\n",
    "def plot_RC_response(frequency, R, C, Ik, offset=0, amplitude=1):\n",
    "    t, i_in, v_c = RC_response(frequency, R, C, Ik, offset, amplitude)\n",
    "\n",
    "    fig, (ax1) = plt.subplots()\n",
    "\n",
    "    color = 'tab:red'\n",
    "    ax1.set_xlabel('Time (s)')\n",
    "    ax1.set_ylabel('Current (A)', color=color)\n",
    "    ax1.plot(t, i_in, color=color)\n",
    "    ax1.tick_params(axis='y', labelcolor=color)\n",
    "    #ax1.set_xlim([0,min(max(t),10)])\n",
    "\n",
    "    ax11 = ax1.twinx()  # create a secondary y-axis that shares the same x-axis with ax1\n",
    "\n",
    "    color = 'tab:blue'\n",
    "    ax11.set_ylabel('Voltage (V)', color=color)\n",
    "    ax11.plot(t, v_c, color=color)\n",
    "    ax11.tick_params(axis='y', labelcolor=color)\n",
    "\n",
    "    ax11.text(1, 1.1, f'Cut off freq = {1/(2*np.pi*R*C):.4f} Hz ', ha='right', va='top', transform=ax11.transAxes)"
   ]
  },
  {
   "cell_type": "code",
   "execution_count": 2,
   "id": "10b62d3f",
   "metadata": {},
   "outputs": [
    {
     "data": {
      "application/vnd.jupyter.widget-view+json": {
       "model_id": "88a835ad3b014099a136694c2b076ca8",
       "version_major": 2,
       "version_minor": 0
      },
      "text/plain": [
       "interactive(children=(FloatSlider(value=5.0, description='frequency', max=10.0, min=0.01, step=0.01), IntSlide…"
      ]
     },
     "metadata": {},
     "output_type": "display_data"
    },
    {
     "data": {
      "text/plain": [
       "<function __main__.plot_RC_response(frequency, R, C, Ik, offset=0, amplitude=1)>"
      ]
     },
     "execution_count": 2,
     "metadata": {},
     "output_type": "execute_result"
    }
   ],
   "source": [
    "# Define the parameters of the RC circuit\n",
    "R = 10 # Resistance in ohms\n",
    "C = 0.1 # Capacitance in farads\n",
    "\n",
    "ipywidgets.interact(plot_RC_response,frequency = (0.01,10,0.01), R = (1,100,1), C = (0.01,1,0.01),  Ik = (1,100,0.01), offset = (0,200,1), amplitude = (0,100,1))"
   ]
  },
  {
   "cell_type": "code",
   "execution_count": null,
   "id": "b7defbac",
   "metadata": {},
   "outputs": [
    {
     "ename": "NameError",
     "evalue": "name 'Amp' is not defined",
     "output_type": "error",
     "traceback": [
      "\u001b[1;31m---------------------------------------------------------------------------\u001b[0m",
      "\u001b[1;31mNameError\u001b[0m                                 Traceback (most recent call last)",
      "\u001b[1;32mc:\\Users\\Orlando\\Desktop\\DREAM_repo\\Simulation\\Untitled.ipynb Cellule 4\u001b[0m in \u001b[0;36m<cell line: 1>\u001b[1;34m()\u001b[0m\n\u001b[1;32m----> <a href='vscode-notebook-cell:/c%3A/Users/Orlando/Desktop/DREAM_repo/Simulation/Untitled.ipynb#W3sZmlsZQ%3D%3D?line=0'>1</a>\u001b[0m Amp\n",
      "\u001b[1;31mNameError\u001b[0m: name 'Amp' is not defined"
     ]
    }
   ],
   "source": []
  },
  {
   "cell_type": "code",
   "execution_count": 41,
   "id": "ada21005",
   "metadata": {},
   "outputs": [
    {
     "data": {
      "application/vnd.jupyter.widget-view+json": {
       "model_id": "a0fa276b676c48b58624c7407d4cdfa3",
       "version_major": 2,
       "version_minor": 0
      },
      "text/plain": [
       "interactive(children=(IntSlider(value=50, description='R', min=1), FloatSlider(value=0.015, description='C', m…"
      ]
     },
     "metadata": {},
     "output_type": "display_data"
    }
   ],
   "source": [
    "import importlib\n",
    "import tools\n",
    "importlib.reload(tools)\n",
    "\n",
    "def plot_bode_RC(R,C, Ik, offset, amplitude,sample_freq):\n",
    "\n",
    "    freq_nb = 1000\n",
    "\n",
    "    Cut_off = 1/(2*np.pi*R*C)\n",
    "\n",
    "    Freq_list = np.linspace(Cut_off/10, Cut_off*10, freq_nb)\n",
    "\n",
    "    t_list = []\n",
    "    v_c_list = []\n",
    "\n",
    "    for i in Freq_list:\n",
    "        t, i_in, v_c = RC_response(i, R, C, Ik, offset, amplitude)\n",
    "        t_list.append(t)\n",
    "        v_c_list.append(v_c)\n",
    "\n",
    "\n",
    "    Freq, Amp, Phase = tools.get_bode_diagram(Freq_list, t_list, v_c_list, threshold= 5000)\n",
    "\n",
    "\n",
    "    fig, ax = plt.subplots(1,3, figsize = (15,5))\n",
    "\n",
    "    for i in range(0,3):\n",
    "        try:\n",
    "            ax[0].loglog(Freq_list, [sub_list[i] if sub_list.any() else None for sub_list in Amp], label = f'Harmonic {i+1}')\n",
    "            ax[1].semilogx(Freq_list, [sub_list[i] if sub_list.any() else None for sub_list in Phase], label = f'Harmonic {i+1}')\n",
    "        except:\n",
    "            pass\n",
    "    \n",
    "    sample_t, sample_i_in, sample_v_c = RC_response(sample_freq, R, C, Ik, offset, amplitude)\n",
    "\n",
    "    color = 'tab:red'\n",
    "    ax[2].set_xlabel('Time (s)')\n",
    "    ax[2].set_ylabel('Current (A)', color=color)\n",
    "    ax[2].plot(sample_t, sample_i_in, color=color)\n",
    "    ax[2].tick_params(axis='y', labelcolor=color)\n",
    "    #ax1.set_xlim([0,min(max(t),10)])\n",
    "\n",
    "    ax11 = ax[2].twinx()  # create a secondary y-axis that shares the same x-axis with ax1\n",
    "\n",
    "    color = 'tab:blue'\n",
    "    ax11.set_ylabel('Voltage (V)', color=color)\n",
    "    ax11.plot(sample_t, sample_v_c, color=color)\n",
    "    ax11.tick_params(axis='y', labelcolor=color)\n",
    "    ax11.set_title(f'Sample frequency = {sample_freq:.2f} Hz')\n",
    "    \n",
    "\n",
    "    ax[0].set_xlabel('Frequency (Hz)')\n",
    "    ax[0].set_ylabel('Amplitude (V)')\n",
    "    ax[1].set_xlabel('Frequency (Hz)')\n",
    "    ax[1].set_ylabel('Phase (deg)')\n",
    "    ax[0].set_title('Amplitude')\n",
    "    ax[1].set_title('Phase')\n",
    "\n",
    "    ax[0].grid()\n",
    "    ax[1].grid()\n",
    "\n",
    "    ax[0].legend()\n",
    "    ax[1].legend()\n",
    "\n",
    "    ax[1].text(0.5, 1.15, f'Cut off freq = {Cut_off:.4f} Hz ', ha='right', va='top', transform=ax[1].transAxes)\n",
    "\n",
    "    ax[0].axvline(x=Cut_off, color='k', linestyle='--')\n",
    "    ax[0].axvline(x=sample_freq, color='tab:red', linestyle='--')\n",
    "\n",
    "\n",
    "my_simulation = ipywidgets.interact(plot_bode_RC,  R = (1,100,1), C = (0.0003,0.03,0.0003),  Ik = (1,100,0.01), offset = (0,200,1), amplitude = (0,200,1), sample_freq = (0.01,50,0.01))\n"
   ]
  },
  {
   "cell_type": "code",
   "execution_count": 34,
   "id": "8f1dc949",
   "metadata": {},
   "outputs": [],
   "source": [
    "inputs = my_simulation.widget.kwargs"
   ]
  }
 ],
 "metadata": {
  "kernelspec": {
   "display_name": "Python 3 (ipykernel)",
   "language": "python",
   "name": "python3"
  },
  "language_info": {
   "codemirror_mode": {
    "name": "ipython",
    "version": 3
   },
   "file_extension": ".py",
   "mimetype": "text/x-python",
   "name": "python",
   "nbconvert_exporter": "python",
   "pygments_lexer": "ipython3",
   "version": "3.9.12"
  }
 },
 "nbformat": 4,
 "nbformat_minor": 5
}
