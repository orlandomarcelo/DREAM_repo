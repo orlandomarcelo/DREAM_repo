{
 "cells": [
  {
   "cell_type": "code",
   "execution_count": 4,
   "metadata": {},
   "outputs": [],
   "source": [
    "import numpy as np\n",
    "import matplotlib.pyplot as plt\n",
    "import pandas as pd\n",
    "from alienlab.plot import PlotFigure\n",
    "p = PlotFigure()"
   ]
  },
  {
   "cell_type": "markdown",
   "metadata": {},
   "source": [
    "### write file name"
   ]
  },
  {
   "cell_type": "code",
   "execution_count": 181,
   "metadata": {},
   "outputs": [],
   "source": [
    "file= \"DDAO/abs/DDAO_UV.csv\"\n",
    "file2 = \"DDAO/abs/DDAO_fluo_sample.csv\""
   ]
  },
  {
   "cell_type": "markdown",
   "metadata": {},
   "source": [
    "### catch file"
   ]
  },
  {
   "cell_type": "code",
   "execution_count": 1,
   "metadata": {},
   "outputs": [],
   "source": [
    "from tkinter.filedialog import askopenfilename\n",
    "\n",
    "file = askopenfilename()\n"
   ]
  },
  {
   "cell_type": "markdown",
   "metadata": {},
   "source": [
    "### automatically remove the extra-content:"
   ]
  },
  {
   "cell_type": "code",
   "execution_count": 2,
   "metadata": {},
   "outputs": [],
   "source": [
    "file1 = open(file, 'r')\n",
    "Lines = file1.readlines()\n",
    "txt = Lines[6]\n",
    "txt = txt.replace(':', ' ')\n",
    "txt = txt.replace('-', ' ')\n",
    "txt = txt.split()\n",
    "start = int(txt[1])\n",
    "stop = int(txt[2])\n",
    "em = int(txt[3])\n"
   ]
  },
  {
   "cell_type": "code",
   "execution_count": 5,
   "metadata": {},
   "outputs": [
    {
     "name": "stderr",
     "output_type": "stream",
     "text": [
      "C:\\Users\\Alienor\\AppData\\Local\\Temp\\ipykernel_13920\\4014831563.py:1: ParserWarning: Falling back to the 'python' engine because the 'c' engine does not support skipfooter; you can avoid this warning by specifying engine='python'.\n",
      "  df = pd.read_csv(file, skiprows = 7, skipfooter = len(Lines) - stop + start - 9, sep = \"\\t\")\n"
     ]
    },
    {
     "data": {
      "text/html": [
       "<div>\n",
       "<style scoped>\n",
       "    .dataframe tbody tr th:only-of-type {\n",
       "        vertical-align: middle;\n",
       "    }\n",
       "\n",
       "    .dataframe tbody tr th {\n",
       "        vertical-align: top;\n",
       "    }\n",
       "\n",
       "    .dataframe thead th {\n",
       "        text-align: right;\n",
       "    }\n",
       "</style>\n",
       "<table border=\"1\" class=\"dataframe\">\n",
       "  <thead>\n",
       "    <tr style=\"text-align: right;\">\n",
       "      <th></th>\n",
       "      <th>X</th>\n",
       "      <th>Y</th>\n",
       "      <th>X.1</th>\n",
       "      <th>Y.1</th>\n",
       "    </tr>\n",
       "  </thead>\n",
       "  <tbody>\n",
       "    <tr>\n",
       "      <th>0</th>\n",
       "      <td>600</td>\n",
       "      <td>1081.17529</td>\n",
       "      <td>600</td>\n",
       "      <td>731.219849</td>\n",
       "    </tr>\n",
       "    <tr>\n",
       "      <th>1</th>\n",
       "      <td>601</td>\n",
       "      <td>1149.19812</td>\n",
       "      <td>601</td>\n",
       "      <td>782.193237</td>\n",
       "    </tr>\n",
       "    <tr>\n",
       "      <th>2</th>\n",
       "      <td>602</td>\n",
       "      <td>1258.23743</td>\n",
       "      <td>602</td>\n",
       "      <td>861.813200</td>\n",
       "    </tr>\n",
       "    <tr>\n",
       "      <th>3</th>\n",
       "      <td>603</td>\n",
       "      <td>1325.26343</td>\n",
       "      <td>603</td>\n",
       "      <td>916.890300</td>\n",
       "    </tr>\n",
       "    <tr>\n",
       "      <th>4</th>\n",
       "      <td>604</td>\n",
       "      <td>1367.28040</td>\n",
       "      <td>604</td>\n",
       "      <td>955.479858</td>\n",
       "    </tr>\n",
       "    <tr>\n",
       "      <th>...</th>\n",
       "      <td>...</td>\n",
       "      <td>...</td>\n",
       "      <td>...</td>\n",
       "      <td>...</td>\n",
       "    </tr>\n",
       "    <tr>\n",
       "      <th>116</th>\n",
       "      <td>716</td>\n",
       "      <td>5620.73633</td>\n",
       "      <td>716</td>\n",
       "      <td>14305.058600</td>\n",
       "    </tr>\n",
       "    <tr>\n",
       "      <th>117</th>\n",
       "      <td>717</td>\n",
       "      <td>5551.62061</td>\n",
       "      <td>717</td>\n",
       "      <td>14301.409200</td>\n",
       "    </tr>\n",
       "    <tr>\n",
       "      <th>118</th>\n",
       "      <td>718</td>\n",
       "      <td>5318.24000</td>\n",
       "      <td>718</td>\n",
       "      <td>13858.860000</td>\n",
       "    </tr>\n",
       "    <tr>\n",
       "      <th>119</th>\n",
       "      <td>719</td>\n",
       "      <td>5278.17700</td>\n",
       "      <td>719</td>\n",
       "      <td>13912.372100</td>\n",
       "    </tr>\n",
       "    <tr>\n",
       "      <th>120</th>\n",
       "      <td>720</td>\n",
       "      <td>4893.59033</td>\n",
       "      <td>720</td>\n",
       "      <td>13047.841800</td>\n",
       "    </tr>\n",
       "  </tbody>\n",
       "</table>\n",
       "<p>121 rows × 4 columns</p>\n",
       "</div>"
      ],
      "text/plain": [
       "       X           Y  X.1           Y.1\n",
       "0    600  1081.17529  600    731.219849\n",
       "1    601  1149.19812  601    782.193237\n",
       "2    602  1258.23743  602    861.813200\n",
       "3    603  1325.26343  603    916.890300\n",
       "4    604  1367.28040  604    955.479858\n",
       "..   ...         ...  ...           ...\n",
       "116  716  5620.73633  716  14305.058600\n",
       "117  717  5551.62061  717  14301.409200\n",
       "118  718  5318.24000  718  13858.860000\n",
       "119  719  5278.17700  719  13912.372100\n",
       "120  720  4893.59033  720  13047.841800\n",
       "\n",
       "[121 rows x 4 columns]"
      ]
     },
     "execution_count": 5,
     "metadata": {},
     "output_type": "execute_result"
    }
   ],
   "source": [
    "df = pd.read_csv(file, skiprows = 7, skipfooter = len(Lines) - stop + start - 9, sep = \"\\t\")\n",
    "df = df.dropna()\n",
    "df"
   ]
  },
  {
   "cell_type": "markdown",
   "metadata": {},
   "source": [
    "### plot the curves on one graph and remove the blank"
   ]
  },
  {
   "cell_type": "code",
   "execution_count": 6,
   "metadata": {},
   "outputs": [
    {
     "name": "stdout",
     "output_type": "stream",
     "text": [
      "X.1 Y.1\n"
     ]
    },
    {
     "data": {
      "text/plain": [
       "(<Figure size 648x432 with 1 Axes>,\n",
       "      wavelength (nm) MyLabel  fluorescence at 800 nm MyLabel\n",
       " 0                        600                      731.219849\n",
       " 1                        601                      782.193237\n",
       " 2                        602                      861.813200\n",
       " 3                        603                      916.890300\n",
       " 4                        604                      955.479858\n",
       " ..                       ...                             ...\n",
       " 116                      716                    14305.058600\n",
       " 117                      717                    14301.409200\n",
       " 118                      718                    13858.860000\n",
       " 119                      719                    13912.372100\n",
       " 120                      720                    13047.841800\n",
       " \n",
       " [121 rows x 2 columns],\n",
       " <AxesSubplot:xlabel='wavelength (nm)', ylabel='fluorescence at 800 nm'>)"
      ]
     },
     "execution_count": 6,
     "metadata": {},
     "output_type": "execute_result"
    },
    {
     "data": {
      "image/png": "[encoded data removed]",
      "text/plain": [
       "<Figure size 648x432 with 1 Axes>"
      ]
     },
     "metadata": {
      "needs_background": "light"
     },
     "output_type": "display_data"
    },
    {
     "data": {
      "text/plain": [
       "<Figure size 432x288 with 0 Axes>"
      ]
     },
     "metadata": {},
     "output_type": "display_data"
    }
   ],
   "source": [
    "headers =  df.columns\n",
    "p.majorFormatterx = \"%d\"#\"%0.2f\"\n",
    "p.majorFormattery = \"%d\"#\"%0.2f\"\n",
    "p.marker_list = [\"\"]\n",
    "p.fontsize = 17\n",
    "p.title = \"\"\n",
    "p.xlabel = 'wavelength (nm)'\n",
    "p.ylabel = 'fluorescence at %d nm'%em\n",
    "for i in range(1, len(headers)//2):\n",
    "    print(headers[2*i], headers[2*i+1]) \n",
    "    x = headers[2*i]\n",
    "    y = headers[2*i+1]\n",
    "    fig = p.plotting(np.array(df[x]), np.array(df[y]))\n",
    "p.save_folder = '.'\n",
    "p.save_name = 'fluorescence_spectrum_%d_DDAO'%em\n",
    "p.saving(fig)"
   ]
  },
  {
   "cell_type": "markdown",
   "metadata": {},
   "source": [
    "### select the maxima"
   ]
  },
  {
   "cell_type": "code",
   "execution_count": 115,
   "metadata": {},
   "outputs": [
    {
     "data": {
      "text/html": [
       "<div>\n",
       "<style scoped>\n",
       "    .dataframe tbody tr th:only-of-type {\n",
       "        vertical-align: middle;\n",
       "    }\n",
       "\n",
       "    .dataframe tbody tr th {\n",
       "        vertical-align: top;\n",
       "    }\n",
       "\n",
       "    .dataframe thead th {\n",
       "        text-align: right;\n",
       "    }\n",
       "</style>\n",
       "<table border=\"1\" class=\"dataframe\">\n",
       "  <thead>\n",
       "    <tr style=\"text-align: right;\">\n",
       "      <th></th>\n",
       "      <th>Unnamed: 8</th>\n",
       "      <th>zero</th>\n",
       "      <th>Unnamed: 1</th>\n",
       "      <th>zero1</th>\n",
       "      <th>Unnamed: 3</th>\n",
       "      <th>DDAO_15uM</th>\n",
       "      <th>Unnamed: 5</th>\n",
       "      <th>DDAO_10uM1</th>\n",
       "      <th>Unnamed: 7</th>\n",
       "    </tr>\n",
       "  </thead>\n",
       "  <tbody>\n",
       "    <tr>\n",
       "      <th>150</th>\n",
       "      <td>650</td>\n",
       "      <td>-0.001069</td>\n",
       "      <td>650</td>\n",
       "      <td>0.0</td>\n",
       "      <td>650</td>\n",
       "      <td>0.137236</td>\n",
       "      <td>650</td>\n",
       "      <td>0.114838</td>\n",
       "      <td>NaN</td>\n",
       "    </tr>\n",
       "  </tbody>\n",
       "</table>\n",
       "</div>"
      ],
      "text/plain": [
       "     Unnamed: 8      zero  Unnamed: 1  zero1  Unnamed: 3  DDAO_15uM  \\\n",
       "150         650 -0.001069         650    0.0         650   0.137236   \n",
       "\n",
       "     Unnamed: 5  DDAO_10uM1  Unnamed: 7  \n",
       "150         650    0.114838         NaN  "
      ]
     },
     "execution_count": 115,
     "metadata": {},
     "output_type": "execute_result"
    }
   ],
   "source": [
    "maxima = df.loc[df[headers[0]]==650]\n",
    "\n",
    "maxima"
   ]
  },
  {
   "cell_type": "markdown",
   "metadata": {},
   "source": [
    "### plot the decay"
   ]
  },
  {
   "cell_type": "code",
   "execution_count": 124,
   "metadata": {},
   "outputs": [
    {
     "data": {
      "image/png": "[encoded data removed]",
      "text/plain": [
       "<Figure size 432x288 with 1 Axes>"
      ]
     },
     "metadata": {
      "needs_background": "light"
     },
     "output_type": "display_data"
    }
   ],
   "source": [
    "maxima_list = []\n",
    "concentration_list = []\n",
    "for col_name in maxima.columns[2:]:\n",
    "     \n",
    "    if \"DDAO\" in col_name:\n",
    "        maxima_list.append(maxima[col_name].values)\n",
    "        concentration_list.append(float(col_name[-4:-3]))\n",
    "        \n",
    "        \n",
    "plt.scatter(concentration_list, np.log(maxima_list), label = 'raw data')\n",
    "a, b = np.polyfit(concentration_list, np.log(maxima_list), 1)\n",
    "\n",
    "plt.plot(concentration_list, a*concentration_list + b, \"k\", label = 'fit a = %0.2e'%a)\n",
    "plt.xlabel(\"time (s)\")\n",
    "plt.ylabel(\"log(absorbance)\")\n",
    "plt.legend()\n",
    "\n",
    "plt.savefig(\"savit.pdf\")"
   ]
  },
  {
   "cell_type": "code",
   "execution_count": 128,
   "metadata": {},
   "outputs": [
    {
     "data": {
      "text/plain": [
       "[<matplotlib.lines.Line2D at 0x187f05ad190>]"
      ]
     },
     "execution_count": 128,
     "metadata": {},
     "output_type": "execute_result"
    },
    {
     "data": {
      "image/png": "[encoded data removed]",
      "text/plain": [
       "<Figure size 432x288 with 1 Axes>"
      ]
     },
     "metadata": {
      "needs_background": "light"
     },
     "output_type": "display_data"
    }
   ],
   "source": [
    "plt.scatter(concentration_list, maxima_list, label = 'raw data')\n",
    "plt.plot(concentration_list, np.exp(a*concentration_list + b), \"k\", label = 'fit')\n"
   ]
  },
  {
   "cell_type": "code",
   "execution_count": 133,
   "metadata": {},
   "outputs": [
    {
     "name": "stdout",
     "output_type": "stream",
     "text": [
      "Unnamed: 1 DDAO_fluo\n"
     ]
    },
    {
     "name": "stderr",
     "output_type": "stream",
     "text": [
      "C:\\Users\\Alienor\\AppData\\Local\\Temp\\ipykernel_16628\\2065987819.py:1: ParserWarning: Falling back to the 'python' engine because the 'c' engine does not support skipfooter; you can avoid this warning by specifying engine='python'.\n",
      "  df2 = pd.read_csv(file2, skiprows = [1], skipfooter = 320, sep = \",\")\n",
      "C:\\Users\\Alienor\\AppData\\Local\\Temp\\ipykernel_16628\\2065987819.py:3: FutureWarning: In a future version of pandas all arguments of DataFrame.set_axis except for the argument 'labels' will be keyword-only.\n",
      "  df2 = df2.set_axis(np.roll(df2.columns, 1), 1) #displace the column name to the neighbouring colum\n"
     ]
    }
   ],
   "source": []
  },
  {
   "cell_type": "code",
   "execution_count": null,
   "metadata": {},
   "outputs": [],
   "source": []
  }
 ],
 "metadata": {
  "kernelspec": {
   "display_name": "Python 3 (ipykernel)",
   "language": "python",
   "name": "python3"
  },
  "language_info": {
   "codemirror_mode": {
    "name": "ipython",
    "version": 3
   },
   "file_extension": ".py",
   "mimetype": "text/x-python",
   "name": "python",
   "nbconvert_exporter": "python",
   "pygments_lexer": "ipython3",
   "version": "3.9.10"
  }
 },
 "nbformat": 4,
 "nbformat_minor": 4
}
