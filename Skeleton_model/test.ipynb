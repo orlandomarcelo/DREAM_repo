from multiprocessing import Pool, cpu_count

import time

In [2]:

# How many cpus we have in the system?

cpu_count()

Out[2]:

16

In [3]:

def f(x):

    print(f'x = {x}, time is {time.time()} s')

    time.sleep(1)

    return x*x

Sequential

In [4]:

if __name__ == '__main__':

    xs = range(6)

    start_time = time.time()

    res = []

    for x in xs:

        r = f(x)

        print(f'x*x = {r}')

        res.append(r)

    print('End of calculation')

    elapsed_time = time.time() - start_time

    print(f'Elapsed time: {elapsed_time} s\nFirst five results: {res}')

x = 0, time is 1679408623.7395551 s

x*x = 0

x = 1, time is 1679408624.7407763 s

x*x = 1

x = 2, time is 1679408625.7418594 s

x*x = 4

x = 3, time is 1679408626.7429292 s

x*x = 9

x = 4, time is 1679408627.7441034 s

x*x = 16

x = 5, time is 1679408628.745224 s

x*x = 25

End of calculation

Elapsed time: 6.006788969039917 s

First five results: [0, 1, 4, 9, 16, 25]

Map (starmap)

Multiple tasks at once, transform iterable in list (can be memory intensive), blocks program execution until all tasks are completed. Obs.: We also have the starmap function that works the same as map, but support multiple arguments as a tuple, for example starmap(f,[(1,2), (3,4), (5,6)])

In [5]:

if __name__ == '__main__':

    xs = range(6)

    start_time = time.time()

    with Pool(processes=3) as p:

        res = p.map(f, xs)

    print('End of calculation')

    elapsed_time = time.time() - start_time

    print(f'Elapsed time: {elapsed_time} s\nFirst five results: {res}')

x = 0, time is 1679408629.7627103 sx = 2, time is 1679408629.7629027 s

 

x = 1, time is 1679408629.7628644 s

x = 3, time is 1679408630.7666757 sx = 4, time is 1679408630.7670069 s

 

x = 5, time is 1679408630.7691898 s

End of calculation

Elapsed time: 2.0253562927246094 s

First five results: [0, 1, 4, 9, 16, 25]

In [6]:

if __name__ == '__main__':

    xs = range(6)

    start_time = time.time()

    res = []

    with Pool(processes=2) as p:

        for r in p.map(f, xs):

            print(f'The result {r} is ready! We can work with it if we want...')

            res.append(r)

    print('End of calculation')

    elapsed_time = time.time() - start_time

    print(f'Elapsed time: {elapsed_time} s\nFirst five results: {res}')

x = 0, time is 1679408631.7901516 sx = 1, time is 1679408631.79023 s

 

x = 2, time is 1679408632.7942967 s

x = 3, time is 1679408632.7963815 s

x = 4, time is 1679408633.7978601 s

x = 5, time is 1679408633.799719 s

The result 0 is ready! We can work with it if we want...

The result 1 is ready! We can work with it if we want...

The result 4 is ready! We can work with it if we want...

The result 9 is ready! We can work with it if we want...

The result 16 is ready! We can work with it if we want...

The result 25 is ready! We can work with it if we want...

End of calculation

Elapsed time: 3.0245113372802734 s

First five results: [0, 1, 4, 9, 16, 25]

Imap

Multiple tasks at once, does not transform iterable in list (pass one argument at a time to each process), does not block program execution, but blocks until the task is completed at the order it was issued (see imap_unordered below to understand the difference with imap_unordered)

In [7]:

if __name__ == '__main__':

    xs = range(6)

    start_time = time.time()

    res = []

    with Pool(processes=2) as p:

        for r in p.imap(f, xs):

            print(f'The result {r} is ready! We can work with it if we want...')

            res.append(r)

    print('End of calculation')

    elapsed_time = time.time() - start_time

    print(f'Elapsed time: {elapsed_time} s\nFirst five results: {res}')

x = 0, time is 1679408634.8208067 sx = 1, time is 1679408634.821054 s

 

x = 2, time is 1679408635.8251107 sx = 3, time is 1679408635.8266456 s

 

The result 0 is ready! We can work with it if we want...

The result 1 is ready! We can work with it if we want...

x = 4, time is 1679408636.8296108 s

x = 5, time is 1679408636.8308337 s

The result 4 is ready! We can work with it if we want...

The result 9 is ready! We can work with it if we want...

The result 16 is ready! We can work with it if we want...

The result 25 is ready! We can work with it if we want...

End of calculation

Elapsed time: 3.0244462490081787 s

First five results: [0, 1, 4, 9, 16, 25]

Map async (starmap_async)

Multiple tasks at once, transform iterable in list (can be memory intensive), does not block until all tasks are completed, but can only be accessed once all tasks are completed. Obs.: As starmap, we also have starmap_async

In [8]:

if __name__ == '__main__':

    xs = range(6)

    start_time = time.time()

    with Pool(processes=2) as p:

        results = p.map_async(f, xs)

        print(f'We can do something while the calculations are being completed...for example....')

        print(f'1+1={1+1}')

        res = []

        print(f'We will now access all the results, but only if they are all ready!')

        for r in results.get():

            res.append(r)

    print('End of calculation')

    elapsed_time = time.time() - start_time

    print(f'Elapsed time: {elapsed_time} s\nFirst five results: {res}')

x = 0, time is 1679408637.8558147 sx = 1, time is 1679408637.8558562 s

 

We can do something while the calculations are being completed...for example....

1+1=2

We will now access all the results, but only if they are all ready!

x = 2, time is 1679408638.8599775 sx = 3, time is 1679408638.8608487 s

 

x = 4, time is 1679408639.8632572 sx = 5, time is 1679408639.8634257 s

 

End of calculation

Elapsed time: 3.023529291152954 s

First five results: [0, 1, 4, 9, 16, 25]

Imap unordered

Multiple tasks at once, does not transform iterable in list (pass one argument at a time to each process), does not block program execution, yield results as soon as they are ready, which can be out of order!

In [9]:

def f(x):

    print(f'x = {x}, time is {time.time()} s')

    if x % 2 == 0:

        wait = 1

    else:

        wait = 3

    print(f'I am waiting for {wait} s')

    time.sleep(wait)

    return x*x

With imap we respect the order...

In [10]:

if __name__ == '__main__':

    xs = range(6)

    start_time = time.time()

    res = []

    with Pool(processes=2) as p:

        for r in p.imap(f, xs):

            print(f'The result {r} is ready! We can work with it if we want...')

            res.append(r)

    print('End of calculation')

    elapsed_time = time.time() - start_time

    print(f'Elapsed time: {elapsed_time} s\nFirst five results: {res}')

x = 1, time is 1679408640.8965042 sx = 0, time is 1679408640.8964593 s

 

I am waiting for 3 sI am waiting for 1 s

 

x = 2, time is 1679408641.9037175 s

I am waiting for 1 s

The result 0 is ready! We can work with it if we want...

x = 3, time is 1679408642.9077373 s

I am waiting for 3 s

x = 4, time is 1679408643.9048488 s

I am waiting for 1 s

The result 1 is ready! We can work with it if we want...

The result 4 is ready! We can work with it if we want...

x = 5, time is 1679408644.9089162 s

I am waiting for 3 s

The result 9 is ready! We can work with it if we want...

The result 16 is ready! We can work with it if we want...

The result 25 is ready! We can work with it if we want...

End of calculation

Elapsed time: 7.030983209609985 s

First five results: [0, 1, 4, 9, 16, 25]

With imap_unordered we don't necessarily respect the order...

In [11]:

if __name__ == '__main__':

    xs = range(6)

    start_time = time.time()

    res = []

    with Pool(processes=2) as p:

        for r in p.imap_unordered(f, xs):

            print(f'The result {r} is ready! We can work with it if we want...')

            res.append(r)

    print('End of calculation')

    elapsed_time = time.time() - start_time

    print(f'Elapsed time: {elapsed_time} s\nFirst five results: {res}')

x = 1, time is 1679408647.933855 sx = 0, time is 1679408647.933824 s

 

I am waiting for 3 sI am waiting for 1 s

 

x = 2, time is 1679408648.94199 s

I am waiting for 1 s

The result 0 is ready! We can work with it if we want...

x = 3, time is 1679408649.946677 s

I am waiting for 3 s

The result 4 is ready! We can work with it if we want...

x = 4, time is 1679408650.9435596 s

I am waiting for 1 s

The result 1 is ready! We can work with it if we want...

x = 5, time is 1679408651.948079 s

I am waiting for 3 s

The result 16 is ready! We can work with it if we want...

The result 9 is ready! We can work with it if we want...

The result 25 is ready! We can work with it if we want...

End of calculation

Elapsed time: 7.035346031188965 s

First five results: [0, 4, 1, 16, 9, 25]

For further details we can refer to https://superfastpython.com/multiprocessing-pool-issue-tasks/, or to the following useful table: table

In [ ]:


 