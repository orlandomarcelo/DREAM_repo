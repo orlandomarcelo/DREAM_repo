{
 "cells": [
  {
   "cell_type": "code",
   "execution_count": 1,
   "id": "f52681f5-03ec-4c23-b7ee-18cfc8523d6e",
   "metadata": {},
   "outputs": [],
   "source": [
    "import numpy as np\n",
    "from scipy.integrate import odeint\n",
    "from ipywidgets import interact, interactive, fixed, interact_manual\n",
    "import ipywidgets as widgets\n",
    "\n",
    "from sympy import solve, Poly, Eq, Function, exp, symbols, lambdify\n",
    "\n",
    "\n",
    "import matplotlib.pyplot as plt\n",
    "%matplotlib inline"
   ]
  },
  {
   "cell_type": "markdown",
   "id": "91d4d7bb-79cb-4992-84a2-6dc1009ef354",
   "metadata": {},
   "source": [
    "# Photosynthesis models"
   ]
  },
  {
   "cell_type": "code",
   "execution_count": 2,
   "id": "670bfeed-0fba-49f5-a55c-cc6e2c0817d2",
   "metadata": {},
   "outputs": [],
   "source": [
    "t = np.linspace(0, 0.2, 10000)\n",
    "sa = 1.33 #section d'absorption\n",
    "tf = 1e-12\n",
    "ks = 1e5\n",
    "I = 1000 #intensite\n",
    "\n",
    "k1 =  tf*ks/(1+tf*ks)#fluo\n",
    "\n",
    "k2 = 3.4e6\n",
    "k3 = 1.56e5\n",
    "km3 = 3.12e4\n",
    "k4 = 50.0\n",
    "X = 17.5\n",
    "D = 2.5\n",
    "\n",
    "y0 = [D, 0, 0, X]"
   ]
  },
  {
   "cell_type": "markdown",
   "id": "a3a02ee9-9d57-4ae8-9f8c-46183474b641",
   "metadata": {},
   "source": [
    "### Modèle Ludovic"
   ]
  },
  {
   "cell_type": "markdown",
   "id": "dc75471a-c12f-4bf8-a766-64147d2f1b7b",
   "metadata": {},
   "source": [
    "$y = [A, B, C, P]$\n",
    "\n",
    "On introduit $k_1 = \\frac{k_s \\tau_F}{1 + k_s \\tau_F}\\sigma I$\n",
    "\n",
    "\n",
    "(a) $\\frac{\\partial [A_1]}{\\partial t} = - k_1[A_1] + k_3^+[A_3][P] - k_3^-[A_1](X-[P])$  \n",
    "(b) $\\frac{\\partial [A_2]}{\\partial t} = k_1[A_1] - k_2[A_2]$  \n",
    "(c) $\\frac{\\partial [A_3]}{\\partial t} = k_2[A_2] - k_3^+[A_3][P] + k_3^-[A_1](X-[P])$   \n",
    "(d) $\\frac{\\partial [P]}{\\partial t} = - k_3^+[A_3][P] + k_3^-[A_1](X-[P]) + k_4(X-[P])$   \n",
    "(e) $D = [A_1] + [A_2] + [A_3]$  \n"
   ]
  },
  {
   "cell_type": "code",
   "execution_count": 3,
   "id": "f9576623-8802-404a-8e1e-5298ff580293",
   "metadata": {},
   "outputs": [],
   "source": [
    "def system_direct(y, t, sa, I, k2, km3, k3, k4, k1, X, D):\n",
    "    sens_plus = k3 * y[2] * y[3]\n",
    "    sens_moins = km3* y[0]*(X-y[3])\n",
    "    chaine = k4 * (X - y[3])\n",
    "    excitation = sa* I * k1 * (D - y[1] - y[2])\n",
    "    reduction_eau = k2 * y[1]\n",
    "    dA = -excitation + sens_plus - sens_moins\n",
    "    dB = excitation  - reduction_eau\n",
    "    dC = - sens_plus + sens_moins + reduction_eau\n",
    "    dP = -sens_plus + sens_moins + chaine\n",
    "    return [dA, dB, dC, dP]\n"
   ]
  },
  {
   "cell_type": "markdown",
   "id": "5fd1877a-1188-446f-92ec-6d0da38d8d5e",
   "metadata": {},
   "source": [
    "### Modèle inverse"
   ]
  },
  {
   "cell_type": "markdown",
   "id": "8f70236f-ceb9-411c-a8b0-d5e2f72df82d",
   "metadata": {},
   "source": [
    "(a) $\\frac{\\partial [A_1]}{\\partial t} = - k_1[A_1] + k_2[A_2]$  \n",
    "(b) $\\frac{\\partial [A_3]}{\\partial t} = k_1[A_1] - k_3^+[A_3][P] + k_3^-[A_2](X-[P])$  \n",
    "(c) $\\frac{\\partial [A_2]}{\\partial t} = -k_2[A_2] + k_3^+[A_3][P] - k_3^-[A_2](X-[P])$   \n",
    "(d) $\\frac{\\partial [P]}{\\partial t} = - k_3^+[A_3][P] + k_3^-[A_2](X-[P]) + k_4(X-[P])$   \n",
    "(e) $D = [A_1] + [A_2] + [A_3]$  \n"
   ]
  },
  {
   "cell_type": "code",
   "execution_count": 4,
   "id": "bc8e117f-3b3b-4514-9af2-474ab4bdcd34",
   "metadata": {},
   "outputs": [],
   "source": [
    "def system_inverse(y, t, sa, I, k2, km3, k3, k4, k1, X, D):\n",
    "    sens_plus = k3 * y[2] * y[3]\n",
    "    sens_moins = km3* y[0]*(X-y[3])\n",
    "    chaine = k4 * (X - y[3])\n",
    "    excitation = sa* I * k1 * (D - y[1] - y[2])\n",
    "    reduction_eau = k2 * y[1]\n",
    "    dA = -excitation + reduction_eau\n",
    "    dB = excitation  - sens_plus + sens_moins\n",
    "    dC =  sens_plus - sens_moins - reduction_eau\n",
    "    dP = -sens_plus + sens_moins + chaine\n",
    "    return [dA, dB, dC, dP]\n"
   ]
  },
  {
   "cell_type": "code",
   "execution_count": 5,
   "id": "f15732a2-788f-4a7d-b771-adafefcb0292",
   "metadata": {},
   "outputs": [],
   "source": [
    "\n",
    "#yout = odeint(system_inverse, y0, t, args = (sa, I, k2, km3, k3, k4, k1, X, D))  # EXERCISE: rhs, y0, tout, k_vals\n",
    "#plt.plot(t, yout)\n",
    "#_ = plt.legend(['A', 'B', 'C', 'P'])"
   ]
  },
  {
   "cell_type": "code",
   "execution_count": 14,
   "id": "e0e57e83-50ba-47cb-9db1-fc7378620cde",
   "metadata": {},
   "outputs": [
    {
     "data": {
      "text/plain": [
       "Text(0, 0.5, '[P680*]')"
      ]
     },
     "execution_count": 14,
     "metadata": {},
     "output_type": "execute_result"
    },
    {
     "data": {
      "image/png": "[encoded data removed]",
      "text/plain": [
       "<Figure size 432x288 with 1 Axes>"
      ]
     },
     "metadata": {
      "needs_background": "light"
     },
     "output_type": "display_data"
    }
   ],
   "source": [
    "for i in range(0,70):\n",
    "    I = 1.1**i\n",
    "    k_fact = sa*I*k1\n",
    "    yout = odeint(system_direct, y0, t, args = (sa, I, k2, km3, k3, k4, k1, X, D))  # EXERCISE: rhs, y0, tout, k_vals\n",
    "    #plt.plot(t, yout[:,1], label = 2**i)\n",
    "    A1 = yout[0][-1]\n",
    "    plt.plot(I, A1, '.')\n",
    "plt.xlabel(\"Intensité µeins/m²/s\")\n",
    "plt.ylabel(\"[P680*]\")\n",
    "#plt.legend()"
   ]
  },
  {
   "cell_type": "code",
   "execution_count": 85,
   "id": "773fdfbe-3a11-4e08-92be-4277d9739053",
   "metadata": {},
   "outputs": [
    {
     "data": {
      "text/plain": [
       "10000"
      ]
     },
     "execution_count": 85,
     "metadata": {},
     "output_type": "execute_result"
    }
   ],
   "source": [
    "len(I*k_fact*A1)"
   ]
  },
  {
   "cell_type": "markdown",
   "id": "a1f9ce77-35b9-4ce3-a83e-6467abff2eaf",
   "metadata": {},
   "source": [
    "# Model Ebenhoh + fluo"
   ]
  },
  {
   "cell_type": "code",
   "execution_count": 15,
   "id": "91425daa-0216-48d0-8f1e-11903200351c",
   "metadata": {},
   "outputs": [],
   "source": [
    "ks = symbols('k_s')\n",
    "tf = symbols('t_f')\n",
    "k2 = symbols('k_2')\n",
    "s = symbols('\\sigma')\n",
    "I = symbols('I')\n",
    "k3p = symbols('k_3^+')\n",
    "k3m = symbols('k_3^-')\n",
    "k4 = symbols('k_4')\n",
    "D = symbols('D')\n",
    "X = symbols('X')\n",
    "P = symbols(\"P\")\n",
    "\n",
    "k1 = s*I*(ks*tf/(1 + ks*tf))\n",
    "alpha = k3p *k4 *(1/k1 + 1/k2)\n",
    "beta = k3m*k4/k1\n",
    "[u, v] = solve(P**2*(alpha-beta) + P*(k3p*D - alpha * X + 2*beta*X - k4) - beta*X**2 - k4*X, P)\n",
    "model = lambdify([ks, tf, k2, s, k3p, k3m, I, k4, D, X], v)\n",
    "def model_ludovic(ks, tf, k2, s, k3p, k3m, k4, D, X):\n",
    "    val_I = 10**np.linspace(0, 5, 1000)\n",
    "    P_concentration = model(10**ks, 10**-tf, 10**k2, 10**s, 10**k3p, 10**k3m, val_I, 10**k4, 10**D, X)\n",
    "    print(P_concentration.max())\n",
    "    plt.plot(val_I, val_I*(P_concentration.max() - P_concentration))\n",
    "    plt.show()"
   ]
  },
  {
   "cell_type": "code",
   "execution_count": 16,
   "id": "71ee0eb2-0682-471c-bc65-0b92eee7bb98",
   "metadata": {},
   "outputs": [
    {
     "data": {
      "text/latex": [
       "$\\displaystyle \\frac{0.000384615384615385 \\left(1300.0 I + 1.0000001 \\cdot 10^{16} \\sqrt{6.92899861420021 \\cdot 10^{-25} I^{2} + 4.93999950600005 \\cdot 10^{-12} I + 1} - 1.0000001 \\cdot 10^{16}\\right)}{I}$"
      ],
      "text/plain": [
       "0.000384615384615385*(1300.0*I + 1.0000001e+16*sqrt(6.92899861420021e-25*I**2 + 4.93999950600005e-12*I + 1) - 1.0000001e+16)/I"
      ]
     },
     "execution_count": 16,
     "metadata": {},
     "output_type": "execute_result"
    }
   ],
   "source": [
    "v.subs({ks:1e5, tf:1e-12, k2:1e5,s:1.3,k3p:1e5,k3m:1e5,k4:1e5,D:10,X:10})"
   ]
  },
  {
   "cell_type": "code",
   "execution_count": 7,
   "id": "e890a75f-87c7-4558-a302-3b5e802747ad",
   "metadata": {},
   "outputs": [],
   "source": [
    "#interact(model_ludovic, ks = (0, 6), tf = (8, 15), k2 = (0, 6), s = (0, 6), k3p = (0, 6), k3m = (0, 6), k4 = (0, 6), D = (0, 6), X = (0, 6))\n",
    "\n"
   ]
  },
  {
   "cell_type": "markdown",
   "id": "c3af2260-0d87-44a1-a28e-3cea0f2a1250",
   "metadata": {},
   "source": [
    "# Model Ebenhoh inversé"
   ]
  },
  {
   "cell_type": "code",
   "execution_count": 17,
   "id": "f3ca2d30-7449-40f0-be87-e40542cc6607",
   "metadata": {},
   "outputs": [],
   "source": [
    "ks = symbols('k_s')\n",
    "tf = symbols('t_f')\n",
    "k2 = symbols('k_2')\n",
    "s = symbols('\\sigma')\n",
    "I = symbols('I')\n",
    "k3p = symbols('k_3^+')\n",
    "k3m = symbols('k_3^-')\n",
    "k4 = symbols('k_4')\n",
    "D = symbols('D')\n",
    "X = symbols('X')\n",
    "P = symbols(\"P\")\n",
    "\n",
    "k1 = s*I*(ks*tf/(1 + ks*tf))\n",
    "alpha = k3p *k4 *(1/k1 + 1/k2)\n",
    "beta = k3m*k4/k2\n",
    "[u, v2] = solve(P**2*(alpha-beta) + P*(k3p*D - alpha * X + 2*beta*X - k4) - beta*X**2 - k4*X, P)\n",
    "model2 = lambdify([ks, tf, k2, s, k3p, k3m, I, k4, D, X], v2)\n",
    "def model_inverse(ks, tf, k2, s, k3p, k3m, k4, D, X):\n",
    "    val_I = 10**np.linspace(0, 5, 1000)\n",
    "    P_concentration = model2(10**ks, 10**-tf, 10**k2, 10**s, 10**k3p, 10**k3m, val_I, 10**k4, 10**D, X)\n",
    "    print(P_concentration.max())\n",
    "    plt.plot(val_I, val_I*(P_concentration.max() - P_concentration))\n",
    "    plt.show()"
   ]
  },
  {
   "cell_type": "code",
   "execution_count": 18,
   "id": "01ea4a11-659c-481e-89ec-86df7c5d6d0d",
   "metadata": {},
   "outputs": [
    {
     "data": {
      "text/latex": [
       "$\\displaystyle - 1.23499987650001 \\cdot 10^{-11} I + 5.0 \\sqrt{6.10089877982018 \\cdot 10^{-24} I^{2} + 7.79999922000008 \\cdot 10^{-13} I + 1} + 5.0$"
      ],
      "text/plain": [
       "-1.23499987650001e-11*I + 5.0*sqrt(6.10089877982018e-24*I**2 + 7.79999922000008e-13*I + 1) + 5.0"
      ]
     },
     "execution_count": 18,
     "metadata": {},
     "output_type": "execute_result"
    }
   ],
   "source": [
    "v2.subs({ks:1e5, tf:1e-12, k2:1e5,s:1.3,k3p:1e5,k3m:1e5,k4:1e5,D:10,X:10})"
   ]
  },
  {
   "cell_type": "code",
   "execution_count": 10,
   "id": "6b980990-6908-4682-ba46-6dba8eacb977",
   "metadata": {},
   "outputs": [],
   "source": [
    "#interact(model_inverse, ks = (0, 6), tf = (8, 15), k2 = (0, 6), s = (0, 6), k3p = (0, 6), k3m = (0, 6), k4 = (0, 6), D = (0, 6), X = (0, 6))\n"
   ]
  },
  {
   "cell_type": "code",
   "execution_count": 19,
   "id": "03f997db-6039-4912-9f9e-9d15ea70923b",
   "metadata": {},
   "outputs": [
    {
     "data": {
      "text/plain": [
       "<matplotlib.legend.Legend at 0x2384683bb80>"
      ]
     },
     "execution_count": 19,
     "metadata": {},
     "output_type": "execute_result"
    },
    {
     "data": {
      "image/png": "[encoded data removed]",
      "text/plain": [
       "<Figure size 432x288 with 1 Axes>"
      ]
     },
     "metadata": {
      "needs_background": "light"
     },
     "output_type": "display_data"
    }
   ],
   "source": [
    "ks = 1e3\n",
    "tf = 1e-15\n",
    "k2 = 3e6\n",
    "s = 1.3\n",
    "k3p = 1e5\n",
    "k3m = 3e4\n",
    "k4 = 50\n",
    "X = 17.5\n",
    "D = 2.5\n",
    "#k1 = s*I*(ks*tf/(1 + ks*tf))\n",
    "v2.subs({ks:ks, tf:tf, k2:k2,s:s,k3p:k3p,k3m:k3m,k4:k4,D:D,X:X})\n",
    "val_I = 10**np.linspace(0, 15, 1000)\n",
    "\n",
    "P_concentration2 = model2(ks,tf, k2, s, k3p, k3m, val_I, k4, D, X)\n",
    "plt.plot(val_I, (P_concentration2.max() - P_concentration2), label = \"modèle inverse\")\n",
    "P_concentration = model(ks,tf, k2, s, k3p, k3m, val_I, k4, D, X)\n",
    "plt.plot(val_I, (P_concentration.max() - P_concentration), label = \"model Ludovic\")\n",
    "plt.xlabel(\"light intensity\")\n",
    "plt.ylabel('fluorescence intensity')\n",
    "plt.title(\"P concentration\")\n",
    "plt.legend()"
   ]
  },
  {
   "cell_type": "code",
   "execution_count": null,
   "id": "62b8db8a-385c-499f-b0f4-f0774fd35003",
   "metadata": {},
   "outputs": [],
   "source": []
  },
  {
   "cell_type": "code",
   "execution_count": 21,
   "id": "0644b6fd-a71b-4efa-a0b6-31ad3f9f6853",
   "metadata": {},
   "outputs": [
    {
     "data": {
      "text/plain": [
       "<matplotlib.legend.Legend at 0x238468e9f70>"
      ]
     },
     "execution_count": 21,
     "metadata": {},
     "output_type": "execute_result"
    },
    {
     "data": {
      "image/png": "[encoded data removed]",
      "text/plain": [
       "<Figure size 432x288 with 1 Axes>"
      ]
     },
     "metadata": {
      "needs_background": "light"
     },
     "output_type": "display_data"
    }
   ],
   "source": [
    "val_I = 10**np.linspace(0, 5, 1000)\n",
    "P_concentration = model(ks,tf, k2, s, k3p, k3m, val_I, k4, D, X)\n",
    "\n",
    "A1_1 = k4/(s*val_I*ks*tf/(1 + ks*tf))*(X-P_concentration)\n",
    "plt.plot(val_I, A1_1, label = \"model Ludovic\")\n",
    "\n",
    "P_concentration2 = model2(ks,tf, k2, s, k3p, k3m, val_I, k4, D, X)\n",
    "\n",
    "A1_2 = k4/k2*(X-P_concentration2)\n",
    "plt.plot(val_I, A1_2, label = \"modèle inverse\")\n",
    "plt.xlabel(\"light intensity\")\n",
    "plt.ylabel('[A1]')\n",
    "plt.title(\"A1 concentration\")\n",
    "plt.legend()"
   ]
  },
  {
   "cell_type": "code",
   "execution_count": 22,
   "id": "2b54f1ce-1548-48b4-a669-d9198be8fd2c",
   "metadata": {},
   "outputs": [
    {
     "data": {
      "text/plain": [
       "<matplotlib.legend.Legend at 0x2384696ea30>"
      ]
     },
     "execution_count": 22,
     "metadata": {},
     "output_type": "execute_result"
    },
    {
     "data": {
      "image/png": "[encoded data removed]",
      "text/plain": [
       "<Figure size 432x288 with 1 Axes>"
      ]
     },
     "metadata": {
      "needs_background": "light"
     },
     "output_type": "display_data"
    }
   ],
   "source": [
    "val_I = 10**np.linspace(0, 5, 1000)\n",
    "P_concentration = model(ks,tf, k2, s, k3p, k3m, val_I, k4, D, X)\n",
    "A1_1 = k4/(s*val_I*ks*tf/(1 + ks*tf))*(X-P_concentration)\n",
    "\n",
    "A2_1 = (s*val_I*ks*tf/(1 + ks*tf))/k2*A1_1\n",
    "plt.plot(val_I, A2_1, label = \"model Ludovic\")\n",
    "P_concentration2 = model2(ks,tf, k2, s, k3p, k3m, val_I, k4, D, X)\n",
    "A1_2 = k4/k2*(X-P_concentration2)\n",
    "\n",
    "A2_2 = (s*val_I*ks*tf/(1 + ks*tf))/k2*A1_2\n",
    "plt.plot(val_I, A2_2, label = \"modèle inverse\")\n",
    "plt.xlabel(\"light intensity\")\n",
    "plt.ylabel('[A2]')\n",
    "plt.title(\"A2 concentration\")\n",
    "plt.legend()"
   ]
  },
  {
   "cell_type": "code",
   "execution_count": 23,
   "id": "a2d63a3b-c8c7-4a09-abd7-c86cdc0546dd",
   "metadata": {},
   "outputs": [
    {
     "name": "stderr",
     "output_type": "stream",
     "text": [
      "<ipython-input-23-6cf08a2133a8>:3: RuntimeWarning: divide by zero encountered in true_divide\n",
      "  A1_1 = k4/(s*val_I*ks*tf/(1 + ks*tf))*(X-P_concentration)\n",
      "<ipython-input-23-6cf08a2133a8>:5: RuntimeWarning: invalid value encountered in multiply\n",
      "  A2_1 = (s*val_I*ks*tf/(1 + ks*tf))/k2*A1_1\n"
     ]
    },
    {
     "data": {
      "text/plain": [
       "<matplotlib.legend.Legend at 0x238469d2c70>"
      ]
     },
     "execution_count": 23,
     "metadata": {},
     "output_type": "execute_result"
    },
    {
     "data": {
      "image/png": "[encoded data removed]",
      "text/plain": [
       "<Figure size 432x288 with 1 Axes>"
      ]
     },
     "metadata": {
      "needs_background": "light"
     },
     "output_type": "display_data"
    }
   ],
   "source": [
    "val_I = np.linspace(0, 5000000, 1000)\n",
    "P_concentration = model(ks,tf, k2, s, k3p, k3m, val_I, k4, D, X)\n",
    "A1_1 = k4/(s*val_I*ks*tf/(1 + ks*tf))*(X-P_concentration)\n",
    "\n",
    "A2_1 = (s*val_I*ks*tf/(1 + ks*tf))/k2*A1_1\n",
    "plt.plot(val_I, D-A2_1-A1_1, label = \"model Ludovic\")\n",
    "P_concentration2 = model2(ks,tf, k2, s, k3p, k3m, val_I, k4, D, X)\n",
    "A1_2 = k4/k2*(X-P_concentration2)\n",
    "\n",
    "A2_2 = (s*val_I*ks*tf/(1 + ks*tf))/k2*A1_2\n",
    "plt.plot(val_I, D-A1_2-A2_2, label = \"modèle inverse\")\n",
    "plt.xlabel(\"light intensity\")\n",
    "plt.ylabel('[A3]')\n",
    "plt.title(\"A3 concentration\")\n",
    "plt.legend()"
   ]
  },
  {
   "cell_type": "code",
   "execution_count": 27,
   "id": "17d0d5fe-d5ff-4b66-b13a-e3af1c2904ea",
   "metadata": {},
   "outputs": [
    {
     "name": "stderr",
     "output_type": "stream",
     "text": [
      "<ipython-input-27-03f224ec657a>:3: RuntimeWarning: divide by zero encountered in true_divide\n",
      "  A1_1 = k4/(s*val_I*ks*tf/(1 + ks*tf))*(X-P_concentration)\n",
      "<ipython-input-27-03f224ec657a>:5: RuntimeWarning: invalid value encountered in multiply\n",
      "  A1s_1 = s*val_I*ks*tf/(1 + ks*tf)*A1_1\n"
     ]
    },
    {
     "data": {
      "text/plain": [
       "<matplotlib.legend.Legend at 0x23846ac60a0>"
      ]
     },
     "execution_count": 27,
     "metadata": {},
     "output_type": "execute_result"
    },
    {
     "data": {
      "image/png": "[encoded data removed]",
      "text/plain": [
       "<Figure size 432x288 with 1 Axes>"
      ]
     },
     "metadata": {
      "needs_background": "light"
     },
     "output_type": "display_data"
    }
   ],
   "source": [
    "val_I = np.linspace(0, 5000000, 1000)\n",
    "P_concentration = model(ks,tf, k2, s, k3p, k3m, val_I, k4, D, X)\n",
    "A1_1 = k4/(s*val_I*ks*tf/(1 + ks*tf))*(X-P_concentration)\n",
    "\n",
    "A1s_1 = s*val_I*ks*tf/(1 + ks*tf)*A1_1\n",
    "F_1 = A1s_1/tf\n",
    "plt.plot(val_I, F_1, label = \"model Ludovic\")\n",
    "P_concentration2 = model2(ks,tf, k2, s, k3p, k3m, val_I, k4, D, X)\n",
    "A1_2 = k4/k2*(X-P_concentration2)\n",
    "\n",
    "A1s_2 = s*val_I*ks*tf/(1 + ks*tf)*A1_2\n",
    "F_2 = A1s_2/tf\n",
    "plt.plot(val_I, F_2, label = \"modèle inverse\")\n",
    "plt.xlabel(\"light intensity\")\n",
    "plt.ylabel('[A3]')\n",
    "plt.title(\"A3 concentration\")\n",
    "plt.legend()"
   ]
  },
  {
   "cell_type": "code",
   "execution_count": null,
   "id": "df0e5154-a563-428d-a777-ba335c7c9052",
   "metadata": {},
   "outputs": [],
   "source": []
  }
 ],
 "metadata": {
  "kernelspec": {
   "display_name": "Python 3",
   "language": "python",
   "name": "python3"
  },
  "language_info": {
   "codemirror_mode": {
    "name": "ipython",
    "version": 3
   },
   "file_extension": ".py",
   "mimetype": "text/x-python",
   "name": "python",
   "nbconvert_exporter": "python",
   "pygments_lexer": "ipython3",
   "version": "3.8.10"
  }
 },
 "nbformat": 4,
 "nbformat_minor": 5
}
