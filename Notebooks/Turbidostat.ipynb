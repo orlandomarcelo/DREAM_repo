{
 "cells": [
  {
   "cell_type": "code",
   "execution_count": 7,
   "id": "3c8ad754",
   "metadata": {},
   "outputs": [],
   "source": [
    "import numpy as np\n",
    "import pandas as pd\n",
    "import matplotlib.pyplot as plt\n",
    "%matplotlib widget\n",
    "\n",
    "import importlib\n",
    "import os\n",
    "import sys\n",
    "\n",
    "module_path = os.path.abspath(os.path.join('..'))\n",
    "if module_path not in sys.path:\n",
    "    sys.path.append(module_path)\n",
    "    \n",
    "import ExperimentClass"
   ]
  },
  {
   "cell_type": "code",
   "execution_count": 8,
   "id": "b7a414cf",
   "metadata": {},
   "outputs": [],
   "source": [
    "importlib.reload(ExperimentClass)\n",
    "turbido_data = ExperimentClass.Experiment(\"20230314_croissance_WT_cw-37\", \"Turbidostat\", DataType=\".csv\", diff_xaxis=True)"
   ]
  },
  {
   "cell_type": "code",
   "execution_count": 12,
   "id": "ec868259",
   "metadata": {},
   "outputs": [
    {
     "data": {
      "text/plain": [
       "[]"
      ]
     },
     "execution_count": 12,
     "metadata": {},
     "output_type": "execute_result"
    }
   ],
   "source": [
    "turbido_data.keys"
   ]
  },
  {
   "cell_type": "code",
   "execution_count": null,
   "id": "6e20b72d",
   "metadata": {},
   "outputs": [],
   "source": []
  }
 ],
 "metadata": {
  "kernelspec": {
   "display_name": "Python 3 (ipykernel)",
   "language": "python",
   "name": "python3"
  },
  "language_info": {
   "codemirror_mode": {
    "name": "ipython",
    "version": 3
   },
   "file_extension": ".py",
   "mimetype": "text/x-python",
   "name": "python",
   "nbconvert_exporter": "python",
   "pygments_lexer": "ipython3",
   "version": "3.9.12"
  }
 },
 "nbformat": 4,
 "nbformat_minor": 5
}
