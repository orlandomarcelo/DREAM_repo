{
 "cells": [
  {
   "cell_type": "code",
   "execution_count": 9,
   "metadata": {},
   "outputs": [
    {
     "name": "stdout",
     "output_type": "stream",
     "text": [
      "Found model '2D_demo' for 'StarDist2D'.\n",
      "Loading network weights from 'weights_best.h5'.\n",
      "Loading thresholds from 'thresholds.json'.\n",
      "Using default values: prob_thresh=0.486166, nms_thresh=0.5.\n"
     ]
    }
   ],
   "source": [
    "#image analysis\n",
    "import sys\n",
    "import os\n",
    "sys.path.append(os.path.abspath('../../'))\n",
    "\n",
    "from matplotlib import cm\n",
    "\n",
    "try:\n",
    "    os.mkdir(\"logs\")\n",
    "except:\n",
    "    pass\n",
    "\n",
    "\n",
    "import skimage.io\n",
    "import imageio\n",
    "import alienlab.plot\n",
    "from alienlab.improcessing import normalize, grey_to_rgb, make_binary\n",
    "import alienlab.segment\n",
    "from alienlab.fo import FramesOperator\n",
    "import alienlab.io\n",
    "from scipy import optimize\n",
    "import glob\n",
    "from alienlab.regression_func import *\n",
    "import copy\n",
    "from VoltageIntensityClass import VoltageIntensity\n",
    "from tqdm import tqdm\n",
    "\n",
    "from joblib.externals.loky import set_loky_pickler\n",
    "from joblib import parallel_backend\n",
    "from joblib import Parallel, delayed\n",
    "from joblib import wrap_non_picklable_objects\n",
    "from skimage.transform import resize\n",
    "\n",
    "import mvgavg\n",
    "\n",
    "import scipy\n",
    "\n",
    "import tifffile as tiff\n",
    "\n",
    "#interactive widget packages\n",
    "from ipywidgets import interact, interactive, fixed, interact_manual\n",
    "from tkinter.filedialog import askopenfilename, askdirectory\n",
    "\n",
    "from VoltageIntensityClass import VoltageIntensity\n",
    "\n",
    "\n",
    "from stardist import random_label_cmap, _draw_polygons, export_imagej_rois\n",
    "from stardist.models import StarDist2D\n",
    "from csbdeep.utils import Path, normalize\n",
    "model = StarDist2D.from_pretrained('2D_demo')\n",
    "\n",
    "\n",
    "import time\n",
    "import os\n",
    "import numpy as np\n",
    "import matplotlib.pyplot as plt\n",
    "import random\n",
    "import pandas as pd\n",
    "\n",
    "%matplotlib ipympl\n",
    "import matplotlib.pyplot as plt\n",
    "import numpy as np\n",
    "import ipywidgets as wdg  # Using the ipython notebook widgets\n",
    "from alienlab.regression_func import platt, residuals\n",
    "from alienlab.utils import clip\n",
    "from alienlab.segment import uniform_mask, label_to_data\n",
    "from alienlab.widget import click_to_graph\n",
    "#%matplotlib inline\n",
    "\n",
    "\n",
    "from mvgavg import mvgavg\n",
    "\n",
    "\n",
    "def get_fit(decay, time, give_y = False): \n",
    "    \n",
    "    time = time - time[0]\n",
    "\n",
    "    time_spread = time.max()-time.min()\n",
    "    start = np.mean(decay[0])\n",
    "    stop = np.mean(decay[-5:])\n",
    "    #if len(decay)<15:\n",
    "    #    x0 = [start, time_spread/10, stop]\n",
    "    #else:\n",
    "    x0 = [start, time_spread, stop]\n",
    "\n",
    "    parameters_estimated = optimize.least_squares(residuals,  x0, bounds = (-1e8,1e8),\n",
    "                                args = (time, decay, exp_decay))\n",
    "    \n",
    "    if give_y:\n",
    "        return np.array(parameters_estimated.x), exp_decay(parameters_estimated.x, time)\n",
    "    else:\n",
    "        return np.array(parameters_estimated.x)\n",
    "    \n",
    "def make_fit(decay, time_array):\n",
    "    plt.figure()\n",
    "    params, ypred = get_fit(decay, time_array, give_y = True)\n",
    "    plt.plot(time_array, ypred, label = params[1])\n",
    "    plt.plot(time_array, decay, '.')\n",
    "    plt.xlabel(\"time(s)\")\n",
    "    plt.ylabel(\"fluorescence\")\n",
    "    plt.legend()\n",
    "    \n",
    "p = alienlab.plot.PlotFigure()\n"
   ]
  },
  {
   "cell_type": "code",
   "execution_count": 10,
   "metadata": {},
   "outputs": [
    {
     "data": {
      "text/plain": [
       "'.'"
      ]
     },
     "execution_count": 10,
     "metadata": {},
     "output_type": "execute_result"
    }
   ],
   "source": [
    "#file_path = \"ENTER NAME OF THE FILE YOU DROPPED IN THE FILE SECTION HERE\" \n",
    "file_folder = \".\"#askdirectory(title = 'Select an experiment folder', initialdir=\"G:/DREAM/from_github/PAMFluo/Experiments\")  # pops up a window to select your file \n",
    "# uncomment this line if you use this jupyter notebook locally\n",
    "#'G:/DREAM/from_github/PAMFluo/Experiments/2021-06-24_12_12_Ek_video'\n",
    "file_folder"
   ]
  },
  {
   "cell_type": "code",
   "execution_count": 20,
   "metadata": {},
   "outputs": [],
   "source": [
    "\n",
    "\n",
    "# Initialize plotting tools\n",
    "g = alienlab.plot.ShowFigure()\n",
    "g.figsize = (15,7)\n",
    "g.save_folder = \"images\"\n",
    "g.date = False\n",
    "p = alienlab.plot.PlotFigure()\n",
    "p.figsize = (15,7)\n",
    "p.save_folder = \"images\"\n",
    "p.date = False\n",
    "\n",
    "def predict_labels(image):\n",
    "    axis_norm = (0,1)   # normalize channels independently\n",
    "    lbl_cmap = random_label_cmap()\n",
    "    img = normalize(image, 1,99.9, axis=axis_norm)\n",
    "    labels, details = model.predict_instances(img)\n",
    "    return labels\n",
    "\n",
    "def label_to_data(mask, FO):\n",
    "    # Item time trajectories with overlaps\n",
    "    # create a dictionnary with one entry for each item:\n",
    "    '''\n",
    "    { '1.0': {'x_coords': np array, x coordinates in HQ}\n",
    "                'y_coords': np array,  y coordinates in HQ\n",
    "                'binned_coords': set, couples of (x,y) coordinates in binned video\n",
    "                'surface': number of pixels in the item in HQ\n",
    "                'pixel_values': array, size: (N, s) where N is number of frames and s surface\n",
    "                'mean': array, size N, mean value of the item intensity for each frame\n",
    "                'std':  array, size N, std value of the item intensity for each frame\n",
    "                'remains' : True, the item is present in this segmentation step\n",
    "                }\n",
    "    '2.0': {'x_coords'...\n",
    "                    }\n",
    "        }\n",
    "    '''\n",
    "    segmented = mask\n",
    "    items = np.unique(segmented) #returns the set of values in items, corresponds to the values of the markers of local_maxima\n",
    "\n",
    "    items_dict = {}\n",
    "    for k in tqdm(items):\n",
    "        x_coords, y_coords = np.nonzero(segmented == k)\n",
    "        pixel_values = FO.frames[:,x_coords, y_coords]\n",
    "\n",
    "        key = str(k)\n",
    "        items_dict[key] = {}\n",
    "        items_dict[key]['x_coords'] = x_coords\n",
    "        items_dict[key]['y_coords'] = y_coords\n",
    "        items_dict[key]['pixel_values'] = pixel_values\n",
    "        items_dict[key]['surface'] = pixel_values.shape[1]\n",
    "        items_dict[key]['mean'] = np.mean(pixel_values, axis = 1)\n",
    "        items_dict[key]['std'] = np.std(pixel_values, axis = 1)\n",
    "        items_dict[key]['remains'] = True\n",
    "\n",
    "    return items_dict\n",
    "    \n"
   ]
  },
  {
   "cell_type": "code",
   "execution_count": 21,
   "metadata": {},
   "outputs": [],
   "source": [
    "def init_image(file_path):\n",
    "    frames_full = skimage.io.imread(file_path)\n",
    "\n",
    "    #frames_full = np.stack([frames_full[:,:,1]]*10, 0) \n",
    "    #uncomment this line if you have a single RGB image. The [:,:,1] stands for selection of the green channel\n",
    "\n",
    "    FO = FramesOperator(frames_full)\n",
    "    im = normalize(FO.frames[0], 0, 1)\n",
    "    im = grey_to_rgb(im)*255\n",
    "    #FO.compute_stats()\n",
    "\n",
    "    # CROP\n",
    "    #y, x = alienlab.io.select_roi(np.uint8(im)) #select area of interest\n",
    "\n",
    "    FO.x = 100, 800\n",
    "    FO.y = 100, 800\n",
    "    #FO.crop() #crop image\n",
    "    return FO"
   ]
  },
  {
   "cell_type": "code",
   "execution_count": 26,
   "metadata": {},
   "outputs": [
    {
     "name": "stdout",
     "output_type": "stream",
     "text": [
      "yo0\n",
      "yo1\n"
     ]
    },
    {
     "name": "stderr",
     "output_type": "stream",
     "text": [
      "100%|██████████████████████████████████████████████████████████████████████████████████| 15/15 [00:06<00:00,  2.34it/s]\n"
     ]
    },
    {
     "name": "stdout",
     "output_type": "stream",
     "text": [
      "yo2\n",
      "yo3\n",
      "14\n",
      "yo0\n",
      "yo1\n"
     ]
    },
    {
     "name": "stderr",
     "output_type": "stream",
     "text": [
      "100%|██████████████████████████████████████████████████████████████████████████████████| 15/15 [00:06<00:00,  2.47it/s]\n"
     ]
    },
    {
     "name": "stdout",
     "output_type": "stream",
     "text": [
      "yo2\n",
      "yo3\n",
      "14\n",
      "yo0\n",
      "yo1\n"
     ]
    },
    {
     "name": "stderr",
     "output_type": "stream",
     "text": [
      "100%|██████████████████████████████████████████████████████████████████████████████████| 15/15 [00:06<00:00,  2.47it/s]\n"
     ]
    },
    {
     "name": "stdout",
     "output_type": "stream",
     "text": [
      "yo2\n",
      "yo3\n",
      "14\n",
      "yo0\n",
      "yo1\n"
     ]
    },
    {
     "name": "stderr",
     "output_type": "stream",
     "text": [
      "100%|██████████████████████████████████████████████████████████████████████████████████| 15/15 [00:06<00:00,  2.47it/s]\n"
     ]
    },
    {
     "name": "stdout",
     "output_type": "stream",
     "text": [
      "yo2\n",
      "yo3\n",
      "14\n",
      "yo0\n",
      "yo1\n"
     ]
    },
    {
     "name": "stderr",
     "output_type": "stream",
     "text": [
      "100%|██████████████████████████████████████████████████████████████████████████████████| 13/13 [00:06<00:00,  2.13it/s]\n"
     ]
    },
    {
     "name": "stdout",
     "output_type": "stream",
     "text": [
      "yo2\n",
      "yo3\n",
      "12\n",
      "yo0\n",
      "yo1\n"
     ]
    },
    {
     "name": "stderr",
     "output_type": "stream",
     "text": [
      "100%|██████████████████████████████████████████████████████████████████████████████████| 13/13 [00:06<00:00,  2.16it/s]\n"
     ]
    },
    {
     "name": "stdout",
     "output_type": "stream",
     "text": [
      "yo2\n",
      "yo3\n",
      "12\n",
      "yo0\n",
      "yo1\n"
     ]
    },
    {
     "name": "stderr",
     "output_type": "stream",
     "text": [
      "100%|██████████████████████████████████████████████████████████████████████████████████| 13/13 [00:06<00:00,  2.12it/s]\n"
     ]
    },
    {
     "name": "stdout",
     "output_type": "stream",
     "text": [
      "yo2\n",
      "yo3\n",
      "12\n",
      "yo0\n",
      "yo1\n"
     ]
    },
    {
     "name": "stderr",
     "output_type": "stream",
     "text": [
      "100%|██████████████████████████████████████████████████████████████████████████████████| 13/13 [00:06<00:00,  2.13it/s]\n"
     ]
    },
    {
     "name": "stdout",
     "output_type": "stream",
     "text": [
      "yo2\n",
      "yo3\n",
      "12\n",
      "yo0\n",
      "yo1\n"
     ]
    },
    {
     "name": "stderr",
     "output_type": "stream",
     "text": [
      "100%|██████████████████████████████████████████████████████████████████████████████████| 13/13 [00:06<00:00,  2.12it/s]\n"
     ]
    },
    {
     "name": "stdout",
     "output_type": "stream",
     "text": [
      "yo2\n",
      "yo3\n",
      "12\n",
      "yo0\n",
      "yo1\n"
     ]
    },
    {
     "name": "stderr",
     "output_type": "stream",
     "text": [
      "100%|██████████████████████████████████████████████████████████████████████████████████| 13/13 [00:06<00:00,  2.14it/s]\n"
     ]
    },
    {
     "name": "stdout",
     "output_type": "stream",
     "text": [
      "yo2\n",
      "yo3\n",
      "12\n",
      "yo0\n",
      "yo1\n"
     ]
    },
    {
     "name": "stderr",
     "output_type": "stream",
     "text": [
      "100%|██████████████████████████████████████████████████████████████████████████████████| 13/13 [00:06<00:00,  2.13it/s]\n"
     ]
    },
    {
     "name": "stdout",
     "output_type": "stream",
     "text": [
      "yo2\n",
      "yo3\n",
      "12\n",
      "yo0\n",
      "yo1\n"
     ]
    },
    {
     "name": "stderr",
     "output_type": "stream",
     "text": [
      "100%|██████████████████████████████████████████████████████████████████████████████████| 13/13 [00:06<00:00,  2.10it/s]\n"
     ]
    },
    {
     "name": "stdout",
     "output_type": "stream",
     "text": [
      "yo2\n",
      "yo3\n",
      "12\n",
      "yo0\n",
      "yo1\n"
     ]
    },
    {
     "name": "stderr",
     "output_type": "stream",
     "text": [
      "100%|██████████████████████████████████████████████████████████████████████████████████| 13/13 [00:06<00:00,  2.12it/s]\n"
     ]
    },
    {
     "name": "stdout",
     "output_type": "stream",
     "text": [
      "yo2\n",
      "yo3\n",
      "12\n",
      "yo0\n",
      "yo1\n"
     ]
    },
    {
     "name": "stderr",
     "output_type": "stream",
     "text": [
      "100%|██████████████████████████████████████████████████████████████████████████████████| 13/13 [00:06<00:00,  2.10it/s]\n"
     ]
    },
    {
     "name": "stdout",
     "output_type": "stream",
     "text": [
      "yo2\n",
      "yo3\n",
      "12\n",
      "yo0\n",
      "yo1\n"
     ]
    },
    {
     "name": "stderr",
     "output_type": "stream",
     "text": [
      "100%|██████████████████████████████████████████████████████████████████████████████████| 13/13 [00:06<00:00,  2.12it/s]\n"
     ]
    },
    {
     "name": "stdout",
     "output_type": "stream",
     "text": [
      "yo2\n",
      "yo3\n",
      "12\n",
      "yo0\n",
      "yo1\n"
     ]
    },
    {
     "name": "stderr",
     "output_type": "stream",
     "text": [
      "100%|██████████████████████████████████████████████████████████████████████████████████| 13/13 [00:06<00:00,  2.13it/s]\n"
     ]
    },
    {
     "name": "stdout",
     "output_type": "stream",
     "text": [
      "yo2\n",
      "yo3\n",
      "12\n",
      "yo0\n",
      "yo1\n"
     ]
    },
    {
     "name": "stderr",
     "output_type": "stream",
     "text": [
      "100%|██████████████████████████████████████████████████████████████████████████████████| 13/13 [00:06<00:00,  2.14it/s]\n"
     ]
    },
    {
     "name": "stdout",
     "output_type": "stream",
     "text": [
      "yo2\n",
      "yo3\n",
      "12\n",
      "yo0\n",
      "yo1\n"
     ]
    },
    {
     "name": "stderr",
     "output_type": "stream",
     "text": [
      "100%|██████████████████████████████████████████████████████████████████████████████████| 13/13 [00:06<00:00,  2.13it/s]\n"
     ]
    },
    {
     "name": "stdout",
     "output_type": "stream",
     "text": [
      "yo2\n",
      "yo3\n",
      "12\n",
      "yo0\n",
      "yo1\n"
     ]
    },
    {
     "name": "stderr",
     "output_type": "stream",
     "text": [
      "100%|██████████████████████████████████████████████████████████████████████████████████| 13/13 [00:06<00:00,  2.14it/s]\n"
     ]
    },
    {
     "name": "stdout",
     "output_type": "stream",
     "text": [
      "yo2\n",
      "yo3\n",
      "12\n",
      "yo0\n",
      "yo1\n"
     ]
    },
    {
     "name": "stderr",
     "output_type": "stream",
     "text": [
      "100%|██████████████████████████████████████████████████████████████████████████████████| 13/13 [00:05<00:00,  2.17it/s]\n"
     ]
    },
    {
     "name": "stdout",
     "output_type": "stream",
     "text": [
      "yo2\n",
      "yo3\n",
      "12\n",
      "yo0\n",
      "yo1\n"
     ]
    },
    {
     "name": "stderr",
     "output_type": "stream",
     "text": [
      "100%|██████████████████████████████████████████████████████████████████████████████████| 13/13 [00:06<00:00,  2.13it/s]\n"
     ]
    },
    {
     "name": "stdout",
     "output_type": "stream",
     "text": [
      "yo2\n",
      "yo3\n",
      "12\n",
      "yo0\n",
      "yo1\n"
     ]
    },
    {
     "name": "stderr",
     "output_type": "stream",
     "text": [
      "100%|██████████████████████████████████████████████████████████████████████████████████| 13/13 [00:06<00:00,  2.14it/s]\n"
     ]
    },
    {
     "name": "stdout",
     "output_type": "stream",
     "text": [
      "yo2\n",
      "yo3\n",
      "12\n"
     ]
    },
    {
     "data": {
      "application/vnd.jupyter.widget-view+json": {
       "model_id": "72debddadea640229cf1379de39e8d31",
       "version_major": 2,
       "version_minor": 0
      },
      "text/html": [
       "\n",
       "            <div style=\"display: inline-block;\">\n",
       "                <div class=\"jupyter-widgets widget-label\" style=\"text-align: center;\">\n",
       "                    Figure\n",
       "                </div>\n",
       "                <img src='data:image/png;base64,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' width=1800.0/>\n",
       "            </div>\n",
       "        "
      ],
      "text/plain": [
       "Canvas(toolbar=Toolbar(toolitems=[('Home', 'Reset original view', 'home', 'home'), ('Back', 'Back to previous …"
      ]
     },
     "metadata": {},
     "output_type": "display_data"
    }
   ],
   "source": [
    "video_frame_intensity = []\n",
    "time_frame = []\n",
    "im_tau = []\n",
    "\n",
    "fig, axs = plt.subplots(1, 2, figsize=(18, 8))\n",
    "\n",
    "for folder in glob.glob(\".\"):\n",
    "    for i, f in enumerate(glob.glob(folder + \"/*qE_calib*\")):\n",
    "        print(\"yo0\")\n",
    "        file_path = f + \"/video.tiff\"\n",
    "        FO = init_image(file_path)\n",
    "        print(\"yo1\")\n",
    "        mask = predict_labels(np.mean(FO.frames[300:600], axis = 0))\n",
    "        items_dict = label_to_data(mask, FO)\n",
    "        algae_list = list(items_dict.keys())\n",
    "\n",
    "        print(\"yo2\")\n",
    "        video_frame_intensity.append(alienlab.segment.grey_to_rgb(mask))\n",
    "    \n",
    "        flat_mask = mask.flatten()\n",
    "\n",
    "        video = tiff.imread(file_path)\n",
    "        \n",
    "        start = 190\n",
    "        stop = 941\n",
    "        THRESHOLD = np.max(np.mean(video[start:stop], axis = (1,2)))*0.7\n",
    "        N_mvg = 5\n",
    "        print(\"yo3\")\n",
    "        v_high = np.mean(video, axis = (1,2))\n",
    "        ind_range = list(range(start,stop))\n",
    "        trace = v_high[ind_range]\n",
    "        ind = trace > THRESHOLD\n",
    "        nind = trace <= THRESHOLD\n",
    "        pulses = trace[ind]\n",
    "        zone  = mvgavg(trace[nind], N_mvg)\n",
    "        file_path = f + \"/video_timing.npy\"\n",
    "        v_time_high = np.load(file_path)\n",
    "        v_time = v_time_high[ind_range]\n",
    "        time_pulses = v_time[ind]\n",
    "        time_zone = mvgavg(v_time[nind], N_mvg)\n",
    "        \n",
    "        video_zone = video[start:stop][ind]#, FO.x[0]:FO.x[1], FO.y[0]:FO.y[1]][nind]\n",
    "        del FO\n",
    "        del video\n",
    "        axs[0].plot(zone/zone.max(), label = f[-20:-10])\n",
    "        axs[0].legend()\n",
    "        axs[1].plot(pulses/pulses.max())\n",
    "        \n",
    "        S = video_zone.shape[0]\n",
    "        \n",
    "        params_high = Parallel(n_jobs = -1 )(delayed(get_fit)(np.mean(video_zone.reshape(S, -1)[:,flat_mask==i], axis = 1), v_time[ind]) for i in range(len(algae_list)))\n",
    "\n",
    "        im_tau_high = np.ones(mask.shape)\n",
    "        for i in range(len(params_high)):\n",
    "            if i != 0:\n",
    "                im_tau_high[mask==i]=params_high[i][1]\n",
    "        im_tau.append(im_tau_high)\n",
    "\n",
    "        print(i)\n",
    "        "
   ]
  },
  {
   "cell_type": "code",
   "execution_count": 6,
   "metadata": {},
   "outputs": [
    {
     "name": "stdout",
     "output_type": "stream",
     "text": [
      "yo0\n"
     ]
    },
    {
     "data": {
      "application/vnd.jupyter.widget-view+json": {
       "model_id": "fec96c0c85e2454a9388f4f666638b0e",
       "version_major": 2,
       "version_minor": 0
      },
      "text/plain": [
       "Canvas(toolbar=Toolbar(toolitems=[('Home', 'Reset original view', 'home', 'home'), ('Back', 'Back to previous …"
      ]
     },
     "metadata": {},
     "output_type": "display_data"
    },
    {
     "data": {
      "text/plain": [
       "<matplotlib.image.AxesImage at 0x1fa4ee0bb50>"
      ]
     },
     "execution_count": 6,
     "metadata": {},
     "output_type": "execute_result"
    }
   ],
   "source": [
    "print(\"yo0\")\n",
    "file_path = f + \"/video.tiff\"\n",
    "FO = init_image(file_path)\n",
    "plt.figure()\n",
    "FO.X = 300, 700\n",
    "FO.y = 300, 700\n",
    "FO.crop()\n",
    "plt.imshow(FO.frames[1])"
   ]
  },
  {
   "cell_type": "code",
   "execution_count": 7,
   "metadata": {},
   "outputs": [
    {
     "data": {
      "application/vnd.jupyter.widget-view+json": {
       "model_id": "8add08b20ac146b48aece6d365e04a37",
       "version_major": 2,
       "version_minor": 0
      },
      "text/plain": [
       "Canvas(toolbar=Toolbar(toolitems=[('Home', 'Reset original view', 'home', 'home'), ('Back', 'Back to previous …"
      ]
     },
     "metadata": {},
     "output_type": "display_data"
    },
    {
     "data": {
      "text/plain": [
       "<matplotlib.image.AxesImage at 0x1fa4d93bd90>"
      ]
     },
     "execution_count": 7,
     "metadata": {},
     "output_type": "execute_result"
    }
   ],
   "source": [
    "plt.figure()\n",
    "plt.imshow(np.log(im_tau_high))"
   ]
  },
  {
   "cell_type": "code",
   "execution_count": 27,
   "metadata": {},
   "outputs": [],
   "source": [
    "video_frame = np.copy(im_tau)\n",
    "video_frame_rgb = []\n",
    "for i in range(len(video_frame)):\n",
    "    video_frame[i]= video_frame[i]//2#(np.log(video_frame[i])*255/np.log(video_frame[i]).max()).astype(int)\n",
    "    video_frame_rgb.append( alienlab.segment.grey_to_rgb(video_frame[i]))\n",
    "    #plt.figure()\n",
    "    \n",
    "    #plt.imshow(np.log(video_frame[i]))"
   ]
  },
  {
   "cell_type": "code",
   "execution_count": 9,
   "metadata": {},
   "outputs": [
    {
     "data": {
      "text/plain": [
       "489827.0"
      ]
     },
     "execution_count": 9,
     "metadata": {},
     "output_type": "execute_result"
    }
   ],
   "source": [
    "video_frame_rgb[5].max()"
   ]
  },
  {
   "cell_type": "code",
   "execution_count": 29,
   "metadata": {},
   "outputs": [
    {
     "name": "stdout",
     "output_type": "stream",
     "text": [
      "MoviePy - Building file test_pulses.gif with imageio.\n"
     ]
    },
    {
     "name": "stderr",
     "output_type": "stream",
     "text": [
      "                                                                                                                       \r"
     ]
    }
   ],
   "source": [
    "from moviepy.editor import ImageSequenceClip\n",
    "clip = ImageSequenceClip(video_frame_rgb, fps=1)\n",
    "clip.write_gif('test_pulses.gif', fps=1)"
   ]
  },
  {
   "cell_type": "code",
   "execution_count": null,
   "metadata": {},
   "outputs": [],
   "source": [
    "from moviepy.editor import ImageSequenceClip\n",
    "clip = ImageSequenceClip(video_frame_rgb, fps=1)\n",
    "clip.write_gif('test6_pulses_st.gif', fps=1)"
   ]
  },
  {
   "cell_type": "code",
   "execution_count": 70,
   "metadata": {},
   "outputs": [
    {
     "data": {
      "application/vnd.jupyter.widget-view+json": {
       "model_id": "2396e0a889fc4c7fb6e780831a584eaa",
       "version_major": 2,
       "version_minor": 0
      },
      "text/plain": [
       "Canvas(toolbar=Toolbar(toolitems=[('Home', 'Reset original view', 'home', 'home'), ('Back', 'Back to previous …"
      ]
     },
     "metadata": {},
     "output_type": "display_data"
    },
    {
     "ename": "NameError",
     "evalue": "name 'FO' is not defined",
     "output_type": "error",
     "traceback": [
      "\u001b[1;31m---------------------------------------------------------------------------\u001b[0m",
      "\u001b[1;31mNameError\u001b[0m                                 Traceback (most recent call last)",
      "\u001b[1;32m<ipython-input-70-fdca40832e0f>\u001b[0m in \u001b[0;36m<module>\u001b[1;34m\u001b[0m\n\u001b[0;32m     19\u001b[0m \u001b[0mzone\u001b[0m  \u001b[1;33m=\u001b[0m \u001b[0mmvgavg\u001b[0m\u001b[1;33m(\u001b[0m\u001b[0mtrace\u001b[0m\u001b[1;33m[\u001b[0m\u001b[0mnind\u001b[0m\u001b[1;33m]\u001b[0m\u001b[1;33m,\u001b[0m \u001b[0mN_mvg\u001b[0m\u001b[1;33m)\u001b[0m\u001b[1;33m\u001b[0m\u001b[1;33m\u001b[0m\u001b[0m\n\u001b[0;32m     20\u001b[0m \u001b[1;33m\u001b[0m\u001b[0m\n\u001b[1;32m---> 21\u001b[1;33m \u001b[0mvideo_zone\u001b[0m \u001b[1;33m=\u001b[0m \u001b[0mvideo\u001b[0m\u001b[1;33m[\u001b[0m\u001b[1;36m27\u001b[0m\u001b[1;33m:\u001b[0m\u001b[1;36m180\u001b[0m\u001b[1;33m,\u001b[0m \u001b[0mFO\u001b[0m\u001b[1;33m.\u001b[0m\u001b[0mx\u001b[0m\u001b[1;33m[\u001b[0m\u001b[1;36m0\u001b[0m\u001b[1;33m]\u001b[0m\u001b[1;33m:\u001b[0m\u001b[0mFO\u001b[0m\u001b[1;33m.\u001b[0m\u001b[0mx\u001b[0m\u001b[1;33m[\u001b[0m\u001b[1;36m1\u001b[0m\u001b[1;33m]\u001b[0m\u001b[1;33m,\u001b[0m \u001b[0mFO\u001b[0m\u001b[1;33m.\u001b[0m\u001b[0my\u001b[0m\u001b[1;33m[\u001b[0m\u001b[1;36m0\u001b[0m\u001b[1;33m]\u001b[0m\u001b[1;33m:\u001b[0m\u001b[0mFO\u001b[0m\u001b[1;33m.\u001b[0m\u001b[0my\u001b[0m\u001b[1;33m[\u001b[0m\u001b[1;36m1\u001b[0m\u001b[1;33m]\u001b[0m\u001b[1;33m]\u001b[0m\u001b[1;33m[\u001b[0m\u001b[0mnind\u001b[0m\u001b[1;33m]\u001b[0m\u001b[1;33m\u001b[0m\u001b[1;33m\u001b[0m\u001b[0m\n\u001b[0m\u001b[0;32m     22\u001b[0m \u001b[1;33m\u001b[0m\u001b[0m\n\u001b[0;32m     23\u001b[0m \u001b[0mfile_path\u001b[0m \u001b[1;33m=\u001b[0m \u001b[0mf\u001b[0m \u001b[1;33m+\u001b[0m \u001b[1;34m\"/video_timing.npy\"\u001b[0m\u001b[1;33m\u001b[0m\u001b[1;33m\u001b[0m\u001b[0m\n",
      "\u001b[1;31mNameError\u001b[0m: name 'FO' is not defined"
     ]
    }
   ],
   "source": [
    "fig, axs = plt.subplots(1, 2, figsize=(12, 6))\n",
    "algae_list = list(items_dict.keys())\n",
    "flat_mask = mask.flatten()\n",
    "\n",
    "file_path = f + \"/video.tiff\"\n",
    "\n",
    "video = tiff.imread(file_path)\n",
    "\n",
    "THRESHOLD = np.max(np.mean(video[27:180], axis = (1,2)))*0.5\n",
    "N_mvg = 5\n",
    "\n",
    "\n",
    "v_high = np.mean(video, axis = (1,2))\n",
    "ind_range = list(range(27,180))\n",
    "trace = v_high[ind_range]\n",
    "ind = trace > THRESHOLD\n",
    "nind = trace <= THRESHOLD\n",
    "pulses = trace[ind]\n",
    "zone  = mvgavg(trace[nind], N_mvg)\n",
    "\n",
    "video_zone = video[27:180, FO.x[0]:FO.x[1], FO.y[0]:FO.y[1]][nind]\n",
    "\n",
    "file_path = f + \"/video_timing.npy\"\n",
    "v_time_high = np.load(file_path)\n",
    "\n",
    "v_time = v_time_high[ind_range]\n",
    "time_pulses = v_time[ind]\n",
    "time_zone = v_time[nind]\n",
    "\n",
    "S = video_zone.shape[0]\n",
    "sh = video_zone.shape\n",
    "\n",
    "params_high = Parallel(n_jobs = -1 )(delayed(get_fit)(np.mean(video_zone.reshape(S, -1)[:,flat_mask==i], axis = 1), time_zone) for i in range(len(algae_list)))\n",
    "#params_high = Parallel(n_jobs = -1 )(delayed(get_fit)(video_zone.reshape(S, -1)[:,i], time_zone) for i in range(sh[1]*sh[2]))\n",
    "\n",
    "im_tau_high = np.zeros(mask.shape)\n",
    "for i in range(len(params_high)):\n",
    "    im_tau_high[mask==i]=params_high[i][1]\n",
    "\n",
    "\n",
    "\n",
    "axs[0].plot(zone)\n",
    "axs[1].plot(pulses)"
   ]
  },
  {
   "cell_type": "code",
   "execution_count": 122,
   "metadata": {},
   "outputs": [
    {
     "data": {
      "application/vnd.jupyter.widget-view+json": {
       "model_id": "7b47131c43314e3e9543dec13976d97f",
       "version_major": 2,
       "version_minor": 0
      },
      "text/plain": [
       "Canvas(toolbar=Toolbar(toolitems=[('Home', 'Reset original view', 'home', 'home'), ('Back', 'Back to previous …"
      ]
     },
     "metadata": {},
     "output_type": "display_data"
    },
    {
     "data": {
      "text/plain": [
       "<matplotlib.image.AxesImage at 0x1d316e8a430>"
      ]
     },
     "execution_count": 122,
     "metadata": {},
     "output_type": "execute_result"
    }
   ],
   "source": [
    "plt.figure()\n",
    "#params_high = np.array(params_high)\n",
    "#plt.imshow((params_high[:,1].reshape(sh[1], sh[2])))\n",
    "plt.imshow(np.log(im_tau_high))\n",
    "plt.imshow(mask)"
   ]
  },
  {
   "cell_type": "code",
   "execution_count": 115,
   "metadata": {},
   "outputs": [
    {
     "data": {
      "text/plain": [
       "[array([-7.19431280e-02,  1.06144508e+02,  3.87614770e-01]),\n",
       " array([-0.16347738, 24.18039819,  0.32787649]),\n",
       " array([ -1.01978779, 378.30457053,   1.09332219]),\n",
       " array([-3.49648358e+02,  4.59233794e+05,  3.49919261e+02]),\n",
       " array([  -884.84893059, 509668.44355196,    885.07314811]),\n",
       " array([ -0.40653587, 116.30285033,   0.60387661]),\n",
       " array([-3.26566867e-01,  4.07317807e+02,  5.19156471e-01]),\n",
       " array([-9.63891619e+02,  9.79863172e+05,  9.64159319e+02]),\n",
       " array([  -564.1511952 , 331941.26072555,    564.3439528 ]),\n",
       " array([-0.14858619, 20.42800424,  0.3013149 ]),\n",
       " array([-1.68802126e+02,  2.40771793e+05,  1.68885835e+02]),\n",
       " array([-0.19540336, 24.75803393,  0.31322969]),\n",
       " array([2.22526479e-02, 3.77116799e+01, 2.13697942e-01]),\n",
       " array([0.69655119, 0.00752212, 0.30344828]),\n",
       " array([  -772.52802988, 427179.88762434,    772.62346672]),\n",
       " array([ 1.67810291e+02,  7.46341764e+05, -1.67471285e+02]),\n",
       " array([0.69667549, 0.00531521, 0.30344742]),\n",
       " array([-0.16473592, 44.90810253,  0.19807462]),\n",
       " array([-3.30911340e+01,  1.06928256e+05,  3.33004996e+01]),\n",
       " array([-0.27130415, 31.25667515,  0.42601505]),\n",
       " array([0.84137931, 0.00484375, 0.15862069]),\n",
       " array([ -0.28210413, 154.9208731 ,   0.48808559]),\n",
       " array([ -0.67782038, 238.59897108,   0.73432574]),\n",
       " array([-0.42051387, 17.19974416,  0.47384178]),\n",
       " array([-7.75174777e-03,  4.69930775e+01,  3.31085947e-01]),\n",
       " array([-0.15313302, 15.0847496 ,  0.35826981]),\n",
       " array([-0.18862446, 79.66204765,  0.34469146]),\n",
       " array([0.11852279, 9.26269251, 0.31417939]),\n",
       " array([-1.89738039e+02,  4.35663231e+05,  1.89924118e+02]),\n",
       " array([-0.20134247, 52.62041255,  0.24429368]),\n",
       " array([ 0.07741222, 21.76847181,  0.31056953]),\n",
       " array([-1.79304195e-01,  4.68958206e-12,  1.79310302e-01]),\n",
       " array([-0.30360834, 31.70088203,  0.48148437]),\n",
       " array([-0.4192817 , 34.09569154,  0.69001033]),\n",
       " array([  -436.68485801, 385238.80229735,    437.0165189 ]),\n",
       " array([-0.56231736,  1.68974859,  0.44013585]),\n",
       " array([-5.14414053e-02,  6.10744297e+01,  3.75203091e-01]),\n",
       " array([  -234.10720315, 183833.57432399,    234.35290114]),\n",
       " array([-0.18260475, 21.33372747,  0.2796803 ]),\n",
       " array([-0.18813298, 36.52219813,  0.39431058]),\n",
       " array([ 1.66103290e+02,  2.13464176e+05, -1.65818132e+02]),\n",
       " array([-0.36518122, 49.81331587,  0.47777362]),\n",
       " array([   448.9632025 , 428391.00254432,   -448.62327962]),\n",
       " array([-0.41981862, 89.30283717,  0.4281502 ]),\n",
       " array([ 3.42664880e+02,  1.19457995e+06, -3.42266366e+02]),\n",
       " array([ 0.24504194, 10.60384629,  0.21473614]),\n",
       " array([ -1178.45886773, 485846.77106775,   1178.57589289]),\n",
       " array([ -0.6429058 , 422.97002719,   0.79353686]),\n",
       " array([0.71725838, 0.89730111, 0.35569717]),\n",
       " array([  -324.82733633, 287236.44982598,    325.00166995]),\n",
       " array([-0.21256004, 90.77273089,  0.46638058]),\n",
       " array([  -273.07755861, 242181.79517875,    273.32063899]),\n",
       " array([-0.19329725, 47.67163658,  0.27771155]),\n",
       " array([-0.3158191 , 11.71587903,  0.51196912]),\n",
       " array([  -771.70663887, 663402.63820311,    771.78261215]),\n",
       " array([-3.44761262e-01,  1.70530255e-13,  3.44827129e-01]),\n",
       " array([-0.07610989, 19.86219993,  0.29788915]),\n",
       " array([  -780.60961846, 567891.40960149,    780.84076511]),\n",
       " array([  -779.67215956, 587879.34416579,    779.82478729]),\n",
       " array([-2.63046846e+02,  8.31439974e+05,  2.63324170e+02]),\n",
       " array([-0.38832306,  2.02729911,  0.29450551]),\n",
       " array([-0.10020162, 70.55376869,  0.37002424]),\n",
       " array([0.57926386, 0.01116094, 0.42068998]),\n",
       " array([-8.11186299e-02,  1.17259720e+02,  2.23599780e-01]),\n",
       " array([ 9.19847174e+01,  6.90689785e+05, -9.16732257e+01]),\n",
       " array([-0.36148379, 28.57868737,  0.30847251]),\n",
       " array([  -813.85964161, 509572.01406973,    814.01223019]),\n",
       " array([-0.42019591, 70.10435548,  0.56948652]),\n",
       " array([ 0.04081757, 13.53272114,  0.16743263]),\n",
       " array([  -663.05311378, 438509.84991619,    663.31491035]),\n",
       " array([-6.29560280e+02,  7.22869548e+05,  6.29720115e+02]),\n",
       " array([  -760.2257278 , 432577.65176399,    760.44147917]),\n",
       " array([ 7.89874541e+02,  8.41091750e+05, -7.89488097e+02]),\n",
       " array([ 6.07018017e+02,  1.15097837e+06, -6.06669714e+02]),\n",
       " array([-0.18716916, 22.21823501,  0.52798205]),\n",
       " array([-5.15800963e+02,  5.24271184e+05,  5.15924820e+02]),\n",
       " array([0.60000001, 0.0046715 , 0.4       ]),\n",
       " array([  -324.3323699 , 228776.55188945,    324.53970677]),\n",
       " array([-0.2789243 , 32.51589917,  0.2859338 ]),\n",
       " array([0.66905803, 0.00539648, 0.33103384]),\n",
       " array([0.57957394, 0.0068153 , 0.42068784]),\n",
       " array([  -442.97525695, 359091.27657305,    443.10753374]),\n",
       " array([0.6       , 0.00446455, 0.4       ]),\n",
       " array([ 4.47292248e+02,  7.35333072e+05, -4.46924099e+02]),\n",
       " array([  -980.71976785, 669211.30947178,    980.93715434]),\n",
       " array([0.64831844, 0.0067817 , 0.35172384]),\n",
       " array([ 9.29233891e+01,  2.31141464e+05, -9.27284555e+01]),\n",
       " array([-0.11157836, 15.21567747,  0.34037761]),\n",
       " array([ -1.45580412, 716.83856218,   1.55157146]),\n",
       " array([-0.55754636, 11.79502146,  0.48395731]),\n",
       " array([0.67586228, 0.00423357, 0.32413793]),\n",
       " array([0.69655172, 0.0022928 , 0.30344828]),\n",
       " array([ -1888.70804639, 757973.94043356,   1888.88852577]),\n",
       " array([-0.17388136, 30.35377896,  0.34322791]),\n",
       " array([0.29482258, 7.47800275, 0.29925282]),\n",
       " array([  -407.97064406, 248918.229532  ,    408.12691577]),\n",
       " array([-1.02297569e-02,  8.39847124e+01,  3.06108564e-01]),\n",
       " array([-0.24325997, 32.50832025,  0.31935847]),\n",
       " array([-0.22887552, 44.70030622,  0.40119259]),\n",
       " array([  -255.87392162, 145777.31427456,    256.07617233]),\n",
       " array([-0.29681494,  7.84537955,  0.28375804]),\n",
       " array([-0.36643603, 92.07937561,  0.44687158]),\n",
       " array([ -11.02455712, 6885.70097859,   11.23937309]),\n",
       " array([-0.29281957, 24.36769276,  0.36974858]),\n",
       " array([-0.24633379, 35.46650684,  0.2696779 ]),\n",
       " array([ -1514.74204706, 852733.50131591,   1514.92210769]),\n",
       " array([ -0.41953755, 102.62842696,   0.69866598]),\n",
       " array([-0.31193657, 58.08859836,  0.51515652]),\n",
       " array([-0.29847705, 12.09640863,  0.38116232]),\n",
       " array([0.69655165, 0.03173808, 0.30344828]),\n",
       " array([0.47586207, 0.00794632, 0.52413793]),\n",
       " array([3.42966601e-01, 2.50702566e+02, 1.87963077e-01]),\n",
       " array([0.58633688, 0.00967887, 0.41379221]),\n",
       " array([ 1.81920476e+02,  4.80482158e+05, -1.81562933e+02]),\n",
       " array([-0.08678095, 33.27283478,  0.35465952]),\n",
       " array([ 7.07588566e+01,  1.39706365e+05, -7.02751682e+01]),\n",
       " array([0.6605614 , 2.31723047, 0.35695352]),\n",
       " array([-0.20222816, 53.69505275,  0.45801976]),\n",
       " array([-0.24965609, 12.05769497,  0.41810644]),\n",
       " array([0.51031125, 0.0072673 , 0.4896554 ]),\n",
       " array([ 9.23457719e+01,  4.61106243e+05, -9.19401405e+01]),\n",
       " array([ -1548.61892935, 693503.29594658,   1548.90811651]),\n",
       " array([-0.30360987, 49.66911378,  0.48559045]),\n",
       " array([-0.23851717, 93.06282148,  0.59035327]),\n",
       " array([-0.30486939, 20.72774514,  0.46044774]),\n",
       " array([0.55172414, 0.00430393, 0.44827586]),\n",
       " array([-5.32961869e+02,  5.91673809e+05,  5.33222176e+02]),\n",
       " array([-0.35956823, 37.62184189,  0.45822153]),\n",
       " array([-0.30391107, 10.42905427,  0.2892759 ]),\n",
       " array([5.32715600e-02, 2.91652832e+04, 2.68774295e-01]),\n",
       " array([-4.34063213e-02,  7.49636864e+01,  2.85768991e-01]),\n",
       " array([ 0.25936012, 33.03501942,  0.2722328 ]),\n",
       " array([1.66896692, 0.02336249, 0.33103447]),\n",
       " array([-2.14273670e-01,  3.39599985e+02,  5.83723943e-01]),\n",
       " array([-2.70928945e+02,  3.91245676e+05,  2.71259879e+02]),\n",
       " array([-0.53069015, 37.56091364,  0.51377852]),\n",
       " array([-2.01643273e+02,  3.67479584e+05,  2.01930338e+02]),\n",
       " array([  -768.18060124, 628246.51108235,    768.53287604]),\n",
       " array([-0.53312298,  7.64041059,  0.54286346]),\n",
       " array([0.60689655, 0.01128179, 0.39310345]),\n",
       " array([-0.10207013, 19.64089544,  0.38341966]),\n",
       " array([-0.18223096, 33.10861764,  0.47131137]),\n",
       " array([0.61379312, 0.00540727, 0.3862069 ]),\n",
       " array([0.64137928, 0.00783298, 0.35862069]),\n",
       " array([-0.20772226, 42.99143609,  0.58491879]),\n",
       " array([0.62758623, 0.00799594, 0.37241379]),\n",
       " array([  -811.66176914, 770832.79771669,    812.00639769]),\n",
       " array([-0.34662118, 53.58539549,  0.60884019]),\n",
       " array([-1.84524959e+02,  5.14607678e+05,  1.84936063e+02]),\n",
       " array([-0.31334678, 67.87084512,  0.74191177]),\n",
       " array([  -2.50480149, 1146.48099438,    2.78423243]),\n",
       " array([0.58616368, 0.00697641, 0.4137934 ]),\n",
       " array([-6.17601817e+02,  7.93350450e+05,  6.18090595e+02]),\n",
       " array([-0.11054688, 33.00880685,  0.4487363 ]),\n",
       " array([0.58620686, 0.00202582, 0.4137931 ]),\n",
       " array([ -1277.36057766, 417786.98869167,   1277.62821478]),\n",
       " array([  -180.17874876, 155827.12175267,    180.5497952 ]),\n",
       " array([ -0.59806983, 213.6311061 ,   0.86644464]),\n",
       " array([0.57262611, 0.00691918, 0.42758474]),\n",
       " array([  -2328.92782011, 1381463.15335905,    2329.18324852]),\n",
       " array([ -0.32447569, 110.41561764,   0.58741632]),\n",
       " array([0.52401738, 0.00776264, 0.4758629 ]),\n",
       " array([-0.43088263, 25.03588796,  0.42839406]),\n",
       " array([-0.26117837, 89.94149849,  0.55780438]),\n",
       " array([-0.09828972, 18.92564605,  0.51259834]),\n",
       " array([   399.06834252, 367464.85946992,   -398.52005519]),\n",
       " array([  -5.82445638, 2354.82496234,    6.05826618]),\n",
       " array([-0.54661088, 83.8781363 ,  0.77354464]),\n",
       " array([0.51724137, 0.00620699, 0.48275862]),\n",
       " array([ -0.53720278, 472.34895337,   1.01416418]),\n",
       " array([0.35839014, 0.0037588 , 0.6413809 ]),\n",
       " array([ 3.34344756e+02,  6.99944673e+05, -3.33876944e+02]),\n",
       " array([-0.50092283, 74.78523456,  0.63948242]),\n",
       " array([0.47583002, 0.00459836, 0.52413815]),\n",
       " array([  -432.97416069, 405985.86915426,    433.39995913]),\n",
       " array([-0.23111741, 63.9982687 ,  0.71875921]),\n",
       " array([  -1431.04923263, 1281452.16676807,    1431.58079282]),\n",
       " array([  -748.89469942, 432064.18645871,    749.24927149]),\n",
       " array([ 1.68340052e-03, -4.24097019e+01,  4.49162113e-01]),\n",
       " array([0.62080905, 0.00419051, 0.37930952]),\n",
       " array([  -538.80209621, 271957.25615754,    539.06249554]),\n",
       " array([-0.15400544, 51.3522667 ,  0.65237759]),\n",
       " array([0.43448275, 0.0015195 , 0.56551725]),\n",
       " array([ -1803.40324486, 616040.22336789,   1803.76979674]),\n",
       " array([ 9.57151536e+01,  1.23612494e+06, -9.51202279e+01]),\n",
       " array([-0.33889722,  9.96644592,  0.6606676 ]),\n",
       " array([-0.48041596, 93.93248745,  0.77958893]),\n",
       " array([ -0.76493394, 597.50532954,   1.32610067]),\n",
       " array([ -1158.52625687, 533900.93543466,   1158.97092913]),\n",
       " array([-0.44546174, 23.74575591,  0.52303823]),\n",
       " array([0.4690874 , 0.00592066, 0.53103364]),\n",
       " array([ 9.56038089e+01,  4.61090612e+05, -9.50538043e+01]),\n",
       " array([ -0.62557239, 156.99276066,   0.85308073]),\n",
       " array([-0.40501042, 82.48288813,  0.8429747 ]),\n",
       " array([-0.24898397, 52.35556589,  0.77332119]),\n",
       " array([ -1085.63688402, 776111.7093262 ,   1086.15385708]),\n",
       " array([  -711.41965724, 697241.1484886 ,    712.00649252]),\n",
       " array([-0.05841656, 48.37101946,  0.58640251]),\n",
       " array([-0.41257365, 23.54345248,  0.60630159]),\n",
       " array([ -105.44988431, 97774.74543878,   105.99808915]),\n",
       " array([-0.28949722, 45.95043989,  0.63974275]),\n",
       " array([-1.31272791e+02,  1.60041082e+05,  1.31909095e+02]),\n",
       " array([0.30368917, 0.00572177, 0.69655006]),\n",
       " array([ -0.33918547, 138.12338265,   0.87709062]),\n",
       " array([ -0.72248301, 345.94226526,   1.31761681]),\n",
       " array([-0.38527694, 21.68308191,  0.63160963]),\n",
       " array([3.41032676e-01, 1.33739227e+03, 3.28315588e-01]),\n",
       " array([-0.79115247,  4.57620509,  0.71915646]),\n",
       " array([  -946.03889886, 465973.58962998,    946.50103885]),\n",
       " array([-0.37122293, 90.97044432,  0.83829753]),\n",
       " array([ -0.45874584, 115.80625491,   1.13933711]),\n",
       " array([ -0.44731838, 135.0782438 ,   0.88519256]),\n",
       " array([-0.41393788, 72.07828565,  0.85111151]),\n",
       " array([-0.38995657, 33.38079809,  0.73651487]),\n",
       " array([ -0.29028109, 124.68778972,   0.78437946]),\n",
       " array([0.27586207, 0.00325587, 0.72413793]),\n",
       " array([0.29655173, 0.00713402, 0.70344828]),\n",
       " array([-0.41391818, 28.98387113,  0.55237913]),\n",
       " array([ -1.20130495, 337.22711822,   1.56307289]),\n",
       " array([-0.47998186, 25.28375844,  0.81409903]),\n",
       " array([-0.41345307, 18.48424037,  0.70249444]),\n",
       " array([-0.46878272, 20.47739269,  0.6812428 ]),\n",
       " array([ -1918.30496158, 717979.17094367,   1918.85532077]),\n",
       " array([ -0.69523774, 280.47575493,   1.18067631]),\n",
       " array([-0.30199816, 60.30653084,  0.96685329]),\n",
       " array([-0.33639582, 17.76199146,  0.79399967]),\n",
       " array([ -0.61077071, 292.66668917,   1.27785867]),\n",
       " array([ -0.92997814, 113.31404108,   1.23187806]),\n",
       " array([0.35163638, 0.00558068, 0.64827647]),\n",
       " array([ -0.15212322, 148.66434374,   0.8761608 ]),\n",
       " array([  -361.62948206, 214017.78875149,    362.17231296]),\n",
       " array([ -3.04582644, 770.4707693 ,   3.50398661]),\n",
       " array([-1.99927327e+02,  2.24005628e+05,  2.00647175e+02]),\n",
       " array([  -672.99947216, 391131.42467811,    673.61528099]),\n",
       " array([-0.32424886, 26.18464272,  0.77591452]),\n",
       " array([0.42242686, 3.7964418 , 0.50811407]),\n",
       " array([0.18849061, 0.00687106, 0.81377735]),\n",
       " array([0.37939664, 0.00487226, 0.62068906]),\n",
       " array([-0.52700112, 54.89897029,  0.82320889]),\n",
       " array([-0.33355532, 24.85051606,  0.67195654]),\n",
       " array([-0.45442951, 86.91332556,  1.04389491]),\n",
       " array([0.2137931 , 0.00759113, 0.7862069 ]),\n",
       " array([-0.5428568 , 92.17353071,  1.18426065]),\n",
       " array([  -839.38260144, 727902.00017227,    840.30865703]),\n",
       " array([-0.307763  , 35.84842125,  0.80523695]),\n",
       " array([ -1.03940678, 504.90774693,   1.68526261]),\n",
       " array([ -0.98277431, 420.62314405,   1.52349271]),\n",
       " array([ -1422.93609269, 517032.20432892,   1423.48035376]),\n",
       " array([-0.0830538 , 28.89797747,  0.78308567]),\n",
       " array([-2.30748575e+02,  3.10784107e+05,  2.31479821e+02]),\n",
       " array([-0.33160691, 67.32807358,  0.96077889]),\n",
       " array([-0.13839503, 42.7435282 ,  0.79840316]),\n",
       " array([-0.55580364, 88.83426042,  1.05439665]),\n",
       " array([-0.40543923, 27.31194375,  0.83412694]),\n",
       " array([-0.21851593, 44.13651349,  0.91123494]),\n",
       " array([ -0.78176729, 398.0204027 ,   1.6909707 ]),\n",
       " array([-0.38863814, 26.75634699,  0.87078925]),\n",
       " array([-0.42930305, 30.92946793,  0.88934796]),\n",
       " array([-0.62895406, 77.68764582,  1.15352054]),\n",
       " array([  -723.51427254, 320484.38442482,    724.08928145]),\n",
       " array([-0.29173823, 31.14133802,  0.82044574]),\n",
       " array([-0.05485694, 36.54293906,  0.85559264]),\n",
       " array([-0.40011916, 66.33426401,  0.98632891]),\n",
       " array([-0.48735351, 67.11030907,  1.07711756]),\n",
       " array([ -0.4391854 , 110.27421977,   1.04004551]),\n",
       " array([-0.10721311, 37.33119929,  0.91657151]),\n",
       " array([-0.55367557, 21.57617466,  0.89554644]),\n",
       " array([ -1.88186405, 402.56815895,   2.40314903]),\n",
       " array([ -0.7035805 , 136.4791658 ,   1.37676565]),\n",
       " array([-0.38329751, 28.76206792,  1.0938866 ]),\n",
       " array([-0.32097824, 20.96133928,  0.97003553]),\n",
       " array([-0.3403487 , 81.69282336,  0.94938241]),\n",
       " array([-0.44499807, 76.8214184 ,  1.11217966]),\n",
       " array([-1.74733211e+02,  2.14330299e+05,  1.75541123e+02]),\n",
       " array([-0.31755839, 24.50752551,  0.88092397]),\n",
       " array([-0.53551793, 86.25963781,  1.23176672]),\n",
       " array([-0.5205198 , 36.927098  ,  1.02986368]),\n",
       " array([-0.44034092, 22.42785064,  0.99793438]),\n",
       " array([  -662.07999926, 524148.30194113,    662.88810798]),\n",
       " array([-0.32728207,  5.76535909,  0.92484621]),\n",
       " array([-0.33625957, 20.13189254,  1.10737539]),\n",
       " array([  -513.46781695, 258127.3425353 ,    514.20706173]),\n",
       " array([-0.26521424, 35.4222362 ,  1.0205778 ]),\n",
       " array([-0.34032023, 53.43668902,  1.03113813]),\n",
       " array([-0.41700578, 44.37394623,  1.19406141]),\n",
       " array([-0.54554632, 54.91291515,  1.29531245]),\n",
       " array([1.02068969, 0.02374056, 0.97931034]),\n",
       " array([0.02781628, 0.00389781, 0.97241221]),\n",
       " array([ -1051.03422064, 398126.7796804 ,   1051.60071156]),\n",
       " array([-0.34641163, 32.3438612 ,  1.23156715]),\n",
       " array([-0.28431124, 37.11897861,  0.91147931]),\n",
       " array([ -0.39877273, 141.59950444,   1.10087792]),\n",
       " array([-0.30482399, 33.6095579 ,  1.1223144 ]),\n",
       " array([-0.44551296, 31.77866062,  1.05940643]),\n",
       " array([-0.29507747, 31.60368932,  1.03431173]),\n",
       " array([1.04827398, 0.03635158, 0.95172415]),\n",
       " array([-0.11128   , 85.85346113,  1.07967199]),\n",
       " array([-0.51212162, 21.39603022,  1.09438926]),\n",
       " array([-0.5185155 , 87.95179695,  1.19250012]),\n",
       " array([-0.3127004 , 52.76532037,  1.09621404]),\n",
       " array([-2.86438254e+01,  2.86442974e+05,  2.89444450e+01]),\n",
       " array([-2.72091046e+02,  2.96316213e+05,  2.72350031e+02]),\n",
       " array([-4.22844009e+02,  4.80497592e+05,  4.23030553e+02]),\n",
       " array([0.55172412, 0.00668653, 0.44827586]),\n",
       " array([-0.36087897,  3.68648327,  0.27063229]),\n",
       " array([ -0.16340747, 127.61737362,   0.23943908]),\n",
       " array([  -913.57534775, 683463.76693418,    913.72718111]),\n",
       " array([ 1.0230065e+03,  1.9019426e+06, -1.0226574e+03]),\n",
       " array([-0.13929059, 20.80840445,  0.2250336 ]),\n",
       " array([   143.47933888, 124568.39707982,   -143.15895068]),\n",
       " array([-0.35656317, 31.40555189,  0.29330641]),\n",
       " array([-0.10007559, 23.03328599,  0.21411784]),\n",
       " array([-1.69101288e-01,  2.02386221e+02,  4.40878011e-01]),\n",
       " array([-1.65868300e+02,  3.58585962e+05,  1.66141366e+02]),\n",
       " array([-4.13508902e+02,  4.35044520e+05,  4.13676390e+02]),\n",
       " array([-2.60952161e+02,  6.89431946e+05,  2.61238462e+02]),\n",
       " array([-0.13922035, 79.90261043,  0.41859588]),\n",
       " array([-0.21386896, 86.34905802,  0.45699671]),\n",
       " array([ 3.22699960e+02,  4.74527293e+05, -3.22285263e+02]),\n",
       " array([  -459.92779696, 447412.66628659,    460.14419221]),\n",
       " array([-0.14357688, 23.91204754,  0.33810075]),\n",
       " array([-0.39793932,  6.29638031,  0.28539458]),\n",
       " array([-3.93688695e+02,  4.05970501e+05,  3.93888968e+02]),\n",
       " array([ -1.01018756, 343.92703912,   1.22757982]),\n",
       " array([0.83448276, 0.02911187, 0.16551724]),\n",
       " array([  -291.55413769, 237158.5419791 ,    291.77578437]),\n",
       " array([-0.30311598, 36.10651523,  0.53064298]),\n",
       " array([ 0.1289394 , 44.82180552,  0.18899719]),\n",
       " array([-0.4575829 , 14.65410743,  0.35416153]),\n",
       " array([  -3.11255501, 1980.75481127,    3.21530787]),\n",
       " array([-0.13094508, 43.38829745,  0.36532174]),\n",
       " array([ 5.35692504e+01,  3.12501363e+05, -5.30425245e+01]),\n",
       " array([-0.10160274, 92.22864172,  0.34440865]),\n",
       " array([-0.396269  ,  5.11767953,  0.28225044]),\n",
       " array([-2.47283539e+02,  2.93953403e+05,  2.47555226e+02]),\n",
       " array([0.7243594 , 0.00512467, 0.27586054]),\n",
       " array([-2.75888392e-01,  2.50111043e-12,  2.75862250e-01]),\n",
       " array([-3.81033027e+02,  3.87085496e+05,  3.81218491e+02]),\n",
       " array([ -1279.98588517, 663342.71791356,   1280.08580616]),\n",
       " array([-4.36971254e+02,  4.46509824e+05,  4.37273591e+02]),\n",
       " array([0.74482759, 0.00713064, 0.25517241]),\n",
       " array([  -2.64887666, 2158.84396035,    2.85229806]),\n",
       " array([6.10792676e-02, 1.28155043e+02, 3.27206870e-01]),\n",
       " array([ 6.43666475e+01,  2.25233496e+05, -6.41326022e+01]),\n",
       " array([-0.32631423, 71.94448272,  0.34855269]),\n",
       " array([-0.73630576, 51.19389372,  1.76411169]),\n",
       " array([-1.94388787e+02,  5.09753331e+05,  1.94688572e+02]),\n",
       " array([-1.06520072e+02,  4.14734495e+05,  1.06808771e+02]),\n",
       " array([-1.81204279e+02,  2.13636898e+05,  1.81406948e+02]),\n",
       " array([-0.35881012,  1.634776  ,  0.27249828]),\n",
       " array([ 0.41117439, 35.84678709,  0.20469993]),\n",
       " array([  -358.35559359, 296408.53726711,    358.56508624]),\n",
       " array([ 0.12854737, 79.1791621 ,  0.21667379]),\n",
       " array([-0.16802617, 57.02029683,  0.51100211]),\n",
       " array([0.74481159, 0.00430892, 0.25517252]),\n",
       " array([-2.80845639e+02,  3.91627213e+05,  2.81024015e+02]),\n",
       " array([ 0.14649631, 95.86204729,  0.24146261]),\n",
       " array([  105.09914075, 83038.13613833,  -104.8043679 ]),\n",
       " array([  -505.42304578, 223114.76740718,    505.55912222]),\n",
       " array([3.48699229e-02, 5.32808492e+01, 2.69237476e-01]),\n",
       " array([-4.07332822e+01,  1.33366438e+05,  4.10251450e+01]),\n",
       " array([ 2.34048733e+01,  3.40183603e+04, -2.29279997e+01]),\n",
       " array([-0.28381639,  4.37742468,  0.24917365]),\n",
       " array([-0.55050886,  9.86621333,  0.49016339]),\n",
       " array([  -520.51832104, 204004.88262304,    520.76963977]),\n",
       " array([  -2.0451945 , 1937.46695621,    2.66565888]),\n",
       " array([-1.29161722e+02,  2.43085082e+05,  1.29450111e+02]),\n",
       " array([  -738.50694396, 580474.68257443,    738.69792257]),\n",
       " array([-4.67971358e+02,  5.53277230e+05,  4.68290637e+02]),\n",
       " array([-0.12882114, 33.46088723,  0.30923894]),\n",
       " array([-3.70270671e+02,  4.32595018e+05,  3.70596032e+02]),\n",
       " array([  -949.81489045, 853376.22049567,    950.06591405]),\n",
       " array([-0.35730899,  3.06056346,  0.28273606]),\n",
       " array([  -219.55224701, 201520.01213931,    219.72288297]),\n",
       " array([-7.34658050e+02,  9.72401062e+05,  7.34833505e+02]),\n",
       " array([ 0.13049237, 20.09103138,  0.35899983]),\n",
       " array([  -323.38489147, 249009.75541434,    323.60811872]),\n",
       " array([0.68965519, 0.00682695, 0.31034483]),\n",
       " array([-0.36110417,  2.60074521,  0.28171667]),\n",
       " array([-0.20442334, 68.58832141,  0.34275687]),\n",
       " array([-0.32824062, 22.80666076,  0.45442851]),\n",
       " array([ 3.42542114e+02,  4.26824680e+05, -3.42179751e+02]),\n",
       " array([ 0.1159388 , 71.31755698,  0.2395688 ]),\n",
       " array([0.68275861, 0.00494662, 0.31724138]),\n",
       " array([-1.67718384e+02,  2.41709110e+05,  1.68021819e+02]),\n",
       " array([-2.81338745e+02,  2.90391859e+05,  2.81628133e+02]),\n",
       " array([-3.47675449e+02,  5.80771824e+05,  3.47862828e+02]),\n",
       " array([  -1844.41128308, 1126452.88089014,    1844.66354771]),\n",
       " array([-0.22902974, 16.65495464,  0.21090802]),\n",
       " array([-7.86052064e-02,  3.39677810e+02,  3.44202851e-01]),\n",
       " array([-1.62800041e-01,  1.69099047e+02,  3.95131899e-01]),\n",
       " array([  -290.17577542, 111105.8206189 ,    290.27872484]),\n",
       " array([-2.25138380e+02,  4.74056507e+05,  2.25513246e+02]),\n",
       " array([-4.41362967e+02,  9.11857975e+05,  4.41620699e+02]),\n",
       " array([-1.17554486e-02,  4.59096133e+01,  3.52761875e-01]),\n",
       " array([ 1.35711278e+02,  2.43097911e+05, -1.35374334e+02]),\n",
       " array([  -432.87175806, 384612.90769973,    433.01225145]),\n",
       " array([ -1044.92646531, 497601.85666923,   1045.23947243]),\n",
       " array([-3.70278515e+02,  4.36914980e+05,  3.70563422e+02]),\n",
       " array([  -273.16571793, 177817.58732201,    273.43939735]),\n",
       " array([-0.46963831,  3.37480851,  0.34812102]),\n",
       " array([0.43448276, 0.00634853, 0.56551724]),\n",
       " array([0.72413793, 0.00577033, 0.27586207]),\n",
       " array([-2.42748441e+02,  2.96405857e+05,  2.43049216e+02]),\n",
       " array([ -1353.17111341, 842081.51344563,   1353.33665153]),\n",
       " array([-0.11367434, 26.06291351,  0.32117217]),\n",
       " array([-0.350124  , 44.3070133 ,  0.46941015]),\n",
       " array([-0.2807236 , 31.69282041,  0.42187627]),\n",
       " array([  -567.62550409, 347989.30813927,    567.79606123]),\n",
       " array([  -569.03479167, 456227.40142191,    569.24136989]),\n",
       " array([-2.85351162e+02,  2.90576673e+05,  2.85584753e+02]),\n",
       " array([0.6004651 , 0.00597115, 0.39999679]),\n",
       " array([  -840.71529303, 675181.98966896,    840.96312277]),\n",
       " array([ 0.13006198, 30.92091546,  0.41170889]),\n",
       " array([0.65494856, 0.01334505, 0.34482913]),\n",
       " array([  -1460.81225055, 1162699.97137227,    1461.11401843]),\n",
       " array([ 1.64185378e+02,  4.85976003e+05, -1.63878879e+02]),\n",
       " array([-0.12382216, 21.10024658,  0.35323301]),\n",
       " array([  -648.34838258, 420264.15476879,    648.62154804]),\n",
       " array([-0.22423784, 18.78417279,  0.4668921 ]),\n",
       " array([-0.43956564,  2.75938534,  0.33866141]),\n",
       " array([ 4.75360791e+02,  7.62728817e+05, -4.74970957e+02]),\n",
       " array([-0.08981894, 15.09086004,  0.41338291]),\n",
       " array([  -812.91209327, 379312.35208358,    813.12593249]),\n",
       " array([-6.41727992e+01,  1.84563204e+05,  6.45230907e+01]),\n",
       " array([0.6687648 , 0.00961513, 0.33103587]),\n",
       " array([-0.35368284, 37.43295852,  0.54541893]),\n",
       " array([-1.59191127e+03,  2.13881257e+06,  1.59224511e+03]),\n",
       " array([-0.18631697, 12.54602833,  0.31067037]),\n",
       " array([  -381.45677604, 257398.0965184 ,    381.76881367]),\n",
       " array([-0.23964223,  7.26553014,  0.3686872 ]),\n",
       " array([-3.29034953e+02,  4.17610728e+05,  3.29331238e+02]),\n",
       " array([ 2.83092876e+02,  1.13647315e+06, -2.82683533e+02]),\n",
       " array([-0.17424177, 36.49836775,  0.45945647]),\n",
       " array([-0.29978941, 57.75215057,  0.45555164]),\n",
       " array([-4.06624851e-01,  1.93267624e-12,  4.06894678e-01]),\n",
       " array([ 0.1478706 , 34.92959826,  0.3701648 ]),\n",
       " array([ 3.27568981e+02,  4.10170117e+05, -3.27145273e+02]),\n",
       " array([  -306.9669557 , 262616.8164882 ,    307.28908741]),\n",
       " array([-0.26769439, 47.12508377,  0.80629684]),\n",
       " array([  -226.85283573, 174878.50921906,    227.11043092]),\n",
       " array([ -1555.43161515, 692849.88852692,   1555.76099083]),\n",
       " array([  -540.67970449, 390387.26670772,    541.05390007]),\n",
       " array([-3.39504554e+02,  4.97602850e+05,  3.39973248e+02]),\n",
       " array([-2.37765880e+02,  2.96305015e+05,  2.38122707e+02]),\n",
       " array([-0.31291325,  8.39894987,  0.47072235]),\n",
       " array([ -1164.58523111, 533872.75991491,   1165.00848467]),\n",
       " array([-1.81700096e+02,  6.53108332e+05,  1.82048815e+02]),\n",
       " array([-4.00090397e-01,  4.83169059e-12,  4.00000623e-01]),\n",
       " array([ -0.23275998, 169.88096629,   0.70185641]),\n",
       " array([ -1400.41019136, 550932.13189142,   1400.63481266]),\n",
       " array([-0.09684021, 56.22391912,  0.58154165]),\n",
       " array([-0.48077158, 11.42149981,  0.40801533]),\n",
       " array([-1.39310847e+02,  1.89764619e+05,  1.39857801e+02]),\n",
       " array([-0.15511512, 42.95558131,  0.46073051]),\n",
       " array([ -0.30218732, 104.04028469,   0.65225626]),\n",
       " array([ -1331.71447855, 442083.73026102,   1331.97869136]),\n",
       " array([-1.32013235e+02,  3.88380920e+05,  1.32665484e+02]),\n",
       " array([-0.08657947, 83.93197725,  0.47844601]),\n",
       " array([0.63448276, 0.00283872, 0.36551724]),\n",
       " array([ -2510.82569288, 888128.53122298,   2511.11082233]),\n",
       " array([-0.16682621, 18.42060532,  0.56193181]),\n",
       " array([ -0.29974937, 130.45525466,   0.79364718]),\n",
       " array([   699.87842914, 550993.38755734,   -699.39832975]),\n",
       " array([ -1.56762929, 627.53909742,   1.89911735]),\n",
       " array([-0.2451594 , 30.69783702,  0.4539964 ]),\n",
       " array([ -0.13118601, 110.17484739,   0.57810823]),\n",
       " array([-9.92115072e+02,  1.07114710e+06,  9.92565223e+02]),\n",
       " array([-0.15258643, 93.97166511,  0.5072742 ]),\n",
       " array([-0.46382121, 16.17521258,  0.66759763]),\n",
       " array([-0.19261948, 26.54693277,  0.59579302]),\n",
       " array([-5.30427475e+02,  5.92395081e+05,  5.30797779e+02]),\n",
       " array([ 4.47003246e-10, -7.67184058e+00,  4.76563967e-01]),\n",
       " array([ -2346.70244083, 989803.65125738,   2346.94005199]),\n",
       " array([  -80.83044087, 74162.72615129,    81.36409412]),\n",
       " array([ 1.07138623e+02,  2.04573016e+05, -1.06585127e+02]),\n",
       " array([-0.38518418, 22.8344237 ,  0.49062411]),\n",
       " array([-1.54612659e+02,  2.19379437e+05,  1.55264582e+02]),\n",
       " array([  -225.62267639, 109011.58884203,    226.08187283]),\n",
       " array([-0.23696394, 17.86822109,  0.56984133]),\n",
       " array([   841.7843076 , 661005.77331178,   -841.23546443]),\n",
       " array([ -0.12838886, 101.30379181,   0.59399292]),\n",
       " array([0.62873914, 5.92417989, 0.47951517]),\n",
       " array([-1.99412098e+02,  4.15134551e+05,  2.00033126e+02]),\n",
       " array([-0.37165189,  7.48842288,  0.55420904]),\n",
       " array([0.52413791, 0.00393314, 0.47586207]),\n",
       " array([-0.32413992, 33.57426747,  0.55118039]),\n",
       " array([ -0.53806438, 128.62842967,   0.9050271 ]),\n",
       " array([  -284.59963542, 184090.81652571,    285.09859939]),\n",
       " array([-8.41059897e+01,  9.48352046e+04,  8.45934114e+01]),\n",
       " array([-1.21829858e+02,  2.49017009e+05,  1.22340624e+02]),\n",
       " array([ -1567.44248851, 675198.56572329,   1567.84139439]),\n",
       " array([-0.10118497, 26.74159126,  0.51121506]),\n",
       " array([0.37241381, 0.00506378, 0.62758621]),\n",
       " array([-0.77116145,  1.07659883,  0.69366842]),\n",
       " array([0.36551726, 0.00711481, 0.63448276]),\n",
       " array([ 2.69078765e+01,  1.89816379e+05, -2.63491595e+01]),\n",
       " array([-0.14994228, 61.42539954,  0.72012173]),\n",
       " array([-0.43350089, 60.42260705,  0.83035604]),\n",
       " array([-0.24480903, 82.10068828,  0.73504011]),\n",
       " array([-0.25439502, 61.75427303,  0.74563758]),\n",
       " array([  -2558.86861872, 1332009.3077821 ,    2559.2842517 ]),\n",
       " array([  -28.41909605, 16405.07926285,    28.95221546]),\n",
       " array([0.36554348, 0.00485844, 0.63448258]),\n",
       " array([-0.22350611,  7.96792647,  0.66338998]),\n",
       " array([-0.20915244,  9.03477679,  0.58183803]),\n",
       " array([-0.44387773, 56.04478858,  0.83168406]),\n",
       " array([-0.34339116, 45.84965936,  0.84029812]),\n",
       " array([-0.28190056, 16.10193679,  0.68849338]),\n",
       " array([  -772.07043722, 331947.93272877,    772.45532211]),\n",
       " array([-0.12483096, 99.57007635,  0.80384297]),\n",
       " array([-3.43138444e+02,  4.27369472e+05,  3.43625369e+02]),\n",
       " array([  -671.68125079, 461112.47195213,    672.15273701]),\n",
       " array([ -0.3259165 , 255.79896278,   0.88962003]),\n",
       " array([-0.31913662, 15.43768254,  0.60216249]),\n",
       " array([-0.38921707, 31.38313052,  0.75894486]),\n",
       " array([0.28286991, 0.00176979, 0.71724061]),\n",
       " array([  -289.02541233, 160256.61757292,    289.51851064]),\n",
       " array([0.39204281, 1.64252056, 0.91876455]),\n",
       " array([0.25508708, 0.00691951, 0.74482817]),\n",
       " array([ -1437.84389715, 524489.93716338,   1438.60815006]),\n",
       " array([  -2.28027071, 1615.584899  ,    2.86122548]),\n",
       " array([  -836.82394068, 574641.81113949,    837.44613986]),\n",
       " array([ -1633.60639074, 509620.94652071,   1634.04085019]),\n",
       " array([-3.07582863e-01,  3.44588992e+02,  9.26825077e-01]),\n",
       " array([-7.91778873e+01,  3.69598212e+05,  7.99150311e+01]),\n",
       " array([ -2327.69533717, 730696.91421127,   2328.17925069]),\n",
       " array([-0.34018793, 44.71204302,  0.95365538]),\n",
       " array([ -1139.10360251, 474070.19699617,   1139.68811141]),\n",
       " array([ -0.64386865, 122.80885001,   1.02728541]),\n",
       " array([-1.30097598e-01,  1.74572276e+02,  9.29377097e-01]),\n",
       " array([-9.93465400e+01,  1.26907543e+05,  1.00040487e+02]),\n",
       " array([-0.25214774, 30.19248129,  0.77653948]),\n",
       " array([ -0.47625456, 169.35894962,   1.0200284 ]),\n",
       " array([  -299.87419129, 282235.53497652,    300.52632406]),\n",
       " array([  -302.22678486, 111972.15723923,    302.74774963]),\n",
       " array([-1.99223092e+01,  6.77887371e+04,  2.05986182e+01]),\n",
       " array([-0.73434563, 16.38471303,  0.63679321]),\n",
       " array([  -860.05860634, 398094.8443993 ,    860.55879978]),\n",
       " array([  -585.12251003, 337870.38024386,    585.72377571]),\n",
       " array([-0.63592679, 67.53010849,  1.07563182]),\n",
       " array([-0.21293061, 29.07420687,  0.92472195]),\n",
       " array([  -757.85672019, 533237.14601605,    758.55692381]),\n",
       " array([ -0.47507725, 137.50529169,   1.2124075 ]),\n",
       " array([  -420.74727518, 296227.35421527,    421.46810226]),\n",
       " array([  -349.59439427, 223930.57887354,    350.20863584]),\n",
       " array([  -562.94931318, 398095.41760569,    563.72540473]),\n",
       " array([0.15172414, 0.00476279, 0.84827586]),\n",
       " array([ -1.22347902, 539.70573001,   1.88140893]),\n",
       " array([-0.10872192, 64.4216318 ,  0.93915582]),\n",
       " array([-0.49320459, 18.02158488,  0.84114269]),\n",
       " array([  -535.35872208, 278635.83722922,    535.99353163]),\n",
       " array([-0.26130726, 40.41081845,  0.80137021]),\n",
       " array([ -0.44037037, 117.16724594,   1.11686596]),\n",
       " array([  -309.70242636, 189667.15253926,    310.20163541]),\n",
       " array([ -0.27282491, 170.92644575,   1.09178158]),\n",
       " array([-0.19254437, 63.70569698,  0.85440013]),\n",
       " array([ -112.02158013, 71030.47671272,   112.68946517]),\n",
       " array([ -1070.80020648, 602043.33982271,   1071.50749455]),\n",
       " array([ 0.13924552, 89.4164052 ,  0.83016767]),\n",
       " array([-0.25078364, 33.53298907,  1.00748677]),\n",
       " array([-1.56375655e+00,  1.66097091e+03,  2.27516566e+00]),\n",
       " array([-0.34518259, 45.94715938,  0.90950113]),\n",
       " array([0.08946772, 0.00465778, 0.91034612]),\n",
       " array([ -0.64428413, 193.08733981,   1.26807913]),\n",
       " array([ -0.50709388, 112.8964333 ,   1.15573562]),\n",
       " array([-0.3637992 , 63.82481195,  1.05702401]),\n",
       " array([  -483.78645869, 311089.14731336,    484.59293219]),\n",
       " array([0.27253993, 1.84866038, 0.77635097]),\n",
       " array([-6.18162399e+02,  7.38120890e+05,  6.18865871e+02]),\n",
       " array([-0.12880978, 45.60395645,  0.80467453]),\n",
       " array([  -880.35399146, 509616.3241173 ,    881.1131124 ]),\n",
       " array([ -1.19124668, 991.16164627,   2.13865997]),\n",
       " array([  -2.25695529, 1147.51465891,    2.95634457]),\n",
       " array([-0.24803855, 39.96327065,  1.03697283]),\n",
       " array([-0.58751768, 15.88788478,  1.00891026]),\n",
       " array([ -1205.04574877, 446888.60246243,   1205.66273175]),\n",
       " array([-0.16338116, 46.47305582,  0.89772494]),\n",
       " array([-0.32246798, 11.13593704,  0.94279836]),\n",
       " array([ 1.93369991e+02,  5.71967952e+05, -1.92344297e+02]),\n",
       " array([-0.49112855, 74.14186798,  0.94909959]),\n",
       " array([-0.64594429,  5.9835869 ,  0.89134756]),\n",
       " array([  -359.7502779 , 109703.40422095,    360.41894778]),\n",
       " array([-0.16282744, 79.17170258,  1.09997151]),\n",
       " array([ -1128.75005251, 615980.41076958,   1129.56283779]),\n",
       " array([ -0.47401839, 113.86642431,   1.04281327]),\n",
       " array([-4.55830700e+02,  6.69569373e+05,  4.56614575e+02]),\n",
       " array([-0.04888392, 12.88355561,  0.88790631]),\n",
       " array([ -1271.25072505, 692862.73758712,   1272.15922198]),\n",
       " array([-0.31387356, 43.42036449,  1.12192412]),\n",
       " array([-0.52570172, 42.63654458,  1.07602329]),\n",
       " array([-0.94869716, 12.8275801 ,  1.07027285]),\n",
       " array([-0.30444244, 28.38494241,  0.97533401]),\n",
       " array([-0.5450902 , 35.16734141,  1.21495667]),\n",
       " array([ -0.39112266, 345.35601863,   1.38493815]),\n",
       " array([-6.48838511e+01,  6.64811778e+05,  6.57325985e+01]),\n",
       " array([-0.20557649, 27.82708719,  1.07921468]),\n",
       " array([ -0.46184121, 163.44988813,   1.29401738]),\n",
       " array([-0.39135411, 18.64259234,  0.98779892]),\n",
       " array([  -524.41116379, 393278.99243863,    525.1317432 ]),\n",
       " array([  -698.76348803, 533877.77152954,    698.91743904]),\n",
       " array([ 0.09897943, 12.78341973,  0.16934974]),\n",
       " array([  -623.87453567, 482187.81957593,    624.05017597]),\n",
       " array([ -0.2091545 , 189.56656835,   0.44529317]),\n",
       " array([-0.42712183,  4.15701646,  0.308115  ]),\n",
       " array([-0.24557529,  4.35200229,  0.17936625]),\n",
       " array([ -0.72515742, 274.60793287,   0.84468124]),\n",
       " array([-0.37730623,  6.21516967,  0.24999985]),\n",
       " array([-5.76230491e+02,  7.28705132e+05,  5.76396419e+02]),\n",
       " array([-9.68152121e-03,  2.06544418e+01,  1.38335821e-01]),\n",
       " array([-0.38985598,  7.24363147,  0.32853583]),\n",
       " array([  -721.00459215, 402971.32703401,    721.06724383]),\n",
       " array([-5.46223287e+02,  8.55231820e+05,  5.46517211e+02]),\n",
       " array([-0.37902339, 15.90628527,  0.38360879]),\n",
       " array([-2.35717848e+02,  3.67724606e+05,  2.35963652e+02]),\n",
       " array([-0.12937632, 12.0353765 ,  0.21626351]),\n",
       " array([-2.64561640e-02,  1.25919200e+02,  2.14009321e-01]),\n",
       " array([ 3.08717324e+02,  4.97986402e+05, -3.08396237e+02]),\n",
       " array([0.67598645, 0.00576024, 0.32413707]),\n",
       " array([-0.44131334,  7.36954934,  0.31103263]),\n",
       " array([0.21079834, 4.91070319, 0.32785693]),\n",
       " array([-0.18028429, 17.09773879,  0.32918607]),\n",
       " array([-0.22380647, 28.99832973,  0.26918305]),\n",
       " array([-1.12471822e+02,  1.92633882e+05,  1.12680880e+02]),\n",
       " array([  1433.38878344, 716499.08193848,  -1433.03125674]),\n",
       " array([-3.69227604e+02,  7.69604729e+05,  3.69430867e+02]),\n",
       " array([-1.39924730e+02,  2.63993513e+05,  1.40096780e+02]),\n",
       " array([-0.25098291, 20.62041618,  0.3636955 ]),\n",
       " array([-4.97422212e+01,  1.07247891e+05,  4.99946560e+01]),\n",
       " array([-0.09224283, 49.63927899,  0.34397139]),\n",
       " array([ -0.160193  , 123.61392565,   0.34571339]),\n",
       " array([-2.82855798e-01,  1.63993263e-11,  2.82759291e-01]),\n",
       " array([ -0.14093322, 105.32434373,   0.41717406]),\n",
       " array([  -544.82615507, 409072.91138389,    544.93726433]),\n",
       " array([ 2.50339443e+02,  4.32649178e+05, -2.49939304e+02]),\n",
       " array([ 0.39871257, 58.93698974,  0.27425096]),\n",
       " array([ 0.2121866 , 21.76178278,  0.23602687]),\n",
       " array([ -0.38708431, 139.08605293,   0.61237224]),\n",
       " array([ -0.26272794, 158.34574046,   0.4772273 ]),\n",
       " array([ 6.21537355e+02,  6.69407639e+05, -6.21227062e+02]),\n",
       " array([-1.41450372e+02,  1.42257201e+05,  1.41580301e+02]),\n",
       " array([ 1.28513643e+02,  2.84484693e+05, -1.28294382e+02]),\n",
       " array([-0.32782689, 86.09017669,  0.46248675]),\n",
       " array([ 0.16663026, 15.1532746 ,  0.29094784]),\n",
       " array([  -969.54152556, 931466.08782792,    969.77748294]),\n",
       " array([  -426.21959451, 343126.47220309,    426.46081045]),\n",
       " array([-0.29600627, 10.1276194 ,  0.29496766]),\n",
       " array([  -8.71948353, 7356.71930377,    8.87660632]),\n",
       " array([ 6.73884515e+02,  7.81983472e+05, -6.73517648e+02]),\n",
       " array([ 6.85833940e+01,  2.37266317e+05, -6.82806061e+01]),\n",
       " array([-0.28650452, 10.95466415,  0.19309769]),\n",
       " array([-0.1744904 , 13.41012978,  0.30377761]),\n",
       " array([-0.46864346, 93.77264749,  0.84200171]),\n",
       " array([-2.48183822e+02,  4.47165025e+05,  2.48484107e+02]),\n",
       " array([-0.16539186, 39.74251626,  0.22764048]),\n",
       " array([-0.32253917,  4.92434485,  0.29272362]),\n",
       " array([-0.26379112, 70.79707104,  0.38285202]),\n",
       " array([ 0.08516812, 55.1477213 ,  0.3339198 ]),\n",
       " array([0.53805057, 0.00738055, 0.46206814]),\n",
       " array([ -2476.04869729, 941394.46571668,   2476.23920258]),\n",
       " array([-0.41109924,  4.66258682,  0.46651433]),\n",
       " array([5.76765672e-03, 1.43858826e+03, 2.20551837e-01]),\n",
       " array([ 7.23109638e+01,  3.37771976e+05, -7.19796257e+01]),\n",
       " array([-0.13035068, 37.44479365,  0.44285363]),\n",
       " array([ 0.10122489, 66.23479761,  0.14511446]),\n",
       " array([-0.39496099,  3.35280973,  0.3118281 ]),\n",
       " array([-1.54982542e-02,  5.12339916e+01,  3.20054362e-01]),\n",
       " array([ 0.14373965, 20.33327325,  0.40492121]),\n",
       " array([-1.05004588e+02,  1.24475141e+05,  1.05235016e+02]),\n",
       " array([  -798.14803263, 466089.88256038,    798.36035341]),\n",
       " array([  110.56736423, 58098.51236975,  -110.04612706]),\n",
       " array([   778.10360299, 669299.34773866,   -777.83716297]),\n",
       " array([0.6276357 , 0.00440839, 0.37241345]),\n",
       " array([-2.05171927e+02,  3.85496283e+05,  2.05439698e+02]),\n",
       " array([  -145.25830593, 112712.69080137,    145.48231238]),\n",
       " array([ -0.19305646, 155.44334129,   0.56846649]),\n",
       " array([0.67588656, 0.00354171, 0.32413776]),\n",
       " array([-0.16848781,  8.55856314,  0.33214478]),\n",
       " array([-0.21812048, 57.54545983,  0.4880365 ]),\n",
       " array([-0.14298575, 18.17380293,  0.27105376]),\n",
       " array([ -1415.615834  , 669306.32655201,   1415.83179724]),\n",
       " array([-0.09302176, 90.71526407,  0.3191912 ]),\n",
       " array([-0.280625  , 12.17406839,  0.34556251]),\n",
       " array([-0.1028458 , 35.42095225,  0.38692896]),\n",
       " array([ 1.30528823e+02,  3.55592759e+05, -1.30192707e+02]),\n",
       " array([-5.22234564e+02,  7.19834010e+05,  5.22597233e+02]),\n",
       " array([1.86878734e-01, 4.86115033e+04, 1.07930371e-01]),\n",
       " array([ 1.82108311e+02,  5.56774950e+05, -1.81809480e+02]),\n",
       " array([ 0.2058118 , 36.50288731,  0.27271792]),\n",
       " array([-0.47438712,  4.86881598,  0.38719423]),\n",
       " array([-2.65946789e+02,  2.66781449e+05,  2.66234047e+02]),\n",
       " array([0.71728995, 0.00610141, 0.28275829]),\n",
       " array([-0.14047648, 27.61495821,  0.40257108]),\n",
       " array([-0.11611904, 20.58491272,  0.29010579]),\n",
       " array([ -151.58676436, 88902.51504021,   151.90244305]),\n",
       " array([-0.47008585,  8.48554108,  0.37077537]),\n",
       " array([0.59357087, 0.00604282, 0.40689333]),\n",
       " array([ 1.11237463e+02,  3.64100203e+05, -1.10810135e+02]),\n",
       " array([  -624.07255895, 547478.33329426,    624.34208924]),\n",
       " array([ 1.02466665e+02,  5.22118292e+05, -1.01931202e+02]),\n",
       " array([-1.05458416e+02,  2.63737159e+05,  1.05736248e+02]),\n",
       " array([ 1.27899837e+03,  1.37831624e+06, -1.27862647e+03]),\n",
       " array([-0.32984246, 26.14740791,  0.46859574]),\n",
       " array([ 7.02965187e+01,  5.73386451e+05, -6.99173380e+01]),\n",
       " array([-0.1055883 , 17.96842991,  0.3827404 ]),\n",
       " array([ -141.62125652, 88902.54274229,   141.88380667]),\n",
       " array([-2.35266522e+02,  7.81720899e+05,  2.35647758e+02]),\n",
       " array([1.58658180e-01, 3.22493844e+02, 2.50181883e-01]),\n",
       " array([ -1225.38778438, 408990.0847416 ,   1225.70117786]),\n",
       " array([  -169.54889229, 130428.86452539,    169.8268374 ]),\n",
       " array([-0.52402441,  3.78920669,  0.41950873]),\n",
       " array([-0.21641113,  8.08667095,  0.35493523]),\n",
       " array([-2.17462806e+02,  4.70849837e+05,  2.17749623e+02]),\n",
       " array([-0.27935271, 34.63746522,  0.31705612]),\n",
       " array([0.6620689 , 0.01010166, 0.33793103]),\n",
       " array([ -0.30152164, 218.17274627,   0.51175803]),\n",
       " array([ 0.09641475, 43.94041671,  0.40429223]),\n",
       " array([-0.11561832,  9.47661496,  0.43236755]),\n",
       " array([-0.45012746,  6.23501742,  0.47939062]),\n",
       " array([-0.2539003 , 25.92837751,  0.49606637]),\n",
       " array([ 0.09465365, 59.09437161,  0.40420505]),\n",
       " array([  -387.63489312, 228391.65613787,    387.9511232 ]),\n",
       " array([0.70390283, 0.00647865, 0.29654859]),\n",
       " array([ -1451.78519375, 593156.73588705,   1451.94848993]),\n",
       " array([-3.28750906e+02,  5.45853969e+05,  3.29150338e+02]),\n",
       " array([ -1047.11616665, 503607.88853523,   1047.49923983]),\n",
       " array([ 9.09464824e+01,  5.33648568e+05, -9.05842150e+01]),\n",
       " array([-4.28062317e-02,  1.47510328e+02,  2.25368964e-01]),\n",
       " array([0.34808174, 8.56001808, 0.30078641]),\n",
       " array([   348.15110106, 272712.59871566,   -347.68422223]),\n",
       " array([-0.188585  , 26.05166679,  0.41639986]),\n",
       " array([-0.1940494 , 27.19885652,  0.37082417]),\n",
       " array([-0.48052461, 14.56268268,  0.49316531]),\n",
       " array([-1.66455871e+01,  1.71893100e+05,  1.69395987e+01]),\n",
       " array([-4.39137579e+01,  4.27349832e+05,  4.43717014e+01]),\n",
       " array([-0.28492865, 10.203089  ,  0.32171933]),\n",
       " array([-0.33163725, 49.29704086,  0.48002436]),\n",
       " array([ -0.12556155, 104.0824552 ,   0.41543973]),\n",
       " array([-3.19150992e+02,  6.63856205e+05,  3.19477468e+02]),\n",
       " array([-0.21682082, 42.45524017,  0.50458634]),\n",
       " array([  -343.34734985, 332370.32190534,    343.67295287]),\n",
       " array([  -814.2482537 , 575380.70472895,    814.57220714]),\n",
       " array([-3.58675490e-01,  3.12638804e-13,  3.58621068e-01]),\n",
       " array([  -353.92900141, 125768.49878393,    354.15354685]),\n",
       " array([-0.7216136 ,  3.00862092,  0.54484493]),\n",
       " array([  -622.27849664, 570208.28728023,    622.62021236]),\n",
       " array([-2.65465241e-02,  2.70473376e+01,  3.54106021e-01]),\n",
       " array([0.29500647, 8.30180284, 0.48943704]),\n",
       " array([-0.33344321,  7.54191041,  0.60706778]),\n",
       " array([ 4.90150817e+01,  4.14834840e+05, -4.85129515e+01]),\n",
       " array([-0.52276355,  0.73163478,  0.47741121]),\n",
       " array([-0.09900125, 28.35663765,  0.52553834]),\n",
       " array([ 1.03681415e+02,  1.95507907e+05, -1.03134268e+02]),\n",
       " array([-0.3786391 ,  8.07522353,  0.44644619]),\n",
       " array([ 1.69257566e+02,  4.69270042e+05, -1.68695907e+02]),\n",
       " array([-0.20419395, 33.41196465,  0.52443447]),\n",
       " array([-0.49442959,  2.56879951,  0.4214562 ]),\n",
       " array([-0.47298889,  8.02153481,  0.49280565]),\n",
       " array([-4.81008009e+02,  5.50858821e+05,  4.81263562e+02]),\n",
       " array([-3.46328824e+02,  8.29075269e+05,  3.46879267e+02]),\n",
       " array([ -156.30946762, 82353.59180768,   156.73378399]),\n",
       " array([  -492.29317609, 311084.80742983,    492.67976158]),\n",
       " array([-0.14397572, 45.6959614 ,  0.63793599]),\n",
       " array([-0.18397126, 62.7482601 ,  1.08320329]),\n",
       " array([-7.09889857e-01,  7.18190405e+02,  1.11241752e+00]),\n",
       " array([ 2.19124408e+01,  6.96941072e+05, -2.13347096e+01]),\n",
       " array([   1175.23563303, 1106969.36155907,   -1174.61384515]),\n",
       " array([-2.32188720e+02,  4.36949377e+05,  2.32689431e+02]),\n",
       " array([-0.55442043, 11.3128076 ,  0.55730299]),\n",
       " array([ -1199.82708388, 718136.94979423,   1200.32338969]),\n",
       " array([ 1.41620376e+01,  2.43008517e+05, -1.35343212e+01]),\n",
       " array([2.34429389e-02, 3.93843784e+01, 4.52899520e-01]),\n",
       " array([ 1.19086019e+02,  6.64826699e+05, -1.18401172e+02]),\n",
       " array([0.68244121, 1.59952301, 0.44199145]),\n",
       " array([-0.3617498 ,  8.05560379,  0.58926359]),\n",
       " array([  -788.12878771, 598170.16962554,    788.46015711]),\n",
       " array([-0.19811235, 49.51077002,  0.51399554]),\n",
       " array([ -0.55130171, 203.36899676,   1.00488543]),\n",
       " array([-0.21850462,  5.80123571,  0.62576145]),\n",
       " array([ -0.51847276, 144.61687673,   0.90330711]),\n",
       " array([-6.08811142e+02,  1.55698999e+06,  6.09411560e+02]),\n",
       " array([-0.6328868 ,  2.25137859,  0.47784248]),\n",
       " array([ 0.05823868, 23.64442986,  0.36747008]),\n",
       " array([-0.51450498,  5.52990791,  0.50733728]),\n",
       " array([0.37241378, 0.00441559, 0.62758621]),\n",
       " array([-0.48045087, 41.15316083,  0.66909359]),\n",
       " array([-0.29828689, 24.83766332,  0.58386997]),\n",
       " array([-0.220077  , 75.61027724,  0.70468345]),\n",
       " array([  -350.6519858 , 297600.20035863,    351.13778569]),\n",
       " array([ -0.36994421, 134.60081328,   0.69450949]),\n",
       " array([ -0.55751936, 219.53417979,   0.93669065]),\n",
       " array([-0.50582553,  5.24842139,  0.49919676]),\n",
       " array([-0.64712622,  2.67380022,  0.54844155]),\n",
       " array([-0.43447411, 24.91110144,  0.72316917]),\n",
       " array([-1.22836819e+02,  1.50500913e+05,  1.23343296e+02]),\n",
       " array([ 7.07314669e+02,  9.60051262e+05, -7.06518947e+02]),\n",
       " array([ 0.20829799, 17.54471063,  0.68064935]),\n",
       " array([0.51724138, 0.00721951, 0.48275862]),\n",
       " array([  -349.92316113, 233159.75899868,    350.35020963]),\n",
       " array([ -1068.47042424, 479887.57668493,   1068.89709999]),\n",
       " array([-0.59627408, 11.09336353,  0.66933148]),\n",
       " array([ -0.78524541, 230.23511899,   1.52017132]),\n",
       " array([-6.03748637e+02,  1.03989927e+06,  6.04307250e+02]),\n",
       " array([  -390.55882707, 260683.89368339,    391.10935657]),\n",
       " array([  -516.84565416, 262419.67421545,    517.34666684]),\n",
       " array([0.35175543, 0.00269254, 0.64827565]),\n",
       " array([0.38622928, 0.00558986, 0.61379295]),\n",
       " array([-0.15122632, 41.76411882,  0.65040863]),\n",
       " array([-5.00093656e+02,  6.79640347e+05,  5.00674718e+02]),\n",
       " array([1.27581522, 0.01736522, 0.72413825]),\n",
       " array([ 1.42602209e+02,  3.85147299e+05, -1.41916536e+02]),\n",
       " array([-0.53207482, 31.57107363,  0.70020497]),\n",
       " array([0.37241376, 0.00177001, 0.62758621]),\n",
       " array([  -933.78251487, 930978.8697059 ,    934.4391592 ]),\n",
       " array([-0.77772119,  9.79664337,  0.72471747]),\n",
       " array([-0.33804104, 13.45588111,  0.74363234]),\n",
       " array([-0.27005105, 30.32724434,  0.77350447]),\n",
       " array([-0.48558582, 17.4156024 ,  0.71501085]),\n",
       " array([0.28962687, 0.00374613, 0.71034502]),\n",
       " array([ -1120.03908024, 621927.17364767,   1120.57343967]),\n",
       " array([-0.54735414,  5.20828277,  0.71300199]),\n",
       " array([-0.47767013, 99.19849597,  0.92290227]),\n",
       " array([-2.50498667e+02,  5.45294950e+05,  2.51121287e+02]),\n",
       " array([-0.227093  , 29.62625095,  0.75016596]),\n",
       " array([-1.99435308e-01,  2.82529516e+02,  8.66602467e-01]),\n",
       " array([ -0.56089779, 178.60528607,   1.12444665]),\n",
       " array([  -774.29769056, 473933.6762684 ,    774.91324998]),\n",
       " array([-2.62234926e+01,  1.21978246e+05,  2.69468848e+01]),\n",
       " array([-6.41389708e-01,  3.12638804e-13,  6.41379382e-01]),\n",
       " array([  -565.06696087, 337780.81840232,    565.66585461]),\n",
       " array([-2.98857417e+02,  3.10782103e+05,  2.99510365e+02]),\n",
       " array([-1.25203704e+02,  4.09114370e+05,  1.25837979e+02]),\n",
       " array([ -143.76665713, 87224.99539505,   144.39487588]),\n",
       " array([ -1357.00038517, 795595.23384505,   1357.56253243]),\n",
       " array([  -494.4831444 , 213980.00942155,    495.04041646]),\n",
       " array([ -1246.27185722, 451732.03354156,   1246.67862185]),\n",
       " array([-0.36557202, 32.93456883,  0.79863805]),\n",
       " array([-0.21920734, 27.47611158,  0.76618572]),\n",
       " array([-0.39050306, 10.7965764 ,  0.84446791]),\n",
       " array([-0.37614759, 20.28763749,  0.89400183]),\n",
       " array([ -1.31193453, 505.805697  ,   2.07157748]),\n",
       " array([-3.51765301e+02,  5.24625707e+05,  3.52618452e+02]),\n",
       " array([-0.18443068, 68.32216921,  0.87557714]),\n",
       " array([0.13103439, 0.00470158, 0.86896552]),\n",
       " array([0.12989518, 0.00242545, 0.86897337]),\n",
       " array([  -3.48101078, 1246.58340494,    4.13333655]),\n",
       " array([0.16551725, 0.00859216, 0.83448276]),\n",
       " array([-0.53799659, 53.59455259,  1.06315011]),\n",
       " array([-0.42592227, 42.33499978,  0.84238326]),\n",
       " array([  -275.62127696, 199152.83163946,    276.37912444]),\n",
       " array([ -1249.52669882, 431094.46915196,   1249.99134637]),\n",
       " array([ -1.6872832 , 726.50509224,   2.31702506]),\n",
       " array([-0.61459891, 21.26078156,  0.88259999]),\n",
       " array([ -0.58290799, 149.97553786,   1.27763752]),\n",
       " array([1.33103476, 0.02011356, 0.66896552]),\n",
       " array([-0.06229385, 20.10280449,  0.89202192]),\n",
       " array([-0.36619085, 40.139131  ,  0.98581838]),\n",
       " array([-1.06823793e+02,  2.23706712e+05,  1.07719013e+02]),\n",
       " array([0.06154361, 0.00169928, 0.93793466]),\n",
       " array([1.20709889, 0.01988952, 0.79310205]),\n",
       " array([-0.35686157,  8.4076547 ,  0.9939124 ]),\n",
       " array([-0.47334998, 71.43963005,  1.04594301]),\n",
       " array([-0.46834409, 22.84552768,  0.88013321]),\n",
       " array([ -1258.05213189, 954258.0467083 ,   1258.79439695]),\n",
       " array([ 0.21135354, 63.33040635,  0.78260574]),\n",
       " array([-0.09215047, 41.664369  ,  1.0590674 ]),\n",
       " array([-0.31244331, 82.73550474,  1.061149  ]),\n",
       " array([-0.17130156, 77.74847212,  0.84255428]),\n",
       " array([-0.25677706, 97.72886278,  1.08938104]),\n",
       " array([-0.39420719, 47.24233056,  0.96777095]),\n",
       " array([ 2.65025410e+02,  5.54864312e+05, -2.64201437e+02]),\n",
       " array([-0.41551182, 52.16922902,  1.15622692]),\n",
       " array([0.0276215 , 0.00461465, 0.97241355]),\n",
       " array([0.0827947 , 0.00794182, 0.91724113]),\n",
       " array([0.11029193, 0.00586487, 0.88965554]),\n",
       " array([-0.1806739 , 35.58050439,  0.93259826]),\n",
       " array([-0.67269203, 11.57673374,  0.90337758]),\n",
       " array([0.28230355, 0.00808157, 0.71724452]),\n",
       " array([ -0.50345172, 181.71040808,   1.3412939 ]),\n",
       " array([0.02714868, 0.00235028, 0.97241681]),\n",
       " array([-0.12336803, 16.01349238,  0.8833407 ]),\n",
       " array([-0.36185824, 22.24599502,  0.95827276]),\n",
       " array([ -0.310317  , 248.59112883,   1.30070967]),\n",
       " array([-0.38144512, 15.28652816,  0.88918287]),\n",
       " array([-0.18300428, 20.02996485,  1.14120616]),\n",
       " array([ -0.50087351, 102.90794634,   1.24156418]),\n",
       " array([-3.18899193e+02,  3.20480921e+05,  3.19864668e+02]),\n",
       " array([-0.32828213, 32.98207621,  0.96186168]),\n",
       " array([-1.        ,  0.11343568,  1.        ]),\n",
       " array([-6.33791894e-01,  1.02097751e+03,  1.63682253e+00]),\n",
       " array([-0.01399877,  0.00565707,  1.01379452]),\n",
       " array([-0.26664033, 33.74472104,  0.96339241]),\n",
       " array([-3.71814833e+02,  4.32228224e+05,  3.72694661e+02]),\n",
       " array([-0.47273139,  9.81072874,  1.11474537]),\n",
       " array([ -0.82321568, 274.57504633,   1.62546322]),\n",
       " array([  -490.71987465, 184889.99389972,    491.579839  ]),\n",
       " array([ -0.93062005, 236.64856178,   1.67316009]),\n",
       " array([-0.44394743, 74.50544725,  1.24469438]),\n",
       " array([  -168.36916555, 107493.51849407,    169.17482618]),\n",
       " array([ -3032.25269223, 785924.2753899 ,   3033.11699025]),\n",
       " array([-0.27613963, 23.61922629,  0.35199666]),\n",
       " array([-0.37008486,  3.59855688,  0.27752919]),\n",
       " array([-0.12727894, 86.22197861,  0.29967833]),\n",
       " array([-0.34929225,  3.96706315,  0.35314291]),\n",
       " array([3.88736528e-02, 1.51281818e+02, 2.83676544e-01]),\n",
       " array([0.38491344, 7.63261841, 0.3145791 ]),\n",
       " array([ 0.08774894, 38.03679363,  0.19739902]),\n",
       " array([ 1.20936510e+02,  2.72792533e+05, -1.20676793e+02]),\n",
       " array([-0.17644757, 53.96098999,  0.33319934]),\n",
       " array([-3.01053707e+02,  3.91135924e+05,  3.01296581e+02]),\n",
       " array([  -718.2187306 , 391337.00711265,    718.33267561]),\n",
       " array([-0.16048048, 47.01747311,  0.5137804 ]),\n",
       " array([-4.10981879e+02,  8.55222172e+05,  4.11239876e+02]),\n",
       " array([0.30335288, 7.19766031, 0.23770713]),\n",
       " array([  -933.63581497, 763820.07069346,    933.78264039]),\n",
       " array([1.55414155e-01, 5.39665777e+02, 5.63286716e-02]),\n",
       " array([-1.79370153e-01,  1.47792889e-12,  1.79310757e-01]),\n",
       " array([-3.12497969e+02,  3.14160978e+05,  3.12614156e+02]),\n",
       " array([  -370.63692118, 296315.99140686,    370.84323555]),\n",
       " array([-1.08863929e+02,  9.20245538e+05,  1.09286444e+02]),\n",
       " array([0.76563317, 0.00672123, 0.23448196]),\n",
       " array([ 0.1342671 , 11.3941917 ,  0.36608122]),\n",
       " array([-2.18269181e+02,  3.43772252e+05,  2.18426408e+02]),\n",
       " array([ 0.29770374, 16.41629219,  0.19957329]),\n",
       " array([-0.29774797,  4.0880929 ,  0.2079708 ]),\n",
       " array([ 0.12367774, 17.3737836 ,  0.1908739 ]),\n",
       " array([ 4.16070943e+02,  1.11937782e+06, -4.15782418e+02]),\n",
       " array([-0.16571373, 24.09564129,  0.40349136]),\n",
       " array([ 5.02296005e+01,  4.36933398e+05, -4.98646992e+01]),\n",
       " array([0.80695609, 0.00620058, 0.19310304]),\n",
       " array([-0.23887646, 18.82621142,  0.34553238]),\n",
       " array([-5.09875073e+02,  5.51190904e+05,  5.10065043e+02]),\n",
       " array([-0.33617653, 38.37907037,  0.53617368]),\n",
       " array([ 0.16670994, 17.27361769,  0.30918829]),\n",
       " array([0.3450409 , 8.17279121, 0.25389762]),\n",
       " array([-0.56368345,  4.54112583,  0.42348362]),\n",
       " array([ 0.11636374, 65.15622388,  0.39313571]),\n",
       " array([  -653.64156964, 488862.7068157 ,    653.93036308]),\n",
       " array([-0.29035541,  6.19484805,  0.22546721]),\n",
       " array([ 8.41003132e+02,  9.60218521e+05, -8.40703688e+02]),\n",
       " array([ -1241.07607663, 899748.41746877,   1241.27945897]),\n",
       " array([-2.45699463e+02,  3.37861383e+05,  2.45959265e+02]),\n",
       " array([-3.48741182e+02,  4.56252762e+05,  3.48950214e+02]),\n",
       " array([ 0.17489343, 20.06588399,  0.27080974]),\n",
       " array([ 1.54934141e+02,  2.03093914e+05, -1.54677541e+02]),\n",
       " array([ 0.07158893, 10.87049319,  0.4123841 ]),\n",
       " array([0.82017346, 5.43552688, 0.26149598]),\n",
       " array([ 2.25195394e+02,  4.74256320e+05, -2.24857937e+02]),\n",
       " array([-0.4181169 , 11.04997406,  0.34723699]),\n",
       " array([ 0.12139097, 68.2732127 ,  0.24570323]),\n",
       " array([0.6896548 , 0.00555287, 0.31034483]),\n",
       " array([-5.45226234e+02,  5.50926197e+05,  5.45301704e+02]),\n",
       " array([-3.37805711e-01,  9.83391146e-12,  3.37930170e-01]),\n",
       " array([  -365.36898288, 332476.3263504 ,    365.48409782]),\n",
       " array([ 0.21297967, 12.19920455,  0.21489676]),\n",
       " array([-0.48211551,  5.9397386 ,  0.3566254 ]),\n",
       " array([-0.37622305, 44.1927849 ,  0.49028881]),\n",
       " array([-0.36899642, 51.96953856,  0.43517906]),\n",
       " array([-0.39330834,  6.62901949,  0.26549078]),\n",
       " array([-0.10552634, 80.4250675 ,  0.47218335]),\n",
       " array([-4.70127393e+01,  1.92721038e+05,  4.72818740e+01]),\n",
       " array([ 3.12170971e+02,  4.27350571e+05, -3.11718195e+02]),\n",
       " array([-0.59359548, 89.71113003,  0.57426273]),\n",
       " array([ 1.50548189e+02,  6.15988298e+05, -1.50235093e+02]),\n",
       " array([-2.16824481e+02,  2.84561314e+05,  2.17013151e+02]),\n",
       " array([-0.43611427, 38.5750283 ,  0.5959313 ]),\n",
       " array([-0.07001958, 61.48576836,  0.38221238]),\n",
       " array([ 4.60456226e+02,  5.33899057e+05, -4.60075611e+02]),\n",
       " array([  -669.81534207, 391146.2980835 ,    669.88382927]),\n",
       " array([-0.24132632, 18.39652903,  0.31777416]),\n",
       " array([   848.75894081, 740431.67587275,   -848.39784566]),\n",
       " array([1.03966779e-01, 1.97495610e+02, 2.56219062e-01]),\n",
       " array([0.66896552, 0.00373306, 0.33103448]),\n",
       " array([-1.61790840e-02,  8.98696567e+01,  2.88641798e-01]),\n",
       " array([-9.36154711e-02,  1.13152143e+02,  4.14585709e-01]),\n",
       " array([0.73793108, 0.00361163, 0.26206897]),\n",
       " array([ 2.92838221e+02,  8.40077059e+05, -2.92524056e+02]),\n",
       " array([-6.21472783e+00,  2.70965308e+05,  6.52805210e+00]),\n",
       " array([ -0.45424228, 227.39461728,   0.61220854]),\n",
       " array([-9.79949335e+02,  1.04540843e+06,  9.80241103e+02]),\n",
       " array([-0.20888499, 10.17898184,  0.36420072]),\n",
       " array([-1.89160120e+02,  4.62178681e+05,  1.89313946e+02]),\n",
       " array([-0.34928853, 63.08332773,  0.41331546]),\n",
       " array([-0.28580667, 24.31261131,  0.33425538]),\n",
       " array([ 1.73136640e+01,  3.91402022e+05, -1.69746857e+01]),\n",
       " array([-0.24234598, 13.30204176,  0.33726771]),\n",
       " array([-1.90286847e+00,  7.89401702e+04,  2.12021475e+00]),\n",
       " array([-3.10368678e-01,  1.25055520e-12,  3.10344992e-01]),\n",
       " array([-3.68272186e+00,  3.73134733e+03,  3.86214350e+00]),\n",
       " array([-0.26631012, 22.29209481,  0.2933654 ]),\n",
       " array([0.69653877, 0.00838712, 0.30344837]),\n",
       " array([-0.39268209, 48.41403181,  0.48349276]),\n",
       " array([-4.28582688e+02,  6.64227449e+05,  4.28882963e+02]),\n",
       " array([  -417.77025902, 231153.30323689,    418.03702678]),\n",
       " array([ 0.10590912, 38.8629683 ,  0.67867652]),\n",
       " array([ 1.38485432e+02,  3.25287923e+05, -1.38158557e+02]),\n",
       " array([-0.10120281, 34.94435889,  0.31776147]),\n",
       " array([-0.24364027, 20.36493468,  0.72528408]),\n",
       " array([-2.39911047e+01,  2.00367348e+05,  2.43861157e+01]),\n",
       " array([-0.20622879, 25.29296145,  0.39792382]),\n",
       " ...]"
      ]
     },
     "execution_count": 115,
     "metadata": {},
     "output_type": "execute_result"
    }
   ],
   "source": [
    "params_high"
   ]
  },
  {
   "cell_type": "code",
   "execution_count": 4,
   "metadata": {},
   "outputs": [
    {
     "data": {
      "application/vnd.jupyter.widget-view+json": {
       "model_id": "dd9857c87d3a43c09ab02fb72bc9f4bf",
       "version_major": 2,
       "version_minor": 0
      },
      "text/plain": [
       "Canvas(toolbar=Toolbar(toolitems=[('Home', 'Reset original view', 'home', 'home'), ('Back', 'Back to previous …"
      ]
     },
     "metadata": {},
     "output_type": "display_data"
    },
    {
     "name": "stdout",
     "output_type": "stream",
     "text": [
      "['.\\\\2021-11-07_07_32_qE_calib']\n",
      "G:/DREAM/from_github/PAMFluo/Experiments\\2021-11-03_15_54_bode_diagram\n"
     ]
    },
    {
     "name": "stderr",
     "output_type": "stream",
     "text": [
      "No handles with labels found to put in legend.\n"
     ]
    },
    {
     "name": "stdout",
     "output_type": "stream",
     "text": [
      "['.\\\\2021-11-07_08_04_qE_calib']\n",
      "G:/DREAM/from_github/PAMFluo/Experiments\\2021-11-03_15_54_bode_diagram\n",
      "['.\\\\2021-11-07_08_36_qE_calib']\n",
      "G:/DREAM/from_github/PAMFluo/Experiments\\2021-11-03_15_54_bode_diagram\n",
      "['.\\\\2021-11-07_09_07_qE_calib']\n",
      "G:/DREAM/from_github/PAMFluo/Experiments\\2021-11-03_15_54_bode_diagram\n",
      "['.\\\\2021-11-07_09_39_qE_calib']\n",
      "G:/DREAM/from_github/PAMFluo/Experiments\\2021-11-03_15_54_bode_diagram\n",
      "['.\\\\2021-11-07_10_11_qE_calib']\n",
      "G:/DREAM/from_github/PAMFluo/Experiments\\2021-11-03_15_54_bode_diagram\n",
      "['.\\\\2021-11-07_10_43_qE_calib']\n",
      "G:/DREAM/from_github/PAMFluo/Experiments\\2021-11-03_15_54_bode_diagram\n",
      "['.\\\\2021-11-07_11_15_qE_calib']\n"
     ]
    },
    {
     "name": "stderr",
     "output_type": "stream",
     "text": [
      "No handles with labels found to put in legend.\n"
     ]
    },
    {
     "name": "stdout",
     "output_type": "stream",
     "text": [
      "G:/DREAM/from_github/PAMFluo/Experiments\\2021-11-03_15_54_bode_diagram\n"
     ]
    },
    {
     "data": {
      "text/plain": [
       "<matplotlib.legend.Legend at 0x19106858ca0>"
      ]
     },
     "execution_count": 4,
     "metadata": {},
     "output_type": "execute_result"
    }
   ],
   "source": [
    "fig, axs = plt.subplots(3, 3, figsize=(18, 8))\n",
    "\n",
    "#voltage = [3, 10, 30, 100, 150, 200, 250, 300, 350, 400, 3, 10, 20, 30, 40, 50, 60, 70, 80, 90, 100]\n",
    "\n",
    "NN = 20\n",
    "filter_list = np.array([1]*NN + [0]*NN)#[::-1]\n",
    "voltage =  [50, 90, 100, 110, 120, 140, 160, 180, 200, 215, 235, 255, 280, 300]\n",
    "voltage = [0, 10, 20, 30, 40, 50, 100, 150, 200, 250, 300]\n",
    "np.array(list(np.linspace(0, 450, NN))+list(np.linspace(0, 450, NN)))#[::-1]\n",
    "voltage = [50, 100, 150, 200, 220, 230, 250, 280, 300, 350, 400, 150]\n",
    "voltage=[50, 100, 150, 160, 170, 180, 200, 220, 230, 250, 280, 300, 350, 400, 150]\n",
    "voltage = [10, 20, 30, 40, 50, 100, 150, 160, 170, 180, 200, 220, 230, 250, 280, 300, 350, 400, 150]\n",
    "\n",
    "W = 100\n",
    "\n",
    "for i, f in enumerate(glob.glob(file_folder + \"/*qE_calib*\")):\n",
    "        print( glob.glob(f))\n",
    "        file_path = glob.glob(f + \"/*_output_plot.csv\")[0] # pops up a window to select your file\n",
    "        data_sequence = pd.read_csv(file_path)\n",
    "\n",
    "        time_array = np.array(data_sequence[\"time (s) intensity\"])\n",
    "        fluo  = np.array(data_sequence[\"voltage (V) fluorescence\"])\n",
    "        fluo = fluo - np.mean(fluo[400:450])\n",
    "        amplitude = np.array(data_sequence[\"voltage (V) intensity\"])\n",
    "        \n",
    "        V = VoltageIntensity()\n",
    "        intensity = V.get_intensity_voltage('blue', filter_list[i], voltage[i]/100)*1e6\n",
    "        #fluo = amplitude\n",
    "        \n",
    "        x = mvgavg(time_array, W)\n",
    "        y = mvgavg(fluo, W)#/FM\n",
    "\n",
    "        mrange = (x>11.4)*(x<11.6)\n",
    "        FM = np.mean(y[mrange])\n",
    "        xrange = (x>10)*(x<20)\n",
    "        axs[0][0].plot(x[xrange], y[xrange]/FM, label = voltage[i])\n",
    "        axs[0][0].legend()\n",
    "        qrange = (x>33)*(x<35)\n",
    "        FQ = np.mean(y[qrange])\n",
    "        axs[1][0].scatter(intensity, (FM-FQ)/FQ, color = 'k')\n",
    "        \n",
    "        axs[0][1].legend()\n",
    "        \n",
    "        x = mvgavg(time_array, W)\n",
    "        xlow = (x>18)*(x<20)\n",
    "        xhigh = (x>165)*(x<175)\n",
    "        FP = np.mean(y[xlow])\n",
    "        FB =  np.mean(y[xhigh])\n",
    "        xrange = (x>50)*(x<180)*(y<1.3)\n",
    "        axs[0][1].plot(x[xrange], y[xrange]/FP, label = intensity)\n",
    "        axs[1][1].scatter(intensity, (FB-FP)/FB)\n",
    "        axs[0][2].plot(mvgavg(time_array, W), y, label = file_path[-30:-8])\n",
    "        #axs[1][1].plot(x[xlow], y[xlow])\n",
    "        axs[0][2].legend()\n",
    "\n",
    "        axs[1][2].scatter(intensity, FQ, label = file_path[-30:-8])\n",
    "\n",
    "        up = y>0.001\n",
    "        down = y<0.001\n",
    "        axs[2][0].plot(x[up], y[up])\n",
    "        axs[2][1].plot(x[down], y[down])\n",
    "        #axs[3].scatter(voltage[i], FQ, color = 'r')\n",
    "plt.legend()\n"
   ]
  },
  {
   "cell_type": "code",
   "execution_count": 5,
   "metadata": {},
   "outputs": [
    {
     "data": {
      "application/vnd.jupyter.widget-view+json": {
       "model_id": "b410b3d710084463b78bbbffc05275f5",
       "version_major": 2,
       "version_minor": 0
      },
      "text/plain": [
       "Canvas(toolbar=Toolbar(toolitems=[('Home', 'Reset original view', 'home', 'home'), ('Back', 'Back to previous …"
      ]
     },
     "metadata": {},
     "output_type": "display_data"
    },
    {
     "data": {
      "text/plain": [
       "<matplotlib.legend.Legend at 0x1917a6584c0>"
      ]
     },
     "execution_count": 5,
     "metadata": {},
     "output_type": "execute_result"
    }
   ],
   "source": [
    "fig, axs = plt.subplots(1, 2, figsize=(18, 8))\n",
    "\n",
    "#voltage = [3, 10, 30, 100, 150, 200, 250, 300, 350, 400, 3, 10, 20, 30, 40, 50, 60, 70, 80, 90, 100]\n",
    "\n",
    "NN = 20\n",
    "filter_list = np.array([1]*NN + [0]*NN)#[::-1]\n",
    "voltage=[50, 100, 150, 160, 170, 180, 200, 220, 230, 250, 280, 300, 350, 400, 150]\n",
    "np.array(list(np.linspace(0, 450, NN))+list(np.linspace(0, 450, NN)))#[::-1]\n",
    "\n",
    "W = 100\n",
    "\n",
    "for i, f in enumerate(glob.glob(file_folder + \"/*qE_calib*\")[:-1]):\n",
    "    #if i > 6 or i<2:\n",
    "        file_path = f + \"/video.tiff\"\n",
    "        video = np.mean(tiff.imread(file_path), axis = (1,2))\n",
    "        file_path = f + \"/video_timing.npy\"\n",
    "        v_time_high = np.load(file_path)\n",
    "        t0 = v_time_high[0]\n",
    "        v_time_high = v_time_high -t0\n",
    "        v_time_high = v_time_high%(3600*24)\n",
    "        threshold = 7\n",
    "        xrange = video<threshold\n",
    "        xrange2 = video>=threshold\n",
    "        intensity = V.get_intensity_voltage('blue', filter_list[i], voltage[i]/100)*1e6\n",
    "        intensity2 = V.get_intensity_voltage('blue', filter_list[i], max(0, (voltage[i]-150))/100)*1e6\n",
    "\n",
    "\n",
    "        axs[0].plot(v_time_high[xrange], video[xrange], label = \"%0.0f - %0.0f\"%(intensity, intensity2))\n",
    "        axs[1].plot(v_time_high[xrange2], video[xrange2], label = voltage[i])\n",
    "        axs[0].legend()\n",
    "\n",
    "\n",
    "        #axs[3].scatter(voltage[i], FQ, color = 'r')\n",
    "plt.legend()\n"
   ]
  },
  {
   "cell_type": "code",
   "execution_count": 5,
   "metadata": {},
   "outputs": [
    {
     "data": {
      "application/vnd.jupyter.widget-view+json": {
       "model_id": "655a7c94b8b243229d2fc20a2dfff9ab",
       "version_major": 2,
       "version_minor": 0
      },
      "text/plain": [
       "Canvas(toolbar=Toolbar(toolitems=[('Home', 'Reset original view', 'home', 'home'), ('Back', 'Back to previous …"
      ]
     },
     "metadata": {},
     "output_type": "display_data"
    },
    {
     "data": {
      "text/plain": [
       "[<matplotlib.lines.Line2D at 0x1ef06431730>]"
      ]
     },
     "execution_count": 5,
     "metadata": {},
     "output_type": "execute_result"
    }
   ],
   "source": [
    "file_path = f + \"/video.tiff\"\n",
    "video = tiff.imread(file_path)\n",
    "plt.figure()\n",
    "plt.plot(np.mean(video, axis = (1,2)))"
   ]
  },
  {
   "cell_type": "code",
   "execution_count": 7,
   "metadata": {},
   "outputs": [
    {
     "data": {
      "application/vnd.jupyter.widget-view+json": {
       "model_id": "d1c9fe2e76cb46b4b3e800628b46e984",
       "version_major": 2,
       "version_minor": 0
      },
      "text/plain": [
       "Canvas(toolbar=Toolbar(toolitems=[('Home', 'Reset original view', 'home', 'home'), ('Back', 'Back to previous …"
      ]
     },
     "metadata": {},
     "output_type": "display_data"
    },
    {
     "data": {
      "application/vnd.jupyter.widget-view+json": {
       "model_id": "3a974622669c4d5a98ca5aebcce05812",
       "version_major": 2,
       "version_minor": 0
      },
      "text/plain": [
       "Canvas(toolbar=Toolbar(toolitems=[('Home', 'Reset original view', 'home', 'home'), ('Back', 'Back to previous …"
      ]
     },
     "metadata": {},
     "output_type": "display_data"
    },
    {
     "ename": "IndexError",
     "evalue": "index 0 is out of bounds for axis 0 with size 0",
     "output_type": "error",
     "traceback": [
      "\u001b[1;31m---------------------------------------------------------------------------\u001b[0m",
      "\u001b[1;31mIndexError\u001b[0m                                Traceback (most recent call last)",
      "\u001b[1;32m<ipython-input-7-9adc118beb4d>\u001b[0m in \u001b[0;36m<module>\u001b[1;34m\u001b[0m\n\u001b[0;32m     63\u001b[0m         \u001b[0mvid\u001b[0m \u001b[1;33m=\u001b[0m \u001b[0mvideo_file_high\u001b[0m\u001b[1;33m[\u001b[0m\u001b[0mind_range\u001b[0m\u001b[1;33m]\u001b[0m\u001b[1;33m\u001b[0m\u001b[1;33m\u001b[0m\u001b[0m\n\u001b[0;32m     64\u001b[0m         \u001b[0mvideo_zone\u001b[0m\u001b[1;33m.\u001b[0m\u001b[0mappend\u001b[0m\u001b[1;33m(\u001b[0m\u001b[0mvid\u001b[0m\u001b[1;33m[\u001b[0m\u001b[0mind\u001b[0m\u001b[1;33m]\u001b[0m\u001b[1;33m)\u001b[0m\u001b[1;33m\u001b[0m\u001b[1;33m\u001b[0m\u001b[0m\n\u001b[1;32m---> 65\u001b[1;33m         \u001b[0mvideo_zone\u001b[0m\u001b[1;33m.\u001b[0m\u001b[0mappend\u001b[0m\u001b[1;33m(\u001b[0m\u001b[0mmvgavg\u001b[0m\u001b[1;33m(\u001b[0m\u001b[0mvid\u001b[0m\u001b[1;33m[\u001b[0m\u001b[0mnind\u001b[0m\u001b[1;33m]\u001b[0m\u001b[1;33m,\u001b[0m \u001b[0mN_mvg\u001b[0m\u001b[1;33m)\u001b[0m\u001b[1;33m)\u001b[0m\u001b[1;33m\u001b[0m\u001b[1;33m\u001b[0m\u001b[0m\n\u001b[0m\u001b[0;32m     66\u001b[0m \u001b[1;33m\u001b[0m\u001b[0m\n\u001b[0;32m     67\u001b[0m \u001b[1;33m\u001b[0m\u001b[0m\n",
      "\u001b[1;32m~\\anaconda3\\envs\\arduino\\lib\\site-packages\\mvgavg\\main.py\u001b[0m in \u001b[0;36mmvgavg\u001b[1;34m(a, n, axis, weights, binning)\u001b[0m\n\u001b[0;32m     91\u001b[0m             \u001b[1;32mreturn\u001b[0m \u001b[0mfnjn_mvgavg\u001b[0m\u001b[1;33m(\u001b[0m\u001b[0mnp\u001b[0m\u001b[1;33m.\u001b[0m\u001b[0masarray\u001b[0m\u001b[1;33m(\u001b[0m\u001b[0ma\u001b[0m\u001b[1;33m)\u001b[0m\u001b[1;33m,\u001b[0m\u001b[0mn\u001b[0m\u001b[1;33m,\u001b[0m\u001b[0maxis\u001b[0m\u001b[1;33m=\u001b[0m\u001b[0maxis\u001b[0m\u001b[1;33m,\u001b[0m\u001b[0mweights\u001b[0m\u001b[1;33m=\u001b[0m\u001b[0mweights\u001b[0m\u001b[1;33m)\u001b[0m\u001b[1;33m\u001b[0m\u001b[1;33m\u001b[0m\u001b[0m\n\u001b[0;32m     92\u001b[0m         \u001b[1;32melse\u001b[0m\u001b[1;33m:\u001b[0m\u001b[1;33m\u001b[0m\u001b[1;33m\u001b[0m\u001b[0m\n\u001b[1;32m---> 93\u001b[1;33m             \u001b[1;32mreturn\u001b[0m \u001b[0mcumsum_mvgavg\u001b[0m\u001b[1;33m(\u001b[0m\u001b[0mnp\u001b[0m\u001b[1;33m.\u001b[0m\u001b[0masarray\u001b[0m\u001b[1;33m(\u001b[0m\u001b[0ma\u001b[0m\u001b[1;33m)\u001b[0m\u001b[1;33m,\u001b[0m\u001b[0mn\u001b[0m\u001b[1;33m,\u001b[0m\u001b[0maxis\u001b[0m\u001b[1;33m=\u001b[0m\u001b[0maxis\u001b[0m\u001b[1;33m)\u001b[0m\u001b[1;33m\u001b[0m\u001b[1;33m\u001b[0m\u001b[0m\n\u001b[0m\u001b[0;32m     94\u001b[0m \u001b[1;33m\u001b[0m\u001b[0m\n\u001b[0;32m     95\u001b[0m \u001b[1;33m\u001b[0m\u001b[0m\n",
      "\u001b[1;32m~\\anaconda3\\envs\\arduino\\lib\\site-packages\\mvgavg\\mvgavg.py\u001b[0m in \u001b[0;36mcumsum_mvgavg\u001b[1;34m(a, n, axis)\u001b[0m\n\u001b[0;32m     29\u001b[0m     \u001b[0mtable\u001b[0m \u001b[1;33m=\u001b[0m \u001b[0mnp\u001b[0m\u001b[1;33m.\u001b[0m\u001b[0mcumsum\u001b[0m\u001b[1;33m(\u001b[0m\u001b[0ma\u001b[0m\u001b[1;33m.\u001b[0m\u001b[0mswapaxes\u001b[0m\u001b[1;33m(\u001b[0m\u001b[1;36m0\u001b[0m\u001b[1;33m,\u001b[0m\u001b[0maxis\u001b[0m\u001b[1;33m)\u001b[0m\u001b[1;33m,\u001b[0m\u001b[0maxis\u001b[0m\u001b[1;33m=\u001b[0m\u001b[1;36m0\u001b[0m\u001b[1;33m)\u001b[0m\u001b[1;33m/\u001b[0m\u001b[0mn\u001b[0m\u001b[1;33m\u001b[0m\u001b[1;33m\u001b[0m\u001b[0m\n\u001b[0;32m     30\u001b[0m     \u001b[1;32mif\u001b[0m \u001b[0mtable\u001b[0m\u001b[1;33m.\u001b[0m\u001b[0mndim\u001b[0m \u001b[1;33m>\u001b[0m \u001b[1;36m1\u001b[0m\u001b[1;33m:\u001b[0m\u001b[1;33m\u001b[0m\u001b[1;33m\u001b[0m\u001b[0m\n\u001b[1;32m---> 31\u001b[1;33m         \u001b[0mtable\u001b[0m \u001b[1;33m=\u001b[0m \u001b[0mnp\u001b[0m\u001b[1;33m.\u001b[0m\u001b[0mvstack\u001b[0m\u001b[1;33m(\u001b[0m\u001b[1;33m[\u001b[0m\u001b[1;33m[\u001b[0m\u001b[1;36m0\u001b[0m\u001b[1;33m*\u001b[0m\u001b[0mtable\u001b[0m\u001b[1;33m[\u001b[0m\u001b[1;36m0\u001b[0m\u001b[1;33m]\u001b[0m\u001b[1;33m]\u001b[0m\u001b[1;33m,\u001b[0m\u001b[0mtable\u001b[0m\u001b[1;33m]\u001b[0m\u001b[1;33m)\u001b[0m\u001b[1;33m\u001b[0m\u001b[1;33m\u001b[0m\u001b[0m\n\u001b[0m\u001b[0;32m     32\u001b[0m     \u001b[1;32melse\u001b[0m\u001b[1;33m:\u001b[0m\u001b[1;33m\u001b[0m\u001b[1;33m\u001b[0m\u001b[0m\n\u001b[0;32m     33\u001b[0m         \u001b[0mtable\u001b[0m \u001b[1;33m=\u001b[0m \u001b[0mnp\u001b[0m\u001b[1;33m.\u001b[0m\u001b[0marray\u001b[0m\u001b[1;33m(\u001b[0m\u001b[1;33m[\u001b[0m\u001b[1;36m0\u001b[0m\u001b[1;33m,\u001b[0m\u001b[1;33m*\u001b[0m\u001b[0mtable\u001b[0m\u001b[1;33m]\u001b[0m\u001b[1;33m)\u001b[0m\u001b[1;33m\u001b[0m\u001b[1;33m\u001b[0m\u001b[0m\n",
      "\u001b[1;31mIndexError\u001b[0m: index 0 is out of bounds for axis 0 with size 0"
     ]
    }
   ],
   "source": [
    "data_sequence = {}\n",
    "video_sequence = {}\n",
    "fig, axs = plt.subplots(1, 2, figsize=(15, 4))\n",
    "\n",
    "file_path = glob.glob(f + \"/*_output_plot.csv\")[0] # pops up a window to select your file\n",
    "data_sequence = pd.read_csv(file_path)\n",
    "\n",
    "time_array = np.array(data_sequence[\"time (s) intensity\"])\n",
    "fluo  = np.array(data_sequence[\"voltage (V) fluorescence\"])\n",
    "amplitude = np.array(data_sequence[\"voltage (V) intensity\"])\n",
    "\n",
    "axs[0].plot(time_array, fluo)\n",
    "axs[0].set_title(\"MPPC high, voltage\")\n",
    "\n",
    "start = 0\n",
    "axs[1].plot(mvgavg(time_array, 100)[start:], (mvgavg(fluo, 100))[start:])\n",
    "axs[1].set_title(\"MPPC high, voltage\")\n",
    "\n",
    "plt.savefig(f + \"/MPPC.pdf\")\n",
    "\n",
    "file_path = f + \"/video.tiff\"\n",
    "video = tiff.imread(file_path)\n",
    "video_sequence[0]=video\n",
    "v_high = np.mean(video, axis = (1,2))\n",
    "file_path = f + \"/video_timing.npy\"\n",
    "v_time_high = np.load(file_path)\n",
    "t0 = v_time_high[0]\n",
    "v_time_high = v_time_high -t0\n",
    "v_time_high = v_time_high%(3600*24)\n",
    "\n",
    "\n",
    "file_path = f + \"/video.tiff\"\n",
    "video_file_high = tiff.imread(file_path)\n",
    "\n",
    "\n",
    "fig = plt.figure()\n",
    "plt.plot(v_high)\n",
    "plt.savefig(f + \"/video_total.pdf\")\n",
    "\n",
    "\n",
    "zone = []\n",
    "time_zone = []\n",
    "video_zone = []\n",
    "\n",
    "indices_clean = 0, 11, 27, 180, 312, 612, 630, 800, 913, 1213, 1230, 1440, 1513, len(v_high)   ## 0     \n",
    "#indices_clean = 0, 11, 27, 180, 312, 613, 630, 800, 913, 1214, 1230, 1440, 1514, len(v_high) ## 3\n",
    "THRESHOLD = 1\n",
    "N_mvg = 5\n",
    "\n",
    "\n",
    "for i in range(len(indices_clean)-1):\n",
    "        ind_range = list(range(indices_clean[i],indices_clean[i+1]))\n",
    "        trace = v_high[ind_range]\n",
    "        ind = trace > THRESHOLD\n",
    "        nind = trace <= THRESHOLD\n",
    "        zone.append(trace[ind])\n",
    "        zone.append(mvgavg(trace[nind], N_mvg))\n",
    "        \n",
    "        v_time = v_time_high[ind_range]\n",
    "        time_zone.append(v_time[ind])\n",
    "        time_zone.append(mvgavg(v_time[nind], N_mvg))\n",
    "        \n",
    "        vid = video_file_high[ind_range]\n",
    "        video_zone.append(vid[ind])\n",
    "        video_zone.append(mvgavg(vid[nind], N_mvg))\n",
    "\n",
    "   \n",
    "coup = 4\n",
    "\n",
    "fig, axs = plt.subplots(2, coup, figsize=(15, 10))\n",
    "\n",
    "time_zone[2] = np.append(time_zone[3][0], time_zone[2])\n",
    "zone[2] = np.append(zone[0][0], zone[2])\n",
    "video_zone[2] = np.concatenate([video_zone[0], video_zone[2]])\n",
    "\n",
    "cmap = cm.get_cmap('tab20', 20)\n",
    "\n",
    "for k in range(len(zone)):\n",
    "    if len(time_zone[k])>1:\n",
    "        print(k)\n",
    "        axs[k%2][(k//2)%coup].plot(zone[k], '.', color = cmap((2*k+1)%20), label = k)\n",
    "        params, ypred = get_fit(zone[k], time_zone[k], give_y = True)\n",
    "\n",
    "        axs[k%2][(k//2)%coup].plot(ypred, '-', color = cmap((2*k)%20), label = \"%0.2f\"%params[1])\n",
    "\n",
    "        axs[k%2][(k//2)%coup].set_title(\"zone %d\"%k)\n",
    "        axs[k%2][(k//2)%coup].legend()\n",
    "plt.savefig(f + \"/phase_graph.pdf\")"
   ]
  },
  {
   "cell_type": "code",
   "execution_count": null,
   "metadata": {},
   "outputs": [],
   "source": []
  },
  {
   "cell_type": "code",
   "execution_count": 14,
   "metadata": {},
   "outputs": [
    {
     "data": {
      "application/vnd.jupyter.widget-view+json": {
       "model_id": "d91602cdd08c423ab0da1a6733de38ed",
       "version_major": 2,
       "version_minor": 0
      },
      "text/plain": [
       "Canvas(toolbar=Toolbar(toolitems=[('Home', 'Reset original view', 'home', 'home'), ('Back', 'Back to previous …"
      ]
     },
     "metadata": {},
     "output_type": "display_data"
    }
   ],
   "source": [
    "cmap = cm.get_cmap('tab20', 27)\n",
    "p.color_list = [cmap(p) for p in range(27)]\n",
    "p.yval = zone#[0::2]\n",
    "p.xval = time_zone#[0::2]\n",
    "p.figsize = (20, 10)\n",
    "p.label_list =[\"%d\"%p for p in range(len(zone))]\n",
    "k = p.plotting(p.xval, p.yval)"
   ]
  },
  {
   "cell_type": "code",
   "execution_count": 8,
   "metadata": {},
   "outputs": [],
   "source": [
    "show = True #option to output intermediary images in the segmentation process\n",
    "\n",
    "# Import video file in HQ and select ROI\n",
    "file_path = f + \"/video.tiff\"\n",
    "direc = os.path.split(file_path)[0]\n",
    "\n",
    "# Initialize plotting tools\n",
    "g = alienlab.plot.ShowFigure()\n",
    "g.figsize = (15,7)\n",
    "g.save_folder = \"images\"\n",
    "g.date = False\n",
    "p = alienlab.plot.PlotFigure()\n",
    "p.figsize = (15,7)\n",
    "p.save_folder = \"images\"\n",
    "p.date = False"
   ]
  },
  {
   "cell_type": "code",
   "execution_count": 9,
   "metadata": {},
   "outputs": [
    {
     "name": "stdout",
     "output_type": "stream",
     "text": [
      "--- Computed frames statistics in 19.641273 seconds ---\n"
     ]
    },
    {
     "data": {
      "application/vnd.jupyter.widget-view+json": {
       "model_id": "ecd48a216d3747c89e8d89cfa392d3a8",
       "version_major": 2,
       "version_minor": 0
      },
      "text/plain": [
       "Canvas(toolbar=Toolbar(toolitems=[('Home', 'Reset original view', 'home', 'home'), ('Back', 'Back to previous …"
      ]
     },
     "metadata": {},
     "output_type": "display_data"
    },
    {
     "data": {
      "application/vnd.jupyter.widget-view+json": {
       "model_id": "e062b66e72f84c6093af3169322b8cb6",
       "version_major": 2,
       "version_minor": 0
      },
      "text/plain": [
       "Canvas(toolbar=Toolbar(toolitems=[('Home', 'Reset original view', 'home', 'home'), ('Back', 'Back to previous …"
      ]
     },
     "metadata": {},
     "output_type": "display_data"
    }
   ],
   "source": [
    "# read the stacked frame. dim = NxHxW (N images in the video, Heigt, Width)\n",
    "\n",
    "frames_full = skimage.io.imread(file_path)\n",
    "\n",
    "#frames_full = np.stack([frames_full[:,:,1]]*10, 0) \n",
    "#uncomment this line if you have a single RGB image. The [:,:,1] stands for selection of the green channel\n",
    "\n",
    "FO = FramesOperator(frames_full)\n",
    "im = normalize(FO.frames[0], 0, 1)\n",
    "im = grey_to_rgb(im)*255\n",
    "\n",
    "# CROP\n",
    "#y, x = alienlab.io.select_roi(np.uint8(im)) #select area of interest\n",
    "\n",
    "FO.x = 100, 300\n",
    "FO.y = 200, 500\n",
    "#FO.crop() #crop image\n",
    "\n",
    "start_time = time.time()\n",
    "FO.compute_stats() #compute various statistical values on the frames and the pixels\n",
    "FO.normalize(0, 1)\n",
    "print(\"--- Computed frames statistics in %04f seconds ---\" % (time.time() - start_time))\n",
    "\n",
    "#FO.global_stats: each array has size N, number of frames and represents the stats of each frame\n",
    "#FO.frames_stats: each array has size FO.x, FO.y and is an image representing the N frames stats overlayed\n",
    "\n",
    "if show:\n",
    "    p.title = 'statistics'\n",
    "    p.xlabel = 'frame number'\n",
    "    p.ylabel = 'amplitude'\n",
    "    p.label_list = ['max', 'min', 'mean', 'std']\n",
    "    fig = p.plotting(np.asarray(FO.inds), [FO.global_stats['mean'], \n",
    "                        FO.global_stats['min'], \n",
    "                        FO.global_stats['mean']])\n",
    "    p.save_name = 'frames_stats'\n",
    "    p.saving(fig)\n",
    "\n",
    "''' IMAGE SEGMENTATION '''\n",
    "\n",
    "# selection of the frames with high dynamics that will be used for the image segmentation process.\n",
    "# Let M be the highest value taken by a pixel in all the frames of the video. The frame F is kept for processing only if at\n",
    "# least one pixel in the frame F has a value above 0.8*M. \n",
    "FO.selected_inds = FO.select_frames(FO.global_stats['max'], FO.global_stats['max'].max()*0.8)\n"
   ]
  },
  {
   "cell_type": "code",
   "execution_count": 10,
   "metadata": {},
   "outputs": [
    {
     "data": {
      "application/vnd.jupyter.widget-view+json": {
       "model_id": "1bfeedddc3bf41b8b2342bfc08cfeb55",
       "version_major": 2,
       "version_minor": 0
      },
      "text/plain": [
       "Canvas(toolbar=Toolbar(toolitems=[('Home', 'Reset original view', 'home', 'home'), ('Back', 'Back to previous …"
      ]
     },
     "metadata": {},
     "output_type": "display_data"
    },
    {
     "data": {
      "text/plain": [
       "<matplotlib.image.AxesImage at 0x1ef1a79dc40>"
      ]
     },
     "execution_count": 10,
     "metadata": {},
     "output_type": "execute_result"
    }
   ],
   "source": [
    "\n",
    "plt.figure(figsize = (5, 3))\n",
    "inds_max = FO.select_frames(FO.global_stats['max'], FO.global_stats['max'].max()*0.8) # Select only images with high intensity to increase contrast and lower computation time\n",
    "inds_med = FO.select_frames(FO.global_stats['max'], FO.global_stats['max'].max()*0.1) # Select only images with high intensity to increase contrast and lower computation time\n",
    "FO.selected_inds = list(set(inds_med) - set(inds_max))\n",
    "\n",
    "#FO.selected_inds = FO.select_frames(FO.global_stats['max'], FO.global_stats['max'].max()*0.9) # Select only images with high intensity to increase contrast and lower computation time\n",
    "#FO.crop() #crop image\n",
    "imref = FO.frames[FO.selected_inds].sum(axis = 0)\n",
    "\n",
    "plt.imshow(imref)\n"
   ]
  },
  {
   "cell_type": "code",
   "execution_count": 29,
   "metadata": {},
   "outputs": [
    {
     "name": "stdout",
     "output_type": "stream",
     "text": [
      "--- Computed binary mask in 81.728597 seconds ---\n"
     ]
    },
    {
     "data": {
      "application/vnd.jupyter.widget-view+json": {
       "model_id": "8c638feb175f4e6e83969505047cc3aa",
       "version_major": 2,
       "version_minor": 0
      },
      "text/plain": [
       "Canvas(toolbar=Toolbar(toolitems=[('Home', 'Reset original view', 'home', 'home'), ('Back', 'Back to previous …"
      ]
     },
     "metadata": {},
     "output_type": "display_data"
    },
    {
     "data": {
      "application/vnd.jupyter.widget-view+json": {
       "model_id": "65147147ae634936924033e01f10512f",
       "version_major": 2,
       "version_minor": 0
      },
      "text/plain": [
       "Canvas(toolbar=Toolbar(toolitems=[('Home', 'Reset original view', 'home', 'home'), ('Back', 'Back to previous …"
      ]
     },
     "metadata": {},
     "output_type": "display_data"
    },
    {
     "name": "stdout",
     "output_type": "stream",
     "text": [
      "--- Computed binary mask in 167.206381 seconds ---\n"
     ]
    },
    {
     "data": {
      "application/vnd.jupyter.widget-view+json": {
       "model_id": "a5b211ba6af342feb22cd0d2bd51c7f3",
       "version_major": 2,
       "version_minor": 0
      },
      "text/plain": [
       "Canvas(toolbar=Toolbar(toolitems=[('Home', 'Reset original view', 'home', 'home'), ('Back', 'Back to previous …"
      ]
     },
     "metadata": {},
     "output_type": "display_data"
    },
    {
     "data": {
      "application/vnd.jupyter.widget-view+json": {
       "model_id": "733622b18fcb4e2e8213986ad79b162e",
       "version_major": 2,
       "version_minor": 0
      },
      "text/plain": [
       "Canvas(toolbar=Toolbar(toolitems=[('Home', 'Reset original view', 'home', 'home'), ('Back', 'Back to previous …"
      ]
     },
     "metadata": {},
     "output_type": "display_data"
    },
    {
     "name": "stderr",
     "output_type": "stream",
     "text": [
      "g:\\dream\\from_github\\alienlab\\alienlab\\segment.py:38: FutureWarning: indices argument is deprecated and will be removed in version 0.20. To avoid this warning, please do not use the indices argument. Please see peak_local_max documentation for more details.\n",
      "  local_maxi = skimage.feature.peak_local_max(im, indices = False, min_distance=min_distance)\n",
      "g:\\dream\\from_github\\alienlab\\alienlab\\segment.py:41: FutureWarning: indices argument is deprecated and will be removed in version 0.20. To avoid this warning, please do not use the indices argument. Please see peak_local_max documentation for more details.\n",
      "  dist_local_maxi = skimage.feature.peak_local_max(distance, indices = False, min_distance=min_distance)\n"
     ]
    },
    {
     "data": {
      "application/vnd.jupyter.widget-view+json": {
       "model_id": "4bb48247d826414385190ad305b2bebc",
       "version_major": 2,
       "version_minor": 0
      },
      "text/plain": [
       "Canvas(toolbar=Toolbar(toolitems=[('Home', 'Reset original view', 'home', 'home'), ('Back', 'Back to previous …"
      ]
     },
     "metadata": {},
     "output_type": "display_data"
    },
    {
     "data": {
      "application/vnd.jupyter.widget-view+json": {
       "model_id": "6062f59db07c4c9f9b171c3ea0d1fba4",
       "version_major": 2,
       "version_minor": 0
      },
      "text/plain": [
       "Canvas(toolbar=Toolbar(toolitems=[('Home', 'Reset original view', 'home', 'home'), ('Back', 'Back to previous …"
      ]
     },
     "metadata": {},
     "output_type": "display_data"
    },
    {
     "data": {
      "application/vnd.jupyter.widget-view+json": {
       "model_id": "7600d15b47114066a14801ebe64ce173",
       "version_major": 2,
       "version_minor": 0
      },
      "text/plain": [
       "Canvas(toolbar=Toolbar(toolitems=[('Home', 'Reset original view', 'home', 'home'), ('Back', 'Back to previous …"
      ]
     },
     "metadata": {},
     "output_type": "display_data"
    },
    {
     "name": "stderr",
     "output_type": "stream",
     "text": [
      "C:\\Users\\Alienor\\anaconda3\\envs\\arduino\\lib\\site-packages\\matplotlib\\cbook\\__init__.py:2293: ResourceWarning: unclosed file <_io.BufferedReader name='G:\\\\DREAM\\\\from_github\\\\PAMFluo\\\\Experiments\\\\FOLDER_2021-11-03_300s_2_levels\\\\2021-11-03_02_46_qE_calib\\\\2021-11-03_03_17_output_plot.csv'>\n",
      "  for t, s in zip(target_shape, data_shape)\n",
      "ResourceWarning: Enable tracemalloc to get the object allocation traceback\n"
     ]
    },
    {
     "data": {
      "application/vnd.jupyter.widget-view+json": {
       "model_id": "a131c615fc404bbf8b2bf93b8fcdeac6",
       "version_major": 2,
       "version_minor": 0
      },
      "text/plain": [
       "Canvas(toolbar=Toolbar(toolitems=[('Home', 'Reset original view', 'home', 'home'), ('Back', 'Back to previous …"
      ]
     },
     "metadata": {},
     "output_type": "display_data"
    },
    {
     "name": "stdout",
     "output_type": "stream",
     "text": [
      "--- Computed segmentation in 1.074109 seconds ---\n"
     ]
    },
    {
     "data": {
      "application/vnd.jupyter.widget-view+json": {
       "model_id": "eb8fdc0e010149b79f71daea87c802f0",
       "version_major": 2,
       "version_minor": 0
      },
      "text/plain": [
       "Canvas(toolbar=Toolbar(toolitems=[('Home', 'Reset original view', 'home', 'home'), ('Back', 'Back to previous …"
      ]
     },
     "metadata": {},
     "output_type": "display_data"
    },
    {
     "name": "stderr",
     "output_type": "stream",
     "text": [
      "100%|████████████████████████████████████████████████████████████████████████████████| 384/384 [00:12<00:00, 29.72it/s]\n"
     ]
    }
   ],
   "source": [
    "def segment_image(contrast, autolevel, dist_max, dist_seg, disk_size, max_contrast, interact = True, showit = show):\n",
    "    \n",
    "    start_time = time.time()\n",
    "    inds_max = FO.select_frames(FO.global_stats['max'], FO.global_stats['max'].max()*0.9) # Select only images with high intensity to increase contrast and lower computation time\n",
    "    inds_med = FO.select_frames(FO.global_stats['max'], FO.global_stats['max'].max()*0.1) # Select only images with high intensity to increase contrast and lower computation time\n",
    "    FO.selected_inds = np.array(list(set(inds_med) - set(inds_max)))\n",
    "    \n",
    "    def make_mask(contrast, autolevel, dist_max, dist_seg, disk_size, max_contrast, soft_hard_contrast, soft_hard_autolevel):\n",
    "        #apply contrast filter to all frames\n",
    "        frames_contrast = FO.apply(skimage.filters.rank.enhance_contrast,  selem = skimage.morphology.disk(contrast))\n",
    "        #apply autolevel filter to all frames\n",
    "        frames_autolevel = FO.apply(skimage.filters.rank.autolevel, selem = skimage.morphology.disk(autolevel))\n",
    "        #sum the contrast images to get a reference grey-level contrast image\n",
    "        frame_contrast = np.sum(frames_contrast, axis = 0)\n",
    "        #sum the autolevel images to get a reference grey-level autolevel image\n",
    "        frame_autolevel = np.sum(frames_autolevel, axis = 0)\n",
    "        #obtain contrast mask from reference contrast image\n",
    "        mask_contrast = make_binary(frame_contrast, soft_hard = soft_hard_contrast)\n",
    "        #otbain autolevel mask from reference autolevel image\n",
    "        mask_autolevel =  make_binary(frame_autolevel, soft_hard = soft_hard_autolevel)\n",
    "        #intersection of contrast aud autolevel masks\n",
    "        mask_intersect = mask_contrast * mask_autolevel\n",
    "        #clean the masks with a binary opening\n",
    "        mask_intersect = skimage.morphology.binary_opening(mask_intersect, selem = skimage.morphology.disk(disk_size))\n",
    "        #mask_intersect = skimage.morphology.binary_erosion(mask_intersect, selem = skimage.morphology.disk(disk_size))\n",
    "\n",
    "        #reference image of altitude for the watershed\n",
    "        auto_contrast = normalize(mask_intersect * frame_autolevel)\n",
    "        print(\"--- Computed binary mask in %04f seconds ---\" % (time.time() - start_time))\n",
    "\n",
    "        g.cmap = \"inferno\"\n",
    "        if showit:\n",
    "            g.figsize = (20,8)\n",
    "            g.title_list =  'contrast', 'contrast threshold', 'mask intersect','autolevel', 'autolevel threshold','segmentation image'\n",
    "            g.col_num = 3\n",
    "            fig = g.multi([frame_contrast, mask_contrast, mask_intersect, \n",
    "                           frame_autolevel, mask_autolevel,  auto_contrast])\n",
    "            g.save_name = 'Segmentation reference'\n",
    "            g.saving(fig)\n",
    "            \n",
    "        return auto_contrast, mask_intersect\n",
    "    \n",
    "    auto_contrast, mask_intersect = make_mask(contrast, autolevel, dist_max, dist_seg, disk_size, max_contrast, soft_hard_contrast = 1, soft_hard_autolevel = 1)\n",
    "    ref, mask = make_mask(contrast, autolevel, dist_max, dist_seg, disk_size, max_contrast, soft_hard_contrast = 0.3, soft_hard_autolevel = 0.5)\n",
    "\n",
    "    start_time = time.time()\n",
    "\n",
    "    #locate the local maxima\n",
    "    local_maxi = alienlab.segment.local_maxima(auto_contrast, max_contrast, g,\n",
    "                                                     ref_distance = dist_max, mask = mask_intersect, show = showit)\n",
    "    #perform watershed segmentation\n",
    "    watershed_im_mask = alienlab.segment.watershed(ref*mask_intersect, mask , local_maxi,\n",
    "                                                         g, ref_distance = dist_seg, show = True)\n",
    "    segmented = watershed_im_mask\n",
    "    print(\"--- Computed segmentation in %04f seconds ---\" % (time.time() - start_time))\n",
    "\n",
    "    #if showit:\n",
    "    #    alienlab.segment.show_segmentation(FO, segmented, g)\n",
    "        \n",
    "    if interact == False:\n",
    "       return watershed_im_mask, FO\n",
    "    \n",
    "mask, FO = segment_image(contrast = 6, autolevel = 5, dist_max = True, dist_seg=True, disk_size = 1, max_contrast = 3, interact = False, showit= True)\n",
    "\n",
    "g.cmap = \"tab20\"\n",
    "g.figsize = (10,5)\n",
    "fig = g.multi(mask)\n",
    "plt.savefig(f + \"/segmented.pdf\")\n",
    "L, H  = np.shape(mask)\n",
    "\n",
    "items_dict = label_to_data(mask, FO)"
   ]
  },
  {
   "cell_type": "code",
   "execution_count": 30,
   "metadata": {},
   "outputs": [
    {
     "data": {
      "application/vnd.jupyter.widget-view+json": {
       "model_id": "e7c2dfa0de5245cab3e42fc336a92e74",
       "version_major": 2,
       "version_minor": 0
      },
      "text/plain": [
       "Canvas(toolbar=Toolbar(toolitems=[('Home', 'Reset original view', 'home', 'home'), ('Back', 'Back to previous …"
      ]
     },
     "metadata": {},
     "output_type": "display_data"
    }
   ],
   "source": [
    "p.yval = zone[1::2]\n",
    "p.xval = time_zone[1::2]\n",
    "p.label_list = [\"%d\"%i for i in range(len(zone))]\n",
    "k = p.plotting(p.xval, p.yval)\n"
   ]
  },
  {
   "cell_type": "code",
   "execution_count": 31,
   "metadata": {},
   "outputs": [
    {
     "data": {
      "application/vnd.jupyter.widget-view+json": {
       "model_id": "e7195ed21e654e2e9a376c4c766e2ce6",
       "version_major": 2,
       "version_minor": 0
      },
      "text/plain": [
       "Canvas(toolbar=Toolbar(toolitems=[('Home', 'Reset original view', 'home', 'home'), ('Back', 'Back to previous …"
      ]
     },
     "metadata": {},
     "output_type": "display_data"
    },
    {
     "data": {
      "application/vnd.jupyter.widget-view+json": {
       "model_id": "18e858ca573d400191e170603f27a679",
       "version_major": 2,
       "version_minor": 0
      },
      "text/plain": [
       "Canvas(toolbar=Toolbar(toolitems=[('Home', 'Reset original view', 'home', 'home'), ('Back', 'Back to previous …"
      ]
     },
     "metadata": {},
     "output_type": "display_data"
    },
    {
     "data": {
      "text/plain": [
       "Text(0, 0.5, 'fluorescence intensity')"
      ]
     },
     "execution_count": 31,
     "metadata": {},
     "output_type": "execute_result"
    }
   ],
   "source": [
    "fig, axs = plt.subplots(1, 3, figsize=(12, 4))\n",
    "#x0, x1, y0, y1 = 100, 500, 300, 700\n",
    "#x0, x1, y0, y1 = 10, 800, 30, 1000\n",
    "axs[0].imshow(np.mean(video_sequence[0], axis = 0), cmap = \"gray\")#[2, x0:x1, y0:y1], vmin = 0, vmax = 30)\n",
    "\n",
    "plt.figure(figsize = (10, 5))\n",
    "plt.plot(v_time_high, np.mean(video_sequence[0][:, 100:500, 300:700], axis = (1,2)))\n",
    "plt.xlabel(\"time (s)\")\n",
    "plt.ylabel(\"fluorescence intensity\")"
   ]
  },
  {
   "cell_type": "code",
   "execution_count": 32,
   "metadata": {},
   "outputs": [
    {
     "name": "stderr",
     "output_type": "stream",
     "text": [
      "100%|████████████████████████████████████████████████████████████████████████████████| 384/384 [00:05<00:00, 73.88it/s]\n"
     ]
    }
   ],
   "source": [
    "\n",
    "video_high = []\n",
    "\n",
    "file_path = f + \"/video.tiff\"\n",
    "video_file_high = tiff.imread(file_path)\n",
    "\n",
    "\n",
    "algae_list = list(items_dict.keys())\n",
    "for P in [5]:#[len(algae_list)]:#[8, 10, 12, 15, 18, 20, 25, 30, 35, 40, 60, 90, 120, 180, 200, 250, 300, 400, 500, 600, 700]:\n",
    "\n",
    "    #for algae in random.sample(algae_list, P):\n",
    "    for algae in tqdm(algae_list):\n",
    "        #if int(algae):# in ['1', '80', '400', '250']:\n",
    "            i = 0\n",
    "\n",
    "\n",
    "            x_coords =  items_dict[algae]['x_coords']\n",
    "            y_coords =  items_dict[algae]['y_coords']\n",
    "            \n",
    "            trace = np.mean(video_file_high[:, x_coords, y_coords], axis = (1))\n",
    "            video_high.append(np.array(trace))\n",
    "\n",
    "video_high = np.array(video_high)\n"
   ]
  },
  {
   "cell_type": "code",
   "execution_count": 33,
   "metadata": {},
   "outputs": [
    {
     "data": {
      "application/vnd.jupyter.widget-view+json": {
       "model_id": "3d7ba01206094d43a6dad1f3117197d5",
       "version_major": 2,
       "version_minor": 0
      },
      "text/plain": [
       "Canvas(toolbar=Toolbar(toolitems=[('Home', 'Reset original view', 'home', 'home'), ('Back', 'Back to previous …"
      ]
     },
     "metadata": {},
     "output_type": "display_data"
    },
    {
     "name": "stdout",
     "output_type": "stream",
     "text": [
      "(1, 608, 968)\n",
      "(6, 608, 968)\n",
      "(2, 608, 968)\n",
      "(11, 608, 968)\n",
      "(7, 608, 968)\n",
      "(142, 608, 968)\n",
      "(7, 608, 968)\n",
      "(121, 608, 968)\n",
      "(15, 608, 968)\n",
      "(281, 608, 968)\n",
      "(1, 608, 968)\n",
      "(13, 608, 968)\n",
      "(8, 608, 968)\n",
      "(158, 608, 968)\n",
      "(6, 608, 968)\n",
      "(103, 608, 968)\n",
      "(15, 608, 968)\n",
      "(281, 608, 968)\n",
      "(1, 608, 968)\n",
      "(12, 608, 968)\n",
      "(10, 608, 968)\n",
      "(196, 608, 968)\n",
      "(4, 608, 968)\n",
      "(65, 608, 968)\n",
      "(15, 608, 968)\n",
      "(270, 608, 968)\n"
     ]
    },
    {
     "name": "stderr",
     "output_type": "stream",
     "text": [
      "g:\\dream\\from_github\\alienlab\\alienlab\\regression_func.py:70: RuntimeWarning: overflow encountered in exp\n",
      "  return A * np.exp(-xdata/tau) + y0\n",
      "g:\\dream\\from_github\\alienlab\\alienlab\\regression_func.py:70: RuntimeWarning: overflow encountered in exp\n",
      "  return A * np.exp(-xdata/tau) + y0\n",
      "g:\\dream\\from_github\\alienlab\\alienlab\\regression_func.py:70: RuntimeWarning: overflow encountered in multiply\n",
      "  return A * np.exp(-xdata/tau) + y0\n",
      "g:\\dream\\from_github\\alienlab\\alienlab\\regression_func.py:70: RuntimeWarning: overflow encountered in exp\n",
      "  return A * np.exp(-xdata/tau) + y0\n",
      "g:\\dream\\from_github\\alienlab\\alienlab\\regression_func.py:70: RuntimeWarning: overflow encountered in exp\n",
      "  return A * np.exp(-xdata/tau) + y0\n",
      "g:\\dream\\from_github\\alienlab\\alienlab\\regression_func.py:70: RuntimeWarning: overflow encountered in exp\n",
      "  return A * np.exp(-xdata/tau) + y0\n",
      "g:\\dream\\from_github\\alienlab\\alienlab\\regression_func.py:70: RuntimeWarning: overflow encountered in exp\n",
      "  return A * np.exp(-xdata/tau) + y0\n",
      "g:\\dream\\from_github\\alienlab\\alienlab\\regression_func.py:70: RuntimeWarning: overflow encountered in multiply\n",
      "  return A * np.exp(-xdata/tau) + y0\n"
     ]
    }
   ],
   "source": [
    "\n",
    "\n",
    "flat_mask = mask.flatten()\n",
    "\n",
    "\n",
    "L = len(video_zone) + 1\n",
    "col = 6\n",
    "fig, axs = plt.subplots(col, 5, figsize=(20,20))\n",
    "\n",
    "video_list_init = video_zone\n",
    "time_list = time_zone\n",
    "video_list = []\n",
    "for video in video_list_init:\n",
    "    print(video.shape)\n",
    "    if video.shape[0]!=0:\n",
    "        video_list.append(video)\n",
    "\n",
    "for i, video in enumerate(video_list): \n",
    "    video_list[i] = video.reshape(video.shape[0], -1)\n",
    "\n",
    "\n",
    "\n",
    "for ind in [3, 9, 12]:\n",
    "    if ind != 0:\n",
    "        pos = flat_mask == ind\n",
    "        for i, video in enumerate(video_list):\n",
    "            if i>1 and len(time_list[i])>2:\n",
    "                y = np.mean(video[:, pos], axis = 1)    \n",
    "                x = time_list[i]\n",
    "                params, ypred = get_fit(y, x-x[0], give_y = True)\n",
    "                axs[(i+1)%col][(i+1)//col].plot(x, ypred, label = params[1])\n",
    "                axs[(i+1)%col][(i+1)//col].plot(x, y, '.')\n",
    "                axs[(i+1)%col][(i+1)//col].legend()\n",
    "                axs[(i+1)%col][(i+1)//col].set_title(\"zone %d\"%i)\n",
    "\n",
    "plt.savefig(f + \"/example_algae.pdf\")"
   ]
  },
  {
   "cell_type": "code",
   "execution_count": 56,
   "metadata": {},
   "outputs": [
    {
     "data": {
      "text/plain": [
       "array([620.196662])"
      ]
     },
     "execution_count": 56,
     "metadata": {},
     "output_type": "execute_result"
    }
   ],
   "source": [
    "x"
   ]
  },
  {
   "attachments": {
    "f884e135-56f7-43ea-b1cd-4e189077e550.png": {
     "image/png": "[encoded data removed]"
    }
   },
   "cell_type": "markdown",
   "metadata": {},
   "source": [
    "![image.png](attachment:f884e135-56f7-43ea-b1cd-4e189077e550.png)"
   ]
  },
  {
   "cell_type": "code",
   "execution_count": 34,
   "metadata": {},
   "outputs": [
    {
     "data": {
      "application/vnd.jupyter.widget-view+json": {
       "model_id": "fc0beeb376d9400db9e0340988dcbd2a",
       "version_major": 2,
       "version_minor": 0
      },
      "text/plain": [
       "Canvas(toolbar=Toolbar(toolitems=[('Home', 'Reset original view', 'home', 'home'), ('Back', 'Back to previous …"
      ]
     },
     "metadata": {},
     "output_type": "display_data"
    },
    {
     "name": "stderr",
     "output_type": "stream",
     "text": [
      "<ipython-input-34-5062cfc32146>:19: RuntimeWarning: invalid value encountered in log\n",
      "  axs[0].imshow(np.log(im_tau_high))\n"
     ]
    },
    {
     "data": {
      "application/vnd.jupyter.widget-view+json": {
       "model_id": "b9826f14bf1c46648fb333a1c7a11efb",
       "version_major": 2,
       "version_minor": 0
      },
      "text/plain": [
       "Canvas(toolbar=Toolbar(toolitems=[('Home', 'Reset original view', 'home', 'home'), ('Back', 'Back to previous …"
      ]
     },
     "metadata": {},
     "output_type": "display_data"
    },
    {
     "data": {
      "application/vnd.jupyter.widget-view+json": {
       "model_id": "605584f3e183480c87797217c840e197",
       "version_major": 2,
       "version_minor": 0
      },
      "text/plain": [
       "Canvas(toolbar=Toolbar(toolitems=[('Home', 'Reset original view', 'home', 'home'), ('Back', 'Back to previous …"
      ]
     },
     "metadata": {},
     "output_type": "display_data"
    },
    {
     "name": "stderr",
     "output_type": "stream",
     "text": [
      "<ipython-input-34-5062cfc32146>:19: RuntimeWarning: invalid value encountered in log\n",
      "  axs[0].imshow(np.log(im_tau_high))\n"
     ]
    },
    {
     "data": {
      "application/vnd.jupyter.widget-view+json": {
       "model_id": "b6d5d2de38f045de81773d77ec8c0688",
       "version_major": 2,
       "version_minor": 0
      },
      "text/plain": [
       "Canvas(toolbar=Toolbar(toolitems=[('Home', 'Reset original view', 'home', 'home'), ('Back', 'Back to previous …"
      ]
     },
     "metadata": {},
     "output_type": "display_data"
    },
    {
     "name": "stderr",
     "output_type": "stream",
     "text": [
      "<ipython-input-34-5062cfc32146>:19: RuntimeWarning: invalid value encountered in log\n",
      "  axs[0].imshow(np.log(im_tau_high))\n",
      "<ipython-input-34-5062cfc32146>:19: RuntimeWarning: invalid value encountered in log\n",
      "  axs[0].imshow(np.log(im_tau_high))\n"
     ]
    },
    {
     "data": {
      "application/vnd.jupyter.widget-view+json": {
       "model_id": "55921f8c33f642a48479f875a0562a8a",
       "version_major": 2,
       "version_minor": 0
      },
      "text/plain": [
       "Canvas(toolbar=Toolbar(toolitems=[('Home', 'Reset original view', 'home', 'home'), ('Back', 'Back to previous …"
      ]
     },
     "metadata": {},
     "output_type": "display_data"
    },
    {
     "ename": "ValueError",
     "evalue": "Residuals are not finite in the initial point.",
     "output_type": "error",
     "traceback": [
      "\u001b[1;31m---------------------------------------------------------------------------\u001b[0m",
      "\u001b[1;31mValueError\u001b[0m                                Traceback (most recent call last)",
      "\u001b[1;32m<ipython-input-34-5062cfc32146>\u001b[0m in \u001b[0;36m<module>\u001b[1;34m\u001b[0m\n\u001b[0;32m      6\u001b[0m \u001b[1;33m\u001b[0m\u001b[0m\n\u001b[0;32m      7\u001b[0m     \u001b[0mS\u001b[0m \u001b[1;33m=\u001b[0m \u001b[0mvideo_zone\u001b[0m\u001b[1;33m[\u001b[0m\u001b[0mz\u001b[0m\u001b[1;33m]\u001b[0m\u001b[1;33m.\u001b[0m\u001b[0mshape\u001b[0m\u001b[1;33m[\u001b[0m\u001b[1;36m0\u001b[0m\u001b[1;33m]\u001b[0m\u001b[1;33m\u001b[0m\u001b[1;33m\u001b[0m\u001b[0m\n\u001b[1;32m----> 8\u001b[1;33m     \u001b[0mparams_high\u001b[0m \u001b[1;33m=\u001b[0m \u001b[0mParallel\u001b[0m\u001b[1;33m(\u001b[0m\u001b[0mn_jobs\u001b[0m \u001b[1;33m=\u001b[0m \u001b[1;33m-\u001b[0m\u001b[1;36m1\u001b[0m \u001b[1;33m)\u001b[0m\u001b[1;33m(\u001b[0m\u001b[0mdelayed\u001b[0m\u001b[1;33m(\u001b[0m\u001b[0mget_fit\u001b[0m\u001b[1;33m)\u001b[0m\u001b[1;33m(\u001b[0m\u001b[0mnp\u001b[0m\u001b[1;33m.\u001b[0m\u001b[0mmean\u001b[0m\u001b[1;33m(\u001b[0m\u001b[0mvideo_zone\u001b[0m\u001b[1;33m[\u001b[0m\u001b[0mz\u001b[0m\u001b[1;33m]\u001b[0m\u001b[1;33m.\u001b[0m\u001b[0mreshape\u001b[0m\u001b[1;33m(\u001b[0m\u001b[0mS\u001b[0m\u001b[1;33m,\u001b[0m \u001b[1;33m-\u001b[0m\u001b[1;36m1\u001b[0m\u001b[1;33m)\u001b[0m\u001b[1;33m[\u001b[0m\u001b[1;33m:\u001b[0m\u001b[1;33m,\u001b[0m\u001b[0mflat_mask\u001b[0m\u001b[1;33m==\u001b[0m\u001b[0mi\u001b[0m\u001b[1;33m]\u001b[0m\u001b[1;33m,\u001b[0m \u001b[0maxis\u001b[0m \u001b[1;33m=\u001b[0m \u001b[1;36m1\u001b[0m\u001b[1;33m)\u001b[0m\u001b[1;33m,\u001b[0m \u001b[0mtime_zone\u001b[0m\u001b[1;33m[\u001b[0m\u001b[0mz\u001b[0m\u001b[1;33m]\u001b[0m\u001b[1;33m)\u001b[0m \u001b[1;32mfor\u001b[0m \u001b[0mi\u001b[0m \u001b[1;32min\u001b[0m \u001b[0mrange\u001b[0m\u001b[1;33m(\u001b[0m\u001b[0mlen\u001b[0m\u001b[1;33m(\u001b[0m\u001b[0malgae_list\u001b[0m\u001b[1;33m)\u001b[0m\u001b[1;33m)\u001b[0m\u001b[1;33m)\u001b[0m\u001b[1;33m\u001b[0m\u001b[1;33m\u001b[0m\u001b[0m\n\u001b[0m\u001b[0;32m      9\u001b[0m     \u001b[0mparams_tot\u001b[0m\u001b[1;33m.\u001b[0m\u001b[0mappend\u001b[0m\u001b[1;33m(\u001b[0m\u001b[0mnp\u001b[0m\u001b[1;33m.\u001b[0m\u001b[0marray\u001b[0m\u001b[1;33m(\u001b[0m\u001b[0mparams_high\u001b[0m\u001b[1;33m)\u001b[0m\u001b[1;33m)\u001b[0m\u001b[1;33m\u001b[0m\u001b[1;33m\u001b[0m\u001b[0m\n\u001b[0;32m     10\u001b[0m     \u001b[0mim_tau_high\u001b[0m \u001b[1;33m=\u001b[0m \u001b[0mnp\u001b[0m\u001b[1;33m.\u001b[0m\u001b[0mzeros\u001b[0m\u001b[1;33m(\u001b[0m\u001b[0mmask\u001b[0m\u001b[1;33m.\u001b[0m\u001b[0mshape\u001b[0m\u001b[1;33m)\u001b[0m\u001b[1;33m\u001b[0m\u001b[1;33m\u001b[0m\u001b[0m\n",
      "\u001b[1;32m~\\anaconda3\\envs\\arduino\\lib\\site-packages\\joblib\\parallel.py\u001b[0m in \u001b[0;36m__call__\u001b[1;34m(self, iterable)\u001b[0m\n\u001b[0;32m   1052\u001b[0m \u001b[1;33m\u001b[0m\u001b[0m\n\u001b[0;32m   1053\u001b[0m             \u001b[1;32mwith\u001b[0m \u001b[0mself\u001b[0m\u001b[1;33m.\u001b[0m\u001b[0m_backend\u001b[0m\u001b[1;33m.\u001b[0m\u001b[0mretrieval_context\u001b[0m\u001b[1;33m(\u001b[0m\u001b[1;33m)\u001b[0m\u001b[1;33m:\u001b[0m\u001b[1;33m\u001b[0m\u001b[1;33m\u001b[0m\u001b[0m\n\u001b[1;32m-> 1054\u001b[1;33m                 \u001b[0mself\u001b[0m\u001b[1;33m.\u001b[0m\u001b[0mretrieve\u001b[0m\u001b[1;33m(\u001b[0m\u001b[1;33m)\u001b[0m\u001b[1;33m\u001b[0m\u001b[1;33m\u001b[0m\u001b[0m\n\u001b[0m\u001b[0;32m   1055\u001b[0m             \u001b[1;31m# Make sure that we get a last message telling us we are done\u001b[0m\u001b[1;33m\u001b[0m\u001b[1;33m\u001b[0m\u001b[1;33m\u001b[0m\u001b[0m\n\u001b[0;32m   1056\u001b[0m             \u001b[0melapsed_time\u001b[0m \u001b[1;33m=\u001b[0m \u001b[0mtime\u001b[0m\u001b[1;33m.\u001b[0m\u001b[0mtime\u001b[0m\u001b[1;33m(\u001b[0m\u001b[1;33m)\u001b[0m \u001b[1;33m-\u001b[0m \u001b[0mself\u001b[0m\u001b[1;33m.\u001b[0m\u001b[0m_start_time\u001b[0m\u001b[1;33m\u001b[0m\u001b[1;33m\u001b[0m\u001b[0m\n",
      "\u001b[1;32m~\\anaconda3\\envs\\arduino\\lib\\site-packages\\joblib\\parallel.py\u001b[0m in \u001b[0;36mretrieve\u001b[1;34m(self)\u001b[0m\n\u001b[0;32m    931\u001b[0m             \u001b[1;32mtry\u001b[0m\u001b[1;33m:\u001b[0m\u001b[1;33m\u001b[0m\u001b[1;33m\u001b[0m\u001b[0m\n\u001b[0;32m    932\u001b[0m                 \u001b[1;32mif\u001b[0m \u001b[0mgetattr\u001b[0m\u001b[1;33m(\u001b[0m\u001b[0mself\u001b[0m\u001b[1;33m.\u001b[0m\u001b[0m_backend\u001b[0m\u001b[1;33m,\u001b[0m \u001b[1;34m'supports_timeout'\u001b[0m\u001b[1;33m,\u001b[0m \u001b[1;32mFalse\u001b[0m\u001b[1;33m)\u001b[0m\u001b[1;33m:\u001b[0m\u001b[1;33m\u001b[0m\u001b[1;33m\u001b[0m\u001b[0m\n\u001b[1;32m--> 933\u001b[1;33m                     \u001b[0mself\u001b[0m\u001b[1;33m.\u001b[0m\u001b[0m_output\u001b[0m\u001b[1;33m.\u001b[0m\u001b[0mextend\u001b[0m\u001b[1;33m(\u001b[0m\u001b[0mjob\u001b[0m\u001b[1;33m.\u001b[0m\u001b[0mget\u001b[0m\u001b[1;33m(\u001b[0m\u001b[0mtimeout\u001b[0m\u001b[1;33m=\u001b[0m\u001b[0mself\u001b[0m\u001b[1;33m.\u001b[0m\u001b[0mtimeout\u001b[0m\u001b[1;33m)\u001b[0m\u001b[1;33m)\u001b[0m\u001b[1;33m\u001b[0m\u001b[1;33m\u001b[0m\u001b[0m\n\u001b[0m\u001b[0;32m    934\u001b[0m                 \u001b[1;32melse\u001b[0m\u001b[1;33m:\u001b[0m\u001b[1;33m\u001b[0m\u001b[1;33m\u001b[0m\u001b[0m\n\u001b[0;32m    935\u001b[0m                     \u001b[0mself\u001b[0m\u001b[1;33m.\u001b[0m\u001b[0m_output\u001b[0m\u001b[1;33m.\u001b[0m\u001b[0mextend\u001b[0m\u001b[1;33m(\u001b[0m\u001b[0mjob\u001b[0m\u001b[1;33m.\u001b[0m\u001b[0mget\u001b[0m\u001b[1;33m(\u001b[0m\u001b[1;33m)\u001b[0m\u001b[1;33m)\u001b[0m\u001b[1;33m\u001b[0m\u001b[1;33m\u001b[0m\u001b[0m\n",
      "\u001b[1;32m~\\anaconda3\\envs\\arduino\\lib\\site-packages\\joblib\\_parallel_backends.py\u001b[0m in \u001b[0;36mwrap_future_result\u001b[1;34m(future, timeout)\u001b[0m\n\u001b[0;32m    540\u001b[0m         AsyncResults.get from multiprocessing.\"\"\"\n\u001b[0;32m    541\u001b[0m         \u001b[1;32mtry\u001b[0m\u001b[1;33m:\u001b[0m\u001b[1;33m\u001b[0m\u001b[1;33m\u001b[0m\u001b[0m\n\u001b[1;32m--> 542\u001b[1;33m             \u001b[1;32mreturn\u001b[0m \u001b[0mfuture\u001b[0m\u001b[1;33m.\u001b[0m\u001b[0mresult\u001b[0m\u001b[1;33m(\u001b[0m\u001b[0mtimeout\u001b[0m\u001b[1;33m=\u001b[0m\u001b[0mtimeout\u001b[0m\u001b[1;33m)\u001b[0m\u001b[1;33m\u001b[0m\u001b[1;33m\u001b[0m\u001b[0m\n\u001b[0m\u001b[0;32m    543\u001b[0m         \u001b[1;32mexcept\u001b[0m \u001b[0mCfTimeoutError\u001b[0m \u001b[1;32mas\u001b[0m \u001b[0me\u001b[0m\u001b[1;33m:\u001b[0m\u001b[1;33m\u001b[0m\u001b[1;33m\u001b[0m\u001b[0m\n\u001b[0;32m    544\u001b[0m             \u001b[1;32mraise\u001b[0m \u001b[0mTimeoutError\u001b[0m \u001b[1;32mfrom\u001b[0m \u001b[0me\u001b[0m\u001b[1;33m\u001b[0m\u001b[1;33m\u001b[0m\u001b[0m\n",
      "\u001b[1;32m~\\anaconda3\\envs\\arduino\\lib\\concurrent\\futures\\_base.py\u001b[0m in \u001b[0;36mresult\u001b[1;34m(self, timeout)\u001b[0m\n\u001b[0;32m    435\u001b[0m                     \u001b[1;32mraise\u001b[0m \u001b[0mCancelledError\u001b[0m\u001b[1;33m(\u001b[0m\u001b[1;33m)\u001b[0m\u001b[1;33m\u001b[0m\u001b[1;33m\u001b[0m\u001b[0m\n\u001b[0;32m    436\u001b[0m                 \u001b[1;32melif\u001b[0m \u001b[0mself\u001b[0m\u001b[1;33m.\u001b[0m\u001b[0m_state\u001b[0m \u001b[1;33m==\u001b[0m \u001b[0mFINISHED\u001b[0m\u001b[1;33m:\u001b[0m\u001b[1;33m\u001b[0m\u001b[1;33m\u001b[0m\u001b[0m\n\u001b[1;32m--> 437\u001b[1;33m                     \u001b[1;32mreturn\u001b[0m \u001b[0mself\u001b[0m\u001b[1;33m.\u001b[0m\u001b[0m__get_result\u001b[0m\u001b[1;33m(\u001b[0m\u001b[1;33m)\u001b[0m\u001b[1;33m\u001b[0m\u001b[1;33m\u001b[0m\u001b[0m\n\u001b[0m\u001b[0;32m    438\u001b[0m \u001b[1;33m\u001b[0m\u001b[0m\n\u001b[0;32m    439\u001b[0m                 \u001b[0mself\u001b[0m\u001b[1;33m.\u001b[0m\u001b[0m_condition\u001b[0m\u001b[1;33m.\u001b[0m\u001b[0mwait\u001b[0m\u001b[1;33m(\u001b[0m\u001b[0mtimeout\u001b[0m\u001b[1;33m)\u001b[0m\u001b[1;33m\u001b[0m\u001b[1;33m\u001b[0m\u001b[0m\n",
      "\u001b[1;32m~\\anaconda3\\envs\\arduino\\lib\\concurrent\\futures\\_base.py\u001b[0m in \u001b[0;36m__get_result\u001b[1;34m(self)\u001b[0m\n\u001b[0;32m    387\u001b[0m         \u001b[1;32mif\u001b[0m \u001b[0mself\u001b[0m\u001b[1;33m.\u001b[0m\u001b[0m_exception\u001b[0m\u001b[1;33m:\u001b[0m\u001b[1;33m\u001b[0m\u001b[1;33m\u001b[0m\u001b[0m\n\u001b[0;32m    388\u001b[0m             \u001b[1;32mtry\u001b[0m\u001b[1;33m:\u001b[0m\u001b[1;33m\u001b[0m\u001b[1;33m\u001b[0m\u001b[0m\n\u001b[1;32m--> 389\u001b[1;33m                 \u001b[1;32mraise\u001b[0m \u001b[0mself\u001b[0m\u001b[1;33m.\u001b[0m\u001b[0m_exception\u001b[0m\u001b[1;33m\u001b[0m\u001b[1;33m\u001b[0m\u001b[0m\n\u001b[0m\u001b[0;32m    390\u001b[0m             \u001b[1;32mfinally\u001b[0m\u001b[1;33m:\u001b[0m\u001b[1;33m\u001b[0m\u001b[1;33m\u001b[0m\u001b[0m\n\u001b[0;32m    391\u001b[0m                 \u001b[1;31m# Break a reference cycle with the exception in self._exception\u001b[0m\u001b[1;33m\u001b[0m\u001b[1;33m\u001b[0m\u001b[1;33m\u001b[0m\u001b[0m\n",
      "\u001b[1;31mValueError\u001b[0m: Residuals are not finite in the initial point."
     ]
    }
   ],
   "source": [
    "params_tot = []\n",
    "im_tau = []\n",
    "for z in range(2,len(zone)):\n",
    "    if z%2==0:\n",
    "        fig, axs = plt.subplots(1, 3, figsize = (18, 4))\n",
    "\n",
    "    S = video_zone[z].shape[0]\n",
    "    params_high = Parallel(n_jobs = -1 )(delayed(get_fit)(np.mean(video_zone[z].reshape(S, -1)[:,flat_mask==i], axis = 1), time_zone[z]) for i in range(len(algae_list)))\n",
    "    params_tot.append(np.array(params_high))\n",
    "    im_tau_high = np.zeros(mask.shape)\n",
    "    for i in range(len(params_high)):\n",
    "        im_tau_high[mask==i]=params_high[i][1]\n",
    "\n",
    "    im_tau.append(im_tau_high)\n",
    "\n",
    "    params_high = np.array(params_high)\n",
    "    tau_high = params_high[:,1]\n",
    "    if z not in [20]:\n",
    "        axs[0].imshow(np.log(im_tau_high))\n",
    "        clipped = clip(tau_high, high =80, low = 2)\n",
    "        if z%2==0:\n",
    "            axs[1].hist(clipped, color = (1,0,0,0.5))\n",
    "        else:\n",
    "            axs[1].hist(clipped, color = (0,0,1,0.5))\n",
    "\n",
    "            axs[2].scatter(params_tot[z-3][:,1], params_tot[z-2][:,1])\n",
    "            axs[2].set_xlabel(\"time(s) pulses\")\n",
    "            axs[2].set_ylabel(\"time(s) FD\")\n",
    "            axs[2].set_title('zone %d'%z)\n",
    "            axs[2].set_xlim(clipped.min(), clipped.max())\n",
    "            axs[2].set_ylim(clipped.min(), clipped.max())\n",
    "    plt.savefig(f + \"/dispersion_zone%d.pdf\"%z)\n",
    "            \n",
    "np.save(f + \"/im_ref.npy\", imref)\n",
    "np.save(f + \"/im_tau_high.npy\", im_tau_high)"
   ]
  },
  {
   "cell_type": "code",
   "execution_count": 20,
   "metadata": {},
   "outputs": [
    {
     "name": "stderr",
     "output_type": "stream",
     "text": [
      "<ipython-input-20-70720d29f9e6>:12: RuntimeWarning: invalid value encountered in log\n",
      "  click_to_graph(mask, np.log(im_tau[3]),video_list,time_list, get_fit, clipit=False)\n"
     ]
    },
    {
     "data": {
      "application/vnd.jupyter.widget-view+json": {
       "model_id": "c8b9662e816a4be8ad7d8b44a6590008",
       "version_major": 2,
       "version_minor": 0
      },
      "text/plain": [
       "Canvas(toolbar=Toolbar(toolitems=[('Home', 'Reset original view', 'home', 'home'), ('Back', 'Back to previous …"
      ]
     },
     "metadata": {},
     "output_type": "display_data"
    },
    {
     "data": {
      "application/vnd.jupyter.widget-view+json": {
       "model_id": "ae3f0569187f4d4685b497b9ea79f040",
       "version_major": 2,
       "version_minor": 0
      },
      "text/plain": [
       "Textarea(value='', description='event:', placeholder='')"
      ]
     },
     "metadata": {},
     "output_type": "display_data"
    }
   ],
   "source": [
    "import importlib\n",
    "\n",
    "importlib.reload(alienlab.widget)\n",
    "from alienlab.widget import click_to_graph\n",
    "\n",
    "file_path = f + \"/video.tiff\"\n",
    "video_file_high = tiff.imread(file_path)\n",
    "\n",
    "video_list =  video_zone\n",
    "time_list =  time_zone\n",
    "initial_condition_list = [[],[],[],[],[],[],[],[]]\n",
    "click_to_graph(mask, np.log(im_tau[3]),video_list,time_list, get_fit, clipit=False)"
   ]
  },
  {
   "cell_type": "code",
   "execution_count": null,
   "metadata": {},
   "outputs": [],
   "source": []
  },
  {
   "cell_type": "markdown",
   "metadata": {},
   "source": [
    "# Compare"
   ]
  },
  {
   "cell_type": "code",
   "execution_count": null,
   "metadata": {},
   "outputs": [],
   "source": [
    "mdirectory = askdirectory()\n"
   ]
  },
  {
   "cell_type": "code",
   "execution_count": null,
   "metadata": {},
   "outputs": [],
   "source": [
    "list_directory = glob.glob(mdirectory + \"/*\")\n",
    "plt.figure()\n",
    "list_val =  [10, 30, 50, 100, 150, 200, 250, 300, 350, 400,10, 30, 50, 100, 150, 200, 250, 300, 350, 400, 450]\n",
    "for i in range(len(list_directory)):\n",
    "    file_folder = list_directory[i]\n",
    "    file_path = glob.glob(file_folder + \"/*_qE_decay.csv\")[0] # pops up a window to select your file\n",
    "    data = pd.read_csv(file_path)\n",
    "    time_array = np.array(data[\"time (s) q\"])\n",
    "    time_high = time_array[:-10]\n",
    "    fluo_high  = np.array(data[\"voltage (V) q\"])\n",
    "    fluo_high = fluo_high[:-10]\n",
    "    npq_high =  (fluo_high.max()-fluo_high)/fluo_high\n",
    "    plt.plot(time_high, npq_high, label = list_val[i])\n",
    "    file_path = glob.glob(file_folder + \"/*SP_before_after.csv\")[0] # pops up a window to select your file\n",
    "    data = np.genfromtxt(file_path)\n",
    "    fm = data[0][0]- data[0][1]\n",
    "    fmp = data[1][0]-data[1][1]\n",
    "    #plt.plot(list_val[i], (fm-fmp)/fmp, 'o')\n",
    "plt.legend()\n",
    "plt.show()"
   ]
  },
  {
   "cell_type": "code",
   "execution_count": null,
   "metadata": {},
   "outputs": [],
   "source": [
    "data[0]"
   ]
  },
  {
   "cell_type": "code",
   "execution_count": null,
   "metadata": {},
   "outputs": [],
   "source": [
    "list_directory = glob.glob(mdirectory + \"/*\")\n",
    "\n",
    "fig, axs = plt.subplots(2, 2, figsize=(12, 12))\n",
    "\n",
    "minute = 60\n",
    "lengths_pulse = [300, 150, 50]\n",
    "periods_pulse = [0.1*minute, 0.5*minute, 1*minute]\n",
    "move_plate = True\n",
    "\n",
    "n = 3\n",
    "means  = {}\n",
    "stds = {}\n",
    "means['high'] = np.zeros((n,n))\n",
    "stds['high'] =  np.zeros((n,n))\n",
    "means['pulses'] =  np.zeros((n,n))\n",
    "stds['pulses'] =  np.zeros((n,n))\n",
    "\n",
    "i = 0\n",
    "for k, length in enumerate(lengths_pulse): \n",
    "    for l, period in enumerate(periods_pulse):\n",
    "        file_folder = list_directory[i]\n",
    "        file_path = glob.glob(file_folder + \"/*_ojip_curve.csv\")[0] # pops up a window to select your file\n",
    "        data = pd.read_csv(file_path)\n",
    "        time_array = np.array(data[\"time (s) o\"])\n",
    "        time_high = time_array[:-10]\n",
    "        fluo_high  = np.array(data[\"voltage (V) o\"])\n",
    "        fluo_high = fluo_high[:-10]\n",
    "        npq_high =  (fluo_high.max()-fluo_high)/fluo_high\n",
    "\n",
    "        file_path = glob.glob(file_folder + \"/measure_pulse.csv\")[0] # pops up a window to select your file\n",
    "        data= pd.read_csv(file_path)\n",
    "        fluo_pulses  = np.array(data)\n",
    "        file_path = glob.glob(file_folder + \"/time_pulse.csv\")[0] # pops up a window to select your file\n",
    "        data = pd.read_csv(file_path)\n",
    "        time_pulses  = np.array(data)\n",
    "        npq_pulses = (fluo_pulses.max()-fluo_pulses)/fluo_pulses\n",
    "\n",
    "        axs[0][0].plot(time_high, fluo_high)\n",
    "        axs[0][0].set_title(\"MPPC high, voltage\")\n",
    "\n",
    "        axs[0][1].plot(time_pulses, fluo_pulses, '.')\n",
    "        axs[0][1].set_title(\"MPPC pulses, voltage\")\n",
    "\n",
    "\n",
    "        im_tau_high = np.load(file_folder + \"/im_tau_high.npy\")\n",
    "        im_tau_pulses = np.load(file_folder + \"/im_tau_pulses.npy\")\n",
    "        axs[1][0].hist(clip(im_tau_high.flatten(), high = 99, low = 1), range = (0, 30), bins = 25, label = \"L: %d ms, dt: %d s\"%(length, period))\n",
    "        axs[1][1].hist(clip(im_tau_pulses.flatten(), high = 99, low = 1), range = (0,180), bins = 25, label =  \"L: %d ms, dt: %d s\"%(length, period))\n",
    "        \n",
    "        high = 97\n",
    "        low = 3\n",
    "        means['high'][k][l] = np.mean(clip(im_tau_high, high = high, low = low))\n",
    "        stds['high'][k][l] = np.std(clip(im_tau_high, high = high, low = low))\n",
    "        means['pulses'][k][l] = np.mean(clip(im_tau_pulses, high = high, low = low))\n",
    "        stds['pulses'][k][l] = np.std(clip(im_tau_pulses, high = high, low = low))\n",
    "        \n",
    "        plt.legend()\n",
    "        i += 1"
   ]
  },
  {
   "cell_type": "code",
   "execution_count": null,
   "metadata": {},
   "outputs": [],
   "source": [
    "fig, axs = plt.subplots(2, 2, figsize=(5, 5))\n",
    "\n",
    "axs[0][0].imshow(means[\"pulses\"])\n",
    "axs[0][0].set_title(\"mean pulses\")\n",
    "\n",
    "axs[1][0].imshow(means[\"high\"])\n",
    "axs[1][0].set_title(\"mean high\")\n",
    "\n",
    "axs[0][1].imshow(stds[\"pulses\"])\n",
    "axs[0][1].set_title(\"std pulses\")\n",
    "\n",
    "axs[1][1].imshow(stds[\"high\"])\n",
    "axs[1][1].set_title(\"std high\")"
   ]
  },
  {
   "cell_type": "code",
   "execution_count": null,
   "metadata": {},
   "outputs": [],
   "source": [
    "list_directory = glob.glob(mdirectory + \"/*\")\n",
    "\n",
    "\n",
    "minute = 60\n",
    "lengths_pulse = [300, 150, 50]\n",
    "periods_pulse = [0.1*minute, 0.5*minute, 1*minute]\n",
    "\n",
    "D = len(list_directory)//3\n",
    "\n",
    "fig, axs = plt.subplots(D, 3, figsize=(10, 2*D))\n",
    "\n",
    "i = 0\n",
    "for k, length in enumerate(lengths_pulse): \n",
    "    for l, period in enumerate(periods_pulse):\n",
    "        file_folder = list_directory[i]\n",
    "\n",
    "\n",
    "        im_tau_high = np.load(file_folder + \"/im_tau_high.npy\")\n",
    "        axs[i%D][i//D].imshow(im_tau_high, vmin =0 , vmax = 20)\n",
    "        axs[i%D][i//D].axis(\"off\")\n",
    "        i += 1\n",
    "        \n",
    "    \n",
    "D = len(list_directory)//3\n",
    "\n",
    "fig, axs = plt.subplots(D, 3, figsize=(10, 2*D))\n",
    "\n",
    "i = 0\n",
    "for k, length in enumerate(lengths_pulse): \n",
    "    for l, period in enumerate(periods_pulse):\n",
    "        file_folder = list_directory[i]\n",
    "\n",
    "\n",
    "        im_tau_pulses = np.load(file_folder + \"/im_tau_pulses.npy\")\n",
    "        axs[i%D][i//D].imshow(im_tau_pulses, vmin =0 , vmax = 130)\n",
    "        axs[i%D][i//D].axis(\"off\")\n",
    "        i += 1"
   ]
  },
  {
   "cell_type": "code",
   "execution_count": null,
   "metadata": {},
   "outputs": [],
   "source": [
    "i//2\n",
    "\n"
   ]
  },
  {
   "cell_type": "code",
   "execution_count": null,
   "metadata": {},
   "outputs": [],
   "source": []
  }
 ],
 "metadata": {
  "kernelspec": {
   "display_name": "Python 3 (ipykernel)",
   "language": "python",
   "name": "python3"
  },
  "language_info": {
   "codemirror_mode": {
    "name": "ipython",
    "version": 3
   },
   "file_extension": ".py",
   "mimetype": "text/x-python",
   "name": "python",
   "nbconvert_exporter": "python",
   "pygments_lexer": "ipython3",
   "version": "3.9.10"
  }
 },
 "nbformat": 4,
 "nbformat_minor": 4
}
