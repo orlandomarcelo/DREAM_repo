{
 "cells": [
  {
   "cell_type": "code",
   "execution_count": 17,
   "id": "27ea9d9c",
   "metadata": {},
   "outputs": [],
   "source": [
    "import numpy as np\n",
    "import matplotlib.pyplot as plt\n"
   ]
  },
  {
   "cell_type": "code",
   "execution_count": 63,
   "id": "a42168b9",
   "metadata": {},
   "outputs": [],
   "source": [
    "t = np.linspace(0,1000,100)"
   ]
  },
  {
   "cell_type": "code",
   "execution_count": 67,
   "id": "e03a4785",
   "metadata": {},
   "outputs": [],
   "source": [
    "A = 5\n",
    "K = 10\n",
    "phi = 0.1\n",
    "w = 0.001"
   ]
  },
  {
   "cell_type": "code",
   "execution_count": 68,
   "id": "6f970b43",
   "metadata": {},
   "outputs": [],
   "source": [
    "u = A*np.sin(2*np.pi*w*t)\n",
    "y = K*np.sin(2*np.pi*(w*t + phi))"
   ]
  },
  {
   "cell_type": "code",
   "execution_count": 69,
   "id": "6231fe57",
   "metadata": {},
   "outputs": [
    {
     "data": {
      "text/plain": [
       "[<matplotlib.lines.Line2D at 0x26773b3c7c0>]"
      ]
     },
     "execution_count": 69,
     "metadata": {},
     "output_type": "execute_result"
    },
    {
     "data": {
      "image/png": "[encoded data removed]",
      "text/plain": [
       "<Figure size 432x288 with 1 Axes>"
      ]
     },
     "metadata": {
      "needs_background": "light"
     },
     "output_type": "display_data"
    }
   ],
   "source": [
    "plt.plot(y,u)"
   ]
  },
  {
   "cell_type": "code",
   "execution_count": 40,
   "id": "85d4c606",
   "metadata": {},
   "outputs": [
    {
     "data": {
      "text/plain": [
       "array([3.92877345e-15, 6.34665140e-04, 1.26933002e-03, 1.90399440e-03,\n",
       "       2.53865800e-03, 3.17332059e-03, 3.80798189e-03, 4.44264166e-03,\n",
       "       5.07729965e-03, 5.71195558e-03, 6.34660922e-03, 6.98126030e-03,\n",
       "       7.61590857e-03, 8.25055377e-03, 8.88519564e-03, 9.51983394e-03,\n",
       "       1.01544684e-02, 1.07890988e-02, 1.14237248e-02, 1.20583462e-02,\n",
       "       1.26929628e-02, 1.33275743e-02, 1.39621803e-02, 1.45967808e-02,\n",
       "       1.52313754e-02, 1.58659638e-02, 1.65005459e-02, 1.71351213e-02,\n",
       "       1.77696898e-02, 1.84042512e-02, 1.90388051e-02, 1.96733514e-02,\n",
       "       2.03078897e-02, 2.09424199e-02, 2.15769416e-02, 2.22114547e-02,\n",
       "       2.28459587e-02, 2.34804536e-02, 2.41149391e-02, 2.47494148e-02,\n",
       "       2.53838805e-02, 2.60183361e-02, 2.66527811e-02, 2.72872154e-02,\n",
       "       2.79216387e-02, 2.85560508e-02, 2.91904514e-02, 2.98248402e-02,\n",
       "       3.04592170e-02, 3.10935815e-02, 3.17279335e-02, 3.23622727e-02,\n",
       "       3.29965989e-02, 3.36309118e-02, 3.42652112e-02, 3.48994967e-02,\n",
       "       3.55337682e-02, 3.61680254e-02, 3.68022680e-02, 3.74364958e-02,\n",
       "       3.80707085e-02, 3.87049058e-02, 3.93390876e-02, 3.99732536e-02,\n",
       "       4.06074034e-02, 4.12415369e-02, 4.18756537e-02, 4.25097537e-02,\n",
       "       4.31438366e-02, 4.37779021e-02, 4.44119500e-02, 4.50459799e-02,\n",
       "       4.56799918e-02, 4.63139852e-02, 4.69479600e-02, 4.75819158e-02,\n",
       "       4.82158525e-02, 4.88497698e-02, 4.94836674e-02, 5.01175451e-02,\n",
       "       5.07514025e-02, 5.13852396e-02, 5.20190559e-02, 5.26528513e-02,\n",
       "       5.32866255e-02, 5.39203782e-02, 5.45541092e-02, 5.51878182e-02,\n",
       "       5.58215050e-02, 5.64551693e-02, 5.70888109e-02, 5.77224294e-02,\n",
       "       5.83560248e-02, 5.89895966e-02, 5.96231446e-02, 6.02566687e-02,\n",
       "       6.08901684e-02, 6.15236437e-02, 6.21570941e-02, 6.27905195e-02])"
      ]
     },
     "execution_count": 40,
     "metadata": {},
     "output_type": "execute_result"
    }
   ],
   "source": [
    "y"
   ]
  },
  {
   "cell_type": "code",
   "execution_count": null,
   "id": "34353381",
   "metadata": {},
   "outputs": [],
   "source": []
  }
 ],
 "metadata": {
  "kernelspec": {
   "display_name": "Python 3 (ipykernel)",
   "language": "python",
   "name": "python3"
  },
  "language_info": {
   "codemirror_mode": {
    "name": "ipython",
    "version": 3
   },
   "file_extension": ".py",
   "mimetype": "text/x-python",
   "name": "python",
   "nbconvert_exporter": "python",
   "pygments_lexer": "ipython3",
   "version": "3.9.12"
  }
 },
 "nbformat": 4,
 "nbformat_minor": 5
}
