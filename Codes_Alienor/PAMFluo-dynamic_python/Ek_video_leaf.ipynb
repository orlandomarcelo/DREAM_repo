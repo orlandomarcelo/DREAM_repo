{
 "cells": [
  {
   "cell_type": "code",
   "execution_count": 208,
   "metadata": {},
   "outputs": [],
   "source": [
    "#image analysis\n",
    "import skimage.io\n",
    "import imageio\n",
    "import alienlab.plot\n",
    "from alienlab.improcessing import normalize, grey_to_rgb, make_binary\n",
    "import alienlab.segment\n",
    "from alienlab.fo import FramesOperator\n",
    "import alienlab.io\n",
    "from scipy import optimize\n",
    "import glob\n",
    "from PIL import Image\n",
    "from tqdm import tqdm\n",
    "\n",
    "\n",
    "%matplotlib ipympl\n",
    "import ipywidgets as wdg  # Using the ipython notebook widgets\n",
    "from ipywidgets import interact, interactive, fixed, interact_manual\n",
    "\n",
    "#%matplotlib inline\n",
    "from alienlab.regression_func import *\n",
    "\n",
    "#interactive widget packages\n",
    "from ipywidgets import interact, interactive, fixed, interact_manual\n",
    "from tkinter.filedialog import askopenfilename, askdirectory\n",
    "\n",
    "from VoltageIntensityClass import VoltageIntensity\n",
    "\n",
    "from skimage.transform import resize\n",
    "\n",
    "import time\n",
    "import os\n",
    "import numpy as np\n",
    "import matplotlib.pyplot as plt\n",
    "import random\n",
    "\n",
    "from joblib.externals.loky import set_loky_pickler\n",
    "from joblib import parallel_backend\n",
    "from joblib import Parallel, delayed\n",
    "from joblib import wrap_non_picklable_objects\n",
    "\n",
    "\n",
    "\n",
    "\n",
    "def residuals(parameters,x_data,y_observed,func):\n",
    "    '''\n",
    "    Compute residuals of y_predicted - y_observed\n",
    "    where:\n",
    "    y_predicted = func(parameters,x_data)\n",
    "    '''\n",
    "    return func(parameters,x_data) - y_observed\n",
    "\n",
    "def platt(parameters, xdata):\n",
    "    M = parameters[0]\n",
    "    alpha = parameters[1]\n",
    "    return M*(1- np.exp(-alpha*xdata/M))\n",
    "\n",
    "def modele_direct(parameters, x_data):\n",
    "    a = parameters[0]\n",
    "    b = parameters[1]\n",
    "    c = parameters[2]\n",
    "    d = parameters[3]\n",
    "    e = parameters[4]\n",
    "    return (a*x_data +b*np.sqrt(c*I**2+d*I+1)+e)/I\n",
    "\n",
    "def modele_inverse(parameters, x_data):\n",
    "    a = parameters[0]\n",
    "    b = parameters[1]\n",
    "    c = parameters[2]\n",
    "    d = parameters[3]\n",
    "    e = parameters[4]\n",
    "    f = parameters[5]\n",
    "    return a*I + b*np.sqrt(c*I**2+d*I+1) + e"
   ]
  },
  {
   "cell_type": "code",
   "execution_count": 209,
   "metadata": {},
   "outputs": [],
   "source": [
    "#file_path = \"ENTER NAME OF THE FILE YOU DROPPED IN THE FILE SECTION HERE\"\n",
    "file_folder = askdirectory(title = 'Select an experiment folder') # pops up a window to select your file\n",
    "#'G:/DREAM/from_github/PAMFluo/Experiments/2021-08-31_17_51_Ek_video'# \n",
    "# uncomment this line if you use this jupyter notebook locally\n",
    "#'G:/DREAM/from_github/PAMFluo/Experiments/2021-06-24_12_12_Ek_video'\n",
    "#"
   ]
  },
  {
   "cell_type": "code",
   "execution_count": 210,
   "metadata": {},
   "outputs": [],
   "source": [
    "show = True #option to output intermediary images in the segmentation process\n",
    "\n",
    "# Import video file in HQ and select ROI\n",
    "file_path = file_folder + \"/video_2_250.00.tiff\"\n",
    "direc = os.path.split(file_path)[0]\n",
    "\n",
    "# Initialize plotting tools\n",
    "g = alienlab.plot.ShowFigure()\n",
    "g.figsize = (15,7)\n",
    "g.save_folder = \"images\"\n",
    "g.date = False\n",
    "p = alienlab.plot.PlotFigure()\n",
    "p.figsize = (15,7)\n",
    "p.save_folder = \"images\"\n",
    "p.date = False"
   ]
  },
  {
   "cell_type": "code",
   "execution_count": 211,
   "metadata": {},
   "outputs": [
    {
     "name": "stdout",
     "output_type": "stream",
     "text": [
      "--- Computed frames statistics in 0.131236 seconds ---\n"
     ]
    },
    {
     "data": {
      "application/vnd.jupyter.widget-view+json": {
       "model_id": "b08d5f9459ff4caba64686bdad5ccc21",
       "version_major": 2,
       "version_minor": 0
      },
      "text/plain": [
       "Canvas(toolbar=Toolbar(toolitems=[('Home', 'Reset original view', 'home', 'home'), ('Back', 'Back to previous …"
      ]
     },
     "metadata": {},
     "output_type": "display_data"
    }
   ],
   "source": [
    "# read the stacked frame. dim = NxHxW (N images in the video, Heigt, Width)\n",
    "\n",
    "frames_full = skimage.io.imread(file_path)\n",
    "\n",
    "#frames_full = np.stack([frames_full[:,:,1]]*10, 0) \n",
    "#uncomment this line if you have a single RGB image. The [:,:,1] stands for selection of the green channel\n",
    "\n",
    "FO = FramesOperator(frames_full)\n",
    "im = normalize(FO.frames[0], 0, 1)\n",
    "im = grey_to_rgb(im)*255\n",
    "\n",
    "# CROP\n",
    "#y, x = alienlab.io.select_roi(np.uint8(im)) #select area of interest\n",
    "#FO.x = x\n",
    "#FO.y = y\n",
    "#FO.crop() #crop image\n",
    "\n",
    "start_time = time.time()\n",
    "FO.compute_stats() #compute various statistical values on the frames and the pixels\n",
    "FO.normalize(0, 1)\n",
    "print(\"--- Computed frames statistics in %04f seconds ---\" % (time.time() - start_time))\n",
    "\n",
    "#FO.global_stats: each array has size N, number of frames and represents the stats of each frame\n",
    "#FO.frames_stats: each array has size FO.x, FO.y and is an image representing the N frames stats overlayed\n",
    "\n",
    "if show:\n",
    "    p.title = 'statistics'\n",
    "    p.xlabel = 'frame number'\n",
    "    p.ylabel = 'amplitude'\n",
    "    p.label_list = ['max', 'min', 'mean', 'std']\n",
    "    fig = p.plotting(np.asarray(FO.inds), [FO.global_stats['max'], \n",
    "                        FO.global_stats['min'], \n",
    "                        FO.global_stats['mean']])\n",
    "    p.save_name = 'frames_stats'\n",
    "    p.saving(fig)\n",
    "\n",
    "''' IMAGE SEGMENTATION '''\n",
    "\n",
    "# selection of the frames with high dynamics that will be used for the image segmentation process.\n",
    "# Let M be the highest value taken by a pixel in all the frames of the video. The frame F is kept for processing only if at\n",
    "# least one pixel in the frame F has a value above 0.8*M. \n",
    "FO.selected_inds = FO.select_frames(FO.global_stats['max'], FO.global_stats['max'].max()*0.8)\n"
   ]
  },
  {
   "cell_type": "code",
   "execution_count": 212,
   "metadata": {},
   "outputs": [
    {
     "data": {
      "application/vnd.jupyter.widget-view+json": {
       "model_id": "40ff8753dbe146639edb641047086b1a",
       "version_major": 2,
       "version_minor": 0
      },
      "text/plain": [
       "Canvas(toolbar=Toolbar(toolitems=[('Home', 'Reset original view', 'home', 'home'), ('Back', 'Back to previous …"
      ]
     },
     "metadata": {},
     "output_type": "display_data"
    },
    {
     "data": {
      "text/plain": [
       "<matplotlib.image.AxesImage at 0x2572f8b0640>"
      ]
     },
     "execution_count": 212,
     "metadata": {},
     "output_type": "execute_result"
    }
   ],
   "source": [
    "\n",
    "plt.figure(figsize = (5, 5))\n",
    "FO.selected_inds = FO.select_frames(FO.global_stats['max'], FO.global_stats['max'].max()*0.98) # Select only images with high intensity to increase contrast and lower computation time\n",
    "\n",
    "imref = FO.frames[FO.selected_inds].sum(axis = 0)\n",
    "plt.imshow(imref, cmap = 'gray')\n"
   ]
  },
  {
   "cell_type": "code",
   "execution_count": 213,
   "metadata": {},
   "outputs": [
    {
     "data": {
      "application/vnd.jupyter.widget-view+json": {
       "model_id": "146c46e25796402d9c52e4d6a9ade5f7",
       "version_major": 2,
       "version_minor": 0
      },
      "text/plain": [
       "Canvas(toolbar=Toolbar(toolitems=[('Home', 'Reset original view', 'home', 'home'), ('Back', 'Back to previous …"
      ]
     },
     "metadata": {},
     "output_type": "display_data"
    },
    {
     "data": {
      "text/plain": [
       "<matplotlib.image.AxesImage at 0x2572f634ca0>"
      ]
     },
     "execution_count": 213,
     "metadata": {},
     "output_type": "execute_result"
    }
   ],
   "source": [
    "import copy\n",
    "L,H,_ = im.shape\n",
    "mask = copy.copy(im[:,:,0])*0\n",
    "d = 0\n",
    "N  = 3\n",
    "for i in range(L//N):\n",
    "    for j in range(H//N):\n",
    "        mask[i*N:(i+1)*N,j*N:(j+1)*N] = d\n",
    "        d+=1\n",
    "plt.figure()\n",
    "plt.imshow(mask)"
   ]
  },
  {
   "cell_type": "code",
   "execution_count": 214,
   "metadata": {},
   "outputs": [
    {
     "name": "stderr",
     "output_type": "stream",
     "text": [
      "100%|███████████████████████████████████████████████████████████████████████████| 65044/65044 [01:32<00:00, 701.27it/s]\n"
     ]
    }
   ],
   "source": [
    "# Collect item labels\n",
    "\n",
    "# Item time trajectories with overlaps\n",
    "# create a dictionnary with one entry for each item:\n",
    "'''\n",
    "{ '1.0': {'x_coords': np array, x coordinates in HQ}\n",
    "            'y_coords': np array,  y coordinates in HQ\n",
    "            'binned_coords': set, couples of (x,y) coordinates in binned video\n",
    "            'surface': number of pixels in the item in HQ\n",
    "            'pixel_values': array, size: (N, s) where N is number of frames and s surface\n",
    "            'mean': array, size N, mean value of the item intensity for each frame\n",
    "            'std':  array, size N, std value of the item intensity for each frame\n",
    "            'remains' : True, the item is present in this segmentation step\n",
    "            }\n",
    "'2.0': {'x_coords'...\n",
    "                }\n",
    "    }\n",
    "'''\n",
    "segmented = mask\n",
    "items = np.unique(segmented) #returns the set of values in items, corresponds to the values of the markers of local_maxima\n",
    "\n",
    "items_dict = {}\n",
    "for k in tqdm(list(items)):\n",
    "    key = str(k)\n",
    "    items_dict[key] = {}\n",
    "    x_coords, y_coords = np.nonzero(segmented == k)\n",
    "    items_dict[key]['x_coords'] = x_coords\n",
    "    items_dict[key]['y_coords'] = y_coords\n",
    "    pixel_values = FO.frames[:,x_coords, y_coords]\n",
    "    items_dict[key]['pixel_values'] = pixel_values\n",
    "    items_dict[key]['surface'] = pixel_values.shape[1]\n",
    "    items_dict[key]['mean'] = np.mean(pixel_values, axis = 1)\n",
    "    items_dict[key]['std'] = np.std(pixel_values, axis = 1)\n",
    "    items_dict[key]['remains'] = True\n",
    "    \n",
    "\n",
    "\n"
   ]
  },
  {
   "cell_type": "code",
   "execution_count": 215,
   "metadata": {},
   "outputs": [
    {
     "name": "stdout",
     "output_type": "stream",
     "text": [
      "G:/DREAM/from_github/PAMFluo/Experiments\\2021-09-13_14_18_bode_diagram\n"
     ]
    }
   ],
   "source": [
    "file_path = file_folder + \"/dict_full.npy\" # pops up a window to select your file\n",
    "data = np.load(file_path, allow_pickle=True).item()\n",
    "voltint = VoltageIntensity()"
   ]
  },
  {
   "cell_type": "code",
   "execution_count": 228,
   "metadata": {},
   "outputs": [
    {
     "data": {
      "application/vnd.jupyter.widget-view+json": {
       "model_id": "dbf25b3d0bc84c9197cab6368aeb0296",
       "version_major": 2,
       "version_minor": 0
      },
      "text/plain": [
       "Canvas(toolbar=Toolbar(toolitems=[('Home', 'Reset original view', 'home', 'home'), ('Back', 'Back to previous …"
      ]
     },
     "metadata": {},
     "output_type": "display_data"
    }
   ],
   "source": [
    "i = 1\n",
    "do = {3:10**-2.8,2:10**-1.8, 1:10**-1.2, 0:1}\n",
    "col = {3:'r', 2:'g',1:'b',0:\"k\"}\n",
    "fig, axs = plt.subplots(1,2)\n",
    "for f in data.keys():\n",
    "    for amp in data[f].keys():\n",
    "        if amp >10:\n",
    "            data_key = data[f][amp]\n",
    "            video = data_key[\"video\"]\n",
    "            output = data_key[\"output\"]\n",
    "            intensity = output[0, :1000000].mean() - output[0, 1000000:].mean()\n",
    "            fluorescence1 = output[1, 150000:300000].mean() - output[1, 1050000:].mean()\n",
    "            fluorescence2 = output[1, 700000:9000000].mean() - output[1, 1050000:].mean()\n",
    "            #axs[0].plot(intensity, fluorescence1/intensity, 'r.')\n",
    "            #intensity = amp\n",
    "            #axs[0].plot(intensity, fluorescence2/intensity, 'b.')\n",
    "\n",
    "            axs[0].plot(intensity, np.mean(video[2:4])/intensity/30, 'r.')\n",
    "            #axs[1].semilogx(intensity, fluorescence1/intensity, 'b.')\n",
    "\n",
    "            axs[1].semilogx(intensity, np.mean(video[2:4])/intensity/30, 'r.')\n",
    "            #axs[1].plot(intensity, np.mean(video[5])/intensity, 'r.')\n",
    "            #axs[1].plot(intensity, np.mean(video[8])/intensity, 'g.')\n",
    "            #axs[1].plot(intensity, np.mean(video[11])/intensity, 'k.')\n",
    "\n",
    "            #plt.plot(voltint.get_intensity_voltage('blue', f, amp/100)*1e6, fluorescence1, '.', color = \"b\")#col[f])\n",
    "            #plt.loglog(intensity, fluorescence2/intensity, '.', color = \"r\")# col[f])\n",
    "            i += 1\n"
   ]
  },
  {
   "cell_type": "code",
   "execution_count": 128,
   "metadata": {},
   "outputs": [],
   "source": [
    "#import mvgavg\n",
    "#for f in data.keys():\n",
    "#    for amp in data[f].keys():\n",
    "#        plt.plot(mvgavg.mvgavg(data[f][amp]['output'][1], 1000), color = col[f])\n",
    "        \n",
    "#for f in data.keys():\n",
    "#    for amp in data[f].keys():\n",
    "#        plt.semilogy(mvgavg.mvgavg(data[f][amp]['output'][0], 10000))"
   ]
  },
  {
   "cell_type": "code",
   "execution_count": 229,
   "metadata": {},
   "outputs": [
    {
     "data": {
      "application/vnd.jupyter.widget-view+json": {
       "model_id": "f5622129eaad41fc9a030e61df6b4680",
       "version_major": 2,
       "version_minor": 0
      },
      "text/plain": [
       "Canvas(toolbar=Toolbar(toolitems=[('Home', 'Reset original view', 'home', 'home'), ('Back', 'Back to previous …"
      ]
     },
     "metadata": {},
     "output_type": "display_data"
    },
    {
     "data": {
      "text/plain": [
       "<matplotlib.image.AxesImage at 0x257649efd00>"
      ]
     },
     "execution_count": 229,
     "metadata": {},
     "output_type": "execute_result"
    }
   ],
   "source": [
    "pos = mask == int(float(13))\n",
    "portion = imref[np.ix_(pos.any(1), pos.any(0))]\n",
    "plt.figure()\n",
    "plt.imshow(pos)\n"
   ]
  },
  {
   "cell_type": "code",
   "execution_count": 230,
   "metadata": {},
   "outputs": [],
   "source": [
    "file_folder = \"G:/DREAM/from_github/PAMFluo/Experiments/2021-08-31_10_45_D2_calib_video\"#askdirectory(title = 'Select an experiment folder') # pops up a window to select your file\n",
    "I_480 = np.load(glob.glob(file_folder + \"/*_I_480.npy\")[0])\n"
   ]
  },
  {
   "cell_type": "code",
   "execution_count": 231,
   "metadata": {},
   "outputs": [
    {
     "data": {
      "application/vnd.jupyter.widget-view+json": {
       "model_id": "6e34771fa16d45ed8e32025e9f9d150a",
       "version_major": 2,
       "version_minor": 0
      },
      "text/plain": [
       "Canvas(toolbar=Toolbar(toolitems=[('Home', 'Reset original view', 'home', 'home'), ('Back', 'Back to previous …"
      ]
     },
     "metadata": {},
     "output_type": "display_data"
    },
    {
     "name": "stdout",
     "output_type": "stream",
     "text": [
      "5680.730946400307 (61, 97)\n",
      "5681.136820293735 (202, 322)\n",
      "G:/DREAM/from_github/PAMFluo/Experiments\\2021-09-13_14_18_bode_diagram\n"
     ]
    }
   ],
   "source": [
    "plt.imshow(I_480)\n",
    "IR = resize(I_480, (L//N, H//N))\n",
    "plt.figure()\n",
    "plt.imshow(IR)\n",
    "\n",
    "Intensity = IR[::-1,::-1].flatten()\n",
    "\n",
    "print(I_480.mean(), I_480.shape)\n",
    "print(IR.mean(), IR.shape)\n",
    "\n",
    "V = VoltageIntensity()\n",
    "\n",
    "med_image = np.median(Intensity)"
   ]
  },
  {
   "cell_type": "code",
   "execution_count": null,
   "metadata": {},
   "outputs": [],
   "source": []
  },
  {
   "cell_type": "code",
   "execution_count": 232,
   "metadata": {},
   "outputs": [
    {
     "data": {
      "text/plain": [
       "'\\nFD_tot = []\\nx0 = [4e-4, 4e-3]\\nfig, axs = plt.subplots(2, 3, figsize=(20, 10))\\n\\nek_values = {}\\nM_values = {}\\nA3 = {}\\nalgae_list = list(items_dict.keys())[1:]\\n\\nimask= copy.copy(imref)*0\\nimtau= copy.copy(imref)*0\\n\\n    \\n    \\nfor P in [15]:#[len(algae_list)]:#[8, 10, 12, 15, 18, 20, 25, 30, 35, 40, 60, 90, 120, 180, 200, 250, 300, 400, 500, 600, 700]:\\n    ek_values[P] = []\\n    M_values[P] = []\\n    A3[P] = []\\n    #for i, algae in enumerate(algae_list):\\n    for i, algae in enumerate(random.sample(algae_list, P)):#\\n        #if int(algae):# in [\\'1\\', \\'80\\', \\'400\\', \\'250\\']:\\n            i = 0\\n            I = []\\n            FD = []\\n            for f in data.keys():\\n                for amp in data[f].keys():\\n\\n                    #x_coords =  items_dict[\\'0\\'][\\'x_coords\\']\\n                    #y_coords =  items_dict[\\'0\\'][\\'y_coords\\']\\n                    #video = data[f][amp][\\'video\\']\\n                    #output = data[f][amp][\\'output\\']\\n                    #threshold = np.mean(video[0, x_coords, y_coords])\\n\\n                    x_coords =  items_dict[algae][\\'x_coords\\']\\n                    y_coords =  items_dict[algae][\\'y_coords\\']\\n                    video = data[f][amp][\\'video\\']\\n                    output = data[f][amp][\\'output\\']\\n                    algae_fluo = np.sum(video[8:11, x_coords, y_coords]) ###!!!!!!!!!!!!!!!mean or sum\\n                    if amp>10:\\n                        output_intensity = np.mean(output[0,:1000000])\\n                        I.append(output_intensity)\\n                        #I.append(1e6*voltint.get_intensity_MPPC(\\'blue\\', f,np.mean(output[0,:1000000])))#np.mean(output[0]))\\n                        FD.append(algae_fluo)\\n                        i += 1\\n                        #plt.plot(np.mean(video[:,x_coords, y_coords], axis = 1))\\n                    \\n                    else:\\n                        i+=1\\n            A3[P].append(algae_fluo/output_intensity)\\n            I = np.array(I)\\n            FD = np.array(FD)#/max(FD) \\n            FD_tot.append(FD)\\n            FD_norm = FD/FD.max()\\n            parameters_estimated = optimize.least_squares(residuals,  x0, bounds = (0,1e3),\\n                                            args = (I, FD_norm/(I*Intensity[i]), platt))\\n            (M, ek) = parameters_estimated.x\\n            ek_values[P].append(ek)\\n            M_values[P].append(M)\\n            axs[0][1].plot(I, platt(parameters_estimated.x, I), \\'-\\')\\n            axs[0][0].plot(I, FD, \\'--o\\')\\n            axs[0][0].set_xlim(0,0.15)\\n            axs[0][0].set_ylim(0,22)\\n\\n            axs[0][0].set_title(\"FD\")\\n            axs[0][1].plot(I, FD_norm/(I*Intensity[i]), \\'o\\')\\n            axs[0][1].set_title(\"FD/I\")\\n            pos = mask == int(float(algae))\\n            #portion = imref[np.ix_(pos.any(1), pos.any(0))]\\n        \\n            \\n            imtau[pos] = M/ek\\n\\n            axs[0][2].imshow(portion)\\n            imask[pos]=imref[pos]\\n            axs[1][0].imshow(imask)\\n            plt.ylim(0,10)\\n            \\n            axs[1,1].imshow(imtau)\\n\\n    ek = np.array(ek_values[P])\\n    M = np.array(M_values[P])\\n    indices = (M/ek)<1e2\\n    plt.scatter(P, np.std(M[indices]/ek[indices]))\\nplt.figure()    \\nplt.imshow(imtau)\\n'"
      ]
     },
     "execution_count": 232,
     "metadata": {},
     "output_type": "execute_result"
    }
   ],
   "source": [
    "\"\"\"\n",
    "FD_tot = []\n",
    "x0 = [4e-4, 4e-3]\n",
    "fig, axs = plt.subplots(2, 3, figsize=(20, 10))\n",
    "\n",
    "ek_values = {}\n",
    "M_values = {}\n",
    "A3 = {}\n",
    "algae_list = list(items_dict.keys())[1:]\n",
    "\n",
    "imask= copy.copy(imref)*0\n",
    "imtau= copy.copy(imref)*0\n",
    "\n",
    "    \n",
    "    \n",
    "for P in [15]:#[len(algae_list)]:#[8, 10, 12, 15, 18, 20, 25, 30, 35, 40, 60, 90, 120, 180, 200, 250, 300, 400, 500, 600, 700]:\n",
    "    ek_values[P] = []\n",
    "    M_values[P] = []\n",
    "    A3[P] = []\n",
    "    #for i, algae in enumerate(algae_list):\n",
    "    for i, algae in enumerate(random.sample(algae_list, P)):#\n",
    "        #if int(algae):# in ['1', '80', '400', '250']:\n",
    "            i = 0\n",
    "            I = []\n",
    "            FD = []\n",
    "            for f in data.keys():\n",
    "                for amp in data[f].keys():\n",
    "\n",
    "                    #x_coords =  items_dict['0']['x_coords']\n",
    "                    #y_coords =  items_dict['0']['y_coords']\n",
    "                    #video = data[f][amp]['video']\n",
    "                    #output = data[f][amp]['output']\n",
    "                    #threshold = np.mean(video[0, x_coords, y_coords])\n",
    "\n",
    "                    x_coords =  items_dict[algae]['x_coords']\n",
    "                    y_coords =  items_dict[algae]['y_coords']\n",
    "                    video = data[f][amp]['video']\n",
    "                    output = data[f][amp]['output']\n",
    "                    algae_fluo = np.sum(video[8:11, x_coords, y_coords]) ###!!!!!!!!!!!!!!!mean or sum\n",
    "                    if amp>10:\n",
    "                        output_intensity = np.mean(output[0,:1000000])\n",
    "                        I.append(output_intensity)\n",
    "                        #I.append(1e6*voltint.get_intensity_MPPC('blue', f,np.mean(output[0,:1000000])))#np.mean(output[0]))\n",
    "                        FD.append(algae_fluo)\n",
    "                        i += 1\n",
    "                        #plt.plot(np.mean(video[:,x_coords, y_coords], axis = 1))\n",
    "                    \n",
    "                    else:\n",
    "                        i+=1\n",
    "            A3[P].append(algae_fluo/output_intensity)\n",
    "            I = np.array(I)\n",
    "            FD = np.array(FD)#/max(FD) \n",
    "            FD_tot.append(FD)\n",
    "            FD_norm = FD/FD.max()\n",
    "            parameters_estimated = optimize.least_squares(residuals,  x0, bounds = (0,1e3),\n",
    "                                            args = (I, FD_norm/(I*Intensity[i]), platt))\n",
    "            (M, ek) = parameters_estimated.x\n",
    "            ek_values[P].append(ek)\n",
    "            M_values[P].append(M)\n",
    "            axs[0][1].plot(I, platt(parameters_estimated.x, I), '-')\n",
    "            axs[0][0].plot(I, FD, '--o')\n",
    "            axs[0][0].set_xlim(0,0.15)\n",
    "            axs[0][0].set_ylim(0,22)\n",
    "\n",
    "            axs[0][0].set_title(\"FD\")\n",
    "            axs[0][1].plot(I, FD_norm/(I*Intensity[i]), 'o')\n",
    "            axs[0][1].set_title(\"FD/I\")\n",
    "            pos = mask == int(float(algae))\n",
    "            #portion = imref[np.ix_(pos.any(1), pos.any(0))]\n",
    "        \n",
    "            \n",
    "            imtau[pos] = M/ek\n",
    "\n",
    "            axs[0][2].imshow(portion)\n",
    "            imask[pos]=imref[pos]\n",
    "            axs[1][0].imshow(imask)\n",
    "            plt.ylim(0,10)\n",
    "            \n",
    "            axs[1,1].imshow(imtau)\n",
    "\n",
    "    ek = np.array(ek_values[P])\n",
    "    M = np.array(M_values[P])\n",
    "    indices = (M/ek)<1e2\n",
    "    plt.scatter(P, np.std(M[indices]/ek[indices]))\n",
    "plt.figure()    \n",
    "plt.imshow(imtau)\n",
    "\"\"\""
   ]
  },
  {
   "cell_type": "code",
   "execution_count": 233,
   "metadata": {},
   "outputs": [
    {
     "name": "stderr",
     "output_type": "stream",
     "text": [
      "100%|██████████████████████████████████████████████████████████████████████████| 65044/65044 [1:24:39<00:00, 12.80it/s]\n"
     ]
    }
   ],
   "source": [
    "algae_list = list(items_dict.keys())\n",
    "\n",
    "I_image_tot = []\n",
    "FD_tot = []\n",
    "i = 0\n",
    "for algae in tqdm(algae_list):\n",
    "    I = []\n",
    "    FD = []\n",
    "    I_image = []\n",
    "    for f in data.keys():\n",
    "        for amp in data[f].keys():\n",
    "            if amp > 10:\n",
    "                    image_intensity = Intensity * V.get_intensity_voltage('blue', f, amp/100)*1e6/med_image\n",
    "\n",
    "                    x_coords =  items_dict[algae]['x_coords']\n",
    "                    y_coords =  items_dict[algae]['y_coords']\n",
    "                    video = data[f][amp]['video']\n",
    "                    output = data[f][amp]['output']\n",
    "                    algae_fluo = np.mean(video[8:11, x_coords, y_coords]) ###!!!!!!!!!!!!!!!mean or sum\n",
    "                    output_intensity = np.mean(output[0,:1000000])\n",
    "                    I.append(output_intensity)\n",
    "                    I_image.append(image_intensity[i])\n",
    "                    FD.append(algae_fluo)\n",
    "    i += 1\n",
    "    I_image = np.array(I_image)\n",
    "    I_image_tot.append(I_image)\n",
    "    I = np.array(I)\n",
    "    FD = np.array(FD)#/np.array(FD).max()\n",
    "    FD_tot.append(FD)"
   ]
  },
  {
   "cell_type": "code",
   "execution_count": 182,
   "metadata": {},
   "outputs": [
    {
     "data": {
      "application/vnd.jupyter.widget-view+json": {
       "model_id": "57d0bcb98bf9446aac8153da9cfe2777",
       "version_major": 2,
       "version_minor": 0
      },
      "text/plain": [
       "Canvas(toolbar=Toolbar(toolitems=[('Home', 'Reset original view', 'home', 'home'), ('Back', 'Back to previous …"
      ]
     },
     "metadata": {},
     "output_type": "display_data"
    },
    {
     "data": {
      "text/plain": [
       "[<matplotlib.lines.Line2D at 0x25701aba220>]"
      ]
     },
     "execution_count": 182,
     "metadata": {},
     "output_type": "execute_result"
    }
   ],
   "source": [
    "x0 = [8e-1, 2e-2]\n",
    "def get_fit(FD, I_image):    \n",
    "\n",
    "    parameters_estimated = optimize.least_squares(residuals,  x0, bounds = (0,1e8),\n",
    "                                args = (I_image, FD/I, platt))\n",
    "    \n",
    "    return np.array(parameters_estimated.x)\n",
    "plt.figure()\n",
    "ind = 201\n",
    "FD = FD_tot[ind]\n",
    "I_image = I_image_tot[ind]\n",
    "plt.plot(I_image, FD/I)\n",
    "plt.plot(I_image, platt(get_fit(FD, I_image), I_image))"
   ]
  },
  {
   "cell_type": "code",
   "execution_count": 135,
   "metadata": {},
   "outputs": [
    {
     "data": {
      "text/plain": [
       "array([  1.46528322,   3.80207869,   6.26315561,   8.71979845,\n",
       "        12.67987841,  32.90141785,  54.19843108,  75.45707384,\n",
       "        45.35199844, 117.67818291, 193.85100409, 269.88658599])"
      ]
     },
     "execution_count": 135,
     "metadata": {},
     "output_type": "execute_result"
    }
   ],
   "source": [
    "I_image"
   ]
  },
  {
   "cell_type": "code",
   "execution_count": 184,
   "metadata": {},
   "outputs": [],
   "source": [
    "\n",
    "params = Parallel(n_jobs = -1 )(delayed(get_fit)(FD_tot[i], I_image_tot[i]) for i in range(len(FD_tot)))\n",
    "\n",
    "params = np.array(params)\n",
    "M_values = params[:,0]\n",
    "ek_values = params[:,1]"
   ]
  },
  {
   "cell_type": "code",
   "execution_count": 189,
   "metadata": {},
   "outputs": [
    {
     "data": {
      "text/plain": [
       "array([11507.75833027,  1380.99412564,  1278.97162507, ...,\n",
       "         867.82796804,   445.75733885,   586.53430728])"
      ]
     },
     "execution_count": 189,
     "metadata": {},
     "output_type": "execute_result"
    }
   ],
   "source": [
    "ek_values"
   ]
  },
  {
   "cell_type": "code",
   "execution_count": 206,
   "metadata": {},
   "outputs": [
    {
     "data": {
      "application/vnd.jupyter.widget-view+json": {
       "model_id": "c8df3f87f9f7448090d019c63cd9ee25",
       "version_major": 2,
       "version_minor": 0
      },
      "text/plain": [
       "Canvas(toolbar=Toolbar(toolitems=[('Home', 'Reset original view', 'home', 'home'), ('Back', 'Back to previous …"
      ]
     },
     "metadata": {},
     "output_type": "display_data"
    },
    {
     "data": {
      "text/plain": [
       "3.4931506849315066"
      ]
     },
     "execution_count": 206,
     "metadata": {},
     "output_type": "execute_result"
    }
   ],
   "source": [
    "#ekk = np.array([np.mean(ek)] + ek_values[15]).reshape((L//N,H//N))\n",
    "#mm = np.array([np.mean(M)] + M_values[15]).reshape((L//N,H//N))\n",
    "ekk = ek_values.reshape((L//N,H//N))\n",
    "mm = M_values.reshape((L//N,H//N))\n",
    "\n",
    "def clip(input_image, low = 10, high = 60):\n",
    "    im = copy.copy(input_image)\n",
    "    m = np.median(im)\n",
    "    im[im<np.percentile(im, low)]=np.percentile(im, low)\n",
    "    im[im>np.percentile(im, high)]=np.percentile(im, high)\n",
    "    return im\n",
    "\n",
    "fig, axs = plt.subplots(2,2)\n",
    "\n",
    "\n",
    "axs[0][0].imshow(clip(ekk))\n",
    "axs[1][0].imshow(mm)\n",
    "axs[0][1].imshow(mm/ekk)\n",
    "axs[1][1].imshow(imref)\n",
    "\n",
    "np.percentile(im, 10)"
   ]
  },
  {
   "cell_type": "code",
   "execution_count": 207,
   "metadata": {},
   "outputs": [
    {
     "data": {
      "application/vnd.jupyter.widget-view+json": {
       "model_id": "298d241b69b742dba9b4305af3549da5",
       "version_major": 2,
       "version_minor": 0
      },
      "text/plain": [
       "Canvas(toolbar=Toolbar(toolitems=[('Home', 'Reset original view', 'home', 'home'), ('Back', 'Back to previous …"
      ]
     },
     "metadata": {},
     "output_type": "display_data"
    },
    {
     "data": {
      "application/vnd.jupyter.widget-view+json": {
       "model_id": "ed5dbb5553df4827911d7045326d148b",
       "version_major": 2,
       "version_minor": 0
      },
      "text/plain": [
       "Textarea(value='', description='event:', placeholder='')"
      ]
     },
     "metadata": {},
     "output_type": "display_data"
    }
   ],
   "source": [
    "\n",
    "# Create a random image\n",
    "fig, axs = plt.subplots(1, 2, figsize=(10, 4))\n",
    "axs[0].imshow(imref)\n",
    "axs[0].axis('off')\n",
    "\n",
    "# Create and display textarea widget\n",
    "txt = wdg.Textarea(\n",
    "    value='',\n",
    "    placeholder='',\n",
    "    description='event:',\n",
    "    disabled=False\n",
    ")\n",
    "display(txt)\n",
    "coords = []\n",
    "\n",
    "# Define a callback function that will update the textarea\n",
    "def onclick(event):\n",
    "    global ix, iy\n",
    "    ix, iy = event.xdata, event.ydata\n",
    "    txt.value = str(event)#\"x= %d, y = %d\"%(ix, iy)\n",
    "\n",
    "    global coords\n",
    "    coords.append((ix, iy))\n",
    "    \n",
    "    algae_ind = int(mask[iy.astype(int), ix.astype(int)])\n",
    "    if algae_ind != 0:\n",
    "\n",
    "        decay = FD_tot[algae_ind]\n",
    "        intensity = I_image_tot[algae_ind]\n",
    "        #decay = decay/intensity\n",
    "\n",
    "        pred = get_fit(decay, intensity)\n",
    "        axs[1].plot(intensity, platt(pred, intensity), label = pred[0]/pred[1])\n",
    "        axs[1].plot(intensity, decay/I, '.')\n",
    "        axs[1].legend()\n",
    "        plt.tight_layout()\n",
    "# Create an hard reference to the callback not to be cleared by the garbage collector\n",
    "ka = fig.canvas.mpl_connect('button_press_event', onclick)"
   ]
  },
  {
   "cell_type": "code",
   "execution_count": 97,
   "metadata": {},
   "outputs": [
    {
     "data": {
      "text/plain": [
       "11.611680679097226"
      ]
     },
     "execution_count": 97,
     "metadata": {},
     "output_type": "execute_result"
    }
   ],
   "source": [
    "iy"
   ]
  },
  {
   "cell_type": "code",
   "execution_count": 140,
   "metadata": {},
   "outputs": [
    {
     "data": {
      "application/vnd.jupyter.widget-view+json": {
       "model_id": "9425ccacd0bb4d3db631cd0bd5f6cef8",
       "version_major": 2,
       "version_minor": 0
      },
      "text/plain": [
       "Canvas(toolbar=Toolbar(toolitems=[('Home', 'Reset original view', 'home', 'home'), ('Back', 'Back to previous …"
      ]
     },
     "metadata": {},
     "output_type": "display_data"
    }
   ],
   "source": [
    "plt.figure()\n",
    "    \n",
    "algae_ind =200#int(mask[iy.astype(int), ix.astype(int)])\n",
    "if algae_ind != 0:\n",
    "\n",
    "    decay = FD_tot[algae_ind]\n",
    "    intensity = I_image_tot[algae_ind]\n",
    "\n",
    "    params = get_fit(decay, intensity)\n",
    "    plt.plot(intensity, platt(params, intensity), label = params[1])\n",
    "    plt.plot(intensity, decay/I, '.')\n"
   ]
  },
  {
   "cell_type": "code",
   "execution_count": 76,
   "metadata": {},
   "outputs": [
    {
     "data": {
      "text/plain": [
       "array([329534.48923685, 119305.0297762 ])"
      ]
     },
     "execution_count": 76,
     "metadata": {},
     "output_type": "execute_result"
    }
   ],
   "source": [
    "params"
   ]
  },
  {
   "cell_type": "code",
   "execution_count": 43,
   "metadata": {},
   "outputs": [
    {
     "data": {
      "text/plain": [
       "1440"
      ]
     },
     "execution_count": 43,
     "metadata": {},
     "output_type": "execute_result"
    }
   ],
   "source": [
    "i"
   ]
  },
  {
   "cell_type": "code",
   "execution_count": 53,
   "metadata": {},
   "outputs": [],
   "source": [
    "np.save(\"G:/DREAM/from_github/PAMFluo/Figures/imref_%d.npy\"%N, imref)\n",
    "np.save(\"G:/DREAM/from_github/PAMFluo/Figures/imtau_%d.npy\"%N, clip(mm/ekk))"
   ]
  },
  {
   "cell_type": "code",
   "execution_count": 54,
   "metadata": {},
   "outputs": [
    {
     "ename": "ValueError",
     "evalue": "The truth value of an array with more than one element is ambiguous. Use a.any() or a.all()",
     "output_type": "error",
     "traceback": [
      "\u001b[1;31m---------------------------------------------------------------------------\u001b[0m",
      "\u001b[1;31mValueError\u001b[0m                                Traceback (most recent call last)",
      "\u001b[1;32m<ipython-input-54-2400d7013633>\u001b[0m in \u001b[0;36m<module>\u001b[1;34m\u001b[0m\n\u001b[0;32m      2\u001b[0m \u001b[0ma\u001b[0m \u001b[1;33m=\u001b[0m \u001b[0mnp\u001b[0m\u001b[1;33m.\u001b[0m\u001b[0mload\u001b[0m\u001b[1;33m(\u001b[0m\u001b[1;34m\"G:/DREAM/from_github/PAMFluo/Figures/imref_3.npy\"\u001b[0m\u001b[1;33m)\u001b[0m\u001b[1;33m\u001b[0m\u001b[1;33m\u001b[0m\u001b[0m\n\u001b[0;32m      3\u001b[0m \u001b[0mb\u001b[0m \u001b[1;33m=\u001b[0m \u001b[0mnp\u001b[0m\u001b[1;33m.\u001b[0m\u001b[0mload\u001b[0m\u001b[1;33m(\u001b[0m\u001b[1;34m\"G:/DREAM/from_github/PAMFluo/Figures/imtau_3.npy\"\u001b[0m\u001b[1;33m)\u001b[0m\u001b[1;33m\u001b[0m\u001b[1;33m\u001b[0m\u001b[0m\n\u001b[1;32m----> 4\u001b[1;33m \u001b[0mplt\u001b[0m\u001b[1;33m.\u001b[0m\u001b[0mshow\u001b[0m\u001b[1;33m(\u001b[0m\u001b[0ma\u001b[0m\u001b[1;33m)\u001b[0m\u001b[1;33m\u001b[0m\u001b[1;33m\u001b[0m\u001b[0m\n\u001b[0m\u001b[0;32m      5\u001b[0m \u001b[0mplt\u001b[0m\u001b[1;33m.\u001b[0m\u001b[0mfigure\u001b[0m\u001b[1;33m(\u001b[0m\u001b[1;33m)\u001b[0m\u001b[1;33m\u001b[0m\u001b[1;33m\u001b[0m\u001b[0m\n\u001b[0;32m      6\u001b[0m \u001b[0mplt\u001b[0m\u001b[1;33m.\u001b[0m\u001b[0mshow\u001b[0m\u001b[1;33m(\u001b[0m\u001b[0mb\u001b[0m\u001b[1;33m)\u001b[0m\u001b[1;33m\u001b[0m\u001b[1;33m\u001b[0m\u001b[0m\n",
      "\u001b[1;32m~\\anaconda3\\envs\\arduino\\lib\\site-packages\\matplotlib\\pyplot.py\u001b[0m in \u001b[0;36mshow\u001b[1;34m(*args, **kwargs)\u001b[0m\n\u001b[0;32m    351\u001b[0m     \"\"\"\n\u001b[0;32m    352\u001b[0m     \u001b[0m_warn_if_gui_out_of_main_thread\u001b[0m\u001b[1;33m(\u001b[0m\u001b[1;33m)\u001b[0m\u001b[1;33m\u001b[0m\u001b[1;33m\u001b[0m\u001b[0m\n\u001b[1;32m--> 353\u001b[1;33m     \u001b[1;32mreturn\u001b[0m \u001b[0m_backend_mod\u001b[0m\u001b[1;33m.\u001b[0m\u001b[0mshow\u001b[0m\u001b[1;33m(\u001b[0m\u001b[1;33m*\u001b[0m\u001b[0margs\u001b[0m\u001b[1;33m,\u001b[0m \u001b[1;33m**\u001b[0m\u001b[0mkwargs\u001b[0m\u001b[1;33m)\u001b[0m\u001b[1;33m\u001b[0m\u001b[1;33m\u001b[0m\u001b[0m\n\u001b[0m\u001b[0;32m    354\u001b[0m \u001b[1;33m\u001b[0m\u001b[0m\n\u001b[0;32m    355\u001b[0m \u001b[1;33m\u001b[0m\u001b[0m\n",
      "\u001b[1;32m~\\anaconda3\\envs\\arduino\\lib\\site-packages\\ipykernel\\pylab\\backend_inline.py\u001b[0m in \u001b[0;36mshow\u001b[1;34m(close, block)\u001b[0m\n\u001b[0;32m     47\u001b[0m         \u001b[1;31m# only call close('all') if any to close\u001b[0m\u001b[1;33m\u001b[0m\u001b[1;33m\u001b[0m\u001b[1;33m\u001b[0m\u001b[0m\n\u001b[0;32m     48\u001b[0m         \u001b[1;31m# close triggers gc.collect, which can be slow\u001b[0m\u001b[1;33m\u001b[0m\u001b[1;33m\u001b[0m\u001b[1;33m\u001b[0m\u001b[0m\n\u001b[1;32m---> 49\u001b[1;33m         \u001b[1;32mif\u001b[0m \u001b[0mclose\u001b[0m \u001b[1;32mand\u001b[0m \u001b[0mGcf\u001b[0m\u001b[1;33m.\u001b[0m\u001b[0mget_all_fig_managers\u001b[0m\u001b[1;33m(\u001b[0m\u001b[1;33m)\u001b[0m\u001b[1;33m:\u001b[0m\u001b[1;33m\u001b[0m\u001b[1;33m\u001b[0m\u001b[0m\n\u001b[0m\u001b[0;32m     50\u001b[0m             \u001b[0mmatplotlib\u001b[0m\u001b[1;33m.\u001b[0m\u001b[0mpyplot\u001b[0m\u001b[1;33m.\u001b[0m\u001b[0mclose\u001b[0m\u001b[1;33m(\u001b[0m\u001b[1;34m'all'\u001b[0m\u001b[1;33m)\u001b[0m\u001b[1;33m\u001b[0m\u001b[1;33m\u001b[0m\u001b[0m\n\u001b[0;32m     51\u001b[0m \u001b[1;33m\u001b[0m\u001b[0m\n",
      "\u001b[1;31mValueError\u001b[0m: The truth value of an array with more than one element is ambiguous. Use a.any() or a.all()"
     ]
    }
   ],
   "source": [
    "import matplotlib.pyplot as plt\n",
    "a = np.load(\"G:/DREAM/from_github/PAMFluo/Figures/imref_3.npy\")\n",
    "b = np.load(\"G:/DREAM/from_github/PAMFluo/Figures/imtau_3.npy\")\n",
    "plt.show(a)\n",
    "plt.figure()\n",
    "plt.show(b)"
   ]
  },
  {
   "cell_type": "code",
   "execution_count": 187,
   "metadata": {},
   "outputs": [
    {
     "data": {
      "application/vnd.jupyter.widget-view+json": {
       "model_id": "5a98e2d10cf0429383314d3d5b0c443a",
       "version_major": 2,
       "version_minor": 0
      },
      "text/plain": [
       "Canvas(toolbar=Toolbar(toolitems=[('Home', 'Reset original view', 'home', 'home'), ('Back', 'Back to previous …"
      ]
     },
     "metadata": {},
     "output_type": "display_data"
    },
    {
     "data": {
      "text/plain": [
       "(array([24635.,  5312., 12015., 11329.,  6004.,  2663.,  1249.,   612.,\n",
       "          351.,   874.]),\n",
       " array([7.21974678e-06, 2.22123240e+00, 4.44245758e+00, 6.66368276e+00,\n",
       "        8.88490794e+00, 1.11061331e+01, 1.33273583e+01, 1.55485835e+01,\n",
       "        1.77698087e+01, 1.99910338e+01, 2.22122590e+01]),\n",
       " <BarContainer object of 10 artists>)"
      ]
     },
     "execution_count": 187,
     "metadata": {},
     "output_type": "execute_result"
    }
   ],
   "source": [
    "plt.figure()\n",
    "plt.hist(clip(mm/ekk, high = 99, low = 1).flatten())"
   ]
  },
  {
   "cell_type": "code",
   "execution_count": null,
   "metadata": {},
   "outputs": [],
   "source": [
    "u = np.array(FD_tot)\n",
    "FD_m = np.mean(u, axis = 0)\n",
    "I_m = np.copy(I)\n",
    "indices = (FD_m < 250)*(FD_m>0.4)*(I_m>5e-4)*(I_m<2.8)\n",
    "I_m = I_m[indices]\n",
    "FD_m = FD_m[indices]\n",
    "plt.plot(I_m, FD_m/I_m, '.')"
   ]
  },
  {
   "cell_type": "code",
   "execution_count": null,
   "metadata": {},
   "outputs": [],
   "source": [
    "u.shape"
   ]
  },
  {
   "cell_type": "code",
   "execution_count": null,
   "metadata": {},
   "outputs": [],
   "source": [
    "test = []\n",
    "measure = []\n",
    "for f in data.keys():\n",
    "    for amp in data[f].keys():\n",
    "        output = data[f][amp]['output']\n",
    "        mppc = np.mean(output[0])\n",
    "        #test.append(voltint.get_MPPC_voltage('blue', f, amp/100))\n",
    "        test.append(voltint.get_intensity_MPPC('blue', f, mppc ))\n",
    "        measure.append(mppc)\n",
    "#plt.loglog(test, '.')\n",
    "plt.loglog(test, measure, '.')"
   ]
  },
  {
   "cell_type": "code",
   "execution_count": 24,
   "metadata": {},
   "outputs": [
    {
     "ename": "AttributeError",
     "evalue": "'numpy.ndarray' object has no attribute 'keys'",
     "output_type": "error",
     "traceback": [
      "\u001b[1;31m---------------------------------------------------------------------------\u001b[0m",
      "\u001b[1;31mAttributeError\u001b[0m                            Traceback (most recent call last)",
      "\u001b[1;32m<ipython-input-24-79d8aa42b11f>\u001b[0m in \u001b[0;36m<module>\u001b[1;34m\u001b[0m\n\u001b[1;32m----> 1\u001b[1;33m \u001b[1;32mfor\u001b[0m \u001b[0mP\u001b[0m \u001b[1;32min\u001b[0m \u001b[0mlist\u001b[0m\u001b[1;33m(\u001b[0m\u001b[0mek_values\u001b[0m\u001b[1;33m.\u001b[0m\u001b[0mkeys\u001b[0m\u001b[1;33m(\u001b[0m\u001b[1;33m)\u001b[0m\u001b[1;33m)\u001b[0m\u001b[1;33m[\u001b[0m\u001b[1;33m:\u001b[0m\u001b[1;33m:\u001b[0m\u001b[1;33m-\u001b[0m\u001b[1;36m1\u001b[0m\u001b[1;33m]\u001b[0m\u001b[1;33m:\u001b[0m\u001b[1;33m\u001b[0m\u001b[1;33m\u001b[0m\u001b[0m\n\u001b[0m\u001b[0;32m      2\u001b[0m     \u001b[0mek\u001b[0m \u001b[1;33m=\u001b[0m \u001b[0mnp\u001b[0m\u001b[1;33m.\u001b[0m\u001b[0marray\u001b[0m\u001b[1;33m(\u001b[0m\u001b[0mek_values\u001b[0m\u001b[1;33m[\u001b[0m\u001b[0mP\u001b[0m\u001b[1;33m]\u001b[0m\u001b[1;33m)\u001b[0m\u001b[1;33m\u001b[0m\u001b[1;33m\u001b[0m\u001b[0m\n\u001b[0;32m      3\u001b[0m     \u001b[0mM\u001b[0m \u001b[1;33m=\u001b[0m \u001b[0mnp\u001b[0m\u001b[1;33m.\u001b[0m\u001b[0marray\u001b[0m\u001b[1;33m(\u001b[0m\u001b[0mM_values\u001b[0m\u001b[1;33m[\u001b[0m\u001b[0mP\u001b[0m\u001b[1;33m]\u001b[0m\u001b[1;33m)\u001b[0m\u001b[1;33m\u001b[0m\u001b[1;33m\u001b[0m\u001b[0m\n\u001b[0;32m      4\u001b[0m     \u001b[0mindices\u001b[0m \u001b[1;33m=\u001b[0m \u001b[1;33m(\u001b[0m\u001b[0mM\u001b[0m\u001b[1;33m/\u001b[0m\u001b[0mek\u001b[0m\u001b[1;33m)\u001b[0m\u001b[1;33m<\u001b[0m\u001b[1;36m1e2\u001b[0m\u001b[1;33m\u001b[0m\u001b[1;33m\u001b[0m\u001b[0m\n\u001b[0;32m      5\u001b[0m     \u001b[0mplt\u001b[0m\u001b[1;33m.\u001b[0m\u001b[0mhist\u001b[0m\u001b[1;33m(\u001b[0m\u001b[0mM\u001b[0m\u001b[1;33m[\u001b[0m\u001b[0mindices\u001b[0m\u001b[1;33m]\u001b[0m\u001b[1;33m/\u001b[0m\u001b[0mek\u001b[0m\u001b[1;33m[\u001b[0m\u001b[0mindices\u001b[0m\u001b[1;33m]\u001b[0m\u001b[1;33m,\u001b[0m \u001b[0mbins\u001b[0m \u001b[1;33m=\u001b[0m \u001b[1;36m100\u001b[0m\u001b[1;33m)\u001b[0m\u001b[1;33m\u001b[0m\u001b[1;33m\u001b[0m\u001b[0m\n",
      "\u001b[1;31mAttributeError\u001b[0m: 'numpy.ndarray' object has no attribute 'keys'"
     ]
    }
   ],
   "source": [
    "for P in list(ek_values.keys())[::-1]: \n",
    "    ek = np.array(ek_values[P])\n",
    "    M = np.array(M_values[P])\n",
    "    indices = (M/ek)<1e2\n",
    "    plt.hist(M[indices]/ek[indices], bins = 100)\n",
    "    #plt.hist(ek[indices], bins = 100)"
   ]
  },
  {
   "cell_type": "code",
   "execution_count": null,
   "metadata": {},
   "outputs": [],
   "source": [
    "for P in list(ek_values.keys())[::-1]: \n",
    "    a3 = np.array(A3[P])\n",
    "    ek = np.array(ek_values[P])\n",
    "    M = np.array(M_values[P])\n",
    "    indices = (M/ek)<1e2\n",
    "    plt.scatter(P, np.std(M[indices]/ek[indices]))\n",
    "    #plt.scatter(P, np.sqrt(P)/2000, color = 'b')\n",
    "    #plt.scatter(P, np.std(a3))"
   ]
  },
  {
   "cell_type": "code",
   "execution_count": null,
   "metadata": {},
   "outputs": [],
   "source": [
    "FD_mppc = []\n",
    "I_mppc = []\n",
    "i = 0\n",
    "x0 = [0.001, 0.0005/200]\n",
    "for f in data.keys():\n",
    "    for amp in data[f].keys():\n",
    "        if i > 0:\n",
    "            data_key = data[f][amp]\n",
    "            video = data_key[\"video\"]\n",
    "            output = data_key[\"output\"]\n",
    "            intensity = output[0, :1000000].mean()# - output[0, 1000000:].mean()\n",
    "            fluorescence1 = output[1, 150000:300000].mean() - output[1, 1050000:].mean()\n",
    "            fluorescence2 = output[1, 700000:9000000].mean() - output[1, 1050000:].mean()\n",
    "            fluorescence = output[1, :1000000].mean()\n",
    "            #plt.plot(intensity, fluorescence2/intensity, '.')\n",
    "            #intensity = voltint.get_intensity_MPPC('blue', f, np.mean(output[0,:1000000]))*1e6\n",
    "            #plt.loglog(intensity, fluorescence2/intensity, '.', color = \"r\")# col[f])\n",
    "            i += 1\n",
    "            I_mppc.append(intensity)\n",
    "            FD_mppc.append(fluorescence)\n",
    "        \n",
    "        else: \n",
    "            i+= 1\n",
    "\n",
    "I_mppc = np.array(I_mppc)\n",
    "FD_mppc = np.array(FD_mppc)\n",
    "\n",
    "indices = (FD_mppc < 2.8)*(FD_mppc>5e-4)*(I_mppc>5e-4)*(I_mppc<2.8)\n",
    "\n",
    "I_mppc = np.array(I_mppc)[indices]\n",
    "FD_mppc = np.array(FD_mppc)[indices]\n",
    "parameters_estimated = optimize.least_squares(residuals,  x0, bounds = (-1e5,1e5),\n",
    "                                        args = (I_mppc, FD_mppc/I_mppc, platt))\n",
    "(M, ek) = parameters_estimated.x\n",
    "plt.loglog(I_mppc, platt((M,ek), I_mppc))\n",
    "plt.loglog(I_mppc, FD_mppc/I_mppc, '.')\n"
   ]
  },
  {
   "cell_type": "code",
   "execution_count": null,
   "metadata": {},
   "outputs": [],
   "source": [
    "I_mppc"
   ]
  },
  {
   "cell_type": "code",
   "execution_count": null,
   "metadata": {},
   "outputs": [],
   "source": [
    "#plt.plot(I, FD)\n",
    "plt.plot(I_mppc, FD_mppc)"
   ]
  },
  {
   "cell_type": "code",
   "execution_count": null,
   "metadata": {},
   "outputs": [],
   "source": [
    "plt.loglog(I_mppc, FD_mppc, \".\")\n"
   ]
  },
  {
   "cell_type": "code",
   "execution_count": 42,
   "metadata": {},
   "outputs": [
    {
     "data": {
      "image/png": "[encoded data removed]",
      "text/plain": [
       "<Figure size 432x288 with 1 Axes>"
      ]
     },
     "metadata": {
      "needs_background": "light"
     },
     "output_type": "display_data"
    }
   ],
   "source": [
    "ek_values =[]\n",
    "x0 = [2, 0.2]\n",
    "\n",
    "for algae in list(items_dict.keys())[100:101]:\n",
    "    i = 0\n",
    "    I = {}\n",
    "    FD = {}\n",
    "    for k in range(1,10):\n",
    "        I[k] = []\n",
    "        FD[k] = []\n",
    "        for f in [1,0]:#data.keys():\n",
    "            for amp in data[f].keys():\n",
    "                if i > 3:\n",
    "                    x_coords =  items_dict[algae]['x_coords']\n",
    "                    y_coords =  items_dict[algae]['y_coords']\n",
    "                    video = data[f][amp]['video']\n",
    "                    output = data[f][amp]['output']\n",
    "                    algae_fluo = np.mean(video[k, x_coords, y_coords])\n",
    "                    I[k].append(np.mean(output[0]))\n",
    "                    FD[k].append(algae_fluo)\n",
    "                    i += 1\n",
    "\n",
    "                else:\n",
    "                    i+=1\n",
    "        #plt.plot(I[k], np.array(FD[k])/np.array(I[k]), label = str(k))#\n",
    "        plt.scatter(k, FD[k][-1]/I[k][-1], color = 'k')\n",
    "        #plt.scatter(k, FD[k][-9]/I[k][-9], color = 'b', label = 9)\n",
    "\n",
    "#plt.legend()"
   ]
  },
  {
   "cell_type": "code",
   "execution_count": 43,
   "metadata": {},
   "outputs": [
    {
     "data": {
      "text/plain": [
       "'10'"
      ]
     },
     "execution_count": 43,
     "metadata": {},
     "output_type": "execute_result"
    }
   ],
   "source": [
    "list(items_dict.keys())[10]"
   ]
  },
  {
   "cell_type": "code",
   "execution_count": null,
   "metadata": {},
   "outputs": [],
   "source": []
  }
 ],
 "metadata": {
  "kernelspec": {
   "display_name": "Python 3",
   "language": "python",
   "name": "python3"
  },
  "language_info": {
   "codemirror_mode": {
    "name": "ipython",
    "version": 3
   },
   "file_extension": ".py",
   "mimetype": "text/x-python",
   "name": "python",
   "nbconvert_exporter": "python",
   "pygments_lexer": "ipython3",
   "version": "3.8.10"
  }
 },
 "nbformat": 4,
 "nbformat_minor": 4
}
