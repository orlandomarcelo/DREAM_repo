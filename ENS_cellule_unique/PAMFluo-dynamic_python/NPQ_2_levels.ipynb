{
 "cells": [
  {
   "cell_type": "code",
   "execution_count": 22,
   "metadata": {},
   "outputs": [],
   "source": [
    "#image analysis\n",
    "import skimage.io\n",
    "import imageio\n",
    "import alienlab.plot\n",
    "from alienlab.improcessing import normalize, grey_to_rgb, make_binary\n",
    "import alienlab.segment\n",
    "from alienlab.fo import FramesOperator\n",
    "import alienlab.io\n",
    "from scipy import optimize\n",
    "import glob\n",
    "from alienlab.regression_func import *\n",
    "import copy\n",
    "from VoltageIntensityClass import VoltageIntensity\n",
    "from tqdm import tqdm\n",
    "\n",
    "from joblib.externals.loky import set_loky_pickler\n",
    "from joblib import parallel_backend\n",
    "from joblib import Parallel, delayed\n",
    "from joblib import wrap_non_picklable_objects\n",
    "from skimage.transform import resize\n",
    "\n",
    "import tifffile as tiff\n",
    "\n",
    "#interactive widget packages\n",
    "from ipywidgets import interact, interactive, fixed, interact_manual\n",
    "from tkinter.filedialog import askopenfilename, askdirectory\n",
    "\n",
    "from VoltageIntensityClass import VoltageIntensity\n",
    "\n",
    "\n",
    "import time\n",
    "import os\n",
    "import numpy as np\n",
    "import matplotlib.pyplot as plt\n",
    "import random\n",
    "import pandas as pd\n",
    "\n",
    "%matplotlib ipympl\n",
    "import matplotlib.pyplot as plt\n",
    "import numpy as np\n",
    "import ipywidgets as wdg  # Using the ipython notebook widgets\n",
    "from alienlab.regression_func import platt, residuals\n",
    "from alienlab.utils import clip\n",
    "from alienlab.segment import uniform_mask, label_to_data\n",
    "from alienlab.widget import click_to_graph\n",
    "#%matplotlib inline\n",
    "\n",
    "\n",
    "from mvgavg import mvgavg\n",
    "\n",
    "\n",
    "\n"
   ]
  },
  {
   "cell_type": "code",
   "execution_count": 23,
   "metadata": {},
   "outputs": [
    {
     "data": {
      "text/plain": [
       "''"
      ]
     },
     "execution_count": 23,
     "metadata": {},
     "output_type": "execute_result"
    }
   ],
   "source": [
    "#file_path = \"ENTER NAME OF THE FILE YOU DROPPED IN THE FILE SECTION HERE\" \n",
    "file_folder = askdirectory(title = 'Select an experiment folder', initialdir=\"G:/DREAM/from_github/PAMFluo/Experiments\")  # pops up a window to select your file \n",
    "# uncomment this line if you use this jupyter notebook locally\n",
    "#'G:/DREAM/from_github/PAMFluo/Experiments/2021-06-24_12_12_Ek_video'\n",
    "file_folder"
   ]
  },
  {
   "cell_type": "code",
   "execution_count": 20,
   "metadata": {},
   "outputs": [],
   "source": [
    "show = True #option to output intermediary images in the segmentation process\n",
    "\n",
    "# Import video file in HQ and select ROI\n",
    "file_path = file_folder + \"/video_high.tiff\"\n",
    "direc = os.path.split(file_path)[0]\n",
    "\n",
    "# Initialize plotting tools\n",
    "g = alienlab.plot.ShowFigure()\n",
    "g.figsize = (15,7)\n",
    "g.save_folder = \"images\"\n",
    "g.date = False\n",
    "p = alienlab.plot.PlotFigure()\n",
    "p.figsize = (15,7)\n",
    "p.save_folder = \"images\"\n",
    "p.date = False"
   ]
  },
  {
   "cell_type": "code",
   "execution_count": 21,
   "metadata": {},
   "outputs": [
    {
     "ename": "FileNotFoundError",
     "evalue": "[Errno 2] No such file or directory: 'G:\\\\DREAM\\\\from_github\\\\PAMFluo\\\\Experiments\\\\qE_pulse_calib_HL_induced_10_28\\\\video_high.tiff'",
     "output_type": "error",
     "traceback": [
      "\u001b[1;31m---------------------------------------------------------------------------\u001b[0m",
      "\u001b[1;31mFileNotFoundError\u001b[0m                         Traceback (most recent call last)",
      "\u001b[1;32m<ipython-input-21-8e28f067b109>\u001b[0m in \u001b[0;36m<module>\u001b[1;34m\u001b[0m\n\u001b[0;32m      1\u001b[0m \u001b[1;31m# read the stacked frame. dim = NxHxW (N images in the video, Heigt, Width)\u001b[0m\u001b[1;33m\u001b[0m\u001b[1;33m\u001b[0m\u001b[1;33m\u001b[0m\u001b[0m\n\u001b[0;32m      2\u001b[0m \u001b[1;33m\u001b[0m\u001b[0m\n\u001b[1;32m----> 3\u001b[1;33m \u001b[0mframes_full\u001b[0m \u001b[1;33m=\u001b[0m \u001b[0mskimage\u001b[0m\u001b[1;33m.\u001b[0m\u001b[0mio\u001b[0m\u001b[1;33m.\u001b[0m\u001b[0mimread\u001b[0m\u001b[1;33m(\u001b[0m\u001b[0mfile_path\u001b[0m\u001b[1;33m)\u001b[0m\u001b[1;33m\u001b[0m\u001b[1;33m\u001b[0m\u001b[0m\n\u001b[0m\u001b[0;32m      4\u001b[0m \u001b[1;33m\u001b[0m\u001b[0m\n\u001b[0;32m      5\u001b[0m \u001b[1;31m#frames_full = np.stack([frames_full[:,:,1]]*10, 0)\u001b[0m\u001b[1;33m\u001b[0m\u001b[1;33m\u001b[0m\u001b[1;33m\u001b[0m\u001b[0m\n",
      "\u001b[1;32m~\\anaconda3\\envs\\arduino\\lib\\site-packages\\skimage\\io\\_io.py\u001b[0m in \u001b[0;36mimread\u001b[1;34m(fname, as_gray, plugin, **plugin_args)\u001b[0m\n\u001b[0;32m     46\u001b[0m \u001b[1;33m\u001b[0m\u001b[0m\n\u001b[0;32m     47\u001b[0m     \u001b[1;32mwith\u001b[0m \u001b[0mfile_or_url_context\u001b[0m\u001b[1;33m(\u001b[0m\u001b[0mfname\u001b[0m\u001b[1;33m)\u001b[0m \u001b[1;32mas\u001b[0m \u001b[0mfname\u001b[0m\u001b[1;33m:\u001b[0m\u001b[1;33m\u001b[0m\u001b[1;33m\u001b[0m\u001b[0m\n\u001b[1;32m---> 48\u001b[1;33m         \u001b[0mimg\u001b[0m \u001b[1;33m=\u001b[0m \u001b[0mcall_plugin\u001b[0m\u001b[1;33m(\u001b[0m\u001b[1;34m'imread'\u001b[0m\u001b[1;33m,\u001b[0m \u001b[0mfname\u001b[0m\u001b[1;33m,\u001b[0m \u001b[0mplugin\u001b[0m\u001b[1;33m=\u001b[0m\u001b[0mplugin\u001b[0m\u001b[1;33m,\u001b[0m \u001b[1;33m**\u001b[0m\u001b[0mplugin_args\u001b[0m\u001b[1;33m)\u001b[0m\u001b[1;33m\u001b[0m\u001b[1;33m\u001b[0m\u001b[0m\n\u001b[0m\u001b[0;32m     49\u001b[0m \u001b[1;33m\u001b[0m\u001b[0m\n\u001b[0;32m     50\u001b[0m     \u001b[1;32mif\u001b[0m \u001b[1;32mnot\u001b[0m \u001b[0mhasattr\u001b[0m\u001b[1;33m(\u001b[0m\u001b[0mimg\u001b[0m\u001b[1;33m,\u001b[0m \u001b[1;34m'ndim'\u001b[0m\u001b[1;33m)\u001b[0m\u001b[1;33m:\u001b[0m\u001b[1;33m\u001b[0m\u001b[1;33m\u001b[0m\u001b[0m\n",
      "\u001b[1;32m~\\anaconda3\\envs\\arduino\\lib\\site-packages\\skimage\\io\\manage_plugins.py\u001b[0m in \u001b[0;36mcall_plugin\u001b[1;34m(kind, *args, **kwargs)\u001b[0m\n\u001b[0;32m    205\u001b[0m                                (plugin, kind))\n\u001b[0;32m    206\u001b[0m \u001b[1;33m\u001b[0m\u001b[0m\n\u001b[1;32m--> 207\u001b[1;33m     \u001b[1;32mreturn\u001b[0m \u001b[0mfunc\u001b[0m\u001b[1;33m(\u001b[0m\u001b[1;33m*\u001b[0m\u001b[0margs\u001b[0m\u001b[1;33m,\u001b[0m \u001b[1;33m**\u001b[0m\u001b[0mkwargs\u001b[0m\u001b[1;33m)\u001b[0m\u001b[1;33m\u001b[0m\u001b[1;33m\u001b[0m\u001b[0m\n\u001b[0m\u001b[0;32m    208\u001b[0m \u001b[1;33m\u001b[0m\u001b[0m\n\u001b[0;32m    209\u001b[0m \u001b[1;33m\u001b[0m\u001b[0m\n",
      "\u001b[1;32m~\\anaconda3\\envs\\arduino\\lib\\site-packages\\skimage\\io\\_plugins\\tifffile_plugin.py\u001b[0m in \u001b[0;36mimread\u001b[1;34m(fname, **kwargs)\u001b[0m\n\u001b[0;32m     28\u001b[0m         \u001b[0mkwargs\u001b[0m\u001b[1;33m[\u001b[0m\u001b[1;34m'key'\u001b[0m\u001b[1;33m]\u001b[0m \u001b[1;33m=\u001b[0m \u001b[0mkwargs\u001b[0m\u001b[1;33m.\u001b[0m\u001b[0mpop\u001b[0m\u001b[1;33m(\u001b[0m\u001b[1;34m'img_num'\u001b[0m\u001b[1;33m)\u001b[0m\u001b[1;33m\u001b[0m\u001b[1;33m\u001b[0m\u001b[0m\n\u001b[0;32m     29\u001b[0m \u001b[1;33m\u001b[0m\u001b[0m\n\u001b[1;32m---> 30\u001b[1;33m     \u001b[1;32mreturn\u001b[0m \u001b[0mtifffile_imread\u001b[0m\u001b[1;33m(\u001b[0m\u001b[0mfname\u001b[0m\u001b[1;33m,\u001b[0m \u001b[1;33m**\u001b[0m\u001b[0mkwargs\u001b[0m\u001b[1;33m)\u001b[0m\u001b[1;33m\u001b[0m\u001b[1;33m\u001b[0m\u001b[0m\n\u001b[0m",
      "\u001b[1;32m~\\anaconda3\\envs\\arduino\\lib\\site-packages\\tifffile\\tifffile.py\u001b[0m in \u001b[0;36mimread\u001b[1;34m(files, aszarr, **kwargs)\u001b[0m\n\u001b[0;32m    779\u001b[0m \u001b[1;33m\u001b[0m\u001b[0m\n\u001b[0;32m    780\u001b[0m         \u001b[1;32mif\u001b[0m \u001b[0misinstance\u001b[0m\u001b[1;33m(\u001b[0m\u001b[0mfiles\u001b[0m\u001b[1;33m,\u001b[0m \u001b[1;33m(\u001b[0m\u001b[0mstr\u001b[0m\u001b[1;33m,\u001b[0m \u001b[0mos\u001b[0m\u001b[1;33m.\u001b[0m\u001b[0mPathLike\u001b[0m\u001b[1;33m)\u001b[0m\u001b[1;33m)\u001b[0m \u001b[1;32mor\u001b[0m \u001b[0mhasattr\u001b[0m\u001b[1;33m(\u001b[0m\u001b[0mfiles\u001b[0m\u001b[1;33m,\u001b[0m \u001b[1;34m'seek'\u001b[0m\u001b[1;33m)\u001b[0m\u001b[1;33m:\u001b[0m\u001b[1;33m\u001b[0m\u001b[1;33m\u001b[0m\u001b[0m\n\u001b[1;32m--> 781\u001b[1;33m             \u001b[1;32mwith\u001b[0m \u001b[0mTiffFile\u001b[0m\u001b[1;33m(\u001b[0m\u001b[0mfiles\u001b[0m\u001b[1;33m,\u001b[0m \u001b[1;33m**\u001b[0m\u001b[0mkwargs_file\u001b[0m\u001b[1;33m)\u001b[0m \u001b[1;32mas\u001b[0m \u001b[0mtif\u001b[0m\u001b[1;33m:\u001b[0m\u001b[1;33m\u001b[0m\u001b[1;33m\u001b[0m\u001b[0m\n\u001b[0m\u001b[0;32m    782\u001b[0m                 \u001b[1;32mif\u001b[0m \u001b[0maszarr\u001b[0m\u001b[1;33m:\u001b[0m\u001b[1;33m\u001b[0m\u001b[1;33m\u001b[0m\u001b[0m\n\u001b[0;32m    783\u001b[0m                     \u001b[1;32mreturn\u001b[0m \u001b[0mtif\u001b[0m\u001b[1;33m.\u001b[0m\u001b[0maszarr\u001b[0m\u001b[1;33m(\u001b[0m\u001b[1;33m**\u001b[0m\u001b[0mkwargs\u001b[0m\u001b[1;33m)\u001b[0m\u001b[1;33m\u001b[0m\u001b[1;33m\u001b[0m\u001b[0m\n",
      "\u001b[1;32m~\\anaconda3\\envs\\arduino\\lib\\site-packages\\tifffile\\tifffile.py\u001b[0m in \u001b[0;36m__init__\u001b[1;34m(self, arg, mode, name, offset, size, _multifile, _useframes, _master, **kwargs)\u001b[0m\n\u001b[0;32m   2895\u001b[0m             \u001b[1;32mraise\u001b[0m \u001b[0mValueError\u001b[0m\u001b[1;33m(\u001b[0m\u001b[1;34mf'invalid mode {mode!r}'\u001b[0m\u001b[1;33m)\u001b[0m\u001b[1;33m\u001b[0m\u001b[1;33m\u001b[0m\u001b[0m\n\u001b[0;32m   2896\u001b[0m \u001b[1;33m\u001b[0m\u001b[0m\n\u001b[1;32m-> 2897\u001b[1;33m         \u001b[0mfh\u001b[0m \u001b[1;33m=\u001b[0m \u001b[0mFileHandle\u001b[0m\u001b[1;33m(\u001b[0m\u001b[0marg\u001b[0m\u001b[1;33m,\u001b[0m \u001b[0mmode\u001b[0m\u001b[1;33m=\u001b[0m\u001b[0mmode\u001b[0m\u001b[1;33m,\u001b[0m \u001b[0mname\u001b[0m\u001b[1;33m=\u001b[0m\u001b[0mname\u001b[0m\u001b[1;33m,\u001b[0m \u001b[0moffset\u001b[0m\u001b[1;33m=\u001b[0m\u001b[0moffset\u001b[0m\u001b[1;33m,\u001b[0m \u001b[0msize\u001b[0m\u001b[1;33m=\u001b[0m\u001b[0msize\u001b[0m\u001b[1;33m)\u001b[0m\u001b[1;33m\u001b[0m\u001b[1;33m\u001b[0m\u001b[0m\n\u001b[0m\u001b[0;32m   2898\u001b[0m         \u001b[0mself\u001b[0m\u001b[1;33m.\u001b[0m\u001b[0m_fh\u001b[0m \u001b[1;33m=\u001b[0m \u001b[0mfh\u001b[0m\u001b[1;33m\u001b[0m\u001b[1;33m\u001b[0m\u001b[0m\n\u001b[0;32m   2899\u001b[0m         \u001b[0mself\u001b[0m\u001b[1;33m.\u001b[0m\u001b[0m_multifile\u001b[0m \u001b[1;33m=\u001b[0m \u001b[0mbool\u001b[0m\u001b[1;33m(\u001b[0m\u001b[0m_multifile\u001b[0m\u001b[1;33m)\u001b[0m\u001b[1;33m\u001b[0m\u001b[1;33m\u001b[0m\u001b[0m\n",
      "\u001b[1;32m~\\anaconda3\\envs\\arduino\\lib\\site-packages\\tifffile\\tifffile.py\u001b[0m in \u001b[0;36m__init__\u001b[1;34m(self, file, mode, name, offset, size)\u001b[0m\n\u001b[0;32m   9207\u001b[0m         \u001b[0mself\u001b[0m\u001b[1;33m.\u001b[0m\u001b[0mis_file\u001b[0m \u001b[1;33m=\u001b[0m \u001b[1;32mNone\u001b[0m\u001b[1;33m\u001b[0m\u001b[1;33m\u001b[0m\u001b[0m\n\u001b[0;32m   9208\u001b[0m         \u001b[0mself\u001b[0m\u001b[1;33m.\u001b[0m\u001b[0m_lock\u001b[0m \u001b[1;33m=\u001b[0m \u001b[0mNullContext\u001b[0m\u001b[1;33m(\u001b[0m\u001b[1;33m)\u001b[0m\u001b[1;33m\u001b[0m\u001b[1;33m\u001b[0m\u001b[0m\n\u001b[1;32m-> 9209\u001b[1;33m         \u001b[0mself\u001b[0m\u001b[1;33m.\u001b[0m\u001b[0mopen\u001b[0m\u001b[1;33m(\u001b[0m\u001b[1;33m)\u001b[0m\u001b[1;33m\u001b[0m\u001b[1;33m\u001b[0m\u001b[0m\n\u001b[0m\u001b[0;32m   9210\u001b[0m \u001b[1;33m\u001b[0m\u001b[0m\n\u001b[0;32m   9211\u001b[0m     \u001b[1;32mdef\u001b[0m \u001b[0mopen\u001b[0m\u001b[1;33m(\u001b[0m\u001b[0mself\u001b[0m\u001b[1;33m)\u001b[0m\u001b[1;33m:\u001b[0m\u001b[1;33m\u001b[0m\u001b[1;33m\u001b[0m\u001b[0m\n",
      "\u001b[1;32m~\\anaconda3\\envs\\arduino\\lib\\site-packages\\tifffile\\tifffile.py\u001b[0m in \u001b[0;36mopen\u001b[1;34m(self)\u001b[0m\n\u001b[0;32m   9220\u001b[0m             \u001b[0mself\u001b[0m\u001b[1;33m.\u001b[0m\u001b[0m_file\u001b[0m \u001b[1;33m=\u001b[0m \u001b[0mos\u001b[0m\u001b[1;33m.\u001b[0m\u001b[0mpath\u001b[0m\u001b[1;33m.\u001b[0m\u001b[0mrealpath\u001b[0m\u001b[1;33m(\u001b[0m\u001b[0mself\u001b[0m\u001b[1;33m.\u001b[0m\u001b[0m_file\u001b[0m\u001b[1;33m)\u001b[0m\u001b[1;33m\u001b[0m\u001b[1;33m\u001b[0m\u001b[0m\n\u001b[0;32m   9221\u001b[0m             \u001b[0mself\u001b[0m\u001b[1;33m.\u001b[0m\u001b[0m_dir\u001b[0m\u001b[1;33m,\u001b[0m \u001b[0mself\u001b[0m\u001b[1;33m.\u001b[0m\u001b[0m_name\u001b[0m \u001b[1;33m=\u001b[0m \u001b[0mos\u001b[0m\u001b[1;33m.\u001b[0m\u001b[0mpath\u001b[0m\u001b[1;33m.\u001b[0m\u001b[0msplit\u001b[0m\u001b[1;33m(\u001b[0m\u001b[0mself\u001b[0m\u001b[1;33m.\u001b[0m\u001b[0m_file\u001b[0m\u001b[1;33m)\u001b[0m\u001b[1;33m\u001b[0m\u001b[1;33m\u001b[0m\u001b[0m\n\u001b[1;32m-> 9222\u001b[1;33m             \u001b[0mself\u001b[0m\u001b[1;33m.\u001b[0m\u001b[0m_fh\u001b[0m \u001b[1;33m=\u001b[0m \u001b[0mopen\u001b[0m\u001b[1;33m(\u001b[0m\u001b[0mself\u001b[0m\u001b[1;33m.\u001b[0m\u001b[0m_file\u001b[0m\u001b[1;33m,\u001b[0m \u001b[0mself\u001b[0m\u001b[1;33m.\u001b[0m\u001b[0m_mode\u001b[0m\u001b[1;33m)\u001b[0m\u001b[1;33m\u001b[0m\u001b[1;33m\u001b[0m\u001b[0m\n\u001b[0m\u001b[0;32m   9223\u001b[0m             \u001b[0mself\u001b[0m\u001b[1;33m.\u001b[0m\u001b[0m_close\u001b[0m \u001b[1;33m=\u001b[0m \u001b[1;32mTrue\u001b[0m\u001b[1;33m\u001b[0m\u001b[1;33m\u001b[0m\u001b[0m\n\u001b[0;32m   9224\u001b[0m             \u001b[1;32mif\u001b[0m \u001b[0mself\u001b[0m\u001b[1;33m.\u001b[0m\u001b[0m_offset\u001b[0m \u001b[1;32mis\u001b[0m \u001b[1;32mNone\u001b[0m\u001b[1;33m:\u001b[0m\u001b[1;33m\u001b[0m\u001b[1;33m\u001b[0m\u001b[0m\n",
      "\u001b[1;31mFileNotFoundError\u001b[0m: [Errno 2] No such file or directory: 'G:\\\\DREAM\\\\from_github\\\\PAMFluo\\\\Experiments\\\\qE_pulse_calib_HL_induced_10_28\\\\video_high.tiff'"
     ]
    }
   ],
   "source": [
    "# read the stacked frame. dim = NxHxW (N images in the video, Heigt, Width)\n",
    "\n",
    "frames_full = skimage.io.imread(file_path)\n",
    "\n",
    "#frames_full = np.stack([frames_full[:,:,1]]*10, 0) \n",
    "#uncomment this line if you have a single RGB image. The [:,:,1] stands for selection of the green channel\n",
    "\n",
    "FO = FramesOperator(frames_full)\n",
    "im = normalize(FO.frames[0], 0, 1)\n",
    "im = grey_to_rgb(im)*255\n",
    "\n",
    "# CROP\n",
    "#y, x = alienlab.io.select_roi(np.uint8(im)) #select area of interest\n",
    "\n",
    "#FO.x = x\n",
    "#FO.y = y\n",
    "#FO.crop() #crop image\n",
    "\n",
    "start_time = time.time()\n",
    "FO.compute_stats() #compute various statistical values on the frames and the pixels\n",
    "FO.normalize(0, 1)\n",
    "print(\"--- Computed frames statistics in %04f seconds ---\" % (time.time() - start_time))\n",
    "\n",
    "#FO.global_stats: each array has size N, number of frames and represents the stats of each frame\n",
    "#FO.frames_stats: each array has size FO.x, FO.y and is an image representing the N frames stats overlayed\n",
    "\n",
    "if show:\n",
    "    p.title = 'statistics'\n",
    "    p.xlabel = 'frame number'\n",
    "    p.ylabel = 'amplitude'\n",
    "    p.label_list = ['max', 'min', 'mean', 'std']\n",
    "    fig = p.plotting(np.asarray(FO.inds), [FO.global_stats['mean'], \n",
    "                        FO.global_stats['min'], \n",
    "                        FO.global_stats['mean']])\n",
    "    p.save_name = 'frames_stats'\n",
    "    p.saving(fig)\n",
    "\n",
    "''' IMAGE SEGMENTATION '''\n",
    "\n",
    "# selection of the frames with high dynamics that will be used for the image segmentation process.\n",
    "# Let M be the highest value taken by a pixel in all the frames of the video. The frame F is kept for processing only if at\n",
    "# least one pixel in the frame F has a value above 0.8*M. \n",
    "FO.selected_inds = FO.select_frames(FO.global_stats['max'], FO.global_stats['max'].max()*0.8)\n"
   ]
  },
  {
   "cell_type": "code",
   "execution_count": null,
   "metadata": {},
   "outputs": [],
   "source": [
    "\n",
    "plt.figure(figsize = (5, 3))\n",
    "FO.selected_inds = FO.select_frames(FO.global_stats['max'], FO.global_stats['max'].max()*0.9) # Select only images with high intensity to increase contrast and lower computation time\n",
    "imref = FO.frames[FO.selected_inds].sum(axis = 0)\n",
    "plt.imshow(imref, cmap = 'gray')\n"
   ]
  },
  {
   "cell_type": "code",
   "execution_count": 6,
   "metadata": {},
   "outputs": [
    {
     "name": "stdout",
     "output_type": "stream",
     "text": [
      "--- Computed binary mask in 2.749746 seconds ---\n"
     ]
    },
    {
     "data": {
      "application/vnd.jupyter.widget-view+json": {
       "model_id": "40cc9643156049c6987e4f6ae258dcd1",
       "version_major": 2,
       "version_minor": 0
      },
      "text/plain": [
       "Canvas(toolbar=Toolbar(toolitems=[('Home', 'Reset original view', 'home', 'home'), ('Back', 'Back to previous …"
      ]
     },
     "metadata": {},
     "output_type": "display_data"
    },
    {
     "data": {
      "application/vnd.jupyter.widget-view+json": {
       "model_id": "b982ce6936f24218913b8fc7cc0cf1d6",
       "version_major": 2,
       "version_minor": 0
      },
      "text/plain": [
       "Canvas(toolbar=Toolbar(toolitems=[('Home', 'Reset original view', 'home', 'home'), ('Back', 'Back to previous …"
      ]
     },
     "metadata": {},
     "output_type": "display_data"
    },
    {
     "name": "stderr",
     "output_type": "stream",
     "text": [
      "g:\\dream\\from_github\\alienlab\\alienlab\\segment.py:38: FutureWarning: indices argument is deprecated and will be removed in version 0.20. To avoid this warning, please do not use the indices argument. Please see peak_local_max documentation for more details.\n",
      "  local_maxi = skimage.feature.peak_local_max(im, indices = False, min_distance=min_distance)\n",
      "g:\\dream\\from_github\\alienlab\\alienlab\\segment.py:41: FutureWarning: indices argument is deprecated and will be removed in version 0.20. To avoid this warning, please do not use the indices argument. Please see peak_local_max documentation for more details.\n",
      "  dist_local_maxi = skimage.feature.peak_local_max(distance, indices = False, min_distance=min_distance)\n"
     ]
    },
    {
     "data": {
      "application/vnd.jupyter.widget-view+json": {
       "model_id": "70c17215e249493b9c48a21fc9eceb52",
       "version_major": 2,
       "version_minor": 0
      },
      "text/plain": [
       "Canvas(toolbar=Toolbar(toolitems=[('Home', 'Reset original view', 'home', 'home'), ('Back', 'Back to previous …"
      ]
     },
     "metadata": {},
     "output_type": "display_data"
    },
    {
     "data": {
      "application/vnd.jupyter.widget-view+json": {
       "model_id": "5cbe409dc0904d89aadbc13dda893068",
       "version_major": 2,
       "version_minor": 0
      },
      "text/plain": [
       "Canvas(toolbar=Toolbar(toolitems=[('Home', 'Reset original view', 'home', 'home'), ('Back', 'Back to previous …"
      ]
     },
     "metadata": {},
     "output_type": "display_data"
    },
    {
     "name": "stdout",
     "output_type": "stream",
     "text": [
      "--- Computed segmentation in 0.536127 seconds ---\n"
     ]
    },
    {
     "data": {
      "application/vnd.jupyter.widget-view+json": {
       "model_id": "5f8a77164ed44bfa9b1851165f2be6b9",
       "version_major": 2,
       "version_minor": 0
      },
      "text/plain": [
       "Canvas(toolbar=Toolbar(toolitems=[('Home', 'Reset original view', 'home', 'home'), ('Back', 'Back to previous …"
      ]
     },
     "metadata": {},
     "output_type": "display_data"
    },
    {
     "name": "stderr",
     "output_type": "stream",
     "text": [
      "Clipping input data to the valid range for imshow with RGB data ([0..1] for floats or [0..255] for integers).\n"
     ]
    },
    {
     "data": {
      "application/vnd.jupyter.widget-view+json": {
       "model_id": "36533ed5533f467b85d0042e43fccc88",
       "version_major": 2,
       "version_minor": 0
      },
      "text/plain": [
       "Canvas(toolbar=Toolbar(toolitems=[('Home', 'Reset original view', 'home', 'home'), ('Back', 'Back to previous …"
      ]
     },
     "metadata": {},
     "output_type": "display_data"
    },
    {
     "data": {
      "application/vnd.jupyter.widget-view+json": {
       "model_id": "c5fc6973736d45b08b3564fbbeddea6d",
       "version_major": 2,
       "version_minor": 0
      },
      "text/plain": [
       "Canvas(toolbar=Toolbar(toolitems=[('Home', 'Reset original view', 'home', 'home'), ('Back', 'Back to previous …"
      ]
     },
     "metadata": {},
     "output_type": "display_data"
    },
    {
     "name": "stderr",
     "output_type": "stream",
     "text": [
      "100%|██████████████████████████████████████████████████████████████████████████████████| 24/24 [00:02<00:00, 11.90it/s]\n"
     ]
    }
   ],
   "source": [
    "def segment_image(contrast, autolevel, dist_max, dist_seg, disk_size, max_contrast, interact = True, showit = show):\n",
    "    \n",
    "    start_time = time.time()\n",
    "    FO.selected_inds = FO.select_frames(FO.global_stats['max'], FO.global_stats['max'].max()*0.98) # Select only images with high intensity to increase contrast and lower computation time\n",
    "\n",
    "    #apply contrast filter to all frames\n",
    "    frames_contrast = FO.apply(skimage.filters.rank.enhance_contrast,  selem = skimage.morphology.disk(contrast))\n",
    "    #apply autolevel filter to all frames\n",
    "    frames_autolevel = FO.apply(skimage.filters.rank.autolevel, selem = skimage.morphology.disk(autolevel))\n",
    "    #sum the contrast images to get a reference grey-level contrast image\n",
    "    frame_contrast = np.sum(frames_contrast, axis = 0)\n",
    "    #sum the autolevel images to get a reference grey-level autolevel image\n",
    "    frame_autolevel = np.sum(frames_autolevel, axis = 0)\n",
    "    #obtain contrast mask from reference contrast image\n",
    "    mask_contrast = make_binary(frame_contrast, soft_hard = 1)\n",
    "    #otbain autolevel mask from reference autolevel image\n",
    "    mask_autolevel =  make_binary(frame_autolevel, soft_hard = 1)\n",
    "    #intersection of contrast aud autolevel masks\n",
    "    mask_intersect = mask_contrast * mask_autolevel\n",
    "    #clean the masks with a binary opening\n",
    "    mask_intersect = skimage.morphology.binary_opening(mask_intersect, selem = skimage.morphology.disk(disk_size))\n",
    "    #reference image of altitude for the watershed\n",
    "    auto_contrast = normalize(mask_intersect * frame_autolevel)\n",
    "    print(\"--- Computed binary mask in %04f seconds ---\" % (time.time() - start_time))\n",
    "\n",
    "    g.cmap = \"inferno\"\n",
    "    if showit:\n",
    "        g.figsize = (40,15)\n",
    "        g.title_list =  'contrast', 'contrast threshold', 'mask intersect','autolevel', 'autolevel threshold','segmentation image'\n",
    "        g.col_num = 3\n",
    "        fig = g.multi([frame_contrast, mask_contrast, mask_intersect, \n",
    "                       frame_autolevel, mask_autolevel,  auto_contrast])\n",
    "        g.save_name = 'Segmentation reference'\n",
    "        g.saving(fig)\n",
    "\n",
    "    start_time = time.time()\n",
    "    ref = auto_contrast\n",
    "    mask = mask_intersect\n",
    "    #locate the local maxima\n",
    "    local_maxi = alienlab.segment.local_maxima(auto_contrast, max_contrast, g,\n",
    "                                                     ref_distance = dist_max, mask = mask, show = showit)\n",
    "    #perform watershed segmentation\n",
    "    watershed_im_mask = alienlab.segment.watershed(ref, mask, local_maxi,\n",
    "                                                         g, ref_distance = dist_seg, show = False)\n",
    "    segmented = watershed_im_mask\n",
    "    print(\"--- Computed segmentation in %04f seconds ---\" % (time.time() - start_time))\n",
    "\n",
    "    if showit:\n",
    "        alienlab.segment.show_segmentation(FO, segmented, g)\n",
    "        \n",
    "    if interact == False:\n",
    "        return watershed_im_mask, FO\n",
    "    \n",
    "mask, FO = segment_image(contrast = 2, autolevel = 6, dist_max = False, dist_seg=False, disk_size = 2, max_contrast = 2, interact = False, showit= True)\n",
    "\n",
    "g.cmap = \"tab20\"\n",
    "g.figsize = (10,5)\n",
    "fig = g.multi(mask)\n",
    "\n",
    "L, H  = np.shape(mask)\n",
    "\n",
    "items_dict = label_to_data(mask, FO)"
   ]
  },
  {
   "cell_type": "code",
   "execution_count": 7,
   "metadata": {},
   "outputs": [
    {
     "data": {
      "application/vnd.jupyter.widget-view+json": {
       "model_id": "e8e639f6693142a288e093c259274a40",
       "version_major": 2,
       "version_minor": 0
      },
      "text/plain": [
       "Canvas(toolbar=Toolbar(toolitems=[('Home', 'Reset original view', 'home', 'home'), ('Back', 'Back to previous …"
      ]
     },
     "metadata": {},
     "output_type": "display_data"
    },
    {
     "data": {
      "application/vnd.jupyter.widget-view+json": {
       "model_id": "e37a40c4b8d94abdb61e7791549762d7",
       "version_major": 2,
       "version_minor": 0
      },
      "text/plain": [
       "Canvas(toolbar=Toolbar(toolitems=[('Home', 'Reset original view', 'home', 'home'), ('Back', 'Back to previous …"
      ]
     },
     "metadata": {},
     "output_type": "display_data"
    }
   ],
   "source": [
    "data_sequence = {}\n",
    "video_sequence = {}\n",
    "fig, axs = plt.subplots(1, 2, figsize=(15, 4))\n",
    "\n",
    "file_path = glob.glob(file_folder + \"/*_qE_decay.csv\")[0] # pops up a window to select your file\n",
    "data_sequence = pd.read_csv(file_path)\n",
    "\n",
    "time_array = np.array(data_sequence[\"time (s) amplitude\"])\n",
    "fluo_high  = np.array(data_sequence[\"voltage (V) qE_decay\"])\n",
    "amplitude_high = np.array(data_sequence[\"voltage (V) amplitude\"])\n",
    "\n",
    "axs[0].plot(time_array, fluo_high)\n",
    "axs[0].set_title(\"MPPC high, voltage\")\n",
    "\n",
    "start = 1000\n",
    "axs[1].plot(mvgavg(time_array, 100)[start:], (mvgavg(fluo_high/amplitude_high, 100))[start:])\n",
    "axs[1].set_title(\"MPPC high, voltage\")\n",
    "\n",
    "\n",
    "file_path = file_folder + \"/video_high.tiff\"\n",
    "video = tiff.imread(file_path)\n",
    "video_sequence[0]=video\n",
    "v_high = np.mean(video, axis = (1,2))\n",
    "file_path = file_folder + \"/video_timing_high.npy\"\n",
    "v_time_high = np.load(file_path)\n",
    "t0 = v_time_high[0]\n",
    "v_time_high = v_time_high -t0\n",
    "v_time_high = v_time_high%(3600*24)\n",
    "\n",
    "v_npq_high = (v_high.max()-v_high)/v_high\n",
    "\n",
    "file_path = file_folder + \"/video_high.tiff\"\n",
    "video_file_high = tiff.imread(file_path)\n",
    "\n",
    "zone = []\n",
    "time_zone = []\n",
    "video_zone = []\n",
    "\n",
    "\n",
    "pulse_pos = np.abs(amplitude_high-np.roll(amplitude_high, 1)) \n",
    "pulse_pos = pulse_pos> 0.5 *np.max(pulse_pos)\n",
    "indices = np.linspace(0, len(pulse_pos)-1, len(pulse_pos)).astype(int)\n",
    "indices = indices[pulse_pos]\n",
    "ratio = len(amplitude_high)/len(v_time_high)\n",
    "indices = [0] + list(indices/ratio) + [-1]\n",
    "indices_clean = []\n",
    "j = 0\n",
    "indices_clean.append(indices[0])\n",
    "for i in range(len(indices)-1):\n",
    "    ind = int(indices[i])\n",
    "    if np.abs(indices_clean[j]-ind) > 30*0.8:\n",
    "        j+=1\n",
    "        indices_clean.append(ind)\n",
    "        \n",
    "#indices_clean.append(-1)\n",
    "\n",
    "        \n",
    "for i in range(len(indices_clean)-1):\n",
    "        zone.append(v_high[indices_clean[i]+1:indices_clean[i+1]-4])\n",
    "        time_zone.append(v_time_high[indices_clean[i]+1:indices_clean[i+1]-4] - v_time_high[indices_clean[i]+1])\n",
    "        video_zone.append(video_file_high[indices_clean[i]+1:indices_clean[i+1]-4])\n",
    "\n",
    "        \n",
    "fig, axs = plt.subplots(1, 2, figsize=(15, 4))\n",
    "\n",
    "for k in range(len(indices_clean)-1):\n",
    "        axs[k%2].plot(zone[k])\n",
    "        axs[k%2].set_title(\"zone %d\"%j)\n"
   ]
  },
  {
   "cell_type": "code",
   "execution_count": 8,
   "metadata": {},
   "outputs": [
    {
     "data": {
      "application/vnd.jupyter.widget-view+json": {
       "model_id": "918f20ef4b2146b89fc2e34f012113ae",
       "version_major": 2,
       "version_minor": 0
      },
      "text/plain": [
       "Canvas(toolbar=Toolbar(toolitems=[('Home', 'Reset original view', 'home', 'home'), ('Back', 'Back to previous …"
      ]
     },
     "metadata": {},
     "output_type": "display_data"
    },
    {
     "data": {
      "text/plain": [
       "[<matplotlib.lines.Line2D at 0x1bb984a90d0>]"
      ]
     },
     "execution_count": 8,
     "metadata": {},
     "output_type": "execute_result"
    }
   ],
   "source": [
    "plt.figure()\n",
    "plt.plot(time_array, amplitude_high/amplitude_high.max())\n",
    "plt.plot(v_time_high, v_high/v_high.max())"
   ]
  },
  {
   "cell_type": "code",
   "execution_count": 9,
   "metadata": {},
   "outputs": [
    {
     "data": {
      "application/vnd.jupyter.widget-view+json": {
       "model_id": "66af35fb21aa466fb070351aebf1d2a2",
       "version_major": 2,
       "version_minor": 0
      },
      "text/plain": [
       "Canvas(toolbar=Toolbar(toolitems=[('Home', 'Reset original view', 'home', 'home'), ('Back', 'Back to previous …"
      ]
     },
     "metadata": {},
     "output_type": "display_data"
    },
    {
     "data": {
      "text/plain": [
       "(<Figure size 1500x700 with 1 Axes>,\n",
       "     frame number 0  amplitude 0  frame number 1  amplitude 1  frame number 2  \\\n",
       " 0         0.000000     0.047954        0.000000     0.039672        0.000000   \n",
       " 1         0.999316     0.048391        0.999012     0.055321        0.998265   \n",
       " 2         1.997971     0.048418        1.997197     0.055382        1.997578   \n",
       " 3         2.996922     0.049543        2.995893     0.055515        2.995822   \n",
       " 4         3.995700     0.048647        3.994603     0.055911        3.994799   \n",
       " 5         4.993990     0.048056        4.993604     0.054896        4.993415   \n",
       " 6         5.993351     0.048487        5.992605     0.055496        5.993108   \n",
       " 7         6.991979     0.048965        6.990603     0.056065        6.991780   \n",
       " 8         7.991343     0.048732        7.989605     0.055201        7.990280   \n",
       " 9         8.990152     0.048820        8.989606     0.055510        8.989628   \n",
       " 10        9.989050     0.048185        9.987604     0.055953        9.987838   \n",
       " 11       10.988116     0.049400       10.986722     0.055342       10.987110   \n",
       " 12       11.985950     0.049040       11.984829     0.056190       11.985398   \n",
       " 13       12.985215     0.049490       12.984332     0.055270       12.984630   \n",
       " 14       13.984125     0.049521       13.983720     0.056655       13.982972   \n",
       " 15       14.983112     0.049521       14.981764     0.055705       14.982241   \n",
       " 16       15.982117     0.049381       15.980311     0.056169       15.981521   \n",
       " 17       16.980980     0.049133       16.979270     0.055873       16.980021   \n",
       " 18       17.979830     0.048815       17.978553     0.056184       17.978787   \n",
       " 19       18.978128     0.049349       18.977314     0.055472       18.978647   \n",
       " 20       19.977219     0.050650       19.976348     0.055806       19.977040   \n",
       " 21       20.975521     0.049238       20.974860     0.055597       20.975931   \n",
       " 22       21.974792     0.049865       21.973660     0.056941       21.975276   \n",
       " 23       22.974077     0.049728       22.972985     0.056285       22.973848   \n",
       " 24       23.972943     0.049430       23.971255     0.055111       23.971945   \n",
       " 25       24.971200     0.050277       24.970560     0.056489       24.970641   \n",
       " 26       25.969929     0.049301       25.968832     0.055654       25.969544   \n",
       " 27       26.968978     0.049605       26.968114     0.055631       26.968667   \n",
       " 28       27.968033     0.050100       27.966389     0.056466       27.967966   \n",
       " 29       28.966836     0.050387       28.965668     0.057124       28.966248   \n",
       " 30       29.965613     0.050232       29.963959     0.056210       29.965554   \n",
       " 31       30.964399     0.049896       30.963648     0.055732       30.963834   \n",
       " 32       31.963777     0.049966       31.962778     0.056263       31.963139   \n",
       " 33       32.961965     0.050428       32.961361     0.056607       32.961379   \n",
       " 34       33.960616     0.051320       33.960399     0.056247       33.960689   \n",
       " 35       34.959557     0.051034       34.959425     0.056623       34.959574   \n",
       " 36       35.959226     0.050406       35.957706     0.056811       35.958321   \n",
       " 37       36.957827     0.050747       36.957305     0.057212       36.957539   \n",
       " 38       37.956656     0.050355       37.954672     0.056439       37.955798   \n",
       " 39       38.955717     0.051808       38.953573     0.057325       38.954463   \n",
       " 40       39.953998     0.051444       39.953310     0.056368       39.954387   \n",
       " 41       40.953309     0.050905       40.952197     0.056669       40.952280   \n",
       " 42       41.952113     0.050943       41.950463     0.056291       41.951571   \n",
       " 43       42.950842     0.051155       42.949792     0.056353       42.950424   \n",
       " 44       43.950135     0.050647       43.948189     0.056783       43.949002   \n",
       " 45       44.948551     0.051062       44.947237     0.056862       44.947764   \n",
       " 46       45.947135     0.051220       45.946545     0.056329       45.947027   \n",
       " 47       46.946007     0.051529       46.945940     0.058089       46.945789   \n",
       " 48       47.945297     0.051525       47.944177     0.057476       47.945570   \n",
       " 49       48.944561     0.051585       48.942307     0.056444       48.943391   \n",
       " 50       49.942850     0.052188       49.941865     0.056388       49.942152   \n",
       " 51       50.942131     0.052720       50.940132     0.057122       50.941425   \n",
       " 52       51.940854     0.051272       51.939305     0.057109       51.940119   \n",
       " 53       52.939008     0.051802       52.938602     0.057350       52.938926   \n",
       " 54       53.938537     0.051683       53.937009     0.056934       53.937082   \n",
       " 55       54.937275     0.051179       54.936186     0.057268       54.936630   \n",
       " 56       55.935964     0.051340       55.934921     0.057951       55.936066   \n",
       " 57       56.934839     0.051796       56.933762     0.057172       56.934182   \n",
       " 58       57.934117     0.052691       57.933055     0.057982       57.932432   \n",
       " 59        0.000000     0.000000       58.931347     0.057394        0.000000   \n",
       " \n",
       "     amplitude 2  \n",
       " 0      0.058575  \n",
       " 1      0.058126  \n",
       " 2      0.057511  \n",
       " 3      0.058640  \n",
       " 4      0.057347  \n",
       " 5      0.058302  \n",
       " 6      0.057724  \n",
       " 7      0.057827  \n",
       " 8      0.058342  \n",
       " 9      0.057250  \n",
       " 10     0.056815  \n",
       " 11     0.058115  \n",
       " 12     0.057564  \n",
       " 13     0.057878  \n",
       " 14     0.057195  \n",
       " 15     0.056925  \n",
       " 16     0.057401  \n",
       " 17     0.056969  \n",
       " 18     0.057217  \n",
       " 19     0.056986  \n",
       " 20     0.057561  \n",
       " 21     0.057527  \n",
       " 22     0.058057  \n",
       " 23     0.057189  \n",
       " 24     0.058257  \n",
       " 25     0.057323  \n",
       " 26     0.058033  \n",
       " 27     0.057330  \n",
       " 28     0.057518  \n",
       " 29     0.058082  \n",
       " 30     0.057692  \n",
       " 31     0.058310  \n",
       " 32     0.058439  \n",
       " 33     0.057773  \n",
       " 34     0.059294  \n",
       " 35     0.058531  \n",
       " 36     0.057681  \n",
       " 37     0.058286  \n",
       " 38     0.058592  \n",
       " 39     0.057406  \n",
       " 40     0.057550  \n",
       " 41     0.058070  \n",
       " 42     0.058183  \n",
       " 43     0.058585  \n",
       " 44     0.057884  \n",
       " 45     0.058324  \n",
       " 46     0.059222  \n",
       " 47     0.058550  \n",
       " 48     0.057834  \n",
       " 49     0.058502  \n",
       " 50     0.059110  \n",
       " 51     0.058310  \n",
       " 52     0.059097  \n",
       " 53     0.059360  \n",
       " 54     0.058296  \n",
       " 55     0.059171  \n",
       " 56     0.058550  \n",
       " 57     0.059148  \n",
       " 58     0.057929  \n",
       " 59     0.000000  ,\n",
       " <AxesSubplot:title={'center':'statistics'}, xlabel='frame number', ylabel='amplitude'>)"
      ]
     },
     "execution_count": 9,
     "metadata": {},
     "output_type": "execute_result"
    }
   ],
   "source": [
    "p.yval = zone[1::2]\n",
    "p.xval = time_zone[1::2]\n",
    "p.label_list = [\"0\", \"1\", \"2\"]\n",
    "p.plotting(p.xval, p.yval)\n"
   ]
  },
  {
   "cell_type": "code",
   "execution_count": 10,
   "metadata": {},
   "outputs": [
    {
     "data": {
      "text/plain": [
       "[0, 61, 125, 187, 252, 314, 378]"
      ]
     },
     "execution_count": 10,
     "metadata": {},
     "output_type": "execute_result"
    }
   ],
   "source": [
    "pulse_pos = np.abs(amplitude_high-np.roll(amplitude_high, 1)) \n",
    "pulse_pos = pulse_pos> 0.3 *np.max(pulse_pos)\n",
    "indices = np.linspace(0, len(pulse_pos)-1, len(pulse_pos)).astype(int)\n",
    "indices = indices[pulse_pos]\n",
    "indices = [0] + list(indices//20) + [-1]\n",
    "indices_clean = []\n",
    "j = 0\n",
    "indices_clean.append(indices[0])\n",
    "for i in range(len(indices)-1):\n",
    "    ind = indices[i]\n",
    "    if np.abs(indices_clean[j]-ind) > 30:\n",
    "        j+=1\n",
    "        indices_clean.append(ind)\n",
    "\n",
    "indices_clean       "
   ]
  },
  {
   "cell_type": "code",
   "execution_count": 11,
   "metadata": {},
   "outputs": [
    {
     "data": {
      "application/vnd.jupyter.widget-view+json": {
       "model_id": "a0e1008c04c44816a2f57cabeabd0399",
       "version_major": 2,
       "version_minor": 0
      },
      "text/plain": [
       "Canvas(toolbar=Toolbar(toolitems=[('Home', 'Reset original view', 'home', 'home'), ('Back', 'Back to previous …"
      ]
     },
     "metadata": {},
     "output_type": "display_data"
    },
    {
     "data": {
      "application/vnd.jupyter.widget-view+json": {
       "model_id": "4e383451aa88431fafb2823e39f814fb",
       "version_major": 2,
       "version_minor": 0
      },
      "text/plain": [
       "Canvas(toolbar=Toolbar(toolitems=[('Home', 'Reset original view', 'home', 'home'), ('Back', 'Back to previous …"
      ]
     },
     "metadata": {},
     "output_type": "display_data"
    },
    {
     "data": {
      "text/plain": [
       "Text(0, 0.5, 'fluorescence intensity')"
      ]
     },
     "execution_count": 11,
     "metadata": {},
     "output_type": "execute_result"
    }
   ],
   "source": [
    "fig, axs = plt.subplots(1, 3, figsize=(12, 4))\n",
    "#x0, x1, y0, y1 = 100, 500, 300, 700\n",
    "#x0, x1, y0, y1 = 10, 800, 30, 1000\n",
    "axs[0].imshow(np.mean(video_sequence[0], axis = 0), cmap = \"gray\")#[2, x0:x1, y0:y1], vmin = 0, vmax = 30)\n",
    "\n",
    "plt.figure(figsize = (10, 5))\n",
    "plt.plot(v_time_high, np.mean(video_sequence[0][:, 100:500, 300:700], axis = (1,2)))\n",
    "plt.xlabel(\"time (s)\")\n",
    "plt.ylabel(\"fluorescence intensity\")"
   ]
  },
  {
   "cell_type": "code",
   "execution_count": 12,
   "metadata": {},
   "outputs": [
    {
     "name": "stderr",
     "output_type": "stream",
     "text": [
      "100%|██████████████████████████████████████████████████████████████████████████████████| 24/24 [00:00<00:00, 58.40it/s]\n"
     ]
    }
   ],
   "source": [
    "\n",
    "video_high = []\n",
    "\n",
    "file_path = file_folder + \"/video_high.tiff\"\n",
    "video_file_high = tiff.imread(file_path)\n",
    "\n",
    "\n",
    "algae_list = list(items_dict.keys())\n",
    "for P in [5]:#[len(algae_list)]:#[8, 10, 12, 15, 18, 20, 25, 30, 35, 40, 60, 90, 120, 180, 200, 250, 300, 400, 500, 600, 700]:\n",
    "\n",
    "    #for algae in random.sample(algae_list, P):\n",
    "    for algae in tqdm(algae_list):\n",
    "        #if int(algae):# in ['1', '80', '400', '250']:\n",
    "            i = 0\n",
    "\n",
    "\n",
    "            x_coords =  items_dict[algae]['x_coords']\n",
    "            y_coords =  items_dict[algae]['y_coords']\n",
    "            \n",
    "            trace = np.mean(video_file_high[:, x_coords, y_coords], axis = (1))\n",
    "            video_high.append(np.array(trace))\n",
    "\n",
    "video_high = np.array(video_high)\n"
   ]
  },
  {
   "cell_type": "code",
   "execution_count": 13,
   "metadata": {},
   "outputs": [
    {
     "data": {
      "application/vnd.jupyter.widget-view+json": {
       "model_id": "314fea066af9420ab68f73572bc0f477",
       "version_major": 2,
       "version_minor": 0
      },
      "text/plain": [
       "Canvas(toolbar=Toolbar(toolitems=[('Home', 'Reset original view', 'home', 'home'), ('Back', 'Back to previous …"
      ]
     },
     "metadata": {},
     "output_type": "display_data"
    },
    {
     "data": {
      "application/vnd.jupyter.widget-view+json": {
       "model_id": "5df9609c9c1f4bc796dd053a11e8ad5d",
       "version_major": 2,
       "version_minor": 0
      },
      "text/plain": [
       "Canvas(toolbar=Toolbar(toolitems=[('Home', 'Reset original view', 'home', 'home'), ('Back', 'Back to previous …"
      ]
     },
     "metadata": {},
     "output_type": "display_data"
    },
    {
     "data": {
      "application/vnd.jupyter.widget-view+json": {
       "model_id": "99d151aaf98a48729e0f15bf915d90df",
       "version_major": 2,
       "version_minor": 0
      },
      "text/plain": [
       "Canvas(toolbar=Toolbar(toolitems=[('Home', 'Reset original view', 'home', 'home'), ('Back', 'Back to previous …"
      ]
     },
     "metadata": {},
     "output_type": "display_data"
    }
   ],
   "source": [
    "def get_fit(decay, time, give_y = False):    \n",
    "\n",
    "    time_spread = time.max()-time.min()\n",
    "    x0 = [1.1, time_spread/10, 0.1]\n",
    "\n",
    "    parameters_estimated = optimize.least_squares(residuals,  x0, bounds = (-1e8,1e8),\n",
    "                                args = (time, decay, exp_decay))\n",
    "    \n",
    "    if give_y:\n",
    "        return np.array(parameters_estimated.x), exp_decay(parameters_estimated.x, time)\n",
    "    else:\n",
    "        return np.array(parameters_estimated.x)\n",
    "\n",
    "def make_fit(decay, time_array):\n",
    "    plt.figure()\n",
    "    params, ypred = get_fit(decay, time_array, give_y = True)\n",
    "    plt.plot(time_array, ypred, label = params[1])\n",
    "    plt.plot(time_array, decay, '.')\n",
    "    plt.xlabel(\"time(s)\")\n",
    "    plt.ylabel(\"fluorescence\")\n",
    "    plt.legend()\n",
    "    \n",
    "\n",
    "flat_mask = mask.flatten()\n",
    "\n",
    "z = 1\n",
    "S = video_zone[z].shape[0]\n",
    "\n",
    "for i in [3, 5, 8]:\n",
    "    decay = np.mean(video_zone[z].reshape(S, -1)[:,flat_mask==i], axis = 1)\n",
    "    make_fit(decay, time_zone[z] )\n",
    "\n"
   ]
  },
  {
   "cell_type": "code",
   "execution_count": 14,
   "metadata": {},
   "outputs": [],
   "source": [
    "params_high = Parallel(n_jobs = -1 )(delayed(get_fit)(np.mean(video_zone[z].reshape(S, -1)[:,flat_mask==i], axis = 1), time_zone[z]) for i in range(len(algae_list)))\n"
   ]
  },
  {
   "cell_type": "code",
   "execution_count": 15,
   "metadata": {},
   "outputs": [],
   "source": [
    "im_tau_high = np.zeros(mask.shape)\n",
    "for i in range(len(params_high)):\n",
    "    im_tau_high[mask==i]=params_high[i][1]\n",
    "    \n"
   ]
  },
  {
   "cell_type": "code",
   "execution_count": 16,
   "metadata": {},
   "outputs": [
    {
     "data": {
      "application/vnd.jupyter.widget-view+json": {
       "model_id": "4dff6a57d0bd44b1b970768eeba0bdd3",
       "version_major": 2,
       "version_minor": 0
      },
      "text/plain": [
       "Canvas(toolbar=Toolbar(toolitems=[('Home', 'Reset original view', 'home', 'home'), ('Back', 'Back to previous …"
      ]
     },
     "metadata": {},
     "output_type": "display_data"
    }
   ],
   "source": [
    "\n",
    "params_high = np.array(params_high)\n",
    "tau_high = params_high[:,1]\n",
    "\n",
    "fig, axs = plt.subplots(1, 2, figsize = (18, 4))\n",
    "axs[0].imshow(im_tau_high)\n",
    "axs[1].hist(clip(tau_high, high = 95, low = 1))\n",
    "\n",
    "np.save(file_folder + \"/im_ref.npy\", imref)\n",
    "np.save(file_folder + \"/im_tau_high.npy\", im_tau_high)\n"
   ]
  },
  {
   "cell_type": "code",
   "execution_count": 17,
   "metadata": {},
   "outputs": [
    {
     "name": "stderr",
     "output_type": "stream",
     "text": [
      "g:\\dream\\from_github\\alienlab\\alienlab\\widget.py:14: RuntimeWarning: More than 20 figures have been opened. Figures created through the pyplot interface (`matplotlib.pyplot.figure`) are retained until explicitly closed and may consume too much memory. (To control this warning, see the rcParam `figure.max_open_warning`).\n",
      "  fig, axs = plt.subplots(col, L//col + 1 , figsize=(5*(L//col), 10))\n"
     ]
    },
    {
     "data": {
      "application/vnd.jupyter.widget-view+json": {
       "model_id": "a6993300057d403ea04fc8b139477d7f",
       "version_major": 2,
       "version_minor": 0
      },
      "text/plain": [
       "Canvas(toolbar=Toolbar(toolitems=[('Home', 'Reset original view', 'home', 'home'), ('Back', 'Back to previous …"
      ]
     },
     "metadata": {},
     "output_type": "display_data"
    },
    {
     "data": {
      "application/vnd.jupyter.widget-view+json": {
       "model_id": "9e0dd554c64d4bb3bff94842bd279ce7",
       "version_major": 2,
       "version_minor": 0
      },
      "text/plain": [
       "Textarea(value='', description='event:', placeholder='')"
      ]
     },
     "metadata": {},
     "output_type": "display_data"
    }
   ],
   "source": [
    "import importlib\n",
    "\n",
    "importlib.reload(alienlab.widget)\n",
    "from alienlab.widget import click_to_graph\n",
    "\n",
    "file_path = file_folder + \"/video_high.tiff\"\n",
    "video_file_high = tiff.imread(file_path)\n",
    "\n",
    "start = 8\n",
    "video_list =  video_zone\n",
    "time_list =  time_zone\n",
    "click_to_graph(mask, np.log(im_tau_high),video_list,time_list, get_fit, clipit=False)"
   ]
  },
  {
   "cell_type": "markdown",
   "metadata": {},
   "source": [
    "# Compare"
   ]
  },
  {
   "cell_type": "code",
   "execution_count": null,
   "metadata": {},
   "outputs": [],
   "source": [
    "mdirectory = askdirectory()\n"
   ]
  },
  {
   "cell_type": "code",
   "execution_count": null,
   "metadata": {},
   "outputs": [],
   "source": [
    "list_directory = glob.glob(mdirectory + \"/*\")\n",
    "plt.figure()\n",
    "list_val =  [10, 30, 50, 100, 150, 200, 250, 300, 350, 400,10, 30, 50, 100, 150, 200, 250, 300, 350, 400, 450]\n",
    "for i in range(len(list_directory)):\n",
    "    file_folder = list_directory[i]\n",
    "    file_path = glob.glob(file_folder + \"/*_qE_decay.csv\")[0] # pops up a window to select your file\n",
    "    data = pd.read_csv(file_path)\n",
    "    time_array = np.array(data[\"time (s) q\"])\n",
    "    time_high = time_array[:-10]\n",
    "    fluo_high  = np.array(data[\"voltage (V) q\"])\n",
    "    fluo_high = fluo_high[:-10]\n",
    "    npq_high =  (fluo_high.max()-fluo_high)/fluo_high\n",
    "    plt.plot(time_high, npq_high, label = list_val[i])\n",
    "    file_path = glob.glob(file_folder + \"/*SP_before_after.csv\")[0] # pops up a window to select your file\n",
    "    data = np.genfromtxt(file_path)\n",
    "    fm = data[0][0]- data[0][1]\n",
    "    fmp = data[1][0]-data[1][1]\n",
    "    #plt.plot(list_val[i], (fm-fmp)/fmp, 'o')\n",
    "plt.legend()\n",
    "plt.show()"
   ]
  },
  {
   "cell_type": "code",
   "execution_count": null,
   "metadata": {},
   "outputs": [],
   "source": [
    "data[0]"
   ]
  },
  {
   "cell_type": "code",
   "execution_count": null,
   "metadata": {},
   "outputs": [],
   "source": [
    "list_directory = glob.glob(mdirectory + \"/*\")\n",
    "\n",
    "fig, axs = plt.subplots(2, 2, figsize=(12, 12))\n",
    "\n",
    "minute = 60\n",
    "lengths_pulse = [300, 150, 50]\n",
    "periods_pulse = [0.1*minute, 0.5*minute, 1*minute]\n",
    "move_plate = True\n",
    "\n",
    "n = 3\n",
    "means  = {}\n",
    "stds = {}\n",
    "means['high'] = np.zeros((n,n))\n",
    "stds['high'] =  np.zeros((n,n))\n",
    "means['pulses'] =  np.zeros((n,n))\n",
    "stds['pulses'] =  np.zeros((n,n))\n",
    "\n",
    "i = 0\n",
    "for k, length in enumerate(lengths_pulse): \n",
    "    for l, period in enumerate(periods_pulse):\n",
    "        file_folder = list_directory[i]\n",
    "        file_path = glob.glob(file_folder + \"/*_ojip_curve.csv\")[0] # pops up a window to select your file\n",
    "        data = pd.read_csv(file_path)\n",
    "        time_array = np.array(data[\"time (s) o\"])\n",
    "        time_high = time_array[:-10]\n",
    "        fluo_high  = np.array(data[\"voltage (V) o\"])\n",
    "        fluo_high = fluo_high[:-10]\n",
    "        npq_high =  (fluo_high.max()-fluo_high)/fluo_high\n",
    "\n",
    "        file_path = glob.glob(file_folder + \"/measure_pulse.csv\")[0] # pops up a window to select your file\n",
    "        data= pd.read_csv(file_path)\n",
    "        fluo_pulses  = np.array(data)\n",
    "        file_path = glob.glob(file_folder + \"/time_pulse.csv\")[0] # pops up a window to select your file\n",
    "        data = pd.read_csv(file_path)\n",
    "        time_pulses  = np.array(data)\n",
    "        npq_pulses = (fluo_pulses.max()-fluo_pulses)/fluo_pulses\n",
    "\n",
    "        axs[0][0].plot(time_high, fluo_high)\n",
    "        axs[0][0].set_title(\"MPPC high, voltage\")\n",
    "\n",
    "        axs[0][1].plot(time_pulses, fluo_pulses, '.')\n",
    "        axs[0][1].set_title(\"MPPC pulses, voltage\")\n",
    "\n",
    "\n",
    "        im_tau_high = np.load(file_folder + \"/im_tau_high.npy\")\n",
    "        im_tau_pulses = np.load(file_folder + \"/im_tau_pulses.npy\")\n",
    "        axs[1][0].hist(clip(im_tau_high.flatten(), high = 99, low = 1), range = (0, 30), bins = 25, label = \"L: %d ms, dt: %d s\"%(length, period))\n",
    "        axs[1][1].hist(clip(im_tau_pulses.flatten(), high = 99, low = 1), range = (0,180), bins = 25, label =  \"L: %d ms, dt: %d s\"%(length, period))\n",
    "        \n",
    "        high = 97\n",
    "        low = 3\n",
    "        means['high'][k][l] = np.mean(clip(im_tau_high, high = high, low = low))\n",
    "        stds['high'][k][l] = np.std(clip(im_tau_high, high = high, low = low))\n",
    "        means['pulses'][k][l] = np.mean(clip(im_tau_pulses, high = high, low = low))\n",
    "        stds['pulses'][k][l] = np.std(clip(im_tau_pulses, high = high, low = low))\n",
    "        \n",
    "        plt.legend()\n",
    "        i += 1"
   ]
  },
  {
   "cell_type": "code",
   "execution_count": null,
   "metadata": {},
   "outputs": [],
   "source": [
    "fig, axs = plt.subplots(2, 2, figsize=(5, 5))\n",
    "\n",
    "axs[0][0].imshow(means[\"pulses\"])\n",
    "axs[0][0].set_title(\"mean pulses\")\n",
    "\n",
    "axs[1][0].imshow(means[\"high\"])\n",
    "axs[1][0].set_title(\"mean high\")\n",
    "\n",
    "axs[0][1].imshow(stds[\"pulses\"])\n",
    "axs[0][1].set_title(\"std pulses\")\n",
    "\n",
    "axs[1][1].imshow(stds[\"high\"])\n",
    "axs[1][1].set_title(\"std high\")"
   ]
  },
  {
   "cell_type": "code",
   "execution_count": null,
   "metadata": {},
   "outputs": [],
   "source": [
    "list_directory = glob.glob(mdirectory + \"/*\")\n",
    "\n",
    "\n",
    "minute = 60\n",
    "lengths_pulse = [300, 150, 50]\n",
    "periods_pulse = [0.1*minute, 0.5*minute, 1*minute]\n",
    "\n",
    "D = len(list_directory)//3\n",
    "\n",
    "fig, axs = plt.subplots(D, 3, figsize=(10, 2*D))\n",
    "\n",
    "i = 0\n",
    "for k, length in enumerate(lengths_pulse): \n",
    "    for l, period in enumerate(periods_pulse):\n",
    "        file_folder = list_directory[i]\n",
    "\n",
    "\n",
    "        im_tau_high = np.load(file_folder + \"/im_tau_high.npy\")\n",
    "        axs[i%D][i//D].imshow(im_tau_high, vmin =0 , vmax = 20)\n",
    "        axs[i%D][i//D].axis(\"off\")\n",
    "        i += 1\n",
    "        \n",
    "    \n",
    "D = len(list_directory)//3\n",
    "\n",
    "fig, axs = plt.subplots(D, 3, figsize=(10, 2*D))\n",
    "\n",
    "i = 0\n",
    "for k, length in enumerate(lengths_pulse): \n",
    "    for l, period in enumerate(periods_pulse):\n",
    "        file_folder = list_directory[i]\n",
    "\n",
    "\n",
    "        im_tau_pulses = np.load(file_folder + \"/im_tau_pulses.npy\")\n",
    "        axs[i%D][i//D].imshow(im_tau_pulses, vmin =0 , vmax = 130)\n",
    "        axs[i%D][i//D].axis(\"off\")\n",
    "        i += 1"
   ]
  },
  {
   "cell_type": "code",
   "execution_count": null,
   "metadata": {},
   "outputs": [],
   "source": [
    "i//2\n",
    "\n"
   ]
  },
  {
   "cell_type": "code",
   "execution_count": null,
   "metadata": {},
   "outputs": [],
   "source": []
  }
 ],
 "metadata": {
  "kernelspec": {
   "display_name": "Python 3",
   "language": "python",
   "name": "python3"
  },
  "language_info": {
   "codemirror_mode": {
    "name": "ipython",
    "version": 3
   },
   "file_extension": ".py",
   "mimetype": "text/x-python",
   "name": "python",
   "nbconvert_exporter": "python",
   "pygments_lexer": "ipython3",
   "version": "3.8.10"
  }
 },
 "nbformat": 4,
 "nbformat_minor": 4
}
