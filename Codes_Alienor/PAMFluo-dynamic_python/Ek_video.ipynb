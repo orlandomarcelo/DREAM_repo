{
 "cells": [
  {
   "cell_type": "code",
   "execution_count": 1,
   "metadata": {},
   "outputs": [],
   "source": [
    "#image analysis\n",
    "import skimage.io\n",
    "import imageio\n",
    "import alienlab.plot\n",
    "from alienlab.improcessing import normalize, grey_to_rgb, make_binary\n",
    "import alienlab.segment\n",
    "from alienlab.fo import FramesOperator\n",
    "import alienlab.io\n",
    "from scipy import optimize\n",
    "import glob\n",
    "from alienlab.regression_func import *\n",
    "import copy\n",
    "from VoltageIntensityClass import VoltageIntensity\n",
    "from tqdm import tqdm\n",
    "\n",
    "from skimage.transform import resize\n",
    "\n",
    "\n",
    "#interactive widget packages\n",
    "from ipywidgets import interact, interactive, fixed, interact_manual\n",
    "from tkinter.filedialog import askopenfilename, askdirectory\n",
    "\n",
    "from VoltageIntensityClass import VoltageIntensity\n",
    "\n",
    "import time\n",
    "import os\n",
    "import numpy as np\n",
    "import matplotlib.pyplot as plt\n",
    "import random\n",
    "\n",
    "%matplotlib ipympl\n",
    "from alienlab.widget import click_to_graph\n",
    "\n",
    "\n",
    "\n",
    "def residuals(parameters,x_data,y_observed,func):\n",
    "    '''\n",
    "    Compute residuals of y_predicted - y_observed\n",
    "    where:\n",
    "    y_predicted = func(parameters,x_data)\n",
    "    '''\n",
    "    return func(parameters,x_data) - y_observed\n",
    "\n",
    "def platt(parameters, xdata):\n",
    "    M = parameters[0]\n",
    "    alpha = parameters[1]\n",
    "    return M*(1- np.exp(-alpha*xdata/M))\n",
    "\n",
    "def modele_direct(parameters, x_data):\n",
    "    a = parameters[0]\n",
    "    b = parameters[1]\n",
    "    c = parameters[2]\n",
    "    d = parameters[3]\n",
    "    e = parameters[4]\n",
    "    return (a*x_data +b*np.sqrt(c*I**2+d*I+1)+e)/I\n",
    "\n",
    "def modele_inverse(parameters, x_data):\n",
    "    a = parameters[0]\n",
    "    b = parameters[1]\n",
    "    c = parameters[2]\n",
    "    d = parameters[3]\n",
    "    e = parameters[4]\n",
    "    f = parameters[5]\n",
    "    return a*I + b*np.sqrt(c*I**2+d*I+1) + e"
   ]
  },
  {
   "cell_type": "code",
   "execution_count": 2,
   "metadata": {},
   "outputs": [],
   "source": [
    "#file_path = \"ENTER NAME OF THE FILE YOU DROPPED IN THE FILE SECTION HERE\"\n",
    "file_folder = askdirectory(title = 'Select an experiment folder') # pops up a window to select your file\n",
    "# uncomment this line if you use this jupyter notebook locally\n",
    "#'G:/DREAM/from_github/PAMFluo/Experiments/2021-06-24_12_12_Ek_video'\n"
   ]
  },
  {
   "cell_type": "code",
   "execution_count": 3,
   "metadata": {},
   "outputs": [],
   "source": [
    "show = True #option to output intermediary images in the segmentation process\n",
    "\n",
    "# Import video file in HQ and select ROI\n",
    "file_path = file_folder + \"/video_1_350.00.tiff\"\n",
    "direc = os.path.split(file_path)[0]\n",
    "\n",
    "# Initialize plotting tools\n",
    "g = alienlab.plot.ShowFigure()\n",
    "g.figsize = (15,7)\n",
    "g.save_folder = \"images\"\n",
    "g.date = False\n",
    "p = alienlab.plot.PlotFigure()\n",
    "p.figsize = (15,7)\n",
    "p.save_folder = \"images\"\n",
    "p.date = False"
   ]
  },
  {
   "cell_type": "code",
   "execution_count": 4,
   "metadata": {},
   "outputs": [
    {
     "name": "stdout",
     "output_type": "stream",
     "text": [
      "--- Computed frames statistics in 0.127000 seconds ---\n"
     ]
    },
    {
     "data": {
      "application/vnd.jupyter.widget-view+json": {
       "model_id": "93c290ba68f84fcf8e0175a8ab81467f",
       "version_major": 2,
       "version_minor": 0
      },
      "text/plain": [
       "Canvas(toolbar=Toolbar(toolitems=[('Home', 'Reset original view', 'home', 'home'), ('Back', 'Back to previous …"
      ]
     },
     "metadata": {},
     "output_type": "display_data"
    }
   ],
   "source": [
    "# read the stacked frame. dim = NxHxW (N images in the video, Heigt, Width)\n",
    "\n",
    "frames_full = skimage.io.imread(file_path)\n",
    "\n",
    "#frames_full = np.stack([frames_full[:,:,1]]*10, 0) \n",
    "#uncomment this line if you have a single RGB image. The [:,:,1] stands for selection of the green channel\n",
    "\n",
    "FO = FramesOperator(frames_full)\n",
    "im = normalize(FO.frames[0], 0, 1)\n",
    "im = grey_to_rgb(im)*255\n",
    "\n",
    "# CROP\n",
    "#y, x = alienlab.io.select_roi(np.uint8(im)) #select area of interest\n",
    "#FO.x = x\n",
    "#FO.y = y\n",
    "#FO.crop() #crop image\n",
    "\n",
    "start_time = time.time()\n",
    "FO.compute_stats() #compute various statistical values on the frames and the pixels\n",
    "FO.normalize(0, 1)\n",
    "print(\"--- Computed frames statistics in %04f seconds ---\" % (time.time() - start_time))\n",
    "\n",
    "#FO.global_stats: each array has size N, number of frames and represents the stats of each frame\n",
    "#FO.frames_stats: each array has size FO.x, FO.y and is an image representing the N frames stats overlayed\n",
    "\n",
    "if show:\n",
    "    p.title = 'statistics'\n",
    "    p.xlabel = 'frame number'\n",
    "    p.ylabel = 'amplitude'\n",
    "    p.label_list = ['max', 'min', 'mean', 'std']\n",
    "    fig = p.plotting(np.asarray(FO.inds), [FO.global_stats['max'], \n",
    "                        FO.global_stats['min'], \n",
    "                        FO.global_stats['mean']])\n",
    "    p.save_name = 'frames_stats'\n",
    "    p.saving(fig)\n",
    "\n",
    "''' IMAGE SEGMENTATION '''\n",
    "\n",
    "# selection of the frames with high dynamics that will be used for the image segmentation process.\n",
    "# Let M be the highest value taken by a pixel in all the frames of the video. The frame F is kept for processing only if at\n",
    "# least one pixel in the frame F has a value above 0.8*M. \n",
    "FO.selected_inds = FO.select_frames(FO.global_stats['max'], FO.global_stats['max'].max()*0.8)\n"
   ]
  },
  {
   "cell_type": "code",
   "execution_count": 5,
   "metadata": {},
   "outputs": [
    {
     "data": {
      "application/vnd.jupyter.widget-view+json": {
       "model_id": "ec2951456035497ab47ed19083d9c26d",
       "version_major": 2,
       "version_minor": 0
      },
      "text/plain": [
       "Canvas(toolbar=Toolbar(toolitems=[('Home', 'Reset original view', 'home', 'home'), ('Back', 'Back to previous …"
      ]
     },
     "metadata": {},
     "output_type": "display_data"
    },
    {
     "data": {
      "text/plain": [
       "<matplotlib.image.AxesImage at 0x1c8c8afc6d0>"
      ]
     },
     "execution_count": 5,
     "metadata": {},
     "output_type": "execute_result"
    }
   ],
   "source": [
    "\n",
    "plt.figure(figsize = (5, 5))\n",
    "FO.selected_inds = FO.select_frames(FO.global_stats['max'], FO.global_stats['max'].max()*0.98) # Select only images with high intensity to increase contrast and lower computation time\n",
    "\n",
    "plt.imshow(FO.frames[FO.selected_inds].sum(axis = 0), cmap = 'gray')\n"
   ]
  },
  {
   "cell_type": "code",
   "execution_count": 6,
   "metadata": {},
   "outputs": [],
   "source": [
    "def segment_image(contrast, autolevel, dist_max, dist_seg, disk_size, max_contrast, interact = True, showit = show):\n",
    "    \n",
    "    start_time = time.time()\n",
    "    FO.selected_inds = FO.select_frames(FO.global_stats['max'], FO.global_stats['max'].max()*0.98) # Select only images with high intensity to increase contrast and lower computation time\n",
    "\n",
    "    #apply contrast filter to all frames\n",
    "    frames_contrast = FO.apply(skimage.filters.rank.enhance_contrast,  selem = skimage.morphology.disk(contrast))\n",
    "    #apply autolevel filter to all frames\n",
    "    frames_autolevel = FO.apply(skimage.filters.rank.autolevel, selem = skimage.morphology.disk(autolevel))\n",
    "    #sum the contrast images to get a reference grey-level contrast image\n",
    "    frame_contrast = np.sum(frames_contrast, axis = 0)\n",
    "    #sum the autolevel images to get a reference grey-level autolevel image\n",
    "    frame_autolevel = np.sum(frames_autolevel, axis = 0)\n",
    "    #obtain contrast mask from reference contrast image\n",
    "    mask_contrast = make_binary(frame_contrast, soft_hard = 1)\n",
    "    #otbain autolevel mask from reference autolevel image\n",
    "    mask_autolevel =  make_binary(frame_autolevel, soft_hard = 1)\n",
    "    #intersection of contrast aud autolevel masks\n",
    "    mask_intersect = mask_contrast * mask_autolevel\n",
    "    #clean the masks with a binary opening\n",
    "    mask_intersect = skimage.morphology.binary_opening(mask_intersect, selem = skimage.morphology.disk(disk_size))\n",
    "    #reference image of altitude for the watershed\n",
    "    auto_contrast = normalize(mask_intersect * frame_autolevel)\n",
    "    print(\"--- Computed binary mask in %04f seconds ---\" % (time.time() - start_time))\n",
    "\n",
    "    g.cmap = \"inferno\"\n",
    "    if showit:\n",
    "        g.figsize = (40,15)\n",
    "        g.title_list =  'contrast', 'contrast threshold', 'mask intersect','autolevel', 'autolevel threshold','segmentation image'\n",
    "        g.col_num = 3\n",
    "        fig = g.multi([frame_contrast, mask_contrast, mask_intersect, \n",
    "                       frame_autolevel, mask_autolevel,  auto_contrast])\n",
    "        g.save_name = 'Segmentation reference'\n",
    "        g.saving(fig)\n",
    "\n",
    "    start_time = time.time()\n",
    "    ref = auto_contrast\n",
    "    mask = mask_intersect\n",
    "    #locate the local maxima\n",
    "    local_maxi = alienlab.segment.local_maxima(auto_contrast, max_contrast, g,\n",
    "                                                     ref_distance = dist_max, mask = mask, show = showit)\n",
    "    #perform watershed segmentation\n",
    "    watershed_im_mask = alienlab.segment.watershed(ref, mask, local_maxi,\n",
    "                                                         g, ref_distance = dist_seg, show = False)\n",
    "    segmented = watershed_im_mask\n",
    "    print(\"--- Computed segmentation in %04f seconds ---\" % (time.time() - start_time))\n",
    "\n",
    "    if showit:\n",
    "        alienlab.segment.show_segmentation(FO, segmented, g)\n",
    "        \n",
    "    if interact == False:\n",
    "        return watershed_im_mask, FO\n"
   ]
  },
  {
   "cell_type": "code",
   "execution_count": 8,
   "metadata": {},
   "outputs": [
    {
     "name": "stdout",
     "output_type": "stream",
     "text": [
      "--- Computed binary mask in 1.350029 seconds ---\n",
      "--- Computed segmentation in 0.372999 seconds ---\n"
     ]
    }
   ],
   "source": [
    "mask, FO = segment_image(contrast = 2, autolevel = 10, dist_max = True, dist_seg=True, disk_size = 2, max_contrast = 2, interact = False, showit= False)"
   ]
  },
  {
   "cell_type": "code",
   "execution_count": 12,
   "metadata": {},
   "outputs": [
    {
     "data": {
      "application/vnd.jupyter.widget-view+json": {
       "model_id": "5e6f49d690e24ebb84a0f8e34d55767f",
       "version_major": 2,
       "version_minor": 0
      },
      "text/plain": [
       "Canvas(toolbar=Toolbar(toolitems=[('Home', 'Reset original view', 'home', 'home'), ('Back', 'Back to previous …"
      ]
     },
     "metadata": {},
     "output_type": "display_data"
    }
   ],
   "source": [
    "g.cmap = \"tab20\"\n",
    "g.figsize = (5,5)\n",
    "\n",
    "fig = g.multi(mask)\n",
    "L, H  = np.shape(mask)"
   ]
  },
  {
   "cell_type": "code",
   "execution_count": 13,
   "metadata": {},
   "outputs": [],
   "source": [
    "# Collect item labels\n",
    "\n",
    "# Item time trajectories with overlaps\n",
    "# create a dictionnary with one entry for each item:\n",
    "'''\n",
    "{ '1.0': {'x_coords': np array, x coordinates in HQ}\n",
    "            'y_coords': np array,  y coordinates in HQ\n",
    "            'binned_coords': set, couples of (x,y) coordinates in binned video\n",
    "            'surface': number of pixels in the item in HQ\n",
    "            'pixel_values': array, size: (N, s) where N is number of frames and s surface\n",
    "            'mean': array, size N, mean value of the item intensity for each frame\n",
    "            'std':  array, size N, std value of the item intensity for each frame\n",
    "            'remains' : True, the item is present in this segmentation step\n",
    "            }\n",
    "'2.0': {'x_coords'...\n",
    "                }\n",
    "    }\n",
    "'''\n",
    "segmented = mask\n",
    "items = np.unique(segmented) #returns the set of values in items, corresponds to the values of the markers of local_maxima\n",
    "\n",
    "items_dict = {}\n",
    "for k in items:\n",
    "    key = str(k)\n",
    "    items_dict[key] = {}\n",
    "    x_coords, y_coords = np.nonzero(segmented == k)\n",
    "    items_dict[key]['x_coords'] = x_coords\n",
    "    items_dict[key]['y_coords'] = y_coords\n",
    "    pixel_values = FO.frames[:,x_coords, y_coords]\n",
    "    items_dict[key]['pixel_values'] = pixel_values\n",
    "    items_dict[key]['surface'] = pixel_values.shape[1]\n",
    "    items_dict[key]['mean'] = np.mean(pixel_values, axis = 1)\n",
    "    items_dict[key]['std'] = np.std(pixel_values, axis = 1)\n",
    "    items_dict[key]['remains'] = True\n",
    "\n",
    "\n"
   ]
  },
  {
   "cell_type": "code",
   "execution_count": 14,
   "metadata": {},
   "outputs": [
    {
     "name": "stdout",
     "output_type": "stream",
     "text": [
      "G:/DREAM/from_github/PAMFluo/Experiments\\2021-09-29_09_27_bode_diagram\n"
     ]
    }
   ],
   "source": [
    "file_path = file_folder + \"/dict_full.npy\" # pops up a window to select your file\n",
    "data = np.load(file_path, allow_pickle=True).item()\n",
    "voltint = VoltageIntensity()"
   ]
  },
  {
   "cell_type": "code",
   "execution_count": 15,
   "metadata": {},
   "outputs": [],
   "source": [
    "i = 1\n",
    "do = {3:10**-2.8,2:10**-1.8, 1:10**-1.2, 0:1}\n",
    "col = {3:'r', 2:'g',1:'b',0:\"k\"}\n",
    "for f in data.keys():\n",
    "    for amp in data[f].keys():\n",
    "        data_key = data[f][amp]\n",
    "        video = data_key[\"video\"]\n",
    "        output = data_key[\"output\"]\n",
    "        intensity = output[0, :1000000].mean() - output[0, 1000000:].mean()\n",
    "        fluorescence1 = output[1, 150000:300000].mean() - output[1, 1050000:].mean()\n",
    "        fluorescence2 = output[1, 700000:9000000].mean() - output[1, 1050000:].mean()\n",
    "        plt.plot(intensity, fluorescence1, '.')\n",
    "        #plt.plot(voltint.get_intensity_voltage('blue', f, amp/100)*1e6, fluorescence1, '.', color = \"b\")#col[f])\n",
    "        #plt.loglog(intensity, fluorescence2/intensity, '.', color = \"r\")# col[f])\n",
    "        i += 1\n",
    "    "
   ]
  },
  {
   "cell_type": "code",
   "execution_count": 15,
   "metadata": {},
   "outputs": [],
   "source": [
    "#import mvgavg\n",
    "#for f in data.keys():\n",
    "#    for amp in data[f].keys():\n",
    "#        plt.plot(mvgavg.mvgavg(data[f][amp]['output'][1], 1000), color = col[f])\n",
    "#import mvgavg\n",
    "#for f in data.keys():\n",
    "#    for amp in data[f].keys():\n",
    "#\n",
    "#plt.semilogy(mvgavg.mvgavg(data[f][amp]['output'][0], 10000))"
   ]
  },
  {
   "cell_type": "code",
   "execution_count": 16,
   "metadata": {},
   "outputs": [],
   "source": [
    "file_folder = \"G:/DREAM/from_github/PAMFluo/Experiments/2021-08-31_10_45_D2_calib_video\"#askdirectory(title = 'Select an experiment folder') # pops up a window to select your file\n",
    "I_480 = np.load(glob.glob(file_folder + \"/*_I_480.npy\")[0])"
   ]
  },
  {
   "cell_type": "code",
   "execution_count": 17,
   "metadata": {},
   "outputs": [
    {
     "data": {
      "application/vnd.jupyter.widget-view+json": {
       "model_id": "24397d0dcf6b4bbc981f1d19a99adbae",
       "version_major": 2,
       "version_minor": 0
      },
      "text/plain": [
       "Canvas(toolbar=Toolbar(toolitems=[('Home', 'Reset original view', 'home', 'home'), ('Back', 'Back to previous …"
      ]
     },
     "metadata": {},
     "output_type": "display_data"
    },
    {
     "name": "stdout",
     "output_type": "stream",
     "text": [
      "5680.730946400307 (61, 97)\n",
      "5681.433923136634 (608, 968)\n"
     ]
    }
   ],
   "source": [
    "plt.imshow(I_480)\n",
    "IR = resize(I_480, (L, H))\n",
    "plt.figure()\n",
    "plt.imshow(IR)\n",
    "\n",
    "Intensity = IR[::-1,::-1]\n",
    "\n",
    "print(I_480.mean(), I_480.shape)\n",
    "print(IR.mean(), IR.shape)"
   ]
  },
  {
   "cell_type": "code",
   "execution_count": 18,
   "metadata": {},
   "outputs": [
    {
     "name": "stdout",
     "output_type": "stream",
     "text": [
      "G:/DREAM/from_github/PAMFluo/Experiments\\2021-09-29_09_27_bode_diagram\n",
      "5988.626152153172\n"
     ]
    },
    {
     "data": {
      "text/plain": [
       "array([286.53133447, 287.04140629, 286.67282109, 286.2680157 ,\n",
       "       287.06764899, 287.19777531, 286.81430772, 286.39395217,\n",
       "       286.94301577, 287.07295897, 287.20290217, 286.81894663,\n",
       "       286.39808124, 285.97721584, 286.91100473, 287.04653314,\n",
       "       286.67746   , 286.27214476, 285.86682952, 286.89016411,\n",
       "       286.53597337, 286.14620828])"
      ]
     },
     "execution_count": 18,
     "metadata": {},
     "output_type": "execute_result"
    }
   ],
   "source": [
    "V = VoltageIntensity()\n",
    "med_image = np.median(Intensity)\n",
    "print(med_image)\n",
    "image_intensity = Intensity * V.get_intensity_voltage('blue', f, amp/100)*1e6/med_image\n",
    "\n",
    "plt.imshow(image_intensity)\n",
    "image_intensity[x_coords, y_coords]"
   ]
  },
  {
   "cell_type": "code",
   "execution_count": 22,
   "metadata": {},
   "outputs": [
    {
     "data": {
      "application/vnd.jupyter.widget-view+json": {
       "model_id": "62eb91c8bbd4488e89cc10a0aca145a3",
       "version_major": 2,
       "version_minor": 0
      },
      "text/plain": [
       "Canvas(toolbar=Toolbar(toolitems=[('Home', 'Reset original view', 'home', 'home'), ('Back', 'Back to previous …"
      ]
     },
     "metadata": {},
     "output_type": "display_data"
    },
    {
     "name": "stderr",
     "output_type": "stream",
     "text": [
      "  0%|                                                                                          | 0/253 [00:00<?, ?it/s]<ipython-input-1-c26e2ff04dde>:47: RuntimeWarning: overflow encountered in exp\n",
      "  return M*(1- np.exp(-alpha*xdata/M))\n",
      "  0%|▎                                                                                 | 1/253 [00:00<01:21,  3.10it/s]<ipython-input-1-c26e2ff04dde>:47: RuntimeWarning: overflow encountered in exp\n",
      "  return M*(1- np.exp(-alpha*xdata/M))\n",
      "  1%|▋                                                                                 | 2/253 [00:00<01:14,  3.36it/s]<ipython-input-1-c26e2ff04dde>:47: RuntimeWarning: overflow encountered in exp\n",
      "  return M*(1- np.exp(-alpha*xdata/M))\n",
      "  1%|▉                                                                                 | 3/253 [00:00<01:16,  3.28it/s]<ipython-input-1-c26e2ff04dde>:47: RuntimeWarning: overflow encountered in exp\n",
      "  return M*(1- np.exp(-alpha*xdata/M))\n",
      "  2%|█▎                                                                                | 4/253 [00:01<01:18,  3.18it/s]<ipython-input-1-c26e2ff04dde>:47: RuntimeWarning: overflow encountered in exp\n",
      "  return M*(1- np.exp(-alpha*xdata/M))\n",
      "  2%|█▌                                                                                | 5/253 [00:01<01:14,  3.32it/s]<ipython-input-1-c26e2ff04dde>:47: RuntimeWarning: overflow encountered in exp\n",
      "  return M*(1- np.exp(-alpha*xdata/M))\n",
      "  2%|█▉                                                                                | 6/253 [00:01<01:16,  3.25it/s]<ipython-input-1-c26e2ff04dde>:47: RuntimeWarning: overflow encountered in exp\n",
      "  return M*(1- np.exp(-alpha*xdata/M))\n",
      "  3%|██▎                                                                               | 7/253 [00:02<01:17,  3.16it/s]<ipython-input-1-c26e2ff04dde>:47: RuntimeWarning: overflow encountered in exp\n",
      "  return M*(1- np.exp(-alpha*xdata/M))\n",
      "  3%|██▌                                                                               | 8/253 [00:02<01:16,  3.22it/s]<ipython-input-1-c26e2ff04dde>:47: RuntimeWarning: overflow encountered in exp\n",
      "  return M*(1- np.exp(-alpha*xdata/M))\n",
      "  4%|██▉                                                                               | 9/253 [00:02<01:15,  3.25it/s]<ipython-input-1-c26e2ff04dde>:47: RuntimeWarning: overflow encountered in exp\n",
      "  return M*(1- np.exp(-alpha*xdata/M))\n",
      "  5%|███▊                                                                             | 12/253 [00:03<01:09,  3.46it/s]<ipython-input-1-c26e2ff04dde>:47: RuntimeWarning: overflow encountered in exp\n",
      "  return M*(1- np.exp(-alpha*xdata/M))\n",
      "  5%|████▏                                                                            | 13/253 [00:03<01:12,  3.33it/s]<ipython-input-1-c26e2ff04dde>:47: RuntimeWarning: overflow encountered in exp\n",
      "  return M*(1- np.exp(-alpha*xdata/M))\n",
      "  6%|████▍                                                                            | 14/253 [00:04<01:12,  3.31it/s]<ipython-input-1-c26e2ff04dde>:47: RuntimeWarning: overflow encountered in exp\n",
      "  return M*(1- np.exp(-alpha*xdata/M))\n",
      "  6%|█████                                                                            | 16/253 [00:04<01:10,  3.38it/s]<ipython-input-1-c26e2ff04dde>:47: RuntimeWarning: overflow encountered in exp\n",
      "  return M*(1- np.exp(-alpha*xdata/M))\n",
      "  7%|█████▍                                                                           | 17/253 [00:05<01:11,  3.31it/s]<ipython-input-1-c26e2ff04dde>:47: RuntimeWarning: overflow encountered in exp\n",
      "  return M*(1- np.exp(-alpha*xdata/M))\n",
      "  8%|██████                                                                           | 19/253 [00:05<01:07,  3.46it/s]<ipython-input-1-c26e2ff04dde>:47: RuntimeWarning: overflow encountered in exp\n",
      "  return M*(1- np.exp(-alpha*xdata/M))\n",
      "  8%|██████▍                                                                          | 20/253 [00:06<01:09,  3.36it/s]<ipython-input-1-c26e2ff04dde>:47: RuntimeWarning: overflow encountered in exp\n",
      "  return M*(1- np.exp(-alpha*xdata/M))\n",
      "  8%|██████▋                                                                          | 21/253 [00:06<01:10,  3.29it/s]<ipython-input-1-c26e2ff04dde>:47: RuntimeWarning: overflow encountered in exp\n",
      "  return M*(1- np.exp(-alpha*xdata/M))\n",
      "  9%|███████                                                                          | 22/253 [00:06<01:09,  3.32it/s]<ipython-input-1-c26e2ff04dde>:47: RuntimeWarning: overflow encountered in exp\n",
      "  return M*(1- np.exp(-alpha*xdata/M))\n",
      "  9%|███████▎                                                                         | 23/253 [00:06<01:10,  3.28it/s]<ipython-input-1-c26e2ff04dde>:47: RuntimeWarning: overflow encountered in exp\n",
      "  return M*(1- np.exp(-alpha*xdata/M))\n",
      "  9%|███████▋                                                                         | 24/253 [00:07<01:11,  3.21it/s]<ipython-input-1-c26e2ff04dde>:47: RuntimeWarning: overflow encountered in exp\n",
      "  return M*(1- np.exp(-alpha*xdata/M))\n",
      " 10%|████████                                                                         | 25/253 [00:07<01:10,  3.24it/s]<ipython-input-1-c26e2ff04dde>:47: RuntimeWarning: overflow encountered in exp\n",
      "  return M*(1- np.exp(-alpha*xdata/M))\n",
      " 10%|████████▎                                                                        | 26/253 [00:07<01:09,  3.25it/s]<ipython-input-1-c26e2ff04dde>:47: RuntimeWarning: overflow encountered in exp\n",
      "  return M*(1- np.exp(-alpha*xdata/M))\n",
      " 11%|████████▋                                                                        | 27/253 [00:08<01:10,  3.19it/s]<ipython-input-1-c26e2ff04dde>:47: RuntimeWarning: overflow encountered in exp\n",
      "  return M*(1- np.exp(-alpha*xdata/M))\n",
      " 11%|████████▉                                                                        | 28/253 [00:08<01:09,  3.22it/s]<ipython-input-1-c26e2ff04dde>:47: RuntimeWarning: overflow encountered in exp\n",
      "  return M*(1- np.exp(-alpha*xdata/M))\n",
      " 11%|█████████▎                                                                       | 29/253 [00:08<01:08,  3.28it/s]<ipython-input-1-c26e2ff04dde>:47: RuntimeWarning: overflow encountered in exp\n",
      "  return M*(1- np.exp(-alpha*xdata/M))\n",
      " 12%|█████████▌                                                                       | 30/253 [00:09<01:09,  3.21it/s]<ipython-input-1-c26e2ff04dde>:47: RuntimeWarning: overflow encountered in exp\n",
      "  return M*(1- np.exp(-alpha*xdata/M))\n",
      " 12%|█████████▉                                                                       | 31/253 [00:09<01:09,  3.20it/s]<ipython-input-1-c26e2ff04dde>:47: RuntimeWarning: overflow encountered in exp\n",
      "  return M*(1- np.exp(-alpha*xdata/M))\n",
      " 13%|██████████▏                                                                      | 32/253 [00:09<01:08,  3.23it/s]<ipython-input-1-c26e2ff04dde>:47: RuntimeWarning: overflow encountered in exp\n",
      "  return M*(1- np.exp(-alpha*xdata/M))\n",
      " 13%|██████████▌                                                                      | 33/253 [00:10<01:08,  3.19it/s]<ipython-input-1-c26e2ff04dde>:47: RuntimeWarning: overflow encountered in exp\n",
      "  return M*(1- np.exp(-alpha*xdata/M))\n",
      " 16%|████████████▊                                                                    | 40/253 [00:12<00:59,  3.59it/s]<ipython-input-1-c26e2ff04dde>:47: RuntimeWarning: overflow encountered in exp\n",
      "  return M*(1- np.exp(-alpha*xdata/M))\n",
      " 16%|█████████████▏                                                                   | 41/253 [00:12<01:01,  3.46it/s]<ipython-input-1-c26e2ff04dde>:47: RuntimeWarning: overflow encountered in exp\n",
      "  return M*(1- np.exp(-alpha*xdata/M))\n",
      " 17%|█████████████▍                                                                   | 42/253 [00:12<01:01,  3.44it/s]<ipython-input-1-c26e2ff04dde>:47: RuntimeWarning: overflow encountered in exp\n",
      "  return M*(1- np.exp(-alpha*xdata/M))\n",
      " 17%|██████████████                                                                   | 44/253 [00:13<01:01,  3.40it/s]<ipython-input-1-c26e2ff04dde>:47: RuntimeWarning: overflow encountered in exp\n",
      "  return M*(1- np.exp(-alpha*xdata/M))\n",
      " 18%|██████████████▋                                                                  | 46/253 [00:13<00:59,  3.49it/s]<ipython-input-1-c26e2ff04dde>:47: RuntimeWarning: overflow encountered in exp\n",
      "  return M*(1- np.exp(-alpha*xdata/M))\n",
      " 19%|███████████████                                                                  | 47/253 [00:14<00:59,  3.46it/s]<ipython-input-1-c26e2ff04dde>:47: RuntimeWarning: overflow encountered in exp\n",
      "  return M*(1- np.exp(-alpha*xdata/M))\n",
      " 19%|███████████████▎                                                                 | 48/253 [00:14<01:01,  3.34it/s]<ipython-input-1-c26e2ff04dde>:47: RuntimeWarning: overflow encountered in exp\n",
      "  return M*(1- np.exp(-alpha*xdata/M))\n",
      " 19%|███████████████▋                                                                 | 49/253 [00:14<01:01,  3.33it/s]<ipython-input-1-c26e2ff04dde>:47: RuntimeWarning: overflow encountered in exp\n",
      "  return M*(1- np.exp(-alpha*xdata/M))\n",
      " 20%|████████████████                                                                 | 50/253 [00:15<01:02,  3.27it/s]<ipython-input-1-c26e2ff04dde>:47: RuntimeWarning: overflow encountered in exp\n",
      "  return M*(1- np.exp(-alpha*xdata/M))\n",
      " 21%|█████████████████▎                                                               | 54/253 [00:16<00:58,  3.38it/s]<ipython-input-1-c26e2ff04dde>:47: RuntimeWarning: overflow encountered in exp\n",
      "  return M*(1- np.exp(-alpha*xdata/M))\n",
      " 23%|██████████████████▏                                                              | 57/253 [00:17<00:56,  3.49it/s]<ipython-input-1-c26e2ff04dde>:47: RuntimeWarning: overflow encountered in exp\n",
      "  return M*(1- np.exp(-alpha*xdata/M))\n",
      " 23%|██████████████████▉                                                              | 59/253 [00:17<00:55,  3.50it/s]<ipython-input-1-c26e2ff04dde>:47: RuntimeWarning: overflow encountered in exp\n",
      "  return M*(1- np.exp(-alpha*xdata/M))\n",
      " 24%|███████████████████▌                                                             | 61/253 [00:18<00:56,  3.42it/s]<ipython-input-1-c26e2ff04dde>:47: RuntimeWarning: overflow encountered in exp\n",
      "  return M*(1- np.exp(-alpha*xdata/M))\n",
      " 25%|███████████████████▊                                                             | 62/253 [00:18<00:56,  3.36it/s]<ipython-input-1-c26e2ff04dde>:47: RuntimeWarning: overflow encountered in exp\n",
      "  return M*(1- np.exp(-alpha*xdata/M))\n",
      " 25%|████████████████████▍                                                            | 64/253 [00:19<00:55,  3.42it/s]<ipython-input-1-c26e2ff04dde>:47: RuntimeWarning: overflow encountered in exp\n",
      "  return M*(1- np.exp(-alpha*xdata/M))\n",
      " 26%|████████████████████▊                                                            | 65/253 [00:19<00:55,  3.38it/s]<ipython-input-1-c26e2ff04dde>:47: RuntimeWarning: overflow encountered in exp\n",
      "  return M*(1- np.exp(-alpha*xdata/M))\n",
      " 26%|█████████████████████▏                                                           | 66/253 [00:19<00:54,  3.44it/s]<ipython-input-1-c26e2ff04dde>:47: RuntimeWarning: overflow encountered in exp\n",
      "  return M*(1- np.exp(-alpha*xdata/M))\n",
      " 26%|█████████████████████▍                                                           | 67/253 [00:20<00:54,  3.40it/s]<ipython-input-1-c26e2ff04dde>:47: RuntimeWarning: overflow encountered in exp\n",
      "  return M*(1- np.exp(-alpha*xdata/M))\n",
      " 27%|██████████████████████                                                           | 69/253 [00:20<00:54,  3.38it/s]<ipython-input-1-c26e2ff04dde>:47: RuntimeWarning: overflow encountered in exp\n",
      "  return M*(1- np.exp(-alpha*xdata/M))\n",
      " 28%|██████████████████████▍                                                          | 70/253 [00:20<00:55,  3.32it/s]<ipython-input-1-c26e2ff04dde>:47: RuntimeWarning: overflow encountered in exp\n",
      "  return M*(1- np.exp(-alpha*xdata/M))\n",
      " 28%|██████████████████████▋                                                          | 71/253 [00:21<00:55,  3.29it/s]<ipython-input-1-c26e2ff04dde>:47: RuntimeWarning: overflow encountered in exp\n",
      "  return M*(1- np.exp(-alpha*xdata/M))\n",
      " 29%|███████████████████████▎                                                         | 73/253 [00:21<00:52,  3.45it/s]<ipython-input-1-c26e2ff04dde>:47: RuntimeWarning: overflow encountered in exp\n",
      "  return M*(1- np.exp(-alpha*xdata/M))\n",
      " 29%|███████████████████████▋                                                         | 74/253 [00:22<00:53,  3.33it/s]<ipython-input-1-c26e2ff04dde>:47: RuntimeWarning: overflow encountered in exp\n",
      "  return M*(1- np.exp(-alpha*xdata/M))\n",
      " 30%|████████████████████████                                                         | 75/253 [00:22<00:52,  3.36it/s]<ipython-input-1-c26e2ff04dde>:47: RuntimeWarning: overflow encountered in exp\n",
      "  return M*(1- np.exp(-alpha*xdata/M))\n",
      " 30%|████████████████████████▎                                                        | 76/253 [00:22<00:52,  3.38it/s]<ipython-input-1-c26e2ff04dde>:47: RuntimeWarning: overflow encountered in exp\n",
      "  return M*(1- np.exp(-alpha*xdata/M))\n",
      " 30%|████████████████████████▋                                                        | 77/253 [00:23<00:53,  3.30it/s]<ipython-input-1-c26e2ff04dde>:47: RuntimeWarning: overflow encountered in exp\n",
      "  return M*(1- np.exp(-alpha*xdata/M))\n",
      " 31%|████████████████████████▉                                                        | 78/253 [00:23<00:54,  3.23it/s]<ipython-input-1-c26e2ff04dde>:47: RuntimeWarning: overflow encountered in exp\n",
      "  return M*(1- np.exp(-alpha*xdata/M))\n",
      " 31%|█████████████████████████▎                                                       | 79/253 [00:23<00:52,  3.32it/s]<ipython-input-1-c26e2ff04dde>:47: RuntimeWarning: overflow encountered in exp\n",
      "  return M*(1- np.exp(-alpha*xdata/M))\n",
      " 32%|█████████████████████████▌                                                       | 80/253 [00:23<00:52,  3.27it/s]<ipython-input-1-c26e2ff04dde>:47: RuntimeWarning: overflow encountered in exp\n",
      "  return M*(1- np.exp(-alpha*xdata/M))\n",
      " 32%|█████████████████████████▉                                                       | 81/253 [00:24<00:53,  3.20it/s]<ipython-input-1-c26e2ff04dde>:47: RuntimeWarning: overflow encountered in exp\n",
      "  return M*(1- np.exp(-alpha*xdata/M))\n",
      " 32%|██████████████████████████▎                                                      | 82/253 [00:24<00:52,  3.25it/s]<ipython-input-1-c26e2ff04dde>:47: RuntimeWarning: overflow encountered in exp\n",
      "  return M*(1- np.exp(-alpha*xdata/M))\n",
      " 33%|██████████████████████████▌                                                      | 83/253 [00:24<00:52,  3.24it/s]<ipython-input-1-c26e2ff04dde>:47: RuntimeWarning: overflow encountered in exp\n",
      "  return M*(1- np.exp(-alpha*xdata/M))\n",
      " 33%|██████████████████████████▉                                                      | 84/253 [00:25<00:53,  3.17it/s]<ipython-input-1-c26e2ff04dde>:47: RuntimeWarning: overflow encountered in exp\n",
      "  return M*(1- np.exp(-alpha*xdata/M))\n",
      " 34%|███████████████████████████▏                                                     | 85/253 [00:25<00:52,  3.19it/s]<ipython-input-1-c26e2ff04dde>:47: RuntimeWarning: overflow encountered in exp\n",
      "  return M*(1- np.exp(-alpha*xdata/M))\n",
      " 34%|███████████████████████████▌                                                     | 86/253 [00:25<00:51,  3.24it/s]<ipython-input-1-c26e2ff04dde>:47: RuntimeWarning: overflow encountered in exp\n",
      "  return M*(1- np.exp(-alpha*xdata/M))\n",
      " 34%|███████████████████████████▊                                                     | 87/253 [00:26<00:51,  3.20it/s]<ipython-input-1-c26e2ff04dde>:47: RuntimeWarning: overflow encountered in exp\n",
      "  return M*(1- np.exp(-alpha*xdata/M))\n",
      " 35%|████████████████████████████▏                                                    | 88/253 [00:26<00:51,  3.22it/s]<ipython-input-1-c26e2ff04dde>:47: RuntimeWarning: overflow encountered in exp\n",
      "  return M*(1- np.exp(-alpha*xdata/M))\n",
      " 36%|████████████████████████████▊                                                    | 90/253 [00:27<00:48,  3.35it/s]<ipython-input-1-c26e2ff04dde>:47: RuntimeWarning: overflow encountered in exp\n",
      "  return M*(1- np.exp(-alpha*xdata/M))\n",
      " 36%|█████████████████████████████▏                                                   | 91/253 [00:27<00:48,  3.34it/s]<ipython-input-1-c26e2ff04dde>:47: RuntimeWarning: overflow encountered in exp\n",
      "  return M*(1- np.exp(-alpha*xdata/M))\n",
      " 36%|█████████████████████████████▍                                                   | 92/253 [00:27<00:47,  3.40it/s]<ipython-input-1-c26e2ff04dde>:47: RuntimeWarning: overflow encountered in exp\n",
      "  return M*(1- np.exp(-alpha*xdata/M))\n",
      " 37%|█████████████████████████████▊                                                   | 93/253 [00:27<00:47,  3.39it/s]<ipython-input-1-c26e2ff04dde>:47: RuntimeWarning: overflow encountered in exp\n",
      "  return M*(1- np.exp(-alpha*xdata/M))\n",
      " 37%|██████████████████████████████                                                   | 94/253 [00:28<00:48,  3.26it/s]<ipython-input-1-c26e2ff04dde>:47: RuntimeWarning: overflow encountered in exp\n",
      "  return M*(1- np.exp(-alpha*xdata/M))\n",
      " 38%|██████████████████████████████▍                                                  | 95/253 [00:28<00:48,  3.25it/s]<ipython-input-1-c26e2ff04dde>:47: RuntimeWarning: overflow encountered in exp\n",
      "  return M*(1- np.exp(-alpha*xdata/M))\n",
      " 38%|██████████████████████████████▋                                                  | 96/253 [00:28<00:48,  3.23it/s]<ipython-input-1-c26e2ff04dde>:47: RuntimeWarning: overflow encountered in exp\n",
      "  return M*(1- np.exp(-alpha*xdata/M))\n",
      " 38%|███████████████████████████████                                                  | 97/253 [00:29<00:49,  3.18it/s]<ipython-input-1-c26e2ff04dde>:47: RuntimeWarning: overflow encountered in exp\n",
      "  return M*(1- np.exp(-alpha*xdata/M))\n",
      " 39%|███████████████████████████████▋                                                 | 99/253 [00:29<00:45,  3.36it/s]<ipython-input-1-c26e2ff04dde>:47: RuntimeWarning: overflow encountered in exp\n",
      "  return M*(1- np.exp(-alpha*xdata/M))\n",
      " 40%|███████████████████████████████▌                                                | 100/253 [00:30<00:46,  3.32it/s]<ipython-input-1-c26e2ff04dde>:47: RuntimeWarning: overflow encountered in exp\n",
      "  return M*(1- np.exp(-alpha*xdata/M))\n",
      " 40%|███████████████████████████████▉                                                | 101/253 [00:30<00:46,  3.26it/s]<ipython-input-1-c26e2ff04dde>:47: RuntimeWarning: overflow encountered in exp\n",
      "  return M*(1- np.exp(-alpha*xdata/M))\n",
      " 40%|████████████████████████████████▎                                               | 102/253 [00:30<00:46,  3.25it/s]<ipython-input-1-c26e2ff04dde>:47: RuntimeWarning: overflow encountered in exp\n",
      "  return M*(1- np.exp(-alpha*xdata/M))\n",
      " 41%|████████████████████████████████▌                                               | 103/253 [00:31<00:46,  3.25it/s]<ipython-input-1-c26e2ff04dde>:47: RuntimeWarning: overflow encountered in exp\n",
      "  return M*(1- np.exp(-alpha*xdata/M))\n",
      " 41%|████████████████████████████████▉                                               | 104/253 [00:31<00:45,  3.26it/s]<ipython-input-1-c26e2ff04dde>:47: RuntimeWarning: overflow encountered in exp\n",
      "  return M*(1- np.exp(-alpha*xdata/M))\n",
      " 42%|█████████████████████████████████▏                                              | 105/253 [00:31<00:44,  3.31it/s]<ipython-input-1-c26e2ff04dde>:47: RuntimeWarning: overflow encountered in exp\n",
      "  return M*(1- np.exp(-alpha*xdata/M))\n",
      " 42%|█████████████████████████████████▌                                              | 106/253 [00:31<00:44,  3.29it/s]<ipython-input-1-c26e2ff04dde>:47: RuntimeWarning: overflow encountered in exp\n",
      "  return M*(1- np.exp(-alpha*xdata/M))\n",
      " 42%|█████████████████████████████████▊                                              | 107/253 [00:32<00:45,  3.19it/s]<ipython-input-1-c26e2ff04dde>:47: RuntimeWarning: overflow encountered in exp\n",
      "  return M*(1- np.exp(-alpha*xdata/M))\n",
      " 43%|██████████████████████████████████▍                                             | 109/253 [00:32<00:43,  3.30it/s]<ipython-input-1-c26e2ff04dde>:47: RuntimeWarning: overflow encountered in exp\n",
      "  return M*(1- np.exp(-alpha*xdata/M))\n",
      " 43%|██████████████████████████████████▊                                             | 110/253 [00:33<00:44,  3.21it/s]<ipython-input-1-c26e2ff04dde>:47: RuntimeWarning: overflow encountered in exp\n",
      "  return M*(1- np.exp(-alpha*xdata/M))\n",
      " 44%|███████████████████████████████████                                             | 111/253 [00:33<00:43,  3.29it/s]<ipython-input-1-c26e2ff04dde>:47: RuntimeWarning: overflow encountered in exp\n",
      "  return M*(1- np.exp(-alpha*xdata/M))\n",
      " 44%|███████████████████████████████████▍                                            | 112/253 [00:33<00:42,  3.32it/s]<ipython-input-1-c26e2ff04dde>:47: RuntimeWarning: overflow encountered in exp\n",
      "  return M*(1- np.exp(-alpha*xdata/M))\n",
      " 45%|███████████████████████████████████▋                                            | 113/253 [00:34<00:42,  3.27it/s]<ipython-input-1-c26e2ff04dde>:47: RuntimeWarning: overflow encountered in exp\n",
      "  return M*(1- np.exp(-alpha*xdata/M))\n",
      " 45%|████████████████████████████████████                                            | 114/253 [00:34<00:43,  3.22it/s]<ipython-input-1-c26e2ff04dde>:47: RuntimeWarning: overflow encountered in exp\n",
      "  return M*(1- np.exp(-alpha*xdata/M))\n",
      " 45%|████████████████████████████████████▎                                           | 115/253 [00:34<00:41,  3.31it/s]<ipython-input-1-c26e2ff04dde>:47: RuntimeWarning: overflow encountered in exp\n",
      "  return M*(1- np.exp(-alpha*xdata/M))\n",
      " 46%|████████████████████████████████████▋                                           | 116/253 [00:34<00:41,  3.27it/s]<ipython-input-1-c26e2ff04dde>:47: RuntimeWarning: overflow encountered in exp\n",
      "  return M*(1- np.exp(-alpha*xdata/M))\n",
      " 46%|████████████████████████████████████▉                                           | 117/253 [00:35<00:42,  3.20it/s]<ipython-input-1-c26e2ff04dde>:47: RuntimeWarning: overflow encountered in exp\n",
      "  return M*(1- np.exp(-alpha*xdata/M))\n",
      " 47%|█████████████████████████████████████▎                                          | 118/253 [00:35<00:41,  3.23it/s]<ipython-input-1-c26e2ff04dde>:47: RuntimeWarning: overflow encountered in exp\n",
      "  return M*(1- np.exp(-alpha*xdata/M))\n",
      " 47%|█████████████████████████████████████▋                                          | 119/253 [00:35<00:42,  3.18it/s]<ipython-input-1-c26e2ff04dde>:47: RuntimeWarning: overflow encountered in exp\n",
      "  return M*(1- np.exp(-alpha*xdata/M))\n",
      " 47%|█████████████████████████████████████▉                                          | 120/253 [00:36<00:42,  3.11it/s]<ipython-input-1-c26e2ff04dde>:47: RuntimeWarning: overflow encountered in exp\n",
      "  return M*(1- np.exp(-alpha*xdata/M))\n",
      " 48%|██████████████████████████████████████▎                                         | 121/253 [00:36<00:41,  3.19it/s]<ipython-input-1-c26e2ff04dde>:47: RuntimeWarning: overflow encountered in exp\n",
      "  return M*(1- np.exp(-alpha*xdata/M))\n",
      " 48%|██████████████████████████████████████▌                                         | 122/253 [00:36<00:41,  3.17it/s]<ipython-input-1-c26e2ff04dde>:47: RuntimeWarning: overflow encountered in exp\n",
      "  return M*(1- np.exp(-alpha*xdata/M))\n",
      " 49%|██████████████████████████████████████▉                                         | 123/253 [00:37<00:42,  3.09it/s]<ipython-input-1-c26e2ff04dde>:47: RuntimeWarning: overflow encountered in exp\n",
      "  return M*(1- np.exp(-alpha*xdata/M))\n",
      " 49%|███████████████████████████████████████▏                                        | 124/253 [00:37<00:40,  3.18it/s]<ipython-input-1-c26e2ff04dde>:47: RuntimeWarning: overflow encountered in exp\n",
      "  return M*(1- np.exp(-alpha*xdata/M))\n",
      " 50%|███████████████████████████████████████▊                                        | 126/253 [00:38<00:37,  3.35it/s]<ipython-input-1-c26e2ff04dde>:47: RuntimeWarning: overflow encountered in exp\n",
      "  return M*(1- np.exp(-alpha*xdata/M))\n",
      " 50%|████████████████████████████████████████▏                                       | 127/253 [00:38<00:38,  3.28it/s]<ipython-input-1-c26e2ff04dde>:47: RuntimeWarning: overflow encountered in exp\n",
      "  return M*(1- np.exp(-alpha*xdata/M))\n",
      " 51%|████████████████████████████████████████▍                                       | 128/253 [00:38<00:37,  3.29it/s]<ipython-input-1-c26e2ff04dde>:47: RuntimeWarning: overflow encountered in exp\n",
      "  return M*(1- np.exp(-alpha*xdata/M))\n",
      " 51%|████████████████████████████████████████▊                                       | 129/253 [00:39<00:38,  3.23it/s]<ipython-input-1-c26e2ff04dde>:47: RuntimeWarning: overflow encountered in exp\n",
      "  return M*(1- np.exp(-alpha*xdata/M))\n",
      " 51%|█████████████████████████████████████████                                       | 130/253 [00:39<00:38,  3.20it/s]<ipython-input-1-c26e2ff04dde>:47: RuntimeWarning: overflow encountered in exp\n",
      "  return M*(1- np.exp(-alpha*xdata/M))\n",
      " 52%|█████████████████████████████████████████▍                                      | 131/253 [00:39<00:37,  3.25it/s]<ipython-input-1-c26e2ff04dde>:47: RuntimeWarning: overflow encountered in exp\n",
      "  return M*(1- np.exp(-alpha*xdata/M))\n",
      " 52%|█████████████████████████████████████████▋                                      | 132/253 [00:39<00:37,  3.23it/s]<ipython-input-1-c26e2ff04dde>:47: RuntimeWarning: overflow encountered in exp\n",
      "  return M*(1- np.exp(-alpha*xdata/M))\n",
      " 53%|██████████████████████████████████████████                                      | 133/253 [00:40<00:37,  3.19it/s]<ipython-input-1-c26e2ff04dde>:47: RuntimeWarning: overflow encountered in exp\n",
      "  return M*(1- np.exp(-alpha*xdata/M))\n",
      " 53%|██████████████████████████████████████████▋                                     | 135/253 [00:40<00:35,  3.34it/s]<ipython-input-1-c26e2ff04dde>:47: RuntimeWarning: overflow encountered in exp\n",
      "  return M*(1- np.exp(-alpha*xdata/M))\n",
      " 54%|███████████████████████████████████████████                                     | 136/253 [00:41<00:36,  3.24it/s]<ipython-input-1-c26e2ff04dde>:47: RuntimeWarning: overflow encountered in exp\n",
      "  return M*(1- np.exp(-alpha*xdata/M))\n",
      " 55%|███████████████████████████████████████████▋                                    | 138/253 [00:41<00:33,  3.42it/s]<ipython-input-1-c26e2ff04dde>:47: RuntimeWarning: overflow encountered in exp\n",
      "  return M*(1- np.exp(-alpha*xdata/M))\n",
      " 55%|███████████████████████████████████████████▉                                    | 139/253 [00:42<00:34,  3.35it/s]<ipython-input-1-c26e2ff04dde>:47: RuntimeWarning: overflow encountered in exp\n",
      "  return M*(1- np.exp(-alpha*xdata/M))\n",
      " 56%|████████████████████████████████████████████▌                                   | 141/253 [00:42<00:32,  3.47it/s]<ipython-input-1-c26e2ff04dde>:47: RuntimeWarning: overflow encountered in exp\n",
      "  return M*(1- np.exp(-alpha*xdata/M))\n",
      " 56%|████████████████████████████████████████████▉                                   | 142/253 [00:42<00:32,  3.38it/s]<ipython-input-1-c26e2ff04dde>:47: RuntimeWarning: overflow encountered in exp\n",
      "  return M*(1- np.exp(-alpha*xdata/M))\n",
      " 57%|█████████████████████████████████████████████▏                                  | 143/253 [00:43<00:33,  3.29it/s]<ipython-input-1-c26e2ff04dde>:47: RuntimeWarning: overflow encountered in exp\n",
      "  return M*(1- np.exp(-alpha*xdata/M))\n",
      " 57%|█████████████████████████████████████████████▌                                  | 144/253 [00:43<00:32,  3.37it/s]<ipython-input-1-c26e2ff04dde>:47: RuntimeWarning: overflow encountered in exp\n",
      "  return M*(1- np.exp(-alpha*xdata/M))\n",
      " 57%|█████████████████████████████████████████████▊                                  | 145/253 [00:43<00:31,  3.38it/s]<ipython-input-1-c26e2ff04dde>:47: RuntimeWarning: overflow encountered in exp\n",
      "  return M*(1- np.exp(-alpha*xdata/M))\n",
      " 58%|██████████████████████████████████████████████▏                                 | 146/253 [00:44<00:32,  3.32it/s]<ipython-input-1-c26e2ff04dde>:47: RuntimeWarning: overflow encountered in exp\n",
      "  return M*(1- np.exp(-alpha*xdata/M))\n",
      " 58%|██████████████████████████████████████████████▍                                 | 147/253 [00:44<00:31,  3.34it/s]<ipython-input-1-c26e2ff04dde>:47: RuntimeWarning: overflow encountered in exp\n",
      "  return M*(1- np.exp(-alpha*xdata/M))\n",
      " 58%|██████████████████████████████████████████████▊                                 | 148/253 [00:44<00:31,  3.35it/s]<ipython-input-1-c26e2ff04dde>:47: RuntimeWarning: overflow encountered in exp\n",
      "  return M*(1- np.exp(-alpha*xdata/M))\n",
      " 59%|███████████████████████████████████████████████▍                                | 150/253 [00:45<00:31,  3.28it/s]<ipython-input-1-c26e2ff04dde>:47: RuntimeWarning: overflow encountered in exp\n",
      "  return M*(1- np.exp(-alpha*xdata/M))\n",
      " 60%|████████████████████████████████████████████████                                | 152/253 [00:45<00:29,  3.38it/s]<ipython-input-1-c26e2ff04dde>:47: RuntimeWarning: overflow encountered in exp\n",
      "  return M*(1- np.exp(-alpha*xdata/M))\n",
      " 60%|████████████████████████████████████████████████▍                               | 153/253 [00:46<00:30,  3.27it/s]<ipython-input-1-c26e2ff04dde>:47: RuntimeWarning: overflow encountered in exp\n",
      "  return M*(1- np.exp(-alpha*xdata/M))\n",
      " 61%|████████████████████████████████████████████████▋                               | 154/253 [00:46<00:29,  3.36it/s]<ipython-input-1-c26e2ff04dde>:47: RuntimeWarning: overflow encountered in exp\n",
      "  return M*(1- np.exp(-alpha*xdata/M))\n",
      " 61%|█████████████████████████████████████████████████                               | 155/253 [00:46<00:29,  3.34it/s]<ipython-input-1-c26e2ff04dde>:47: RuntimeWarning: overflow encountered in exp\n",
      "  return M*(1- np.exp(-alpha*xdata/M))\n",
      " 62%|█████████████████████████████████████████████████▋                              | 157/253 [00:47<00:27,  3.44it/s]<ipython-input-1-c26e2ff04dde>:47: RuntimeWarning: overflow encountered in exp\n",
      "  return M*(1- np.exp(-alpha*xdata/M))\n",
      " 62%|█████████████████████████████████████████████████▉                              | 158/253 [00:47<00:27,  3.47it/s]<ipython-input-1-c26e2ff04dde>:47: RuntimeWarning: overflow encountered in exp\n",
      "  return M*(1- np.exp(-alpha*xdata/M))\n",
      " 63%|██████████████████████████████████████████████████▎                             | 159/253 [00:48<00:27,  3.37it/s]<ipython-input-1-c26e2ff04dde>:47: RuntimeWarning: overflow encountered in exp\n",
      "  return M*(1- np.exp(-alpha*xdata/M))\n",
      " 63%|██████████████████████████████████████████████████▌                             | 160/253 [00:48<00:27,  3.33it/s]<ipython-input-1-c26e2ff04dde>:47: RuntimeWarning: overflow encountered in exp\n",
      "  return M*(1- np.exp(-alpha*xdata/M))\n",
      " 64%|██████████████████████████████████████████████████▉                             | 161/253 [00:48<00:27,  3.33it/s]<ipython-input-1-c26e2ff04dde>:47: RuntimeWarning: overflow encountered in exp\n",
      "  return M*(1- np.exp(-alpha*xdata/M))\n",
      " 64%|███████████████████████████████████████████████████▏                            | 162/253 [00:48<00:27,  3.26it/s]<ipython-input-1-c26e2ff04dde>:47: RuntimeWarning: overflow encountered in exp\n",
      "  return M*(1- np.exp(-alpha*xdata/M))\n",
      " 64%|███████████████████████████████████████████████████▌                            | 163/253 [00:49<00:27,  3.23it/s]<ipython-input-1-c26e2ff04dde>:47: RuntimeWarning: overflow encountered in exp\n",
      "  return M*(1- np.exp(-alpha*xdata/M))\n",
      " 65%|███████████████████████████████████████████████████▊                            | 164/253 [00:49<00:27,  3.28it/s]<ipython-input-1-c26e2ff04dde>:47: RuntimeWarning: overflow encountered in exp\n",
      "  return M*(1- np.exp(-alpha*xdata/M))\n",
      " 65%|████████████████████████████████████████████████████▏                           | 165/253 [00:49<00:26,  3.28it/s]<ipython-input-1-c26e2ff04dde>:47: RuntimeWarning: overflow encountered in exp\n",
      "  return M*(1- np.exp(-alpha*xdata/M))\n",
      " 66%|████████████████████████████████████████████████████▍                           | 166/253 [00:50<00:27,  3.18it/s]<ipython-input-1-c26e2ff04dde>:47: RuntimeWarning: overflow encountered in exp\n",
      "  return M*(1- np.exp(-alpha*xdata/M))\n",
      " 66%|████████████████████████████████████████████████████▊                           | 167/253 [00:50<00:26,  3.19it/s]<ipython-input-1-c26e2ff04dde>:47: RuntimeWarning: overflow encountered in exp\n",
      "  return M*(1- np.exp(-alpha*xdata/M))\n",
      " 66%|█████████████████████████████████████████████████████                           | 168/253 [00:50<00:26,  3.24it/s]<ipython-input-1-c26e2ff04dde>:47: RuntimeWarning: overflow encountered in exp\n",
      "  return M*(1- np.exp(-alpha*xdata/M))\n",
      " 67%|█████████████████████████████████████████████████████▊                          | 170/253 [00:51<00:24,  3.33it/s]<ipython-input-1-c26e2ff04dde>:47: RuntimeWarning: overflow encountered in exp\n",
      "  return M*(1- np.exp(-alpha*xdata/M))\n",
      " 68%|██████████████████████████████████████████████████████                          | 171/253 [00:51<00:24,  3.32it/s]<ipython-input-1-c26e2ff04dde>:47: RuntimeWarning: overflow encountered in exp\n",
      "  return M*(1- np.exp(-alpha*xdata/M))\n",
      " 68%|██████████████████████████████████████████████████████▍                         | 172/253 [00:52<00:25,  3.20it/s]<ipython-input-1-c26e2ff04dde>:47: RuntimeWarning: overflow encountered in exp\n",
      "  return M*(1- np.exp(-alpha*xdata/M))\n",
      " 68%|██████████████████████████████████████████████████████▋                         | 173/253 [00:52<00:25,  3.16it/s]<ipython-input-1-c26e2ff04dde>:47: RuntimeWarning: overflow encountered in exp\n",
      "  return M*(1- np.exp(-alpha*xdata/M))\n",
      " 69%|███████████████████████████████████████████████████████                         | 174/253 [00:52<00:24,  3.20it/s]<ipython-input-1-c26e2ff04dde>:47: RuntimeWarning: overflow encountered in exp\n",
      "  return M*(1- np.exp(-alpha*xdata/M))\n",
      " 69%|███████████████████████████████████████████████████████▎                        | 175/253 [00:53<00:24,  3.18it/s]<ipython-input-1-c26e2ff04dde>:47: RuntimeWarning: overflow encountered in exp\n",
      "  return M*(1- np.exp(-alpha*xdata/M))\n",
      " 70%|███████████████████████████████████████████████████████▋                        | 176/253 [00:53<00:24,  3.16it/s]<ipython-input-1-c26e2ff04dde>:47: RuntimeWarning: overflow encountered in exp\n",
      "  return M*(1- np.exp(-alpha*xdata/M))\n",
      " 70%|███████████████████████████████████████████████████████▉                        | 177/253 [00:53<00:23,  3.28it/s]<ipython-input-1-c26e2ff04dde>:47: RuntimeWarning: overflow encountered in exp\n",
      "  return M*(1- np.exp(-alpha*xdata/M))\n",
      " 70%|████████████████████████████████████████████████████████▎                       | 178/253 [00:53<00:22,  3.31it/s]<ipython-input-1-c26e2ff04dde>:47: RuntimeWarning: overflow encountered in exp\n",
      "  return M*(1- np.exp(-alpha*xdata/M))\n",
      " 71%|████████████████████████████████████████████████████████▉                       | 180/253 [00:54<00:21,  3.40it/s]<ipython-input-1-c26e2ff04dde>:47: RuntimeWarning: overflow encountered in exp\n",
      "  return M*(1- np.exp(-alpha*xdata/M))\n",
      " 72%|█████████████████████████████████████████████████████████▏                      | 181/253 [00:54<00:21,  3.37it/s]<ipython-input-1-c26e2ff04dde>:47: RuntimeWarning: overflow encountered in exp\n",
      "  return M*(1- np.exp(-alpha*xdata/M))\n",
      " 72%|█████████████████████████████████████████████████████████▌                      | 182/253 [00:55<00:21,  3.27it/s]<ipython-input-1-c26e2ff04dde>:47: RuntimeWarning: overflow encountered in exp\n",
      "  return M*(1- np.exp(-alpha*xdata/M))\n",
      " 72%|█████████████████████████████████████████████████████████▊                      | 183/253 [00:55<00:21,  3.24it/s]<ipython-input-1-c26e2ff04dde>:47: RuntimeWarning: overflow encountered in exp\n",
      "  return M*(1- np.exp(-alpha*xdata/M))\n",
      " 73%|██████████████████████████████████████████████████████████▏                     | 184/253 [00:55<00:21,  3.24it/s]<ipython-input-1-c26e2ff04dde>:47: RuntimeWarning: overflow encountered in exp\n",
      "  return M*(1- np.exp(-alpha*xdata/M))\n",
      " 73%|██████████████████████████████████████████████████████████▍                     | 185/253 [00:56<00:21,  3.21it/s]<ipython-input-1-c26e2ff04dde>:47: RuntimeWarning: overflow encountered in exp\n",
      "  return M*(1- np.exp(-alpha*xdata/M))\n",
      " 74%|██████████████████████████████████████████████████████████▊                     | 186/253 [00:56<00:21,  3.19it/s]<ipython-input-1-c26e2ff04dde>:47: RuntimeWarning: overflow encountered in exp\n",
      "  return M*(1- np.exp(-alpha*xdata/M))\n",
      " 74%|███████████████████████████████████████████████████████████▏                    | 187/253 [00:56<00:20,  3.20it/s]<ipython-input-1-c26e2ff04dde>:47: RuntimeWarning: overflow encountered in exp\n",
      "  return M*(1- np.exp(-alpha*xdata/M))\n",
      " 75%|███████████████████████████████████████████████████████████▊                    | 189/253 [00:57<00:19,  3.26it/s]<ipython-input-1-c26e2ff04dde>:47: RuntimeWarning: overflow encountered in exp\n",
      "  return M*(1- np.exp(-alpha*xdata/M))\n",
      " 75%|████████████████████████████████████████████████████████████                    | 190/253 [00:57<00:19,  3.31it/s]<ipython-input-1-c26e2ff04dde>:47: RuntimeWarning: overflow encountered in exp\n",
      "  return M*(1- np.exp(-alpha*xdata/M))\n",
      " 75%|████████████████████████████████████████████████████████████▍                   | 191/253 [00:57<00:18,  3.29it/s]<ipython-input-1-c26e2ff04dde>:47: RuntimeWarning: overflow encountered in exp\n",
      "  return M*(1- np.exp(-alpha*xdata/M))\n",
      " 76%|████████████████████████████████████████████████████████████▋                   | 192/253 [00:58<00:18,  3.22it/s]<ipython-input-1-c26e2ff04dde>:47: RuntimeWarning: overflow encountered in exp\n",
      "  return M*(1- np.exp(-alpha*xdata/M))\n",
      " 76%|█████████████████████████████████████████████████████████████                   | 193/253 [00:58<00:18,  3.33it/s]<ipython-input-1-c26e2ff04dde>:47: RuntimeWarning: overflow encountered in exp\n",
      "  return M*(1- np.exp(-alpha*xdata/M))\n",
      " 77%|█████████████████████████████████████████████████████████████▎                  | 194/253 [00:58<00:17,  3.34it/s]<ipython-input-1-c26e2ff04dde>:47: RuntimeWarning: overflow encountered in exp\n",
      "  return M*(1- np.exp(-alpha*xdata/M))\n",
      " 77%|█████████████████████████████████████████████████████████████▋                  | 195/253 [00:59<00:17,  3.29it/s]<ipython-input-1-c26e2ff04dde>:47: RuntimeWarning: overflow encountered in exp\n",
      "  return M*(1- np.exp(-alpha*xdata/M))\n",
      " 77%|█████████████████████████████████████████████████████████████▉                  | 196/253 [00:59<00:17,  3.28it/s]<ipython-input-1-c26e2ff04dde>:47: RuntimeWarning: overflow encountered in exp\n",
      "  return M*(1- np.exp(-alpha*xdata/M))\n",
      " 78%|██████████████████████████████████████████████████████████████▎                 | 197/253 [00:59<00:17,  3.28it/s]<ipython-input-1-c26e2ff04dde>:47: RuntimeWarning: overflow encountered in exp\n",
      "  return M*(1- np.exp(-alpha*xdata/M))\n",
      " 78%|██████████████████████████████████████████████████████████████▌                 | 198/253 [01:00<00:17,  3.22it/s]<ipython-input-1-c26e2ff04dde>:47: RuntimeWarning: overflow encountered in exp\n",
      "  return M*(1- np.exp(-alpha*xdata/M))\n",
      " 79%|██████████████████████████████████████████████████████████████▉                 | 199/253 [01:00<00:16,  3.23it/s]<ipython-input-1-c26e2ff04dde>:47: RuntimeWarning: overflow encountered in exp\n",
      "  return M*(1- np.exp(-alpha*xdata/M))\n",
      " 79%|███████████████████████████████████████████████████████████████▏                | 200/253 [01:00<00:16,  3.28it/s]<ipython-input-1-c26e2ff04dde>:47: RuntimeWarning: overflow encountered in exp\n",
      "  return M*(1- np.exp(-alpha*xdata/M))\n",
      " 80%|████████████████████████████████████████████████████████████████▏               | 203/253 [01:01<00:14,  3.48it/s]<ipython-input-1-c26e2ff04dde>:47: RuntimeWarning: overflow encountered in exp\n",
      "  return M*(1- np.exp(-alpha*xdata/M))\n",
      " 81%|████████████████████████████████████████████████████████████████▌               | 204/253 [01:01<00:14,  3.38it/s]<ipython-input-1-c26e2ff04dde>:47: RuntimeWarning: overflow encountered in exp\n",
      "  return M*(1- np.exp(-alpha*xdata/M))\n",
      " 81%|█████████████████████████████████████████████████████████████████▏              | 206/253 [01:02<00:13,  3.45it/s]<ipython-input-1-c26e2ff04dde>:47: RuntimeWarning: overflow encountered in exp\n",
      "  return M*(1- np.exp(-alpha*xdata/M))\n",
      " 82%|█████████████████████████████████████████████████████████████████▍              | 207/253 [01:02<00:13,  3.44it/s]<ipython-input-1-c26e2ff04dde>:47: RuntimeWarning: overflow encountered in exp\n",
      "  return M*(1- np.exp(-alpha*xdata/M))\n",
      " 82%|█████████████████████████████████████████████████████████████████▊              | 208/253 [01:03<00:13,  3.34it/s]<ipython-input-1-c26e2ff04dde>:47: RuntimeWarning: overflow encountered in exp\n",
      "  return M*(1- np.exp(-alpha*xdata/M))\n",
      " 83%|██████████████████████████████████████████████████████████████████▍             | 210/253 [01:03<00:12,  3.45it/s]<ipython-input-1-c26e2ff04dde>:47: RuntimeWarning: overflow encountered in exp\n",
      "  return M*(1- np.exp(-alpha*xdata/M))\n",
      " 84%|███████████████████████████████████████████████████████████████████             | 212/253 [01:04<00:12,  3.37it/s]<ipython-input-1-c26e2ff04dde>:47: RuntimeWarning: overflow encountered in exp\n",
      "  return M*(1- np.exp(-alpha*xdata/M))\n",
      " 85%|███████████████████████████████████████████████████████████████████▋            | 214/253 [01:04<00:10,  3.55it/s]<ipython-input-1-c26e2ff04dde>:47: RuntimeWarning: overflow encountered in exp\n",
      "  return M*(1- np.exp(-alpha*xdata/M))\n",
      " 85%|███████████████████████████████████████████████████████████████████▉            | 215/253 [01:05<00:11,  3.41it/s]<ipython-input-1-c26e2ff04dde>:47: RuntimeWarning: overflow encountered in exp\n",
      "  return M*(1- np.exp(-alpha*xdata/M))\n",
      " 85%|████████████████████████████████████████████████████████████████████▎           | 216/253 [01:05<00:11,  3.32it/s]<ipython-input-1-c26e2ff04dde>:47: RuntimeWarning: overflow encountered in exp\n",
      "  return M*(1- np.exp(-alpha*xdata/M))\n",
      " 86%|████████████████████████████████████████████████████████████████████▉           | 218/253 [01:05<00:10,  3.40it/s]<ipython-input-1-c26e2ff04dde>:47: RuntimeWarning: overflow encountered in exp\n",
      "  return M*(1- np.exp(-alpha*xdata/M))\n",
      " 87%|█████████████████████████████████████████████████████████████████████▏          | 219/253 [01:06<00:10,  3.27it/s]<ipython-input-1-c26e2ff04dde>:47: RuntimeWarning: overflow encountered in exp\n",
      "  return M*(1- np.exp(-alpha*xdata/M))\n",
      " 87%|█████████████████████████████████████████████████████████████████████▌          | 220/253 [01:06<00:09,  3.31it/s]<ipython-input-1-c26e2ff04dde>:47: RuntimeWarning: overflow encountered in exp\n",
      "  return M*(1- np.exp(-alpha*xdata/M))\n",
      " 87%|█████████████████████████████████████████████████████████████████████▉          | 221/253 [01:06<00:09,  3.31it/s]<ipython-input-1-c26e2ff04dde>:47: RuntimeWarning: overflow encountered in exp\n",
      "  return M*(1- np.exp(-alpha*xdata/M))\n",
      " 88%|██████████████████████████████████████████████████████████████████████▏         | 222/253 [01:07<00:09,  3.21it/s]<ipython-input-1-c26e2ff04dde>:47: RuntimeWarning: overflow encountered in exp\n",
      "  return M*(1- np.exp(-alpha*xdata/M))\n",
      " 88%|██████████████████████████████████████████████████████████████████████▌         | 223/253 [01:07<00:09,  3.27it/s]<ipython-input-1-c26e2ff04dde>:47: RuntimeWarning: overflow encountered in exp\n",
      "  return M*(1- np.exp(-alpha*xdata/M))\n",
      " 89%|██████████████████████████████████████████████████████████████████████▊         | 224/253 [01:07<00:08,  3.30it/s]<ipython-input-1-c26e2ff04dde>:47: RuntimeWarning: overflow encountered in exp\n",
      "  return M*(1- np.exp(-alpha*xdata/M))\n",
      " 89%|███████████████████████████████████████████████████████████████████████▏        | 225/253 [01:08<00:08,  3.24it/s]<ipython-input-1-c26e2ff04dde>:47: RuntimeWarning: overflow encountered in exp\n",
      "  return M*(1- np.exp(-alpha*xdata/M))\n",
      " 89%|███████████████████████████████████████████████████████████████████████▍        | 226/253 [01:08<00:08,  3.22it/s]<ipython-input-1-c26e2ff04dde>:47: RuntimeWarning: overflow encountered in exp\n",
      "  return M*(1- np.exp(-alpha*xdata/M))\n",
      " 90%|███████████████████████████████████████████████████████████████████████▊        | 227/253 [01:08<00:07,  3.25it/s]<ipython-input-1-c26e2ff04dde>:47: RuntimeWarning: overflow encountered in exp\n",
      "  return M*(1- np.exp(-alpha*xdata/M))\n",
      " 90%|████████████████████████████████████████████████████████████████████████        | 228/253 [01:09<00:07,  3.27it/s]<ipython-input-1-c26e2ff04dde>:47: RuntimeWarning: overflow encountered in exp\n",
      "  return M*(1- np.exp(-alpha*xdata/M))\n",
      " 91%|████████████████████████████████████████████████████████████████████████▍       | 229/253 [01:09<00:07,  3.21it/s]<ipython-input-1-c26e2ff04dde>:47: RuntimeWarning: overflow encountered in exp\n",
      "  return M*(1- np.exp(-alpha*xdata/M))\n",
      " 91%|████████████████████████████████████████████████████████████████████████▋       | 230/253 [01:09<00:07,  3.29it/s]<ipython-input-1-c26e2ff04dde>:47: RuntimeWarning: overflow encountered in exp\n",
      "  return M*(1- np.exp(-alpha*xdata/M))\n",
      " 92%|█████████████████████████████████████████████████████████████████████████▎      | 232/253 [01:10<00:06,  3.33it/s]<ipython-input-1-c26e2ff04dde>:47: RuntimeWarning: overflow encountered in exp\n",
      "  return M*(1- np.exp(-alpha*xdata/M))\n",
      " 92%|█████████████████████████████████████████████████████████████████████████▋      | 233/253 [01:10<00:06,  3.29it/s]<ipython-input-1-c26e2ff04dde>:47: RuntimeWarning: overflow encountered in exp\n",
      "  return M*(1- np.exp(-alpha*xdata/M))\n",
      " 92%|█████████████████████████████████████████████████████████████████████████▉      | 234/253 [01:10<00:05,  3.24it/s]<ipython-input-1-c26e2ff04dde>:47: RuntimeWarning: overflow encountered in exp\n",
      "  return M*(1- np.exp(-alpha*xdata/M))\n",
      " 93%|██████████████████████████████████████████████████████████████████████████▌     | 236/253 [01:11<00:05,  3.07it/s]<ipython-input-1-c26e2ff04dde>:47: RuntimeWarning: overflow encountered in exp\n",
      "  return M*(1- np.exp(-alpha*xdata/M))\n",
      " 94%|███████████████████████████████████████████████████████████████████████████▎    | 238/253 [01:12<00:04,  3.11it/s]<ipython-input-1-c26e2ff04dde>:47: RuntimeWarning: overflow encountered in exp\n",
      "  return M*(1- np.exp(-alpha*xdata/M))\n",
      " 94%|███████████████████████████████████████████████████████████████████████████▌    | 239/253 [01:12<00:04,  3.16it/s]<ipython-input-1-c26e2ff04dde>:47: RuntimeWarning: overflow encountered in exp\n",
      "  return M*(1- np.exp(-alpha*xdata/M))\n",
      " 95%|███████████████████████████████████████████████████████████████████████████▉    | 240/253 [01:12<00:04,  3.15it/s]<ipython-input-1-c26e2ff04dde>:47: RuntimeWarning: overflow encountered in exp\n",
      "  return M*(1- np.exp(-alpha*xdata/M))\n",
      " 95%|████████████████████████████████████████████████████████████████████████████▏   | 241/253 [01:13<00:03,  3.05it/s]<ipython-input-1-c26e2ff04dde>:47: RuntimeWarning: overflow encountered in exp\n",
      "  return M*(1- np.exp(-alpha*xdata/M))\n",
      " 96%|████████████████████████████████████████████████████████████████████████████▌   | 242/253 [01:13<00:03,  3.14it/s]<ipython-input-1-c26e2ff04dde>:47: RuntimeWarning: overflow encountered in exp\n",
      "  return M*(1- np.exp(-alpha*xdata/M))\n",
      " 96%|█████████████████████████████████████████████████████████████████████████████▏  | 244/253 [01:14<00:02,  3.12it/s]<ipython-input-1-c26e2ff04dde>:47: RuntimeWarning: overflow encountered in exp\n",
      "  return M*(1- np.exp(-alpha*xdata/M))\n",
      " 97%|█████████████████████████████████████████████████████████████████████████████▍  | 245/253 [01:14<00:02,  3.16it/s]<ipython-input-1-c26e2ff04dde>:47: RuntimeWarning: overflow encountered in exp\n",
      "  return M*(1- np.exp(-alpha*xdata/M))\n",
      " 98%|██████████████████████████████████████████████████████████████████████████████▍ | 248/253 [01:15<00:01,  3.35it/s]<ipython-input-1-c26e2ff04dde>:47: RuntimeWarning: overflow encountered in exp\n",
      "  return M*(1- np.exp(-alpha*xdata/M))\n",
      " 99%|███████████████████████████████████████████████████████████████████████████████ | 250/253 [01:15<00:00,  3.25it/s]<ipython-input-1-c26e2ff04dde>:47: RuntimeWarning: overflow encountered in exp\n",
      "  return M*(1- np.exp(-alpha*xdata/M))\n",
      "100%|███████████████████████████████████████████████████████████████████████████████▋| 252/253 [01:16<00:00,  3.31it/s]<ipython-input-1-c26e2ff04dde>:47: RuntimeWarning: overflow encountered in exp\n",
      "  return M*(1- np.exp(-alpha*xdata/M))\n",
      "100%|████████████████████████████████████████████████████████████████████████████████| 253/253 [01:16<00:00,  3.29it/s]\n"
     ]
    }
   ],
   "source": [
    "\n",
    "FD_tot = []\n",
    "I_tot = []\n",
    "x0 = [0.2, 5e-6]\n",
    "fig, axs = plt.subplots(2, 2, figsize=(10, 20))\n",
    "\n",
    "\n",
    "ek_values = {}\n",
    "M_values = {}\n",
    "A3 = {}\n",
    "algae_list = list(items_dict.keys())[1:]\n",
    "result_rupture = copy.copy(mask)*0\n",
    "for P in [5]:#[len(algae_list)]:#[8, 10, 12, 15, 18, 20, 25, 30, 35, 40, 60, 90, 120, 180, 200, 250, 300, 400, 500, 600, 700]:\n",
    "    ek_values[P] = []\n",
    "    M_values[P] = []\n",
    "    A3[P] = []\n",
    "    #for algae in random.sample(algae_list, P):\n",
    "    for algae in tqdm(algae_list):\n",
    "        #if int(algae):# in ['1', '80', '400', '250']:\n",
    "            i = 0\n",
    "            I = []\n",
    "            I_image = []\n",
    "            FD = []\n",
    "            for f in data.keys():\n",
    "                for amp in data[f].keys():\n",
    "                    image_intensity = Intensity * V.get_intensity_voltage('blue', f, amp/100)*1e6/med_image\n",
    "\n",
    "\n",
    "                    x_coords =  items_dict['0']['x_coords']\n",
    "                    y_coords =  items_dict['0']['y_coords']\n",
    "                    video = data[f][amp]['video']\n",
    "                    output = data[f][amp]['output']\n",
    "                    threshold = np.mean(video[0, x_coords, y_coords])\n",
    "\n",
    "                    x_coords =  items_dict[algae]['x_coords']\n",
    "                    y_coords =  items_dict[algae]['y_coords']\n",
    "                    video = data[f][amp]['video']\n",
    "                    output = data[f][amp]['output']\n",
    "                    algae_fluo = np.sum(video[9:11, x_coords, y_coords])\n",
    "                    \n",
    "                    intensity = image_intensity[x_coords, y_coords].mean()\n",
    "                    if algae_fluo > 30:\n",
    "                        #print(f, amp)\n",
    "                        output_intensity = np.mean(output[0,:1000000])\n",
    "                        I.append(output_intensity)\n",
    "                        I_image.append(intensity)\n",
    "                        #I.append(1e6*voltint.get_intensity_MPPC('blue', f,np.mean(output[0,:1000000])))#np.mean(output[0]))\n",
    "                        FD.append(algae_fluo)\n",
    "                        i += 1\n",
    "                        #plt.plot(np.mean(video[:,x_coords, y_coords], axis = 1))\n",
    "                    \n",
    "                    else:\n",
    "                        i+=1\n",
    "                        \n",
    "            A3[P].append(algae_fluo/intensity)\n",
    "            I = np.array(I)\n",
    "            I_image = np.array(I_image)\n",
    "            I_tot.append(I_image)\n",
    "            FD = np.array(FD)#/max(FD) \n",
    "            FD_tot.append(FD)\n",
    "            parameters_estimated = optimize.least_squares(residuals,  x0, bounds = (-1e8,1e8),\n",
    "                                            args = (I_image, FD/I, platt))\n",
    "            (M, ek) = parameters_estimated.x\n",
    "            ek_values[P].append(ek)\n",
    "            M_values[P].append(M)\n",
    "            result_rupture[mask==int(algae)] = M/ek\n",
    "\n",
    "            \n",
    "            axs[0][1].plot(I_image, platt(parameters_estimated.x, I_image), '-')\n",
    "            axs[0][0].plot(I_image, FD, '--o')\n",
    "            #axs[0][0].set_xlim(0,0.15)\n",
    "            #axs[0][0].set_ylim(0,22)\n",
    "\n",
    "            axs[0][0].set_title(\"FD\")\n",
    "            axs[0][1].plot(I_image, FD/I, '--o')\n",
    "            axs[0][1].set_title(\"FD/I\")\n",
    "\n",
    "            #plt.ylim(0,10)\n",
    "\n",
    "    ek = np.array(ek_values[P])\n",
    "    M = np.array(M_values[P])\n",
    "    indices = (M/ek)<1e2\n",
    "    plt.scatter(P, np.std(M[indices]/ek[indices]))\n"
   ]
  },
  {
   "cell_type": "code",
   "execution_count": 20,
   "metadata": {},
   "outputs": [
    {
     "data": {
      "application/vnd.jupyter.widget-view+json": {
       "model_id": "47eeff3cc6c24d879315bcddb2f17c71",
       "version_major": 2,
       "version_minor": 0
      },
      "text/plain": [
       "Canvas(toolbar=Toolbar(toolitems=[('Home', 'Reset original view', 'home', 'home'), ('Back', 'Back to previous …"
      ]
     },
     "metadata": {},
     "output_type": "display_data"
    },
    {
     "name": "stdout",
     "output_type": "stream",
     "text": [
      "[-1.11694723e-01  5.04987095e-01  1.41146839e+00  2.29574177e+00\n",
      "  2.87294238e+00  4.27293849e+00  5.61165927e+00  6.88929865e+00\n",
      "  8.10604190e+00  9.26206565e+00 -9.66554101e-01  4.36992308e+00\n",
      "  1.22141899e+01  1.98662798e+01  2.48611051e+01  3.69760192e+01\n",
      "  4.85606852e+01  5.96167813e+01  7.01459106e+01  8.01496016e+01\n",
      " -3.45706470e+00  1.56298616e+01  4.36863750e+01  7.10555309e+01\n",
      "  8.89204741e+01  1.32251770e+02  1.73686533e+02  2.13230765e+02\n",
      "  2.50890200e+02  2.86670305e+02]\n",
      "[  0   2   3   4   5   6   7   8   9  10  11  12  13  14  15  16  17  18\n",
      "  19  20  21  22  23  25  27  29  30  39  42  49  51  55  57  61  68  69\n",
      "  72  75 101 174]\n"
     ]
    }
   ],
   "source": [
    "plt.figure(figsize=(5,5))\n",
    "plt.imshow(result_rupture)\n",
    "print(I_image)\n",
    "print(np.unique(result_rupture))"
   ]
  },
  {
   "cell_type": "code",
   "execution_count": 23,
   "metadata": {},
   "outputs": [
    {
     "ename": "NameError",
     "evalue": "name 'video_zone' is not defined",
     "output_type": "error",
     "traceback": [
      "\u001b[1;31m---------------------------------------------------------------------------\u001b[0m",
      "\u001b[1;31mNameError\u001b[0m                                 Traceback (most recent call last)",
      "\u001b[1;32m<ipython-input-23-c41eb4bba31d>\u001b[0m in \u001b[0;36m<module>\u001b[1;34m\u001b[0m\n\u001b[0;32m      1\u001b[0m \u001b[0mstart\u001b[0m \u001b[1;33m=\u001b[0m \u001b[1;36m8\u001b[0m\u001b[1;33m\u001b[0m\u001b[1;33m\u001b[0m\u001b[0m\n\u001b[1;32m----> 2\u001b[1;33m \u001b[0mvideo_list\u001b[0m \u001b[1;33m=\u001b[0m  \u001b[0mvideo_zone\u001b[0m\u001b[1;33m\u001b[0m\u001b[1;33m\u001b[0m\u001b[0m\n\u001b[0m\u001b[0;32m      3\u001b[0m \u001b[0mtime_list\u001b[0m \u001b[1;33m=\u001b[0m  \u001b[0mtime_zone\u001b[0m\u001b[1;33m\u001b[0m\u001b[1;33m\u001b[0m\u001b[0m\n\u001b[0;32m      4\u001b[0m \u001b[0mclick_to_graph\u001b[0m\u001b[1;33m(\u001b[0m\u001b[0mmask\u001b[0m\u001b[1;33m,\u001b[0m \u001b[0mnp\u001b[0m\u001b[1;33m.\u001b[0m\u001b[0mlog\u001b[0m\u001b[1;33m(\u001b[0m\u001b[0mim_tau_high\u001b[0m\u001b[1;33m)\u001b[0m\u001b[1;33m,\u001b[0m\u001b[0mvideo_list\u001b[0m\u001b[1;33m,\u001b[0m\u001b[0mtime_list\u001b[0m\u001b[1;33m,\u001b[0m \u001b[0mget_fit\u001b[0m\u001b[1;33m,\u001b[0m \u001b[0mclipit\u001b[0m\u001b[1;33m=\u001b[0m\u001b[1;32mFalse\u001b[0m\u001b[1;33m,\u001b[0m \u001b[0mfigsize\u001b[0m \u001b[1;33m=\u001b[0m \u001b[1;33m(\u001b[0m\u001b[1;36m20\u001b[0m\u001b[1;33m,\u001b[0m \u001b[1;36m5\u001b[0m\u001b[1;33m)\u001b[0m\u001b[1;33m)\u001b[0m\u001b[1;33m\u001b[0m\u001b[1;33m\u001b[0m\u001b[0m\n",
      "\u001b[1;31mNameError\u001b[0m: name 'video_zone' is not defined"
     ]
    }
   ],
   "source": [
    "start = 8\n",
    "video_list =  video_zone\n",
    "time_list =  time_zone\n",
    "click_to_graph(mask, np.log(im_tau_high),video_list,time_list, get_fit, clipit=False, figsize = (20, 5))"
   ]
  },
  {
   "cell_type": "code",
   "execution_count": 21,
   "metadata": {},
   "outputs": [
    {
     "name": "stderr",
     "output_type": "stream",
     "text": [
      "<ipython-input-21-a92af4cdcfb1>:1: VisibleDeprecationWarning: Creating an ndarray from ragged nested sequences (which is a list-or-tuple of lists-or-tuples-or ndarrays with different lengths or shapes) is deprecated. If you meant to do this, you must specify 'dtype=object' when creating the ndarray.\n",
      "  u = np.array(FD_tot)\n"
     ]
    },
    {
     "ename": "ValueError",
     "evalue": "operands could not be broadcast together with shapes (30,) (28,) ",
     "output_type": "error",
     "traceback": [
      "\u001b[1;31m---------------------------------------------------------------------------\u001b[0m",
      "\u001b[1;31mValueError\u001b[0m                                Traceback (most recent call last)",
      "\u001b[1;32m<ipython-input-21-a92af4cdcfb1>\u001b[0m in \u001b[0;36m<module>\u001b[1;34m\u001b[0m\n\u001b[0;32m      1\u001b[0m \u001b[0mu\u001b[0m \u001b[1;33m=\u001b[0m \u001b[0mnp\u001b[0m\u001b[1;33m.\u001b[0m\u001b[0marray\u001b[0m\u001b[1;33m(\u001b[0m\u001b[0mFD_tot\u001b[0m\u001b[1;33m)\u001b[0m\u001b[1;33m\u001b[0m\u001b[1;33m\u001b[0m\u001b[0m\n\u001b[1;32m----> 2\u001b[1;33m \u001b[0mFD_m\u001b[0m \u001b[1;33m=\u001b[0m \u001b[0mnp\u001b[0m\u001b[1;33m.\u001b[0m\u001b[0mmean\u001b[0m\u001b[1;33m(\u001b[0m\u001b[0mu\u001b[0m\u001b[1;33m,\u001b[0m \u001b[0maxis\u001b[0m \u001b[1;33m=\u001b[0m \u001b[1;36m0\u001b[0m\u001b[1;33m)\u001b[0m\u001b[1;33m\u001b[0m\u001b[1;33m\u001b[0m\u001b[0m\n\u001b[0m\u001b[0;32m      3\u001b[0m \u001b[0mI_m\u001b[0m \u001b[1;33m=\u001b[0m \u001b[0mnp\u001b[0m\u001b[1;33m.\u001b[0m\u001b[0mcopy\u001b[0m\u001b[1;33m(\u001b[0m\u001b[0mI\u001b[0m\u001b[1;33m)\u001b[0m\u001b[1;33m\u001b[0m\u001b[1;33m\u001b[0m\u001b[0m\n\u001b[0;32m      4\u001b[0m \u001b[0mindices\u001b[0m \u001b[1;33m=\u001b[0m \u001b[1;33m(\u001b[0m\u001b[0mFD_m\u001b[0m \u001b[1;33m<\u001b[0m \u001b[1;36m250\u001b[0m\u001b[1;33m)\u001b[0m\u001b[1;33m*\u001b[0m\u001b[1;33m(\u001b[0m\u001b[0mFD_m\u001b[0m\u001b[1;33m>\u001b[0m\u001b[1;36m0.4\u001b[0m\u001b[1;33m)\u001b[0m\u001b[1;33m*\u001b[0m\u001b[1;33m(\u001b[0m\u001b[0mI_m\u001b[0m\u001b[1;33m>\u001b[0m\u001b[1;36m5e-4\u001b[0m\u001b[1;33m)\u001b[0m\u001b[1;33m*\u001b[0m\u001b[1;33m(\u001b[0m\u001b[0mI_m\u001b[0m\u001b[1;33m<\u001b[0m\u001b[1;36m2.8\u001b[0m\u001b[1;33m)\u001b[0m\u001b[1;33m\u001b[0m\u001b[1;33m\u001b[0m\u001b[0m\n\u001b[0;32m      5\u001b[0m \u001b[0mI_m\u001b[0m \u001b[1;33m=\u001b[0m \u001b[0mI_m\u001b[0m\u001b[1;33m[\u001b[0m\u001b[0mindices\u001b[0m\u001b[1;33m]\u001b[0m\u001b[1;33m\u001b[0m\u001b[1;33m\u001b[0m\u001b[0m\n",
      "\u001b[1;32m<__array_function__ internals>\u001b[0m in \u001b[0;36mmean\u001b[1;34m(*args, **kwargs)\u001b[0m\n",
      "\u001b[1;32m~\\anaconda3\\envs\\arduino\\lib\\site-packages\\numpy\\core\\fromnumeric.py\u001b[0m in \u001b[0;36mmean\u001b[1;34m(a, axis, dtype, out, keepdims, where)\u001b[0m\n\u001b[0;32m   3417\u001b[0m             \u001b[1;32mreturn\u001b[0m \u001b[0mmean\u001b[0m\u001b[1;33m(\u001b[0m\u001b[0maxis\u001b[0m\u001b[1;33m=\u001b[0m\u001b[0maxis\u001b[0m\u001b[1;33m,\u001b[0m \u001b[0mdtype\u001b[0m\u001b[1;33m=\u001b[0m\u001b[0mdtype\u001b[0m\u001b[1;33m,\u001b[0m \u001b[0mout\u001b[0m\u001b[1;33m=\u001b[0m\u001b[0mout\u001b[0m\u001b[1;33m,\u001b[0m \u001b[1;33m**\u001b[0m\u001b[0mkwargs\u001b[0m\u001b[1;33m)\u001b[0m\u001b[1;33m\u001b[0m\u001b[1;33m\u001b[0m\u001b[0m\n\u001b[0;32m   3418\u001b[0m \u001b[1;33m\u001b[0m\u001b[0m\n\u001b[1;32m-> 3419\u001b[1;33m     return _methods._mean(a, axis=axis, dtype=dtype,\n\u001b[0m\u001b[0;32m   3420\u001b[0m                           out=out, **kwargs)\n\u001b[0;32m   3421\u001b[0m \u001b[1;33m\u001b[0m\u001b[0m\n",
      "\u001b[1;32m~\\anaconda3\\envs\\arduino\\lib\\site-packages\\numpy\\core\\_methods.py\u001b[0m in \u001b[0;36m_mean\u001b[1;34m(a, axis, dtype, out, keepdims, where)\u001b[0m\n\u001b[0;32m    176\u001b[0m             \u001b[0mis_float16_result\u001b[0m \u001b[1;33m=\u001b[0m \u001b[1;32mTrue\u001b[0m\u001b[1;33m\u001b[0m\u001b[1;33m\u001b[0m\u001b[0m\n\u001b[0;32m    177\u001b[0m \u001b[1;33m\u001b[0m\u001b[0m\n\u001b[1;32m--> 178\u001b[1;33m     \u001b[0mret\u001b[0m \u001b[1;33m=\u001b[0m \u001b[0mumr_sum\u001b[0m\u001b[1;33m(\u001b[0m\u001b[0marr\u001b[0m\u001b[1;33m,\u001b[0m \u001b[0maxis\u001b[0m\u001b[1;33m,\u001b[0m \u001b[0mdtype\u001b[0m\u001b[1;33m,\u001b[0m \u001b[0mout\u001b[0m\u001b[1;33m,\u001b[0m \u001b[0mkeepdims\u001b[0m\u001b[1;33m,\u001b[0m \u001b[0mwhere\u001b[0m\u001b[1;33m=\u001b[0m\u001b[0mwhere\u001b[0m\u001b[1;33m)\u001b[0m\u001b[1;33m\u001b[0m\u001b[1;33m\u001b[0m\u001b[0m\n\u001b[0m\u001b[0;32m    179\u001b[0m     \u001b[1;32mif\u001b[0m \u001b[0misinstance\u001b[0m\u001b[1;33m(\u001b[0m\u001b[0mret\u001b[0m\u001b[1;33m,\u001b[0m \u001b[0mmu\u001b[0m\u001b[1;33m.\u001b[0m\u001b[0mndarray\u001b[0m\u001b[1;33m)\u001b[0m\u001b[1;33m:\u001b[0m\u001b[1;33m\u001b[0m\u001b[1;33m\u001b[0m\u001b[0m\n\u001b[0;32m    180\u001b[0m         ret = um.true_divide(\n",
      "\u001b[1;31mValueError\u001b[0m: operands could not be broadcast together with shapes (30,) (28,) "
     ]
    }
   ],
   "source": [
    "u = np.array(FD_tot)\n",
    "FD_m = np.mean(u, axis = 0)\n",
    "I_m = np.copy(I)\n",
    "indices = (FD_m < 250)*(FD_m>0.4)*(I_m>5e-4)*(I_m<2.8)\n",
    "I_m = I_m[indices]\n",
    "FD_m = FD_m[indices]\n",
    "plt.plot(I_m, FD_m/I_m, '.')"
   ]
  },
  {
   "cell_type": "code",
   "execution_count": 22,
   "metadata": {},
   "outputs": [
    {
     "data": {
      "text/plain": [
       "[<matplotlib.lines.Line2D at 0x26d861452e0>]"
      ]
     },
     "execution_count": 22,
     "metadata": {},
     "output_type": "execute_result"
    },
    {
     "data": {
      "image/png": "[encoded data removed]",
      "text/plain": [
       "<Figure size 432x288 with 1 Axes>"
      ]
     },
     "metadata": {
      "needs_background": "light"
     },
     "output_type": "display_data"
    }
   ],
   "source": [
    "test = []\n",
    "measure = []\n",
    "for f in data.keys():\n",
    "    for amp in data[f].keys():\n",
    "        output = data[f][amp]['output']\n",
    "        mppc = np.mean(output[0])\n",
    "        #test.append(voltint.get_MPPC_voltage('blue', f, amp/100))\n",
    "        test.append(voltint.get_intensity_MPPC('blue', f, mppc ))\n",
    "        measure.append(mppc)\n",
    "#plt.loglog(test, '.')\n",
    "plt.loglog(test, measure, '.')"
   ]
  },
  {
   "cell_type": "code",
   "execution_count": 20,
   "metadata": {},
   "outputs": [
    {
     "data": {
      "image/png": "[encoded data removed]",
      "text/plain": [
       "<Figure size 432x288 with 1 Axes>"
      ]
     },
     "metadata": {
      "needs_background": "light"
     },
     "output_type": "display_data"
    }
   ],
   "source": [
    "for P in list(ek_values.keys())[::-1]: \n",
    "    ek = np.array(ek_values[P])\n",
    "    M = np.array(M_values[P])\n",
    "    indices = (M/ek)<1e2\n",
    "    plt.hist(M[indices]/ek[indices], bins = 100)\n",
    "    #plt.hist(ek[indices], bins = 100)"
   ]
  },
  {
   "cell_type": "code",
   "execution_count": 81,
   "metadata": {},
   "outputs": [
    {
     "data": {
      "image/png": "[encoded data removed]",
      "text/plain": [
       "<Figure size 432x288 with 1 Axes>"
      ]
     },
     "metadata": {
      "needs_background": "light"
     },
     "output_type": "display_data"
    }
   ],
   "source": [
    "for P in list(ek_values.keys())[::-1]: \n",
    "    a3 = np.array(A3[P])\n",
    "    ek = np.array(ek_values[P])\n",
    "    M = np.array(M_values[P])\n",
    "    indices = (M/ek)<1e2\n",
    "    plt.scatter(P, np.std(M[indices]/ek[indices]))\n",
    "    #plt.scatter(P, np.sqrt(P)/2000, color = 'b')\n",
    "    #plt.scatter(P, np.std(a3))"
   ]
  },
  {
   "cell_type": "code",
   "execution_count": 38,
   "metadata": {},
   "outputs": [
    {
     "data": {
      "text/plain": [
       "[<matplotlib.lines.Line2D at 0x21fc9143eb0>]"
      ]
     },
     "execution_count": 38,
     "metadata": {},
     "output_type": "execute_result"
    },
    {
     "data": {
      "image/png": "[encoded data removed]",
      "text/plain": [
       "<Figure size 432x288 with 1 Axes>"
      ]
     },
     "metadata": {
      "needs_background": "light"
     },
     "output_type": "display_data"
    }
   ],
   "source": [
    "FD_mppc = []\n",
    "I_mppc = []\n",
    "i = 0\n",
    "x0 = [0.001, 0.0005/200]\n",
    "for f in data.keys():\n",
    "    for amp in data[f].keys():\n",
    "        if i > 0:\n",
    "            data_key = data[f][amp]\n",
    "            video = data_key[\"video\"]\n",
    "            output = data_key[\"output\"]\n",
    "            intensity = output[0, :1000000].mean()# - output[0, 1000000:].mean()\n",
    "            fluorescence1 = output[1, 150000:300000].mean() - output[1, 1050000:].mean()\n",
    "            fluorescence2 = output[1, 700000:9000000].mean() - output[1, 1050000:].mean()\n",
    "            fluorescence = output[1, :1000000].mean()\n",
    "            #plt.plot(intensity, fluorescence2/intensity, '.')\n",
    "            #intensity = voltint.get_intensity_MPPC('blue', f, np.mean(output[0,:1000000]))*1e6\n",
    "            #plt.loglog(intensity, fluorescence2/intensity, '.', color = \"r\")# col[f])\n",
    "            i += 1\n",
    "            I_mppc.append(intensity)\n",
    "            FD_mppc.append(fluorescence)\n",
    "        \n",
    "        else: \n",
    "            i+= 1\n",
    "\n",
    "I_mppc = np.array(I_mppc)\n",
    "FD_mppc = np.array(FD_mppc)\n",
    "\n",
    "indices = (FD_mppc < 2.8)*(FD_mppc>5e-4)*(I_mppc>5e-4)*(I_mppc<2.8)\n",
    "\n",
    "I_mppc = np.array(I_mppc)[indices]\n",
    "FD_mppc = np.array(FD_mppc)[indices]\n",
    "parameters_estimated = optimize.least_squares(residuals,  x0, bounds = (-1e5,1e5),\n",
    "                                        args = (I_mppc, FD_mppc/I_mppc, platt))\n",
    "(M, ek) = parameters_estimated.x\n",
    "plt.loglog(I_mppc, platt((M,ek), I_mppc))\n",
    "plt.loglog(I_mppc, FD_mppc/I_mppc, '.')\n"
   ]
  },
  {
   "cell_type": "code",
   "execution_count": 39,
   "metadata": {},
   "outputs": [
    {
     "data": {
      "text/plain": [
       "array([0.23036947, 0.41890978, 0.68758768])"
      ]
     },
     "execution_count": 39,
     "metadata": {},
     "output_type": "execute_result"
    }
   ],
   "source": [
    "I_mppc"
   ]
  },
  {
   "cell_type": "code",
   "execution_count": 40,
   "metadata": {},
   "outputs": [
    {
     "data": {
      "text/plain": [
       "[<matplotlib.lines.Line2D at 0x21fc7e2f5e0>]"
      ]
     },
     "execution_count": 40,
     "metadata": {},
     "output_type": "execute_result"
    },
    {
     "data": {
      "image/png": "[encoded data removed]",
      "text/plain": [
       "<Figure size 432x288 with 1 Axes>"
      ]
     },
     "metadata": {
      "needs_background": "light"
     },
     "output_type": "display_data"
    }
   ],
   "source": [
    "#plt.plot(I, FD)\n",
    "plt.plot(I_mppc, FD_mppc)"
   ]
  },
  {
   "cell_type": "code",
   "execution_count": 41,
   "metadata": {},
   "outputs": [
    {
     "data": {
      "text/plain": [
       "[<matplotlib.lines.Line2D at 0x21f80a32b80>]"
      ]
     },
     "execution_count": 41,
     "metadata": {},
     "output_type": "execute_result"
    },
    {
     "data": {
      "image/png": "[encoded data removed]",
      "text/plain": [
       "<Figure size 432x288 with 1 Axes>"
      ]
     },
     "metadata": {
      "needs_background": "light"
     },
     "output_type": "display_data"
    }
   ],
   "source": [
    "plt.loglog(I_mppc, FD_mppc, \".\")\n"
   ]
  },
  {
   "cell_type": "code",
   "execution_count": 42,
   "metadata": {},
   "outputs": [
    {
     "data": {
      "image/png": "[encoded data removed]",
      "text/plain": [
       "<Figure size 432x288 with 1 Axes>"
      ]
     },
     "metadata": {
      "needs_background": "light"
     },
     "output_type": "display_data"
    }
   ],
   "source": [
    "ek_values =[]\n",
    "x0 = [2, 0.2]\n",
    "\n",
    "for algae in list(items_dict.keys())[100:101]:\n",
    "    i = 0\n",
    "    I = {}\n",
    "    FD = {}\n",
    "    for k in range(1,10):\n",
    "        I[k] = []\n",
    "        FD[k] = []\n",
    "        for f in [1,0]:#data.keys():\n",
    "            for amp in data[f].keys():\n",
    "                if i > 3:\n",
    "                    x_coords =  items_dict[algae]['x_coords']\n",
    "                    y_coords =  items_dict[algae]['y_coords']\n",
    "                    video = data[f][amp]['video']\n",
    "                    output = data[f][amp]['output']\n",
    "                    algae_fluo = np.mean(video[k, x_coords, y_coords])\n",
    "                    I[k].append(np.mean(output[0]))\n",
    "                    FD[k].append(algae_fluo)\n",
    "                    i += 1\n",
    "\n",
    "                else:\n",
    "                    i+=1\n",
    "        #plt.plot(I[k], np.array(FD[k])/np.array(I[k]), label = str(k))#\n",
    "        plt.scatter(k, FD[k][-1]/I[k][-1], color = 'k')\n",
    "        #plt.scatter(k, FD[k][-9]/I[k][-9], color = 'b', label = 9)\n",
    "\n",
    "#plt.legend()"
   ]
  },
  {
   "cell_type": "code",
   "execution_count": 43,
   "metadata": {},
   "outputs": [
    {
     "data": {
      "text/plain": [
       "'10'"
      ]
     },
     "execution_count": 43,
     "metadata": {},
     "output_type": "execute_result"
    }
   ],
   "source": [
    "list(items_dict.keys())[10]"
   ]
  },
  {
   "cell_type": "code",
   "execution_count": null,
   "metadata": {},
   "outputs": [],
   "source": []
  }
 ],
 "metadata": {
  "kernelspec": {
   "display_name": "Python 3",
   "language": "python",
   "name": "python3"
  },
  "language_info": {
   "codemirror_mode": {
    "name": "ipython",
    "version": 3
   },
   "file_extension": ".py",
   "mimetype": "text/x-python",
   "name": "python",
   "nbconvert_exporter": "python",
   "pygments_lexer": "ipython3",
   "version": "3.8.10"
  }
 },
 "nbformat": 4,
 "nbformat_minor": 4
}
