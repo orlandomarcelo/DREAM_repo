{
 "cells": [
  {
   "cell_type": "code",
   "execution_count": 1,
   "id": "7f9daf91",
   "metadata": {},
   "outputs": [],
   "source": [
    "########################################################################\n",
    "#####                   DREAM - MPPC Recording                     #####\n",
    "########################################################################"
   ]
  },
  {
   "cell_type": "code",
   "execution_count": 8,
   "id": "393a94dd",
   "metadata": {},
   "outputs": [],
   "source": [
    "##### Import Libraries\n",
    "import numpy as np\n",
    "import pandas as pd\n",
    "import time\n",
    "import os\n",
    "import pickle\n",
    "import matplotlib.pyplot as plt\n",
    "%matplotlib widget\n",
    "import datetime\n",
    "from mcculw import ul\n",
    "from ctypes import cast, POINTER, c_double, c_ushort, c_ulong \n",
    "from mcculw.enums import (ScanOptions, FunctionType, Status, ChannelType, \n",
    "    DigitalPortType, ULRange, TriggerSource, TriggerSensitivity, TriggerEvent, \n",
    "    DigitalIODirection, TimerIdleState, PulseOutOptions, TrigType)\n",
    "from mcculw.device_info import DaqDeviceInfo\n",
    "\n",
    "try:\n",
    "    from console_examples_util import config_first_detected_device\n",
    "except ImportError:\n",
    "    from console_examples_util import config_first_detected_device\n",
    "    \n",
    "import sys\n",
    "module_path = os.path.abspath(os.path.join('..'))\n",
    "if module_path not in sys.path:\n",
    "    sys.path.append(module_path)\n",
    "\n",
    "import tools\n"
   ]
  },
  {
   "cell_type": "markdown",
   "id": "5a8d755e",
   "metadata": {},
   "source": [
    "## SETUP DAQ"
   ]
  },
  {
   "cell_type": "code",
   "execution_count": 2,
   "id": "698977f4",
   "metadata": {},
   "outputs": [
    {
     "name": "stdout",
     "output_type": "stream",
     "text": [
      "-1\n"
     ]
    }
   ],
   "source": [
    "from mcculw.enums import InterfaceType\n",
    "devices = ul.get_daq_device_inventory(InterfaceType.USB)\n",
    "for device in devices:\n",
    "     print(ul.get_board_number(device))\n"
   ]
  },
  {
   "cell_type": "code",
   "execution_count": 3,
   "id": "587d4d39",
   "metadata": {},
   "outputs": [],
   "source": [
    "########################################################\n",
    "##### SETUP EQUIPMENT\n",
    "\n",
    "##### Connect to the DAQ Card\n",
    "board_num = 0\n",
    "daq_dev_info = DaqDeviceInfo(board_num = 0)\n",
    "\n",
    "##### Setup DAQ for analog input\n",
    "ai_info = daq_dev_info.get_ai_info()\n",
    "ai_range = ai_info.supported_ranges[2]\n",
    "\n",
    "## Set the scan options\n",
    "scan_options_AI = ScanOptions.BACKGROUND"
   ]
  },
  {
   "cell_type": "markdown",
   "id": "1bf6737c",
   "metadata": {},
   "source": [
    "## AQUISITION SETTINGS"
   ]
  },
  {
   "cell_type": "code",
   "execution_count": 31,
   "id": "2e776c5e",
   "metadata": {},
   "outputs": [
    {
     "data": {
      "text/html": [
       "<div>\n",
       "<style scoped>\n",
       "    .dataframe tbody tr th:only-of-type {\n",
       "        vertical-align: middle;\n",
       "    }\n",
       "\n",
       "    .dataframe tbody tr th {\n",
       "        vertical-align: top;\n",
       "    }\n",
       "\n",
       "    .dataframe thead th {\n",
       "        text-align: right;\n",
       "    }\n",
       "</style>\n",
       "<table border=\"1\" class=\"dataframe\">\n",
       "  <thead>\n",
       "    <tr style=\"text-align: right;\">\n",
       "      <th></th>\n",
       "      <th>frequency</th>\n",
       "      <th>time_DAQ</th>\n",
       "      <th>DAQ_rate</th>\n",
       "      <th>p_period</th>\n",
       "    </tr>\n",
       "  </thead>\n",
       "  <tbody>\n",
       "    <tr>\n",
       "      <th>0</th>\n",
       "      <td>128.000000</td>\n",
       "      <td>0.75</td>\n",
       "      <td>1280</td>\n",
       "      <td>10</td>\n",
       "    </tr>\n",
       "    <tr>\n",
       "      <th>1</th>\n",
       "      <td>64.000000</td>\n",
       "      <td>1.50</td>\n",
       "      <td>640</td>\n",
       "      <td>10</td>\n",
       "    </tr>\n",
       "    <tr>\n",
       "      <th>2</th>\n",
       "      <td>32.000000</td>\n",
       "      <td>3.00</td>\n",
       "      <td>320</td>\n",
       "      <td>10</td>\n",
       "    </tr>\n",
       "    <tr>\n",
       "      <th>3</th>\n",
       "      <td>16.000000</td>\n",
       "      <td>6.00</td>\n",
       "      <td>160</td>\n",
       "      <td>10</td>\n",
       "    </tr>\n",
       "    <tr>\n",
       "      <th>4</th>\n",
       "      <td>8.000000</td>\n",
       "      <td>12.00</td>\n",
       "      <td>80</td>\n",
       "      <td>10</td>\n",
       "    </tr>\n",
       "    <tr>\n",
       "      <th>5</th>\n",
       "      <td>4.000000</td>\n",
       "      <td>24.00</td>\n",
       "      <td>40</td>\n",
       "      <td>10</td>\n",
       "    </tr>\n",
       "    <tr>\n",
       "      <th>6</th>\n",
       "      <td>2.000000</td>\n",
       "      <td>48.00</td>\n",
       "      <td>20</td>\n",
       "      <td>10</td>\n",
       "    </tr>\n",
       "    <tr>\n",
       "      <th>7</th>\n",
       "      <td>1.000000</td>\n",
       "      <td>96.00</td>\n",
       "      <td>10</td>\n",
       "      <td>10</td>\n",
       "    </tr>\n",
       "    <tr>\n",
       "      <th>8</th>\n",
       "      <td>0.500000</td>\n",
       "      <td>192.00</td>\n",
       "      <td>5</td>\n",
       "      <td>10</td>\n",
       "    </tr>\n",
       "    <tr>\n",
       "      <th>9</th>\n",
       "      <td>0.250000</td>\n",
       "      <td>384.00</td>\n",
       "      <td>4</td>\n",
       "      <td>16</td>\n",
       "    </tr>\n",
       "    <tr>\n",
       "      <th>10</th>\n",
       "      <td>0.125000</td>\n",
       "      <td>448.00</td>\n",
       "      <td>2</td>\n",
       "      <td>16</td>\n",
       "    </tr>\n",
       "    <tr>\n",
       "      <th>11</th>\n",
       "      <td>0.062500</td>\n",
       "      <td>896.00</td>\n",
       "      <td>1</td>\n",
       "      <td>16</td>\n",
       "    </tr>\n",
       "    <tr>\n",
       "      <th>12</th>\n",
       "      <td>0.031250</td>\n",
       "      <td>992.00</td>\n",
       "      <td>1</td>\n",
       "      <td>32</td>\n",
       "    </tr>\n",
       "    <tr>\n",
       "      <th>13</th>\n",
       "      <td>0.015625</td>\n",
       "      <td>1152.00</td>\n",
       "      <td>1</td>\n",
       "      <td>64</td>\n",
       "    </tr>\n",
       "    <tr>\n",
       "      <th>14</th>\n",
       "      <td>0.007812</td>\n",
       "      <td>2304.00</td>\n",
       "      <td>1</td>\n",
       "      <td>128</td>\n",
       "    </tr>\n",
       "  </tbody>\n",
       "</table>\n",
       "</div>"
      ],
      "text/plain": [
       "     frequency  time_DAQ  DAQ_rate  p_period\n",
       "0   128.000000      0.75      1280        10\n",
       "1    64.000000      1.50       640        10\n",
       "2    32.000000      3.00       320        10\n",
       "3    16.000000      6.00       160        10\n",
       "4     8.000000     12.00        80        10\n",
       "5     4.000000     24.00        40        10\n",
       "6     2.000000     48.00        20        10\n",
       "7     1.000000     96.00        10        10\n",
       "8     0.500000    192.00         5        10\n",
       "9     0.250000    384.00         4        16\n",
       "10    0.125000    448.00         2        16\n",
       "11    0.062500    896.00         1        16\n",
       "12    0.031250    992.00         1        32\n",
       "13    0.015625   1152.00         1        64\n",
       "14    0.007812   2304.00         1       128"
      ]
     },
     "execution_count": 31,
     "metadata": {},
     "output_type": "execute_result"
    }
   ],
   "source": [
    "acquisition_settings = {\n",
    "    'frequency': [128, 64, 32, 16, 8, 4, 2, 1, 0.5, 0.25, 0.125, 0.0625, 0.03125, 0.015625, 0.0078125],\n",
    "    'time_DAQ': [0.75, 1.5, 3, 6, 12, 24, 48, 96, 192, 384, 448, 896, 992, 1152, 2304],\n",
    "    'DAQ_rate': [1280, 640, 320, 160, 80, 40, 20, 10, 5, 4, 2, 1, 1, 1, 1],\n",
    "    'p_period': [10, 10, 10, 10, 10, 10, 10, 10, 10, 16, 16, 16, 32, 64, 128]\n",
    "}\n",
    "acquisition_settings = pd.DataFrame(acquisition_settings)\n",
    "acquisition_settings"
   ]
  },
  {
   "cell_type": "code",
   "execution_count": 32,
   "id": "6f7d9800",
   "metadata": {},
   "outputs": [],
   "source": [
    "frequency = 4 # [Hz]\n",
    "\n",
    "DAQ_Rate = acquisition_settings.loc[acquisition_settings['frequency'] == frequency, 'DAQ_rate'].values[0]\n",
    "Exp_Duration = acquisition_settings.loc[acquisition_settings['frequency'] == frequency, 'time_DAQ'].values[0]\n",
    "total_count = int(DAQ_Rate * Exp_Duration) + 1\n",
    "EXPNAME = f\"f_{frequency}_Hz\"\n",
    "p_period = acquisition_settings.loc[acquisition_settings['frequency'] == frequency, 'p_period'].values[0]"
   ]
  },
  {
   "cell_type": "code",
   "execution_count": 16,
   "id": "a9875114",
   "metadata": {},
   "outputs": [],
   "source": [
    "## Allocate a buffer for the input\n",
    "\n",
    "if ai_info.resolution <= 16:\n",
    "    # Use the win_buf_alloc method for devices with a resolution <= 16\n",
    "    memhandle_AI = ul.win_buf_alloc(total_count)\n",
    "    # Convert the memhandle to a ctypes array.\n",
    "    ctypes_array_AI = cast(memhandle_AI, POINTER(c_ushort))\n",
    "else:\n",
    "    # Use the win_buf_alloc_32 method for devices with a resolution > 16\n",
    "    memhandle_AI = ul.win_buf_alloc_32(total_count)\n",
    "    # Convert the memhandle to a ctypes array.\n",
    "    ctypes_array_AI = cast(memhandle_AI, POINTER(c_ulong))\n",
    "\n",
    "if not memhandle_AI:\n",
    "    raise Exception('Error: Failed to allocate memory')\n"
   ]
  },
  {
   "cell_type": "markdown",
   "id": "80555a8c",
   "metadata": {},
   "source": [
    "## RUN EXPERIMENT"
   ]
  },
  {
   "cell_type": "code",
   "execution_count": 17,
   "id": "9c34725e",
   "metadata": {},
   "outputs": [],
   "source": [
    "## Start the timer, which will start and pace AO and AI\n",
    "ul.a_in_scan(board_num, 0, 0, (total_count), DAQ_Rate, ai_range, memhandle_AI, scan_options_AI)\n",
    "\n",
    "## Wait until AI Finishes\n",
    "status, curr_count, curr_index = ul.get_status(board_num, FunctionType.AIFUNCTION)\n",
    "while status != Status.IDLE:\n",
    "    time.sleep(0.5)\n",
    "    status, curr_count, curr_index = ul.get_status(board_num, FunctionType.AIFUNCTION)"
   ]
  },
  {
   "cell_type": "markdown",
   "id": "6f62c93a",
   "metadata": {},
   "source": [
    "## READ AND SAVE ANALOG INPUT"
   ]
  },
  {
   "cell_type": "code",
   "execution_count": 23,
   "id": "02b2f338",
   "metadata": {},
   "outputs": [],
   "source": [
    "points = []\n",
    "for i in range(total_count):\n",
    "    eng_value = ul.to_eng_units(board_num, ai_range, ctypes_array_AI[i])\n",
    "    points.append(eng_value)\n",
    "DAQ_signal = np.array(points)\n",
    "time_stamps = np.arange(0, Exp_Duration + 1/DAQ_Rate, 1/DAQ_Rate)"
   ]
  },
  {
   "cell_type": "code",
   "execution_count": 37,
   "id": "f09ec266",
   "metadata": {},
   "outputs": [],
   "source": [
    "MCC_DAQ_folder = \"C:/Users/Orlando/ownCloud - ORLANDO Marcelo@mycore.cnrs.fr/Doutorado/Dados experimentais/MCC_DAQ/\"\n",
    "experiment_folder = MCC_DAQ_folder + \"20240813_test/\"\n",
    "if not os.path.exists(experiment_folder):\n",
    "    os.makedirs(experiment_folder)\n",
    "\n",
    "data = {\"time\": time_stamps, \"DAQ_signal\": DAQ_signal}\n",
    "pd.DataFrame(data).to_csv(experiment_folder + EXPNAME + \".csv\", index = False)"
   ]
  },
  {
   "cell_type": "code",
   "execution_count": 38,
   "id": "d6755de3",
   "metadata": {},
   "outputs": [
    {
     "data": {
      "application/vnd.jupyter.widget-view+json": {
       "model_id": "839d68c15f2c4d56b62160968d62729f",
       "version_major": 2,
       "version_minor": 0
      },
      "image/png": "[encoded data removed]",
      "text/html": [
       "\n",
       "            <div style=\"display: inline-block;\">\n",
       "                <div class=\"jupyter-widgets widget-label\" style=\"text-align: center;\">\n",
       "                    Figure\n",
       "                </div>\n",
       "                <img src='data:image/png;base64,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' width=1400.0/>\n",
       "            </div>\n",
       "        "
      ],
      "text/plain": [
       "Canvas(toolbar=Toolbar(toolitems=[('Home', 'Reset original view', 'home', 'home'), ('Back', 'Back to previous …"
      ]
     },
     "metadata": {},
     "output_type": "display_data"
    }
   ],
   "source": [
    "fig, ax = plt.subplots(1, 3 , figsize = (14, 4))\n",
    "fig.suptitle(f\"Data acquisition at {frequency} Hz\")\n",
    "per_to_show = 6\n",
    "ax[0].plot(time_stamps, DAQ_signal, '-o', markersize=2)\n",
    "ax[0].set_title(\"All data\")\n",
    "ax[1].plot(time_stamps[:per_to_show*p_period], DAQ_signal[:per_to_show*p_period], '-o', markersize=2)\n",
    "ax[1].axvline(x = time_stamps[3*p_period], color = 'r', linestyle = '--')\n",
    "ax[1].set_ylim(ax[0].get_ylim())\n",
    "ax[1].set_title(\"Start\")\n",
    "ax[2].plot(time_stamps[-per_to_show*p_period:], DAQ_signal[-per_to_show*p_period:], '-o', markersize=2)\n",
    "ax[2].axvline(x = time_stamps[-3*p_period], color = 'r', linestyle = '--')\n",
    "ax[2].set_ylim(ax[0].get_ylim())\n",
    "ax[2].set_title(\"End\")\n",
    "\n",
    "for a in ax:\n",
    "    a.set_xlabel(\"Time (s)\")\n",
    "    a.set_ylabel(\"Signal (V)\")\n",
    "\n",
    "fig.tight_layout()\n",
    "\n",
    "fig.savefig(experiment_folder + EXPNAME + \".png\", dpi = 300)"
   ]
  }
 ],
 "metadata": {
  "kernelspec": {
   "display_name": "Python 3 (ipykernel)",
   "language": "python",
   "name": "python3"
  },
  "language_info": {
   "codemirror_mode": {
    "name": "ipython",
    "version": 3
   },
   "file_extension": ".py",
   "mimetype": "text/x-python",
   "name": "python",
   "nbconvert_exporter": "python",
   "pygments_lexer": "ipython3",
   "version": "undefined.undefined.undefined"
  }
 },
 "nbformat": 4,
 "nbformat_minor": 5
}
