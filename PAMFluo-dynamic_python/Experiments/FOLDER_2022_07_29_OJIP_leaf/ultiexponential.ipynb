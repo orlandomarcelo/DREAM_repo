{
 "cells": [
  {
   "cell_type": "code",
   "execution_count": 1,
   "id": "016dbb8b-fec1-4a3b-95d7-8f2af1dedd4d",
   "metadata": {},
   "outputs": [],
   "source": [
    "#image analysis\n",
    "import sys\n",
    "sys.path.append(\"../../\")\n",
    "\n",
    "import json\n",
    "import skimage.io\n",
    "import imageio\n",
    "import alienlab.plot\n",
    "from alienlab.improcessing import normalize, grey_to_rgb, make_binary\n",
    "import alienlab.segment\n",
    "from alienlab.fo import FramesOperator\n",
    "import alienlab.io\n",
    "from scipy import optimize\n",
    "import glob\n",
    "from alienlab.regression_func import *\n",
    "import copy\n",
    "from VoltageIntensityClass import VoltageIntensity\n",
    "from tqdm import tqdm\n",
    "\n",
    "from joblib.externals.loky import set_loky_pickler\n",
    "from joblib import parallel_backend\n",
    "from joblib import Parallel, delayed\n",
    "from joblib import wrap_non_picklable_objects\n",
    "from skimage.transform import resize\n",
    "\n",
    "p = alienlab.plot.PlotFigure()\n",
    "p.extension = \".pdf\"\n",
    "p.date = False\n",
    "#p.save_folder = \"G:/DREAM/from_github/thesis/Figures/OJIP/\"\n",
    "p.save_folder = \"G:/DREAM/from_github/thesis/Intensity_paper/\"\n",
    "\n",
    "label_intensity = r\"$I$ ($\\mathrm{\\mu E.m^{-2}.s^{-1}}$)\"\n",
    "label_time = \"$t$ (s)\"\n",
    "\n",
    "import mvgavg\n",
    "\n",
    "import scipy\n",
    "\n",
    "import tifffile as tiff\n",
    "\n",
    "#interactive widget packages\n",
    "from ipywidgets import interact, interactive, fixed, interact_manual\n",
    "from tkinter.filedialog import askopenfilename, askdirectory\n",
    "\n",
    "from VoltageIntensityClass import VoltageIntensity\n",
    "\n",
    "\n",
    "import time\n",
    "import os\n",
    "import numpy as np\n",
    "import matplotlib.pyplot as plt\n",
    "import random\n",
    "import pandas as pd\n",
    "\n",
    "%matplotlib inline\n",
    "#pympl\n",
    "import matplotlib.pyplot as plt\n",
    "import numpy as np\n",
    "import ipywidgets as wdg  # Using the ipython notebook widgets\n",
    "from alienlab.regression_func import platt, residuals\n",
    "from alienlab.utils import clip, marker, hatch, color, linestyles\n",
    "from alienlab.segment import uniform_mask, label_to_data\n",
    "from alienlab.widget import click_to_graph\n",
    "#%matplotlib inline\n",
    "\n",
    "from alienlab.regression_func import residuals, exp_decay, regression_affine, regression_linear, get_affine_func\n",
    "\n",
    "\n",
    "from mvgavg import mvgavg\n",
    "\n",
    "\n",
    "\n",
    "from collections import OrderedDict\n",
    "\n",
    "keys = list(linestyles.keys())\n"
   ]
  },
  {
   "cell_type": "code",
   "execution_count": 2,
   "id": "07c9d339-424c-4727-b12f-dd729ea19a3d",
   "metadata": {},
   "outputs": [],
   "source": [
    "#file_path = \"ENTER NAME OF THE FILE YOU DROPPED IN THE FILE SECTION HERE\" \n",
    "file_folder = 'LEAF1_filter_665_690/'#G:/DREAM/from_github/PAMFluo/Experiments/FOLDER_2021_11_03_OJIP_calibration/FOLDER_2021_11_03_OJIP_actiivated_1/'\n",
    "#askdirectory(title = 'Select an experiment folder', initialdir=\"G:/DREAM/from_github/PAMFluo/Experiments\")  # pops up a window to select your file \n",
    "# uncomment this line if you use this jupyter notebook locally\n",
    "#'G:/DREAM/from_github/PAMFluo/Experiments/2021-06-24_12_12_Ek_video'\n"
   ]
  },
  {
   "cell_type": "code",
   "execution_count": 3,
   "id": "707d53bc-0ad7-4c93-bcdb-d121300e2513",
   "metadata": {},
   "outputs": [],
   "source": [
    "def sigmoidal_OJIP(parameters, tdata):\n",
    "    F0 = parameters[0]\n",
    "    Aoj = parameters[1]\n",
    "    koj = parameters[2]\n",
    "    soj = parameters[3]\n",
    "    Aji = parameters[4]\n",
    "    kji = parameters[5]\n",
    "    sji = parameters[6]\n",
    "    Aip = parameters[7]\n",
    "    kip = parameters[8]\n",
    "    sip = parameters[9]\n",
    "    y = F0 + Aoj*(1-np.exp(-koj*tdata))**soj + Aji*(1-np.exp(-kji*tdata))**sji +  Aip*(1-np.exp(-kip*tdata))**sip\n",
    "    \n",
    "    return y\n",
    "\n",
    "def d1_sigmoidal_OJIP(A, k, s, tdata):\n",
    "    y = A*s*k*(1-np.exp(-tdata*k))**(s-1)*np.exp(-tdata*k)\n",
    "    return y\n",
    "\n",
    "def d2_sigmoidal_OJIP(A, k, s, tdata):\n",
    "    y = -(s*k*k*(1-np.exp(-tdata*k))**s*(np.exp(k*tdata)-s))/(np.exp(tdata*k)-1)**2\n",
    "    return y\n",
    "\n",
    "\n",
    "\n",
    "def diff_sigmoidal_OJIP(parameters, tdata):\n",
    "    F0 = parameters[0]\n",
    "    Aoj = parameters[1]\n",
    "    koj = parameters[2]\n",
    "    soj = parameters[3]\n",
    "    Aji = parameters[4]\n",
    "    kji = parameters[5]\n",
    "    sji = parameters[6]\n",
    "    Aip = parameters[7]\n",
    "    kip = parameters[8]\n",
    "    sip = parameters[9]\n",
    "    \n",
    "    yoj = d1_sigmoidal_OJIP(Aoj, koj, soj, tdata)\n",
    "    yji = d1_sigmoidal_OJIP(Aji, kji, sji, tdata)\n",
    "    yip = d1_sigmoidal_OJIP(Aip, kip, sip, tdata)\n",
    "    return yoj + yji + yip\n",
    "    \n",
    "def diff2_sigmoidal_OJIP(parameters, tdata):\n",
    "    F0 = parameters[0]\n",
    "    Aoj = parameters[1]\n",
    "    koj = parameters[2]\n",
    "    soj = parameters[3]\n",
    "    Aji = parameters[4]\n",
    "    kji = parameters[5]\n",
    "    sji = parameters[6]\n",
    "    Aip = parameters[7]\n",
    "    kip = parameters[8]\n",
    "    sip = parameters[9]\n",
    "    \n",
    "    yoj = d2_sigmoidal_OJIP(Aoj, koj, soj, tdata)\n",
    "    yji = d2_sigmoidal_OJIP(Aji, kji, sji, tdata)\n",
    "    yip = d2_sigmoidal_OJIP(Aip, kip, sip, tdata)\n",
    "    return yoj + yji + yip\n",
    "    \n",
    "\n",
    "def multiexp_fit(f, N = 10, bode_folder =  \"2022-07-29_16_33_bode_diagram\", Nlog=10000 ):\n",
    "    file_path = glob.glob(f + \"/*_ojip_curve.csv\")[0] # pops up a window to select your file\n",
    "    file2 = glob.glob(f + \"/*_ojip_curve.csv\")[0]\n",
    "    \n",
    "    #(voltage, filter) = np.genfromtxt(glob.glob(f + \"/*intensity_OJIP.txt\")[0], delimiter = ',')\n",
    "    \n",
    "    with open(f + \"/config.json\", 'r') as j:\n",
    "         contents = json.loads(j.read())\n",
    "    voltage = np.max([contents['limit_blue'], contents['limit_red'], contents['limit_green'], contents['limit_purple']])\n",
    "    filter = contents['actinic_filter']\n",
    "    \n",
    "    data_sequence = pd.read_csv(file_path)\n",
    "    amp_seq = pd.read_csv(file2)\n",
    "\n",
    "    V = VoltageIntensity(folder = bode_folder)#\"2022-07-28_10_10_bode_diagram\")2022-01-13_12_02_bode_diagram\n",
    "    intensity = V.get_intensity_voltage('blue', int(filter), voltage/100)*1e6\n",
    "    intensity_purple=  V.get_intensity_voltage('purple', int(filter), voltage/100)*1e6\n",
    "    #fluo = amplitude\n",
    "\n",
    "    time_array = np.array(data_sequence[\"time (s) intensity\"])\n",
    "\n",
    "    fluo = np.array(data_sequence[\"voltage (V) intensity\"])\n",
    "    blank = np.mean(fluo[0:10])\n",
    "    fluo = fluo-blank\n",
    "    fluo_ref = fluo/fluo.max()\n",
    "    ind_ref = (fluo_ref>0.1)#*(time_array>4e-5)    \n",
    "    \n",
    "    \n",
    "    binit = True\n",
    "    t = mvgavg(time_array[ind_ref], N, binning = binit)\n",
    "    y = mvgavg(fluo[ind_ref], N, binning = binit)\n",
    "    #t = time_array[ind_ref]\n",
    "    #y = fluo[ind_ref]\n",
    "    t-=t[0]\n",
    "    \n",
    "    ind= np.unique(np.logspace(np.log10(1), np.log10(len(t)-1), Nlog).astype(int))#70\n",
    "    t = t[ind]\n",
    "    y = y[ind]\n",
    "    #poly = np.polyfit(np.log(t), y,20)\n",
    "    #yp = np.polyval(poly, np.log(t))\n",
    "    dF = fluo.max()-fluo.min()\n",
    "    x0 = [fluo.min(), dF/2, 5E3, 1.24, dF/4, 0.06E3, 1.2, dF/4, 0.0023E3, 8.2]\n",
    "\n",
    "    parameters_estimated = optimize.least_squares(residuals,  x0, bounds = ([-1e5,-1e5, 0, 1,-1e5, 0, 1,-1e5, 0, 1], [1e5,1e5, 1e5, 20,1e5, 1e5, 20,1e5, 1e5, 20]),\n",
    "                                args = (t, y, sigmoidal_OJIP))\n",
    "    \n",
    "    tau = parameters_estimated.x[2]\n",
    "    ypred = sigmoidal_OJIP(parameters_estimated.x, t)\n",
    "    return intensity, parameters_estimated.x, t, y, ypred, voltage, y.max(), intensity_purple, filter\n",
    "\n",
    "\n",
    "def exp_decay(parameters, xdata):\n",
    "    '''\n",
    "    Calculate an exponential decay of the form:\n",
    "    S = a * exp(-xdata/b)\n",
    "    '''\n",
    "    A = parameters[0]\n",
    "    tau = parameters[1]\n",
    "    y0 = parameters[2]\n",
    "    return A * (1 - np.exp(-xdata/tau))**1.24 + y0\n",
    "\n",
    "\n",
    "def exp_decay_dual(parameters, xdata):\n",
    "    '''\n",
    "    Calculate an exponential decay of the form:\n",
    "    S = a * exp(-xdata/b)\n",
    "    '''\n",
    "    A = parameters[0]\n",
    "    tau = parameters[1]\n",
    "    y0 = parameters[2]\n",
    "    A2 = parameters[3]\n",
    "    tau2 = parameters[4]\n",
    "    return A * (1 - np.exp(-xdata/tau))**1.24 + A2 * (1 - np.exp(-xdata/tau2))**1.2+ y0\n",
    "\n",
    "\n",
    "def get_fit(decay, time):    \n",
    "\n",
    "    time_spread = time.max()-time.min()\n",
    "    start = np.mean(decay[0])\n",
    "    stop = np.mean(decay[-10:])\n",
    "    x0 = [start, 1/10, stop]#, start, 1/10]\n",
    "    time = time-time[0]\n",
    "\n",
    "    parameters_estimated = optimize.least_squares(residuals,  x0, bounds = (-1e8,1e8),\n",
    "                                args = (time, decay, exp_decay))\n",
    "    #if tau >  (second-first)//10: #if too high\n",
    "    #    tau =  (second-first)//10\n",
    "    #if tau < 3: #if too low, increase it\n",
    "    #        tau = 5\n",
    "    tau = parameters_estimated.x[1]\n",
    "    pos_tau = find_nearest(time, tau)\n",
    "    x0 = parameters_estimated.x #initial guess: parameters from previous fit\n",
    "    #second fit\n",
    "    parameters_estimated  = optimize.least_squares(residuals,  x0, bounds = (-1e9,1e9),\n",
    "                                            args = (time[0:int(pos_tau*5)], decay[0: int(pos_tau*5)], exp_decay))\n",
    "    return parameters_estimated.x\n",
    "\n",
    "def find_nearest(array, value):\n",
    "    array = np.asarray(array)\n",
    "    idx = (np.abs(array - value)).argmin()\n",
    "    return idx"
   ]
  },
  {
   "cell_type": "code",
   "execution_count": null,
   "id": "3b3d4a03-0278-4f83-bff0-9800d14f577e",
   "metadata": {},
   "outputs": [],
   "source": []
  },
  {
   "cell_type": "markdown",
   "id": "1a2c5824-bef1-44d6-b444-71b01255c240",
   "metadata": {},
   "source": [
    "## Figure Main Text"
   ]
  },
  {
   "cell_type": "code",
   "execution_count": 4,
   "id": "3114af18-2927-4dfc-a414-fd29a175cc0e",
   "metadata": {},
   "outputs": [
    {
     "name": "stdout",
     "output_type": "stream",
     "text": [
      "LEAF1_blue_665_690/\n"
     ]
    },
    {
     "name": "stderr",
     "output_type": "stream",
     "text": [
      "No artists with labels found to put in legend.  Note that artists whose label start with an underscore are ignored when legend() is called with no argument.\n"
     ]
    },
    {
     "name": "stdout",
     "output_type": "stream",
     "text": [
      "7840.24331524865 3721.859864860173\n",
      "LEAF1_blue_665_690/\n"
     ]
    },
    {
     "name": "stderr",
     "output_type": "stream",
     "text": [
      "C:\\Users\\Alienor\\AppData\\Local\\Temp\\ipykernel_15104\\2957775714.py:120: RuntimeWarning: invalid value encountered in power\n",
      "  return A * (1 - np.exp(-xdata/tau))**1.24 + y0\n",
      "No artists with labels found to put in legend.  Note that artists whose label start with an underscore are ignored when legend() is called with no argument.\n"
     ]
    },
    {
     "data": {
      "text/plain": [
       "array([1.93166952e+00, 6.15507490e-05, 1.00133877e+00])"
      ]
     },
     "execution_count": 4,
     "metadata": {},
     "output_type": "execute_result"
    },
    {
     "data": {
      "image/png": "[encoded data removed]",
      "text/plain": [
       "<Figure size 368.504x340.157 with 1 Axes>"
      ]
     },
     "metadata": {
      "needs_background": "light"
     },
     "output_type": "display_data"
    },
    {
     "data": {
      "image/png": "[encoded data removed]",
      "text/plain": [
       "<Figure size 368.504x340.157 with 1 Axes>"
      ]
     },
     "metadata": {
      "needs_background": "light"
     },
     "output_type": "display_data"
    },
    {
     "data": {
      "text/plain": [
       "<Figure size 432x288 with 0 Axes>"
      ]
     },
     "metadata": {},
     "output_type": "display_data"
    },
    {
     "data": {
      "text/plain": [
       "<Figure size 432x288 with 0 Axes>"
      ]
     },
     "metadata": {},
     "output_type": "display_data"
    }
   ],
   "source": [
    "if True:\n",
    "    folder_list = ['LEAF1_blue_665_690/']\n",
    "    p.figsize = (10, 10)\n",
    "    fig1 = p.set_figure(\"%e\", \"%0.1f\")\n",
    "    ax1 = plt.gca()\n",
    "    fig2 = p.set_figure(\"%0.2f\", \"%0.1f\")\n",
    "    ax2 = plt.gca()\n",
    "    U,V = 16, 15\n",
    "    for N in [U, V]:\n",
    "        for i, folder in enumerate(folder_list[0:1]): \n",
    "            print(folder)\n",
    "\n",
    "            for f in glob.glob(folder + \"/*pulse*\")[0:1]:\n",
    "                if N==U:\n",
    "                        intensity, params, t, y, ypred, voltage, maxi, purple, filter = multiexp_fit(f, N=N, Nlog=70)\n",
    "                        print(intensity, purple)\n",
    "                        Norm = y[0]\n",
    "                        ax1.semilogx(t, y/Norm, marker = \"o\", c = \"none\", markeredgecolor=\"k\", markeredgewidth=0.5, markersize=8)\n",
    "                        #ax1.semilogx(t, ypred, \"--k\")\n",
    "\n",
    "                if N==V:    \n",
    "                        intensity, params, t, y, ypred, voltage, maxi, purple, filter = multiexp_fit(f, N=N)\n",
    "\n",
    "                        pos = 3/params[2]\n",
    "                        y = y/Norm\n",
    "                        pos_tau = find_nearest(t, pos)\n",
    "                        params = get_fit(y[:pos_tau], t[:pos_tau])\n",
    "\n",
    "                        D = 400\n",
    "                        pos_tau = find_nearest(t, D*params[1])\n",
    "                        ypred =  exp_decay(params, t[:pos_tau*D])\n",
    "                        ax1.semilogx(t[:pos_tau*D],ypred, \"k\")\n",
    "\n",
    "\n",
    "        ax1.legend()\n",
    "        ax1.set_xlabel(label_time)\n",
    "        ax1.set_ylabel(\"$F(t)$/$F$(0)\")\n",
    "\n",
    "        p.save_name = \"OJIP_MT\"\n",
    "        p.saving(fig1)\n",
    "params"
   ]
  },
  {
   "cell_type": "code",
   "execution_count": 5,
   "id": "36711e67-29ba-41ee-90dd-c3f15c81fa33",
   "metadata": {},
   "outputs": [
    {
     "name": "stdout",
     "output_type": "stream",
     "text": [
      "61.55074904366958\n",
      "11282.469429441771\n"
     ]
    }
   ],
   "source": [
    "tau = params[1]\n",
    "print(tau*1e6)\n",
    "I = 1/1.44/tau\n",
    "print(I)"
   ]
  },
  {
   "cell_type": "code",
   "execution_count": 6,
   "id": "f66dc1f9-752c-45a5-b5db-a819914299f8",
   "metadata": {},
   "outputs": [
    {
     "data": {
      "text/plain": [
       "-3650"
      ]
     },
     "execution_count": 6,
     "metadata": {},
     "output_type": "execute_result"
    }
   ],
   "source": [
    "1350-5000"
   ]
  },
  {
   "cell_type": "markdown",
   "id": "599db9fe-de4f-47e2-aafb-dd54794922e9",
   "metadata": {},
   "source": [
    "### test"
   ]
  },
  {
   "cell_type": "code",
   "execution_count": 7,
   "id": "36ae46e5-274c-4075-a0fb-f1e817635bcf",
   "metadata": {},
   "outputs": [],
   "source": [
    "folder_list =  ['LEAF1_blue_506_675/','LEAF1_blue_665_690/',  'LEAF1_purple_665_690/', 'LEAF1_green_665_690/', 'LEAF1_red_665_690/'] "
   ]
  },
  {
   "cell_type": "code",
   "execution_count": 8,
   "id": "b09f2061-0922-412f-b613-44c5fa09b34d",
   "metadata": {},
   "outputs": [
    {
     "name": "stdout",
     "output_type": "stream",
     "text": [
      "LEAF1_blue_665_690/\n",
      "LEAF1_blue_665_690\\2022-07-29_10_52_OJIP_pulse_393_blue\n",
      "7151.79252666145 3244.9829517227304\n",
      "LEAF1_purple_665_690/\n",
      "LEAF1_purple_665_690\\2022-07-29_11_17_OJIP_pulse_393_purple\n",
      "7151.79252666145 3244.9829517227304\n",
      "LEAF1_green_665_690/\n",
      "LEAF1_green_665_690\\2022-07-29_11_42_OJIP_pulse_393_green\n",
      "7151.79252666145 3244.9829517227304\n",
      "LEAF1_red_665_690/\n",
      "LEAF1_red_665_690\\2022-07-29_12_00_OJIP_pulse_337_blue\n"
     ]
    },
    {
     "name": "stderr",
     "output_type": "stream",
     "text": [
      "No artists with labels found to put in legend.  Note that artists whose label start with an underscore are ignored when legend() is called with no argument.\n"
     ]
    },
    {
     "name": "stdout",
     "output_type": "stream",
     "text": [
      "6389.573607086648 2773.4268431477435\n",
      "LEAF1_blue_665_690/\n",
      "LEAF1_blue_665_690\\2022-07-29_10_52_OJIP_pulse_393_blue\n",
      "7151.79252666145 3244.9829517227304\n",
      "LEAF1_purple_665_690/\n",
      "LEAF1_purple_665_690\\2022-07-29_11_17_OJIP_pulse_393_purple\n"
     ]
    },
    {
     "name": "stderr",
     "output_type": "stream",
     "text": [
      "C:\\Users\\Alienor\\AppData\\Local\\Temp\\ipykernel_15104\\2957775714.py:120: RuntimeWarning: invalid value encountered in power\n",
      "  return A * (1 - np.exp(-xdata/tau))**1.24 + y0\n"
     ]
    },
    {
     "name": "stdout",
     "output_type": "stream",
     "text": [
      "7151.79252666145 3244.9829517227304\n",
      "LEAF1_green_665_690/\n",
      "LEAF1_green_665_690\\2022-07-29_11_42_OJIP_pulse_393_green\n"
     ]
    },
    {
     "name": "stderr",
     "output_type": "stream",
     "text": [
      "C:\\Users\\Alienor\\AppData\\Local\\Temp\\ipykernel_15104\\2957775714.py:120: RuntimeWarning: invalid value encountered in power\n",
      "  return A * (1 - np.exp(-xdata/tau))**1.24 + y0\n"
     ]
    },
    {
     "name": "stdout",
     "output_type": "stream",
     "text": [
      "7151.79252666145 3244.9829517227304\n",
      "LEAF1_red_665_690/\n",
      "LEAF1_red_665_690\\2022-07-29_12_00_OJIP_pulse_337_blue\n"
     ]
    },
    {
     "name": "stderr",
     "output_type": "stream",
     "text": [
      "C:\\Users\\Alienor\\AppData\\Local\\Temp\\ipykernel_15104\\2957775714.py:120: RuntimeWarning: invalid value encountered in power\n",
      "  return A * (1 - np.exp(-xdata/tau))**1.24 + y0\n",
      "C:\\Users\\Alienor\\AppData\\Local\\Temp\\ipykernel_15104\\2957775714.py:120: RuntimeWarning: invalid value encountered in power\n",
      "  return A * (1 - np.exp(-xdata/tau))**1.24 + y0\n",
      "No artists with labels found to put in legend.  Note that artists whose label start with an underscore are ignored when legend() is called with no argument.\n"
     ]
    },
    {
     "name": "stdout",
     "output_type": "stream",
     "text": [
      "6389.573607086648 2773.4268431477435\n"
     ]
    },
    {
     "data": {
      "image/png": "[encoded data removed]",
      "text/plain": [
       "<Figure size 368.504x340.157 with 1 Axes>"
      ]
     },
     "metadata": {
      "needs_background": "light"
     },
     "output_type": "display_data"
    },
    {
     "data": {
      "image/png": "[encoded data removed]",
      "text/plain": [
       "<Figure size 368.504x340.157 with 1 Axes>"
      ]
     },
     "metadata": {
      "needs_background": "light"
     },
     "output_type": "display_data"
    },
    {
     "data": {
      "text/plain": [
       "<Figure size 432x288 with 0 Axes>"
      ]
     },
     "metadata": {},
     "output_type": "display_data"
    },
    {
     "data": {
      "text/plain": [
       "<Figure size 432x288 with 0 Axes>"
      ]
     },
     "metadata": {},
     "output_type": "display_data"
    }
   ],
   "source": [
    "p.figsize = (10, 10)\n",
    "fig1 = p.set_figure(\"%e\", \"%0.1f\")\n",
    "ax1 = plt.gca()\n",
    "fig2 = p.set_figure(\"%0.2f\", \"%0.1f\")\n",
    "ax2 = plt.gca()\n",
    "for N in [50, 10]:\n",
    "    for i, folder in enumerate(folder_list[1:]): \n",
    "        print(folder)\n",
    "        \n",
    "        for f in glob.glob(folder + \"/*pulse*\")[1:2]:\n",
    "\n",
    "            if 'e_0_' not in f:\n",
    "                print(f)\n",
    "                intensity, params, t, y, ypred, voltage, maxi, purple, filter = multiexp_fit(f, N=N)\n",
    "                print(intensity, purple)\n",
    "                \n",
    "                if N==50:\n",
    "                    ax1.semilogx(t, y, c =  [\"blue\", \"purple\", \"green\", \"red\"][i])\n",
    "                    ax1.annotate(i+1, (t[-2000],y[-700]), xycoords = \"data\")\n",
    "                    ax1.semilogx(t, ypred, \"--k\")\n",
    "\n",
    "                #ax1.plot(t, y, c =  \"grey\", label = f[0:5])\n",
    "                #ax1.plot(t, ypred, c = \"k\")\n",
    "\n",
    "                if N==10:\n",
    "                    pos = 3/params[2]\n",
    "                    #if pos < 5e-4:\n",
    "                    #    pos = 5e-4\n",
    "                    #ax1.scatter(pos, sigmoidal_OJIP(params, pos), c = 'k', s = 300)\n",
    "                    pos_tau = find_nearest(t, pos)\n",
    "                    params = get_fit(y[:pos_tau], t[:pos_tau])\n",
    "\n",
    "                    D = 400\n",
    "                    pos_tau = find_nearest(t, D*params[1])\n",
    "                    #ax2.semilogx(t[:pos_tau*D], y[:pos_tau*D], c=\"grey\")\n",
    "                    ypred =  exp_decay(params, t[:pos_tau*D])\n",
    "                    ax1.semilogx(t[:pos_tau*D],ypred, \"k\")\n",
    "                    #ax2.annotate(i, (t[0],ypred[1]), xycoords = \"data\")\n",
    "\n",
    "\n",
    "                    #plt.scatter(intensity, 1/params[1])\n",
    "    ax1.legend()\n",
    "    ax1.set_xlabel(label_time)\n",
    "    ax1.set_ylabel(\"$F(t)$ (a.u.)\")\n",
    "    ax2.set_xlabel(label_time)\n",
    "    ax2.set_ylabel(\"$F(t)$ (a.u.)\")\n",
    "    #if N==50:\n",
    "    p.save_name = \"fits_various_colors_JC\"\n",
    "    p.saving(fig1)\n",
    "    #if N==10:\n",
    "    #    fig2.savefig(p.save_folder + \"/fits_various_colors_exp.png\")"
   ]
  },
  {
   "cell_type": "markdown",
   "id": "e60d98b0-8ee5-493b-ac18-ea891311d864",
   "metadata": {},
   "source": [
    "from sympy import *\n",
    "x = symbols(\"x\")\n",
    "A = symbols(\"A\")\n",
    "k = symbols(\"k\")\n",
    "s = symbols(\"s\")\n",
    "\n",
    "F = A*(1-exp(-x*k))**s\n",
    "expr = diff(diff(F, x),x)\n",
    "print(solve(expr, x))\n",
    "D2 = expr.subs([(A, params[1]),(k,params[2]), (s, params[3])]) +expr.subs([(A, params[4]),(k,params[5]), (s, params[6])]) + expr.subs([(A, params[7]),(k,params[8]), (s, params[9])]) \n",
    "#solve(D2, x)"
   ]
  },
  {
   "cell_type": "code",
   "execution_count": 9,
   "id": "491c6d8f-ed41-4a53-ac6b-6cce5475e540",
   "metadata": {
    "tags": []
   },
   "outputs": [
    {
     "name": "stdout",
     "output_type": "stream",
     "text": [
      "LEAF1_blue_506_675/\n",
      "LEAF1_blue_506_675\\2022-07-29_10_14_OJIP_pulse_450_blue\n",
      "LEAF1_blue_506_675\\2022-07-29_10_15_OJIP_pulse_393_blue\n",
      "LEAF1_blue_506_675\\2022-07-29_10_16_OJIP_pulse_337_blue\n",
      "LEAF1_blue_506_675\\2022-07-29_10_17_OJIP_pulse_225_blue\n",
      "LEAF1_blue_506_675\\2022-07-29_10_17_OJIP_pulse_281_blue\n",
      "LEAF1_blue_506_675\\2022-07-29_10_18_OJIP_pulse_168_blue\n",
      "LEAF1_blue_506_675\\2022-07-29_10_19_OJIP_pulse_112_blue\n",
      "LEAF1_blue_506_675\\2022-07-29_10_20_OJIP_pulse_56_blue\n",
      "LEAF1_blue_506_675\\2022-07-29_10_21_OJIP_pulse_0_blue\n",
      "LEAF1_blue_506_675\\2022-07-29_10_21_OJIP_pulse_20_blue\n",
      "LEAF1_blue_506_675\\2022-07-29_10_22_OJIP_pulse_73_blue\n",
      "LEAF1_blue_506_675\\2022-07-29_10_23_OJIP_pulse_127_blue\n",
      "LEAF1_blue_506_675\\2022-07-29_10_24_OJIP_pulse_181_blue\n",
      "LEAF1_blue_506_675\\2022-07-29_10_25_OJIP_pulse_235_blue\n",
      "LEAF1_blue_506_675\\2022-07-29_10_26_OJIP_pulse_288_blue\n",
      "LEAF1_blue_506_675\\2022-07-29_10_26_OJIP_pulse_342_blue\n",
      "LEAF1_blue_506_675\\2022-07-29_10_27_OJIP_pulse_396_blue\n",
      "LEAF1_blue_506_675\\2022-07-29_10_28_OJIP_pulse_450_blue\n",
      "LEAF1_blue_665_690/\n",
      "LEAF1_blue_665_690\\2022-07-29_10_51_OJIP_pulse_450_blue\n",
      "LEAF1_blue_665_690\\2022-07-29_10_52_OJIP_pulse_393_blue\n",
      "LEAF1_blue_665_690\\2022-07-29_10_53_OJIP_pulse_281_blue\n",
      "LEAF1_blue_665_690\\2022-07-29_10_53_OJIP_pulse_337_blue\n",
      "LEAF1_blue_665_690\\2022-07-29_10_54_OJIP_pulse_225_blue\n",
      "LEAF1_blue_665_690\\2022-07-29_10_55_OJIP_pulse_168_blue\n",
      "LEAF1_blue_665_690\\2022-07-29_10_56_OJIP_pulse_112_blue\n",
      "LEAF1_blue_665_690\\2022-07-29_10_57_OJIP_pulse_56_blue\n",
      "LEAF1_blue_665_690\\2022-07-29_10_58_OJIP_pulse_0_blue\n",
      "LEAF1_blue_665_690\\2022-07-29_10_58_OJIP_pulse_20_blue\n",
      "LEAF1_blue_665_690\\2022-07-29_10_59_OJIP_pulse_73_blue\n",
      "LEAF1_blue_665_690\\2022-07-29_11_00_OJIP_pulse_127_blue\n",
      "LEAF1_blue_665_690\\2022-07-29_11_01_OJIP_pulse_181_blue\n",
      "LEAF1_blue_665_690\\2022-07-29_11_02_OJIP_pulse_235_blue\n",
      "LEAF1_blue_665_690\\2022-07-29_11_02_OJIP_pulse_288_blue\n",
      "LEAF1_blue_665_690\\2022-07-29_11_03_OJIP_pulse_342_blue\n",
      "LEAF1_blue_665_690\\2022-07-29_11_04_OJIP_pulse_396_blue\n",
      "LEAF1_blue_665_690\\2022-07-29_11_05_OJIP_pulse_450_blue\n",
      "LEAF1_purple_665_690/\n",
      "LEAF1_purple_665_690\\2022-07-29_11_16_OJIP_pulse_450_purple\n",
      "LEAF1_purple_665_690\\2022-07-29_11_17_OJIP_pulse_393_purple\n",
      "LEAF1_purple_665_690\\2022-07-29_11_18_OJIP_pulse_337_purple\n",
      "LEAF1_purple_665_690\\2022-07-29_11_19_OJIP_pulse_225_purple\n",
      "LEAF1_purple_665_690\\2022-07-29_11_19_OJIP_pulse_281_purple\n",
      "LEAF1_purple_665_690\\2022-07-29_11_20_OJIP_pulse_168_purple\n",
      "LEAF1_purple_665_690\\2022-07-29_11_21_OJIP_pulse_112_purple\n",
      "LEAF1_purple_665_690\\2022-07-29_11_22_OJIP_pulse_56_purple\n",
      "LEAF1_purple_665_690\\2022-07-29_11_23_OJIP_pulse_0_purple\n",
      "LEAF1_purple_665_690\\2022-07-29_11_23_OJIP_pulse_20_purple\n",
      "LEAF1_purple_665_690\\2022-07-29_11_24_OJIP_pulse_73_purple\n",
      "LEAF1_green_665_690/\n",
      "LEAF1_green_665_690\\2022-07-29_11_41_OJIP_pulse_450_green\n",
      "LEAF1_green_665_690\\2022-07-29_11_42_OJIP_pulse_393_green\n",
      "LEAF1_green_665_690\\2022-07-29_11_43_OJIP_pulse_281_green\n",
      "LEAF1_green_665_690\\2022-07-29_11_43_OJIP_pulse_337_green\n",
      "LEAF1_green_665_690\\2022-07-29_11_44_OJIP_pulse_225_green\n",
      "LEAF1_green_665_690\\2022-07-29_11_45_OJIP_pulse_168_green\n",
      "LEAF1_green_665_690\\2022-07-29_11_46_OJIP_pulse_112_green\n",
      "LEAF1_green_665_690\\2022-07-29_11_48_OJIP_pulse_0_green\n",
      "LEAF1_green_665_690\\2022-07-29_11_49_OJIP_pulse_73_green\n",
      "LEAF1_green_665_690\\2022-07-29_11_50_OJIP_pulse_127_green\n",
      "LEAF1_green_665_690\\2022-07-29_11_51_OJIP_pulse_181_green\n",
      "LEAF1_green_665_690\\2022-07-29_11_52_OJIP_pulse_235_green\n",
      "LEAF1_green_665_690\\2022-07-29_11_53_OJIP_pulse_288_green\n",
      "LEAF1_green_665_690\\2022-07-29_11_53_OJIP_pulse_342_green\n",
      "LEAF1_green_665_690\\2022-07-29_11_54_OJIP_pulse_396_green\n",
      "LEAF1_green_665_690\\2022-07-29_11_55_OJIP_pulse_450_green\n",
      "LEAF1_red_665_690/\n",
      "LEAF1_red_665_690\\2022-07-29_11_58_OJIP_pulse_450_blue\n",
      "LEAF1_red_665_690\\2022-07-29_12_00_OJIP_pulse_337_blue\n",
      "LEAF1_red_665_690\\2022-07-29_12_01_OJIP_pulse_281_blue\n",
      "LEAF1_red_665_690\\2022-07-29_12_02_OJIP_pulse_225_blue\n",
      "LEAF1_red_665_690\\2022-07-29_12_03_OJIP_pulse_112_blue\n",
      "LEAF1_red_665_690\\2022-07-29_12_03_OJIP_pulse_168_blue\n",
      "LEAF1_red_665_690\\2022-07-29_12_04_OJIP_pulse_56_blue\n",
      "LEAF1_red_665_690\\2022-07-29_12_05_OJIP_pulse_0_blue\n",
      "LEAF1_red_665_690\\2022-07-29_12_07_OJIP_pulse_127_blue\n",
      "LEAF1_red_665_690\\2022-07-29_12_08_OJIP_pulse_181_blue\n",
      "LEAF1_red_665_690\\2022-07-29_12_09_OJIP_pulse_235_blue\n",
      "LEAF1_red_665_690\\2022-07-29_12_10_OJIP_pulse_288_blue\n",
      "LEAF1_red_665_690\\2022-07-29_12_11_OJIP_pulse_342_blue\n",
      "LEAF1_red_665_690\\2022-07-29_12_12_OJIP_pulse_396_blue\n",
      "LEAF1_red_665_690\\2022-07-29_12_12_OJIP_pulse_450_blue\n"
     ]
    },
    {
     "data": {
      "image/png": "[encoded data removed]",
      "text/plain": [
       "<Figure size 432x288 with 1 Axes>"
      ]
     },
     "metadata": {
      "needs_background": "light"
     },
     "output_type": "display_data"
    }
   ],
   "source": [
    "import warnings\n",
    "warnings.filterwarnings(\"ignore\", category=RuntimeWarning) \n",
    "\n",
    "\n",
    "for i in [3]:\n",
    "    tot_int = {}\n",
    "    tot_tau = {}\n",
    "    tot_maxi = {}\n",
    "    tot_voltage = {}\n",
    "    tot_purple = {}\n",
    "    plt.figure()\n",
    "\n",
    "    for folder in folder_list: \n",
    "        print(folder)\n",
    "        tot_int[folder] = []\n",
    "        tot_tau[folder] = []\n",
    "        tot_maxi[folder] = []\n",
    "        tot_voltage[folder] = []\n",
    "        tot_purple[folder] = []\n",
    "\n",
    "        for f in glob.glob(folder + \"/*pulse*\"):\n",
    "            print(f)\n",
    "            if 'e_0_' not in f:\n",
    "                intensity, params, t, y, ypred, voltage, maxi, intensity_purple, filter = multiexp_fit(f)\n",
    "\n",
    "                pos = i/params[2]\n",
    "\n",
    "                pos_tau = find_nearest(t, pos)\n",
    "\n",
    "                params = get_fit(y[:pos_tau], t[:pos_tau])\n",
    "                tot_int[folder].append(intensity)\n",
    "                tot_tau[folder].append(params)\n",
    "                tot_maxi[folder].append(maxi)\n",
    "                tot_voltage[folder].append(voltage)\n",
    "                tot_purple[folder].append(intensity_purple)\n",
    "\n",
    "        plt.plot(tot_int[folder], 1/np.array(tot_tau[folder])[:,1], \"o\", label = folder)\n",
    "    \n",
    "        plt.legend()  "
   ]
  },
  {
   "cell_type": "code",
   "execution_count": 10,
   "id": "850474a5-58d4-44cd-9a09-cbecd027d9b5",
   "metadata": {},
   "outputs": [
    {
     "data": {
      "text/plain": [
       "<matplotlib.legend.Legend at 0x1a198aac9d0>"
      ]
     },
     "execution_count": 10,
     "metadata": {},
     "output_type": "execute_result"
    },
    {
     "data": {
      "image/png": "[encoded data removed]",
      "text/plain": [
       "<Figure size 432x288 with 1 Axes>"
      ]
     },
     "metadata": {
      "needs_background": "light"
     },
     "output_type": "display_data"
    }
   ],
   "source": [
    "plt.figure()\n",
    "for folder in folder_list:\n",
    "    maxi = np.array(tot_maxi[folder])\n",
    "    if \"blue\" in folder or \"purple\" in folder:\n",
    "        maxi *= 10\n",
    "    #plt.plot(tot_int[folder], maxi , \"o\", label = folder)\n",
    "    plt.loglog( 1/np.array(tot_tau[folder])[:,1], maxi , \"o\", label = folder)\n",
    "    plt.xlabel(p.label_tau)\n",
    "    plt.ylabel(\"FM\")\n",
    "plt.legend()"
   ]
  },
  {
   "cell_type": "markdown",
   "id": "5a123f77-b8e3-40e1-b1d4-3a26306c2e3d",
   "metadata": {},
   "source": [
    "## 1/tau as equivalent to blue light intensity for 4 colors"
   ]
  },
  {
   "cell_type": "code",
   "execution_count": null,
   "id": "55a30f49-bb81-4437-a6cf-31bb7b01e0a4",
   "metadata": {},
   "outputs": [],
   "source": []
  },
  {
   "cell_type": "code",
   "execution_count": 11,
   "id": "8dea2e8d-0e84-4529-8fd4-198f962dbdf4",
   "metadata": {},
   "outputs": [
    {
     "name": "stdout",
     "output_type": "stream",
     "text": [
      "LEAF1_blue_665_690/\n",
      "[450 393 281 337 225 168 112  56  20  73 127 181 235 288 342 396 450]\n",
      "LEAF1_purple_665_690/\n",
      "[450 393 337 225 281 168 112  56  20  73]\n",
      "LEAF1_green_665_690/\n",
      "[450 393 281 337 225 168 112  73 127 181 235 288 342 396 450]\n",
      "LEAF1_red_665_690/\n",
      "[450 337 281 225 112 168  56 127 181 235 288 342 396 450]\n"
     ]
    },
    {
     "data": {
      "image/png": "[encoded data removed]",
      "text/plain": [
       "<Figure size 368.504x340.157 with 1 Axes>"
      ]
     },
     "metadata": {
      "needs_background": "light"
     },
     "output_type": "display_data"
    },
    {
     "data": {
      "text/plain": [
       "<Figure size 432x288 with 0 Axes>"
      ]
     },
     "metadata": {},
     "output_type": "display_data"
    }
   ],
   "source": [
    "p.ylabel = p.label_tau\n",
    "p.xlabel = p.label_intensity\n",
    "fig = p.set_figure(\"%d\", \"%0.0e\")\n",
    "\n",
    "\n",
    "for i, folder in enumerate(folder_list[1:]):\n",
    "    intensities = np.array(tot_voltage[folder])\n",
    "    \n",
    "    print(folder)\n",
    "    print(intensities)\n",
    "    taus = 1/np.array(tot_tau[folder])[:,1]\n",
    "    Yreg, a, results = regression_linear(intensities, taus)\n",
    "    ind = taus>10\n",
    "    plt.loglog(intensities[ind], taus[ind], linestyle=\"\", marker = [\"^\", \"+\", \"o\", \"x\"][i], markeredgecolor=\"k\", markerfacecolor=\"none\")\n",
    "    \n",
    "    plt.loglog(intensities[ind], a*intensities[ind], color = ['blue', 'purple', 'green', 'red'][i], label = \"a = %0.3e, r² = %0.2f\"%(a, results.rsquared))\n",
    "    plt.legend()\n",
    "    plt.xlabel(p.label_intensity)\n",
    "    plt.ylabel(p.label_tau)\n",
    "p.save_name = \"fit_for_each_color\"\n",
    "u = p.saving(fig)\n"
   ]
  },
  {
   "cell_type": "markdown",
   "id": "7a257197-5264-46aa-98d9-f1c6438db9e3",
   "metadata": {},
   "source": [
    "# powermeter values"
   ]
  },
  {
   "cell_type": "code",
   "execution_count": 12,
   "id": "cd27d663-009f-41b6-8ad2-ddfb6ccc6ec9",
   "metadata": {},
   "outputs": [],
   "source": [
    "#550\n",
    "dict_green = {\n",
    "    0: 0,\n",
    "    55:13.5,\n",
    "    111:18.5,\n",
    "    166:23.5,\n",
    "    222:27.5,\n",
    "    277:32,\n",
    "    333:35,\n",
    "    388:37,\n",
    "    444:42,}\n",
    "\"\"\"\n",
    "dict_green = {55.55555555555556: 149.07441299449826,\n",
    " 111.11111111111111: 306.05763125464296,\n",
    " 166.66666666666669: 452.31216557739083,\n",
    " 222.22222222222223: 588.3151345993089,\n",
    " 277.77777777777777: 715.8894132946795,\n",
    " 333.33333333333337: 836.6151615567164,\n",
    " 388.8888888888889: 950.610446361116,\n",
    " 444.44444444444446: 1057.9609557782685}\n",
    "\"\"\"\n",
    "#640\n",
    "dict_red = {\n",
    "    0: 0,\n",
    "    55:10,\n",
    "    111:14,\n",
    "    166:18,\n",
    "    222:21,\n",
    "    277:24,\n",
    "    333:28,\n",
    "    388:31,\n",
    "    444:34,}\n",
    "\"\"\"\n",
    "dict_red = {55.55555555555556: 123.75621544926872,\n",
    " 111.11111111111111: 261.73492627572074,\n",
    " 166.66666666666669: 397.22242859145007,\n",
    " 222.22222222222223: 528.3906619631629,\n",
    " 277.77777777777777: 654.6019960308844,\n",
    " 333.33333333333337: 776.5512283525172,\n",
    " 388.8888888888889: 892.7605465850573,\n",
    " 444.44444444444446: 1003.3106480099078}\n",
    "\"\"\"\n",
    "#480\n",
    "dict_blue = {\n",
    "    0: 0,\n",
    "    55:81,\n",
    "    111:141,\n",
    "    166:200,\n",
    "    222:258,\n",
    "    277:308,\n",
    "    333:355,\n",
    "    388:404,\n",
    "    444:445,}\n",
    "\n",
    "\n",
    "\n",
    "def dict_to_func(dict_amplitude):\n",
    "    x = []\n",
    "    y = []\n",
    "    for k in dict_amplitude.keys():\n",
    "        x.append(k)\n",
    "        y.append(dict_amplitude[k])\n",
    "    x = np.array(x)\n",
    "    y = np.array(y)\n",
    "    func = get_affine_func(x, y)\n",
    "    return func\n",
    "    \n",
    "def amp_to_eins(dict_amplitude, amplitude, lbd):\n",
    "    #ref: https://fr.wikipedia.org/wiki/Einstein_(unit%C3%A9_de_mesure)\n",
    "    func = dict_to_func(dict_amplitude)\n",
    "    power = func(amplitude)\n",
    "    S = 0.25\n",
    "    eins=power*1e-3*1e3*lbd/120/S\n",
    "    \n",
    "    return eins"
   ]
  },
  {
   "cell_type": "markdown",
   "id": "5928ec55-182f-4050-9b9f-fb6e2d31df81",
   "metadata": {},
   "source": [
    "## Blue and purple: voltageIntensityClass with dronpa2, green and red: powermeter. DDAO instead ?"
   ]
  },
  {
   "cell_type": "code",
   "execution_count": 13,
   "id": "eba63488-13c3-4679-8eb9-5c44fc484048",
   "metadata": {},
   "outputs": [
    {
     "name": "stderr",
     "output_type": "stream",
     "text": [
      "C:\\Users\\Alienor\\anaconda3\\envs\\tf-gpu\\lib\\site-packages\\scipy\\stats\\_stats_py.py:1477: UserWarning: kurtosistest only valid for n>=20 ... continuing anyway, n=17\n",
      "  warnings.warn(\"kurtosistest only valid for n>=20 ... continuing \"\n",
      "C:\\Users\\Alienor\\anaconda3\\envs\\tf-gpu\\lib\\site-packages\\scipy\\stats\\_stats_py.py:1477: UserWarning: kurtosistest only valid for n>=20 ... continuing anyway, n=10\n",
      "  warnings.warn(\"kurtosistest only valid for n>=20 ... continuing \"\n"
     ]
    },
    {
     "name": "stdout",
     "output_type": "stream",
     "text": [
      "                                 OLS Regression Results                                \n",
      "=======================================================================================\n",
      "Dep. Variable:                      y   R-squared (uncentered):                   0.973\n",
      "Model:                            OLS   Adj. R-squared (uncentered):              0.972\n",
      "Method:                 Least Squares   F-statistic:                              581.7\n",
      "Date:                Wed, 08 Feb 2023   Prob (F-statistic):                    5.24e-14\n",
      "Time:                        10:09:59   Log-Likelihood:                         -147.51\n",
      "No. Observations:                  17   AIC:                                      297.0\n",
      "Df Residuals:                      16   BIC:                                      297.8\n",
      "Df Model:                           1                                                  \n",
      "Covariance Type:            nonrobust                                                  \n",
      "==============================================================================\n",
      "                 coef    std err          t      P>|t|      [0.025      0.975]\n",
      "------------------------------------------------------------------------------\n",
      "x1             1.6472      0.068     24.118      0.000       1.502       1.792\n",
      "==============================================================================\n",
      "Omnibus:                       12.242   Durbin-Watson:                   0.415\n",
      "Prob(Omnibus):                  0.002   Jarque-Bera (JB):                9.079\n",
      "Skew:                           1.495   Prob(JB):                       0.0107\n",
      "Kurtosis:                       4.970   Cond. No.                         1.00\n",
      "==============================================================================\n",
      "\n",
      "Notes:\n",
      "[1] R² is computed without centering (uncentered) since the model does not contain a constant.\n",
      "[2] Standard Errors assume that the covariance matrix of the errors is correctly specified.\n",
      "                                 OLS Regression Results                                \n",
      "=======================================================================================\n",
      "Dep. Variable:                      y   R-squared (uncentered):                   0.983\n",
      "Model:                            OLS   Adj. R-squared (uncentered):              0.981\n",
      "Method:                 Least Squares   F-statistic:                              529.5\n",
      "Date:                Wed, 08 Feb 2023   Prob (F-statistic):                    2.63e-09\n",
      "Time:                        10:09:59   Log-Likelihood:                         -74.637\n",
      "No. Observations:                  10   AIC:                                      151.3\n",
      "Df Residuals:                       9   BIC:                                      151.6\n",
      "Df Model:                           1                                                  \n",
      "Covariance Type:            nonrobust                                                  \n",
      "==============================================================================\n",
      "                 coef    std err          t      P>|t|      [0.025      0.975]\n",
      "------------------------------------------------------------------------------\n",
      "x1             1.5401      0.067     23.012      0.000       1.389       1.691\n",
      "==============================================================================\n",
      "Omnibus:                        4.740   Durbin-Watson:                   1.367\n",
      "Prob(Omnibus):                  0.093   Jarque-Bera (JB):                2.159\n",
      "Skew:                           1.137   Prob(JB):                        0.340\n",
      "Kurtosis:                       3.102   Cond. No.                         1.00\n",
      "==============================================================================\n",
      "\n",
      "Notes:\n",
      "[1] R² is computed without centering (uncentered) since the model does not contain a constant.\n",
      "[2] Standard Errors assume that the covariance matrix of the errors is correctly specified.\n",
      "                                 OLS Regression Results                                \n",
      "=======================================================================================\n",
      "Dep. Variable:                      y   R-squared (uncentered):                   0.978\n",
      "Model:                            OLS   Adj. R-squared (uncentered):              0.976\n",
      "Method:                 Least Squares   F-statistic:                              614.6\n",
      "Date:                Wed, 08 Feb 2023   Prob (F-statistic):                    5.75e-13\n",
      "Time:                        10:09:59   Log-Likelihood:                         -70.629\n",
      "No. Observations:                  15   AIC:                                      143.3\n",
      "Df Residuals:                      14   BIC:                                      144.0\n",
      "Df Model:                           1                                                  \n",
      "Covariance Type:            nonrobust                                                  \n",
      "==============================================================================\n",
      "                 coef    std err          t      P>|t|      [0.025      0.975]\n",
      "------------------------------------------------------------------------------\n",
      "x1             0.3110      0.013     24.791      0.000       0.284       0.338\n",
      "==============================================================================\n",
      "Omnibus:                        5.248   Durbin-Watson:                   1.871\n",
      "Prob(Omnibus):                  0.072   Jarque-Bera (JB):                2.539\n",
      "Skew:                          -0.502   Prob(JB):                        0.281\n",
      "Kurtosis:                       4.748   Cond. No.                         1.00\n",
      "==============================================================================\n",
      "\n",
      "Notes:\n",
      "[1] R² is computed without centering (uncentered) since the model does not contain a constant.\n",
      "[2] Standard Errors assume that the covariance matrix of the errors is correctly specified.\n",
      "                                 OLS Regression Results                                \n",
      "=======================================================================================\n",
      "Dep. Variable:                      y   R-squared (uncentered):                   0.988\n",
      "Model:                            OLS   Adj. R-squared (uncentered):              0.987\n",
      "Method:                 Least Squares   F-statistic:                              1031.\n",
      "Date:                Wed, 08 Feb 2023   Prob (F-statistic):                    9.10e-14\n",
      "Time:                        10:09:59   Log-Likelihood:                         -69.473\n",
      "No. Observations:                  14   AIC:                                      140.9\n",
      "Df Residuals:                      13   BIC:                                      141.6\n",
      "Df Model:                           1                                                  \n",
      "Covariance Type:            nonrobust                                                  \n",
      "==============================================================================\n",
      "                 coef    std err          t      P>|t|      [0.025      0.975]\n",
      "------------------------------------------------------------------------------\n",
      "x1             0.6054      0.019     32.105      0.000       0.565       0.646\n",
      "==============================================================================\n",
      "Omnibus:                        5.968   Durbin-Watson:                   1.495\n",
      "Prob(Omnibus):                  0.051   Jarque-Bera (JB):                2.743\n",
      "Skew:                          -0.875   Prob(JB):                        0.254\n",
      "Kurtosis:                       4.280   Cond. No.                         1.00\n",
      "==============================================================================\n",
      "\n",
      "Notes:\n",
      "[1] R² is computed without centering (uncentered) since the model does not contain a constant.\n",
      "[2] Standard Errors assume that the covariance matrix of the errors is correctly specified.\n"
     ]
    },
    {
     "data": {
      "image/png": "[encoded data removed]",
      "text/plain": [
       "<Figure size 368.504x340.157 with 1 Axes>"
      ]
     },
     "metadata": {
      "needs_background": "light"
     },
     "output_type": "display_data"
    },
    {
     "data": {
      "text/plain": [
       "<Figure size 432x288 with 0 Axes>"
      ]
     },
     "metadata": {},
     "output_type": "display_data"
    }
   ],
   "source": [
    "dicts = [dict_blue, dict_blue, dict_green, dict_red]\n",
    "RED = 630\n",
    "dico_sigma =  {405:[], 470:[], 550:[], RED:[]}\n",
    "dico_sigma_err = {405:[], 470:[], 550:[], RED:[]}\n",
    "lbd =  [470, 405, 550, RED]\n",
    "    \n",
    "sigma = []\n",
    "error = []\n",
    "\n",
    "fig = p.set_figure(\"%d\", \"%d\")\n",
    "\n",
    "ax2 = plt.gca()   \n",
    "\n",
    "for i, folder in enumerate(folder_list[1:]):\n",
    "    voltage = np.array(tot_voltage[folder])\n",
    "    taus = 1/np.array(tot_tau[folder])[:,1]\n",
    "    \n",
    "    \n",
    "    if i<1:\n",
    "        eins =  np.array(tot_int[folder])\n",
    "        \n",
    "    elif i==1:\n",
    "        eins =  np.array(tot_purple[folder])\n",
    "    \n",
    "    else:\n",
    "        eins = amp_to_eins(dicts[i], voltage,lbd[i])\n",
    "    \n",
    "    #print(eins)\n",
    "    Yreg, a, results = regression_linear(eins, taus)\n",
    "    print(results.summary())\n",
    "\n",
    "    sigma.append(a[0])\n",
    "    error.append(results.bse[0])\n",
    "    ind = taus>10\n",
    "    ax2.loglog(eins[ind],taus[ind],  linestyle=\"\", marker = [\"^\", \"+\", \"o\", \"x\"][i], markerfacecolor=\"none\", markeredgecolor = ['blue', 'purple', 'green', 'red'][i])\n",
    "    ax2.plot(eins, a*eins, color = \"k\", label = \"a = %0.3e, r² = %0.2f\"%(a, results.rsquared))\n",
    "    #ax2.legend()\n",
    "    ax2.set_xlabel(p.label_intensity)\n",
    "    ax2.set_ylabel(p.label_tau)\n",
    "    \n",
    "    dico_sigma[lbd[i]].append(a[0])\n",
    "    dico_sigma_err[lbd[i]].append(results.bse[0])\n",
    "p.save_name = \"fit_sigma\"\n",
    "p.saving(fig)\n",
    "    \n",
    "dico_sigma[470] = [np.mean(dico_sigma[470] )]\n",
    "dico_sigma_err[470] = [np.mean(dico_sigma_err[470] )]\n",
    "\n"
   ]
  },
  {
   "cell_type": "code",
   "execution_count": 14,
   "id": "07fb5dce-0d37-44e3-900f-348ca1fd7e4a",
   "metadata": {},
   "outputs": [
    {
     "data": {
      "text/plain": [
       "Text(0, 0.5, 'sigma')"
      ]
     },
     "execution_count": 14,
     "metadata": {},
     "output_type": "execute_result"
    },
    {
     "data": {
      "image/png": "[encoded data removed]",
      "text/plain": [
       "<Figure size 432x288 with 1 Axes>"
      ]
     },
     "metadata": {
      "needs_background": "light"
     },
     "output_type": "display_data"
    }
   ],
   "source": [
    "plt.figure()\n",
    "plt.errorbar(np.array(lbd), np.array(sigma), yerr = 3*np.array(error),  marker='o', mfc='red',\n",
    "         ms=5, linestyle=\"\", color = \"k\")\n",
    "plt.ylim(0, 2)\n",
    "plt.xlabel(\"wavelength (nm)\")\n",
    "plt.ylabel(\"sigma\")"
   ]
  },
  {
   "cell_type": "markdown",
   "id": "cb98d42a-403b-4658-8aee-88865c9d87c7",
   "metadata": {},
   "source": [
    "## with the max value"
   ]
  },
  {
   "cell_type": "code",
   "execution_count": 15,
   "id": "71cba47c-a7a5-4580-a9b3-829d6fe255eb",
   "metadata": {},
   "outputs": [
    {
     "name": "stdout",
     "output_type": "stream",
     "text": [
      "[3721.85986486 3244.98295172 2773.42684315 1835.7073673  2302.42369733\n",
      " 1369.10601208  923.15373937  493.8641744   228.76211524  622.15932864]\n"
     ]
    },
    {
     "data": {
      "text/plain": [
       "{405: [0.001448881014389339],\n",
       " 470: [0.0011921752058793068],\n",
       " 550: [0.0003111503709676139],\n",
       " 630: [0.0006581085864745667]}"
      ]
     },
     "execution_count": 15,
     "metadata": {},
     "output_type": "execute_result"
    },
    {
     "data": {
      "image/png": "[encoded data removed]",
      "text/plain": [
       "<Figure size 432x288 with 1 Axes>"
      ]
     },
     "metadata": {
      "needs_background": "light"
     },
     "output_type": "display_data"
    },
    {
     "data": {
      "image/png": "[encoded data removed]",
      "text/plain": [
       "<Figure size 368.504x340.157 with 1 Axes>"
      ]
     },
     "metadata": {
      "needs_background": "light"
     },
     "output_type": "display_data"
    },
    {
     "data": {
      "text/plain": [
       "<Figure size 432x288 with 0 Axes>"
      ]
     },
     "metadata": {},
     "output_type": "display_data"
    },
    {
     "data": {
      "image/png": "[encoded data removed]",
      "text/plain": [
       "<Figure size 368.504x340.157 with 1 Axes>"
      ]
     },
     "metadata": {
      "needs_background": "light"
     },
     "output_type": "display_data"
    },
    {
     "data": {
      "text/plain": [
       "<Figure size 432x288 with 0 Axes>"
      ]
     },
     "metadata": {},
     "output_type": "display_data"
    },
    {
     "data": {
      "image/png": "[encoded data removed]",
      "text/plain": [
       "<Figure size 368.504x340.157 with 1 Axes>"
      ]
     },
     "metadata": {
      "needs_background": "light"
     },
     "output_type": "display_data"
    },
    {
     "data": {
      "text/plain": [
       "<Figure size 432x288 with 0 Axes>"
      ]
     },
     "metadata": {},
     "output_type": "display_data"
    },
    {
     "data": {
      "image/png": "[encoded data removed]",
      "text/plain": [
       "<Figure size 368.504x340.157 with 1 Axes>"
      ]
     },
     "metadata": {
      "needs_background": "light"
     },
     "output_type": "display_data"
    },
    {
     "data": {
      "text/plain": [
       "<Figure size 432x288 with 0 Axes>"
      ]
     },
     "metadata": {},
     "output_type": "display_data"
    },
    {
     "data": {
      "image/png": "[encoded data removed]",
      "text/plain": [
       "<Figure size 368.504x340.157 with 1 Axes>"
      ]
     },
     "metadata": {
      "needs_background": "light"
     },
     "output_type": "display_data"
    },
    {
     "data": {
      "text/plain": [
       "<Figure size 432x288 with 0 Axes>"
      ]
     },
     "metadata": {},
     "output_type": "display_data"
    }
   ],
   "source": [
    "dicts = [dict_blue, dict_blue, dict_blue, dict_green, dict_red]\n",
    "dico_maxi =  {405:[], 470:[], 550:[], RED:[]}\n",
    "dico_maxi_err = {405:[], 470:[], 550:[], RED:[]}\n",
    "lbd =  [470, 470, 405, 550, RED]\n",
    "sigma = []\n",
    "plt.figure()\n",
    "ax1 = plt.gca()\n",
    "for i, folder in enumerate(folder_list):\n",
    "    voltage = np.array(tot_voltage[folder])\n",
    "    maxis = np.array(tot_maxi[folder])\n",
    "    if i<3:\n",
    "        maxis *= 10\n",
    "\n",
    "            \n",
    "    if i<2:\n",
    "        eins =  np.array(tot_int[folder])\n",
    "        \n",
    "    elif i==2:\n",
    "        eins =  np.array(tot_purple[folder])\n",
    "        print(eins)\n",
    "    \n",
    "    else:\n",
    "        eins = amp_to_eins(dicts[i], voltage,lbd[i])\n",
    "        \n",
    "    fig = p.set_figure(\"%d\", \"%0.1f\")\n",
    "    plt.scatter(eins, maxis)\n",
    "    plt.xlabel(\"intensity (µEins/m²/s)\")\n",
    "    plt.ylabel(r\"$F_M$\")     \n",
    "    p.save_name = \"fmax_%s\"%lbd[i]\n",
    "    p.saving(fig)\n",
    "    \n",
    "    #plt.scatter([lbd[i]]*len(maxis), maxis/eins)\n",
    "    ax1.errorbar(lbd[i], np.mean(maxis/eins), yerr = np.std(maxis/eins),  marker='o', mfc='red',\n",
    "         ms=5, linestyle=\"\", color = \"k\")\n",
    "    ax1.set_ylim(0, 0.003)\n",
    " \n",
    "    dico_maxi[lbd[i]].append(np.mean(maxis/eins))\n",
    "    dico_maxi_err[lbd[i]].append(np.std(maxis/eins))\n",
    "dico_maxi[470] = [np.mean(dico_maxi[470] )]\n",
    "dico_maxi_err[470] = [np.mean(dico_maxi_err[470] )]\n",
    "dico_maxi"
   ]
  },
  {
   "cell_type": "code",
   "execution_count": 16,
   "id": "dd9d50c8-3c31-494b-b8f1-ebcb7a4bd795",
   "metadata": {},
   "outputs": [
    {
     "name": "stdout",
     "output_type": "stream",
     "text": [
      "{405: array([0.67289909, 0.68475427, 0.68866051, 0.6959145 , 0.70075013,\n",
      "       0.7073493 , 0.71209179, 0.7157978 , 0.72105881, 0.72541468,\n",
      "       0.73049279, 0.73414277, 0.73641759, 0.7395206 , 0.74189882,\n",
      "       0.7445665 , 0.74591624, 0.74578574, 0.74732085, 0.74666437,\n",
      "       0.74642192, 0.74370543, 0.74302199, 0.73982776, 0.73981634,\n",
      "       0.73718116, 0.73788328]), 470: array([1.05027765, 1.0564406 , 1.03688518, 1.04372267, 1.02467176,\n",
      "       1.02938807, 1.01757118, 1.02443989, 1.01495984, 1.01727448,\n",
      "       1.0075645 , 1.00861839, 1.00344406, 1.00137316, 0.99703888,\n",
      "       0.99363603, 0.98863384, 0.98686808, 0.98018925, 0.97805158,\n",
      "       0.97325739, 0.97065481, 0.96613183, 0.9636114 , 0.9586295 ,\n",
      "       0.95556023, 0.95110576]), 550: array([0.37124757, 0.36965377, 0.36645285, 0.36323211, 0.36245175,\n",
      "       0.36161128, 0.36118465, 0.35939762, 0.35713357, 0.35666567,\n",
      "       0.35346623, 0.35201754, 0.34809015, 0.34835592, 0.34512827,\n",
      "       0.34519242, 0.34247636, 0.34260851, 0.34089145, 0.34168176,\n",
      "       0.33978996, 0.34057357, 0.33863876, 0.33958979, 0.33841985,\n",
      "       0.33903724, 0.33780203]), 640: array([0.44038972, 0.44537086, 0.44021012, 0.44418194, 0.44045568,\n",
      "       0.44385747, 0.4415318 , 0.4454267 , 0.44214227, 0.44614245,\n",
      "       0.44297599, 0.44624129, 0.44277944, 0.44646089, 0.44459278,\n",
      "       0.44910737, 0.44612844, 0.4500645 , 0.44705637, 0.45089883,\n",
      "       0.44818609, 0.4516631 , 0.44844688, 0.45173807, 0.44903482,\n",
      "       0.45200665, 0.44891352])}\n",
      "{405: (1.0147005863867304, 0.08193619653203629), 470: (1.0, 0.021541502363442346), 550: (0.2001908461893266, 0.00233680938051354), 640: (0.43932164925451356, 0.08056704287873444)}\n"
     ]
    }
   ],
   "source": [
    "dico_leaf = np.load(\"spectra/excitation_dic_leaf.npy\", allow_pickle=True).item()\n",
    "dico_average= np.load(\"spectra/excitation_dic_average.npy\", allow_pickle=True).item()\n",
    "print(dico_leaf)\n",
    "print(dico_average)"
   ]
  },
  {
   "cell_type": "code",
   "execution_count": 17,
   "id": "47cb98e9-2413-4c0a-ab3e-e3761b1ed6b1",
   "metadata": {},
   "outputs": [
    {
     "name": "stdout",
     "output_type": "stream",
     "text": [
      "0.06865112754363802\n",
      "0.2587854460861382\n",
      "0.07407797690014417\n",
      "0.14106013540536633\n"
     ]
    },
    {
     "data": {
      "text/plain": [
       "Text(0, 0.5, 'fluorescence exctation')"
      ]
     },
     "execution_count": 17,
     "metadata": {},
     "output_type": "execute_result"
    },
    {
     "data": {
      "image/png": "[encoded data removed]",
      "text/plain": [
       "<Figure size 432x288 with 1 Axes>"
      ]
     },
     "metadata": {
      "needs_background": "light"
     },
     "output_type": "display_data"
    }
   ],
   "source": [
    "\n",
    "sig = 1\n",
    "\n",
    "plt.figure()\n",
    "\n",
    "maxi_graph = []\n",
    "for lbd in dico_maxi.keys():\n",
    "    x = dico_maxi[lbd][0]/dico_maxi[470][0]\n",
    "    err =  dico_maxi_err[lbd][0]/dico_maxi[470][0]\n",
    "    print(err)\n",
    "    maxi_graph.append([lbd, x , err] )\n",
    "    plt.errorbar(lbd, x, yerr = err,   fmt = '--ro', ms=5, \n",
    "                 mfc = 'g', elinewidth = 1.2, capsize = 4, capthick = 1.2, color = \"g\")\n",
    "    \n",
    "\n",
    "sigma_graph = []\n",
    "for lbd in dico_sigma.keys():\n",
    "    x =  dico_sigma[lbd][0]#/dico_sigma[470][0]\n",
    "    err =  dico_sigma_err[lbd][0]#/dico_sigma[470][0]\n",
    "    sigma_graph.append([lbd, x , err] )             \n",
    "    plt.errorbar(lbd,x, yerr = err,  marker='o', mfc='blue',\n",
    "         ms=5, linestyle=\"\", color = \"b\", fmt='--o', capsize = 3)\n",
    "\n",
    "leaf_graph = []\n",
    "for lbd in dico_leaf.keys():\n",
    "    x = np.mean(dico_leaf[lbd])\n",
    "    err = np.std(dico_leaf[lbd])\n",
    "    leaf_graph.append([lbd, x , err] )\n",
    "    plt.errorbar(lbd, x, yerr = err,  marker='o', mfc='red',\n",
    "         ms=5, linestyle=\"\", color = \"r\", fmt='--o', capsize = 3)\n",
    "    \n",
    "average_graph = []\n",
    "for lbd in dico_average.keys():\n",
    "    x = dico_average[lbd][0]\n",
    "    \n",
    "    err = dico_average[lbd][1]\n",
    "    average_graph.append([lbd, x , err] )\n",
    "    plt.errorbar(lbd, x, yerr = err,  marker='o', mfc='red',\n",
    "         ms=5, linestyle=\"\", color = \"r\", fmt='--o', capsize = 3)\n",
    "    \n",
    "                    \n",
    "                \n",
    "    \n",
    "\n",
    "plt.ylim(0, 1.6)\n",
    "plt.xlabel(\"wavelength (nm)\")\n",
    "plt.ylabel(\"fluorescence exctation\")"
   ]
  },
  {
   "cell_type": "code",
   "execution_count": 18,
   "id": "aea30f6c-ea5c-4f85-b443-ae90a2b7e3bd",
   "metadata": {},
   "outputs": [
    {
     "data": {
      "text/plain": [
       "[[405, 1.5400836765426267, 0.06692643413536926],\n",
       " [470, 1.6471672544230054, 0.06829629382220453],\n",
       " [550, 0.3109686491238928, 0.012543369249548185],\n",
       " [630, 0.6054402298199753, 0.018858241576354715]]"
      ]
     },
     "execution_count": 18,
     "metadata": {},
     "output_type": "execute_result"
    }
   ],
   "source": [
    "sigma_graph"
   ]
  },
  {
   "cell_type": "code",
   "execution_count": 19,
   "id": "62a7c981-815c-43a5-9c5a-405d07ec1d11",
   "metadata": {},
   "outputs": [
    {
     "data": {
      "text/plain": [
       "[[405, 1.0147005863867304, 0.08193619653203629],\n",
       " [470, 1.0, 0.021541502363442346],\n",
       " [550, 0.2001908461893266, 0.00233680938051354],\n",
       " [640, 0.43932164925451356, 0.08056704287873444]]"
      ]
     },
     "execution_count": 19,
     "metadata": {},
     "output_type": "execute_result"
    }
   ],
   "source": [
    "average_graph"
   ]
  },
  {
   "cell_type": "code",
   "execution_count": 20,
   "id": "a79c9f9d-71c9-4bdc-8520-269abcb4318e",
   "metadata": {},
   "outputs": [
    {
     "data": {
      "text/plain": [
       "[[[405.0, 1.199322364253414, 0.40943869265577704],\n",
       "  [470.0, 1.65, 0.5632962938222045],\n",
       "  [550.0, 0.5782816506276067, 0.1974205518690411],\n",
       "  [640.0, 0.7361446916163334, 0.2513136827299214]],\n",
       " [[405.0, 1.4205808209414226, 0.4954745356718582],\n",
       "  [470.0, 1.4, 0.4882962938222045],\n",
       "  [550.0, 0.2802671846650572, 0.09775244825137915],\n",
       "  [640.0, 0.615050308956319, 0.2145191331268374]]]"
      ]
     },
     "execution_count": 20,
     "metadata": {},
     "output_type": "execute_result"
    }
   ],
   "source": [
    "sigma_pred_graph = [[],[]]\n",
    "for j, graph in enumerate([leaf_graph, average_graph]):\n",
    "    graph = np.array(graph)\n",
    "\n",
    "    for i in range(len(graph)):\n",
    "        lbd, x, err = graph[i,0], graph[i,1], graph[i,2]\n",
    "        sigref = [1.65, 1.4][j]\n",
    "        val = x*sigref\n",
    "        err = x*sigma_graph[1][2] + sigref *x*0.3\n",
    "        sigma_pred_graph[j].append([lbd,val, err])\n",
    "sigma_pred_graph"
   ]
  },
  {
   "cell_type": "code",
   "execution_count": 21,
   "id": "1f1fc7cb-7f35-416e-9284-546a93364dfe",
   "metadata": {},
   "outputs": [
    {
     "data": {
      "image/png": "[encoded data removed]",
      "text/plain": [
       "<Figure size 368.504x340.157 with 1 Axes>"
      ]
     },
     "metadata": {
      "needs_background": "light"
     },
     "output_type": "display_data"
    }
   ],
   "source": [
    "color = [\"g\", \"b\", \"r\"]\n",
    "labels = [\"Fm/intensity\", \"measured sigma\", \"leaf spectrum\"] \n",
    "\n",
    "\n",
    "\n",
    "fill =  [ \"////\" , \"\\\\\\\\\" , \"....\" , \"xxxx\", \"oooo\", \"O\"]\n",
    "\n",
    "p.figsize=(10,10)\n",
    "fig = p.set_figure(\"%d\", \"%0.1f\")\n",
    "ax = fig.gca()\n",
    "X = np.array([0,1,2,3])\n",
    "for i, graph in enumerate([ maxi_graph, sigma_graph, leaf_graph]):\n",
    "    graph = np.array(graph)\n",
    "    lbd, x, err = graph[:,0], graph[:,1], graph[:,2]\n",
    "\n",
    "    ax.bar(X + 0.25*i, x, color = \"w\", width = 0.25, yerr = err,  \n",
    "                  capsize = 4, label = labels[i], hatch = fill[i], edgecolor = \"k\")\n",
    "plt.legend(prop={\"size\":15})\n",
    "plt.xlabel(\"wavelength (nm)\")\n",
    "\n",
    "plt.ylabel(\"A.U.\")\n",
    "ax.set_xticks(X+0.25)\n",
    "ax.set_xticklabels([\"405\", \"480\", \"550\", \"630\"])\n",
    "plt.savefig(p.save_folder + \"spectrum\" + p.extension)\n",
    "\n"
   ]
  },
  {
   "cell_type": "code",
   "execution_count": 22,
   "id": "d36f5e8c-bb70-409e-b060-072a2a10a8c8",
   "metadata": {},
   "outputs": [
    {
     "data": {
      "text/plain": [
       "[[405, 1.5400836765426267, 0.06692643413536926],\n",
       " [470, 1.6471672544230054, 0.06829629382220453],\n",
       " [550, 0.3109686491238928, 0.012543369249548185],\n",
       " [630, 0.6054402298199753, 0.018858241576354715]]"
      ]
     },
     "execution_count": 22,
     "metadata": {},
     "output_type": "execute_result"
    }
   ],
   "source": [
    "sigma_graph"
   ]
  },
  {
   "cell_type": "code",
   "execution_count": 23,
   "id": "d293be4f-a257-46cc-85a1-e364003954d7",
   "metadata": {},
   "outputs": [
    {
     "data": {
      "text/plain": [
       "array([405., 470., 550., 640.])"
      ]
     },
     "execution_count": 23,
     "metadata": {},
     "output_type": "execute_result"
    }
   ],
   "source": [
    "lbd"
   ]
  },
  {
   "cell_type": "code",
   "execution_count": 24,
   "id": "61c997bc-3c04-4cea-b6d3-c20b8f12b835",
   "metadata": {},
   "outputs": [
    {
     "name": "stdout",
     "output_type": "stream",
     "text": [
      "[405. 470. 550. 630.]\n"
     ]
    },
    {
     "data": {
      "image/png": "[encoded data removed]",
      "text/plain": [
       "<Figure size 368.504x340.157 with 1 Axes>"
      ]
     },
     "metadata": {
      "needs_background": "light"
     },
     "output_type": "display_data"
    }
   ],
   "source": [
    "p.figsize=(10,10)\n",
    "p.xlabel = r'$\\lambda$ (nm)'\n",
    "p.ylabel =  r\"$\\sigma$ ($\\mathrm{10^6 m^2.mol^{-1}}$)\"\n",
    "\n",
    "fig = p.set_figure(\"%d\", \"%0.1f\")\n",
    "\n",
    "#spectrum = np.load(\"spectra/spectrum_N_16.npy\")\n",
    "#plt.plot(spectrum[0], spectrum[1]/spectrum[1][spectrum[0]==470]*1.65, color = 'grey')\n",
    "#spectrum = np.load(\"spectra/spectra_chlamy.npy\")\n",
    "#plt.plot(spectrum[0], spectrum[1]/spectrum[1][spectrum[0]==470]*1.65, '--', color = 'grey')\n",
    "#spectrum = np.load(\"spectra/spectra_thylakoid.npy\")\n",
    "#plt.plot(spectrum[0], spectrum[1]*1.65, '-.', color = 'grey')\n",
    "spectrum = np.load(\"spectra/spectra_average.npy\")\n",
    "y = spectrum[1]*1.44\n",
    "x = spectrum[0]\n",
    "x, err = np.load(\"spectra/spectra_average_std.npy\")\n",
    "plt.plot(spectrum[0], y,color = 'black')\n",
    "plt.fill_between(x, y-np.max(err), y+np.max(err), color = \"lightgrey\")\n",
    "\n",
    "\n",
    "for i, graph in enumerate([sigma_graph]):#[sigma_graph, sigma_pred_graph[0], sigma_pred_graph[1]]):\n",
    "    graph = np.array(graph)\n",
    "    lbd, x, err = graph[:,0], graph[:,1], graph[:,2]\n",
    "    print(lbd)\n",
    "    plt.errorbar(lbd, x, yerr = err,   fmt = ['o','^', 's'][i], ms=10, \n",
    "                 mfc = [\"g\", \"r\", \"b\"][i], elinewidth = 1.2, capsize = 4, capthick = 1.2, color = [\"g\", \"r\", \"b\"][i])\n",
    "\"\"\"  \n",
    "for i, graph in enumerate([leaf_graph]):#[sigma_graph, sigma_pred_graph[0], sigma_pred_graph[1]]):\n",
    "    i+=1\n",
    "    graph = np.array(graph)\n",
    "    lbd, x, err = graph[:,0], graph[:,1]*1.4, graph[:,2]*1.4\n",
    "    plt.errorbar(lbd, x, yerr = err,   fmt = ['o','^', 's'][i], ms=10, \n",
    "                 mfc = [\"g\", \"r\", \"b\"][i], elinewidth = 1.2, capsize = 4, capthick = 1.2, color = [\"g\", \"r\", \"b\"][i])\n",
    "\"\"\"    \n",
    "    \n",
    "plt.errorbar(625, 0.435 , yerr = 0.41*0.25,   fmt = ['o','^', 's'][i+1], ms=10, \n",
    "                 mfc = [\"g\", \"r\", \"b\"][i+1], elinewidth = 1.2, capsize = 4, capthick = 1.2, color = [\"g\", \"r\", \"b\"][i+1])\n",
    " \n",
    "p.save_name = 'prediction_spectra_sigma'\n",
    "plt.savefig('G:/DREAM/from_github/thesis/Intensity_paper/' + p.save_name + p.extension)"
   ]
  },
  {
   "cell_type": "code",
   "execution_count": 25,
   "id": "c6cf9450-a6c6-470a-9b58-f39aa6a8f7ce",
   "metadata": {},
   "outputs": [
    {
     "data": {
      "text/plain": [
       "array([0.17746115])"
      ]
     },
     "execution_count": 25,
     "metadata": {},
     "output_type": "execute_result"
    }
   ],
   "source": [
    "x, err = np.load(\"spectra/spectra_average_std.npy\")\n",
    "#x, y = np.load(\"spectra/spectra_average.npy\")\n",
    "\n",
    "err[x==405]"
   ]
  },
  {
   "cell_type": "markdown",
   "id": "fe88e73d-8ba1-4c17-8fbd-d10cca15cc9a",
   "metadata": {},
   "source": [
    "## Multiple intensities"
   ]
  },
  {
   "cell_type": "code",
   "execution_count": 26,
   "id": "bcecf9ac-cf80-46ae-8860-d3947fe46bb0",
   "metadata": {},
   "outputs": [
    {
     "name": "stdout",
     "output_type": "stream",
     "text": [
      "LEAF1_blue_506_675/\n",
      "LEAF1_blue_506_675\\2022-07-29_10_14_OJIP_pulse_450_blue\n",
      "LEAF1_blue_506_675\\2022-07-29_10_15_OJIP_pulse_393_blue\n",
      "LEAF1_blue_506_675\\2022-07-29_10_16_OJIP_pulse_337_blue\n",
      "LEAF1_blue_506_675\\2022-07-29_10_17_OJIP_pulse_225_blue\n",
      "LEAF1_blue_506_675\\2022-07-29_10_17_OJIP_pulse_281_blue\n",
      "LEAF1_blue_506_675\\2022-07-29_10_18_OJIP_pulse_168_blue\n",
      "LEAF1_blue_506_675\\2022-07-29_10_19_OJIP_pulse_112_blue\n",
      "LEAF1_blue_506_675\\2022-07-29_10_20_OJIP_pulse_56_blue\n",
      "LEAF1_blue_506_675\\2022-07-29_10_21_OJIP_pulse_20_blue\n",
      "LEAF1_blue_506_675\\2022-07-29_10_22_OJIP_pulse_73_blue\n",
      "LEAF1_blue_506_675\\2022-07-29_10_23_OJIP_pulse_127_blue\n",
      "LEAF1_blue_506_675\\2022-07-29_10_24_OJIP_pulse_181_blue\n",
      "LEAF1_blue_506_675\\2022-07-29_10_25_OJIP_pulse_235_blue\n",
      "LEAF1_blue_506_675\\2022-07-29_10_26_OJIP_pulse_288_blue\n",
      "LEAF1_blue_506_675\\2022-07-29_10_26_OJIP_pulse_342_blue\n",
      "LEAF1_blue_506_675\\2022-07-29_10_27_OJIP_pulse_396_blue\n",
      "LEAF1_blue_506_675\\2022-07-29_10_28_OJIP_pulse_450_blue\n"
     ]
    },
    {
     "name": "stderr",
     "output_type": "stream",
     "text": [
      "No artists with labels found to put in legend.  Note that artists whose label start with an underscore are ignored when legend() is called with no argument.\n"
     ]
    },
    {
     "name": "stdout",
     "output_type": "stream",
     "text": [
      "LEAF1_blue_506_675/\n",
      "LEAF1_blue_506_675\\2022-07-29_10_14_OJIP_pulse_450_blue\n",
      "LEAF1_blue_506_675\\2022-07-29_10_15_OJIP_pulse_393_blue\n",
      "LEAF1_blue_506_675\\2022-07-29_10_16_OJIP_pulse_337_blue\n",
      "LEAF1_blue_506_675\\2022-07-29_10_17_OJIP_pulse_225_blue\n",
      "LEAF1_blue_506_675\\2022-07-29_10_17_OJIP_pulse_281_blue\n",
      "LEAF1_blue_506_675\\2022-07-29_10_18_OJIP_pulse_168_blue\n",
      "LEAF1_blue_506_675\\2022-07-29_10_19_OJIP_pulse_112_blue\n",
      "LEAF1_blue_506_675\\2022-07-29_10_20_OJIP_pulse_56_blue\n",
      "LEAF1_blue_506_675\\2022-07-29_10_21_OJIP_pulse_20_blue\n",
      "LEAF1_blue_506_675\\2022-07-29_10_22_OJIP_pulse_73_blue\n",
      "LEAF1_blue_506_675\\2022-07-29_10_23_OJIP_pulse_127_blue\n",
      "LEAF1_blue_506_675\\2022-07-29_10_24_OJIP_pulse_181_blue\n",
      "LEAF1_blue_506_675\\2022-07-29_10_25_OJIP_pulse_235_blue\n",
      "LEAF1_blue_506_675\\2022-07-29_10_26_OJIP_pulse_288_blue\n",
      "LEAF1_blue_506_675\\2022-07-29_10_26_OJIP_pulse_342_blue\n",
      "LEAF1_blue_506_675\\2022-07-29_10_27_OJIP_pulse_396_blue\n",
      "LEAF1_blue_506_675\\2022-07-29_10_28_OJIP_pulse_450_blue\n"
     ]
    },
    {
     "name": "stderr",
     "output_type": "stream",
     "text": [
      "No artists with labels found to put in legend.  Note that artists whose label start with an underscore are ignored when legend() is called with no argument.\n"
     ]
    },
    {
     "data": {
      "image/png": "[encoded data removed]",
      "text/plain": [
       "<Figure size 368.504x340.157 with 1 Axes>"
      ]
     },
     "metadata": {
      "needs_background": "light"
     },
     "output_type": "display_data"
    }
   ],
   "source": [
    "folder_list = ['LEAF1_blue_506_675/']\n",
    "p.figsize = (10, 10)\n",
    "fig1 = p.set_figure(\"%e\", \"%0.2f\")\n",
    "ax1 = plt.gca()\n",
    "\n",
    "intensity_list = []\n",
    "tau_list = []\n",
    "\n",
    "for N in [50, 10]:\n",
    "    k = 1\n",
    "    for i, folder in enumerate(folder_list): \n",
    "        print(folder)\n",
    "        for j, f in enumerate(glob.glob(folder + \"/*pulse*\")):\n",
    "\n",
    "            if 'e_0_' not in f:# and j%2==0:\n",
    "                print(f)\n",
    "                intensity, params, t, y, ypred, voltage, maxi, purple, filter = multiexp_fit(f, N=N, bode_folder = \"2022-07-29_16_33_bode_diagram\")\n",
    "                \n",
    "                if N==50 and j>8:\n",
    "                    ax1.semilogx(t, y, c =  \"grey\")\n",
    "                    ax1.annotate(k, (t[-200],np.mean(y[-200:])+0.01), xycoords = \"data\", fontsize=10)\n",
    "                    ax1.semilogx(t, ypred, \"--k\")\n",
    "                    k+=1\n",
    "\n",
    "                #ax1.plot(t, y, c =  \"grey\", label = f[0:5])\n",
    "                #ax1.plot(t, ypred, c = \"k\")\n",
    "\n",
    "                if N==10:\n",
    "                    pos = 3/params[2]\n",
    "                    #if pos < 5e-4:\n",
    "                    #    pos = 5e-4\n",
    "                    #ax1.scatter(pos, sigmoidal_OJIP(params, pos), c = 'k', s = 300)\n",
    "                    pos_tau = find_nearest(t, pos)\n",
    "                    params = get_fit(y[:pos_tau], t[:pos_tau])\n",
    "\n",
    "                    D = 400\n",
    "                    pos_tau = find_nearest(t, D*params[1])\n",
    "                    ypred =  exp_decay(params, t[:pos_tau*D])\n",
    "                    \n",
    "                    if j>8:\n",
    "                        ax1.semilogx(t[:pos_tau*D],ypred, \"k\")\n",
    "                    \n",
    "                    \n",
    "                    intensity_list.append(intensity)\n",
    "                    tau_list.append(1/params[1])\n",
    "                    #ax2.annotate(k, (t[18],ypred[12]), xycoords = \"data\", fontsize=12*2.54)\n",
    "                    k+=1\n",
    "\n",
    "                    #plt.scatter(intensity, 1/params[1])\n",
    "    ax1.legend()\n",
    "    ax1.set_xlabel(\"$t$ (s)\")\n",
    "    ax1.set_ylabel(\"$F(t)$ (a.u.)\")\n",
    "\n",
    "    fig1.savefig(p.save_folder + \"intensity_leaf_JC\"+p.extension)\n",
    "  "
   ]
  },
  {
   "cell_type": "code",
   "execution_count": 28,
   "id": "bb48b9c0-1525-4df3-b773-df1243c361a5",
   "metadata": {},
   "outputs": [
    {
     "name": "stdout",
     "output_type": "stream",
     "text": [
      "[7840.24331524865, 7151.79252666145, 6389.573607086648, 4598.195174717105, 5539.41577443679, 3543.125610214587, 2407.4712817210116, 1169.5865454524858, 317.8417759965913, 1556.4296240407364, 2721.518090732702, 3792.569465727102, 4773.097110365011, 5650.598675743227, 6461.160288303199, 7190.200101186894, 7840.24331524865]\n"
     ]
    },
    {
     "data": {
      "text/html": [
       "<table class=\"simpletable\">\n",
       "<caption>OLS Regression Results</caption>\n",
       "<tr>\n",
       "  <th>Dep. Variable:</th>            <td>y</td>        <th>  R-squared (uncentered):</th>      <td>   0.965</td>\n",
       "</tr>\n",
       "<tr>\n",
       "  <th>Model:</th>                   <td>OLS</td>       <th>  Adj. R-squared (uncentered):</th> <td>   0.962</td>\n",
       "</tr>\n",
       "<tr>\n",
       "  <th>Method:</th>             <td>Least Squares</td>  <th>  F-statistic:       </th>          <td>   436.0</td>\n",
       "</tr>\n",
       "<tr>\n",
       "  <th>Date:</th>             <td>Wed, 08 Feb 2023</td> <th>  Prob (F-statistic):</th>          <td>4.92e-13</td>\n",
       "</tr>\n",
       "<tr>\n",
       "  <th>Time:</th>                 <td>10:11:29</td>     <th>  Log-Likelihood:    </th>          <td> -147.78</td>\n",
       "</tr>\n",
       "<tr>\n",
       "  <th>No. Observations:</th>      <td>    17</td>      <th>  AIC:               </th>          <td>   297.6</td>\n",
       "</tr>\n",
       "<tr>\n",
       "  <th>Df Residuals:</th>          <td>    16</td>      <th>  BIC:               </th>          <td>   298.4</td>\n",
       "</tr>\n",
       "<tr>\n",
       "  <th>Df Model:</th>              <td>     1</td>      <th>                     </th>              <td> </td>   \n",
       "</tr>\n",
       "<tr>\n",
       "  <th>Covariance Type:</th>      <td>nonrobust</td>    <th>                     </th>              <td> </td>   \n",
       "</tr>\n",
       "</table>\n",
       "<table class=\"simpletable\">\n",
       "<tr>\n",
       "   <td></td>     <th>coef</th>     <th>std err</th>      <th>t</th>      <th>P>|t|</th>  <th>[0.025</th>    <th>0.975]</th>  \n",
       "</tr>\n",
       "<tr>\n",
       "  <th>x1</th> <td>    1.4487</td> <td>    0.069</td> <td>   20.881</td> <td> 0.000</td> <td>    1.302</td> <td>    1.596</td>\n",
       "</tr>\n",
       "</table>\n",
       "<table class=\"simpletable\">\n",
       "<tr>\n",
       "  <th>Omnibus:</th>       <td> 5.120</td> <th>  Durbin-Watson:     </th> <td>   0.507</td>\n",
       "</tr>\n",
       "<tr>\n",
       "  <th>Prob(Omnibus):</th> <td> 0.077</td> <th>  Jarque-Bera (JB):  </th> <td>   3.674</td>\n",
       "</tr>\n",
       "<tr>\n",
       "  <th>Skew:</th>          <td> 1.137</td> <th>  Prob(JB):          </th> <td>   0.159</td>\n",
       "</tr>\n",
       "<tr>\n",
       "  <th>Kurtosis:</th>      <td> 2.891</td> <th>  Cond. No.          </th> <td>    1.00</td>\n",
       "</tr>\n",
       "</table><br/><br/>Notes:<br/>[1] R² is computed without centering (uncentered) since the model does not contain a constant.<br/>[2] Standard Errors assume that the covariance matrix of the errors is correctly specified."
      ],
      "text/plain": [
       "<class 'statsmodels.iolib.summary.Summary'>\n",
       "\"\"\"\n",
       "                                 OLS Regression Results                                \n",
       "=======================================================================================\n",
       "Dep. Variable:                      y   R-squared (uncentered):                   0.965\n",
       "Model:                            OLS   Adj. R-squared (uncentered):              0.962\n",
       "Method:                 Least Squares   F-statistic:                              436.0\n",
       "Date:                Wed, 08 Feb 2023   Prob (F-statistic):                    4.92e-13\n",
       "Time:                        10:11:29   Log-Likelihood:                         -147.78\n",
       "No. Observations:                  17   AIC:                                      297.6\n",
       "Df Residuals:                      16   BIC:                                      298.4\n",
       "Df Model:                           1                                                  \n",
       "Covariance Type:            nonrobust                                                  \n",
       "==============================================================================\n",
       "                 coef    std err          t      P>|t|      [0.025      0.975]\n",
       "------------------------------------------------------------------------------\n",
       "x1             1.4487      0.069     20.881      0.000       1.302       1.596\n",
       "==============================================================================\n",
       "Omnibus:                        5.120   Durbin-Watson:                   0.507\n",
       "Prob(Omnibus):                  0.077   Jarque-Bera (JB):                3.674\n",
       "Skew:                           1.137   Prob(JB):                        0.159\n",
       "Kurtosis:                       2.891   Cond. No.                         1.00\n",
       "==============================================================================\n",
       "\n",
       "Notes:\n",
       "[1] R² is computed without centering (uncentered) since the model does not contain a constant.\n",
       "[2] Standard Errors assume that the covariance matrix of the errors is correctly specified.\n",
       "\"\"\""
      ]
     },
     "execution_count": 28,
     "metadata": {},
     "output_type": "execute_result"
    },
    {
     "data": {
      "image/png": "[encoded data removed]",
      "text/plain": [
       "<Figure size 368.504x340.157 with 1 Axes>"
      ]
     },
     "metadata": {
      "needs_background": "light"
     },
     "output_type": "display_data"
    },
    {
     "data": {
      "text/plain": [
       "<Figure size 432x288 with 0 Axes>"
      ]
     },
     "metadata": {},
     "output_type": "display_data"
    }
   ],
   "source": [
    "print(intensity_list)\n",
    "\n",
    "p.xlabel = label_intensity \n",
    "p.ylabel = p.label_tau\n",
    "fig1 = p.set_figure(\"%d\", \"%d\")\n",
    "X = np.array(intensity_list)\n",
    "Y = np.array(tau_list)\n",
    "plt.plot(X,Y, \"ok\")\n",
    "Yreg, a, results = regression_linear(X,Y)\n",
    "plt.plot(X, Yreg, \"-k\")\n",
    "\n",
    "p.save_name = 'leaf_intensity_single_fit'\n",
    "u = p.saving(fig1)\n",
    "results.summary()"
   ]
  },
  {
   "cell_type": "markdown",
   "id": "8d862145-7187-4480-9ef6-4637855330dd",
   "metadata": {},
   "source": [
    "### Multiple leaves\n"
   ]
  },
  {
   "cell_type": "code",
   "execution_count": 29,
   "id": "a24abc5b-2825-4a15-8c90-afab262c6c7e",
   "metadata": {},
   "outputs": [],
   "source": [
    "folder_list = ['LEAF1_blue_506_675/','LEAF2_blue_506_675/', 'LEAF3_blue_506_675/',\n",
    "               \"../FOLDER_2022_07_28_OJIP_leaf/LEAF1_DO0/\", \"../FOLDER_2022_07_28_OJIP_leaf/LEAF2_DO0/\", \"../FOLDER_2022_07_28_OJIP_leaf/LEAF3_DO0_green/\" ]\n"
   ]
  },
  {
   "cell_type": "markdown",
   "id": "6d1ffb79-4446-46bb-b844-62dec450614a",
   "metadata": {},
   "source": [
    "## OJIP FITS"
   ]
  },
  {
   "cell_type": "code",
   "execution_count": 30,
   "id": "d93cd940-9c37-4135-ac8f-52fd5b8b4172",
   "metadata": {},
   "outputs": [
    {
     "name": "stdout",
     "output_type": "stream",
     "text": [
      "LEAF1_blue_506_675/\n",
      "LEAF1_blue_506_675\\2022-07-29_10_14_OJIP_pulse_450_blue\n",
      "LEAF2_blue_506_675/\n",
      "LEAF2_blue_506_675\\2022-07-29_13_35_OJIP_pulse_450_blue\n",
      "LEAF3_blue_506_675/\n",
      "LEAF3_blue_506_675\\2022-07-29_15_31_OJIP_pulse_450_blue\n",
      "../FOLDER_2022_07_28_OJIP_leaf/LEAF1_DO0/\n",
      "../FOLDER_2022_07_28_OJIP_leaf/LEAF2_DO0/\n",
      "../FOLDER_2022_07_28_OJIP_leaf/LEAF3_DO0_green/\n",
      "../FOLDER_2022_07_28_OJIP_leaf/LEAF3_DO0_green\\2022-07-28_13_34_OJIP_pulse_450\n"
     ]
    },
    {
     "name": "stderr",
     "output_type": "stream",
     "text": [
      "No artists with labels found to put in legend.  Note that artists whose label start with an underscore are ignored when legend() is called with no argument.\n"
     ]
    },
    {
     "name": "stdout",
     "output_type": "stream",
     "text": [
      "LEAF1_blue_506_675/\n",
      "LEAF1_blue_506_675\\2022-07-29_10_14_OJIP_pulse_450_blue\n",
      "LEAF2_blue_506_675/\n",
      "LEAF2_blue_506_675\\2022-07-29_13_35_OJIP_pulse_450_blue\n",
      "LEAF3_blue_506_675/\n",
      "LEAF3_blue_506_675\\2022-07-29_15_31_OJIP_pulse_450_blue\n",
      "../FOLDER_2022_07_28_OJIP_leaf/LEAF1_DO0/\n",
      "../FOLDER_2022_07_28_OJIP_leaf/LEAF2_DO0/\n",
      "../FOLDER_2022_07_28_OJIP_leaf/LEAF3_DO0_green/\n",
      "../FOLDER_2022_07_28_OJIP_leaf/LEAF3_DO0_green\\2022-07-28_13_34_OJIP_pulse_450\n"
     ]
    },
    {
     "name": "stderr",
     "output_type": "stream",
     "text": [
      "No artists with labels found to put in legend.  Note that artists whose label start with an underscore are ignored when legend() is called with no argument.\n"
     ]
    },
    {
     "data": {
      "image/png": "[encoded data removed]",
      "text/plain": [
       "<Figure size 368.504x340.157 with 1 Axes>"
      ]
     },
     "metadata": {
      "needs_background": "light"
     },
     "output_type": "display_data"
    },
    {
     "data": {
      "image/png": "[encoded data removed]",
      "text/plain": [
       "<Figure size 368.504x340.157 with 1 Axes>"
      ]
     },
     "metadata": {
      "needs_background": "light"
     },
     "output_type": "display_data"
    },
    {
     "data": {
      "text/plain": [
       "<Figure size 432x288 with 0 Axes>"
      ]
     },
     "metadata": {},
     "output_type": "display_data"
    },
    {
     "data": {
      "text/plain": [
       "<Figure size 432x288 with 0 Axes>"
      ]
     },
     "metadata": {},
     "output_type": "display_data"
    }
   ],
   "source": [
    "p.figsize = (10, 10)\n",
    "fig1 = p.set_figure(\"%e\", \"%0.1f\")\n",
    "ax1 = plt.gca()\n",
    "fig2 = p.set_figure(\"%0.2f\", \"%0.1f\")\n",
    "ax2 = plt.gca()\n",
    "for N in [50, 10]:\n",
    "    k = 1\n",
    "    for i, folder in enumerate(folder_list): \n",
    "        print(folder)\n",
    "        for f in glob.glob(folder + \"/*pulse*\")[0:1]:\n",
    "\n",
    "            if 'e_0_' not in f:\n",
    "                print(f)\n",
    "                intensity, params, t, y, ypred, voltage, maxi, purple, filter = multiexp_fit(f, N=N, bode_folder = \"2022-07-29_16_33_bode_diagram\")\n",
    "                \n",
    "                if N==50:\n",
    "                    ax1.semilogx(t, y, c =  \"grey\")\n",
    "                    ax1.annotate(k, (t[4],y[6]), xycoords = \"data\", fontsize=12)\n",
    "                    ax1.semilogx(t, ypred, \"--k\")\n",
    "                    k+=1\n",
    "\n",
    "                #ax1.plot(t, y, c =  \"grey\", label = f[0:5])\n",
    "                #ax1.plot(t, ypred, c = \"k\")\n",
    "\n",
    "                if N==10:\n",
    "                    pos = 3/params[2]\n",
    "                    #if pos < 5e-4:\n",
    "                    #    pos = 5e-4\n",
    "                    #ax1.scatter(pos, sigmoidal_OJIP(params, pos), c = 'k', s = 300)\n",
    "                    pos_tau = find_nearest(t, pos)\n",
    "                    params = get_fit(y[:pos_tau], t[:pos_tau])\n",
    "\n",
    "                    D = 400\n",
    "                    pos_tau = find_nearest(t, D*params[1])\n",
    "                    #ax2.semilogx(t[:pos_tau*D], y[:pos_tau*D], c=\"grey\")\n",
    "                    ypred =  exp_decay(params, t[:pos_tau*D])\n",
    "                    ax1.semilogx(t[:pos_tau*D],ypred, \"k\")\n",
    "                    #ax2.annotate(k, (t[18],ypred[12]), xycoords = \"data\", fontsize=12)\n",
    "                    k+=1\n",
    "\n",
    "                    #plt.scatter(intensity, 1/params[1])\n",
    "    ax1.legend()\n",
    "    ax1.set_xlabel(\"t ($s$)\")\n",
    "    ax1.set_ylabel(\"fluorescence transient\")\n",
    "    ax2.set_xlabel(\"t ($s$)\")\n",
    "    ax2.set_ylabel(\"fluorescence transient\")\n",
    "    #if N==50:\n",
    "    p.save_name = \"fits_various_leaves_JC\"\n",
    "    p.saving(fig1)\n",
    "    #if N==10:\n",
    "    #    fig2.savefig(p.save_folder + \"/fits_various_leaves_exp\"+p.extension)"
   ]
  },
  {
   "cell_type": "code",
   "execution_count": 31,
   "id": "86a7db70-53f7-481d-bdd8-a14415c9a961",
   "metadata": {},
   "outputs": [],
   "source": [
    "folder_list = ['../FOLDER_2022_07_29_OJIP_leaf/LEAF1_blue_506_675/','../FOLDER_2022_07_29_OJIP_leaf/LEAF2_blue_506_675/', '../FOLDER_2022_07_29_OJIP_leaf/LEAF3_blue_506_675/',\n",
    "               \"../FOLDER_2022_07_28_OJIP_leaf/LEAF5_DO0_bis/\",\n",
    "               \"../FOLDER_2022_07_28_OJIP_leaf/LEAF1_DO0_bis/\", \"../FOLDER_2022_07_28_OJIP_leaf/LEAF2_DO0_bis/\", \"../FOLDER_2022_07_28_OJIP_leaf/LEAF3_DO0_green/\",\n",
    "              #\"../FOLDER_2022_06_23_extract_chloroplast/chloroplast_of_the_cat/\",\n",
    "              \"../FOLDER_2022_05_09_OJIP_leaf/leaf1/\", \"../FOLDER_2022_05_09_OJIP_leaf/leaf2/\",\n",
    "              \"../FOLDER_2022_01_17_OJIP_leaf/LEAF1_DO0/\", \"../FOLDER_2022_01_17_OJIP_leaf/LEAF2_DO0/\", \"../FOLDER_2022_01_17_OJIP_leaf/LEAF3_DO0/\",\n",
    "               \"../FOLDER_2022_01_17_OJIP_leaf/LEAF4_DO0/\",\"../FOLDER_2022_01_17_OJIP_leaf/LEAF5_DO0/\",\n",
    "                \"../FOLDER_2022_01_17_OJIP_leaf/LEAF6_DO0/\", \"../FOLDER_2022_01_17_OJIP_leaf/LEAF7_DO0/\", \"../FOLDER_2022_01_17_OJIP_leaf/LEAF8_DO0/\",\n",
    "               #\"../FOLDER_2022_01_17_OJIP_leaf/ALGAE1_DO0/\"\n",
    "              ]\n",
    "       \n",
    "\n",
    "data_list = ['LEAF1_blue_506_675','LEAF2_blue_506_675', 'LEAF3_blue_506_675',\n",
    "               \"LEAF5_DO0_bis\",\n",
    "               \"LEAF1_DO0_bis\", \"LEAF2_DO0_bis\", \"LEAF3_DO0_green\",\n",
    "              #\"chloroplast_of_the_cat\",\n",
    "              \"leaf1\", \"leaf2\",\n",
    "              \"LEAF1_DO0\", \"LEAF2_DO0\", \"LEAF3_DO0\",\"LEAF4_DO0\",\"LEAF5_DO0\",\n",
    "                \"LEAF6_DO0\", \"LEAF7_DO0\", \"LEAF8_DO0\",\n",
    "             #\"ALGAE1_DO0\", \"OJIP_actiivated_1\", \"OJIP_activated_2\", \"OJIP_activated_3\"\n",
    "            ]\n",
    "       \n",
    "    \n",
    "    \n",
    "bode_list = [\"2022-07-29_16_33_bode_diagram\", \"2022-07-29_16_33_bode_diagram\", \"2022-07-29_16_33_bode_diagram\",\n",
    "             \"2022-07-29_16_33_bode_diagram\", \n",
    "            \"2022-07-29_16_33_bode_diagram\",\"2022-07-29_16_33_bode_diagram\",\"2022-07-29_16_33_bode_diagram\",\n",
    "             #\"2022-07-29_16_33_bode_diagram\", \n",
    "             \"../2022-05-11_16_24_bode_diagram_DRONPA2_CALIB/\", \"../2022-05-11_16_24_bode_diagram_DRONPA2_CALIB/\",\n",
    "             \"../2022-01-13_12_02_bode_diagram\", \"../2022-01-13_12_02_bode_diagram\", \"../2022-01-13_12_02_bode_diagram\", \"../2022-01-13_12_02_bode_diagram\", \"../2022-01-13_12_02_bode_diagram\",\n",
    "             \"../2022-01-13_12_02_bode_diagram\", \"../2022-01-13_12_02_bode_diagram\",\"../2022-01-13_12_02_bode_diagram\", \n",
    "             #\"../2022-01-13_12_02_bode_diagram\", \n",
    "             #\"../2021-11-03_15_54_bode_diagram\", \"../2021-11-03_15_54_bode_diagram\", \"../2021-11-03_15_54_bode_diagram\", \"../2021-11-03_15_54_bode_diagram\"\n",
    "            ]\n",
    "             \n",
    "item_list = [\"young leaf\", \"hairy leaf\", \"_nolegend_\", \n",
    "             \"_nolegend_\", \n",
    "             \"_nolegend_\", \"_nolegend_\", \"_nolegend_\",\n",
    "             #\"chloroplast\",\n",
    "             \"_nolegend_\",\"_nolegend_\",\n",
    "             \"_nolegend_\",\"_nolegend_\",\"old leaf\",\"_nolegend_\",\"_nolegend_\",\n",
    "             \"_nolegend_\",\"_nolegend_\",\"_nolegend_\", \n",
    "             #\"algae\",\n",
    "            #\"_nolegend_\",\"_nolegend_\",\"_nolegend_\",\"_nolegend_\"\n",
    "            ]\n",
    "\n",
    "marker_spe = [\"<\", \"+\", \"<\",\n",
    "          \"<\",\n",
    "          \"<\", \"<\", \"<\", \n",
    "          #\"o\",\n",
    "          \"<\", \"<\",\n",
    "          \"^\", \"<\", \"^\", \"<\", \"<\", \n",
    "          \"<\", \"^\", \"<\", \n",
    "              #\"x\",\n",
    "             \"x\",\"x\",\"x\",\"x\"]\n",
    "\n",
    "\n",
    "marker_spe = [\"^\", \"^\", \"^\",\n",
    "          \"^\",\n",
    "          \"^\", \"^\", \"^\", \n",
    "          #\"o\",\n",
    "          \"^\", \"^\",\n",
    "          \"^\", \"^\", \"^\", \"^\", \"^\", \n",
    "          \"^\", \"^\", \"^\",\n",
    "              #\"x\",\n",
    "             \"x\",\"x\",\"x\",\"x\"]"
   ]
  },
  {
   "cell_type": "code",
   "execution_count": 32,
   "id": "d46b8744-0c12-4912-a0c4-2a92cfb263bd",
   "metadata": {},
   "outputs": [
    {
     "name": "stdout",
     "output_type": "stream",
     "text": [
      "../FOLDER_2022_07_29_OJIP_leaf/LEAF1_blue_506_675/\n",
      "../FOLDER_2022_07_29_OJIP_leaf/LEAF1_blue_506_675\\2022-07-29_10_14_OJIP_pulse_450_blue\n",
      "../FOLDER_2022_07_29_OJIP_leaf/LEAF1_blue_506_675\\2022-07-29_10_15_OJIP_pulse_393_blue\n",
      "../FOLDER_2022_07_29_OJIP_leaf/LEAF1_blue_506_675\\2022-07-29_10_16_OJIP_pulse_337_blue\n",
      "../FOLDER_2022_07_29_OJIP_leaf/LEAF1_blue_506_675\\2022-07-29_10_17_OJIP_pulse_225_blue\n",
      "../FOLDER_2022_07_29_OJIP_leaf/LEAF1_blue_506_675\\2022-07-29_10_17_OJIP_pulse_281_blue\n",
      "../FOLDER_2022_07_29_OJIP_leaf/LEAF1_blue_506_675\\2022-07-29_10_18_OJIP_pulse_168_blue\n",
      "../FOLDER_2022_07_29_OJIP_leaf/LEAF1_blue_506_675\\2022-07-29_10_19_OJIP_pulse_112_blue\n",
      "../FOLDER_2022_07_29_OJIP_leaf/LEAF1_blue_506_675\\2022-07-29_10_20_OJIP_pulse_56_blue\n",
      "../FOLDER_2022_07_29_OJIP_leaf/LEAF1_blue_506_675\\2022-07-29_10_21_OJIP_pulse_0_blue\n",
      "../FOLDER_2022_07_29_OJIP_leaf/LEAF1_blue_506_675\\2022-07-29_10_21_OJIP_pulse_20_blue\n",
      "../FOLDER_2022_07_29_OJIP_leaf/LEAF1_blue_506_675\\2022-07-29_10_22_OJIP_pulse_73_blue\n",
      "../FOLDER_2022_07_29_OJIP_leaf/LEAF1_blue_506_675\\2022-07-29_10_23_OJIP_pulse_127_blue\n",
      "../FOLDER_2022_07_29_OJIP_leaf/LEAF1_blue_506_675\\2022-07-29_10_24_OJIP_pulse_181_blue\n",
      "../FOLDER_2022_07_29_OJIP_leaf/LEAF1_blue_506_675\\2022-07-29_10_25_OJIP_pulse_235_blue\n",
      "../FOLDER_2022_07_29_OJIP_leaf/LEAF1_blue_506_675\\2022-07-29_10_26_OJIP_pulse_288_blue\n",
      "../FOLDER_2022_07_29_OJIP_leaf/LEAF1_blue_506_675\\2022-07-29_10_26_OJIP_pulse_342_blue\n",
      "../FOLDER_2022_07_29_OJIP_leaf/LEAF1_blue_506_675\\2022-07-29_10_27_OJIP_pulse_396_blue\n",
      "../FOLDER_2022_07_29_OJIP_leaf/LEAF1_blue_506_675\\2022-07-29_10_28_OJIP_pulse_450_blue\n",
      "../FOLDER_2022_07_29_OJIP_leaf/LEAF2_blue_506_675/\n",
      "../FOLDER_2022_07_29_OJIP_leaf/LEAF2_blue_506_675\\2022-07-29_13_35_OJIP_pulse_450_blue\n",
      "../FOLDER_2022_07_29_OJIP_leaf/LEAF2_blue_506_675\\2022-07-29_13_36_OJIP_pulse_393_blue\n",
      "../FOLDER_2022_07_29_OJIP_leaf/LEAF2_blue_506_675\\2022-07-29_13_37_OJIP_pulse_337_blue\n",
      "../FOLDER_2022_07_29_OJIP_leaf/LEAF2_blue_506_675\\2022-07-29_13_38_OJIP_pulse_281_blue\n",
      "../FOLDER_2022_07_29_OJIP_leaf/LEAF2_blue_506_675\\2022-07-29_13_39_OJIP_pulse_168_blue\n",
      "../FOLDER_2022_07_29_OJIP_leaf/LEAF2_blue_506_675\\2022-07-29_13_39_OJIP_pulse_225_blue\n",
      "../FOLDER_2022_07_29_OJIP_leaf/LEAF2_blue_506_675\\2022-07-29_13_40_OJIP_pulse_112_blue\n",
      "../FOLDER_2022_07_29_OJIP_leaf/LEAF2_blue_506_675\\2022-07-29_13_41_OJIP_pulse_56_blue\n",
      "../FOLDER_2022_07_29_OJIP_leaf/LEAF2_blue_506_675\\2022-07-29_13_42_OJIP_pulse_0_blue\n",
      "../FOLDER_2022_07_29_OJIP_leaf/LEAF2_blue_506_675\\2022-07-29_13_43_OJIP_pulse_20_blue\n",
      "../FOLDER_2022_07_29_OJIP_leaf/LEAF2_blue_506_675\\2022-07-29_13_43_OJIP_pulse_73_blue\n",
      "../FOLDER_2022_07_29_OJIP_leaf/LEAF2_blue_506_675\\2022-07-29_13_44_OJIP_pulse_127_blue\n",
      "../FOLDER_2022_07_29_OJIP_leaf/LEAF2_blue_506_675\\2022-07-29_13_45_OJIP_pulse_181_blue\n",
      "../FOLDER_2022_07_29_OJIP_leaf/LEAF2_blue_506_675\\2022-07-29_13_46_OJIP_pulse_235_blue\n",
      "../FOLDER_2022_07_29_OJIP_leaf/LEAF2_blue_506_675\\2022-07-29_13_47_OJIP_pulse_288_blue\n",
      "../FOLDER_2022_07_29_OJIP_leaf/LEAF2_blue_506_675\\2022-07-29_13_48_OJIP_pulse_342_blue\n",
      "../FOLDER_2022_07_29_OJIP_leaf/LEAF2_blue_506_675\\2022-07-29_13_48_OJIP_pulse_396_blue\n",
      "../FOLDER_2022_07_29_OJIP_leaf/LEAF3_blue_506_675/\n",
      "../FOLDER_2022_07_29_OJIP_leaf/LEAF3_blue_506_675\\2022-07-29_15_31_OJIP_pulse_450_blue\n",
      "../FOLDER_2022_07_29_OJIP_leaf/LEAF3_blue_506_675\\2022-07-29_15_32_OJIP_pulse_393_blue\n",
      "../FOLDER_2022_07_29_OJIP_leaf/LEAF3_blue_506_675\\2022-07-29_15_33_OJIP_pulse_337_blue\n",
      "../FOLDER_2022_07_29_OJIP_leaf/LEAF3_blue_506_675\\2022-07-29_15_34_OJIP_pulse_225_blue\n",
      "../FOLDER_2022_07_29_OJIP_leaf/LEAF3_blue_506_675\\2022-07-29_15_34_OJIP_pulse_281_blue\n",
      "../FOLDER_2022_07_29_OJIP_leaf/LEAF3_blue_506_675\\2022-07-29_15_35_OJIP_pulse_168_blue\n",
      "../FOLDER_2022_07_29_OJIP_leaf/LEAF3_blue_506_675\\2022-07-29_15_36_OJIP_pulse_112_blue\n",
      "../FOLDER_2022_07_29_OJIP_leaf/LEAF3_blue_506_675\\2022-07-29_15_37_OJIP_pulse_56_blue\n",
      "../FOLDER_2022_07_29_OJIP_leaf/LEAF3_blue_506_675\\2022-07-29_15_38_OJIP_pulse_0_blue\n",
      "../FOLDER_2022_07_29_OJIP_leaf/LEAF3_blue_506_675\\2022-07-29_15_38_OJIP_pulse_20_blue\n",
      "../FOLDER_2022_07_29_OJIP_leaf/LEAF3_blue_506_675\\2022-07-29_15_39_OJIP_pulse_73_blue\n",
      "../FOLDER_2022_07_29_OJIP_leaf/LEAF3_blue_506_675\\2022-07-29_15_40_OJIP_pulse_127_blue\n",
      "../FOLDER_2022_07_29_OJIP_leaf/LEAF3_blue_506_675\\2022-07-29_15_41_OJIP_pulse_181_blue\n",
      "../FOLDER_2022_07_29_OJIP_leaf/LEAF3_blue_506_675\\2022-07-29_15_42_OJIP_pulse_235_blue\n",
      "../FOLDER_2022_07_29_OJIP_leaf/LEAF3_blue_506_675\\2022-07-29_15_42_OJIP_pulse_288_blue\n",
      "../FOLDER_2022_07_29_OJIP_leaf/LEAF3_blue_506_675\\2022-07-29_15_43_OJIP_pulse_342_blue\n",
      "../FOLDER_2022_07_29_OJIP_leaf/LEAF3_blue_506_675\\2022-07-29_15_44_OJIP_pulse_396_blue\n",
      "../FOLDER_2022_07_29_OJIP_leaf/LEAF3_blue_506_675\\2022-07-29_15_45_OJIP_pulse_450_blue\n",
      "../FOLDER_2022_07_28_OJIP_leaf/LEAF5_DO0_bis/\n",
      "../FOLDER_2022_07_28_OJIP_leaf/LEAF5_DO0_bis\\2022-07-28_15_27_OJIP_pulse_0\n",
      "../FOLDER_2022_07_28_OJIP_leaf/LEAF5_DO0_bis\\2022-07-28_15_28_OJIP_pulse_56\n",
      "../FOLDER_2022_07_28_OJIP_leaf/LEAF5_DO0_bis\\2022-07-28_15_29_OJIP_pulse_112\n",
      "../FOLDER_2022_07_28_OJIP_leaf/LEAF5_DO0_bis\\2022-07-28_15_30_OJIP_pulse_168\n",
      "../FOLDER_2022_07_28_OJIP_leaf/LEAF5_DO0_bis\\2022-07-28_15_30_OJIP_pulse_225\n",
      "../FOLDER_2022_07_28_OJIP_leaf/LEAF5_DO0_bis\\2022-07-28_15_31_OJIP_pulse_281\n",
      "../FOLDER_2022_07_28_OJIP_leaf/LEAF5_DO0_bis\\2022-07-28_15_32_OJIP_pulse_337\n",
      "../FOLDER_2022_07_28_OJIP_leaf/LEAF5_DO0_bis\\2022-07-28_15_33_OJIP_pulse_393\n",
      "../FOLDER_2022_07_28_OJIP_leaf/LEAF5_DO0_bis\\2022-07-28_15_34_OJIP_pulse_450\n",
      "../FOLDER_2022_07_28_OJIP_leaf/LEAF5_DO0_bis\\2022-07-28_15_36_OJIP_pulse_450\n",
      "../FOLDER_2022_07_28_OJIP_leaf/LEAF5_DO0_bis\\2022-07-28_15_37_OJIP_pulse_393\n",
      "../FOLDER_2022_07_28_OJIP_leaf/LEAF5_DO0_bis\\2022-07-28_15_38_OJIP_pulse_337\n",
      "../FOLDER_2022_07_28_OJIP_leaf/LEAF5_DO0_bis\\2022-07-28_15_39_OJIP_pulse_281\n",
      "../FOLDER_2022_07_28_OJIP_leaf/LEAF5_DO0_bis\\2022-07-28_15_40_OJIP_pulse_225\n",
      "../FOLDER_2022_07_28_OJIP_leaf/LEAF5_DO0_bis\\2022-07-28_15_41_OJIP_pulse_168\n",
      "../FOLDER_2022_07_28_OJIP_leaf/LEAF5_DO0_bis\\2022-07-28_15_42_OJIP_pulse_112\n",
      "../FOLDER_2022_07_28_OJIP_leaf/LEAF5_DO0_bis\\2022-07-28_15_42_OJIP_pulse_56\n",
      "../FOLDER_2022_07_28_OJIP_leaf/LEAF5_DO0_bis\\2022-07-28_15_43_OJIP_pulse_0\n",
      "../FOLDER_2022_07_28_OJIP_leaf/LEAF5_DO0_bis\\2022-07-28_15_44_OJIP_pulse_20\n",
      "../FOLDER_2022_07_28_OJIP_leaf/LEAF5_DO0_bis\\2022-07-28_15_45_OJIP_pulse_73\n",
      "../FOLDER_2022_07_28_OJIP_leaf/LEAF5_DO0_bis\\2022-07-28_15_46_OJIP_pulse_127\n",
      "../FOLDER_2022_07_28_OJIP_leaf/LEAF5_DO0_bis\\2022-07-28_15_47_OJIP_pulse_181\n",
      "../FOLDER_2022_07_28_OJIP_leaf/LEAF5_DO0_bis\\2022-07-28_15_48_OJIP_pulse_235\n",
      "../FOLDER_2022_07_28_OJIP_leaf/LEAF5_DO0_bis\\2022-07-28_15_49_OJIP_pulse_288\n",
      "../FOLDER_2022_07_28_OJIP_leaf/LEAF5_DO0_bis\\2022-07-28_15_50_OJIP_pulse_342\n",
      "../FOLDER_2022_07_28_OJIP_leaf/LEAF5_DO0_bis\\2022-07-28_15_51_OJIP_pulse_396\n",
      "../FOLDER_2022_07_28_OJIP_leaf/LEAF5_DO0_bis\\2022-07-28_15_52_OJIP_pulse_450\n",
      "../FOLDER_2022_07_28_OJIP_leaf/LEAF1_DO0_bis/\n",
      "../FOLDER_2022_07_28_OJIP_leaf/LEAF1_DO0_bis\\2022-07-28_11_33_OJIP_pulse_450\n",
      "../FOLDER_2022_07_28_OJIP_leaf/LEAF1_DO0_bis\\2022-07-28_11_34_OJIP_pulse_393\n",
      "../FOLDER_2022_07_28_OJIP_leaf/LEAF1_DO0_bis\\2022-07-28_11_35_OJIP_pulse_281\n",
      "../FOLDER_2022_07_28_OJIP_leaf/LEAF1_DO0_bis\\2022-07-28_11_35_OJIP_pulse_337\n",
      "../FOLDER_2022_07_28_OJIP_leaf/LEAF1_DO0_bis\\2022-07-28_11_36_OJIP_pulse_225\n",
      "../FOLDER_2022_07_28_OJIP_leaf/LEAF1_DO0_bis\\2022-07-28_11_37_OJIP_pulse_168\n",
      "../FOLDER_2022_07_28_OJIP_leaf/LEAF1_DO0_bis\\2022-07-28_11_38_OJIP_pulse_112\n",
      "../FOLDER_2022_07_28_OJIP_leaf/LEAF1_DO0_bis\\2022-07-28_11_38_OJIP_pulse_56\n",
      "../FOLDER_2022_07_28_OJIP_leaf/LEAF1_DO0_bis\\2022-07-28_11_39_OJIP_pulse_0\n",
      "../FOLDER_2022_07_28_OJIP_leaf/LEAF1_DO0_bis\\2022-07-28_11_40_OJIP_pulse_20\n",
      "../FOLDER_2022_07_28_OJIP_leaf/LEAF1_DO0_bis\\2022-07-28_11_41_OJIP_pulse_127\n",
      "../FOLDER_2022_07_28_OJIP_leaf/LEAF1_DO0_bis\\2022-07-28_11_41_OJIP_pulse_73\n",
      "../FOLDER_2022_07_28_OJIP_leaf/LEAF1_DO0_bis\\2022-07-28_11_42_OJIP_pulse_181\n",
      "../FOLDER_2022_07_28_OJIP_leaf/LEAF1_DO0_bis\\2022-07-28_11_45_OJIP_pulse_235\n",
      "../FOLDER_2022_07_28_OJIP_leaf/LEAF1_DO0_bis\\2022-07-28_11_46_OJIP_pulse_288\n",
      "../FOLDER_2022_07_28_OJIP_leaf/LEAF1_DO0_bis\\2022-07-28_11_46_OJIP_pulse_342\n",
      "../FOLDER_2022_07_28_OJIP_leaf/LEAF1_DO0_bis\\2022-07-28_11_47_OJIP_pulse_396\n",
      "../FOLDER_2022_07_28_OJIP_leaf/LEAF1_DO0_bis\\2022-07-28_11_48_OJIP_pulse_450\n",
      "../FOLDER_2022_07_28_OJIP_leaf/LEAF2_DO0_bis/\n",
      "../FOLDER_2022_07_28_OJIP_leaf/LEAF2_DO0_bis\\2022-07-28_11_55_OJIP_pulse_450\n",
      "../FOLDER_2022_07_28_OJIP_leaf/LEAF2_DO0_bis\\2022-07-28_11_56_OJIP_pulse_393\n",
      "../FOLDER_2022_07_28_OJIP_leaf/LEAF2_DO0_bis\\2022-07-28_11_57_OJIP_pulse_337\n",
      "../FOLDER_2022_07_28_OJIP_leaf/LEAF2_DO0_bis\\2022-07-28_11_58_OJIP_pulse_225\n",
      "../FOLDER_2022_07_28_OJIP_leaf/LEAF2_DO0_bis\\2022-07-28_11_58_OJIP_pulse_281\n",
      "../FOLDER_2022_07_28_OJIP_leaf/LEAF2_DO0_bis\\2022-07-28_11_59_OJIP_pulse_168\n",
      "../FOLDER_2022_07_28_OJIP_leaf/LEAF2_DO0_bis\\2022-07-28_12_00_OJIP_pulse_112\n",
      "../FOLDER_2022_07_28_OJIP_leaf/LEAF2_DO0_bis\\2022-07-28_12_01_OJIP_pulse_0\n",
      "../FOLDER_2022_07_28_OJIP_leaf/LEAF2_DO0_bis\\2022-07-28_12_01_OJIP_pulse_56\n",
      "../FOLDER_2022_07_28_OJIP_leaf/LEAF2_DO0_bis\\2022-07-28_12_02_OJIP_pulse_0\n",
      "../FOLDER_2022_07_28_OJIP_leaf/LEAF2_DO0_bis\\2022-07-28_12_03_OJIP_pulse_56\n",
      "../FOLDER_2022_07_28_OJIP_leaf/LEAF2_DO0_bis\\2022-07-28_12_04_OJIP_pulse_112\n",
      "../FOLDER_2022_07_28_OJIP_leaf/LEAF2_DO0_bis\\2022-07-28_12_04_OJIP_pulse_168\n",
      "../FOLDER_2022_07_28_OJIP_leaf/LEAF2_DO0_bis\\2022-07-28_12_05_OJIP_pulse_225\n",
      "../FOLDER_2022_07_28_OJIP_leaf/LEAF2_DO0_bis\\2022-07-28_12_06_OJIP_pulse_281\n",
      "../FOLDER_2022_07_28_OJIP_leaf/LEAF2_DO0_bis\\2022-07-28_12_06_OJIP_pulse_337\n",
      "../FOLDER_2022_07_28_OJIP_leaf/LEAF2_DO0_bis\\2022-07-28_12_07_OJIP_pulse_393\n",
      "../FOLDER_2022_07_28_OJIP_leaf/LEAF2_DO0_bis\\2022-07-28_12_08_OJIP_pulse_450\n",
      "../FOLDER_2022_07_28_OJIP_leaf/LEAF2_DO0_bis\\2022-07-28_12_09_OJIP_pulse_393\n",
      "../FOLDER_2022_07_28_OJIP_leaf/LEAF2_DO0_bis\\2022-07-28_12_09_OJIP_pulse_450\n",
      "../FOLDER_2022_07_28_OJIP_leaf/LEAF2_DO0_bis\\2022-07-28_12_10_OJIP_pulse_337\n",
      "../FOLDER_2022_07_28_OJIP_leaf/LEAF2_DO0_bis\\2022-07-28_12_11_OJIP_pulse_281\n",
      "../FOLDER_2022_07_28_OJIP_leaf/LEAF2_DO0_bis\\2022-07-28_12_12_OJIP_pulse_168\n",
      "../FOLDER_2022_07_28_OJIP_leaf/LEAF2_DO0_bis\\2022-07-28_12_12_OJIP_pulse_225\n",
      "../FOLDER_2022_07_28_OJIP_leaf/LEAF2_DO0_bis\\2022-07-28_12_13_OJIP_pulse_112\n",
      "../FOLDER_2022_07_28_OJIP_leaf/LEAF2_DO0_bis\\2022-07-28_12_14_OJIP_pulse_56\n",
      "../FOLDER_2022_07_28_OJIP_leaf/LEAF2_DO0_bis\\2022-07-28_12_15_OJIP_pulse_0\n",
      "../FOLDER_2022_07_28_OJIP_leaf/LEAF2_DO0_bis\\2022-07-28_12_16_OJIP_pulse_56\n",
      "../FOLDER_2022_07_28_OJIP_leaf/LEAF2_DO0_bis\\2022-07-28_12_17_OJIP_pulse_112\n",
      "../FOLDER_2022_07_28_OJIP_leaf/LEAF2_DO0_bis\\2022-07-28_12_17_OJIP_pulse_168\n",
      "../FOLDER_2022_07_28_OJIP_leaf/LEAF2_DO0_bis\\2022-07-28_12_18_OJIP_pulse_225\n",
      "../FOLDER_2022_07_28_OJIP_leaf/LEAF2_DO0_bis\\2022-07-28_12_19_OJIP_pulse_281\n",
      "../FOLDER_2022_07_28_OJIP_leaf/LEAF2_DO0_bis\\2022-07-28_12_20_OJIP_pulse_337\n",
      "../FOLDER_2022_07_28_OJIP_leaf/LEAF2_DO0_bis\\2022-07-28_12_20_OJIP_pulse_393\n",
      "../FOLDER_2022_07_28_OJIP_leaf/LEAF2_DO0_bis\\2022-07-28_12_21_OJIP_pulse_450\n",
      "../FOLDER_2022_07_28_OJIP_leaf/LEAF2_DO0_bis\\2022-07-28_12_22_OJIP_pulse_450\n",
      "../FOLDER_2022_07_28_OJIP_leaf/LEAF2_DO0_bis\\2022-07-28_12_23_OJIP_pulse_337\n",
      "../FOLDER_2022_07_28_OJIP_leaf/LEAF2_DO0_bis\\2022-07-28_12_23_OJIP_pulse_393\n",
      "../FOLDER_2022_07_28_OJIP_leaf/LEAF2_DO0_bis\\2022-07-28_12_24_OJIP_pulse_281\n",
      "../FOLDER_2022_07_28_OJIP_leaf/LEAF2_DO0_bis\\2022-07-28_12_25_OJIP_pulse_225\n",
      "../FOLDER_2022_07_28_OJIP_leaf/LEAF2_DO0_bis\\2022-07-28_12_26_OJIP_pulse_112\n",
      "../FOLDER_2022_07_28_OJIP_leaf/LEAF2_DO0_bis\\2022-07-28_12_26_OJIP_pulse_168\n",
      "../FOLDER_2022_07_28_OJIP_leaf/LEAF2_DO0_bis\\2022-07-28_12_27_OJIP_pulse_56\n",
      "../FOLDER_2022_07_28_OJIP_leaf/LEAF2_DO0_bis\\2022-07-28_12_28_OJIP_pulse_0\n",
      "../FOLDER_2022_07_28_OJIP_leaf/LEAF2_DO0_bis\\2022-07-28_12_29_OJIP_pulse_0\n",
      "../FOLDER_2022_07_28_OJIP_leaf/LEAF2_DO0_bis\\2022-07-28_12_29_OJIP_pulse_56\n",
      "../FOLDER_2022_07_28_OJIP_leaf/LEAF2_DO0_bis\\2022-07-28_12_30_OJIP_pulse_112\n",
      "../FOLDER_2022_07_28_OJIP_leaf/LEAF2_DO0_bis\\2022-07-28_12_31_OJIP_pulse_168\n",
      "../FOLDER_2022_07_28_OJIP_leaf/LEAF2_DO0_bis\\2022-07-28_12_31_OJIP_pulse_225\n",
      "../FOLDER_2022_07_28_OJIP_leaf/LEAF2_DO0_bis\\2022-07-28_12_32_OJIP_pulse_281\n",
      "../FOLDER_2022_07_28_OJIP_leaf/LEAF2_DO0_bis\\2022-07-28_12_33_OJIP_pulse_337\n",
      "../FOLDER_2022_07_28_OJIP_leaf/LEAF2_DO0_bis\\2022-07-28_12_34_OJIP_pulse_393\n",
      "../FOLDER_2022_07_28_OJIP_leaf/LEAF2_DO0_bis\\2022-07-28_12_34_OJIP_pulse_450\n",
      "../FOLDER_2022_07_28_OJIP_leaf/LEAF2_DO0_bis\\2022-07-28_12_35_OJIP_pulse_450\n",
      "../FOLDER_2022_07_28_OJIP_leaf/LEAF2_DO0_bis\\2022-07-28_12_36_OJIP_pulse_393\n",
      "../FOLDER_2022_07_28_OJIP_leaf/LEAF2_DO0_bis\\2022-07-28_12_37_OJIP_pulse_281\n",
      "../FOLDER_2022_07_28_OJIP_leaf/LEAF2_DO0_bis\\2022-07-28_12_37_OJIP_pulse_337\n",
      "../FOLDER_2022_07_28_OJIP_leaf/LEAF2_DO0_bis\\2022-07-28_12_38_OJIP_pulse_225\n",
      "../FOLDER_2022_07_28_OJIP_leaf/LEAF2_DO0_bis\\2022-07-28_12_39_OJIP_pulse_168\n",
      "../FOLDER_2022_07_28_OJIP_leaf/LEAF2_DO0_bis\\2022-07-28_12_40_OJIP_pulse_112\n",
      "../FOLDER_2022_07_28_OJIP_leaf/LEAF2_DO0_bis\\2022-07-28_12_40_OJIP_pulse_56\n",
      "../FOLDER_2022_07_28_OJIP_leaf/LEAF2_DO0_bis\\2022-07-28_12_41_OJIP_pulse_0\n",
      "../FOLDER_2022_07_28_OJIP_leaf/LEAF2_DO0_bis\\2022-07-28_12_42_OJIP_pulse_0\n",
      "../FOLDER_2022_07_28_OJIP_leaf/LEAF2_DO0_bis\\2022-07-28_12_43_OJIP_pulse_112\n",
      "../FOLDER_2022_07_28_OJIP_leaf/LEAF2_DO0_bis\\2022-07-28_12_43_OJIP_pulse_56\n",
      "../FOLDER_2022_07_28_OJIP_leaf/LEAF2_DO0_bis\\2022-07-28_12_44_OJIP_pulse_168\n",
      "../FOLDER_2022_07_28_OJIP_leaf/LEAF2_DO0_bis\\2022-07-28_12_45_OJIP_pulse_225\n",
      "../FOLDER_2022_07_28_OJIP_leaf/LEAF2_DO0_bis\\2022-07-28_12_45_OJIP_pulse_281\n",
      "../FOLDER_2022_07_28_OJIP_leaf/LEAF2_DO0_bis\\2022-07-28_12_46_OJIP_pulse_337\n",
      "../FOLDER_2022_07_28_OJIP_leaf/LEAF2_DO0_bis\\2022-07-28_12_49_OJIP_pulse_393\n",
      "../FOLDER_2022_07_28_OJIP_leaf/LEAF2_DO0_bis\\2022-07-28_12_50_OJIP_pulse_337\n",
      "../FOLDER_2022_07_28_OJIP_leaf/LEAF2_DO0_bis\\2022-07-28_12_51_OJIP_pulse_225\n",
      "../FOLDER_2022_07_28_OJIP_leaf/LEAF2_DO0_bis\\2022-07-28_12_51_OJIP_pulse_281\n",
      "../FOLDER_2022_07_28_OJIP_leaf/LEAF2_DO0_bis\\2022-07-28_12_52_OJIP_pulse_168\n",
      "../FOLDER_2022_07_28_OJIP_leaf/LEAF2_DO0_bis\\2022-07-28_12_53_OJIP_pulse_112\n",
      "../FOLDER_2022_07_28_OJIP_leaf/LEAF2_DO0_bis\\2022-07-28_12_54_OJIP_pulse_0\n",
      "../FOLDER_2022_07_28_OJIP_leaf/LEAF2_DO0_bis\\2022-07-28_12_54_OJIP_pulse_56\n",
      "../FOLDER_2022_07_28_OJIP_leaf/LEAF2_DO0_bis\\2022-07-28_12_57_OJIP_pulse_112\n",
      "../FOLDER_2022_07_28_OJIP_leaf/LEAF2_DO0_bis\\2022-07-28_12_57_OJIP_pulse_168\n",
      "../FOLDER_2022_07_28_OJIP_leaf/LEAF2_DO0_bis\\2022-07-28_12_58_OJIP_pulse_225\n",
      "../FOLDER_2022_07_28_OJIP_leaf/LEAF2_DO0_bis\\2022-07-28_12_59_OJIP_pulse_281\n",
      "../FOLDER_2022_07_28_OJIP_leaf/LEAF2_DO0_bis\\2022-07-28_12_59_OJIP_pulse_337\n",
      "../FOLDER_2022_07_28_OJIP_leaf/LEAF2_DO0_bis\\2022-07-28_13_00_OJIP_pulse_393\n",
      "../FOLDER_2022_07_28_OJIP_leaf/LEAF2_DO0_bis\\2022-07-28_13_01_OJIP_pulse_450\n",
      "../FOLDER_2022_07_28_OJIP_leaf/LEAF3_DO0_green/\n",
      "../FOLDER_2022_07_28_OJIP_leaf/LEAF3_DO0_green\\2022-07-28_13_34_OJIP_pulse_450\n",
      "../FOLDER_2022_07_28_OJIP_leaf/LEAF3_DO0_green\\2022-07-28_13_36_OJIP_pulse_281\n",
      "../FOLDER_2022_07_28_OJIP_leaf/LEAF3_DO0_green\\2022-07-28_13_36_OJIP_pulse_337\n",
      "../FOLDER_2022_07_28_OJIP_leaf/LEAF3_DO0_green\\2022-07-28_13_37_OJIP_pulse_225\n",
      "../FOLDER_2022_07_28_OJIP_leaf/LEAF3_DO0_green\\2022-07-28_13_38_OJIP_pulse_168\n",
      "../FOLDER_2022_07_28_OJIP_leaf/LEAF3_DO0_green\\2022-07-28_13_39_OJIP_pulse_112\n",
      "../FOLDER_2022_07_28_OJIP_leaf/LEAF3_DO0_green\\2022-07-28_13_39_OJIP_pulse_56\n",
      "../FOLDER_2022_07_28_OJIP_leaf/LEAF3_DO0_green\\2022-07-28_13_40_OJIP_pulse_0\n",
      "../FOLDER_2022_07_28_OJIP_leaf/LEAF3_DO0_green\\2022-07-28_13_41_OJIP_pulse_0\n",
      "../FOLDER_2022_07_28_OJIP_leaf/LEAF3_DO0_green\\2022-07-28_13_42_OJIP_pulse_112\n",
      "../FOLDER_2022_07_28_OJIP_leaf/LEAF3_DO0_green\\2022-07-28_13_42_OJIP_pulse_56\n",
      "../FOLDER_2022_07_28_OJIP_leaf/LEAF3_DO0_green\\2022-07-28_13_43_OJIP_pulse_168\n",
      "../FOLDER_2022_07_28_OJIP_leaf/LEAF3_DO0_green\\2022-07-28_13_44_OJIP_pulse_225\n",
      "../FOLDER_2022_07_28_OJIP_leaf/LEAF3_DO0_green\\2022-07-28_13_44_OJIP_pulse_281\n",
      "../FOLDER_2022_07_28_OJIP_leaf/LEAF3_DO0_green\\2022-07-28_13_45_OJIP_pulse_337\n",
      "../FOLDER_2022_07_28_OJIP_leaf/LEAF3_DO0_green\\2022-07-28_13_46_OJIP_pulse_393\n",
      "../FOLDER_2022_07_28_OJIP_leaf/LEAF3_DO0_green\\2022-07-28_13_47_OJIP_pulse_450\n",
      "../FOLDER_2022_05_09_OJIP_leaf/leaf1/\n",
      "../FOLDER_2022_05_09_OJIP_leaf/leaf1\\2022-05-09_14_00_OJIP_pulse\n"
     ]
    },
    {
     "ename": "IndexError",
     "evalue": "list index out of range",
     "output_type": "error",
     "traceback": [
      "\u001b[1;31m---------------------------------------------------------------------------\u001b[0m",
      "\u001b[1;31mIndexError\u001b[0m                                Traceback (most recent call last)",
      "Input \u001b[1;32mIn [32]\u001b[0m, in \u001b[0;36m<module>\u001b[1;34m\u001b[0m\n\u001b[0;32m     25\u001b[0m \u001b[38;5;28mprint\u001b[39m(f)\n\u001b[0;32m     26\u001b[0m \u001b[38;5;28;01mif\u001b[39;00m \u001b[38;5;124m'\u001b[39m\u001b[38;5;124me_0_\u001b[39m\u001b[38;5;124m'\u001b[39m \u001b[38;5;129;01mnot\u001b[39;00m \u001b[38;5;129;01min\u001b[39;00m f \u001b[38;5;129;01mand\u001b[39;00m \u001b[38;5;124m'\u001b[39m\u001b[38;5;124me_20_\u001b[39m\u001b[38;5;124m'\u001b[39m \u001b[38;5;129;01mnot\u001b[39;00m \u001b[38;5;129;01min\u001b[39;00m f:\n\u001b[1;32m---> 27\u001b[0m     intensity, params, t, y, ypred, voltage, maxi, intensity_purple, \u001b[38;5;28mfilter\u001b[39m \u001b[38;5;241m=\u001b[39m \u001b[43mmultiexp_fit\u001b[49m\u001b[43m(\u001b[49m\u001b[43mf\u001b[49m\u001b[43m,\u001b[49m\u001b[43m \u001b[49m\u001b[43mbode_folder\u001b[49m\u001b[43m \u001b[49m\u001b[38;5;241;43m=\u001b[39;49m\u001b[43m \u001b[49m\u001b[43mbode_list\u001b[49m\u001b[43m[\u001b[49m\u001b[43mi\u001b[49m\u001b[43m]\u001b[49m\u001b[43m)\u001b[49m\n\u001b[0;32m     28\u001b[0m     \u001b[38;5;28;01mif\u001b[39;00m voltage\u001b[38;5;241m>\u001b[39m\u001b[38;5;241m0\u001b[39m \u001b[38;5;129;01mand\u001b[39;00m \u001b[38;5;28mfilter\u001b[39m\u001b[38;5;241m==\u001b[39m\u001b[38;5;241m0\u001b[39m:\n\u001b[0;32m     29\u001b[0m         pos \u001b[38;5;241m=\u001b[39m \u001b[38;5;241m3\u001b[39m\u001b[38;5;241m/\u001b[39mparams[\u001b[38;5;241m2\u001b[39m]\n",
      "Input \u001b[1;32mIn [3]\u001b[0m, in \u001b[0;36mmultiexp_fit\u001b[1;34m(f, N, bode_folder, Nlog)\u001b[0m\n\u001b[0;32m     72\u001b[0m data_sequence \u001b[38;5;241m=\u001b[39m pd\u001b[38;5;241m.\u001b[39mread_csv(file_path)\n\u001b[0;32m     73\u001b[0m amp_seq \u001b[38;5;241m=\u001b[39m pd\u001b[38;5;241m.\u001b[39mread_csv(file2)\n\u001b[1;32m---> 75\u001b[0m V \u001b[38;5;241m=\u001b[39m \u001b[43mVoltageIntensity\u001b[49m\u001b[43m(\u001b[49m\u001b[43mfolder\u001b[49m\u001b[43m \u001b[49m\u001b[38;5;241;43m=\u001b[39;49m\u001b[43m \u001b[49m\u001b[43mbode_folder\u001b[49m\u001b[43m)\u001b[49m\u001b[38;5;66;03m#\"2022-07-28_10_10_bode_diagram\")2022-01-13_12_02_bode_diagram\u001b[39;00m\n\u001b[0;32m     76\u001b[0m intensity \u001b[38;5;241m=\u001b[39m V\u001b[38;5;241m.\u001b[39mget_intensity_voltage(\u001b[38;5;124m'\u001b[39m\u001b[38;5;124mblue\u001b[39m\u001b[38;5;124m'\u001b[39m, \u001b[38;5;28mint\u001b[39m(\u001b[38;5;28mfilter\u001b[39m), voltage\u001b[38;5;241m/\u001b[39m\u001b[38;5;241m100\u001b[39m)\u001b[38;5;241m*\u001b[39m\u001b[38;5;241m1e6\u001b[39m\n\u001b[0;32m     77\u001b[0m intensity_purple\u001b[38;5;241m=\u001b[39m  V\u001b[38;5;241m.\u001b[39mget_intensity_voltage(\u001b[38;5;124m'\u001b[39m\u001b[38;5;124mpurple\u001b[39m\u001b[38;5;124m'\u001b[39m, \u001b[38;5;28mint\u001b[39m(\u001b[38;5;28mfilter\u001b[39m), voltage\u001b[38;5;241m/\u001b[39m\u001b[38;5;241m100\u001b[39m)\u001b[38;5;241m*\u001b[39m\u001b[38;5;241m1e6\u001b[39m\n",
      "File \u001b[1;32mG:\\DREAM\\from_github\\PAMFluo\\Experiments\\FOLDER_2022_07_29_OJIP_leaf\\../..\\VoltageIntensityClass.py:32\u001b[0m, in \u001b[0;36mVoltageIntensity.__init__\u001b[1;34m(self, folder)\u001b[0m\n\u001b[0;32m     27\u001b[0m     \u001b[38;5;28mself\u001b[39m\u001b[38;5;241m.\u001b[39mexperiment_folder \u001b[38;5;241m=\u001b[39m folder        \n\u001b[0;32m     28\u001b[0m \u001b[38;5;66;03m#self.experiment_folder = askdirectory(initialdir = \"G:/DREAM/from_github/PAMFluo/Experiments/\")\u001b[39;00m\n\u001b[0;32m     29\u001b[0m \u001b[38;5;66;03m#print(self.experiment_folder)\u001b[39;00m\n\u001b[0;32m     30\u001b[0m \n\u001b[0;32m     31\u001b[0m \u001b[38;5;66;03m#\"G:\\DREAM/from_github\\PAMFluo\\Experiments/2021-05-19_18_30_bode_diagram\"#askdirectory()\u001b[39;00m\n\u001b[1;32m---> 32\u001b[0m headers, I480 \u001b[38;5;241m=\u001b[39m pandas_to_arrays(\u001b[43mglob\u001b[49m\u001b[38;5;241;43m.\u001b[39;49m\u001b[43mglob\u001b[49m\u001b[43m(\u001b[49m\u001b[38;5;28;43mself\u001b[39;49m\u001b[38;5;241;43m.\u001b[39;49m\u001b[43mexperiment_folder\u001b[49m\u001b[43m \u001b[49m\u001b[38;5;241;43m+\u001b[39;49m\u001b[43m \u001b[49m\u001b[38;5;124;43m\"\u001b[39;49m\u001b[38;5;124;43m/*light_intensity_480.csv\u001b[39;49m\u001b[38;5;124;43m\"\u001b[39;49m\u001b[43m)\u001b[49m\u001b[43m[\u001b[49m\u001b[38;5;241;43m0\u001b[39;49m\u001b[43m]\u001b[49m)\n\u001b[0;32m     33\u001b[0m headers, I405 \u001b[38;5;241m=\u001b[39m pandas_to_arrays(glob\u001b[38;5;241m.\u001b[39mglob(\u001b[38;5;28mself\u001b[39m\u001b[38;5;241m.\u001b[39mexperiment_folder \u001b[38;5;241m+\u001b[39m \u001b[38;5;124m\"\u001b[39m\u001b[38;5;124m/*light_intensity_405.csv\u001b[39m\u001b[38;5;124m\"\u001b[39m)[\u001b[38;5;241m0\u001b[39m])\n\u001b[0;32m     34\u001b[0m \u001b[38;5;28mself\u001b[39m\u001b[38;5;241m.\u001b[39mvoltage \u001b[38;5;241m=\u001b[39m {}\n",
      "\u001b[1;31mIndexError\u001b[0m: list index out of range"
     ]
    },
    {
     "data": {
      "image/png": "[encoded data removed]",
      "text/plain": [
       "<Figure size 368.504x340.157 with 1 Axes>"
      ]
     },
     "metadata": {
      "needs_background": "light"
     },
     "output_type": "display_data"
    }
   ],
   "source": [
    "\n",
    "p.figsize = (10, 10)\n",
    "fig1 = p.set_figure(\"%e\", \"%0.1f\")\n",
    "ax1 = plt.gca()\n",
    "\n",
    "import warnings\n",
    "warnings.filterwarnings(\"ignore\", category=RuntimeWarning) \n",
    "\n",
    "\n",
    "tot_int = {}\n",
    "tot_tau = {}\n",
    "tot_maxi = {}\n",
    "tot_voltage = {}\n",
    "tot_purple = {}\n",
    "\n",
    "\n",
    "for i, folder in enumerate(folder_list): \n",
    "        print(folder)\n",
    "        tot_int[folder] = []\n",
    "        tot_tau[folder] = []\n",
    "        tot_maxi[folder] = []\n",
    "        tot_voltage[folder] = []\n",
    "        tot_purple[folder] = []\n",
    "\n",
    "        for f in glob.glob(folder + \"/*pulse*\"):\n",
    "            print(f)\n",
    "            if 'e_0_' not in f and 'e_20_' not in f:\n",
    "                intensity, params, t, y, ypred, voltage, maxi, intensity_purple, filter = multiexp_fit(f, bode_folder = bode_list[i])\n",
    "                if voltage>0 and filter==0:\n",
    "                    pos = 3/params[2]\n",
    "\n",
    "                    pos_tau = find_nearest(t, pos)\n",
    "\n",
    "                    params = get_fit(y[:pos_tau], t[:pos_tau])\n",
    "                    tot_int[folder].append(intensity)\n",
    "                    tot_tau[folder].append(params)\n",
    "                    tot_maxi[folder].append(maxi)\n",
    "                    tot_voltage[folder].append(voltage)\n",
    "                    tot_purple[folder].append(intensity_purple)\n",
    "        X = np.array(tot_int[folder])\n",
    "        Y = 1/np.array(tot_tau[folder])[:,1]\n",
    "        plt.plot(X, Y, marker[i+3], label = folder)\n",
    "        np.save(\"data_fit\" + os.path.split(os.path.split(folder)[0])[1] + \".npy\", np.array([X,Y])) \n",
    "        plt.legend()  \n",
    "ax1.legend()\n",
    "ax1.set_xlabel(\"time (s)\")\n",
    "ax1.set_ylabel(\"fluorescence transient\")\n",
    "\n",
    "fig1.savefig(\"G:/DREAM/from_github/thesis/Figures/OJIP/tau_curves_OJIP_mutliple_leaves.png\")\n"
   ]
  },
  {
   "cell_type": "code",
   "execution_count": 34,
   "id": "0713d566-8f47-4749-81da-42386b7cd896",
   "metadata": {},
   "outputs": [
    {
     "name": "stderr",
     "output_type": "stream",
     "text": [
      "No artists with labels found to put in legend.  Note that artists whose label start with an underscore are ignored when legend() is called with no argument.\n",
      "No artists with labels found to put in legend.  Note that artists whose label start with an underscore are ignored when legend() is called with no argument.\n",
      "No artists with labels found to put in legend.  Note that artists whose label start with an underscore are ignored when legend() is called with no argument.\n",
      "No artists with labels found to put in legend.  Note that artists whose label start with an underscore are ignored when legend() is called with no argument.\n",
      "No artists with labels found to put in legend.  Note that artists whose label start with an underscore are ignored when legend() is called with no argument.\n",
      "No artists with labels found to put in legend.  Note that artists whose label start with an underscore are ignored when legend() is called with no argument.\n",
      "No artists with labels found to put in legend.  Note that artists whose label start with an underscore are ignored when legend() is called with no argument.\n",
      "No artists with labels found to put in legend.  Note that artists whose label start with an underscore are ignored when legend() is called with no argument.\n",
      "No artists with labels found to put in legend.  Note that artists whose label start with an underscore are ignored when legend() is called with no argument.\n",
      "No artists with labels found to put in legend.  Note that artists whose label start with an underscore are ignored when legend() is called with no argument.\n",
      "No artists with labels found to put in legend.  Note that artists whose label start with an underscore are ignored when legend() is called with no argument.\n",
      "No artists with labels found to put in legend.  Note that artists whose label start with an underscore are ignored when legend() is called with no argument.\n",
      "No artists with labels found to put in legend.  Note that artists whose label start with an underscore are ignored when legend() is called with no argument.\n",
      "No artists with labels found to put in legend.  Note that artists whose label start with an underscore are ignored when legend() is called with no argument.\n",
      "No artists with labels found to put in legend.  Note that artists whose label start with an underscore are ignored when legend() is called with no argument.\n",
      "No artists with labels found to put in legend.  Note that artists whose label start with an underscore are ignored when legend() is called with no argument.\n",
      "No artists with labels found to put in legend.  Note that artists whose label start with an underscore are ignored when legend() is called with no argument.\n",
      "No artists with labels found to put in legend.  Note that artists whose label start with an underscore are ignored when legend() is called with no argument.\n",
      "No artists with labels found to put in legend.  Note that artists whose label start with an underscore are ignored when legend() is called with no argument.\n",
      "No artists with labels found to put in legend.  Note that artists whose label start with an underscore are ignored when legend() is called with no argument.\n",
      "No artists with labels found to put in legend.  Note that artists whose label start with an underscore are ignored when legend() is called with no argument.\n",
      "No artists with labels found to put in legend.  Note that artists whose label start with an underscore are ignored when legend() is called with no argument.\n",
      "No artists with labels found to put in legend.  Note that artists whose label start with an underscore are ignored when legend() is called with no argument.\n",
      "No artists with labels found to put in legend.  Note that artists whose label start with an underscore are ignored when legend() is called with no argument.\n",
      "No artists with labels found to put in legend.  Note that artists whose label start with an underscore are ignored when legend() is called with no argument.\n",
      "No artists with labels found to put in legend.  Note that artists whose label start with an underscore are ignored when legend() is called with no argument.\n",
      "No artists with labels found to put in legend.  Note that artists whose label start with an underscore are ignored when legend() is called with no argument.\n",
      "No artists with labels found to put in legend.  Note that artists whose label start with an underscore are ignored when legend() is called with no argument.\n",
      "No artists with labels found to put in legend.  Note that artists whose label start with an underscore are ignored when legend() is called with no argument.\n",
      "No artists with labels found to put in legend.  Note that artists whose label start with an underscore are ignored when legend() is called with no argument.\n",
      "No artists with labels found to put in legend.  Note that artists whose label start with an underscore are ignored when legend() is called with no argument.\n",
      "No artists with labels found to put in legend.  Note that artists whose label start with an underscore are ignored when legend() is called with no argument.\n",
      "No artists with labels found to put in legend.  Note that artists whose label start with an underscore are ignored when legend() is called with no argument.\n",
      "No artists with labels found to put in legend.  Note that artists whose label start with an underscore are ignored when legend() is called with no argument.\n"
     ]
    },
    {
     "data": {
      "image/png": "[encoded data removed]",
      "text/plain": [
       "<Figure size 368.504x340.157 with 1 Axes>"
      ]
     },
     "metadata": {
      "needs_background": "light"
     },
     "output_type": "display_data"
    },
    {
     "data": {
      "text/plain": [
       "<Figure size 432x288 with 0 Axes>"
      ]
     },
     "metadata": {},
     "output_type": "display_data"
    },
    {
     "data": {
      "image/png": "[encoded data removed]",
      "text/plain": [
       "<Figure size 368.504x340.157 with 1 Axes>"
      ]
     },
     "metadata": {
      "needs_background": "light"
     },
     "output_type": "display_data"
    },
    {
     "data": {
      "text/plain": [
       "<Figure size 432x288 with 0 Axes>"
      ]
     },
     "metadata": {},
     "output_type": "display_data"
    }
   ],
   "source": [
    "for ind in [0,1]:\n",
    "    p.figsize = (10, 10)\n",
    "    fig1 = p.set_figure(\"%d\", \"%d\")\n",
    "    ax1 = plt.gca()\n",
    "\n",
    "    for i, file in enumerate(data_list):\n",
    "        if marker_spe[i]==\"<\" and  i<6:\n",
    "            [X,Y] = np.load(\"data_fit/\" + file + \".npy\")\n",
    "            if ind:\n",
    "                plt.scatter(X, Y, marker= marker[i], edgecolors = \"k\", facecolors=\"none\", label = \"leaf %d\"%i)\n",
    "            else: \n",
    "                plt.scatter(X, Y, marker= marker[i], edgecolors = \"k\", facecolors=\"none\", label =  \"leaf %d\"%i)\n",
    "\n",
    "            plt.legend()  \n",
    "        ax1.legend(prop={\"size\":15})\n",
    "        ax1.set_xlabel(label_intensity)\n",
    "        ax1.set_ylabel(p.label_tau)\n",
    "    if ind:\n",
    "        p.save_name = \"tau_curves_OJIP_young_leaves\"\n",
    "        p.saving(fig1)\n",
    "    else: \n",
    "        p.save_name = 'tau_curves_OJIP_young_leaves_loglog'\n",
    "        p.saving(fig1)\n",
    "\n"
   ]
  },
  {
   "cell_type": "code",
   "execution_count": 35,
   "id": "33dd705b-5c8c-49d2-8b5a-7c97550afbb7",
   "metadata": {},
   "outputs": [
    {
     "ename": "NameError",
     "evalue": "name 'label_tau' is not defined",
     "output_type": "error",
     "traceback": [
      "\u001b[1;31m---------------------------------------------------------------------------\u001b[0m",
      "\u001b[1;31mNameError\u001b[0m                                 Traceback (most recent call last)",
      "Input \u001b[1;32mIn [35]\u001b[0m, in \u001b[0;36m<module>\u001b[1;34m\u001b[0m\n\u001b[0;32m     21\u001b[0m     \u001b[38;5;66;03m#ax1.legend(prop={\"size\":15})\u001b[39;00m\n\u001b[0;32m     22\u001b[0m     ax1\u001b[38;5;241m.\u001b[39mset_xlabel(label_intensity)\n\u001b[1;32m---> 23\u001b[0m     ax1\u001b[38;5;241m.\u001b[39mset_ylabel(\u001b[43mlabel_tau\u001b[49m)\n\u001b[0;32m     25\u001b[0m \u001b[38;5;28;01mif\u001b[39;00m ind:\n\u001b[0;32m     26\u001b[0m     p\u001b[38;5;241m.\u001b[39msave_name \u001b[38;5;241m=\u001b[39m \u001b[38;5;124m\"\u001b[39m\u001b[38;5;124mtau_curves_OJIP_PAs\u001b[39m\u001b[38;5;124m\"\u001b[39m\n",
      "\u001b[1;31mNameError\u001b[0m: name 'label_tau' is not defined"
     ]
    },
    {
     "data": {
      "image/png": "[encoded data removed]",
      "text/plain": [
       "<Figure size 368.504x340.157 with 1 Axes>"
      ]
     },
     "metadata": {
      "needs_background": "light"
     },
     "output_type": "display_data"
    }
   ],
   "source": [
    "x = []\n",
    "y  =  []\n",
    "for ind in [0,1]:\n",
    "    p.figsize = (10, 11)\n",
    "    fig1 = p.set_figure(\"%d\", \"%d\")\n",
    "    ax1 = plt.gca()\n",
    "\n",
    "    for i, file in enumerate(data_list):\n",
    "        \n",
    "        [X,Y] = np.load(\"data_fit/\" + file + \".npy\")\n",
    "        x.append(X)\n",
    "        y.append(Y)\n",
    "        kept = X>500\n",
    "        X = X[kept]\n",
    "        Y=Y[kept]\n",
    "        if ind:\n",
    "            plt.plot(X, Y, marker= marker_spe[i], linestyle=\"\", markersize=4, markeredgewidth=0.5, markeredgecolor = \"k\", markerfacecolor=\"none\", label = \"leaf %d\"%i)\n",
    "        else: \n",
    "            plt.plot(X, Y, marker= marker_spe[i], linestyle=\"\", markersize=4, markeredgewidth=0.5, markeredgecolor = \"k\", markerfacecolor=\"none\", label =  \"leaf %d\"%i)\n",
    "\n",
    "        #ax1.legend(prop={\"size\":15})\n",
    "        ax1.set_xlabel(label_intensity)\n",
    "        ax1.set_ylabel(label_tau)\n",
    "\n",
    "    if ind:\n",
    "        p.save_name = \"tau_curves_OJIP_PAs\"\n",
    "        p.saving(fig1)\n",
    "    else: \n",
    "        p.save_name = 'tau_curves_OJIP_PAs_loglog'\n",
    "        p.saving(fig1)\n",
    "\n"
   ]
  },
  {
   "cell_type": "code",
   "execution_count": null,
   "id": "9949bf0d-bce3-4b01-a885-361e0139ccc0",
   "metadata": {},
   "outputs": [],
   "source": [
    "x = np.concatenate(x)\n",
    "y = np.concatenate(y)"
   ]
  },
  {
   "cell_type": "code",
   "execution_count": null,
   "id": "2181f1dc-6c46-46b4-99cd-c96b55bc457c",
   "metadata": {},
   "outputs": [],
   "source": [
    "plt.figure()\n",
    "sigma = []\n",
    "for file in data_list: \n",
    "    [X,Y] = np.load(\"data_fit/\" + file + \".npy\")\n",
    "\n",
    "    plt.scatter(X,Y)\n",
    "    Yreg, a, results = regression_linear(X,Y)\n",
    "    #plt.plot(x,Yreg, label = \"a=%0.2e, r²=%0.2f\"%(a, results.rsquared))\n",
    "    #plt.legend()\n",
    "    sigma.append(a[0])"
   ]
  },
  {
   "cell_type": "code",
   "execution_count": null,
   "id": "9a29435e-2b66-462b-9a76-ff9bf2f4d6cb",
   "metadata": {},
   "outputs": [],
   "source": [
    "p.save_folder"
   ]
  },
  {
   "cell_type": "code",
   "execution_count": null,
   "id": "7f6a8839-f5db-4ea2-be94-6c42dd89b090",
   "metadata": {},
   "outputs": [],
   "source": [
    "fig = p.set_figure(\"%0.1f\", \"%d\")\n",
    "ax = plt.gca()\n",
    "\n",
    "p.save_name = \"chlorophyll_sigma_hist\"\n",
    "p.extension = \".png\"\n",
    "plt.xlabel(r\"$\\sigma_{PA,470}$ ($\\mathrm{10^6 m^2.mol^{-1}}$)\")\n",
    "plt.ylabel(\"\")\n",
    "\n",
    "_, bins, _ = plt.hist(np.array(sigma), bins=10, range = [0,2.5], density= False, alpha=1, facecolor = \"white\", edgecolor = \"black\")\n",
    "\n",
    "\n",
    "p.saving(fig)\n",
    "print(np.mean(sigma))\n",
    "print(np.std(sigma)*2)\n"
   ]
  },
  {
   "cell_type": "markdown",
   "id": "0c1da4a5-d7e0-414e-be7b-e3bf1fb16f5c",
   "metadata": {},
   "source": [
    "## wide filter range"
   ]
  },
  {
   "cell_type": "code",
   "execution_count": null,
   "id": "7392b632-6b57-487c-ae99-426a67deeac9",
   "metadata": {},
   "outputs": [],
   "source": [
    "folder_list = [\"LEAF4_blue_665_657_filter_012\"]\n",
    "\n",
    "p.figsize = (10, 10)\n",
    "fig1 = p.set_figure(\"%e\", \"%0.1f\")\n",
    "ax1 = plt.gca()\n",
    "fig2 = p.set_figure(\"%0.2f\", \"%0.1f\")\n",
    "ax2 = plt.gca()\n",
    "\n",
    "intensity_list = []\n",
    "tau_list = []\n",
    "voltage_list  = []\n",
    "for N in [50, 10]:\n",
    "    for i, folder in enumerate(folder_list): \n",
    "        print(folder)\n",
    "        for j, f in enumerate(glob.glob(folder + \"/*pulse*\")):\n",
    "\n",
    "            if 'e_0_' not in f:\n",
    "                print(f)\n",
    "                intensity, params, t, y, ypred, voltage, maxi, purple, filter = multiexp_fit(f, N=N)\n",
    "\n",
    "                intensity_list.append(intensity)\n",
    "                voltage_list.append(voltage)\n",
    "                \n",
    "                if N==50 and j%2==0:\n",
    "                    ax1.semilogx(t, y, c =  \"grey\")\n",
    "                    ax1.annotate(i, (t[5],y[6]), xycoords = \"data\")\n",
    "                    ax1.semilogx(t, ypred, c = \"k\")\n",
    "\n",
    "                #ax1.plot(t, y, c =  \"grey\", label = f[0:5])\n",
    "                #ax1.plot(t, ypred, c = \"k\")\n",
    "\n",
    "                if N==10:\n",
    "                    pos = 3/params[2]\n",
    "                    #if pos < 5e-4:\n",
    "                    #    pos = 5e-4\n",
    "                    #ax1.scatter(pos, sigmoidal_OJIP(params, pos), c = 'k', s = 300)\n",
    "                    pos_tau = find_nearest(t, pos)\n",
    "                    params = get_fit(y[:pos_tau], t[:pos_tau])\n",
    "\n",
    "                    D = 400\n",
    "                    pos_tau = find_nearest(t, D*params[1])\n",
    "                    #ax2.semilogx(t[:pos_tau*D], y[:pos_tau*D], c=\"grey\")\n",
    "                    ypred =  exp_decay(params, t[:pos_tau*D])\n",
    "                    tau_list.append(params[1])\n",
    "                    if j%2==0:\n",
    "                        ax1.semilogx(t[:pos_tau*D],ypred, c=\"k\")\n",
    "                    #ax2.annotate(i, (t[0],ypred[1]), xycoords = \"data\")\n",
    "\n",
    "\n",
    "                    #plt.scatter(intensity, 1/params[1])\n",
    "    ax1.legend()\n",
    "    ax1.set_xlabel(\"$t$ (s)\")\n",
    "    ax1.set_ylabel(\"$F(t)$ (a.u.)\")\n",
    "    ax2.set_xlabel(\"$t$ (s)\")\n",
    "    ax2.set_ylabel(\"$F(t)$ (a.u.)\")\n",
    "    if N==50:\n",
    "        fig1.savefig(p.save_folder + \"fits_widerange_JC.png\")\n",
    "    if N==10:\n",
    "        fig2.savefig(p.save_folder + \"/fits_widerange_exp.png\")"
   ]
  },
  {
   "cell_type": "code",
   "execution_count": null,
   "id": "03daec54-c8c3-41da-b793-bfa5d4a93154",
   "metadata": {},
   "outputs": [],
   "source": [
    "intensity_list = np.array(intensity_list[0:len(tau_list)])\n",
    "tau_list = np.array(tau_list)\n",
    "ind = (np.array(voltage_list[0:len(tau_list)])>0)*(1/tau_list<1e5)\n",
    "\n",
    "X = intensity_list[ind]\n",
    "Y = 1/np.array(tau_list)[ind]\n",
    "\n",
    "Yreg, a, results = regression_linear(X,Y)\n",
    "\n",
    "fig = p.set_figure()\n",
    "plt.xlabel(label_intensity)\n",
    "plt.ylabel(label_tau)\n",
    "plt.loglog(X, Yreg, 'k')\n",
    "plt.loglog(X, Y, 'ok')\n",
    "p.save_name = \"wide_range_intensity_leaf\"\n",
    "p.saving(fig)\n",
    "results.summary()"
   ]
  },
  {
   "cell_type": "code",
   "execution_count": null,
   "id": "1de8199e-0ded-4e9c-a73a-fd44c9d498d1",
   "metadata": {},
   "outputs": [],
   "source": [
    "X"
   ]
  },
  {
   "cell_type": "code",
   "execution_count": null,
   "id": "5e9e7125-b7ff-48b2-a8f2-c12b97fb91c8",
   "metadata": {},
   "outputs": [],
   "source": [
    "len(tau_list)"
   ]
  },
  {
   "cell_type": "code",
   "execution_count": null,
   "id": "5fb5fe73-11b3-4a2a-ae0b-614d09c5827a",
   "metadata": {},
   "outputs": [],
   "source": []
  }
 ],
 "metadata": {
  "kernelspec": {
   "display_name": "Python 3 (ipykernel)",
   "language": "python",
   "name": "python3"
  },
  "language_info": {
   "codemirror_mode": {
    "name": "ipython",
    "version": 3
   },
   "file_extension": ".py",
   "mimetype": "text/x-python",
   "name": "python",
   "nbconvert_exporter": "python",
   "pygments_lexer": "ipython3",
   "version": "3.9.10"
  }
 },
 "nbformat": 4,
 "nbformat_minor": 5
}
