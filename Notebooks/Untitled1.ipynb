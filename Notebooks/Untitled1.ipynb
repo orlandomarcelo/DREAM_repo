{
 "cells": [
  {
   "cell_type": "code",
   "execution_count": null,
   "id": "4fc639a9-1cc2-41d6-8b80-10c43b7fa61e",
   "metadata": {},
   "outputs": [],
   "source": [
    "import serial\n",
    "import math\n",
    "import time\n",
    "\n",
    "# Define the frequency and amplitude of the sinus function\n",
    "freq = 1  # in Hz\n",
    "amp = 128  # max PWM value is 255, so set amplitude to half\n",
    "\n",
    "# Initialize the serial connection to the Arduino\n",
    "ser = serial.Serial('COM3', 9600)  # Change 'COM3' to the serial port of your Arduino\n",
    "\n",
    "# Define the sinus function to generate the PWM value for the LED\n",
    "def sin_wave(t):\n",
    "    return int(amp * math.sin(2 * math.pi * freq * t) + amp)\n",
    "\n",
    "# Loop forever, sending PWM values to the Arduino to control the LED\n",
    "t = 0\n",
    "while True:\n",
    "    pwm_val = sin_wave(t)\n",
    "    ser.write(bytes(str(pwm_val) + '\\n', 'utf-8'))  # Send the PWM value to the Arduino\n",
    "    t += 1/60  # Increment time by 1/60 of a second (60 Hz refresh rate)\n",
    "    time.sleep(1/60)  # Wait for 1/60 of a second before sending the next PWM value\n"
   ]
  }
 ],
 "metadata": {
  "kernelspec": {
   "display_name": "Python 3 (ipykernel)",
   "language": "python",
   "name": "python3"
  },
  "language_info": {
   "codemirror_mode": {
    "name": "ipython",
    "version": 3
   },
   "file_extension": ".py",
   "mimetype": "text/x-python",
   "name": "python",
   "nbconvert_exporter": "python",
   "pygments_lexer": "ipython3",
   "version": "3.9.12"
  }
 },
 "nbformat": 4,
 "nbformat_minor": 5
}
