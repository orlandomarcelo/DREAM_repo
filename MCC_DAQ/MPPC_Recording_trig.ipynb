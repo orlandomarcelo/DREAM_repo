{
 "cells": [
  {
   "cell_type": "code",
   "execution_count": 1,
   "id": "7f9daf91",
   "metadata": {},
   "outputs": [],
   "source": [
    "########################################################################\n",
    "#####                   DREAM - MPPC Recording                     #####\n",
    "########################################################################"
   ]
  },
  {
   "cell_type": "code",
   "execution_count": 1,
   "id": "393a94dd",
   "metadata": {},
   "outputs": [],
   "source": [
    "##### Import Libraries\n",
    "import numpy as np\n",
    "import pandas as pd\n",
    "import time\n",
    "import os\n",
    "import pickle\n",
    "import matplotlib.pyplot as plt\n",
    "import datetime\n",
    "from mcculw import ul\n",
    "from ctypes import cast, POINTER, c_double, c_ushort, c_ulong \n",
    "from mcculw.enums import (ScanOptions, FunctionType, Status, ChannelType, \n",
    "    DigitalPortType, ULRange, TriggerSource, TriggerSensitivity, TriggerEvent, \n",
    "    DigitalIODirection, TimerIdleState, PulseOutOptions, TrigType)\n",
    "from mcculw.device_info import DaqDeviceInfo\n",
    "\n",
    "try:\n",
    "    from console_examples_util import config_first_detected_device\n",
    "except ImportError:\n",
    "    from console_examples_util import config_first_detected_device"
   ]
  },
  {
   "cell_type": "code",
   "execution_count": 2,
   "id": "587d4d39",
   "metadata": {},
   "outputs": [],
   "source": [
    "########################################################\n",
    "##### SETUP EQUIPMENT\n",
    "\n",
    "##### Connect to the DAQ Card\n",
    "board_num = 0\n",
    "daq_dev_info = DaqDeviceInfo(board_num = 0)\n",
    "\n",
    "##### Setup DAQ for analog input\n",
    "ai_info = daq_dev_info.get_ai_info()\n",
    "ai_range = ai_info.supported_ranges[2]"
   ]
  },
  {
   "cell_type": "code",
   "execution_count": 3,
   "id": "de528480",
   "metadata": {},
   "outputs": [],
   "source": [
    "## Set the scan options\n",
    "#scan_options_AI = ScanOptions.BACKGROUND  | ScanOptions.EXTTRIGGER\n",
    "scan_options_AI = ScanOptions.BACKGROUND"
   ]
  },
  {
   "cell_type": "code",
   "execution_count": 4,
   "id": "3a8b0651",
   "metadata": {},
   "outputs": [
    {
     "data": {
      "text/html": [
       "<div>\n",
       "<style scoped>\n",
       "    .dataframe tbody tr th:only-of-type {\n",
       "        vertical-align: middle;\n",
       "    }\n",
       "\n",
       "    .dataframe tbody tr th {\n",
       "        vertical-align: top;\n",
       "    }\n",
       "\n",
       "    .dataframe thead th {\n",
       "        text-align: right;\n",
       "    }\n",
       "</style>\n",
       "<table border=\"1\" class=\"dataframe\">\n",
       "  <thead>\n",
       "    <tr style=\"text-align: right;\">\n",
       "      <th></th>\n",
       "      <th>frequency</th>\n",
       "      <th>time_DAQ</th>\n",
       "      <th>DAQ_rate</th>\n",
       "    </tr>\n",
       "  </thead>\n",
       "  <tbody>\n",
       "    <tr>\n",
       "      <th>0</th>\n",
       "      <td>128.000000</td>\n",
       "      <td>0.75</td>\n",
       "      <td>1280.000000</td>\n",
       "    </tr>\n",
       "    <tr>\n",
       "      <th>1</th>\n",
       "      <td>64.000000</td>\n",
       "      <td>1.50</td>\n",
       "      <td>640.000000</td>\n",
       "    </tr>\n",
       "    <tr>\n",
       "      <th>2</th>\n",
       "      <td>32.000000</td>\n",
       "      <td>3.00</td>\n",
       "      <td>320.000000</td>\n",
       "    </tr>\n",
       "    <tr>\n",
       "      <th>3</th>\n",
       "      <td>16.000000</td>\n",
       "      <td>6.00</td>\n",
       "      <td>160.000000</td>\n",
       "    </tr>\n",
       "    <tr>\n",
       "      <th>4</th>\n",
       "      <td>8.000000</td>\n",
       "      <td>12.00</td>\n",
       "      <td>80.000000</td>\n",
       "    </tr>\n",
       "    <tr>\n",
       "      <th>5</th>\n",
       "      <td>4.000000</td>\n",
       "      <td>24.00</td>\n",
       "      <td>40.000000</td>\n",
       "    </tr>\n",
       "    <tr>\n",
       "      <th>6</th>\n",
       "      <td>2.000000</td>\n",
       "      <td>48.00</td>\n",
       "      <td>20.000000</td>\n",
       "    </tr>\n",
       "    <tr>\n",
       "      <th>7</th>\n",
       "      <td>1.000000</td>\n",
       "      <td>96.00</td>\n",
       "      <td>10.000000</td>\n",
       "    </tr>\n",
       "    <tr>\n",
       "      <th>8</th>\n",
       "      <td>0.500000</td>\n",
       "      <td>192.00</td>\n",
       "      <td>5.000000</td>\n",
       "    </tr>\n",
       "    <tr>\n",
       "      <th>9</th>\n",
       "      <td>0.250000</td>\n",
       "      <td>384.00</td>\n",
       "      <td>2.500000</td>\n",
       "    </tr>\n",
       "    <tr>\n",
       "      <th>10</th>\n",
       "      <td>0.125000</td>\n",
       "      <td>448.00</td>\n",
       "      <td>1.250000</td>\n",
       "    </tr>\n",
       "    <tr>\n",
       "      <th>11</th>\n",
       "      <td>0.062500</td>\n",
       "      <td>896.00</td>\n",
       "      <td>0.625000</td>\n",
       "    </tr>\n",
       "    <tr>\n",
       "      <th>12</th>\n",
       "      <td>0.031250</td>\n",
       "      <td>992.00</td>\n",
       "      <td>0.312500</td>\n",
       "    </tr>\n",
       "    <tr>\n",
       "      <th>13</th>\n",
       "      <td>0.015625</td>\n",
       "      <td>1152.00</td>\n",
       "      <td>0.156250</td>\n",
       "    </tr>\n",
       "    <tr>\n",
       "      <th>14</th>\n",
       "      <td>0.007812</td>\n",
       "      <td>2304.00</td>\n",
       "      <td>0.078125</td>\n",
       "    </tr>\n",
       "  </tbody>\n",
       "</table>\n",
       "</div>"
      ],
      "text/plain": [
       "     frequency  time_DAQ     DAQ_rate\n",
       "0   128.000000      0.75  1280.000000\n",
       "1    64.000000      1.50   640.000000\n",
       "2    32.000000      3.00   320.000000\n",
       "3    16.000000      6.00   160.000000\n",
       "4     8.000000     12.00    80.000000\n",
       "5     4.000000     24.00    40.000000\n",
       "6     2.000000     48.00    20.000000\n",
       "7     1.000000     96.00    10.000000\n",
       "8     0.500000    192.00     5.000000\n",
       "9     0.250000    384.00     2.500000\n",
       "10    0.125000    448.00     1.250000\n",
       "11    0.062500    896.00     0.625000\n",
       "12    0.031250    992.00     0.312500\n",
       "13    0.015625   1152.00     0.156250\n",
       "14    0.007812   2304.00     0.078125"
      ]
     },
     "execution_count": 4,
     "metadata": {},
     "output_type": "execute_result"
    }
   ],
   "source": [
    "acquisition_settings = {\n",
    "    'frequency': [128, 64, 32, 16, 8, 4, 2, 1, 0.5, 0.25, 0.125, 0.0625, 0.03125, 0.015625, 0.0078125],\n",
    "    'time_DAQ': [0.75, 1.5, 3, 6, 12, 24, 48, 96, 192, 384, 448, 896, 992, 1152, 2304],\n",
    "    'DAQ_rate': [1280, 640, 320, 160, 80, 40, 20, 10, 5, 2.5, 1.25, 0.625, 0.3125, 0.15625, 0.078125]\n",
    "}\n",
    "acquisition_settings = pd.DataFrame(acquisition_settings)\n",
    "acquisition_settings"
   ]
  },
  {
   "cell_type": "code",
   "execution_count": 4,
   "id": "6f7d9800",
   "metadata": {},
   "outputs": [],
   "source": [
    "DAQ_Rate = 10 # [Hz]\n",
    "Exp_Duration = 10 #[s]\n",
    "total_count = int(DAQ_Rate * Exp_Duration) + 1\n",
    "EXPNAME = \"Test\""
   ]
  },
  {
   "cell_type": "code",
   "execution_count": 16,
   "id": "355a2e07",
   "metadata": {},
   "outputs": [
    {
     "data": {
      "text/plain": [
       "10"
      ]
     },
     "execution_count": 16,
     "metadata": {},
     "output_type": "execute_result"
    }
   ],
   "source": [
    "DAQ_Rate"
   ]
  },
  {
   "cell_type": "code",
   "execution_count": 5,
   "id": "7f20889c",
   "metadata": {},
   "outputs": [],
   "source": [
    "frequency = 4 # [Hz]\n",
    "\n",
    "DAQ_Rate = acquisition_settings.loc[acquisition_settings['frequency'] == frequency, 'DAQ_rate'].values[0]\n",
    "Exp_Duration = acquisition_settings.loc[acquisition_settings['frequency'] == frequency, 'time_DAQ'].values[0]\n",
    "total_count = int(DAQ_Rate * Exp_Duration) + 1\n",
    "EXPNAME = f\"f_{frequency}_Hz\""
   ]
  },
  {
   "cell_type": "code",
   "execution_count": 6,
   "id": "5ab3cfff",
   "metadata": {},
   "outputs": [
    {
     "data": {
      "text/plain": [
       "101"
      ]
     },
     "execution_count": 6,
     "metadata": {},
     "output_type": "execute_result"
    }
   ],
   "source": [
    "total_count"
   ]
  },
  {
   "cell_type": "code",
   "execution_count": 5,
   "id": "a9875114",
   "metadata": {},
   "outputs": [],
   "source": [
    "## Allocate a buffer for the input\n",
    "\n",
    "if ai_info.resolution <= 16:\n",
    "    # Use the win_buf_alloc method for devices with a resolution <= 16\n",
    "    memhandle_AI = ul.win_buf_alloc(total_count)\n",
    "    # Convert the memhandle to a ctypes array.\n",
    "    ctypes_array_AI = cast(memhandle_AI, POINTER(c_ushort))\n",
    "else:\n",
    "    # Use the win_buf_alloc_32 method for devices with a resolution > 16\n",
    "    memhandle_AI = ul.win_buf_alloc_32(total_count)\n",
    "    # Convert the memhandle to a ctypes array.\n",
    "    ctypes_array_AI = cast(memhandle_AI, POINTER(c_ulong))\n",
    "\n",
    "if not memhandle_AI:\n",
    "    raise Exception('Error: Failed to allocate memory')\n"
   ]
  },
  {
   "cell_type": "markdown",
   "id": "80555a8c",
   "metadata": {},
   "source": [
    "## RUN EXPERIMENT"
   ]
  },
  {
   "cell_type": "code",
   "execution_count": 8,
   "id": "9c34725e",
   "metadata": {},
   "outputs": [],
   "source": [
    "## Start the timer, which will start and pace AO and AI\n",
    "scan = (board_num, 3, 3, (total_count), DAQ_Rate, ai_range, memhandle_AI, scan_options_AI)\n",
    "\n",
    "## Wait until AI Finishes\n",
    "status, curr_count, curr_index = ul.get_status(board_num, FunctionType.AIFUNCTION)\n",
    "while status != Status.IDLE:\n",
    "    time.sleep(0.5)\n",
    "    status, curr_count, curr_index = ul.get_status(\n",
    "            board_num, FunctionType.AIFUNCTION)"
   ]
  },
  {
   "cell_type": "code",
   "execution_count": 9,
   "id": "02b2f338",
   "metadata": {},
   "outputs": [],
   "source": [
    "points = []\n",
    "for i in range(total_count):\n",
    "    eng_value = ul.to_eng_units(board_num, ai_range, ctypes_array_AI[i])\n",
    "    points.append(eng_value)\n",
    "DAQ_signal = np.array(points)\n",
    "time_stamps = np.arange(0, Exp_Duration + 1/DAQ_Rate, 1/DAQ_Rate)"
   ]
  },
  {
   "cell_type": "code",
   "execution_count": 10,
   "id": "17d5e88d",
   "metadata": {},
   "outputs": [
    {
     "data": {
      "text/plain": [
       "array([ 0. ,  0.1,  0.2,  0.3,  0.4,  0.5,  0.6,  0.7,  0.8,  0.9,  1. ,\n",
       "        1.1,  1.2,  1.3,  1.4,  1.5,  1.6,  1.7,  1.8,  1.9,  2. ,  2.1,\n",
       "        2.2,  2.3,  2.4,  2.5,  2.6,  2.7,  2.8,  2.9,  3. ,  3.1,  3.2,\n",
       "        3.3,  3.4,  3.5,  3.6,  3.7,  3.8,  3.9,  4. ,  4.1,  4.2,  4.3,\n",
       "        4.4,  4.5,  4.6,  4.7,  4.8,  4.9,  5. ,  5.1,  5.2,  5.3,  5.4,\n",
       "        5.5,  5.6,  5.7,  5.8,  5.9,  6. ,  6.1,  6.2,  6.3,  6.4,  6.5,\n",
       "        6.6,  6.7,  6.8,  6.9,  7. ,  7.1,  7.2,  7.3,  7.4,  7.5,  7.6,\n",
       "        7.7,  7.8,  7.9,  8. ,  8.1,  8.2,  8.3,  8.4,  8.5,  8.6,  8.7,\n",
       "        8.8,  8.9,  9. ,  9.1,  9.2,  9.3,  9.4,  9.5,  9.6,  9.7,  9.8,\n",
       "        9.9, 10. ])"
      ]
     },
     "execution_count": 10,
     "metadata": {},
     "output_type": "execute_result"
    }
   ],
   "source": [
    "time_stamps"
   ]
  },
  {
   "cell_type": "code",
   "execution_count": 11,
   "id": "45574615",
   "metadata": {},
   "outputs": [],
   "source": [
    "# DataFolderName = \"C:/Users/Orlando/ownCloud - ORLANDO Marcelo@mycore.cnrs.fr/Doutorado/Dados experimentais/MCC_DAQ/\" + datetime.datetime.now().strftime('%Y-%m-%d_%H-%M-%S') + \"_\" + str(EXPNAME)\n",
    "# os.makedirs(DataFolderName)\n",
    "# pickle.dump(DAQ_signal, open(DataFolderName + \"/MPPCSignal.p\", \"wb\" ))"
   ]
  },
  {
   "cell_type": "code",
   "execution_count": 12,
   "id": "3eaa9e19",
   "metadata": {},
   "outputs": [
    {
     "data": {
      "text/plain": [
       "101"
      ]
     },
     "execution_count": 12,
     "metadata": {},
     "output_type": "execute_result"
    }
   ],
   "source": [
    "len(DAQ_signal)"
   ]
  },
  {
   "cell_type": "code",
   "execution_count": 13,
   "id": "459f22d0",
   "metadata": {},
   "outputs": [
    {
     "data": {
      "text/plain": [
       "[<matplotlib.lines.Line2D at 0x23468eadf10>]"
      ]
     },
     "execution_count": 13,
     "metadata": {},
     "output_type": "execute_result"
    },
    {
     "data": {
      "application/vnd.jupyter.widget-view+json": {
       "model_id": "e2a513540c114656a8b79109c1a6b8eb",
       "version_major": 2,
       "version_minor": 0
      },
      "image/png": "[encoded data removed]",
      "text/html": [
       "\n",
       "            <div style=\"display: inline-block;\">\n",
       "                <div class=\"jupyter-widgets widget-label\" style=\"text-align: center;\">\n",
       "                    Figure\n",
       "                </div>\n",
       "                <img src='data:image/png;base64,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' width=640.0/>\n",
       "            </div>\n",
       "        "
      ],
      "text/plain": [
       "Canvas(toolbar=Toolbar(toolitems=[('Home', 'Reset original view', 'home', 'home'), ('Back', 'Back to previous …"
      ]
     },
     "metadata": {},
     "output_type": "display_data"
    }
   ],
   "source": [
    "%matplotlib widget\n",
    "fig, ax = plt.subplots()\n",
    "ax.plot(time_stamps, DAQ_signal, 'o')"
   ]
  },
  {
   "cell_type": "code",
   "execution_count": null,
   "id": "980a4c3c",
   "metadata": {},
   "outputs": [],
   "source": []
  }
 ],
 "metadata": {
  "kernelspec": {
   "display_name": "Python 3 (ipykernel)",
   "language": "python",
   "name": "python3"
  },
  "language_info": {
   "codemirror_mode": {
    "name": "ipython",
    "version": 3
   },
   "file_extension": ".py",
   "mimetype": "text/x-python",
   "name": "python",
   "nbconvert_exporter": "python",
   "pygments_lexer": "ipython3",
   "version": "3.9.12"
  }
 },
 "nbformat": 4,
 "nbformat_minor": 5
}
